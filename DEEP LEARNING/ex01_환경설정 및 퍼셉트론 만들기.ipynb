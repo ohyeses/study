{
 "cells": [
  {
   "cell_type": "markdown",
   "id": "experimental-wales",
   "metadata": {},
   "source": [
    "### 환경 보기ㅡ"
   ]
  },
  {
   "cell_type": "code",
   "execution_count": 2,
   "id": "baking-google",
   "metadata": {},
   "outputs": [
    {
     "name": "stdout",
     "output_type": "stream",
     "text": [
      "2.1.0\n"
     ]
    }
   ],
   "source": [
    "import tensorflow as tf\n",
    "print(tf.__version__)"
   ]
  },
  {
   "cell_type": "markdown",
   "id": "peaceful-conditioning",
   "metadata": {},
   "source": [
    "### 2. AND GATE 구현`"
   ]
  },
  {
   "cell_type": "code",
   "execution_count": 1,
   "id": "aggressive-prize",
   "metadata": {},
   "outputs": [],
   "source": [
    "# !pip install numpy\n",
    "# !pip install pandas\n",
    "import numpy as np\n",
    "import pandas as pd"
   ]
  },
  {
   "cell_type": "code",
   "execution_count": 10,
   "id": "quantitative-regression",
   "metadata": {},
   "outputs": [],
   "source": [
    "#활성화 함수\n",
    "def activation_function(x) :\n",
    "    if x<=0:\n",
    "        return 0\n",
    "    else : \n",
    "        return 1"
   ]
  },
  {
   "cell_type": "markdown",
   "id": "mighty-knowing",
   "metadata": {},
   "source": [
    "2.1 AND 퍼셉트론 만들기"
   ]
  },
  {
   "cell_type": "code",
   "execution_count": 8,
   "id": "interesting-meeting",
   "metadata": {},
   "outputs": [],
   "source": [
    "def AND(x1, x2):\n",
    "    input_x = np.array([x1,x2])\n",
    "    W = np.array([0.5,0.5])\n",
    "    b = -0.7\n",
    "    \n",
    "    result = (input_x * W).sum() + b\n",
    "    \n",
    "    return activation_function(result)"
   ]
  },
  {
   "cell_type": "code",
   "execution_count": 10,
   "id": "european-watershed",
   "metadata": {},
   "outputs": [
    {
     "name": "stdout",
     "output_type": "stream",
     "text": [
      "0\n",
      "0\n",
      "0\n",
      "1\n"
     ]
    }
   ],
   "source": [
    "print(AND(0,0))\n",
    "print(AND(0,1))\n",
    "print(AND(1,0))\n",
    "print(AND(1,1))"
   ]
  },
  {
   "cell_type": "markdown",
   "id": "injured-floor",
   "metadata": {},
   "source": [
    "### OR 퍼셉트론 구현"
   ]
  },
  {
   "cell_type": "code",
   "execution_count": 4,
   "id": "inappropriate-habitat",
   "metadata": {},
   "outputs": [],
   "source": [
    "def OR(x1, x2):\n",
    "    input_x = np.array([x1,x2])\n",
    "    W = np.array([0.7,0.7])\n",
    "    b = -0.3\n",
    "    \n",
    "    result = (input_x * W).sum() + b\n",
    "    \n",
    "    return activation_function(result)"
   ]
  },
  {
   "cell_type": "code",
   "execution_count": 16,
   "id": "improved-mailing",
   "metadata": {},
   "outputs": [
    {
     "name": "stdout",
     "output_type": "stream",
     "text": [
      "0\n",
      "1\n",
      "1\n",
      "1\n"
     ]
    }
   ],
   "source": [
    "print(OR(0,0)) # 0\n",
    "print(OR(0,1)) # 1\n",
    "print(OR(1,0)) # 1\n",
    "print(OR(1,1)) # 1"
   ]
  },
  {
   "cell_type": "markdown",
   "id": "literary-constitutional",
   "metadata": {},
   "source": [
    "### XOR 게이트"
   ]
  },
  {
   "cell_type": "markdown",
   "id": "minute-adapter",
   "metadata": {},
   "source": [
    "### NAND 게이트\n",
    " - AND 게이트의 반대"
   ]
  },
  {
   "cell_type": "code",
   "execution_count": 3,
   "id": "pending-dictionary",
   "metadata": {},
   "outputs": [],
   "source": [
    "def NAND(x1, x2):\n",
    "    input_x = np.array([x1,x2])\n",
    "    W = np.array([-0.5,-0.5])\n",
    "    b = 0.7\n",
    "    \n",
    "    result = (input_x * W).sum() + b\n",
    "    \n",
    "    return activation_function(result)"
   ]
  },
  {
   "cell_type": "code",
   "execution_count": 38,
   "id": "cellular-peoples",
   "metadata": {},
   "outputs": [
    {
     "name": "stdout",
     "output_type": "stream",
     "text": [
      "1\n",
      "1\n",
      "1\n",
      "0\n"
     ]
    }
   ],
   "source": [
    "print(NAND(0,0)) # 1\n",
    "print(NAND(0,1)) # 1\n",
    "print(NAND(1,0)) # 1\n",
    "print(NAND(1,1)) # 0"
   ]
  },
  {
   "cell_type": "markdown",
   "id": "unable-victorian",
   "metadata": {},
   "source": [
    "### XOR MLP 만들기"
   ]
  },
  {
   "cell_type": "code",
   "execution_count": 12,
   "id": "every-accreditation",
   "metadata": {},
   "outputs": [],
   "source": [
    "def XOR(x1, x2):\n",
    "#     a1 = NAND(x1,x2)\n",
    "#     a2 = OR(x1,x2)\n",
    "    \n",
    "#     return AND(a1,a2)\n",
    "    return AND(NAND(x1,x2), OR(x1,x2))\n",
    "    "
   ]
  },
  {
   "cell_type": "code",
   "execution_count": 13,
   "id": "physical-music",
   "metadata": {},
   "outputs": [
    {
     "name": "stdout",
     "output_type": "stream",
     "text": [
      "0\n",
      "1\n",
      "1\n",
      "0\n"
     ]
    }
   ],
   "source": [
    "print(XOR(0,0)) # 0\n",
    "print(XOR(0,1)) # 1\n",
    "print(XOR(1,0)) # 1\n",
    "print(XOR(1,1)) # 0"
   ]
  },
  {
   "cell_type": "code",
   "execution_count": null,
   "id": "directed-agriculture",
   "metadata": {},
   "outputs": [],
   "source": []
  },
  {
   "cell_type": "code",
   "execution_count": null,
   "id": "narrative-defense",
   "metadata": {},
   "outputs": [],
   "source": []
  },
  {
   "cell_type": "code",
   "execution_count": null,
   "id": "impaired-median",
   "metadata": {},
   "outputs": [],
   "source": []
  },
  {
   "cell_type": "code",
   "execution_count": null,
   "id": "capital-affect",
   "metadata": {},
   "outputs": [],
   "source": []
  },
  {
   "cell_type": "code",
   "execution_count": null,
   "id": "chief-biology",
   "metadata": {},
   "outputs": [],
   "source": []
  },
  {
   "cell_type": "code",
   "execution_count": null,
   "id": "eight-modern",
   "metadata": {},
   "outputs": [],
   "source": []
  },
  {
   "cell_type": "code",
   "execution_count": null,
   "id": "instant-humor",
   "metadata": {},
   "outputs": [],
   "source": []
  },
  {
   "cell_type": "code",
   "execution_count": null,
   "id": "sharing-fever",
   "metadata": {},
   "outputs": [],
   "source": []
  },
  {
   "cell_type": "code",
   "execution_count": null,
   "id": "essential-express",
   "metadata": {},
   "outputs": [],
   "source": []
  },
  {
   "cell_type": "code",
   "execution_count": null,
   "id": "level-horse",
   "metadata": {},
   "outputs": [],
   "source": []
  },
  {
   "cell_type": "code",
   "execution_count": null,
   "id": "optimum-emerald",
   "metadata": {},
   "outputs": [],
   "source": []
  },
  {
   "cell_type": "code",
   "execution_count": null,
   "id": "according-implementation",
   "metadata": {},
   "outputs": [],
   "source": []
  }
 ],
 "metadata": {
  "kernelspec": {
   "display_name": "Python 3",
   "language": "python",
   "name": "python3"
  },
  "language_info": {
   "codemirror_mode": {
    "name": "ipython",
    "version": 3
   },
   "file_extension": ".py",
   "mimetype": "text/x-python",
   "name": "python",
   "nbconvert_exporter": "python",
   "pygments_lexer": "ipython3",
   "version": "3.6.13"
  }
 },
 "nbformat": 4,
 "nbformat_minor": 5
}
