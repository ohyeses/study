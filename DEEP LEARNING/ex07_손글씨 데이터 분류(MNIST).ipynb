{
 "cells": [
  {
   "cell_type": "markdown",
   "metadata": {},
   "source": [
    "### 1 MNIST (다중분류)"
   ]
  },
  {
   "cell_type": "markdown",
   "metadata": {},
   "source": [
    "#### 1.1 데이터 로드"
   ]
  },
  {
   "cell_type": "code",
   "execution_count": 1,
   "metadata": {},
   "outputs": [],
   "source": [
    "from tensorflow.keras.models import Sequential\n",
    "from tensorflow.keras.layers import Dense\n",
    "import tensorflow as tf\n",
    "from sklearn.model_selection import train_test_split\n",
    "import numpy as np\n",
    "import pandas as pd"
   ]
  },
  {
   "cell_type": "code",
   "execution_count": 2,
   "metadata": {},
   "outputs": [],
   "source": [
    "physical_devices = tf.config.list_physical_devices('GPU')\n",
    "tf.config.experimental.set_memory_growth(physical_devices[0], True)"
   ]
  },
  {
   "cell_type": "code",
   "execution_count": 3,
   "metadata": {},
   "outputs": [],
   "source": [
    "from tensorflow.keras.datasets import mnist"
   ]
  },
  {
   "cell_type": "code",
   "execution_count": 4,
   "metadata": {},
   "outputs": [],
   "source": [
    "(train_images, train_labels), (test_images, test_labels) = mnist.load_data()"
   ]
  },
  {
   "cell_type": "markdown",
   "metadata": {},
   "source": [
    "### 1.2 데이터 확인"
   ]
  },
  {
   "cell_type": "code",
   "execution_count": 5,
   "metadata": {},
   "outputs": [
    {
     "data": {
      "text/plain": [
       "(60000, 28, 28)"
      ]
     },
     "execution_count": 5,
     "metadata": {},
     "output_type": "execute_result"
    }
   ],
   "source": [
    "train_images.shape"
   ]
  },
  {
   "cell_type": "code",
   "execution_count": 6,
   "metadata": {},
   "outputs": [
    {
     "data": {
      "text/plain": [
       "(10000, 28, 28)"
      ]
     },
     "execution_count": 6,
     "metadata": {},
     "output_type": "execute_result"
    }
   ],
   "source": [
    "test_images.shape"
   ]
  },
  {
   "cell_type": "code",
   "execution_count": 7,
   "metadata": {},
   "outputs": [],
   "source": [
    "# 데이터 한 개만 출력\n",
    "import matplotlib.pyplot as plt\n",
    "\n",
    "digit = train_images[100]\n",
    "label = train_labels[100]"
   ]
  },
  {
   "cell_type": "code",
   "execution_count": 8,
   "metadata": {},
   "outputs": [
    {
     "data": {
      "image/png": "[encoded data removed]",
      "text/plain": [
       "<Figure size 432x288 with 1 Axes>"
      ]
     },
     "metadata": {
      "needs_background": "light"
     },
     "output_type": "display_data"
    }
   ],
   "source": [
    "plt.imshow(digit, cmap = plt.cm.binary)\n",
    "plt.show()"
   ]
  },
  {
   "cell_type": "code",
   "execution_count": 9,
   "metadata": {},
   "outputs": [
    {
     "data": {
      "text/plain": [
       "5"
      ]
     },
     "execution_count": 9,
     "metadata": {},
     "output_type": "execute_result"
    }
   ],
   "source": [
    "label # 정답"
   ]
  },
  {
   "cell_type": "markdown",
   "metadata": {},
   "source": [
    "### 전처리"
   ]
  },
  {
   "cell_type": "code",
   "execution_count": 10,
   "metadata": {},
   "outputs": [],
   "source": [
    "train_images = train_images.reshape(60000, 28 * 28)\n",
    "train_images = train_images.astype('float32') / 255\n",
    "\n",
    "test_images = test_images.reshape(10000, 28 * 28)\n",
    "test_images = test_images.astype('float32') / 255"
   ]
  },
  {
   "cell_type": "code",
   "execution_count": 11,
   "metadata": {},
   "outputs": [
    {
     "name": "stderr",
     "output_type": "stream",
     "text": [
      "Using TensorFlow backend.\n"
     ]
    }
   ],
   "source": [
    "from keras.utils import to_categorical\n",
    "\n",
    "train_labels_one = to_categorical(train_labels)\n",
    "test_labels_one = to_categorical(test_labels)"
   ]
  },
  {
   "cell_type": "code",
   "execution_count": 12,
   "metadata": {},
   "outputs": [
    {
     "data": {
      "text/plain": [
       "((60000, 10), (10000, 10))"
      ]
     },
     "execution_count": 12,
     "metadata": {},
     "output_type": "execute_result"
    }
   ],
   "source": [
    "train_labels_one.shape, test_labels_one.shape"
   ]
  },
  {
   "cell_type": "markdown",
   "metadata": {},
   "source": [
    "### 1.4 신경망 설계(모델 설계)"
   ]
  },
  {
   "cell_type": "code",
   "execution_count": 13,
   "metadata": {},
   "outputs": [],
   "source": [
    "model3 = Sequential()\n",
    "\n",
    "model3.add(Dense(512, activation = 'relu', input_dim=784)) \n",
    "model3.add(Dense(10, activation = 'softmax'))  "
   ]
  },
  {
   "cell_type": "code",
   "execution_count": 14,
   "metadata": {},
   "outputs": [],
   "source": [
    "model3.compile(optimizer = 'adam', loss='categorical_crossentropy', metrics=['accuracy'])"
   ]
  },
  {
   "cell_type": "markdown",
   "metadata": {},
   "source": [
    "### 1.5 학습"
   ]
  },
  {
   "cell_type": "code",
   "execution_count": 15,
   "metadata": {},
   "outputs": [
    {
     "name": "stdout",
     "output_type": "stream",
     "text": [
      "Train on 60000 samples\n",
      "Epoch 1/10\n",
      "60000/60000 [==============================] - 1s 25us/sample - loss: 0.2446 - accuracy: 0.9295\n",
      "Epoch 2/10\n",
      "60000/60000 [==============================] - 1s 16us/sample - loss: 0.0964 - accuracy: 0.9719\n",
      "Epoch 3/10\n",
      "60000/60000 [==============================] - 1s 17us/sample - loss: 0.0623 - accuracy: 0.9811\n",
      "Epoch 4/10\n",
      "60000/60000 [==============================] - 1s 16us/sample - loss: 0.0430 - accuracy: 0.9877\n",
      "Epoch 5/10\n",
      "60000/60000 [==============================] - 1s 17us/sample - loss: 0.0321 - accuracy: 0.9900\n",
      "Epoch 6/10\n",
      "60000/60000 [==============================] - 1s 17us/sample - loss: 0.0227 - accuracy: 0.9935\n",
      "Epoch 7/10\n",
      "60000/60000 [==============================] - 1s 17us/sample - loss: 0.0188 - accuracy: 0.9944\n",
      "Epoch 8/10\n",
      "60000/60000 [==============================] - 1s 16us/sample - loss: 0.0128 - accuracy: 0.9967\n",
      "Epoch 9/10\n",
      "60000/60000 [==============================] - 1s 17us/sample - loss: 0.0111 - accuracy: 0.9968\n",
      "Epoch 10/10\n",
      "60000/60000 [==============================] - 1s 17us/sample - loss: 0.0110 - accuracy: 0.9965\n"
     ]
    },
    {
     "data": {
      "text/plain": [
       "<tensorflow.python.keras.callbacks.History at 0x20845298f60>"
      ]
     },
     "execution_count": 15,
     "metadata": {},
     "output_type": "execute_result"
    }
   ],
   "source": [
    "model3.fit(train_images, train_labels_one, epochs = 10, batch_size = 84)"
   ]
  },
  {
   "cell_type": "markdown",
   "metadata": {},
   "source": [
    "### 1.6 평가"
   ]
  },
  {
   "cell_type": "code",
   "execution_count": 16,
   "metadata": {
    "scrolled": true
   },
   "outputs": [
    {
     "name": "stdout",
     "output_type": "stream",
     "text": [
      "10000/10000 [==============================] - 0s 37us/sample - loss: 0.0654 - accuracy: 0.9822\n"
     ]
    },
    {
     "data": {
      "text/plain": [
       "[0.06543431079589354, 0.9822]"
      ]
     },
     "execution_count": 16,
     "metadata": {},
     "output_type": "execute_result"
    }
   ],
   "source": [
    "model3.evaluate(test_images, test_labels_one)"
   ]
  },
  {
   "cell_type": "markdown",
   "metadata": {},
   "source": [
    "### 1.7 예측하기"
   ]
  },
  {
   "cell_type": "code",
   "execution_count": 17,
   "metadata": {},
   "outputs": [
    {
     "data": {
      "text/plain": [
       "array([[7.0377754e-10, 1.3658218e-10, 4.1484562e-08, 1.1640405e-05,\n",
       "        3.1165597e-15, 9.8774198e-09, 9.3179672e-15, 9.9998808e-01,\n",
       "        1.7157182e-09, 1.9914130e-07]], dtype=float32)"
      ]
     },
     "execution_count": 17,
     "metadata": {},
     "output_type": "execute_result"
    }
   ],
   "source": [
    "model3.predict([test_images[0:1]]) # 인덱스 0번째"
   ]
  },
  {
   "cell_type": "code",
   "execution_count": 18,
   "metadata": {},
   "outputs": [
    {
     "data": {
      "text/plain": [
       "7"
      ]
     },
     "execution_count": 18,
     "metadata": {},
     "output_type": "execute_result"
    }
   ],
   "source": [
    "test_labels[0]"
   ]
  },
  {
   "cell_type": "markdown",
   "metadata": {},
   "source": [
    "### 시각화"
   ]
  },
  {
   "cell_type": "code",
   "execution_count": 19,
   "metadata": {},
   "outputs": [
    {
     "data": {
      "image/png": "[encoded data removed]",
      "text/plain": [
       "<Figure size 432x288 with 1 Axes>"
      ]
     },
     "metadata": {
      "needs_background": "light"
     },
     "output_type": "display_data"
    }
   ],
   "source": [
    "plt.imshow(test_images[0:1].reshape(28,28), cmap = plt.cm.binary) # 색깔을 2가지 색깔 흑백\n",
    "plt.show()"
   ]
  },
  {
   "cell_type": "markdown",
   "metadata": {},
   "source": [
    "## 2 CNN 모델링\n",
    "* 사진의 원형을 유지하며 학습가능"
   ]
  },
  {
   "cell_type": "code",
   "execution_count": 20,
   "metadata": {},
   "outputs": [],
   "source": [
    "from tensorflow.keras.layers import Conv2D, MaxPool2D, Flatten"
   ]
  },
  {
   "cell_type": "code",
   "execution_count": 21,
   "metadata": {},
   "outputs": [
    {
     "data": {
      "text/plain": [
       "(60000, 784)"
      ]
     },
     "execution_count": 21,
     "metadata": {},
     "output_type": "execute_result"
    }
   ],
   "source": [
    "train_images.shape"
   ]
  },
  {
   "cell_type": "code",
   "execution_count": 22,
   "metadata": {},
   "outputs": [],
   "source": [
    "train_images = train_images.reshape(60000, 28, 28, 1)"
   ]
  },
  {
   "cell_type": "code",
   "execution_count": 23,
   "metadata": {},
   "outputs": [
    {
     "data": {
      "text/plain": [
       "(60000, 28, 28, 1)"
      ]
     },
     "execution_count": 23,
     "metadata": {},
     "output_type": "execute_result"
    }
   ],
   "source": [
    "train_images.shape"
   ]
  },
  {
   "cell_type": "code",
   "execution_count": 24,
   "metadata": {},
   "outputs": [
    {
     "data": {
      "text/plain": [
       "(10000, 28, 28, 1)"
      ]
     },
     "execution_count": 24,
     "metadata": {},
     "output_type": "execute_result"
    }
   ],
   "source": [
    "#test data reshape\n",
    "test_images = test_images.reshape(10000, 28, 28, 1)\n",
    "test_images.shape"
   ]
  },
  {
   "cell_type": "markdown",
   "metadata": {},
   "source": [
    "### 2.2 CNN 모델링"
   ]
  },
  {
   "cell_type": "code",
   "execution_count": 25,
   "metadata": {},
   "outputs": [],
   "source": [
    "# cnn_model = Sequential()\n",
    "# # 1. feature extractor => 특징 추출부\n",
    "# cnn_model.add(Conv2D(input_shape = (28, 28, 1), # 입력 데이터의 shape 정보\n",
    "#                      filters = 3, #  수\n",
    "#                     kernel_size = (3,3),#돋보기 크기\n",
    "#                      activation=\"relu\"\n",
    "#                     ))\n",
    "\n",
    "# cnn_model.add(MaxPool2D())\n",
    "\n",
    "# cnn_model.add(Conv2D(filters = 3, #  수\n",
    "#                     kernel_size = (3,3),#돋보기 크기\n",
    "#                      activation=\"relu\"\n",
    "#                     ))\n",
    "\n",
    "# cnn_model.add(MaxPool2D())\n",
    "# # 2. classifier => MLP (추출된 특징으로 분류)\n",
    "# cnn_model.add(MaxPool2D(Flatten()) # 데이터를 1차원으로 펴주는 층\n",
    "# model.add(Dense(512,activation=\"relu\"))\n",
    "# model.add(Dense(10, activation=\"softmax\"))\n",
    "\n",
    "cnn_model = Sequential()\n",
    "# 1. feature extraction \n",
    "\n",
    "cnn_model.add(Conv2D(input_shape = (28, 28, 1), # shape of input data\n",
    "                    filters = 3, # number of magnifying glasses(MG)\n",
    "                    # thus, the more you bring MG, the more diverse features will be extracted\n",
    "                    kernel_size = (3, 3), # the size of MG  : 3 * 3 = 9\n",
    "                    activation = \"relu\"\n",
    "                    ))\n",
    "cnn_model.add(MaxPool2D())\n",
    "\n",
    "\n",
    "cnn_model.add(Conv2D(filters = 3, # number of magnifying glasses(MG)\n",
    "                    # thus, the more you bring MG, the more diverse features will be extracted\n",
    "                    kernel_size = (3, 3), # the size of MG  : 3 * 3 = 9\n",
    "                    activation = \"relu\"\n",
    "                    ))\n",
    "cnn_model.add(MaxPool2D())\n",
    "# 2. classifier - MLP(classify data according to extracted feature\n",
    "cnn_model.add(Flatten()) # layer that makes data with 1 dimension (simplication)\n",
    "cnn_model.add(Dense(512, activation = \"relu\"))\n",
    "cnn_model.add(Dense(10, activation = \"softmax\"))\n"
   ]
  },
  {
   "cell_type": "markdown",
   "metadata": {},
   "source": [
    "### 2.3 모델 학습"
   ]
  },
  {
   "cell_type": "code",
   "execution_count": 26,
   "metadata": {},
   "outputs": [],
   "source": [
    "cnn_model.compile(loss = \"categorical_crossentropy\", optimizer = \"adam\", metrics = ['accuracy'])"
   ]
  },
  {
   "cell_type": "code",
   "execution_count": 27,
   "metadata": {},
   "outputs": [
    {
     "name": "stdout",
     "output_type": "stream",
     "text": [
      "Model: \"sequential_1\"\n",
      "_________________________________________________________________\n",
      "Layer (type)                 Output Shape              Param #   \n",
      "=================================================================\n",
      "conv2d (Conv2D)              (None, 26, 26, 3)         30        \n",
      "_________________________________________________________________\n",
      "max_pooling2d (MaxPooling2D) (None, 13, 13, 3)         0         \n",
      "_________________________________________________________________\n",
      "conv2d_1 (Conv2D)            (None, 11, 11, 3)         84        \n",
      "_________________________________________________________________\n",
      "max_pooling2d_1 (MaxPooling2 (None, 5, 5, 3)           0         \n",
      "_________________________________________________________________\n",
      "flatten (Flatten)            (None, 75)                0         \n",
      "_________________________________________________________________\n",
      "dense_2 (Dense)              (None, 512)               38912     \n",
      "_________________________________________________________________\n",
      "dense_3 (Dense)              (None, 10)                5130      \n",
      "=================================================================\n",
      "Total params: 44,156\n",
      "Trainable params: 44,156\n",
      "Non-trainable params: 0\n",
      "_________________________________________________________________\n"
     ]
    }
   ],
   "source": [
    "cnn_model.summary()"
   ]
  },
  {
   "cell_type": "code",
   "execution_count": 28,
   "metadata": {},
   "outputs": [
    {
     "name": "stdout",
     "output_type": "stream",
     "text": [
      "Train on 42000 samples, validate on 18000 samples\n",
      "Epoch 1/15\n",
      "42000/42000 [==============================] - 4s 107us/sample - loss: 0.3374 - accuracy: 0.8973 - val_loss: 0.1633 - val_accuracy: 0.9474\n",
      "Epoch 2/15\n",
      "42000/42000 [==============================] - 3s 74us/sample - loss: 0.1337 - accuracy: 0.9586 - val_loss: 0.1270 - val_accuracy: 0.9592\n",
      "Epoch 3/15\n",
      "42000/42000 [==============================] - 3s 72us/sample - loss: 0.0984 - accuracy: 0.9681 - val_loss: 0.1114 - val_accuracy: 0.9652\n",
      "Epoch 4/15\n",
      "42000/42000 [==============================] - 3s 73us/sample - loss: 0.0782 - accuracy: 0.9750 - val_loss: 0.0924 - val_accuracy: 0.9729\n",
      "Epoch 5/15\n",
      "42000/42000 [==============================] - 3s 76us/sample - loss: 0.0676 - accuracy: 0.9780 - val_loss: 0.0933 - val_accuracy: 0.9708\n",
      "Epoch 6/15\n",
      "42000/42000 [==============================] - 3s 74us/sample - loss: 0.0568 - accuracy: 0.9820 - val_loss: 0.0767 - val_accuracy: 0.9767\n",
      "Epoch 7/15\n",
      "42000/42000 [==============================] - 3s 75us/sample - loss: 0.0492 - accuracy: 0.9841 - val_loss: 0.0729 - val_accuracy: 0.9777\n",
      "Epoch 8/15\n",
      "42000/42000 [==============================] - 3s 73us/sample - loss: 0.0452 - accuracy: 0.9857 - val_loss: 0.0817 - val_accuracy: 0.9748\n",
      "Epoch 9/15\n",
      "42000/42000 [==============================] - 3s 74us/sample - loss: 0.0392 - accuracy: 0.9870 - val_loss: 0.0817 - val_accuracy: 0.9764\n",
      "Epoch 10/15\n",
      "42000/42000 [==============================] - 3s 75us/sample - loss: 0.0340 - accuracy: 0.9882 - val_loss: 0.0707 - val_accuracy: 0.9804\n",
      "Epoch 11/15\n",
      "42000/42000 [==============================] - 3s 75us/sample - loss: 0.0316 - accuracy: 0.9893 - val_loss: 0.0767 - val_accuracy: 0.9796\n",
      "Epoch 12/15\n",
      "42000/42000 [==============================] - 3s 74us/sample - loss: 0.0275 - accuracy: 0.9905 - val_loss: 0.0739 - val_accuracy: 0.9796\n",
      "Epoch 13/15\n",
      "42000/42000 [==============================] - 3s 74us/sample - loss: 0.0254 - accuracy: 0.9913 - val_loss: 0.0778 - val_accuracy: 0.9789\n",
      "Epoch 14/15\n",
      "42000/42000 [==============================] - 3s 74us/sample - loss: 0.0206 - accuracy: 0.9932 - val_loss: 0.0801 - val_accuracy: 0.9803\n",
      "Epoch 15/15\n",
      "42000/42000 [==============================] - 3s 75us/sample - loss: 0.0205 - accuracy: 0.9926 - val_loss: 0.0775 - val_accuracy: 0.9814\n"
     ]
    },
    {
     "data": {
      "text/plain": [
       "<tensorflow.python.keras.callbacks.History at 0x2080528cac8>"
      ]
     },
     "execution_count": 28,
     "metadata": {},
     "output_type": "execute_result"
    }
   ],
   "source": [
    "cnn_model.fit(train_images, train_labels_one, epochs=15, validation_split = 0.3)"
   ]
  },
  {
   "cell_type": "markdown",
   "metadata": {},
   "source": [
    "### 2.4 모델 평가"
   ]
  },
  {
   "cell_type": "code",
   "execution_count": 29,
   "metadata": {
    "scrolled": true
   },
   "outputs": [
    {
     "name": "stdout",
     "output_type": "stream",
     "text": [
      "10000/10000 [==============================] - 0s 39us/sample - loss: 0.0685 - accuracy: 0.9806\n"
     ]
    },
    {
     "data": {
      "text/plain": [
       "[0.06851088715406077, 0.9806]"
      ]
     },
     "execution_count": 29,
     "metadata": {},
     "output_type": "execute_result"
    }
   ],
   "source": [
    "cnn_model.evaluate(test_images, test_labels_one)"
   ]
  },
  {
   "cell_type": "markdown",
   "metadata": {},
   "source": [
    "## 2.5 데이터의 문제점 \n",
    "* 손글씨에 데이터에 배경이 없다\n",
    "* 손글씨의 크기가 일정하고, 회전도 없다.\n",
    "* MLP와 CNN모델의 성능이 비슷하다\n",
    "* 데이터에 회전을 해서 비교해보자."
   ]
  },
  {
   "cell_type": "code",
   "execution_count": 30,
   "metadata": {},
   "outputs": [],
   "source": [
    "(train_images, train_labels), (test_images, test_labels) = mnist.load_data()"
   ]
  },
  {
   "cell_type": "code",
   "execution_count": 31,
   "metadata": {},
   "outputs": [],
   "source": [
    "train_images = train_images.reshape(60000, 28, 28)\n",
    "test_images = test_images.reshape(10000, 28, 28)"
   ]
  },
  {
   "cell_type": "code",
   "execution_count": 32,
   "metadata": {},
   "outputs": [],
   "source": [
    "# !pip install Pillow"
   ]
  },
  {
   "cell_type": "code",
   "execution_count": 33,
   "metadata": {},
   "outputs": [],
   "source": [
    "from PIL import Image\n",
    "import numpy as np"
   ]
  },
  {
   "cell_type": "code",
   "execution_count": 34,
   "metadata": {},
   "outputs": [
    {
     "data": {
      "text/plain": [
       "108"
      ]
     },
     "execution_count": 34,
     "metadata": {},
     "output_type": "execute_result"
    }
   ],
   "source": [
    "angle = np.random.randint(0, 360)\n",
    "angle"
   ]
  },
  {
   "cell_type": "code",
   "execution_count": 35,
   "metadata": {},
   "outputs": [
    {
     "data": {
      "text/plain": [
       "<matplotlib.image.AxesImage at 0x208096a5630>"
      ]
     },
     "execution_count": 35,
     "metadata": {},
     "output_type": "execute_result"
    },
    {
     "data": {
      "image/png": "[encoded data removed]",
      "text/plain": [
       "<Figure size 432x288 with 1 Axes>"
      ]
     },
     "metadata": {
      "needs_background": "light"
     },
     "output_type": "display_data"
    }
   ],
   "source": [
    "rotate_img = Image.fromarray(train_images[0]).rotate(angle)\n",
    "plt.imshow(rotate_img)"
   ]
  },
  {
   "cell_type": "code",
   "execution_count": 36,
   "metadata": {},
   "outputs": [
    {
     "data": {
      "text/plain": [
       "(60000, 28, 28)"
      ]
     },
     "execution_count": 36,
     "metadata": {},
     "output_type": "execute_result"
    }
   ],
   "source": [
    "train_images_rotate_list = [] \n",
    "for i in range(60000):\n",
    "    angle = np.random.randint(0,360) # 회전시킬 각도 랜덤하게 뽑기\n",
    "    rotate_img = Image.fromarray(train_images[0]).rotate(angle) # 각도 만큼 사진 회전\n",
    "    train_images_rotate_list.append(np.array(rotate_img)) # numpy 타입으로 변경 후 추가\n",
    "\n",
    "train_image_rotate = np.array(train_images_rotate_list) # 전체 list -> numpy 변경\n",
    "train_image_rotate.shape"
   ]
  },
  {
   "cell_type": "code",
   "execution_count": 37,
   "metadata": {},
   "outputs": [
    {
     "data": {
      "text/plain": [
       "(10000, 28, 28)"
      ]
     },
     "execution_count": 37,
     "metadata": {},
     "output_type": "execute_result"
    }
   ],
   "source": [
    "test_images_rotate_list = [] \n",
    "for i in range(10000):\n",
    "    angle = np.random.randint(0,360) # 회전시킬 각도 랜덤하게 뽑기\n",
    "    rotate_img = Image.fromarray(test_images[0]).rotate(angle) # 각도 만큼 사진 회전\n",
    "    test_images_rotate_list.append(np.array(rotate_img)) # numpy 타입으로 변경 후 추가\n",
    "\n",
    "test_image_rotate = np.array(test_images_rotate_list) # 전체 list -> numpy 변경\n",
    "test_image_rotate.shape"
   ]
  },
  {
   "cell_type": "markdown",
   "metadata": {},
   "source": [
    "###  2.6 회전된 데이터로 MLP와 CNN 비교(숙제)\n",
    "MLP : 데이터 shape -> 784로 펴주기\n",
    "CNN : 데이터 shape -> (sample, width, height, channel)"
   ]
  },
  {
   "cell_type": "code",
   "execution_count": 53,
   "metadata": {},
   "outputs": [],
   "source": [
    "# MLP\n",
    "mlp_model = Sequential()\n",
    "mlp_model.add(Flatten()) \n",
    "mlp_model.add(Dense(512, activation=\"relu\"))\n",
    "mlp_model.add(Dense(1024, activation=\"relu\"))\n",
    "mlp_model.add(Dense(512, activation=\"relu\"))\n",
    "mlp_model.add(Dense(10, activation=\"softmax\"))\n",
    "\n",
    "mlp_model.compile(loss=\"categorical_crossentropy\", \n",
    "                 optimizer=\"Adam\",\n",
    "                 metrics=[\"accuracy\"])"
   ]
  },
  {
   "cell_type": "code",
   "execution_count": 54,
   "metadata": {},
   "outputs": [
    {
     "name": "stdout",
     "output_type": "stream",
     "text": [
      "Train on 42000 samples, validate on 18000 samples\n",
      "Epoch 1/15\n",
      "42000/42000 [==============================] - 3s 75us/sample - loss: 3.1340 - accuracy: 0.1126 - val_loss: 2.3018 - val_accuracy: 0.1079\n",
      "Epoch 2/15\n",
      "42000/42000 [==============================] - 3s 67us/sample - loss: 2.3011 - accuracy: 0.1143 - val_loss: 2.3020 - val_accuracy: 0.1079\n",
      "Epoch 3/15\n",
      "42000/42000 [==============================] - 3s 68us/sample - loss: 2.3011 - accuracy: 0.1143 - val_loss: 2.3019 - val_accuracy: 0.1079\n",
      "Epoch 4/15\n",
      "42000/42000 [==============================] - 3s 66us/sample - loss: 2.3011 - accuracy: 0.1143 - val_loss: 2.3018 - val_accuracy: 0.1079\n",
      "Epoch 5/15\n",
      "42000/42000 [==============================] - 3s 66us/sample - loss: 2.3011 - accuracy: 0.1143 - val_loss: 2.3018 - val_accuracy: 0.1079\n",
      "Epoch 6/15\n",
      "42000/42000 [==============================] - 3s 67us/sample - loss: 2.3011 - accuracy: 0.1143 - val_loss: 2.3019 - val_accuracy: 0.1079\n",
      "Epoch 7/15\n",
      "42000/42000 [==============================] - 3s 66us/sample - loss: 2.3011 - accuracy: 0.1143 - val_loss: 2.3020 - val_accuracy: 0.1079\n",
      "Epoch 8/15\n",
      "42000/42000 [==============================] - 3s 66us/sample - loss: 2.3012 - accuracy: 0.1143 - val_loss: 2.3019 - val_accuracy: 0.1079\n",
      "Epoch 9/15\n",
      "42000/42000 [==============================] - 3s 67us/sample - loss: 2.3011 - accuracy: 0.1143 - val_loss: 2.3021 - val_accuracy: 0.1079\n",
      "Epoch 10/15\n",
      "42000/42000 [==============================] - 3s 65us/sample - loss: 2.3011 - accuracy: 0.1143 - val_loss: 2.3018 - val_accuracy: 0.1079\n",
      "Epoch 11/15\n",
      "42000/42000 [==============================] - 3s 65us/sample - loss: 2.3011 - accuracy: 0.1143 - val_loss: 2.3020 - val_accuracy: 0.1079\n",
      "Epoch 12/15\n",
      "42000/42000 [==============================] - 3s 66us/sample - loss: 2.3011 - accuracy: 0.1143 - val_loss: 2.3019 - val_accuracy: 0.1079\n",
      "Epoch 13/15\n",
      "42000/42000 [==============================] - 3s 65us/sample - loss: 2.3011 - accuracy: 0.1143 - val_loss: 2.3018 - val_accuracy: 0.1079\n",
      "Epoch 14/15\n",
      "42000/42000 [==============================] - 3s 65us/sample - loss: 2.3011 - accuracy: 0.1143 - val_loss: 2.3019 - val_accuracy: 0.1079\n",
      "Epoch 15/15\n",
      "42000/42000 [==============================] - 3s 67us/sample - loss: 2.3011 - accuracy: 0.1143 - val_loss: 2.3020 - val_accuracy: 0.1079\n"
     ]
    },
    {
     "data": {
      "text/plain": [
       "<tensorflow.python.keras.callbacks.History at 0x20842bd8780>"
      ]
     },
     "execution_count": 54,
     "metadata": {},
     "output_type": "execute_result"
    }
   ],
   "source": [
    "mlp_model.fit(train_image_rotate, train_labels_one, epochs=15, validation_split = 0.3)"
   ]
  },
  {
   "cell_type": "markdown",
   "metadata": {},
   "source": [
    "### CNN"
   ]
  },
  {
   "cell_type": "code",
   "execution_count": 77,
   "metadata": {},
   "outputs": [],
   "source": [
    "train_image_rotate = train_image_rotate.reshape(60000,28,28,1)\n",
    "test_image_rotate = test_image_rotate.reshape(10000,28,28,1)"
   ]
  },
  {
   "cell_type": "code",
   "execution_count": 78,
   "metadata": {},
   "outputs": [],
   "source": [
    "# CNN\n",
    "cnn_model = Sequential()\n",
    "cnn_model.add(Conv2D(input_shape=(28,28,1),\n",
    "                     filters=16, # 특징을 도출해주는 돋보기 개수\n",
    "                     kernel_size=(3,3), # 돋보기 크기\n",
    "                     activation = 'relu'\n",
    "                    ))\n",
    "cnn_model.add(MaxPool2D()) # 불필요한 정보 삭제\n",
    "\n",
    "cnn_model.add(Conv2D(filters=32, # 특징을 도출해주는 돋보기 개수\n",
    "                     kernel_size=(3,3),# 돋보기 크기\n",
    "                    activation = 'relu'))\n",
    "cnn_model.add(MaxPool2D()) # 불필요한 정보 삭제\n",
    "\n",
    "# 분류\n",
    "cnn_model.add(Flatten())\n",
    "cnn_model.add(Dense(128, activation=\"relu\"))\n",
    "cnn_model.add(Dense(10, activation=\"softmax\"))"
   ]
  },
  {
   "cell_type": "code",
   "execution_count": 79,
   "metadata": {},
   "outputs": [],
   "source": [
    "cnn_model.compile(loss=\"categorical_crossentropy\", \n",
    "                 optimizer=\"Adam\",\n",
    "                 metrics=[\"accuracy\"])"
   ]
  },
  {
   "cell_type": "code",
   "execution_count": 80,
   "metadata": {},
   "outputs": [
    {
     "name": "stdout",
     "output_type": "stream",
     "text": [
      "Train on 42000 samples, validate on 18000 samples\n",
      "Epoch 1/35\n",
      "42000/42000 [==============================] - 4s 93us/sample - loss: 2.7554 - accuracy: 0.1093 - val_loss: 2.3018 - val_accuracy: 0.1079\n",
      "Epoch 2/35\n",
      "42000/42000 [==============================] - 4s 84us/sample - loss: 2.3011 - accuracy: 0.1143 - val_loss: 2.3019 - val_accuracy: 0.1079\n",
      "Epoch 3/35\n",
      "42000/42000 [==============================] - 3s 82us/sample - loss: 2.3011 - accuracy: 0.1143 - val_loss: 2.3019 - val_accuracy: 0.1079\n",
      "Epoch 4/35\n",
      "42000/42000 [==============================] - 3s 81us/sample - loss: 2.3011 - accuracy: 0.1143 - val_loss: 2.3019 - val_accuracy: 0.1079\n",
      "Epoch 5/35\n",
      "42000/42000 [==============================] - 3s 83us/sample - loss: 2.3011 - accuracy: 0.1143 - val_loss: 2.3018 - val_accuracy: 0.1079\n",
      "Epoch 6/35\n",
      "42000/42000 [==============================] - 3s 81us/sample - loss: 2.3011 - accuracy: 0.1143 - val_loss: 2.3019 - val_accuracy: 0.1079\n",
      "Epoch 7/35\n",
      "42000/42000 [==============================] - 4s 84us/sample - loss: 2.3011 - accuracy: 0.1143 - val_loss: 2.3021 - val_accuracy: 0.1079\n",
      "Epoch 8/35\n",
      "42000/42000 [==============================] - 3s 79us/sample - loss: 2.3011 - accuracy: 0.1143 - val_loss: 2.3020 - val_accuracy: 0.1079\n",
      "Epoch 9/35\n",
      "42000/42000 [==============================] - 3s 82us/sample - loss: 2.3011 - accuracy: 0.1143 - val_loss: 2.3020 - val_accuracy: 0.1079\n",
      "Epoch 10/35\n",
      "42000/42000 [==============================] - 3s 82us/sample - loss: 2.3011 - accuracy: 0.1143 - val_loss: 2.3018 - val_accuracy: 0.1079\n",
      "Epoch 11/35\n",
      "42000/42000 [==============================] - 4s 84us/sample - loss: 2.3011 - accuracy: 0.1143 - val_loss: 2.3022 - val_accuracy: 0.1079\n",
      "Epoch 12/35\n",
      "42000/42000 [==============================] - 4s 86us/sample - loss: 2.3011 - accuracy: 0.1143 - val_loss: 2.3020 - val_accuracy: 0.1079\n",
      "Epoch 13/35\n",
      "42000/42000 [==============================] - 4s 84us/sample - loss: 2.3011 - accuracy: 0.1143 - val_loss: 2.3020 - val_accuracy: 0.1079\n",
      "Epoch 14/35\n",
      "42000/42000 [==============================] - 4s 85us/sample - loss: 2.3011 - accuracy: 0.1143 - val_loss: 2.3019 - val_accuracy: 0.1079\n",
      "Epoch 15/35\n",
      "42000/42000 [==============================] - 3s 81us/sample - loss: 2.3011 - accuracy: 0.1143 - val_loss: 2.3020 - val_accuracy: 0.1079\n",
      "Epoch 16/35\n",
      "42000/42000 [==============================] - 3s 81us/sample - loss: 2.3011 - accuracy: 0.1143 - val_loss: 2.3018 - val_accuracy: 0.1079\n",
      "Epoch 17/35\n",
      "42000/42000 [==============================] - 3s 77us/sample - loss: 2.3011 - accuracy: 0.1143 - val_loss: 2.3019 - val_accuracy: 0.1079\n",
      "Epoch 18/35\n",
      "42000/42000 [==============================] - 4s 84us/sample - loss: 2.3011 - accuracy: 0.1143 - val_loss: 2.3017 - val_accuracy: 0.1079\n",
      "Epoch 19/35\n",
      "42000/42000 [==============================] - 3s 79us/sample - loss: 2.3012 - accuracy: 0.1143 - val_loss: 2.3018 - val_accuracy: 0.1079\n",
      "Epoch 20/35\n",
      "42000/42000 [==============================] - 4s 84us/sample - loss: 2.3011 - accuracy: 0.1143 - val_loss: 2.3019 - val_accuracy: 0.1079\n",
      "Epoch 21/35\n",
      "42000/42000 [==============================] - 3s 83us/sample - loss: 2.3011 - accuracy: 0.1143 - val_loss: 2.3018 - val_accuracy: 0.1079\n",
      "Epoch 22/35\n",
      "42000/42000 [==============================] - 4s 88us/sample - loss: 2.3011 - accuracy: 0.1143 - val_loss: 2.3021 - val_accuracy: 0.1079\n",
      "Epoch 23/35\n",
      "42000/42000 [==============================] - 3s 82us/sample - loss: 2.3011 - accuracy: 0.1143 - val_loss: 2.3017 - val_accuracy: 0.1079\n",
      "Epoch 24/35\n",
      "42000/42000 [==============================] - 4s 87us/sample - loss: 2.3011 - accuracy: 0.1143 - val_loss: 2.3017 - val_accuracy: 0.1079\n",
      "Epoch 25/35\n",
      "42000/42000 [==============================] - 3s 79us/sample - loss: 2.3012 - accuracy: 0.1143 - val_loss: 2.3019 - val_accuracy: 0.1079\n",
      "Epoch 26/35\n",
      "42000/42000 [==============================] - 3s 79us/sample - loss: 2.3011 - accuracy: 0.1143 - val_loss: 2.3019 - val_accuracy: 0.1079\n",
      "Epoch 27/35\n",
      "42000/42000 [==============================] - 3s 78us/sample - loss: 2.3011 - accuracy: 0.1143 - val_loss: 2.3018 - val_accuracy: 0.1079\n",
      "Epoch 28/35\n",
      "42000/42000 [==============================] - 3s 80us/sample - loss: 2.3011 - accuracy: 0.1143 - val_loss: 2.3020 - val_accuracy: 0.1079\n",
      "Epoch 29/35\n",
      "42000/42000 [==============================] - 3s 83us/sample - loss: 2.3011 - accuracy: 0.1143 - val_loss: 2.3019 - val_accuracy: 0.1079\n",
      "Epoch 30/35\n",
      "42000/42000 [==============================] - 3s 78us/sample - loss: 2.3011 - accuracy: 0.1143 - val_loss: 2.3021 - val_accuracy: 0.1079\n",
      "Epoch 31/35\n",
      "42000/42000 [==============================] - 3s 78us/sample - loss: 2.3011 - accuracy: 0.1143 - val_loss: 2.3019 - val_accuracy: 0.1079\n",
      "Epoch 32/35\n",
      "42000/42000 [==============================] - 4s 89us/sample - loss: 2.3011 - accuracy: 0.1143 - val_loss: 2.3017 - val_accuracy: 0.1079\n",
      "Epoch 33/35\n",
      "42000/42000 [==============================] - 4s 85us/sample - loss: 2.3011 - accuracy: 0.1143 - val_loss: 2.3017 - val_accuracy: 0.1079\n",
      "Epoch 34/35\n",
      "42000/42000 [==============================] - 4s 84us/sample - loss: 2.3012 - accuracy: 0.1143 - val_loss: 2.3020 - val_accuracy: 0.1079\n",
      "Epoch 35/35\n",
      "42000/42000 [==============================] - 4s 84us/sample - loss: 2.3012 - accuracy: 0.1143 - val_loss: 2.3019 - val_accuracy: 0.1079\n"
     ]
    },
    {
     "data": {
      "text/plain": [
       "<tensorflow.python.keras.callbacks.History at 0x20805208da0>"
      ]
     },
     "execution_count": 80,
     "metadata": {},
     "output_type": "execute_result"
    }
   ],
   "source": [
    "cnn_model.fit(train_image_rotate, train_labels_one, epochs=35, validation_split = 0.3)"
   ]
  },
  {
   "cell_type": "code",
   "execution_count": 81,
   "metadata": {},
   "outputs": [],
   "source": []
  },
  {
   "cell_type": "code",
   "execution_count": null,
   "metadata": {},
   "outputs": [],
   "source": []
  }
 ],
 "metadata": {
  "kernelspec": {
   "display_name": "Python 3",
   "language": "python",
   "name": "python3"
  },
  "language_info": {
   "codemirror_mode": {
    "name": "ipython",
    "version": 3
   },
   "file_extension": ".py",
   "mimetype": "text/x-python",
   "name": "python",
   "nbconvert_exporter": "python",
   "pygments_lexer": "ipython3",
   "version": "3.8.5"
  }
 },
 "nbformat": 4,
 "nbformat_minor": 5
}
