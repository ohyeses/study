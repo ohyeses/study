{
 "cells": [
  {
   "cell_type": "code",
   "execution_count": 25,
   "metadata": {},
   "outputs": [],
   "source": [
    "from tensorflow.keras.datasets import fashion_mnist\n",
    "from tensorflow.keras.utils import to_categorical \n",
    "import matplotlib.pyplot as plt\n",
    "from tensorflow.keras.models import Sequential\n",
    "from tensorflow.keras.layers import Dense\n",
    "import tensorflow as tf\n",
    "from sklearn.model_selection import train_test_split\n",
    "import numpy as np\n",
    "import pandas as pd"
   ]
  },
  {
   "cell_type": "code",
   "execution_count": 2,
   "metadata": {
    "scrolled": false
   },
   "outputs": [
    {
     "name": "stdout",
     "output_type": "stream",
     "text": [
      "Downloading data from https://storage.googleapis.com/tensorflow/tf-keras-datasets/train-labels-idx1-ubyte.gz\n",
      "32768/29515 [=================================] - 0s 0us/step\n",
      "Downloading data from https://storage.googleapis.com/tensorflow/tf-keras-datasets/train-images-idx3-ubyte.gz\n",
      "26427392/26421880 [==============================] - 0s 0us/step\n",
      "Downloading data from https://storage.googleapis.com/tensorflow/tf-keras-datasets/t10k-labels-idx1-ubyte.gz\n",
      "8192/5148 [===============================================] - 0s 0s/step\n",
      "Downloading data from https://storage.googleapis.com/tensorflow/tf-keras-datasets/t10k-images-idx3-ubyte.gz\n",
      "4423680/4422102 [==============================] - 0s 0us/step\n"
     ]
    }
   ],
   "source": [
    "(X_train, y_train), (X_test, y_test) = fashion_mnist.load_data()"
   ]
  },
  {
   "cell_type": "code",
   "execution_count": 3,
   "metadata": {
    "scrolled": true
   },
   "outputs": [
    {
     "data": {
      "text/plain": [
       "((60000, 28, 28), (10000, 28, 28))"
      ]
     },
     "execution_count": 3,
     "metadata": {},
     "output_type": "execute_result"
    }
   ],
   "source": [
    "X_train.shape, X_test.shape"
   ]
  },
  {
   "cell_type": "markdown",
   "metadata": {},
   "source": [
    "### 패션 분류 실습\n",
    "1. matplotlib를 이용해 데이터 시각화\n",
    "2. 학습을 위해서 정답데이터(훈련, 테스트)를 확률정보 변경-원핫인코딩\n",
    "3. keras 를 이용해서 CNN 모델 구성\n",
    "4. 학습 및 평가 (검증 셋 분리핟록 설정)\n",
    "5. history 그래프로 그리기"
   ]
  },
  {
   "cell_type": "code",
   "execution_count": 11,
   "metadata": {},
   "outputs": [],
   "source": [
    "from matplotlib import pyplot as plt\n",
    "\n",
    "digit = X_train[100]\n",
    "label = y_train[100]"
   ]
  },
  {
   "cell_type": "markdown",
   "metadata": {},
   "source": [
    "### 1. 데이터 시각화"
   ]
  },
  {
   "cell_type": "code",
   "execution_count": 31,
   "metadata": {},
   "outputs": [
    {
     "data": {
      "text/plain": [
       "<matplotlib.image.AxesImage at 0x1c01e4639e8>"
      ]
     },
     "execution_count": 31,
     "metadata": {},
     "output_type": "execute_result"
    },
    {
     "data": {
      "image/png": "[encoded data removed]",
      "text/plain": [
       "<Figure size 432x288 with 1 Axes>"
      ]
     },
     "metadata": {
      "needs_background": "light"
     },
     "output_type": "display_data"
    }
   ],
   "source": [
    "#\n",
    "plt.imshow(X_train[0], cmap='gray')"
   ]
  },
  {
   "cell_type": "code",
   "execution_count": 14,
   "metadata": {
    "scrolled": true
   },
   "outputs": [
    {
     "data": {
      "image/png": "[encoded data removed]",
      "text/plain": [
       "<Figure size 432x288 with 1 Axes>"
      ]
     },
     "metadata": {
      "needs_background": "light"
     },
     "output_type": "display_data"
    }
   ],
   "source": [
    "plt.imshow(digit, cmap = plt.cm.binary)\n",
    "plt.show()"
   ]
  },
  {
   "cell_type": "markdown",
   "metadata": {},
   "source": [
    "### 전처리"
   ]
  },
  {
   "cell_type": "code",
   "execution_count": 19,
   "metadata": {},
   "outputs": [],
   "source": [
    "train_images = X_train.reshape(60000, 28 * 28)\n",
    "train_images = X_train.astype('float32') / 255\n",
    "\n",
    "test_images = X_test.reshape(10000, 28 * 28)\n",
    "test_images = X_test.astype('float32') / 255"
   ]
  },
  {
   "cell_type": "markdown",
   "metadata": {},
   "source": [
    "### 2. 정답데이터 원핫인코딩"
   ]
  },
  {
   "cell_type": "code",
   "execution_count": 32,
   "metadata": {
    "scrolled": true
   },
   "outputs": [
    {
     "data": {
      "text/plain": [
       "array([9, 2, 1, ..., 8, 1, 5], dtype=uint8)"
      ]
     },
     "execution_count": 32,
     "metadata": {},
     "output_type": "execute_result"
    }
   ],
   "source": [
    "y_test # 이 정보를 원핫인코딩 한다"
   ]
  },
  {
   "cell_type": "code",
   "execution_count": 34,
   "metadata": {},
   "outputs": [
    {
     "data": {
      "text/plain": [
       "array([[0., 0., 0., 0., 0., 0., 0., 0., 0., 1.],\n",
       "       [1., 0., 0., 0., 0., 0., 0., 0., 0., 0.],\n",
       "       [1., 0., 0., 0., 0., 0., 0., 0., 0., 0.]], dtype=float32)"
      ]
     },
     "execution_count": 34,
     "metadata": {},
     "output_type": "execute_result"
    }
   ],
   "source": [
    "#\n",
    "y_train_one = to_categorical(y_train)\n",
    "y_train_one[:3] # 3줄까지만 본다\n",
    "# 각 아이템의 확률을 이야기 한다"
   ]
  },
  {
   "cell_type": "code",
   "execution_count": 15,
   "metadata": {},
   "outputs": [
    {
     "name": "stderr",
     "output_type": "stream",
     "text": [
      "Using TensorFlow backend.\n"
     ]
    }
   ],
   "source": [
    "from keras.utils import to_categorical\n",
    "\n",
    "train_labels_one = to_categorical(y_train)\n",
    "test_labels_one = to_categorical(y_test)"
   ]
  },
  {
   "cell_type": "code",
   "execution_count": 16,
   "metadata": {},
   "outputs": [
    {
     "data": {
      "text/plain": [
       "((60000, 10), (10000, 10))"
      ]
     },
     "execution_count": 16,
     "metadata": {},
     "output_type": "execute_result"
    }
   ],
   "source": [
    "train_labels_one.shape, test_labels_one.shape"
   ]
  },
  {
   "cell_type": "markdown",
   "metadata": {},
   "source": [
    "### keras 를 이용해서 CNN 모델 구성"
   ]
  },
  {
   "cell_type": "code",
   "execution_count": 17,
   "metadata": {},
   "outputs": [],
   "source": [
    "from tensorflow.keras.layers import Conv2D, MaxPool2D, Flatten"
   ]
  },
  {
   "cell_type": "code",
   "execution_count": 20,
   "metadata": {
    "scrolled": true
   },
   "outputs": [
    {
     "data": {
      "text/plain": [
       "(60000, 28, 28)"
      ]
     },
     "execution_count": 20,
     "metadata": {},
     "output_type": "execute_result"
    }
   ],
   "source": [
    "train_images.shape"
   ]
  },
  {
   "cell_type": "code",
   "execution_count": 21,
   "metadata": {},
   "outputs": [],
   "source": [
    "train_images = train_images.reshape(60000, 28, 28, 1)"
   ]
  },
  {
   "cell_type": "code",
   "execution_count": 22,
   "metadata": {
    "scrolled": true
   },
   "outputs": [
    {
     "data": {
      "text/plain": [
       "(60000, 28, 28, 1)"
      ]
     },
     "execution_count": 22,
     "metadata": {},
     "output_type": "execute_result"
    }
   ],
   "source": [
    "train_images.shape"
   ]
  },
  {
   "cell_type": "code",
   "execution_count": 23,
   "metadata": {},
   "outputs": [
    {
     "data": {
      "text/plain": [
       "(10000, 28, 28, 1)"
      ]
     },
     "execution_count": 23,
     "metadata": {},
     "output_type": "execute_result"
    }
   ],
   "source": [
    "#test data reshape\n",
    "test_images = test_images.reshape(10000, 28, 28, 1)\n",
    "test_images.shape"
   ]
  },
  {
   "cell_type": "code",
   "execution_count": 26,
   "metadata": {},
   "outputs": [],
   "source": [
    "cnn_model = Sequential()\n",
    "# # 1. feature extractor => 특징 추출부\n",
    "cnn_model.add(Conv2D(input_shape = (28, 28, 1), # 입력 데이터의 shape 정보\n",
    "                    filters = 3, # number of magnifying glasses(MG)\n",
    "                    # thus, the more you bring MG, the more diverse features will be extracted\n",
    "                    kernel_size = (3, 3), # the size of MG  : 3 * 3 = 9\n",
    "                    activation = \"relu\"\n",
    "                    ))\n",
    "cnn_model.add(MaxPool2D())\n",
    "\n",
    "\n",
    "cnn_model.add(Conv2D(filters = 3, # number of magnifying glasses(MG)\n",
    "                    # thus, the more you bring MG, the more diverse features will be extracted\n",
    "                    kernel_size = (3, 3), # the size of MG  : 3 * 3 = 9\n",
    "                    activation = \"relu\"\n",
    "                    ))\n",
    "cnn_model.add(MaxPool2D())\n",
    "\n",
    "# 2. classifier => MLP (추출된 특징으로 분류)\n",
    "cnn_model.add(Flatten()) # layer that makes data with 1 dimension (simplication)\n",
    "cnn_model.add(Dense(512, activation = \"relu\"))\n",
    "cnn_model.add(Dense(10, activation = \"softmax\"))"
   ]
  },
  {
   "cell_type": "markdown",
   "metadata": {},
   "source": [
    "### 모델학습"
   ]
  },
  {
   "cell_type": "code",
   "execution_count": 27,
   "metadata": {},
   "outputs": [],
   "source": [
    "cnn_model.compile(loss = \"categorical_crossentropy\", optimizer = \"adam\", metrics = ['accuracy'])"
   ]
  },
  {
   "cell_type": "code",
   "execution_count": 28,
   "metadata": {},
   "outputs": [
    {
     "name": "stdout",
     "output_type": "stream",
     "text": [
      "Model: \"sequential\"\n",
      "_________________________________________________________________\n",
      "Layer (type)                 Output Shape              Param #   \n",
      "=================================================================\n",
      "conv2d (Conv2D)              (None, 26, 26, 3)         30        \n",
      "_________________________________________________________________\n",
      "max_pooling2d (MaxPooling2D) (None, 13, 13, 3)         0         \n",
      "_________________________________________________________________\n",
      "conv2d_1 (Conv2D)            (None, 11, 11, 3)         84        \n",
      "_________________________________________________________________\n",
      "max_pooling2d_1 (MaxPooling2 (None, 5, 5, 3)           0         \n",
      "_________________________________________________________________\n",
      "flatten (Flatten)            (None, 75)                0         \n",
      "_________________________________________________________________\n",
      "dense (Dense)                (None, 512)               38912     \n",
      "_________________________________________________________________\n",
      "dense_1 (Dense)              (None, 10)                5130      \n",
      "=================================================================\n",
      "Total params: 44,156\n",
      "Trainable params: 44,156\n",
      "Non-trainable params: 0\n",
      "_________________________________________________________________\n"
     ]
    }
   ],
   "source": [
    "cnn_model.summary()"
   ]
  },
  {
   "cell_type": "code",
   "execution_count": 29,
   "metadata": {
    "scrolled": true
   },
   "outputs": [
    {
     "name": "stdout",
     "output_type": "stream",
     "text": [
      "Train on 42000 samples, validate on 18000 samples\n",
      "Epoch 1/15\n",
      "42000/42000 [==============================] - 7s 167us/sample - loss: 0.6661 - accuracy: 0.7593 - val_loss: 0.5413 - val_accuracy: 0.7980\n",
      "Epoch 2/15\n",
      "42000/42000 [==============================] - 3s 81us/sample - loss: 0.4972 - accuracy: 0.8178 - val_loss: 0.5041 - val_accuracy: 0.8124\n",
      "Epoch 3/15\n",
      "42000/42000 [==============================] - 4s 86us/sample - loss: 0.4493 - accuracy: 0.8321 - val_loss: 0.4271 - val_accuracy: 0.8465\n",
      "Epoch 4/15\n",
      "42000/42000 [==============================] - 4s 88us/sample - loss: 0.4157 - accuracy: 0.8463 - val_loss: 0.4150 - val_accuracy: 0.8504\n",
      "Epoch 5/15\n",
      "42000/42000 [==============================] - 3s 82us/sample - loss: 0.3878 - accuracy: 0.8575 - val_loss: 0.4016 - val_accuracy: 0.8548\n",
      "Epoch 6/15\n",
      "42000/42000 [==============================] - 3s 79us/sample - loss: 0.3693 - accuracy: 0.8620 - val_loss: 0.3805 - val_accuracy: 0.8649\n",
      "Epoch 7/15\n",
      "42000/42000 [==============================] - 3s 75us/sample - loss: 0.3519 - accuracy: 0.8681 - val_loss: 0.3772 - val_accuracy: 0.8628\n",
      "Epoch 8/15\n",
      "42000/42000 [==============================] - 3s 76us/sample - loss: 0.3385 - accuracy: 0.8752 - val_loss: 0.3928 - val_accuracy: 0.8568\n",
      "Epoch 9/15\n",
      "42000/42000 [==============================] - 3s 77us/sample - loss: 0.3259 - accuracy: 0.8795 - val_loss: 0.3692 - val_accuracy: 0.8637\n",
      "Epoch 10/15\n",
      "42000/42000 [==============================] - 3s 79us/sample - loss: 0.3144 - accuracy: 0.8826 - val_loss: 0.3651 - val_accuracy: 0.8698\n",
      "Epoch 11/15\n",
      "42000/42000 [==============================] - 3s 78us/sample - loss: 0.3013 - accuracy: 0.8875 - val_loss: 0.3683 - val_accuracy: 0.8692\n",
      "Epoch 12/15\n",
      "42000/42000 [==============================] - 3s 78us/sample - loss: 0.2933 - accuracy: 0.8905 - val_loss: 0.3825 - val_accuracy: 0.8644\n",
      "Epoch 13/15\n",
      "42000/42000 [==============================] - 3s 79us/sample - loss: 0.2839 - accuracy: 0.8925 - val_loss: 0.3662 - val_accuracy: 0.8674\n",
      "Epoch 14/15\n",
      "42000/42000 [==============================] - 3s 81us/sample - loss: 0.2745 - accuracy: 0.8964 - val_loss: 0.3734 - val_accuracy: 0.8659\n",
      "Epoch 15/15\n",
      "42000/42000 [==============================] - 3s 78us/sample - loss: 0.2657 - accuracy: 0.8996 - val_loss: 0.3707 - val_accuracy: 0.8700\n"
     ]
    },
    {
     "data": {
      "text/plain": [
       "<tensorflow.python.keras.callbacks.History at 0x1c0013dac50>"
      ]
     },
     "execution_count": 29,
     "metadata": {},
     "output_type": "execute_result"
    }
   ],
   "source": [
    "cnn_model.fit(train_images, train_labels_one, epochs=15, validation_split = 0.3)"
   ]
  },
  {
   "cell_type": "markdown",
   "metadata": {},
   "source": [
    "### 모델 평가"
   ]
  },
  {
   "cell_type": "code",
   "execution_count": 30,
   "metadata": {
    "scrolled": true
   },
   "outputs": [
    {
     "name": "stdout",
     "output_type": "stream",
     "text": [
      "10000/10000 [==============================] - 0s 39us/sample - loss: 0.3816 - accuracy: 0.8709\n"
     ]
    },
    {
     "data": {
      "text/plain": [
       "[0.3816235662460327, 0.8709]"
      ]
     },
     "execution_count": 30,
     "metadata": {},
     "output_type": "execute_result"
    }
   ],
   "source": [
    "cnn_model.evaluate(test_images, test_labels_one)"
   ]
  },
  {
   "cell_type": "code",
   "execution_count": null,
   "metadata": {},
   "outputs": [],
   "source": []
  },
  {
   "cell_type": "code",
   "execution_count": null,
   "metadata": {},
   "outputs": [],
   "source": []
  },
  {
   "cell_type": "code",
   "execution_count": null,
   "metadata": {},
   "outputs": [],
   "source": []
  },
  {
   "cell_type": "code",
   "execution_count": null,
   "metadata": {},
   "outputs": [],
   "source": []
  },
  {
   "cell_type": "code",
   "execution_count": null,
   "metadata": {},
   "outputs": [],
   "source": []
  },
  {
   "cell_type": "code",
   "execution_count": null,
   "metadata": {},
   "outputs": [],
   "source": []
  }
 ],
 "metadata": {
  "kernelspec": {
   "display_name": "Python 3",
   "language": "python",
   "name": "python3"
  },
  "language_info": {
   "codemirror_mode": {
    "name": "ipython",
    "version": 3
   },
   "file_extension": ".py",
   "mimetype": "text/x-python",
   "name": "python",
   "nbconvert_exporter": "python",
   "pygments_lexer": "ipython3",
   "version": "3.8.5"
  }
 },
 "nbformat": 4,
 "nbformat_minor": 5
}
