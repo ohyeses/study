{
 "cells": [
  {
   "cell_type": "markdown",
   "metadata": {},
   "source": [
    "### request 사용법"
   ]
  },
  {
   "cell_type": "code",
   "execution_count": 4,
   "metadata": {
    "scrolled": false
   },
   "outputs": [],
   "source": [
    "# 서버에 페이지 정보를 요청할 때 사용하는 라이브러리\n",
    "import requests as req"
   ]
  },
  {
   "cell_type": "code",
   "execution_count": 29,
   "metadata": {},
   "outputs": [],
   "source": [
    "url = \"https://www.naver.com/\"\n",
    "res = req.get(url)\n",
    "# response[200] 잘 응답되었습니다."
   ]
  },
  {
   "cell_type": "code",
   "execution_count": 11,
   "metadata": {
    "scrolled": false
   },
   "outputs": [
    {
     "ename": "TypeError",
     "evalue": "bad operand type for unary -: 'str'",
     "output_type": "error",
     "traceback": [
      "\u001b[1;31m---------------------------------------------------------------------------\u001b[0m",
      "\u001b[1;31mTypeError\u001b[0m                                 Traceback (most recent call last)",
      "\u001b[1;32m<ipython-input-11-f9b93d73844f>\u001b[0m in \u001b[0;36m<module>\u001b[1;34m\u001b[0m\n\u001b[0;32m      1\u001b[0m \u001b[1;31m# 요청한 정보의 페이지를 보기\u001b[0m\u001b[1;33m\u001b[0m\u001b[1;33m\u001b[0m\u001b[1;33m\u001b[0m\u001b[0m\n\u001b[1;32m----> 2\u001b[1;33m \u001b[1;33m-\u001b[0m\u001b[1;33m-\u001b[0m \u001b[0mres\u001b[0m\u001b[1;33m.\u001b[0m\u001b[0mtext\u001b[0m\u001b[1;33m\u001b[0m\u001b[1;33m\u001b[0m\u001b[0m\n\u001b[0m",
      "\u001b[1;31mTypeError\u001b[0m: bad operand type for unary -: 'str'"
     ]
    }
   ],
   "source": [
    "# 요청한 정보의 페이지를 보기\n",
    "res.text"
   ]
  },
  {
   "cell_type": "markdown",
   "metadata": {},
   "source": [
    "# Melon 홈페이지 정보 가져오기"
   ]
  },
  {
   "cell_type": "code",
   "execution_count": 17,
   "metadata": {},
   "outputs": [],
   "source": [
    "m_url = \"https://www.melon.com/\"\n",
    "res = req.get(m_url)\n",
    "# 406 => 요청을 거부했다."
   ]
  },
  {
   "cell_type": "code",
   "execution_count": 16,
   "metadata": {},
   "outputs": [
    {
     "data": {
      "text/plain": [
       "<Response [406]>"
      ]
     },
     "execution_count": 16,
     "metadata": {},
     "output_type": "execute_result"
    }
   ],
   "source": [
    "res"
   ]
  },
  {
   "cell_type": "code",
   "execution_count": 18,
   "metadata": {},
   "outputs": [],
   "source": [
    "# 컴퓨터가 아닌 사람으로 속이는 작업(headers)\n",
    "h = {\"User-Agent\": \"Mozilla/5.0 (Windows NT 10.0; Win64; x64) AppleWebKit/537.36 (KHTML, like Gecko) Chrome/83.0.4103.116 Safari/537.36\"}"
   ]
  },
  {
   "cell_type": "code",
   "execution_count": 19,
   "metadata": {},
   "outputs": [],
   "source": [
    "res = req.get(m_url, headers = h)"
   ]
  },
  {
   "cell_type": "code",
   "execution_count": 21,
   "metadata": {
    "scrolled": false
   },
   "outputs": [
    {
     "data": {
      "text/plain": [
       "<Response [200]>"
      ]
     },
     "execution_count": 21,
     "metadata": {},
     "output_type": "execute_result"
    }
   ],
   "source": [
    "res"
   ]
  },
  {
   "cell_type": "code",
   "execution_count": 25,
   "metadata": {
    "scrolled": false
   },
   "outputs": [],
   "source": [
    "res.text"
   ]
  },
  {
   "cell_type": "markdown",
   "metadata": {},
   "source": [
    "# BeautifulSoup\n",
    "--가져온 데이터에서 내가 원하는 내용만 추출할 때 사용"
   ]
  },
  {
   "cell_type": "code",
   "execution_count": 26,
   "metadata": {
    "scrolled": true
   },
   "outputs": [
    {
     "name": "stdout",
     "output_type": "stream",
     "text": [
      "Requirement already satisfied: beautifulsoup4 in c:\\users\\smhrd\\anaconda3\\lib\\site-packages (4.9.3)\n",
      "Requirement already satisfied: soupsieve>1.2; python_version >= \"3.0\" in c:\\users\\smhrd\\anaconda3\\lib\\site-packages (from beautifulsoup4) (2.0.1)\n"
     ]
    }
   ],
   "source": [
    "!pip install beautifulsoup4"
   ]
  },
  {
   "cell_type": "code",
   "execution_count": 27,
   "metadata": {},
   "outputs": [],
   "source": [
    "from bs4 import BeautifulSoup as bs"
   ]
  },
  {
   "cell_type": "code",
   "execution_count": 31,
   "metadata": {},
   "outputs": [],
   "source": [
    "#bs(어떤걸 가공할건지 , 어떻게 가공할건지 - 파싱방법)\n",
    "soup = bs(res.text, 'lxml')"
   ]
  },
  {
   "cell_type": "code",
   "execution_count": 34,
   "metadata": {
    "scrolled": true
   },
   "outputs": [],
   "source": [
    "# find_all = 특정 데이터를 모두 찾아오는 기능(태그, 클래스/아이디)\n",
    "result = soup.find_all('a', class_ = 'nav') # 숲에서 찾기"
   ]
  },
  {
   "cell_type": "code",
   "execution_count": 35,
   "metadata": {
    "scrolled": false
   },
   "outputs": [
    {
     "data": {
      "text/plain": [
       "[<a class=\"nav\" data-clk=\"svc.mail\" href=\"https://mail.naver.com/\"><i class=\"ico_mail\"></i>메일</a>,\n",
       " <a class=\"nav\" data-clk=\"svc.cafe\" href=\"https://section.cafe.naver.com/\">카페</a>,\n",
       " <a class=\"nav\" data-clk=\"svc.blog\" href=\"https://section.blog.naver.com/\">블로그</a>,\n",
       " <a class=\"nav\" data-clk=\"svc.kin\" href=\"https://kin.naver.com/\">지식iN</a>,\n",
       " <a class=\"nav\" data-clk=\"svc.shopping\" href=\"https://shopping.naver.com/\">쇼핑</a>,\n",
       " <a class=\"nav\" data-clk=\"svc.pay\" href=\"https://order.pay.naver.com/home\">Pay</a>,\n",
       " <a class=\"nav\" data-clk=\"svc.tvcast\" href=\"https://tv.naver.com/\"><i class=\"ico_tv\"></i>TV</a>,\n",
       " <a class=\"nav\" data-clk=\"svc.dic\" href=\"https://dict.naver.com/\">사전</a>,\n",
       " <a class=\"nav\" data-clk=\"svc.news\" href=\"https://news.naver.com/\">뉴스</a>,\n",
       " <a class=\"nav\" data-clk=\"svc.stock\" href=\"https://finance.naver.com/\">증권</a>,\n",
       " <a class=\"nav\" data-clk=\"svc.land\" href=\"https://land.naver.com/\">부동산</a>,\n",
       " <a class=\"nav\" data-clk=\"svc.map\" href=\"https://map.naver.com/\">지도</a>,\n",
       " <a class=\"nav\" data-clk=\"svc.movie\" href=\"https://movie.naver.com/\">영화</a>,\n",
       " <a class=\"nav\" data-clk=\"svc.vibe\" href=\"https://vibe.naver.com/\">VIBE</a>,\n",
       " <a class=\"nav\" data-clk=\"svc.book\" href=\"https://book.naver.com/\">책</a>,\n",
       " <a class=\"nav\" data-clk=\"svc.webtoon\" href=\"https://comic.naver.com/\">웹툰</a>]"
      ]
     },
     "execution_count": 35,
     "metadata": {},
     "output_type": "execute_result"
    }
   ],
   "source": [
    "result"
   ]
  },
  {
   "cell_type": "code",
   "execution_count": 37,
   "metadata": {},
   "outputs": [
    {
     "data": {
      "text/plain": [
       "<a class=\"nav\" data-clk=\"svc.blog\" href=\"https://section.blog.naver.com/\">블로그</a>"
      ]
     },
     "execution_count": 37,
     "metadata": {},
     "output_type": "execute_result"
    }
   ],
   "source": [
    "result[2] # 인덱스 2번"
   ]
  },
  {
   "cell_type": "code",
   "execution_count": 38,
   "metadata": {},
   "outputs": [
    {
     "data": {
      "text/plain": [
       "'블로그'"
      ]
     },
     "execution_count": 38,
     "metadata": {},
     "output_type": "execute_result"
    }
   ],
   "source": [
    "result[2].text #text하면 다 없어지고 내용만 남음"
   ]
  },
  {
   "cell_type": "code",
   "execution_count": 39,
   "metadata": {},
   "outputs": [
    {
     "name": "stdout",
     "output_type": "stream",
     "text": [
      "메일\n",
      "카페\n",
      "블로그\n",
      "지식iN\n",
      "쇼핑\n",
      "Pay\n",
      "TV\n",
      "사전\n",
      "뉴스\n",
      "증권\n",
      "부동산\n",
      "지도\n",
      "영화\n",
      "VIBE\n",
      "책\n",
      "웹툰\n"
     ]
    }
   ],
   "source": [
    "# 파이썬 반복문\n",
    "for i in result :\n",
    "    print(i.text)"
   ]
  },
  {
   "cell_type": "markdown",
   "metadata": {},
   "source": [
    "# 코로나 뉴스 타이틀 가져오기"
   ]
  },
  {
   "cell_type": "code",
   "execution_count": null,
   "metadata": {},
   "outputs": [],
   "source": [
    "1. 가져오고 싶은 데이터가 뭔지 주소를 복사해서 url에 넣는다.\n",
    "2. url에 req. get(url)    해 요청을 한다.\n",
    "3. 그렇게 응답받은 리스폰스를 bs(Res.text, '??/')"
   ]
  },
  {
   "cell_type": "code",
   "execution_count": 42,
   "metadata": {},
   "outputs": [],
   "source": [
    "corona_url = \"https://search.naver.com/search.naver?where=nexearch&sm=top_hty&fbm=1&ie=utf8&query=%EC%BD%94%EB%A1%9C%EB%82%98\""
   ]
  },
  {
   "cell_type": "code",
   "execution_count": 43,
   "metadata": {},
   "outputs": [],
   "source": [
    "res = req.get(corona_url)"
   ]
  },
  {
   "cell_type": "code",
   "execution_count": 44,
   "metadata": {},
   "outputs": [],
   "source": [
    "res = req.get(corona_url, headers = h)"
   ]
  },
  {
   "cell_type": "code",
   "execution_count": 45,
   "metadata": {},
   "outputs": [
    {
     "data": {
      "text/plain": [
       "<Response [200]>"
      ]
     },
     "execution_count": 45,
     "metadata": {},
     "output_type": "execute_result"
    }
   ],
   "source": [
    "res"
   ]
  },
  {
   "cell_type": "code",
   "execution_count": 46,
   "metadata": {},
   "outputs": [],
   "source": [
    "soup = bs(res.text, 'lxml')"
   ]
  },
  {
   "cell_type": "code",
   "execution_count": 47,
   "metadata": {},
   "outputs": [],
   "source": [
    "result = soup.find_all('a', class_ = 'news_tit')"
   ]
  },
  {
   "cell_type": "code",
   "execution_count": 50,
   "metadata": {},
   "outputs": [
    {
     "data": {
      "text/plain": [
       "[<a class=\"news_tit\" href=\"http://news.mt.co.kr/mtview.php?no=2020123009360463838\" onclick=\"return goOtherCR(this, 'a=nws_all*h.tit&amp;r=1&amp;i=880000C2_000000000000000004521381&amp;g=008.0004521381&amp;u='+urlencode(this.href));\" target=\"_blank\" title=\"코로나 재유행에 소비 위축 본격화…주식·반도체는 '활활'(종합)\"><mark>코로나</mark> 재유행에 소비 위축 본격화…주식·반도체는 '활활'(종합)</a>,\n",
       " <a class=\"news_tit\" href=\"http://yna.kr/AKR20201230024151002?did=1195m\" onclick=\"return goOtherCR(this, 'a=nws_all*h.tit&amp;r=3&amp;i=880000D8_000000000000000012109153&amp;g=001.0012109153&amp;u='+urlencode(this.href));\" target=\"_blank\" title=\"코로나 재확산한 11월, 소비 감소…생산·투자 증가(종합)\"><mark>코로나</mark> 재확산한 11월, 소비 감소…생산·투자 증가(종합)</a>,\n",
       " <a class=\"news_tit\" href=\"http://yna.kr/AKR20201230013751071?did=1195m\" onclick=\"return goOtherCR(this, 'a=nws_all*a.tit&amp;r=6&amp;i=880000D8_000000000000000012109084&amp;g=001.0012109084&amp;u='+urlencode(this.href));\" target=\"_blank\" title=\"'확진자 1위' 미국에서도 변이 코로나19 첫 사례 나왔다(종합)\">'확진자 1위' 미국에서도 변이 <mark>코로나</mark>19 첫 사례 나왔다(종합)</a>,\n",
       " <a class=\"news_tit\" href=\"https://biz.chosun.com/site/data/html_dir/2020/12/30/2020123000803.html?utm_source=naver&amp;utm_medium=original&amp;utm_campaign=biz\" onclick=\"return goOtherCR(this, 'a=nws_all*h.tit&amp;r=8&amp;i=88127058_000000000000000000643650&amp;g=366.0000643650&amp;u='+urlencode(this.href));\" target=\"_blank\" title=\"코로나 신규 확진자 1050명... 사망자 20명(종합)\"><mark>코로나</mark> 신규 확진자 1050명... 사망자 20명(종합)</a>]"
      ]
     },
     "execution_count": 50,
     "metadata": {},
     "output_type": "execute_result"
    }
   ],
   "source": [
    "result"
   ]
  },
  {
   "cell_type": "code",
   "execution_count": 52,
   "metadata": {},
   "outputs": [
    {
     "data": {
      "text/plain": [
       "<a class=\"news_tit\" href=\"http://news.mt.co.kr/mtview.php?no=2020123009360463838\" onclick=\"return goOtherCR(this, 'a=nws_all*h.tit&amp;r=1&amp;i=880000C2_000000000000000004521381&amp;g=008.0004521381&amp;u='+urlencode(this.href));\" target=\"_blank\" title=\"코로나 재유행에 소비 위축 본격화…주식·반도체는 '활활'(종합)\"><mark>코로나</mark> 재유행에 소비 위축 본격화…주식·반도체는 '활활'(종합)</a>"
      ]
     },
     "execution_count": 52,
     "metadata": {},
     "output_type": "execute_result"
    }
   ],
   "source": [
    "result[0]"
   ]
  },
  {
   "cell_type": "code",
   "execution_count": 53,
   "metadata": {},
   "outputs": [
    {
     "data": {
      "text/plain": [
       "<a class=\"news_tit\" href=\"http://yna.kr/AKR20201230024151002?did=1195m\" onclick=\"return goOtherCR(this, 'a=nws_all*h.tit&amp;r=3&amp;i=880000D8_000000000000000012109153&amp;g=001.0012109153&amp;u='+urlencode(this.href));\" target=\"_blank\" title=\"코로나 재확산한 11월, 소비 감소…생산·투자 증가(종합)\"><mark>코로나</mark> 재확산한 11월, 소비 감소…생산·투자 증가(종합)</a>"
      ]
     },
     "execution_count": 53,
     "metadata": {},
     "output_type": "execute_result"
    }
   ],
   "source": [
    "result[1]"
   ]
  },
  {
   "cell_type": "code",
   "execution_count": 51,
   "metadata": {},
   "outputs": [
    {
     "data": {
      "text/plain": [
       "<a class=\"news_tit\" href=\"http://yna.kr/AKR20201230013751071?did=1195m\" onclick=\"return goOtherCR(this, 'a=nws_all*a.tit&amp;r=6&amp;i=880000D8_000000000000000012109084&amp;g=001.0012109084&amp;u='+urlencode(this.href));\" target=\"_blank\" title=\"'확진자 1위' 미국에서도 변이 코로나19 첫 사례 나왔다(종합)\">'확진자 1위' 미국에서도 변이 <mark>코로나</mark>19 첫 사례 나왔다(종합)</a>"
      ]
     },
     "execution_count": 51,
     "metadata": {},
     "output_type": "execute_result"
    }
   ],
   "source": [
    "result[2]"
   ]
  },
  {
   "cell_type": "code",
   "execution_count": 54,
   "metadata": {},
   "outputs": [
    {
     "data": {
      "text/plain": [
       "\"코로나 재유행에 소비 위축 본격화…주식·반도체는 '활활'(종합)\""
      ]
     },
     "execution_count": 54,
     "metadata": {},
     "output_type": "execute_result"
    }
   ],
   "source": [
    "result[0].text"
   ]
  },
  {
   "cell_type": "code",
   "execution_count": 55,
   "metadata": {},
   "outputs": [
    {
     "name": "stdout",
     "output_type": "stream",
     "text": [
      "코로나 재유행에 소비 위축 본격화…주식·반도체는 '활활'(종합)\n",
      "코로나 재확산한 11월, 소비 감소…생산·투자 증가(종합)\n",
      "'확진자 1위' 미국에서도 변이 코로나19 첫 사례 나왔다(종합)\n",
      "코로나 신규 확진자 1050명... 사망자 20명(종합)\n"
     ]
    }
   ],
   "source": [
    "for i in result :\n",
    "    print(i.text)"
   ]
  },
  {
   "cell_type": "code",
   "execution_count": 58,
   "metadata": {},
   "outputs": [],
   "source": [
    "url = \"https://search.naver.com/search.naver?sm=tab_hty.top&where=nexearch&query=%EA%B8%B0%EC%95%84&oquery=%EC%BD%94%EB%A1%9C%EB%82%98&tqi=U%2BwPFwp0JXVssS3U4qRssssss7R-247119\"\n",
    "res = req.get(url)"
   ]
  },
  {
   "cell_type": "code",
   "execution_count": 59,
   "metadata": {},
   "outputs": [],
   "source": [
    "soup = bs(res.text, 'lxml')"
   ]
  },
  {
   "cell_type": "markdown",
   "metadata": {},
   "source": [
    "- soup.select() # 쌤은 find.all() 거의사용 하지 않음. select 씀"
   ]
  },
  {
   "cell_type": "code",
   "execution_count": 61,
   "metadata": {},
   "outputs": [],
   "source": [
    "result = soup.select('.news_tit') # .[클래스이름]"
   ]
  },
  {
   "cell_type": "code",
   "execution_count": 62,
   "metadata": {},
   "outputs": [
    {
     "name": "stdout",
     "output_type": "stream",
     "text": [
      "보석 본떴다, 항공기 닮았다... 현대기아차, 美 ‘굿디자인 어워드’ 9개 수상\n",
      "현대차·기아차·제네시스 9종, 美 굿디자인어워드 수상\n",
      "기아차 노조, 임단협 잠정합의안 가결…30일 조인식\n",
      "기아차 노조 임단협 가결\n"
     ]
    }
   ],
   "source": [
    "for i in result: \n",
    "    print(i.text)"
   ]
  },
  {
   "cell_type": "markdown",
   "metadata": {},
   "source": [
    "# 영화명 가져오기"
   ]
  },
  {
   "cell_type": "code",
   "execution_count": null,
   "metadata": {},
   "outputs": [],
   "source": []
  },
  {
   "cell_type": "code",
   "execution_count": 80,
   "metadata": {},
   "outputs": [],
   "source": [
    "movie_url = \"https://movie.naver.com/movie/sdb/rank/rmovie.nhn?sel=cur&date=20201229\"\n",
    "res = req.get(movie_url)"
   ]
  },
  {
   "cell_type": "code",
   "execution_count": 81,
   "metadata": {},
   "outputs": [],
   "source": [
    "soup = bs(res.text, 'lxml')"
   ]
  },
  {
   "cell_type": "code",
   "execution_count": 89,
   "metadata": {},
   "outputs": [],
   "source": [
    "result = soup.select('.tit5') # a 태그 안에있는걸 가져와야함 근데 없음. \n",
    "# a 태그가 쓰이는 곳 무수히 많아서 원하는 걸 가져 오지 못함. 태그의 이름으로 가져오는걸 비추천\n",
    "# 클래스 명이나 자식의 이름을 가져오는걸 추천\n",
    "# 1. div 태그 안의 자식 a 으로 가져오는건?  div > a\n",
    "## soup.select(.tit5 > a)"
   ]
  },
  {
   "cell_type": "code",
   "execution_count": 94,
   "metadata": {},
   "outputs": [],
   "source": [
    "result = soup.select('.tit5 > a')"
   ]
  },
  {
   "cell_type": "code",
   "execution_count": 96,
   "metadata": {},
   "outputs": [
    {
     "data": {
      "text/plain": [
       "46"
      ]
     },
     "execution_count": 96,
     "metadata": {},
     "output_type": "execute_result"
    }
   ],
   "source": [
    "len (result) "
   ]
  },
  {
   "cell_type": "code",
   "execution_count": 92,
   "metadata": {},
   "outputs": [
    {
     "ename": "SyntaxError",
     "evalue": "invalid syntax (<ipython-input-92-a5deff784495>, line 1)",
     "output_type": "error",
     "traceback": [
      "\u001b[1;36m  File \u001b[1;32m\"<ipython-input-92-a5deff784495>\"\u001b[1;36m, line \u001b[1;32m1\u001b[0m\n\u001b[1;33m    //result\u001b[0m\n\u001b[1;37m    ^\u001b[0m\n\u001b[1;31mSyntaxError\u001b[0m\u001b[1;31m:\u001b[0m invalid syntax\n"
     ]
    }
   ],
   "source": [
    "result"
   ]
  },
  {
   "cell_type": "code",
   "execution_count": 97,
   "metadata": {},
   "outputs": [
    {
     "name": "stdout",
     "output_type": "stream",
     "text": [
      "가나의 혼인잔치: 언약\n",
      "언플랜드\n",
      "극장판 바이올렛 에버가든\n",
      "부활: 그 증거\n",
      "소년시절의 너\n",
      "페이트 스테이 나이트 헤븐즈필 III.스프링 송\n",
      "일 포스티노\n",
      "사랑의 블랙홀\n",
      "러브레터\n",
      "타오르는 여인의 초상\n",
      "글루미 선데이\n",
      "당신이 잠든 사이에\n",
      "노트북\n",
      "조제, 호랑이 그리고 물고기들\n",
      "온워드: 단 하루의 기적\n",
      "윤희에게\n",
      "남매의 여름밤\n",
      "러브 액츄얼리\n",
      "담보\n",
      "해리가 샐리를 만났을 때\n",
      "화양연화\n",
      "찬실이는 복도 많지\n",
      "귀여운 여인\n",
      "피아노\n",
      "퐁네프의 연인들\n",
      "킹덤 오브 헤븐\n",
      "철도원\n",
      "아비정전\n",
      "레토\n",
      "삼진그룹 영어토익반\n",
      "패터슨\n",
      "콜드 워\n",
      "테넷\n",
      "런\n",
      "하나와 앨리스\n",
      "존 윅 3: 파라벨룸\n",
      "일대종사\n",
      "발레리안: 천 개 행성의 도시\n",
      "펀치 드렁크 러브\n",
      "도굴\n",
      "애비규환\n",
      "프리키 데스데이\n",
      "조제\n",
      "이웃사촌\n",
      "원더 우먼 1984\n",
      "800\n"
     ]
    }
   ],
   "source": [
    "for i in result:\n",
    "    print(i.text.strip()) #.strip() 엔터를 없애줌\n",
    "                            #div 있으면 그 공간이 엔터가 됨."
   ]
  },
  {
   "cell_type": "markdown",
   "metadata": {},
   "source": [
    "# 네이버 영화 평점 순위"
   ]
  },
  {
   "cell_type": "markdown",
   "metadata": {},
   "source": [
    "### 평점 가져오기"
   ]
  },
  {
   "cell_type": "code",
   "execution_count": 99,
   "metadata": {},
   "outputs": [],
   "source": [
    "grade_url = \"https://movie.naver.com/movie/sdb/rank/rmovie.nhn?sel=cur&date=20201229\"\n",
    "res = req.get(grade_url)"
   ]
  },
  {
   "cell_type": "code",
   "execution_count": 100,
   "metadata": {},
   "outputs": [],
   "source": [
    "soup = bs(res.text, 'lxml')"
   ]
  },
  {
   "cell_type": "code",
   "execution_count": 105,
   "metadata": {},
   "outputs": [],
   "source": [
    "result = soup.select('.point')\n",
    "# result = soup.select('.tit5 > a')"
   ]
  },
  {
   "cell_type": "code",
   "execution_count": 108,
   "metadata": {},
   "outputs": [],
   "source": [
    "result"
   ]
  },
  {
   "cell_type": "code",
   "execution_count": 107,
   "metadata": {},
   "outputs": [
    {
     "name": "stdout",
     "output_type": "stream",
     "text": [
      "9.57\n",
      "9.57\n",
      "9.49\n",
      "9.40\n",
      "9.40\n",
      "9.26\n",
      "9.16\n",
      "9.15\n",
      "9.12\n",
      "9.06\n",
      "9.06\n",
      "9.06\n",
      "9.05\n",
      "9.00\n",
      "9.00\n",
      "8.98\n",
      "8.97\n",
      "8.94\n",
      "8.91\n",
      "8.89\n",
      "8.85\n",
      "8.72\n",
      "8.70\n",
      "8.66\n",
      "8.63\n",
      "8.61\n",
      "8.59\n",
      "8.49\n",
      "8.43\n",
      "8.36\n",
      "8.30\n",
      "8.26\n",
      "8.20\n",
      "8.19\n",
      "8.11\n",
      "8.01\n",
      "8.01\n",
      "7.79\n",
      "7.73\n",
      "7.39\n",
      "7.01\n",
      "6.86\n",
      "6.70\n",
      "5.99\n",
      "5.70\n",
      "3.62\n"
     ]
    }
   ],
   "source": [
    "for i in range:\n",
    "    print(i.text.strip())"
   ]
  },
  {
   "cell_type": "code",
   "execution_count": 109,
   "metadata": {},
   "outputs": [
    {
     "name": "stdout",
     "output_type": "stream",
     "text": [
      "9.57\n",
      "9.57\n",
      "9.49\n",
      "9.40\n",
      "9.40\n",
      "9.26\n",
      "9.16\n",
      "9.15\n",
      "9.12\n",
      "9.06\n"
     ]
    }
   ],
   "source": [
    "// 탑 10\n",
    "for i in range(0,10):\n",
    "    print(result[i].text)"
   ]
  },
  {
   "cell_type": "markdown",
   "metadata": {},
   "source": [
    "# 데이터프레임 추가하기"
   ]
  },
  {
   "cell_type": "code",
   "execution_count": 121,
   "metadata": {},
   "outputs": [],
   "source": [
    "import pandas as pd"
   ]
  },
  {
   "cell_type": "code",
   "execution_count": 122,
   "metadata": {},
   "outputs": [],
   "source": [
    "result = soup.select('.tit5> a')\n",
    "result2 = soup.select('.point')"
   ]
  },
  {
   "cell_type": "code",
   "execution_count": 123,
   "metadata": {},
   "outputs": [],
   "source": [
    "title_list = []\n",
    "rate_list = []\n",
    "rank_list = []\n",
    "\n",
    "for i in range(len(result)):\n",
    "    title_list.append(result[i].text)\n",
    "    rate_list.append(result2[i].text)\n",
    "    rank_list.append(i+1)"
   ]
  },
  {
   "cell_type": "code",
   "execution_count": 143,
   "metadata": {},
   "outputs": [],
   "source": [
    "movie_dic = {'순위' : rank_list, '영화명': title_list, '평점': rate_list }\n",
    "# 키 값이 컬럼명이 되고 컬럼 명에 따른 값들은 value 값이 된다."
   ]
  },
  {
   "cell_type": "code",
   "execution_count": 144,
   "metadata": {},
   "outputs": [],
   "source": [
    "movie = pd.DataFrame(movie_dic)"
   ]
  },
  {
   "cell_type": "code",
   "execution_count": 145,
   "metadata": {},
   "outputs": [
    {
     "data": {
      "text/html": [
       "<div>\n",
       "<style scoped>\n",
       "    .dataframe tbody tr th:only-of-type {\n",
       "        vertical-align: middle;\n",
       "    }\n",
       "\n",
       "    .dataframe tbody tr th {\n",
       "        vertical-align: top;\n",
       "    }\n",
       "\n",
       "    .dataframe thead th {\n",
       "        text-align: right;\n",
       "    }\n",
       "</style>\n",
       "<table border=\"1\" class=\"dataframe\">\n",
       "  <thead>\n",
       "    <tr style=\"text-align: right;\">\n",
       "      <th></th>\n",
       "      <th>영화명</th>\n",
       "      <th>평점</th>\n",
       "    </tr>\n",
       "    <tr>\n",
       "      <th>순위</th>\n",
       "      <th></th>\n",
       "      <th></th>\n",
       "    </tr>\n",
       "  </thead>\n",
       "  <tbody>\n",
       "    <tr>\n",
       "      <th>1</th>\n",
       "      <td>가나의 혼인잔치: 언약</td>\n",
       "      <td>9.57</td>\n",
       "    </tr>\n",
       "    <tr>\n",
       "      <th>2</th>\n",
       "      <td>언플랜드</td>\n",
       "      <td>9.57</td>\n",
       "    </tr>\n",
       "    <tr>\n",
       "      <th>3</th>\n",
       "      <td>극장판 바이올렛 에버가든</td>\n",
       "      <td>9.49</td>\n",
       "    </tr>\n",
       "    <tr>\n",
       "      <th>4</th>\n",
       "      <td>부활: 그 증거</td>\n",
       "      <td>9.40</td>\n",
       "    </tr>\n",
       "    <tr>\n",
       "      <th>5</th>\n",
       "      <td>소년시절의 너</td>\n",
       "      <td>9.40</td>\n",
       "    </tr>\n",
       "    <tr>\n",
       "      <th>6</th>\n",
       "      <td>페이트 스테이 나이트 헤븐즈필 III.스프링 송</td>\n",
       "      <td>9.26</td>\n",
       "    </tr>\n",
       "    <tr>\n",
       "      <th>7</th>\n",
       "      <td>일 포스티노</td>\n",
       "      <td>9.16</td>\n",
       "    </tr>\n",
       "    <tr>\n",
       "      <th>8</th>\n",
       "      <td>사랑의 블랙홀</td>\n",
       "      <td>9.15</td>\n",
       "    </tr>\n",
       "    <tr>\n",
       "      <th>9</th>\n",
       "      <td>러브레터</td>\n",
       "      <td>9.12</td>\n",
       "    </tr>\n",
       "    <tr>\n",
       "      <th>10</th>\n",
       "      <td>타오르는 여인의 초상</td>\n",
       "      <td>9.06</td>\n",
       "    </tr>\n",
       "    <tr>\n",
       "      <th>11</th>\n",
       "      <td>글루미 선데이</td>\n",
       "      <td>9.06</td>\n",
       "    </tr>\n",
       "    <tr>\n",
       "      <th>12</th>\n",
       "      <td>당신이 잠든 사이에</td>\n",
       "      <td>9.06</td>\n",
       "    </tr>\n",
       "    <tr>\n",
       "      <th>13</th>\n",
       "      <td>노트북</td>\n",
       "      <td>9.05</td>\n",
       "    </tr>\n",
       "    <tr>\n",
       "      <th>14</th>\n",
       "      <td>조제, 호랑이 그리고 물고기들</td>\n",
       "      <td>9.00</td>\n",
       "    </tr>\n",
       "    <tr>\n",
       "      <th>15</th>\n",
       "      <td>온워드: 단 하루의 기적</td>\n",
       "      <td>9.00</td>\n",
       "    </tr>\n",
       "    <tr>\n",
       "      <th>16</th>\n",
       "      <td>윤희에게</td>\n",
       "      <td>8.98</td>\n",
       "    </tr>\n",
       "    <tr>\n",
       "      <th>17</th>\n",
       "      <td>남매의 여름밤</td>\n",
       "      <td>8.97</td>\n",
       "    </tr>\n",
       "    <tr>\n",
       "      <th>18</th>\n",
       "      <td>러브 액츄얼리</td>\n",
       "      <td>8.94</td>\n",
       "    </tr>\n",
       "    <tr>\n",
       "      <th>19</th>\n",
       "      <td>담보</td>\n",
       "      <td>8.91</td>\n",
       "    </tr>\n",
       "    <tr>\n",
       "      <th>20</th>\n",
       "      <td>해리가 샐리를 만났을 때</td>\n",
       "      <td>8.89</td>\n",
       "    </tr>\n",
       "    <tr>\n",
       "      <th>21</th>\n",
       "      <td>화양연화</td>\n",
       "      <td>8.85</td>\n",
       "    </tr>\n",
       "    <tr>\n",
       "      <th>22</th>\n",
       "      <td>찬실이는 복도 많지</td>\n",
       "      <td>8.72</td>\n",
       "    </tr>\n",
       "    <tr>\n",
       "      <th>23</th>\n",
       "      <td>귀여운 여인</td>\n",
       "      <td>8.70</td>\n",
       "    </tr>\n",
       "    <tr>\n",
       "      <th>24</th>\n",
       "      <td>피아노</td>\n",
       "      <td>8.66</td>\n",
       "    </tr>\n",
       "    <tr>\n",
       "      <th>25</th>\n",
       "      <td>퐁네프의 연인들</td>\n",
       "      <td>8.63</td>\n",
       "    </tr>\n",
       "    <tr>\n",
       "      <th>26</th>\n",
       "      <td>킹덤 오브 헤븐</td>\n",
       "      <td>8.61</td>\n",
       "    </tr>\n",
       "    <tr>\n",
       "      <th>27</th>\n",
       "      <td>철도원</td>\n",
       "      <td>8.59</td>\n",
       "    </tr>\n",
       "    <tr>\n",
       "      <th>28</th>\n",
       "      <td>아비정전</td>\n",
       "      <td>8.49</td>\n",
       "    </tr>\n",
       "    <tr>\n",
       "      <th>29</th>\n",
       "      <td>레토</td>\n",
       "      <td>8.43</td>\n",
       "    </tr>\n",
       "    <tr>\n",
       "      <th>30</th>\n",
       "      <td>삼진그룹 영어토익반</td>\n",
       "      <td>8.36</td>\n",
       "    </tr>\n",
       "    <tr>\n",
       "      <th>31</th>\n",
       "      <td>패터슨</td>\n",
       "      <td>8.30</td>\n",
       "    </tr>\n",
       "    <tr>\n",
       "      <th>32</th>\n",
       "      <td>콜드 워</td>\n",
       "      <td>8.26</td>\n",
       "    </tr>\n",
       "    <tr>\n",
       "      <th>33</th>\n",
       "      <td>테넷</td>\n",
       "      <td>8.20</td>\n",
       "    </tr>\n",
       "    <tr>\n",
       "      <th>34</th>\n",
       "      <td>런</td>\n",
       "      <td>8.19</td>\n",
       "    </tr>\n",
       "    <tr>\n",
       "      <th>35</th>\n",
       "      <td>하나와 앨리스</td>\n",
       "      <td>8.11</td>\n",
       "    </tr>\n",
       "    <tr>\n",
       "      <th>36</th>\n",
       "      <td>존 윅 3: 파라벨룸</td>\n",
       "      <td>8.01</td>\n",
       "    </tr>\n",
       "    <tr>\n",
       "      <th>37</th>\n",
       "      <td>일대종사</td>\n",
       "      <td>8.01</td>\n",
       "    </tr>\n",
       "    <tr>\n",
       "      <th>38</th>\n",
       "      <td>발레리안: 천 개 행성의 도시</td>\n",
       "      <td>7.79</td>\n",
       "    </tr>\n",
       "    <tr>\n",
       "      <th>39</th>\n",
       "      <td>펀치 드렁크 러브</td>\n",
       "      <td>7.73</td>\n",
       "    </tr>\n",
       "    <tr>\n",
       "      <th>40</th>\n",
       "      <td>도굴</td>\n",
       "      <td>7.39</td>\n",
       "    </tr>\n",
       "    <tr>\n",
       "      <th>41</th>\n",
       "      <td>애비규환</td>\n",
       "      <td>7.01</td>\n",
       "    </tr>\n",
       "    <tr>\n",
       "      <th>42</th>\n",
       "      <td>프리키 데스데이</td>\n",
       "      <td>6.86</td>\n",
       "    </tr>\n",
       "    <tr>\n",
       "      <th>43</th>\n",
       "      <td>조제</td>\n",
       "      <td>6.70</td>\n",
       "    </tr>\n",
       "    <tr>\n",
       "      <th>44</th>\n",
       "      <td>이웃사촌</td>\n",
       "      <td>5.99</td>\n",
       "    </tr>\n",
       "    <tr>\n",
       "      <th>45</th>\n",
       "      <td>원더 우먼 1984</td>\n",
       "      <td>5.70</td>\n",
       "    </tr>\n",
       "    <tr>\n",
       "      <th>46</th>\n",
       "      <td>800</td>\n",
       "      <td>3.62</td>\n",
       "    </tr>\n",
       "  </tbody>\n",
       "</table>\n",
       "</div>"
      ],
      "text/plain": [
       "                           영화명    평점\n",
       "순위                                  \n",
       "1                 가나의 혼인잔치: 언약  9.57\n",
       "2                         언플랜드  9.57\n",
       "3                극장판 바이올렛 에버가든  9.49\n",
       "4                     부활: 그 증거  9.40\n",
       "5                      소년시절의 너  9.40\n",
       "6   페이트 스테이 나이트 헤븐즈필 III.스프링 송  9.26\n",
       "7                       일 포스티노  9.16\n",
       "8                      사랑의 블랙홀  9.15\n",
       "9                         러브레터  9.12\n",
       "10                 타오르는 여인의 초상  9.06\n",
       "11                     글루미 선데이  9.06\n",
       "12                  당신이 잠든 사이에  9.06\n",
       "13                         노트북  9.05\n",
       "14            조제, 호랑이 그리고 물고기들  9.00\n",
       "15               온워드: 단 하루의 기적  9.00\n",
       "16                        윤희에게  8.98\n",
       "17                     남매의 여름밤  8.97\n",
       "18                     러브 액츄얼리  8.94\n",
       "19                          담보  8.91\n",
       "20               해리가 샐리를 만났을 때  8.89\n",
       "21                        화양연화  8.85\n",
       "22                  찬실이는 복도 많지  8.72\n",
       "23                      귀여운 여인  8.70\n",
       "24                         피아노  8.66\n",
       "25                    퐁네프의 연인들  8.63\n",
       "26                    킹덤 오브 헤븐  8.61\n",
       "27                         철도원  8.59\n",
       "28                        아비정전  8.49\n",
       "29                          레토  8.43\n",
       "30                  삼진그룹 영어토익반  8.36\n",
       "31                         패터슨  8.30\n",
       "32                        콜드 워  8.26\n",
       "33                          테넷  8.20\n",
       "34                           런  8.19\n",
       "35                     하나와 앨리스  8.11\n",
       "36                 존 윅 3: 파라벨룸  8.01\n",
       "37                        일대종사  8.01\n",
       "38            발레리안: 천 개 행성의 도시  7.79\n",
       "39                   펀치 드렁크 러브  7.73\n",
       "40                          도굴  7.39\n",
       "41                        애비규환  7.01\n",
       "42                    프리키 데스데이  6.86\n",
       "43                          조제  6.70\n",
       "44                        이웃사촌  5.99\n",
       "45                  원더 우먼 1984  5.70\n",
       "46                         800  3.62"
      ]
     },
     "execution_count": 145,
     "metadata": {},
     "output_type": "execute_result"
    }
   ],
   "source": [
    "movie.set_index('순위')"
   ]
  },
  {
   "cell_type": "code",
   "execution_count": 146,
   "metadata": {
    "scrolled": true
   },
   "outputs": [],
   "source": [
    "movie.set_index('순위', inplace = True)\n",
    "# del movie['순위'] 실행 후 ->컬럼들 중에 순위가 없습니다."
   ]
  },
  {
   "cell_type": "code",
   "execution_count": 140,
   "metadata": {
    "scrolled": true
   },
   "outputs": [
    {
     "data": {
      "text/html": [
       "<div>\n",
       "<style scoped>\n",
       "    .dataframe tbody tr th:only-of-type {\n",
       "        vertical-align: middle;\n",
       "    }\n",
       "\n",
       "    .dataframe tbody tr th {\n",
       "        vertical-align: top;\n",
       "    }\n",
       "\n",
       "    .dataframe thead th {\n",
       "        text-align: right;\n",
       "    }\n",
       "</style>\n",
       "<table border=\"1\" class=\"dataframe\">\n",
       "  <thead>\n",
       "    <tr style=\"text-align: right;\">\n",
       "      <th></th>\n",
       "      <th>영화명</th>\n",
       "      <th>평점</th>\n",
       "    </tr>\n",
       "    <tr>\n",
       "      <th>순위</th>\n",
       "      <th></th>\n",
       "      <th></th>\n",
       "    </tr>\n",
       "  </thead>\n",
       "  <tbody>\n",
       "    <tr>\n",
       "      <th>1</th>\n",
       "      <td>가나의 혼인잔치: 언약</td>\n",
       "      <td>9.57</td>\n",
       "    </tr>\n",
       "    <tr>\n",
       "      <th>2</th>\n",
       "      <td>언플랜드</td>\n",
       "      <td>9.57</td>\n",
       "    </tr>\n",
       "    <tr>\n",
       "      <th>3</th>\n",
       "      <td>극장판 바이올렛 에버가든</td>\n",
       "      <td>9.49</td>\n",
       "    </tr>\n",
       "    <tr>\n",
       "      <th>4</th>\n",
       "      <td>부활: 그 증거</td>\n",
       "      <td>9.40</td>\n",
       "    </tr>\n",
       "    <tr>\n",
       "      <th>5</th>\n",
       "      <td>소년시절의 너</td>\n",
       "      <td>9.40</td>\n",
       "    </tr>\n",
       "    <tr>\n",
       "      <th>6</th>\n",
       "      <td>페이트 스테이 나이트 헤븐즈필 III.스프링 송</td>\n",
       "      <td>9.26</td>\n",
       "    </tr>\n",
       "    <tr>\n",
       "      <th>7</th>\n",
       "      <td>일 포스티노</td>\n",
       "      <td>9.16</td>\n",
       "    </tr>\n",
       "    <tr>\n",
       "      <th>8</th>\n",
       "      <td>사랑의 블랙홀</td>\n",
       "      <td>9.15</td>\n",
       "    </tr>\n",
       "    <tr>\n",
       "      <th>9</th>\n",
       "      <td>러브레터</td>\n",
       "      <td>9.12</td>\n",
       "    </tr>\n",
       "    <tr>\n",
       "      <th>10</th>\n",
       "      <td>타오르는 여인의 초상</td>\n",
       "      <td>9.06</td>\n",
       "    </tr>\n",
       "    <tr>\n",
       "      <th>11</th>\n",
       "      <td>글루미 선데이</td>\n",
       "      <td>9.06</td>\n",
       "    </tr>\n",
       "    <tr>\n",
       "      <th>12</th>\n",
       "      <td>당신이 잠든 사이에</td>\n",
       "      <td>9.06</td>\n",
       "    </tr>\n",
       "    <tr>\n",
       "      <th>13</th>\n",
       "      <td>노트북</td>\n",
       "      <td>9.05</td>\n",
       "    </tr>\n",
       "    <tr>\n",
       "      <th>14</th>\n",
       "      <td>조제, 호랑이 그리고 물고기들</td>\n",
       "      <td>9.00</td>\n",
       "    </tr>\n",
       "    <tr>\n",
       "      <th>15</th>\n",
       "      <td>온워드: 단 하루의 기적</td>\n",
       "      <td>9.00</td>\n",
       "    </tr>\n",
       "    <tr>\n",
       "      <th>16</th>\n",
       "      <td>윤희에게</td>\n",
       "      <td>8.98</td>\n",
       "    </tr>\n",
       "    <tr>\n",
       "      <th>17</th>\n",
       "      <td>남매의 여름밤</td>\n",
       "      <td>8.97</td>\n",
       "    </tr>\n",
       "    <tr>\n",
       "      <th>18</th>\n",
       "      <td>러브 액츄얼리</td>\n",
       "      <td>8.94</td>\n",
       "    </tr>\n",
       "    <tr>\n",
       "      <th>19</th>\n",
       "      <td>담보</td>\n",
       "      <td>8.91</td>\n",
       "    </tr>\n",
       "    <tr>\n",
       "      <th>20</th>\n",
       "      <td>해리가 샐리를 만났을 때</td>\n",
       "      <td>8.89</td>\n",
       "    </tr>\n",
       "    <tr>\n",
       "      <th>21</th>\n",
       "      <td>화양연화</td>\n",
       "      <td>8.85</td>\n",
       "    </tr>\n",
       "    <tr>\n",
       "      <th>22</th>\n",
       "      <td>찬실이는 복도 많지</td>\n",
       "      <td>8.72</td>\n",
       "    </tr>\n",
       "    <tr>\n",
       "      <th>23</th>\n",
       "      <td>귀여운 여인</td>\n",
       "      <td>8.70</td>\n",
       "    </tr>\n",
       "    <tr>\n",
       "      <th>24</th>\n",
       "      <td>피아노</td>\n",
       "      <td>8.66</td>\n",
       "    </tr>\n",
       "    <tr>\n",
       "      <th>25</th>\n",
       "      <td>퐁네프의 연인들</td>\n",
       "      <td>8.63</td>\n",
       "    </tr>\n",
       "    <tr>\n",
       "      <th>26</th>\n",
       "      <td>킹덤 오브 헤븐</td>\n",
       "      <td>8.61</td>\n",
       "    </tr>\n",
       "    <tr>\n",
       "      <th>27</th>\n",
       "      <td>철도원</td>\n",
       "      <td>8.59</td>\n",
       "    </tr>\n",
       "    <tr>\n",
       "      <th>28</th>\n",
       "      <td>아비정전</td>\n",
       "      <td>8.49</td>\n",
       "    </tr>\n",
       "    <tr>\n",
       "      <th>29</th>\n",
       "      <td>레토</td>\n",
       "      <td>8.43</td>\n",
       "    </tr>\n",
       "    <tr>\n",
       "      <th>30</th>\n",
       "      <td>삼진그룹 영어토익반</td>\n",
       "      <td>8.36</td>\n",
       "    </tr>\n",
       "    <tr>\n",
       "      <th>31</th>\n",
       "      <td>패터슨</td>\n",
       "      <td>8.30</td>\n",
       "    </tr>\n",
       "    <tr>\n",
       "      <th>32</th>\n",
       "      <td>콜드 워</td>\n",
       "      <td>8.26</td>\n",
       "    </tr>\n",
       "    <tr>\n",
       "      <th>33</th>\n",
       "      <td>테넷</td>\n",
       "      <td>8.20</td>\n",
       "    </tr>\n",
       "    <tr>\n",
       "      <th>34</th>\n",
       "      <td>런</td>\n",
       "      <td>8.19</td>\n",
       "    </tr>\n",
       "    <tr>\n",
       "      <th>35</th>\n",
       "      <td>하나와 앨리스</td>\n",
       "      <td>8.11</td>\n",
       "    </tr>\n",
       "    <tr>\n",
       "      <th>36</th>\n",
       "      <td>존 윅 3: 파라벨룸</td>\n",
       "      <td>8.01</td>\n",
       "    </tr>\n",
       "    <tr>\n",
       "      <th>37</th>\n",
       "      <td>일대종사</td>\n",
       "      <td>8.01</td>\n",
       "    </tr>\n",
       "    <tr>\n",
       "      <th>38</th>\n",
       "      <td>발레리안: 천 개 행성의 도시</td>\n",
       "      <td>7.79</td>\n",
       "    </tr>\n",
       "    <tr>\n",
       "      <th>39</th>\n",
       "      <td>펀치 드렁크 러브</td>\n",
       "      <td>7.73</td>\n",
       "    </tr>\n",
       "    <tr>\n",
       "      <th>40</th>\n",
       "      <td>도굴</td>\n",
       "      <td>7.39</td>\n",
       "    </tr>\n",
       "    <tr>\n",
       "      <th>41</th>\n",
       "      <td>애비규환</td>\n",
       "      <td>7.01</td>\n",
       "    </tr>\n",
       "    <tr>\n",
       "      <th>42</th>\n",
       "      <td>프리키 데스데이</td>\n",
       "      <td>6.86</td>\n",
       "    </tr>\n",
       "    <tr>\n",
       "      <th>43</th>\n",
       "      <td>조제</td>\n",
       "      <td>6.70</td>\n",
       "    </tr>\n",
       "    <tr>\n",
       "      <th>44</th>\n",
       "      <td>이웃사촌</td>\n",
       "      <td>5.99</td>\n",
       "    </tr>\n",
       "    <tr>\n",
       "      <th>45</th>\n",
       "      <td>원더 우먼 1984</td>\n",
       "      <td>5.70</td>\n",
       "    </tr>\n",
       "    <tr>\n",
       "      <th>46</th>\n",
       "      <td>800</td>\n",
       "      <td>3.62</td>\n",
       "    </tr>\n",
       "  </tbody>\n",
       "</table>\n",
       "</div>"
      ],
      "text/plain": [
       "                           영화명    평점\n",
       "순위                                  \n",
       "1                 가나의 혼인잔치: 언약  9.57\n",
       "2                         언플랜드  9.57\n",
       "3                극장판 바이올렛 에버가든  9.49\n",
       "4                     부활: 그 증거  9.40\n",
       "5                      소년시절의 너  9.40\n",
       "6   페이트 스테이 나이트 헤븐즈필 III.스프링 송  9.26\n",
       "7                       일 포스티노  9.16\n",
       "8                      사랑의 블랙홀  9.15\n",
       "9                         러브레터  9.12\n",
       "10                 타오르는 여인의 초상  9.06\n",
       "11                     글루미 선데이  9.06\n",
       "12                  당신이 잠든 사이에  9.06\n",
       "13                         노트북  9.05\n",
       "14            조제, 호랑이 그리고 물고기들  9.00\n",
       "15               온워드: 단 하루의 기적  9.00\n",
       "16                        윤희에게  8.98\n",
       "17                     남매의 여름밤  8.97\n",
       "18                     러브 액츄얼리  8.94\n",
       "19                          담보  8.91\n",
       "20               해리가 샐리를 만났을 때  8.89\n",
       "21                        화양연화  8.85\n",
       "22                  찬실이는 복도 많지  8.72\n",
       "23                      귀여운 여인  8.70\n",
       "24                         피아노  8.66\n",
       "25                    퐁네프의 연인들  8.63\n",
       "26                    킹덤 오브 헤븐  8.61\n",
       "27                         철도원  8.59\n",
       "28                        아비정전  8.49\n",
       "29                          레토  8.43\n",
       "30                  삼진그룹 영어토익반  8.36\n",
       "31                         패터슨  8.30\n",
       "32                        콜드 워  8.26\n",
       "33                          테넷  8.20\n",
       "34                           런  8.19\n",
       "35                     하나와 앨리스  8.11\n",
       "36                 존 윅 3: 파라벨룸  8.01\n",
       "37                        일대종사  8.01\n",
       "38            발레리안: 천 개 행성의 도시  7.79\n",
       "39                   펀치 드렁크 러브  7.73\n",
       "40                          도굴  7.39\n",
       "41                        애비규환  7.01\n",
       "42                    프리키 데스데이  6.86\n",
       "43                          조제  6.70\n",
       "44                        이웃사촌  5.99\n",
       "45                  원더 우먼 1984  5.70\n",
       "46                         800  3.62"
      ]
     },
     "execution_count": 140,
     "metadata": {},
     "output_type": "execute_result"
    }
   ],
   "source": [
    "movie"
   ]
  },
  {
   "cell_type": "code",
   "execution_count": 147,
   "metadata": {},
   "outputs": [],
   "source": [
    "# del movie['순위']"
   ]
  },
  {
   "cell_type": "markdown",
   "metadata": {},
   "source": [
    "## 곡명, 가수(맨 앞) 가져오기\n",
    "- 가수가 여러 개인 것도 있고 한개인 것도 있는데 맨 앞에 있는 것만 가져오기"
   ]
  },
  {
   "cell_type": "code",
   "execution_count": 162,
   "metadata": {},
   "outputs": [],
   "source": [
    "grade_url = \"https://movie.naver.com/movie/sdb/rank/rmovie.nhn?sel=cur&date=20201229\"\n",
    "res = req.get(grade_url)"
   ]
  },
  {
   "cell_type": "code",
   "execution_count": 163,
   "metadata": {},
   "outputs": [],
   "source": [
    "melon2_url = \"https://www.melon.com/chart/index.htm\"\n",
    "res = req.get(melon_url)\n",
    "soup = bs(res.text, 'lxml')"
   ]
  },
  {
   "cell_type": "code",
   "execution_count": 185,
   "metadata": {},
   "outputs": [],
   "source": [
    "result = soup.select('div.wrap')"
   ]
  },
  {
   "cell_type": "code",
   "execution_count": 186,
   "metadata": {},
   "outputs": [
    {
     "data": {
      "text/plain": [
       "[]"
      ]
     },
     "execution_count": 186,
     "metadata": {},
     "output_type": "execute_result"
    }
   ],
   "source": [
    "result"
   ]
  },
  {
   "cell_type": "code",
   "execution_count": 170,
   "metadata": {},
   "outputs": [
    {
     "ename": "TypeError",
     "evalue": "'type' object is not iterable",
     "output_type": "error",
     "traceback": [
      "\u001b[1;31m---------------------------------------------------------------------------\u001b[0m",
      "\u001b[1;31mTypeError\u001b[0m                                 Traceback (most recent call last)",
      "\u001b[1;32m<ipython-input-170-c8e4e214228d>\u001b[0m in \u001b[0;36m<module>\u001b[1;34m\u001b[0m\n\u001b[1;32m----> 1\u001b[1;33m \u001b[1;32mfor\u001b[0m \u001b[0mi\u001b[0m \u001b[1;32min\u001b[0m \u001b[0mrange\u001b[0m\u001b[1;33m:\u001b[0m\u001b[1;33m\u001b[0m\u001b[1;33m\u001b[0m\u001b[0m\n\u001b[0m\u001b[0;32m      2\u001b[0m     \u001b[0mprint\u001b[0m\u001b[1;33m(\u001b[0m\u001b[0mi\u001b[0m\u001b[1;33m.\u001b[0m\u001b[0mtext\u001b[0m\u001b[1;33m.\u001b[0m\u001b[0mstrip\u001b[0m\u001b[1;33m(\u001b[0m\u001b[1;33m)\u001b[0m\u001b[1;33m)\u001b[0m\u001b[1;33m\u001b[0m\u001b[1;33m\u001b[0m\u001b[0m\n",
      "\u001b[1;31mTypeError\u001b[0m: 'type' object is not iterable"
     ]
    }
   ],
   "source": [
    "for i in range:\n",
    "    print(i.text.strip())"
   ]
  },
  {
   "cell_type": "code",
   "execution_count": null,
   "metadata": {},
   "outputs": [],
   "source": []
  },
  {
   "cell_type": "code",
   "execution_count": null,
   "metadata": {},
   "outputs": [],
   "source": []
  },
  {
   "cell_type": "code",
   "execution_count": null,
   "metadata": {},
   "outputs": [],
   "source": []
  },
  {
   "cell_type": "code",
   "execution_count": null,
   "metadata": {},
   "outputs": [],
   "source": []
  },
  {
   "cell_type": "code",
   "execution_count": null,
   "metadata": {},
   "outputs": [],
   "source": []
  }
 ],
 "metadata": {
  "kernelspec": {
   "display_name": "Python 3",
   "language": "python",
   "name": "python3"
  },
  "language_info": {
   "codemirror_mode": {
    "name": "ipython",
    "version": 3
   },
   "file_extension": ".py",
   "mimetype": "text/x-python",
   "name": "python",
   "nbconvert_exporter": "python",
   "pygments_lexer": "ipython3",
   "version": "3.8.5"
  }
 },
 "nbformat": 4,
 "nbformat_minor": 4
}
