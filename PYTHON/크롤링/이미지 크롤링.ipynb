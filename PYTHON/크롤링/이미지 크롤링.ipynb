{
 "cells": [
  {
   "cell_type": "markdown",
   "metadata": {},
   "source": [
    "# 이미지 크롤링"
   ]
  },
  {
   "cell_type": "code",
   "execution_count": 2,
   "metadata": {},
   "outputs": [],
   "source": [
    "from selenium import webdriver as wb\n",
    "from bs4 import BeautifulSoup as bs\n",
    "from selenium.webdriver.common.keys import Keys\n",
    "import requests as req\n",
    "import time"
   ]
  },
  {
   "cell_type": "code",
   "execution_count": 3,
   "metadata": {},
   "outputs": [],
   "source": [
    "import os # 파일 시스템을 위한 라이브러리 ex) 파일, 폴더를 생성, 삭제, 존재여부\n",
    "from urllib.request import urlretrieve # 이미지경로를 파일로 저장"
   ]
  },
  {
   "cell_type": "code",
   "execution_count": 4,
   "metadata": {},
   "outputs": [
    {
     "data": {
      "text/plain": [
       "True"
      ]
     },
     "execution_count": 4,
     "metadata": {},
     "output_type": "execute_result"
    }
   ],
   "source": [
    "os.path.isdir('./이미지') # 소괄호 안에 적혀있는 폴더이름이 존재하는지 파악하는 코드"
   ]
  },
  {
   "cell_type": "code",
   "execution_count": 5,
   "metadata": {},
   "outputs": [],
   "source": [
    "if not os.path.isdir('./이미지'):\n",
    "    print(\"폴더생성\")\n",
    "    os.mkdir('./이미지') # 폴더 생성 함수    "
   ]
  },
  {
   "cell_type": "code",
   "execution_count": 6,
   "metadata": {},
   "outputs": [],
   "source": [
    "url = 'https://search.naver.com/search.naver?sm=tab_hty.top&where=image&query=%EA%B0%9C%EB%83%A5%EC%9D%B4&oquery=%EC%88%9C%EB%AC%B4+%EA%B3%A0%EC%96%91%EC%9D%B4&tqi=U%2Fjk1lprvTossfElt6wssssstbZ-347214'\n",
    "driver = wb.Chrome()\n",
    "driver.get(url)"
   ]
  },
  {
   "cell_type": "code",
   "execution_count": 7,
   "metadata": {},
   "outputs": [],
   "source": [
    "soup = bs(driver.page_source, 'lxml')"
   ]
  },
  {
   "cell_type": "code",
   "execution_count": 8,
   "metadata": {},
   "outputs": [],
   "source": [
    "img_src = soup.select('img._image')"
   ]
  },
  {
   "cell_type": "code",
   "execution_count": 9,
   "metadata": {},
   "outputs": [
    {
     "data": {
      "text/plain": [
       "[]"
      ]
     },
     "execution_count": 9,
     "metadata": {},
     "output_type": "execute_result"
    }
   ],
   "source": [
    "img_src"
   ]
  },
  {
   "cell_type": "code",
   "execution_count": 41,
   "metadata": {},
   "outputs": [],
   "source": [
    "src_list = []\n",
    "\n",
    "for i in range(len(img_src)):\n",
    "    try:\n",
    "        src_list.append(img_src[i]['data-lazy-src'])\n",
    "    except: \n",
    "        src_list.append(img_src[i]['src'])"
   ]
  },
  {
   "cell_type": "code",
   "execution_count": 37,
   "metadata": {},
   "outputs": [
    {
     "data": {
      "text/plain": [
       "48"
      ]
     },
     "execution_count": 37,
     "metadata": {},
     "output_type": "execute_result"
    }
   ],
   "source": [
    "len(src_list)"
   ]
  },
  {
   "cell_type": "code",
   "execution_count": 38,
   "metadata": {},
   "outputs": [
    {
     "name": "stdout",
     "output_type": "stream",
     "text": [
      "2번째 이미지가 저장 중입니다.\n",
      "3번째 이미지가 저장 중입니다.\n",
      "4번째 이미지가 저장 중입니다.\n",
      "5번째 이미지가 저장 중입니다.\n",
      "6번째 이미지가 저장 중입니다.\n",
      "7번째 이미지가 저장 중입니다.\n",
      "8번째 이미지가 저장 중입니다.\n",
      "9번째 이미지가 저장 중입니다.\n",
      "10번째 이미지가 저장 중입니다.\n",
      "11번째 이미지가 저장 중입니다.\n",
      "12번째 이미지가 저장 중입니다.\n",
      "13번째 이미지가 저장 중입니다.\n",
      "14번째 이미지가 저장 중입니다.\n",
      "15번째 이미지가 저장 중입니다.\n",
      "16번째 이미지가 저장 중입니다.\n",
      "17번째 이미지가 저장 중입니다.\n",
      "18번째 이미지가 저장 중입니다.\n",
      "19번째 이미지가 저장 중입니다.\n",
      "20번째 이미지가 저장 중입니다.\n",
      "21번째 이미지가 저장 중입니다.\n",
      "22번째 이미지가 저장 중입니다.\n",
      "23번째 이미지가 저장 중입니다.\n",
      "24번째 이미지가 저장 중입니다.\n",
      "25번째 이미지가 저장 중입니다.\n",
      "26번째 이미지가 저장 중입니다.\n",
      "27번째 이미지가 저장 중입니다.\n",
      "28번째 이미지가 저장 중입니다.\n",
      "29번째 이미지가 저장 중입니다.\n",
      "30번째 이미지가 저장 중입니다.\n",
      "31번째 이미지가 저장 중입니다.\n",
      "32번째 이미지가 저장 중입니다.\n",
      "33번째 이미지가 저장 중입니다.\n",
      "34번째 이미지가 저장 중입니다.\n",
      "35번째 이미지가 저장 중입니다.\n",
      "36번째 이미지가 저장 중입니다.\n",
      "37번째 이미지가 저장 중입니다.\n",
      "38번째 이미지가 저장 중입니다.\n",
      "39번째 이미지가 저장 중입니다.\n",
      "40번째 이미지가 저장 중입니다.\n",
      "41번째 이미지가 저장 중입니다.\n",
      "42번째 이미지가 저장 중입니다.\n",
      "43번째 이미지가 저장 중입니다.\n",
      "44번째 이미지가 저장 중입니다.\n",
      "45번째 이미지가 저장 중입니다.\n",
      "46번째 이미지가 저장 중입니다.\n",
      "47번째 이미지가 저장 중입니다.\n",
      "48번째 이미지가 저장 중입니다.\n",
      "49번째 이미지가 저장 중입니다.\n"
     ]
    }
   ],
   "source": [
    "cnt = 0\n",
    "\n",
    "for i in range(len(src_list)):\n",
    "    urlretrieve(src_list[i], './이미지/'+str(cnt)+'.jpg')\n",
    "    \n",
    "    cnt+=1\n",
    "    print(\"{}번째 이미지가 저장 중입니다.\" .format(cnt+1))\n",
    "    time.sleep(2)"
   ]
  },
  {
   "cell_type": "code",
   "execution_count": 39,
   "metadata": {
    "scrolled": true
   },
   "outputs": [
    {
     "data": {
      "text/plain": [
       "<img alt=\"개냥이 코코....\" class=\"_image _listImage\" data-lazy-src=\"https://search.pstatic.net/common/?src=http%3A%2F%2Fcafefiles.naver.net%2FMjAyMDAzMjBfMjA0%2FMDAxNTg0NjczMTEzMzM0.UfJHuZZoDopJeYr3zOOEmjVY2FLy-x6minl7VuCvEbUg.4gGMURvEEHt1epFbg40iTwzKlk3OXGTs76pMhqQHvyog.JPEG%2FexternalFile.jpg&amp;type=ofullfill340_600\" data-org-height=\"600\" data-org-width=\"340\" src=\"data:image/gif;base64,R0lGODlhAQABAIAAAAAAAP///yH5BAEAAAAALAAAAAABAAEAAAIBRAA7\" style=\"height: 385px;\"/>"
      ]
     },
     "execution_count": 39,
     "metadata": {},
     "output_type": "execute_result"
    }
   ],
   "source": [
    "img_src[17]"
   ]
  },
  {
   "cell_type": "code",
   "execution_count": 44,
   "metadata": {},
   "outputs": [],
   "source": [
    "url = 'https://castbox.shopping.naver.com/shoppingboxnew/main.nhn'\n",
    "res = req.get(url)\n",
    "soup = bs(res.text, 'lxml')"
   ]
  },
  {
   "cell_type": "code",
   "execution_count": 62,
   "metadata": {},
   "outputs": [],
   "source": [
    "result = soup.select('.link_mall')"
   ]
  },
  {
   "cell_type": "code",
   "execution_count": 63,
   "metadata": {},
   "outputs": [
    {
     "name": "stdout",
     "output_type": "stream",
     "text": [
      "G마켓\n",
      "옥션\n",
      "11번가\n",
      "위메프\n",
      "이마트몰\n",
      "올리브영\n",
      "티몬\n",
      "홈플러스\n",
      "GS샵\n",
      "롯데i몰\n",
      "신세계몰\n",
      "CJmall\n"
     ]
    }
   ],
   "source": [
    "for i in result : \n",
    "    print(i.text)"
   ]
  },
  {
   "cell_type": "markdown",
   "metadata": {},
   "source": [
    "## 위메프 (베스트) 페이지 상품 클릭 제어하기"
   ]
  },
  {
   "cell_type": "code",
   "execution_count": 2,
   "metadata": {},
   "outputs": [],
   "source": [
    "driver = wb.Chrome()\n",
    "url = 'https://front.wemakeprice.com/best'\n",
    "driver.get(url)"
   ]
  },
  {
   "cell_type": "code",
   "execution_count": 88,
   "metadata": {},
   "outputs": [],
   "source": [
    "# elements -> 여러개\n",
    "result = driver.find_elements_by_css_selector('.flag_wrap')\n",
    "result[2].click() # 리스트의 3번째 를 선택"
   ]
  },
  {
   "cell_type": "code",
   "execution_count": 89,
   "metadata": {},
   "outputs": [],
   "source": [
    "#result"
   ]
  },
  {
   "cell_type": "code",
   "execution_count": 90,
   "metadata": {},
   "outputs": [],
   "source": [
    "#뒤로가기\n",
    "driver.back()"
   ]
  },
  {
   "cell_type": "code",
   "execution_count": 91,
   "metadata": {},
   "outputs": [],
   "source": [
    "#이미지 클릭, 뒤로가기 반복문으로\n",
    "\n",
    "# for i in range(6) :\n",
    "#     result = driver.find_elements_by_css_selector('.flag_wrap')\n",
    "#     time.sleep(1) # 정보가 뜰 때까지 1초정도 기다린다\n",
    "    \n",
    "    \n",
    "#     driver.back() # 화면 뜨는 로딩시간 때문에. \n",
    "#     time.sleep(1)"
   ]
  },
  {
   "cell_type": "code",
   "execution_count": 92,
   "metadata": {},
   "outputs": [],
   "source": [
    "# 클릭을 하고나서 그 페이지의 제목과 가격을 가져오기"
   ]
  },
  {
   "cell_type": "code",
   "execution_count": 93,
   "metadata": {},
   "outputs": [],
   "source": [
    "# 원산지가 없을 때는 안가져오고 있을 때는 가져온다."
   ]
  },
  {
   "cell_type": "code",
   "execution_count": 3,
   "metadata": {},
   "outputs": [
    {
     "ename": "IndexError",
     "evalue": "list index out of range",
     "output_type": "error",
     "traceback": [
      "\u001b[1;31m---------------------------------------------------------------------------\u001b[0m",
      "\u001b[1;31mIndexError\u001b[0m                                Traceback (most recent call last)",
      "\u001b[1;32m<ipython-input-3-fab9a545be6f>\u001b[0m in \u001b[0;36m<module>\u001b[1;34m\u001b[0m\n\u001b[0;32m      4\u001b[0m \u001b[1;32mfor\u001b[0m \u001b[0mi\u001b[0m \u001b[1;32min\u001b[0m \u001b[0mrange\u001b[0m\u001b[1;33m(\u001b[0m\u001b[1;36m6\u001b[0m\u001b[1;33m)\u001b[0m \u001b[1;33m:\u001b[0m\u001b[1;33m\u001b[0m\u001b[1;33m\u001b[0m\u001b[0m\n\u001b[0;32m      5\u001b[0m     \u001b[0mresult\u001b[0m \u001b[1;33m=\u001b[0m \u001b[0mdriver\u001b[0m\u001b[1;33m.\u001b[0m\u001b[0mfind_elements_by_css_selector\u001b[0m\u001b[1;33m(\u001b[0m\u001b[1;34m'.flag_wrap'\u001b[0m\u001b[1;33m)\u001b[0m\u001b[1;33m\u001b[0m\u001b[1;33m\u001b[0m\u001b[0m\n\u001b[1;32m----> 6\u001b[1;33m     \u001b[0mresult\u001b[0m\u001b[1;33m[\u001b[0m\u001b[0mi\u001b[0m\u001b[1;33m]\u001b[0m\u001b[1;33m.\u001b[0m\u001b[0mclick\u001b[0m\u001b[1;33m(\u001b[0m\u001b[1;33m)\u001b[0m\u001b[1;33m\u001b[0m\u001b[1;33m\u001b[0m\u001b[0m\n\u001b[0m\u001b[0;32m      7\u001b[0m     \u001b[0mtime\u001b[0m\u001b[1;33m.\u001b[0m\u001b[0msleep\u001b[0m\u001b[1;33m(\u001b[0m\u001b[1;36m1\u001b[0m\u001b[1;33m)\u001b[0m \u001b[1;31m# 정보가 뜰 때까지 1초정도 기다린다\u001b[0m\u001b[1;33m\u001b[0m\u001b[1;33m\u001b[0m\u001b[0m\n\u001b[0;32m      8\u001b[0m \u001b[1;33m\u001b[0m\u001b[0m\n",
      "\u001b[1;31mIndexError\u001b[0m: list index out of range"
     ]
    }
   ],
   "source": [
    "title_list = []\n",
    "price_list = []\n",
    "\n",
    "for i in range(6) :\n",
    "    result = driver.find_elements_by_css_selector('.flag_wrap')\n",
    "    result[i].click() \n",
    "    time.sleep(1) # 정보가 뜰 때까지 1초정도 기다린다\n",
    "    \n",
    "    soup = bs(driver.page_source, 'lxml')\n",
    "    title = soup.select('.deal_tit')\n",
    "    title_list.append(title[0].text.strip())\n",
    "    \n",
    "    \n",
    "    #em태그면서 class 명이 num인 애들.\n",
    "    price = soup.select('em.num')\n",
    "    price_list.append(price[0].text.strip())\n",
    "    \n",
    "    \n",
    "    driver.back() # 화면 뜨는 로딩시간 때문에. \n",
    "    time.sleep(1)"
   ]
  },
  {
   "cell_type": "code",
   "execution_count": 4,
   "metadata": {},
   "outputs": [
    {
     "data": {
      "text/plain": [
       "['30%쿠폰 / 브라운 아기 물티슈 프리미엄 72매 캡 20팩 외 인기상품 모음',\n",
       " '[브랜드데이 타임딜]완판! 재입고! 괴물용량 리셀100 녹물제거 샤워기+필터 총4개 외 정수필터 모음전',\n",
       " '[투데이특가]10%쿠폰) 과자 간식 228종 골라담기/몰티져스/하리보/젤리 외',\n",
       " '[투데이특가 타임딜]한돈 암돼지 대패삼겹 500g + 대패목살 500g 외',\n",
       " '[투데이 브랜드]35%쿠폰 / 현빈샴푸! 닥터포헤어 폴리젠 탈모 완화 샴푸 500ml+300ml']"
      ]
     },
     "execution_count": 4,
     "metadata": {},
     "output_type": "execute_result"
    }
   ],
   "source": [
    "title_list"
   ]
  },
  {
   "cell_type": "code",
   "execution_count": 5,
   "metadata": {},
   "outputs": [
    {
     "data": {
      "text/plain": [
       "['38,500', '3,900', '650', '8,900', '24,500']"
      ]
     },
     "execution_count": 5,
     "metadata": {},
     "output_type": "execute_result"
    }
   ],
   "source": [
    "price_list"
   ]
  },
  {
   "cell_type": "code",
   "execution_count": null,
   "metadata": {},
   "outputs": [],
   "source": []
  },
  {
   "cell_type": "code",
   "execution_count": null,
   "metadata": {},
   "outputs": [],
   "source": []
  },
  {
   "cell_type": "code",
   "execution_count": null,
   "metadata": {},
   "outputs": [],
   "source": []
  },
  {
   "cell_type": "code",
   "execution_count": null,
   "metadata": {},
   "outputs": [],
   "source": []
  },
  {
   "cell_type": "code",
   "execution_count": null,
   "metadata": {},
   "outputs": [],
   "source": []
  }
 ],
 "metadata": {
  "kernelspec": {
   "display_name": "Python 3",
   "language": "python",
   "name": "python3"
  },
  "language_info": {
   "codemirror_mode": {
    "name": "ipython",
    "version": 3
   },
   "file_extension": ".py",
   "mimetype": "text/x-python",
   "name": "python",
   "nbconvert_exporter": "python",
   "pygments_lexer": "ipython3",
   "version": "3.8.5"
  }
 },
 "nbformat": 4,
 "nbformat_minor": 4
}
