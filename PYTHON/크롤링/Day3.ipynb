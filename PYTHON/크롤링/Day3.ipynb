{
 "cells": [
  {
   "cell_type": "markdown",
   "metadata": {},
   "source": [
    "# 네이버에 한솥도시락 검색"
   ]
  },
  {
   "cell_type": "code",
   "execution_count": 4,
   "metadata": {},
   "outputs": [],
   "source": [
    "# web driver = 웹을 통제하기 위한 모듈\n",
    "# Keys = 웹을 통해 값을 입력하기  위한 모듈\n",
    "from selenium import webdriver as wb\n",
    "from selenium.webdriver.common.keys import Keys\n",
    "import time"
   ]
  },
  {
   "cell_type": "code",
   "execution_count": 7,
   "metadata": {},
   "outputs": [],
   "source": [
    "driver = wb.Chrome()\n",
    "url = 'https://www.naver.com/'\n",
    "driver.get(url)"
   ]
  },
  {
   "cell_type": "code",
   "execution_count": 8,
   "metadata": {},
   "outputs": [],
   "source": [
    "search = driver.find_element_by_id('query')"
   ]
  },
  {
   "cell_type": "code",
   "execution_count": 9,
   "metadata": {},
   "outputs": [],
   "source": [
    "search.send_keys('한솥도시락')"
   ]
  },
  {
   "cell_type": "code",
   "execution_count": 10,
   "metadata": {},
   "outputs": [],
   "source": [
    "search.send_keys(Keys.ENTER)"
   ]
  },
  {
   "cell_type": "markdown",
   "metadata": {},
   "source": [
    "### 한솥도시락 이름, 가격 정보 수집"
   ]
  },
  {
   "cell_type": "code",
   "execution_count": 14,
   "metadata": {},
   "outputs": [],
   "source": [
    "driver = wb.Chrome()\n",
    "url = 'https://www.hsd.co.kr/menu/menu_list'\n",
    "driver.get(url)"
   ]
  },
  {
   "cell_type": "code",
   "execution_count": 15,
   "metadata": {},
   "outputs": [],
   "source": [
    "import requests as req\n",
    "from bs4 import BeautifulSoup as bs\n",
    "import pandas as pd"
   ]
  },
  {
   "cell_type": "code",
   "execution_count": 16,
   "metadata": {},
   "outputs": [],
   "source": [
    "soup = bs(driver.page_source, 'lxml')"
   ]
  },
  {
   "cell_type": "markdown",
   "metadata": {},
   "source": [
    "# 제목, 가격 가져오기"
   ]
  },
  {
   "cell_type": "code",
   "execution_count": 50,
   "metadata": {},
   "outputs": [],
   "source": [
    "menu = soup.select('h4.fz_03')"
   ]
  },
  {
   "cell_type": "code",
   "execution_count": 51,
   "metadata": {},
   "outputs": [
    {
     "data": {
      "text/plain": [
       "[<h4 class=\"h fz_03\">매화(치킨, 연어구이)</h4>,\n",
       " <h4 class=\"h fz_03\">매화 (순살 고등어 간장구이)</h4>,\n",
       " <h4 class=\"h fz_03\">진달래</h4>,\n",
       " <h4 class=\"h fz_03\">개나리(순살 고등어 간장구이)</h4>]"
      ]
     },
     "execution_count": 51,
     "metadata": {},
     "output_type": "execute_result"
    }
   ],
   "source": [
    "menu"
   ]
  },
  {
   "cell_type": "code",
   "execution_count": 52,
   "metadata": {},
   "outputs": [
    {
     "name": "stdout",
     "output_type": "stream",
     "text": [
      "매화(치킨, 연어구이)\n",
      "매화 (순살 고등어 간장구이)\n",
      "진달래\n",
      "개나리(순살 고등어 간장구이)\n"
     ]
    }
   ],
   "source": [
    "for i in menu :\n",
    "    print(i.text)"
   ]
  },
  {
   "cell_type": "code",
   "execution_count": null,
   "metadata": {},
   "outputs": [],
   "source": [
    "soup.select('.item-price') # item price 에 span 태그"
   ]
  },
  {
   "cell_type": "markdown",
   "metadata": {},
   "source": [
    "### 더보기를 펼친다음 기져오기. 파이썬을 통해서 제어."
   ]
  },
  {
   "cell_type": "code",
   "execution_count": 67,
   "metadata": {},
   "outputs": [],
   "source": [
    "btn = driver.find_element_by_class_name('c_05') # 버튼을 가져온 다음에"
   ]
  },
  {
   "cell_type": "markdown",
   "metadata": {},
   "source": [
    "## 예외 처리 (try문에서 오류가 나면 except로 빠짐)"
   ]
  },
  {
   "cell_type": "code",
   "execution_count": 68,
   "metadata": {},
   "outputs": [
    {
     "name": "stdout",
     "output_type": "stream",
     "text": [
      "에러\n"
     ]
    }
   ],
   "source": [
    "try : \n",
    "    for i in range(7):\n",
    "        btn.click()\n",
    "        time.sleep(1)\n",
    "except : \n",
    "    print(\"에러\")"
   ]
  },
  {
   "cell_type": "markdown",
   "metadata": {},
   "source": [
    "# 다 펼쳐진 후에 가져오기"
   ]
  },
  {
   "cell_type": "code",
   "execution_count": 73,
   "metadata": {},
   "outputs": [],
   "source": [
    "soup = bs(driver.page_source, 'lxml')"
   ]
  },
  {
   "cell_type": "code",
   "execution_count": 74,
   "metadata": {},
   "outputs": [],
   "source": [
    "menu = soup.select('h4.fz_03')\n",
    "price=soup.select('.item-price') "
   ]
  },
  {
   "cell_type": "code",
   "execution_count": 75,
   "metadata": {},
   "outputs": [
    {
     "data": {
      "text/plain": [
       "[<h4 class=\"h fz_03\">매화(치킨, 연어구이)</h4>,\n",
       " <h4 class=\"h fz_03\">매화 (순살 고등어 간장구이)</h4>,\n",
       " <h4 class=\"h fz_03\">진달래</h4>,\n",
       " <h4 class=\"h fz_03\">개나리(순살 고등어 간장구이)</h4>,\n",
       " <h4 class=\"h fz_03\">생선까스도련님고기고기</h4>,\n",
       " <h4 class=\"h fz_03\">돈까스도련님고기고기</h4>,\n",
       " <h4 class=\"h fz_03\">탕수육도련님고기고기</h4>,\n",
       " <h4 class=\"h fz_03\">새치 고기고기</h4>,\n",
       " <h4 class=\"h fz_03\">돈치 고기고기</h4>,\n",
       " <h4 class=\"h fz_03\">고기고기</h4>,\n",
       " <h4 class=\"h fz_03\">칠리탕수육 육개장 정식</h4>,\n",
       " <h4 class=\"h fz_03\">주말숯불삼겹2종정식</h4>,\n",
       " <h4 class=\"h fz_03\">고추장숯불삼겹정식</h4>,\n",
       " <h4 class=\"h fz_03\">숯불삼겹정식</h4>,\n",
       " <h4 class=\"h fz_03\">제육 김치찌개 정식</h4>,\n",
       " <h4 class=\"h fz_03\">콤비네이션 정식</h4>,\n",
       " <h4 class=\"h fz_03\">숯불직화구이</h4>,\n",
       " <h4 class=\"h fz_03\">소불고기</h4>,\n",
       " <h4 class=\"h fz_03\">메가치킨제육</h4>,\n",
       " <h4 class=\"h fz_03\">생선까스도련님</h4>,\n",
       " <h4 class=\"h fz_03\">칠리 찹쌀탕수육도련님</h4>,\n",
       " <h4 class=\"h fz_03\">동백</h4>,\n",
       " <h4 class=\"h fz_03\">치킨제육</h4>,\n",
       " <h4 class=\"h fz_03\">국화</h4>,\n",
       " <h4 class=\"h fz_03\">돈까스도련님</h4>,\n",
       " <h4 class=\"h fz_03\">제육볶음</h4>,\n",
       " <h4 class=\"h fz_03\">한솥밥</h4>,\n",
       " <h4 class=\"h fz_03\">현미밥</h4>,\n",
       " <h4 class=\"h fz_03\">메가스팸마요</h4>,\n",
       " <h4 class=\"h fz_03\">스팸마요</h4>,\n",
       " <h4 class=\"h fz_03\">메가불닭치킨마요</h4>,\n",
       " <h4 class=\"h fz_03\">불닭치킨마요</h4>,\n",
       " <h4 class=\"h fz_03\">갈비치킨마요</h4>,\n",
       " <h4 class=\"h fz_03\">메가치킨마요</h4>,\n",
       " <h4 class=\"h fz_03\">왕치킨마요</h4>,\n",
       " <h4 class=\"h fz_03\">빅치킨마요</h4>,\n",
       " <h4 class=\"h fz_03\">치킨마요</h4>,\n",
       " <h4 class=\"h fz_03\">참치 샐러드마요</h4>,\n",
       " <h4 class=\"h fz_03\">치킨 샐러드마요</h4>,\n",
       " <h4 class=\"h fz_03\">참치마요</h4>,\n",
       " <h4 class=\"h fz_03\">돈치마요</h4>,\n",
       " <h4 class=\"h fz_03\">치즈 카레도시락</h4>,\n",
       " <h4 class=\"h fz_03\">돈까스 카레</h4>,\n",
       " <h4 class=\"h fz_03\">3종치즈 김치볶음밥</h4>,\n",
       " <h4 class=\"h fz_03\">스팸 김치볶음밥</h4>,\n",
       " <h4 class=\"h fz_03\">김치볶음밥</h4>,\n",
       " <h4 class=\"h fz_03\">스팸철판볶음밥</h4>,\n",
       " <h4 class=\"h fz_03\">소불고기 철판볶음밥</h4>,\n",
       " <h4 class=\"h fz_03\">돼지국밥 콤보</h4>,\n",
       " <h4 class=\"h fz_03\">돼지국밥</h4>,\n",
       " <h4 class=\"h fz_03\">돼지국밥(국만)</h4>,\n",
       " <h4 class=\"h fz_03\">소고기 육개장</h4>,\n",
       " <h4 class=\"h fz_03\">묵은지 김치찌개</h4>,\n",
       " <h4 class=\"h fz_03\">고추장숯불삼겹덮밥</h4>,\n",
       " <h4 class=\"h fz_03\">숯불직화구이 덮밥</h4>,\n",
       " <h4 class=\"h fz_03\">왕카레돈까스덮밥</h4>,\n",
       " <h4 class=\"h fz_03\">새우돈까스 덮밥</h4>,\n",
       " <h4 class=\"h fz_03\">돈까스 덮밥</h4>,\n",
       " <h4 class=\"h fz_03\">소불고기 감초고추장 비빔밥</h4>,\n",
       " <h4 class=\"h fz_03\">시골제육 두부강된장 비빔밥</h4>,\n",
       " <h4 class=\"h fz_03\">참치야채 감초고추장</h4>,\n",
       " <h4 class=\"h fz_03\">튼튼도시락</h4>,\n",
       " <h4 class=\"h fz_03\">해피닭가슴살볶음밥</h4>,\n",
       " <h4 class=\"h fz_03\">반찬 계란말이</h4>,\n",
       " <h4 class=\"h fz_03\">반찬 치즈계란말이</h4>,\n",
       " <h4 class=\"h fz_03\">반찬 묵은지김치찌개</h4>,\n",
       " <h4 class=\"h fz_03\">반찬 소고기육개장</h4>,\n",
       " <h4 class=\"h fz_03\">반찬 카레</h4>,\n",
       " <h4 class=\"h fz_03\">반찬 소불고기</h4>,\n",
       " <h4 class=\"h fz_03\">반찬 순살 고등어데리야끼</h4>,\n",
       " <h4 class=\"h fz_03\">반찬 치킨</h4>,\n",
       " <h4 class=\"h fz_03\">반찬 고기고기</h4>,\n",
       " <h4 class=\"h fz_03\">반찬 돈까스 도련님</h4>,\n",
       " <h4 class=\"h fz_03\">반찬 제육볶음</h4>,\n",
       " <h4 class=\"h fz_03\">반찬 돈까스</h4>,\n",
       " <h4 class=\"h fz_03\">아이스 애플망고</h4>,\n",
       " <h4 class=\"h fz_03\">바삭 군만두</h4>,\n",
       " <h4 class=\"h fz_03\">미니 찹쌀핫도그</h4>,\n",
       " <h4 class=\"h fz_03\">미니 찹쌀탕수육</h4>,\n",
       " <h4 class=\"h fz_03\">감자고로케</h4>,\n",
       " <h4 class=\"h fz_03\">케이준후라이</h4>,\n",
       " <h4 class=\"h fz_03\">치킨 샐러드(유자드레싱)</h4>,\n",
       " <h4 class=\"h fz_03\">치킨 샐러드(사과드레싱)</h4>,\n",
       " <h4 class=\"h fz_03\">그린 샐러드 (유자드레싱)</h4>,\n",
       " <h4 class=\"h fz_03\">그린 샐러드 (사과드레싱)</h4>,\n",
       " <h4 class=\"h fz_03\">미니 샐러드 (유자드레싱)</h4>,\n",
       " <h4 class=\"h fz_03\">미니 샐러드 (사과드레싱)</h4>,\n",
       " <h4 class=\"h fz_03\">스팸덕후 만원팩</h4>,\n",
       " <h4 class=\"h fz_03\">혼맥덕후만원팩칠리</h4>,\n",
       " <h4 class=\"h fz_03\">혼맥덕후만원팩양식</h4>,\n",
       " <h4 class=\"h fz_03\">순살치킨 세트(대)</h4>,\n",
       " <h4 class=\"h fz_03\">순살치킨 세트(중)</h4>,\n",
       " <h4 class=\"h fz_03\">순살치킨믹스 세트</h4>,\n",
       " <h4 class=\"h fz_03\">찹쌀탕수육박스(대)</h4>,\n",
       " <h4 class=\"h fz_03\">찹쌀탕수육박스(중)</h4>,\n",
       " <h4 class=\"h fz_03\">오리지널 닭강정(중)</h4>,\n",
       " <h4 class=\"h fz_03\">오리지널 닭강정(소)</h4>,\n",
       " <h4 class=\"h fz_03\">치킨 BOX(대) </h4>,\n",
       " <h4 class=\"h fz_03\">치킨BOX(중)_양식소스</h4>,\n",
       " <h4 class=\"h fz_03\">치킨BOX(중)_타르타르소스</h4>,\n",
       " <h4 class=\"h fz_03\">오징어젓갈</h4>,\n",
       " <h4 class=\"h fz_03\">오이지무침</h4>,\n",
       " <h4 class=\"h fz_03\">한솥 두부강된장소스</h4>,\n",
       " <h4 class=\"h fz_03\">한솥 감초볶음고추장소스</h4>,\n",
       " <h4 class=\"h fz_03\">볶음김치</h4>,\n",
       " <h4 class=\"h fz_03\">김치</h4>,\n",
       " <h4 class=\"h fz_03\">무말랭이</h4>]"
      ]
     },
     "execution_count": 75,
     "metadata": {},
     "output_type": "execute_result"
    }
   ],
   "source": [
    "menu"
   ]
  },
  {
   "cell_type": "code",
   "execution_count": 76,
   "metadata": {},
   "outputs": [
    {
     "data": {
      "text/plain": [
       "[<div class=\"item-price\"> <span class=\"blind\">가격: </span><strong>10,000</strong>원                    </div>,\n",
       " <div class=\"item-price\"> <span class=\"blind\">가격: </span><strong>10,000</strong>원                    </div>,\n",
       " <div class=\"item-price\"> <span class=\"blind\">가격: </span><strong>7,000</strong>원                    </div>,\n",
       " <div class=\"item-price\"> <span class=\"blind\">가격: </span><strong>8,000</strong>원                    </div>,\n",
       " <div class=\"item-price\"> <span class=\"blind\">가격: </span><strong>5,500</strong>원                    </div>,\n",
       " <div class=\"item-price\"> <span class=\"blind\">가격: </span><strong>5,500</strong>원                    </div>,\n",
       " <div class=\"item-price\"> <span class=\"blind\">가격: </span><strong>5,600</strong>원                    </div>,\n",
       " <div class=\"item-price\"> <span class=\"blind\">가격: </span><strong>6,000</strong>원                    </div>,\n",
       " <div class=\"item-price\"> <span class=\"blind\">가격: </span><strong>5,200</strong>원                    </div>,\n",
       " <div class=\"item-price\"> <span class=\"blind\">가격: </span><strong>4,000</strong>원                    </div>,\n",
       " <div class=\"item-price\"> <span class=\"blind\">가격: </span><strong>8,000</strong>원                    </div>,\n",
       " <div class=\"item-price\"> <span class=\"blind\">가격: </span><strong>15,000</strong>원                    </div>,\n",
       " <div class=\"item-price\"> <span class=\"blind\">가격: </span><strong>9,000</strong>원                    </div>,\n",
       " <div class=\"item-price\"> <span class=\"blind\">가격: </span><strong>8,500</strong>원                    </div>,\n",
       " <div class=\"item-price\"> <span class=\"blind\">가격: </span><strong>8,000</strong>원                    </div>,\n",
       " <div class=\"item-price\"> <span class=\"blind\">가격: </span><strong>6,000</strong>원                    </div>,\n",
       " <div class=\"item-price\"> <span class=\"blind\">가격: </span><strong>6,500</strong>원                    </div>,\n",
       " <div class=\"item-price\"> <span class=\"blind\">가격: </span><strong>5,000</strong>원                    </div>,\n",
       " <div class=\"item-price\"> <span class=\"blind\">가격: </span><strong>6,900</strong>원                    </div>,\n",
       " <div class=\"item-price\"> <span class=\"blind\">가격: </span><strong>3,900</strong>원                    </div>,\n",
       " <div class=\"item-price\"> <span class=\"blind\">가격: </span><strong>4,000</strong>원                    </div>,\n",
       " <div class=\"item-price\"> <span class=\"blind\">가격: </span><strong>5,000</strong>원                    </div>,\n",
       " <div class=\"item-price\"> <span class=\"blind\">가격: </span><strong>4,400</strong>원                    </div>,\n",
       " <div class=\"item-price\"> <span class=\"blind\">가격: </span><strong>4,200</strong>원                    </div>,\n",
       " <div class=\"item-price\"> <span class=\"blind\">가격: </span><strong>3,900</strong>원                    </div>,\n",
       " <div class=\"item-price\"> <span class=\"blind\">가격: </span><strong>3,900</strong>원                    </div>,\n",
       " <div class=\"item-price\"> <span class=\"blind\">가격: </span><strong>1,000</strong>원                    </div>,\n",
       " <div class=\"item-price\"> <span class=\"blind\">가격: </span><strong>1,700</strong>원                    </div>,\n",
       " <div class=\"item-price\"> <span class=\"blind\">가격: </span><strong>5,500</strong>원                    </div>,\n",
       " <div class=\"item-price\"> <span class=\"blind\">가격: </span><strong>3,500</strong>원                    </div>,\n",
       " <div class=\"item-price\"> <span class=\"blind\">가격: </span><strong>6,400</strong>원                    </div>,\n",
       " <div class=\"item-price\"> <span class=\"blind\">가격: </span><strong>3,500</strong>원                    </div>,\n",
       " <div class=\"item-price\"> <span class=\"blind\">가격: </span><strong>3,200</strong>원                    </div>,\n",
       " <div class=\"item-price\"> <span class=\"blind\">가격: </span><strong>5,200</strong>원                    </div>,\n",
       " <div class=\"item-price\"> <span class=\"blind\">가격: </span><strong>4,200</strong>원                    </div>,\n",
       " <div class=\"item-price\"> <span class=\"blind\">가격: </span><strong>3,500</strong>원                    </div>,\n",
       " <div class=\"item-price\"> <span class=\"blind\">가격: </span><strong>2,900</strong>원                    </div>,\n",
       " <div class=\"item-price\"> <span class=\"blind\">가격: </span><strong>3,400</strong>원                    </div>,\n",
       " <div class=\"item-price\"> <span class=\"blind\">가격: </span><strong>3,400</strong>원                    </div>,\n",
       " <div class=\"item-price\"> <span class=\"blind\">가격: </span><strong>2,900</strong>원                    </div>,\n",
       " <div class=\"item-price\"> <span class=\"blind\">가격: </span><strong>3,500</strong>원                    </div>,\n",
       " <div class=\"item-price\"> <span class=\"blind\">가격: </span><strong>4,000</strong>원                    </div>,\n",
       " <div class=\"item-price\"> <span class=\"blind\">가격: </span><strong>3,900</strong>원                    </div>,\n",
       " <div class=\"item-price\"> <span class=\"blind\">가격: </span><strong>4,500</strong>원                    </div>,\n",
       " <div class=\"item-price\"> <span class=\"blind\">가격: </span><strong>4,300</strong>원                    </div>,\n",
       " <div class=\"item-price\"> <span class=\"blind\">가격: </span><strong>3,500</strong>원                    </div>,\n",
       " <div class=\"item-price\"> <span class=\"blind\">가격: </span><strong>4,500</strong>원                    </div>,\n",
       " <div class=\"item-price\"> <span class=\"blind\">가격: </span><strong>4,500</strong>원                    </div>,\n",
       " <div class=\"item-price\"> <span class=\"blind\">가격: </span><strong>6,700</strong>원                    </div>,\n",
       " <div class=\"item-price\"> <span class=\"blind\">가격: </span><strong>5,700</strong>원                    </div>,\n",
       " <div class=\"item-price\"> <span class=\"blind\">가격: </span><strong>4,500</strong>원                    </div>,\n",
       " <div class=\"item-price\"> <span class=\"blind\">가격: </span><strong>4,500</strong>원                    </div>,\n",
       " <div class=\"item-price\"> <span class=\"blind\">가격: </span><strong>4,300</strong>원                    </div>,\n",
       " <div class=\"item-price\"> <span class=\"blind\">가격: </span><strong>6,500</strong>원                    </div>,\n",
       " <div class=\"item-price\"> <span class=\"blind\">가격: </span><strong>5,700</strong>원                    </div>,\n",
       " <div class=\"item-price\"> <span class=\"blind\">가격: </span><strong>5,500</strong>원                    </div>,\n",
       " <div class=\"item-price\"> <span class=\"blind\">가격: </span><strong>3,900</strong>원                    </div>,\n",
       " <div class=\"item-price\"> <span class=\"blind\">가격: </span><strong>3,600</strong>원                    </div>,\n",
       " <div class=\"item-price\"> <span class=\"blind\">가격: </span><strong>4,800</strong>원                    </div>,\n",
       " <div class=\"item-price\"> <span class=\"blind\">가격: </span><strong>4,800</strong>원                    </div>,\n",
       " <div class=\"item-price\"> <span class=\"blind\">가격: </span><strong>3,200</strong>원                    </div>,\n",
       " <div class=\"item-price\"> <span class=\"blind\">가격: </span><strong>5,000</strong>원                    </div>,\n",
       " <div class=\"item-price\"> <span class=\"blind\">가격: </span><strong>5,000</strong>원                    </div>,\n",
       " <div class=\"item-price\"> <span class=\"blind\">가격: </span><strong>2,200</strong>원                    </div>,\n",
       " <div class=\"item-price\"> <span class=\"blind\">가격: </span><strong>2,800</strong>원                    </div>,\n",
       " <div class=\"item-price\"> <span class=\"blind\">가격: </span><strong>3,900</strong>원                    </div>,\n",
       " <div class=\"item-price\"> <span class=\"blind\">가격: </span><strong>4,100</strong>원                    </div>,\n",
       " <div class=\"item-price\"> <span class=\"blind\">가격: </span><strong>2,400</strong>원                    </div>,\n",
       " <div class=\"item-price\"> <span class=\"blind\">가격: </span><strong>3,900</strong>원                    </div>,\n",
       " <div class=\"item-price\"> <span class=\"blind\">가격: </span><strong>3,400</strong>원                    </div>,\n",
       " <div class=\"item-price\"> <span class=\"blind\">가격: </span><strong>3,200</strong>원                    </div>,\n",
       " <div class=\"item-price\"> <span class=\"blind\">가격: </span><strong>3,200</strong>원                    </div>,\n",
       " <div class=\"item-price\"> <span class=\"blind\">가격: </span><strong>3,200</strong>원                    </div>,\n",
       " <div class=\"item-price\"> <span class=\"blind\">가격: </span><strong>3,100</strong>원                    </div>,\n",
       " <div class=\"item-price\"> <span class=\"blind\">가격: </span><strong>2,500</strong>원                    </div>,\n",
       " <div class=\"item-price\"> <span class=\"blind\">가격: </span><strong>1,500</strong>원                    </div>,\n",
       " <div class=\"item-price\"> <span class=\"blind\">가격: </span><strong>2,000</strong>원                    </div>,\n",
       " <div class=\"item-price\"> <span class=\"blind\">가격: </span><strong>2,500</strong>원                    </div>,\n",
       " <div class=\"item-price\"> <span class=\"blind\">가격: </span><strong>2,000</strong>원                    </div>,\n",
       " <div class=\"item-price\"> <span class=\"blind\">가격: </span><strong>2,000</strong>원                    </div>,\n",
       " <div class=\"item-price\"> <span class=\"blind\">가격: </span><strong>1,500</strong>원                    </div>,\n",
       " <div class=\"item-price\"> <span class=\"blind\">가격: </span><strong>3,600</strong>원                    </div>,\n",
       " <div class=\"item-price\"> <span class=\"blind\">가격: </span><strong>3,600</strong>원                    </div>,\n",
       " <div class=\"item-price\"> <span class=\"blind\">가격: </span><strong>2,900</strong>원                    </div>,\n",
       " <div class=\"item-price\"> <span class=\"blind\">가격: </span><strong>2,900</strong>원                    </div>,\n",
       " <div class=\"item-price\"> <span class=\"blind\">가격: </span><strong>1,500</strong>원                    </div>,\n",
       " <div class=\"item-price\"> <span class=\"blind\">가격: </span><strong>1,500</strong>원                    </div>,\n",
       " <div class=\"item-price\"> <span class=\"blind\">가격: </span><strong>10,000</strong>원                    </div>,\n",
       " <div class=\"item-price\"> <span class=\"blind\">가격: </span><strong>10,000</strong>원                    </div>,\n",
       " <div class=\"item-price\"> <span class=\"blind\">가격: </span><strong>10,000</strong>원                    </div>,\n",
       " <div class=\"item-price\"> <span class=\"blind\">가격: </span><strong>13,000</strong>원                    </div>,\n",
       " <div class=\"item-price\"> <span class=\"blind\">가격: </span><strong>7,000</strong>원                    </div>,\n",
       " <div class=\"item-price\"> <span class=\"blind\">가격: </span><strong>14,000</strong>원                    </div>,\n",
       " <div class=\"item-price\"> <span class=\"blind\">가격: </span><strong>10,000</strong>원                    </div>,\n",
       " <div class=\"item-price\"> <span class=\"blind\">가격: </span><strong>5,000</strong>원                    </div>,\n",
       " <div class=\"item-price\"> <span class=\"blind\">가격: </span><strong>7,500</strong>원                    </div>,\n",
       " <div class=\"item-price\"> <span class=\"blind\">가격: </span><strong>2,800</strong>원                    </div>,\n",
       " <div class=\"item-price\"> <span class=\"blind\">가격: </span><strong>10,000</strong>원                    </div>,\n",
       " <div class=\"item-price\"> <span class=\"blind\">가격: </span><strong>5,000</strong>원                    </div>,\n",
       " <div class=\"item-price\"> <span class=\"blind\">가격: </span><strong>5,000</strong>원                    </div>,\n",
       " <div class=\"item-price\"> <span class=\"blind\">가격: </span><strong>400</strong>원                    </div>,\n",
       " <div class=\"item-price\"> <span class=\"blind\">가격: </span><strong>700</strong>원                    </div>,\n",
       " <div class=\"item-price\"> <span class=\"blind\">가격: </span><strong>1,800</strong>원                    </div>,\n",
       " <div class=\"item-price\"> <span class=\"blind\">가격: </span><strong>500</strong>원                    </div>,\n",
       " <div class=\"item-price\"> <span class=\"blind\">가격: </span><strong>400</strong>원                    </div>,\n",
       " <div class=\"item-price\"> <span class=\"blind\">가격: </span><strong>300</strong>원                    </div>,\n",
       " <div class=\"item-price\"> <span class=\"blind\">가격: </span><strong>300</strong>원                    </div>]"
      ]
     },
     "execution_count": 76,
     "metadata": {},
     "output_type": "execute_result"
    }
   ],
   "source": [
    "price"
   ]
  },
  {
   "cell_type": "code",
   "execution_count": 78,
   "metadata": {},
   "outputs": [],
   "source": [
    "menu_list = []\n",
    "price_list = []\n",
    "\n",
    "for i in range(len(menu)) :\n",
    "    menu_list.append(menu[i].text.strip())\n",
    "    price_list.append(price[i].text.strip())"
   ]
  },
  {
   "cell_type": "code",
   "execution_count": 79,
   "metadata": {},
   "outputs": [
    {
     "data": {
      "text/plain": [
       "107"
      ]
     },
     "execution_count": 79,
     "metadata": {},
     "output_type": "execute_result"
    }
   ],
   "source": [
    "len(menu_list)"
   ]
  },
  {
   "cell_type": "code",
   "execution_count": 80,
   "metadata": {},
   "outputs": [
    {
     "data": {
      "text/plain": [
       "107"
      ]
     },
     "execution_count": 80,
     "metadata": {},
     "output_type": "execute_result"
    }
   ],
   "source": [
    "len(price_list)"
   ]
  },
  {
   "cell_type": "code",
   "execution_count": 81,
   "metadata": {},
   "outputs": [
    {
     "data": {
      "text/html": [
       "<div>\n",
       "<style scoped>\n",
       "    .dataframe tbody tr th:only-of-type {\n",
       "        vertical-align: middle;\n",
       "    }\n",
       "\n",
       "    .dataframe tbody tr th {\n",
       "        vertical-align: top;\n",
       "    }\n",
       "\n",
       "    .dataframe thead th {\n",
       "        text-align: right;\n",
       "    }\n",
       "</style>\n",
       "<table border=\"1\" class=\"dataframe\">\n",
       "  <thead>\n",
       "    <tr style=\"text-align: right;\">\n",
       "      <th></th>\n",
       "      <th>메뉴</th>\n",
       "      <th>가격</th>\n",
       "    </tr>\n",
       "  </thead>\n",
       "  <tbody>\n",
       "    <tr>\n",
       "      <th>0</th>\n",
       "      <td>매화(치킨, 연어구이)</td>\n",
       "      <td>가격: 10,000원</td>\n",
       "    </tr>\n",
       "    <tr>\n",
       "      <th>1</th>\n",
       "      <td>매화 (순살 고등어 간장구이)</td>\n",
       "      <td>가격: 10,000원</td>\n",
       "    </tr>\n",
       "    <tr>\n",
       "      <th>2</th>\n",
       "      <td>진달래</td>\n",
       "      <td>가격: 7,000원</td>\n",
       "    </tr>\n",
       "    <tr>\n",
       "      <th>3</th>\n",
       "      <td>개나리(순살 고등어 간장구이)</td>\n",
       "      <td>가격: 8,000원</td>\n",
       "    </tr>\n",
       "    <tr>\n",
       "      <th>4</th>\n",
       "      <td>생선까스도련님고기고기</td>\n",
       "      <td>가격: 5,500원</td>\n",
       "    </tr>\n",
       "    <tr>\n",
       "      <th>...</th>\n",
       "      <td>...</td>\n",
       "      <td>...</td>\n",
       "    </tr>\n",
       "    <tr>\n",
       "      <th>102</th>\n",
       "      <td>한솥 두부강된장소스</td>\n",
       "      <td>가격: 1,800원</td>\n",
       "    </tr>\n",
       "    <tr>\n",
       "      <th>103</th>\n",
       "      <td>한솥 감초볶음고추장소스</td>\n",
       "      <td>가격: 500원</td>\n",
       "    </tr>\n",
       "    <tr>\n",
       "      <th>104</th>\n",
       "      <td>볶음김치</td>\n",
       "      <td>가격: 400원</td>\n",
       "    </tr>\n",
       "    <tr>\n",
       "      <th>105</th>\n",
       "      <td>김치</td>\n",
       "      <td>가격: 300원</td>\n",
       "    </tr>\n",
       "    <tr>\n",
       "      <th>106</th>\n",
       "      <td>무말랭이</td>\n",
       "      <td>가격: 300원</td>\n",
       "    </tr>\n",
       "  </tbody>\n",
       "</table>\n",
       "<p>107 rows × 2 columns</p>\n",
       "</div>"
      ],
      "text/plain": [
       "                   메뉴           가격\n",
       "0        매화(치킨, 연어구이)  가격: 10,000원\n",
       "1    매화 (순살 고등어 간장구이)  가격: 10,000원\n",
       "2                 진달래   가격: 7,000원\n",
       "3    개나리(순살 고등어 간장구이)   가격: 8,000원\n",
       "4         생선까스도련님고기고기   가격: 5,500원\n",
       "..                ...          ...\n",
       "102        한솥 두부강된장소스   가격: 1,800원\n",
       "103      한솥 감초볶음고추장소스     가격: 500원\n",
       "104              볶음김치     가격: 400원\n",
       "105                김치     가격: 300원\n",
       "106              무말랭이     가격: 300원\n",
       "\n",
       "[107 rows x 2 columns]"
      ]
     },
     "execution_count": 81,
     "metadata": {},
     "output_type": "execute_result"
    }
   ],
   "source": [
    "dic = {'메뉴' : menu_list, '가격' : price_list }\n",
    "df = pd.DataFrame(dic)\n",
    "df"
   ]
  },
  {
   "cell_type": "markdown",
   "metadata": {},
   "source": [
    "# 유튜브 크롤링 하기"
   ]
  },
  {
   "cell_type": "code",
   "execution_count": 149,
   "metadata": {},
   "outputs": [],
   "source": [
    "soup = bs(driver.page_source, 'lxml')"
   ]
  },
  {
   "cell_type": "code",
   "execution_count": 150,
   "metadata": {},
   "outputs": [],
   "source": [
    "driver = wb.Chrome()\n",
    "url = 'https://www.youtube.com/channel/UCHgL0Bj_iAEOheN9v3wLA2g/videos'\n",
    "driver.get(url)"
   ]
  },
  {
   "cell_type": "code",
   "execution_count": 151,
   "metadata": {},
   "outputs": [],
   "source": [
    "body = driver.find_element_by_tag_name('body')\n",
    "\n",
    "for i in range(15):\n",
    "    body.send_keys(Keys.PAGE_DOWN)\n",
    "    time.sleep(1)"
   ]
  },
  {
   "cell_type": "code",
   "execution_count": 152,
   "metadata": {},
   "outputs": [],
   "source": [
    "title = soup.select('a#video-title')"
   ]
  },
  {
   "cell_type": "code",
   "execution_count": 153,
   "metadata": {},
   "outputs": [],
   "source": [
    "title = soup.select('#video-title')"
   ]
  },
  {
   "cell_type": "code",
   "execution_count": 154,
   "metadata": {},
   "outputs": [
    {
     "data": {
      "text/plain": [
       "[<a aria-label=\"강아지 앞에서 닮은 인형을 이뻐해줬을때 반응 게시자: 맹수꽁이 BeastGGong 4일 전 2분 34초 조회수 128,802회\" class=\"yt-simple-endpoint style-scope ytd-grid-video-renderer\" href=\"/watch?v=c3qcJy3p-aA\" id=\"video-title\" title=\"강아지 앞에서 닮은 인형을 이뻐해줬을때 반응\">강아지 앞에서 닮은 인형을 이뻐해줬을때 반응</a>,\n",
       " <a aria-label=\"죽은 척 하는 주인을 본 강아지의 귀여운 반응 게시자: 맹수꽁이 BeastGGong 6일 전 3분 10초 조회수 112,097회\" class=\"yt-simple-endpoint style-scope ytd-grid-video-renderer\" href=\"/watch?v=dIV5wqJnZpo\" id=\"video-title\" title=\"죽은 척 하는 주인을 본 강아지의 귀여운 반응\">죽은 척 하는 주인을 본 강아지의 귀여운 반응</a>,\n",
       " <a aria-label=\"간식 앞에서 기다려 시켰을때 귀여운 강아지 반응 게시자: 맹수꽁이 BeastGGong 1주 전 2분 43초 조회수 190,295회\" class=\"yt-simple-endpoint style-scope ytd-grid-video-renderer\" href=\"/watch?v=C3ZA-e2MAZE\" id=\"video-title\" title=\"간식 앞에서 기다려 시켰을때 귀여운 강아지 반응\">간식 앞에서 기다려 시켰을때 귀여운 강아지 반응</a>,\n",
       " <a aria-label=\"말티즈가 아기를 만났을때 생기는 일 게시자: 맹수꽁이 BeastGGong 1주 전 2분 28초 조회수 192,221회\" class=\"yt-simple-endpoint style-scope ytd-grid-video-renderer\" href=\"/watch?v=QDmDYJpc0ZI\" id=\"video-title\" title=\"말티즈가 아기를 만났을때 생기는 일\">말티즈가 아기를 만났을때 생기는 일</a>,\n",
       " <a aria-label=\"자는 강아지한테 산책가자고 했을때 귀여운 반응 게시자: 맹수꽁이 BeastGGong 2주 전 2분 36초 조회수 567,846회\" class=\"yt-simple-endpoint style-scope ytd-grid-video-renderer\" href=\"/watch?v=ukXxVNktvJY\" id=\"video-title\" title=\"자는 강아지한테 산책가자고 했을때 귀여운 반응\">자는 강아지한테 산책가자고 했을때 귀여운 반응</a>,\n",
       " <a aria-label=\"처음 눈을 본 강아지의 귀여운 반응! 게시자: 맹수꽁이 BeastGGong 2주 전 2분 57초 조회수 167,859회\" class=\"yt-simple-endpoint style-scope ytd-grid-video-renderer\" href=\"/watch?v=_lJqaq6Ga4M\" id=\"video-title\" title=\"처음 눈을 본 강아지의 귀여운 반응!\">처음 눈을 본 강아지의 귀여운 반응!</a>,\n",
       " <a aria-label=\"애교쟁이 강아지를 회사에 데려가면 생기는 일 게시자: 맹수꽁이 BeastGGong 3주 전 3분 43초 조회수 659,691회\" class=\"yt-simple-endpoint style-scope ytd-grid-video-renderer\" href=\"/watch?v=jK0q7-6QJmA\" id=\"video-title\" title=\"애교쟁이 강아지를 회사에 데려가면 생기는 일\">애교쟁이 강아지를 회사에 데려가면 생기는 일</a>,\n",
       " <a aria-label=\"몸만한 페트병에 간식 넣어줬을때 똑똑한 강아지 반응! 게시자: 맹수꽁이 BeastGGong 3주 전 2분 51초 조회수 49,197회\" class=\"yt-simple-endpoint style-scope ytd-grid-video-renderer\" href=\"/watch?v=oiGeVCgpDlU\" id=\"video-title\" title=\"몸만한 페트병에 간식 넣어줬을때 똑똑한 강아지 반응!\">몸만한 페트병에 간식 넣어줬을때 똑똑한 강아지 반응!</a>,\n",
       " <a aria-label=\"아빠랑 영상통화하니까 난리난 강아지 게시자: 맹수꽁이 BeastGGong 1개월 전 2분 46초 조회수 891,402회\" class=\"yt-simple-endpoint style-scope ytd-grid-video-renderer\" href=\"/watch?v=onKAwZQd2h8\" id=\"video-title\" title=\"아빠랑 영상통화하니까 난리난 강아지\">아빠랑 영상통화하니까 난리난 강아지</a>,\n",
       " <a aria-label=\"강아지 키우는 이유 게시자: 맹수꽁이 BeastGGong 1개월 전 2분 58초 조회수 404,778회\" class=\"yt-simple-endpoint style-scope ytd-grid-video-renderer\" href=\"/watch?v=b9umHd0KwA0\" id=\"video-title\" title=\"강아지 키우는 이유\">강아지 키우는 이유</a>,\n",
       " <a aria-label=\"보일러로 만든 따끈한 조랭이꽁떡 게시자: 맹수꽁이 BeastGGong 1개월 전 3분 10초 조회수 191,167회\" class=\"yt-simple-endpoint style-scope ytd-grid-video-renderer\" href=\"/watch?v=Wl5qO-gwO8A\" id=\"video-title\" title=\"보일러로 만든 따끈한 조랭이꽁떡\">보일러로 만든 따끈한 조랭이꽁떡</a>,\n",
       " <a aria-label=\"간식 한개만 더 달라고 찡찡하는 강아지 게시자: 맹수꽁이 BeastGGong 1개월 전 2분 27초 조회수 74,286회\" class=\"yt-simple-endpoint style-scope ytd-grid-video-renderer\" href=\"/watch?v=maS0zQFMM1w\" id=\"video-title\" title=\"간식 한개만 더 달라고 찡찡하는 강아지\">간식 한개만 더 달라고 찡찡하는 강아지</a>,\n",
       " <a aria-label=\"강아지 키우면 집에서 일 못하는 이유 게시자: 맹수꽁이 BeastGGong 1개월 전 3분 20초 조회수 101,297회\" class=\"yt-simple-endpoint style-scope ytd-grid-video-renderer\" href=\"/watch?v=_DLR34g4d-0\" id=\"video-title\" title=\"강아지 키우면 집에서 일 못하는 이유\">강아지 키우면 집에서 일 못하는 이유</a>,\n",
       " <a aria-label=\"의심병 걸린 강아지 게시자: 맹수꽁이 BeastGGong 1개월 전 2분 54초 조회수 134,434회\" class=\"yt-simple-endpoint style-scope ytd-grid-video-renderer\" href=\"/watch?v=BCtQd8eOGr0\" id=\"video-title\" title=\"의심병 걸린 강아지\">의심병 걸린 강아지</a>,\n",
       " <a aria-label=\"나 안졸리든므르으.. 게시자: 맹수꽁이 BeastGGong 1개월 전 3분 4초 조회수 92,885회\" class=\"yt-simple-endpoint style-scope ytd-grid-video-renderer\" href=\"/watch?v=Ucn-8LPGOQ8\" id=\"video-title\" title=\"나 안졸리든므르으..\">나 안졸리든므르으..</a>,\n",
       " <a aria-label=\"주인 있으면 대형견한테도 쎈척하는 강아지 게시자: 맹수꽁이 BeastGGong 1개월 전 3분 33초 조회수 136,510회\" class=\"yt-simple-endpoint style-scope ytd-grid-video-renderer\" href=\"/watch?v=oYNUictBoN0\" id=\"video-title\" title=\"주인 있으면 대형견한테도 쎈척하는 강아지\">주인 있으면 대형견한테도 쎈척하는 강아지</a>,\n",
       " <a aria-label=\"외출하는 주인에게 자기도 데려가라는 강아지 게시자: 맹수꽁이 BeastGGong 1개월 전 2분 57초 조회수 275,457회\" class=\"yt-simple-endpoint style-scope ytd-grid-video-renderer\" href=\"/watch?v=znXWIy596OY\" id=\"video-title\" title=\"외출하는 주인에게 자기도 데려가라는 강아지\">외출하는 주인에게 자기도 데려가라는 강아지</a>,\n",
       " <a aria-label=\"강아지에게 짐볼을 가르쳤더니.. 상태가..? 게시자: 맹수꽁이 BeastGGong 2개월 전 2분 30초 조회수 110,788회\" class=\"yt-simple-endpoint style-scope ytd-grid-video-renderer\" href=\"/watch?v=H_9qP19UMGQ\" id=\"video-title\" title=\"강아지에게 짐볼을 가르쳤더니.. 상태가..?\">강아지에게 짐볼을 가르쳤더니.. 상태가..?</a>,\n",
       " <a aria-label=\"아빠.. 나 왜이러지..? 게시자: 맹수꽁이 BeastGGong 2개월 전 3분 2초 조회수 138,921회\" class=\"yt-simple-endpoint style-scope ytd-grid-video-renderer\" href=\"/watch?v=l8EZBwFzhIc\" id=\"video-title\" title=\"아빠.. 나 왜이러지..?\">아빠.. 나 왜이러지..?</a>,\n",
       " <a aria-label=\"강아지 마사지 해줬을 때 귀여운 반응~ 게시자: 맹수꽁이 BeastGGong 2개월 전 2분 57초 조회수 125,975회\" class=\"yt-simple-endpoint style-scope ytd-grid-video-renderer\" href=\"/watch?v=2nZin96Jhs0\" id=\"video-title\" title=\"강아지 마사지 해줬을 때 귀여운 반응~\">강아지 마사지 해줬을 때 귀여운 반응~</a>,\n",
       " <a aria-label=\"간식 없으면 주인 취급 안하는 강아지 게시자: 맹수꽁이 BeastGGong 2개월 전 2분 38초 조회수 85,842회\" class=\"yt-simple-endpoint style-scope ytd-grid-video-renderer\" href=\"/watch?v=qKwSA6NuL-o\" id=\"video-title\" title=\"간식 없으면 주인 취급 안하는 강아지\">간식 없으면 주인 취급 안하는 강아지</a>,\n",
       " <a aria-label=\"사자탈쓰면 난폭해지는 강아지 게시자: 맹수꽁이 BeastGGong 2개월 전 3분 22초 조회수 71,519회\" class=\"yt-simple-endpoint style-scope ytd-grid-video-renderer\" href=\"/watch?v=ZjO-i6kFw0g\" id=\"video-title\" title=\"사자탈쓰면 난폭해지는 강아지\">사자탈쓰면 난폭해지는 강아지</a>,\n",
       " <a aria-label=\"꽁이 안잔다 게시자: 맹수꽁이 BeastGGong 2개월 전 2분 36초 조회수 224,084회\" class=\"yt-simple-endpoint style-scope ytd-grid-video-renderer\" href=\"/watch?v=5XoBqLkhorg\" id=\"video-title\" title=\"꽁이 안잔다\">꽁이 안잔다</a>,\n",
       " <a aria-label=\"분리수거하고 왔는데 격하게 반겨주는 강아지 게시자: 맹수꽁이 BeastGGong 2개월 전 2분 56초 조회수 143,480회\" class=\"yt-simple-endpoint style-scope ytd-grid-video-renderer\" href=\"/watch?v=HWyoMPK85zU\" id=\"video-title\" title=\"분리수거하고 왔는데 격하게 반겨주는 강아지\">분리수거하고 왔는데 격하게 반겨주는 강아지</a>,\n",
       " <a aria-label=\"목욕.. 꼭 해야만 했냐.. 게시자: 맹수꽁이 BeastGGong 2개월 전 3분 6초 조회수 68,686회\" class=\"yt-simple-endpoint style-scope ytd-grid-video-renderer\" href=\"/watch?v=6eve6y39XhI\" id=\"video-title\" title=\"목욕.. 꼭 해야만 했냐..\">목욕.. 꼭 해야만 했냐..</a>,\n",
       " <a aria-label=\"여긴 천국이야! 게시자: 맹수꽁이 BeastGGong 2개월 전 3분 24초 조회수 93,756회\" class=\"yt-simple-endpoint style-scope ytd-grid-video-renderer\" href=\"/watch?v=taC5qYGh0Ec\" id=\"video-title\" title=\"여긴 천국이야!\">여긴 천국이야!</a>,\n",
       " <a aria-label=\"아기강아지 처음 혼냈는데 너무 귀엽고 불쌍한 반응 ㅠ 게시자: 맹수꽁이 BeastGGong 3개월 전 2분 43초 조회수 771,034회\" class=\"yt-simple-endpoint style-scope ytd-grid-video-renderer\" href=\"/watch?v=jDjwXDjcn_A\" id=\"video-title\" title=\"아기강아지 처음 혼냈는데 너무 귀엽고 불쌍한 반응 ㅠ\">아기강아지 처음 혼냈는데 너무 귀엽고 불쌍한 반응 ㅠ</a>,\n",
       " <a aria-label=\"부모님이 강아지를 절대 싫어할 수 없는 이유 게시자: 맹수꽁이 BeastGGong 3개월 전 3분 15초 조회수 542,188회\" class=\"yt-simple-endpoint style-scope ytd-grid-video-renderer\" href=\"/watch?v=aPZnE1GHo_s\" id=\"video-title\" title=\"부모님이 강아지를 절대 싫어할 수 없는 이유\">부모님이 강아지를 절대 싫어할 수 없는 이유</a>,\n",
       " <a aria-label=\"심심해하는 강아지 공원데리고 갔을때 신난 반응 ㅎㅎ 게시자: 맹수꽁이 BeastGGong 3개월 전 2분 44초 조회수 59,340회\" class=\"yt-simple-endpoint style-scope ytd-grid-video-renderer\" href=\"/watch?v=Lm_3G9ixLSs\" id=\"video-title\" title=\"심심해하는 강아지 공원데리고 갔을때 신난 반응 ㅎㅎ\">심심해하는 강아지 공원데리고 갔을때 신난 반응 ㅎㅎ</a>,\n",
       " <a aria-label=\"진짜 물 수 있어! 게시자: 맹수꽁이 BeastGGong 3개월 전 2분 20초 조회수 190,983회\" class=\"yt-simple-endpoint style-scope ytd-grid-video-renderer\" href=\"/watch?v=8lXw69o_BaY\" id=\"video-title\" title=\"진짜 물 수 있어!\">진짜 물 수 있어!</a>,\n",
       " <a aria-label=\"손만 대면 발라당 뒤집는 귀여운 강아지 ㅎㅎ 게시자: 맹수꽁이 BeastGGong 3개월 전 2분 13초 조회수 47,812회\" class=\"yt-simple-endpoint style-scope ytd-grid-video-renderer\" href=\"/watch?v=xme05an2Pjs\" id=\"video-title\" title=\"손만 대면 발라당 뒤집는 귀여운 강아지 ㅎㅎ\">손만 대면 발라당 뒤집는 귀여운 강아지 ㅎㅎ</a>,\n",
       " <a aria-label=\"더 싫어졌어 게시자: 맹수꽁이 BeastGGong 3개월 전 2분 31초 조회수 32,542회\" class=\"yt-simple-endpoint style-scope ytd-grid-video-renderer\" href=\"/watch?v=lEfWg-aKhaA\" id=\"video-title\" title=\"더 싫어졌어\">더 싫어졌어</a>,\n",
       " <a aria-label=\"움직이는 생쥐로봇을 본 강아지의 귀여운 반응! 게시자: 맹수꽁이 BeastGGong 3개월 전 2분 19초 조회수 79,454회\" class=\"yt-simple-endpoint style-scope ytd-grid-video-renderer\" href=\"/watch?v=rBCghBa3WqQ\" id=\"video-title\" title=\"움직이는 생쥐로봇을 본 강아지의 귀여운 반응!\">움직이는 생쥐로봇을 본 강아지의 귀여운 반응!</a>,\n",
       " <a aria-label=\"털 속에 엄청난 미모가 숨어있던 강아지 게시자: 맹수꽁이 BeastGGong 3개월 전 2분 32초 조회수 118,636회\" class=\"yt-simple-endpoint style-scope ytd-grid-video-renderer\" href=\"/watch?v=dzlsxfIrCC0\" id=\"video-title\" title=\"털 속에 엄청난 미모가 숨어있던 강아지\">털 속에 엄청난 미모가 숨어있던 강아지</a>,\n",
       " <a aria-label=\"혼냈더니 삐져서 주인 무시하는 강아지 게시자: 맹수꽁이 BeastGGong 4개월 전 2분 45초 조회수 111,134회\" class=\"yt-simple-endpoint style-scope ytd-grid-video-renderer\" href=\"/watch?v=uwXOpU6d3hs\" id=\"video-title\" title=\"혼냈더니 삐져서 주인 무시하는 강아지\">혼냈더니 삐져서 주인 무시하는 강아지</a>,\n",
       " <a aria-label=\"강아지가 진짜 행복할때 나오는 표정 게시자: 맹수꽁이 BeastGGong 4개월 전 2분 56초 조회수 63,970회\" class=\"yt-simple-endpoint style-scope ytd-grid-video-renderer\" href=\"/watch?v=A8-ktOr_p5g\" id=\"video-title\" title=\"강아지가 진짜 행복할때 나오는 표정\">강아지가 진짜 행복할때 나오는 표정</a>,\n",
       " <a aria-label=\"이 강아지가 뭘 원하는건지 아시는분? 게시자: 맹수꽁이 BeastGGong 4개월 전 2분 30초 조회수 49,950회\" class=\"yt-simple-endpoint style-scope ytd-grid-video-renderer\" href=\"/watch?v=Uuxfb_QOw0s\" id=\"video-title\" title=\"이 강아지가 뭘 원하는건지 아시는분?\">이 강아지가 뭘 원하는건지 아시는분?</a>,\n",
       " <a aria-label=\"천둥번개에 놀라서 손 잡아달라는 강아지 게시자: 맹수꽁이 BeastGGong 4개월 전 3분 39초 조회수 676,135회\" class=\"yt-simple-endpoint style-scope ytd-grid-video-renderer\" href=\"/watch?v=jADfJ4xYYAA\" id=\"video-title\" title=\"천둥번개에 놀라서 손 잡아달라는 강아지\">천둥번개에 놀라서 손 잡아달라는 강아지</a>,\n",
       " <a aria-label=\"조금 더 자려는데 강아지가 와서 하는말 게시자: 맹수꽁이 BeastGGong 4개월 전 3분 34초 조회수 129,726회\" class=\"yt-simple-endpoint style-scope ytd-grid-video-renderer\" href=\"/watch?v=oPrZWweL0rs\" id=\"video-title\" title=\"조금 더 자려는데 강아지가 와서 하는말\">조금 더 자려는데 강아지가 와서 하는말</a>,\n",
       " <a aria-label=\"강아지가 집보다 좋아하는 곳 게시자: 맹수꽁이 BeastGGong 4개월 전 2분 59초 조회수 129,006회\" class=\"yt-simple-endpoint style-scope ytd-grid-video-renderer\" href=\"/watch?v=oRgq5A4rRfk\" id=\"video-title\" title=\"강아지가 집보다 좋아하는 곳\">강아지가 집보다 좋아하는 곳</a>,\n",
       " <a aria-label=\"엄마가 보고싶은 강아지의 선택 게시자: 맹수꽁이 BeastGGong 4개월 전 2분 54초 조회수 70,922회\" class=\"yt-simple-endpoint style-scope ytd-grid-video-renderer\" href=\"/watch?v=q2cTnVsYQmU\" id=\"video-title\" title=\"엄마가 보고싶은 강아지의 선택\">엄마가 보고싶은 강아지의 선택</a>,\n",
       " <a aria-label=\"우리집 강아지의 이상한 개인기 게시자: 맹수꽁이 BeastGGong 4개월 전 2분 10초 조회수 48,253회\" class=\"yt-simple-endpoint style-scope ytd-grid-video-renderer\" href=\"/watch?v=msEm0LYRDVM\" id=\"video-title\" title=\"우리집 강아지의 이상한 개인기\">우리집 강아지의 이상한 개인기</a>,\n",
       " <a aria-label=\"세상에서 제일 예쁜 말티즈 보고갈래? 게시자: 맹수꽁이 BeastGGong 4개월 전 2분 34초 조회수 74,703회\" class=\"yt-simple-endpoint style-scope ytd-grid-video-renderer\" href=\"/watch?v=HTafjVmMZvg\" id=\"video-title\" title=\"세상에서 제일 예쁜 말티즈 보고갈래?\">세상에서 제일 예쁜 말티즈 보고갈래?</a>,\n",
       " <a aria-label=\"심각하게 삐진 강아지 게시자: 맹수꽁이 BeastGGong 5개월 전 3분 3초 조회수 71,633회\" class=\"yt-simple-endpoint style-scope ytd-grid-video-renderer\" href=\"/watch?v=WrnXvX1posw\" id=\"video-title\" title=\"심각하게 삐진 강아지\">심각하게 삐진 강아지</a>,\n",
       " <a aria-label=\"이 강아지에게 간식으로 장난치지 마세요 게시자: 맹수꽁이 BeastGGong 5개월 전 2분 25초 조회수 52,629회\" class=\"yt-simple-endpoint style-scope ytd-grid-video-renderer\" href=\"/watch?v=jc9XkWDNb0Y\" id=\"video-title\" title=\"이 강아지에게 간식으로 장난치지 마세요\">이 강아지에게 간식으로 장난치지 마세요</a>,\n",
       " <a aria-label=\"집에 혼자있는 강아지를 몰래봤다가 슬퍼졌어요.. 게시자: 맹수꽁이 BeastGGong 5개월 전 4분 3초 조회수 177,590회\" class=\"yt-simple-endpoint style-scope ytd-grid-video-renderer\" href=\"/watch?v=bK8K69jt-HU\" id=\"video-title\" title=\"집에 혼자있는 강아지를 몰래봤다가 슬퍼졌어요..\">집에 혼자있는 강아지를 몰래봤다가 슬퍼졌어요..</a>,\n",
       " <a aria-label=\"폭우 속으로 뛰어든 강아지의 최후 게시자: 맹수꽁이 BeastGGong 5개월 전 2분 34초 조회수 72,863회\" class=\"yt-simple-endpoint style-scope ytd-grid-video-renderer\" href=\"/watch?v=gAW5qbaoDSA\" id=\"video-title\" title=\"폭우 속으로 뛰어든 강아지의 최후\">폭우 속으로 뛰어든 강아지의 최후</a>,\n",
       " <a aria-label=\"강아지 번역기쓰는데 목소리 작아서 번역이 안돼요 ㅠ 게시자: 맹수꽁이 BeastGGong 5개월 전 2분 16초 조회수 41,513회\" class=\"yt-simple-endpoint style-scope ytd-grid-video-renderer\" href=\"/watch?v=bCU2xaWUXoE\" id=\"video-title\" title=\"강아지 번역기쓰는데 목소리 작아서 번역이 안돼요 ㅠ\">강아지 번역기쓰는데 목소리 작아서 번역이 안돼요 ㅠ</a>,\n",
       " <a aria-label=\"목욕시키면 화내는 강아지ㅋㅋ 게시자: 맹수꽁이 BeastGGong 5개월 전 2분 39초 조회수 46,203회\" class=\"yt-simple-endpoint style-scope ytd-grid-video-renderer\" href=\"/watch?v=cK44qzS0hII\" id=\"video-title\" title=\"목욕시키면 화내는 강아지ㅋㅋ\">목욕시키면 화내는 강아지ㅋㅋ</a>,\n",
       " <a aria-label=\"아니 왜 자는 사람 손을 몰래 핥고 그래? 게시자: 맹수꽁이 BeastGGong 5개월 전 2분 34초 조회수 41,723회\" class=\"yt-simple-endpoint style-scope ytd-grid-video-renderer\" href=\"/watch?v=OBG8E-YNI2Y\" id=\"video-title\" title=\"아니 왜 자는 사람 손을 몰래 핥고 그래?\">아니 왜 자는 사람 손을 몰래 핥고 그래?</a>,\n",
       " <a aria-label=\"매일 아침 격하게 반겨주는 귀여운 강아지! 게시자: 맹수꽁이 BeastGGong 5개월 전 2분 40초 조회수 36,752회\" class=\"yt-simple-endpoint style-scope ytd-grid-video-renderer\" href=\"/watch?v=UtTp3hKucG0\" id=\"video-title\" title=\"매일 아침 격하게 반겨주는 귀여운 강아지!\">매일 아침 격하게 반겨주는 귀여운 강아지!</a>,\n",
       " <a aria-label=\"산책 가고 싶은 강아지의 귀여운 행동 ㅎㅎ 게시자: 맹수꽁이 BeastGGong 5개월 전 2분 43초 조회수 112,548회\" class=\"yt-simple-endpoint style-scope ytd-grid-video-renderer\" href=\"/watch?v=W6ylpO7_NZA\" id=\"video-title\" title=\"산책 가고 싶은 강아지의 귀여운 행동 ㅎㅎ\">산책 가고 싶은 강아지의 귀여운 행동 ㅎㅎ</a>,\n",
       " <a aria-label=\"알 수 없는 강아지의 세계 게시자: 맹수꽁이 BeastGGong 6개월 전 2분 19초 조회수 66,690회\" class=\"yt-simple-endpoint style-scope ytd-grid-video-renderer\" href=\"/watch?v=_6XI1odkEGg\" id=\"video-title\" title=\"알 수 없는 강아지의 세계\">알 수 없는 강아지의 세계</a>,\n",
       " <a aria-label=\"이뻐해주면 눈빛 아련해지는 강아지 게시자: 맹수꽁이 BeastGGong 6개월 전 2분 9초 조회수 62,414회\" class=\"yt-simple-endpoint style-scope ytd-grid-video-renderer\" href=\"/watch?v=jXDK6EdOGKc\" id=\"video-title\" title=\"이뻐해주면 눈빛 아련해지는 강아지\">이뻐해주면 눈빛 아련해지는 강아지</a>,\n",
       " <a aria-label=\"주인이 쓰러지자마자 달려간 강아지가 저지른 일 게시자: 맹수꽁이 BeastGGong 6개월 전 2분 39초 조회수 193,366회\" class=\"yt-simple-endpoint style-scope ytd-grid-video-renderer\" href=\"/watch?v=60KllBidCd8\" id=\"video-title\" title=\"주인이 쓰러지자마자 달려간 강아지가 저지른 일\">주인이 쓰러지자마자 달려간 강아지가 저지른 일</a>,\n",
       " <a aria-label=\"작고 배부른 강아지를 만져줬을때 귀여운 반응 ㅎㅎ 게시자: 맹수꽁이 BeastGGong 6개월 전 2분 17초 조회수 151,041회\" class=\"yt-simple-endpoint style-scope ytd-grid-video-renderer\" href=\"/watch?v=-njoBbFGav8\" id=\"video-title\" title=\"작고 배부른 강아지를 만져줬을때 귀여운 반응 ㅎㅎ\">작고 배부른 강아지를 만져줬을때 귀여운 반응 ㅎㅎ</a>,\n",
       " <a aria-label=\"단 10분만 나갔다와도 불쌍해지는 강아지 ㅠ 게시자: 맹수꽁이 BeastGGong 6개월 전 2분 23초 조회수 114,714회\" class=\"yt-simple-endpoint style-scope ytd-grid-video-renderer\" href=\"/watch?v=BaKKnq-YmUk\" id=\"video-title\" title=\"단 10분만 나갔다와도 불쌍해지는 강아지 ㅠ\">단 10분만 나갔다와도 불쌍해지는 강아지 ㅠ</a>,\n",
       " <a aria-label=\"푹 자느라 주인 온줄도 모르는 강아지 게시자: 맹수꽁이 BeastGGong 6개월 전 2분 54초 조회수 1,122,695회\" class=\"yt-simple-endpoint style-scope ytd-grid-video-renderer\" href=\"/watch?v=XF3_5ReuE9w\" id=\"video-title\" title=\"푹 자느라 주인 온줄도 모르는 강아지\">푹 자느라 주인 온줄도 모르는 강아지</a>,\n",
       " <a aria-label=\"1살 강아지는 6개월만에 만난 사람을 기억할까? 게시자: 맹수꽁이 BeastGGong 6개월 전 2분 26초 조회수 146,836회\" class=\"yt-simple-endpoint style-scope ytd-grid-video-renderer\" href=\"/watch?v=UIVmaznsPEI\" id=\"video-title\" title=\"1살 강아지는 6개월만에 만난 사람을 기억할까?\">1살 강아지는 6개월만에 만난 사람을 기억할까?</a>,\n",
       " <a aria-label=\"집안 곳곳에 숨겨둔 간식을 귀신같이 찾는 강아지 게시자: 맹수꽁이 BeastGGong 6개월 전 3분 조회수 28,342회\" class=\"yt-simple-endpoint style-scope ytd-grid-video-renderer\" href=\"/watch?v=fvpyBYzaXhE\" id=\"video-title\" title=\"집안 곳곳에 숨겨둔 간식을 귀신같이 찾는 강아지\">집안 곳곳에 숨겨둔 간식을 귀신같이 찾는 강아지</a>,\n",
       " <a aria-label=\"[고화질] 처음 집이 생긴 강아지의 예상못한 반응 ㅎㅎ 게시자: 맹수꽁이 BeastGGong 6개월 전 3분 1초 조회수 224,928회\" class=\"yt-simple-endpoint style-scope ytd-grid-video-renderer\" href=\"/watch?v=e5WiFb2jKnQ\" id=\"video-title\" title=\"[고화질] 처음 집이 생긴 강아지의 예상못한 반응 ㅎㅎ\">[고화질] 처음 집이 생긴 강아지의 예상못한 반응 ㅎㅎ</a>,\n",
       " <a aria-label=\"하루종일 자길래 깨웠더니 퉁퉁부은 강아지 ㅎㅎ 게시자: 맹수꽁이 BeastGGong 7개월 전 2분 13초 조회수 117,720회\" class=\"yt-simple-endpoint style-scope ytd-grid-video-renderer\" href=\"/watch?v=mbPmYSD_34c\" id=\"video-title\" title=\"하루종일 자길래 깨웠더니 퉁퉁부은 강아지 ㅎㅎ\">하루종일 자길래 깨웠더니 퉁퉁부은 강아지 ㅎㅎ</a>,\n",
       " <a aria-label=\"산책을 싫어하는 강아지 게시자: 맹수꽁이 BeastGGong 7개월 전 2분 33초 조회수 52,438회\" class=\"yt-simple-endpoint style-scope ytd-grid-video-renderer\" href=\"/watch?v=dk8WfpMcYbc\" id=\"video-title\" title=\"산책을 싫어하는 강아지\">산책을 싫어하는 강아지</a>,\n",
       " <a aria-label=\"아기를 처음 본 강아지의 신기한 반응! 게시자: 맹수꽁이 BeastGGong 7개월 전 2분 41초 조회수 773,536회\" class=\"yt-simple-endpoint style-scope ytd-grid-video-renderer\" href=\"/watch?v=8eg1e3ZFiKM\" id=\"video-title\" title=\"아기를 처음 본 강아지의 신기한 반응!\">아기를 처음 본 강아지의 신기한 반응!</a>,\n",
       " <a aria-label=\"강아지와 떠나는 여행 게시자: 맹수꽁이 BeastGGong 7개월 전 2분 58초 조회수 53,662회\" class=\"yt-simple-endpoint style-scope ytd-grid-video-renderer\" href=\"/watch?v=AHCAJPGVxZg\" id=\"video-title\" title=\"강아지와 떠나는 여행\">강아지와 떠나는 여행</a>,\n",
       " <a aria-label=\"간식이 너무 먹고 싶은 강아지 게시자: 맹수꽁이 BeastGGong 7개월 전 2분 15초 조회수 34,139회\" class=\"yt-simple-endpoint style-scope ytd-grid-video-renderer\" href=\"/watch?v=xjSgfXA3TVQ\" id=\"video-title\" title=\"간식이 너무 먹고 싶은 강아지\">간식이 너무 먹고 싶은 강아지</a>,\n",
       " <a aria-label=\"물통을 도시락으로 쓰는 강아지 게시자: 맹수꽁이 BeastGGong 7개월 전 3분 9초 조회수 49,730회\" class=\"yt-simple-endpoint style-scope ytd-grid-video-renderer\" href=\"/watch?v=FS_yJnorwH0\" id=\"video-title\" title=\"물통을 도시락으로 쓰는 강아지\">물통을 도시락으로 쓰는 강아지</a>,\n",
       " <a aria-label=\"만져달라고 애교부리는 강아지 게시자: 맹수꽁이 BeastGGong 7개월 전 2분 41초 조회수 65,985회\" class=\"yt-simple-endpoint style-scope ytd-grid-video-renderer\" href=\"/watch?v=hCkFmBVVMJo\" id=\"video-title\" title=\"만져달라고 애교부리는 강아지\">만져달라고 애교부리는 강아지</a>,\n",
       " <a aria-label=\"소파에서 잠들었을때 귀여운 강아지 반응 ㅎㅎ 게시자: 맹수꽁이 BeastGGong 7개월 전 2분 39초 조회수 1,168,909회\" class=\"yt-simple-endpoint style-scope ytd-grid-video-renderer\" href=\"/watch?v=44eu0sfZpgk\" id=\"video-title\" title=\"소파에서 잠들었을때 귀여운 강아지 반응 ㅎㅎ\">소파에서 잠들었을때 귀여운 강아지 반응 ㅎㅎ</a>,\n",
       " <a aria-label=\"[고화질]태어나서 거울을 처음 본 강아지의 귀여운 반응! 게시자: 맹수꽁이 BeastGGong 8개월 전 2분 38초 조회수 56,901회\" class=\"yt-simple-endpoint style-scope ytd-grid-video-renderer\" href=\"/watch?v=QM4kdkbGX-c\" id=\"video-title\" title=\"[고화질]태어나서 거울을 처음 본 강아지의 귀여운 반응!\">[고화질]태어나서 거울을 처음 본 강아지의 귀여운 반응!</a>,\n",
       " <a aria-label=\"간식 숨기는 강아지 계속 따라다녔을때 귀여운 반응 ㅋㅋ 게시자: 맹수꽁이 BeastGGong 8개월 전 3분 23초 조회수 59,717회\" class=\"yt-simple-endpoint style-scope ytd-grid-video-renderer\" href=\"/watch?v=b1bJ-OyAIcE\" id=\"video-title\" title=\"간식 숨기는 강아지 계속 따라다녔을때 귀여운 반응 ㅋㅋ\">간식 숨기는 강아지 계속 따라다녔을때 귀여운 반응 ㅋㅋ</a>,\n",
       " <a aria-label=\"휴지벽을 본 강아지의 예상못한 반응 (Toilet Paper Wall Challenge) 게시자: 맹수꽁이 BeastGGong 8개월 전 2분 43초 조회수 40,492회\" class=\"yt-simple-endpoint style-scope ytd-grid-video-renderer\" href=\"/watch?v=30nDiqcOv4Q\" id=\"video-title\" title=\"휴지벽을 본 강아지의 예상못한 반응 (Toilet Paper Wall Challenge)\">휴지벽을 본 강아지의 예상못한 반응 (Toilet Paper Wall Challenge)</a>,\n",
       " <a aria-label=\"뽀시래기 시절 썰 푸는 강아지 게시자: 맹수꽁이 BeastGGong 8개월 전 4분 2초 조회수 56,263회\" class=\"yt-simple-endpoint style-scope ytd-grid-video-renderer\" href=\"/watch?v=xPPI_DIghXs\" id=\"video-title\" title=\"뽀시래기 시절 썰 푸는 강아지\">뽀시래기 시절 썰 푸는 강아지</a>,\n",
       " <a aria-label=\"강아지가 실망한 이유 게시자: 맹수꽁이 BeastGGong 8개월 전 3분 3초 조회수 34,623회\" class=\"yt-simple-endpoint style-scope ytd-grid-video-renderer\" href=\"/watch?v=beMToIz4GFk\" id=\"video-title\" title=\"강아지가 실망한 이유\">강아지가 실망한 이유</a>,\n",
       " <a aria-label=\"자는 강아지 깨웠을때 귀여운 반응 ㅎㅎ 게시자: 맹수꽁이 BeastGGong 8개월 전 2분 55초 조회수 76,930회\" class=\"yt-simple-endpoint style-scope ytd-grid-video-renderer\" href=\"/watch?v=Km3yDbRjCMg\" id=\"video-title\" title=\"자는 강아지 깨웠을때 귀여운 반응 ㅎㅎ\">자는 강아지 깨웠을때 귀여운 반응 ㅎㅎ</a>,\n",
       " <a aria-label=\"간식 줄것처럼 하고 안줬더니  삐진 강아지 게시자: 맹수꽁이 BeastGGong 8개월 전 3분 9초 조회수 43,982회\" class=\"yt-simple-endpoint style-scope ytd-grid-video-renderer\" href=\"/watch?v=rFpnI4FUVhg\" id=\"video-title\" title=\"간식 줄것처럼 하고 안줬더니  삐진 강아지\">간식 줄것처럼 하고 안줬더니  삐진 강아지</a>,\n",
       " <a aria-label=\"놀고싶어서 안달난 강아지 게시자: 맹수꽁이 BeastGGong 8개월 전 2분 51초 조회수 22,659회\" class=\"yt-simple-endpoint style-scope ytd-grid-video-renderer\" href=\"/watch?v=WI8g7-I2yBg\" id=\"video-title\" title=\"놀고싶어서 안달난 강아지\">놀고싶어서 안달난 강아지</a>,\n",
       " <a aria-label=\"강아지를 촬영장에 데려갔을때 생긴일 게시자: 맹수꽁이 BeastGGong 9개월 전 2분 39초 조회수 18,384회\" class=\"yt-simple-endpoint style-scope ytd-grid-video-renderer\" href=\"/watch?v=XromjF4rZKY\" id=\"video-title\" title=\"강아지를 촬영장에 데려갔을때 생긴일\">강아지를 촬영장에 데려갔을때 생긴일</a>,\n",
       " <a aria-label=\"처음보는 장난감 봤을때 강아지의 귀여운 반응 ㅎㅎ 게시자: 맹수꽁이 BeastGGong 9개월 전 4분 1초 조회수 38,587회\" class=\"yt-simple-endpoint style-scope ytd-grid-video-renderer\" href=\"/watch?v=sV2Q549e6SQ\" id=\"video-title\" title=\"처음보는 장난감 봤을때 강아지의 귀여운 반응 ㅎㅎ\">처음보는 장난감 봤을때 강아지의 귀여운 반응 ㅎㅎ</a>,\n",
       " <a aria-label=\"강아지를 회사에 데려갔을때 귀여운 반응 ㅋㅋ 게시자: 맹수꽁이 BeastGGong 9개월 전 3분 11초 조회수 180,323회\" class=\"yt-simple-endpoint style-scope ytd-grid-video-renderer\" href=\"/watch?v=5oSPbJamUCw\" id=\"video-title\" title=\"강아지를 회사에 데려갔을때 귀여운 반응 ㅋㅋ\">강아지를 회사에 데려갔을때 귀여운 반응 ㅋㅋ</a>,\n",
       " <a aria-label=\"미용한 강아지를 만졌을때 귀여운 반응ㅎㅎ 게시자: 맹수꽁이 BeastGGong 9개월 전 2분 37초 조회수 58,771회\" class=\"yt-simple-endpoint style-scope ytd-grid-video-renderer\" href=\"/watch?v=uEyflamFSZ8\" id=\"video-title\" title=\"미용한 강아지를 만졌을때 귀여운 반응ㅎㅎ\">미용한 강아지를 만졌을때 귀여운 반응ㅎㅎ</a>,\n",
       " <a aria-label=\"햇볕에 취한 귀여운 강아지 게시자: 맹수꽁이 BeastGGong 9개월 전 2분 47초 조회수 30,110회\" class=\"yt-simple-endpoint style-scope ytd-grid-video-renderer\" href=\"/watch?v=JpcbFvxn_jM\" id=\"video-title\" title=\"햇볕에 취한 귀여운 강아지\">햇볕에 취한 귀여운 강아지</a>,\n",
       " <a aria-label=\"눈치가 엄청 빠른 강아지 게시자: 맹수꽁이 BeastGGong 9개월 전 3분 44초 조회수 68,453회\" class=\"yt-simple-endpoint style-scope ytd-grid-video-renderer\" href=\"/watch?v=SEVO_Y51NJY\" id=\"video-title\" title=\"눈치가 엄청 빠른 강아지\">눈치가 엄청 빠른 강아지</a>,\n",
       " <a aria-label=\"억지로 목욕시켰더니 화난 강아지 게시자: 맹수꽁이 BeastGGong 9개월 전 3분 37초 조회수 142,552회\" class=\"yt-simple-endpoint style-scope ytd-grid-video-renderer\" href=\"/watch?v=kBTcNkIiuwU\" id=\"video-title\" title=\"억지로 목욕시켰더니 화난 강아지\">억지로 목욕시켰더니 화난 강아지</a>,\n",
       " <a aria-label=\"간식이 먹고 싶은 강아지의 귀여운 반응 ㅋㅋ 게시자: 맹수꽁이 BeastGGong 9개월 전 3분 1초 조회수 73,162회\" class=\"yt-simple-endpoint style-scope ytd-grid-video-renderer\" href=\"/watch?v=2BoJyobX4UQ\" id=\"video-title\" title=\"간식이 먹고 싶은 강아지의 귀여운 반응 ㅋㅋ\">간식이 먹고 싶은 강아지의 귀여운 반응 ㅋㅋ</a>,\n",
       " <a aria-label=\"곰돌이 모자씌웠더니 고장난 강아지 게시자: 맹수꽁이 BeastGGong 9개월 전 2분 42초 조회수 44,631회\" class=\"yt-simple-endpoint style-scope ytd-grid-video-renderer\" href=\"/watch?v=1fyMoQ45vks\" id=\"video-title\" title=\"곰돌이 모자씌웠더니 고장난 강아지\">곰돌이 모자씌웠더니 고장난 강아지</a>,\n",
       " <a aria-label=\"간식 눈 앞에 두고 못먹게 했을 때 귀여운 강아지 반응 ㅎㅎ 게시자: 맹수꽁이 BeastGGong 9개월 전 3분 33초 조회수 31,672회\" class=\"yt-simple-endpoint style-scope ytd-grid-video-renderer\" href=\"/watch?v=F4oD6wIaSZc\" id=\"video-title\" title=\"간식 눈 앞에 두고 못먹게 했을 때 귀여운 강아지 반응 ㅎㅎ\">간식 눈 앞에 두고 못먹게 했을 때 귀여운 강아지 반응 ㅎㅎ</a>,\n",
       " <a aria-label=\"목걸이 해줬더니 엄청 귀여워진 강아지 게시자: 맹수꽁이 BeastGGong 10개월 전 3분 44초 조회수 53,223회\" class=\"yt-simple-endpoint style-scope ytd-grid-video-renderer\" href=\"/watch?v=xM0dhwdRJhw\" id=\"video-title\" title=\"목걸이 해줬더니 엄청 귀여워진 강아지\">목걸이 해줬더니 엄청 귀여워진 강아지</a>,\n",
       " <a aria-label=\"귀여운 강아지를 만진다는 것 게시자: 맹수꽁이 BeastGGong 10개월 전 3분 14초 조회수 134,832회\" class=\"yt-simple-endpoint style-scope ytd-grid-video-renderer\" href=\"/watch?v=D1h1DmooPcw\" id=\"video-title\" title=\"귀여운 강아지를 만진다는 것\">귀여운 강아지를 만진다는 것</a>,\n",
       " <a aria-label=\"귀여운 표정으로 배를 긁어달라고 부탁하는 강아지 게시자: 맹수꽁이 BeastGGong 10개월 전 2분 49초 조회수 309,872회\" class=\"yt-simple-endpoint style-scope ytd-grid-video-renderer\" href=\"/watch?v=7xhUXBSNLOo\" id=\"video-title\" title=\"귀여운 표정으로 배를 긁어달라고 부탁하는 강아지\">귀여운 표정으로 배를 긁어달라고 부탁하는 강아지</a>,\n",
       " <a aria-label=\"[LIVE]꽁몽 남매 생일파티♡ 게시자: 맹수꽁이 BeastGGong 스트리밍 시간: 10개월 전 33분 조회수 14,790회\" class=\"yt-simple-endpoint style-scope ytd-grid-video-renderer\" href=\"/watch?v=5a6P6-DsuAI\" id=\"video-title\" title=\"[LIVE]꽁몽 남매 생일파티♡\">[LIVE]꽁몽 남매 생일파티♡</a>,\n",
       " <a aria-label=\"아침에 눈뜨자마자 애교부리는 귀여운 강아지 게시자: 맹수꽁이 BeastGGong 10개월 전 2분 29초 조회수 131,067회\" class=\"yt-simple-endpoint style-scope ytd-grid-video-renderer\" href=\"/watch?v=5fAD1RougBk\" id=\"video-title\" title=\"아침에 눈뜨자마자 애교부리는 귀여운 강아지\">아침에 눈뜨자마자 애교부리는 귀여운 강아지</a>,\n",
       " <a aria-label=\"하루만에 주인 만난 강아지의 서러운 반응 ㅠㅠ 게시자: 맹수꽁이 BeastGGong 10개월 전 3분 15초 조회수 1,964,244회\" class=\"yt-simple-endpoint style-scope ytd-grid-video-renderer\" href=\"/watch?v=latTNeij7vk\" id=\"video-title\" title=\"하루만에 주인 만난 강아지의 서러운 반응 ㅠㅠ\">하루만에 주인 만난 강아지의 서러운 반응 ㅠㅠ</a>,\n",
       " <a aria-label=\"안놀아줬더니 삐진 강아지 게시자: 맹수꽁이 BeastGGong 10개월 전 2분 48초 조회수 75,950회\" class=\"yt-simple-endpoint style-scope ytd-grid-video-renderer\" href=\"/watch?v=FpLpCXfa4LI\" id=\"video-title\" title=\"안놀아줬더니 삐진 강아지\">안놀아줬더니 삐진 강아지</a>,\n",
       " <a aria-label=\"물병 속 간식을 본 강아지의 천재적인 반응 게시자: 맹수꽁이 BeastGGong 10개월 전 2분 49초 조회수 30,948회\" class=\"yt-simple-endpoint style-scope ytd-grid-video-renderer\" href=\"/watch?v=GXffpXDL7rI\" id=\"video-title\" title=\"물병 속 간식을 본 강아지의 천재적인 반응\">물병 속 간식을 본 강아지의 천재적인 반응</a>,\n",
       " <a aria-label=\"귀엽게 미용시켰더니 화난 강아지 게시자: 맹수꽁이 BeastGGong 10개월 전 2분 45초 조회수 113,904회\" class=\"yt-simple-endpoint style-scope ytd-grid-video-renderer\" href=\"/watch?v=ey8dEj6x0LY\" id=\"video-title\" title=\"귀엽게 미용시켰더니 화난 강아지\">귀엽게 미용시켰더니 화난 강아지</a>,\n",
       " <a aria-label=\"병원에서 진료받다가 현타온 강아지 게시자: 맹수꽁이 BeastGGong 10개월 전 2분 31초 조회수 94,690회\" class=\"yt-simple-endpoint style-scope ytd-grid-video-renderer\" href=\"/watch?v=oVAJx715KJ4\" id=\"video-title\" title=\"병원에서 진료받다가 현타온 강아지\">병원에서 진료받다가 현타온 강아지</a>,\n",
       " <a aria-label=\"얼굴 빗다가 수염뽑혀서 억울한 강아지 게시자: 맹수꽁이 BeastGGong 11개월 전 2분 7초 조회수 36,263회\" class=\"yt-simple-endpoint style-scope ytd-grid-video-renderer\" href=\"/watch?v=mVa8AqXwN7k\" id=\"video-title\" title=\"얼굴 빗다가 수염뽑혀서 억울한 강아지\">얼굴 빗다가 수염뽑혀서 억울한 강아지</a>,\n",
       " <a aria-label=\"평소보다 늦게왔을때 강아지의 서러운 반응 ㅠ 게시자: 맹수꽁이 BeastGGong 11개월 전 2분 22초 조회수 754,427회\" class=\"yt-simple-endpoint style-scope ytd-grid-video-renderer\" href=\"/watch?v=MpsS-T2GZqg\" id=\"video-title\" title=\"평소보다 늦게왔을때 강아지의 서러운 반응 ㅠ\">평소보다 늦게왔을때 강아지의 서러운 반응 ㅠ</a>,\n",
       " <a aria-label=\"잠자는 모습을 계속 쳐다봤을때 귀여운 강아지의 반응 게시자: 맹수꽁이 BeastGGong 11개월 전 1분 58초 조회수 33,381회\" class=\"yt-simple-endpoint style-scope ytd-grid-video-renderer\" href=\"/watch?v=IqiJhUfd_I4\" id=\"video-title\" title=\"잠자는 모습을 계속 쳐다봤을때 귀여운 강아지의 반응\">잠자는 모습을 계속 쳐다봤을때 귀여운 강아지의 반응</a>,\n",
       " <a aria-label=\"자고싶어서 연기하는 강아지 게시자: 맹수꽁이 BeastGGong 11개월 전 1분 54초 조회수 56,494회\" class=\"yt-simple-endpoint style-scope ytd-grid-video-renderer\" href=\"/watch?v=ufKzl9O5hbI\" id=\"video-title\" title=\"자고싶어서 연기하는 강아지\">자고싶어서 연기하는 강아지</a>,\n",
       " <a aria-label=\"집에가기 싫어서 아빠를 무는 강아지 게시자: 맹수꽁이 BeastGGong 11개월 전 2분 29초 조회수 177,256회\" class=\"yt-simple-endpoint style-scope ytd-grid-video-renderer\" href=\"/watch?v=91-T26Ct12o\" id=\"video-title\" title=\"집에가기 싫어서 아빠를 무는 강아지\">집에가기 싫어서 아빠를 무는 강아지</a>,\n",
       " <a aria-label=\"산책하다 엄마가 숨었는데 집에가버리는 강아지 게시자: 맹수꽁이 BeastGGong 11개월 전 2분 12초 조회수 59,673회\" class=\"yt-simple-endpoint style-scope ytd-grid-video-renderer\" href=\"/watch?v=7ZwVoxRTJvM\" id=\"video-title\" title=\"산책하다 엄마가 숨었는데 집에가버리는 강아지\">산책하다 엄마가 숨었는데 집에가버리는 강아지</a>,\n",
       " <a aria-label=\"자는동안 가족들이 사라져서 슬퍼하는 강아지 게시자: 맹수꽁이 BeastGGong 11개월 전 2분 31초 조회수 432,660회\" class=\"yt-simple-endpoint style-scope ytd-grid-video-renderer\" href=\"/watch?v=9t0p3CEm8x4\" id=\"video-title\" title=\"자는동안 가족들이 사라져서 슬퍼하는 강아지\">자는동안 가족들이 사라져서 슬퍼하는 강아지</a>,\n",
       " <a aria-label=\"꼬리가 이런 강아지 진짜 처음 봐요 게시자: 맹수꽁이 BeastGGong 1년 전 2분 11초 조회수 53,434회\" class=\"yt-simple-endpoint style-scope ytd-grid-video-renderer\" href=\"/watch?v=tP9yeCZjmRA\" id=\"video-title\" title=\"꼬리가 이런 강아지 진짜 처음 봐요\">꼬리가 이런 강아지 진짜 처음 봐요</a>,\n",
       " <a aria-label=\"애착인형을 버렸을때 강아지의 예상못한 반응 ㅋㅋ 게시자: 맹수꽁이 BeastGGong 1년 전 3분 1초 조회수 118,493회\" class=\"yt-simple-endpoint style-scope ytd-grid-video-renderer\" href=\"/watch?v=ZEh1klCNjxE\" id=\"video-title\" title=\"애착인형을 버렸을때 강아지의 예상못한 반응 ㅋㅋ\">애착인형을 버렸을때 강아지의 예상못한 반응 ㅋㅋ</a>,\n",
       " <a aria-label=\"원하는걸 당당히 표현하는 강아지 게시자: 맹수꽁이 BeastGGong 1년 전 2분 16초 조회수 28,777회\" class=\"yt-simple-endpoint style-scope ytd-grid-video-renderer\" href=\"/watch?v=mjg4-mFNk5o\" id=\"video-title\" title=\"원하는걸 당당히 표현하는 강아지\">원하는걸 당당히 표현하는 강아지</a>,\n",
       " <a aria-label=\"전등 보고 겁먹어서 소파밑에 숨는 강아지.. 게시자: 맹수꽁이 BeastGGong 1년 전 2분 31초 조회수 47,109회\" class=\"yt-simple-endpoint style-scope ytd-grid-video-renderer\" href=\"/watch?v=fsr44BZ2gSQ\" id=\"video-title\" title=\"전등 보고 겁먹어서 소파밑에 숨는 강아지..\">전등 보고 겁먹어서 소파밑에 숨는 강아지..</a>,\n",
       " <a aria-label=\"보일러틀고 쓰다듬어줬을때 귀여운 강아지 반응 ㅋㅋ 게시자: 맹수꽁이 BeastGGong 1년 전 2분 조회수 47,981회\" class=\"yt-simple-endpoint style-scope ytd-grid-video-renderer\" href=\"/watch?v=luULIhv9pFw\" id=\"video-title\" title=\"보일러틀고 쓰다듬어줬을때 귀여운 강아지 반응 ㅋㅋ\">보일러틀고 쓰다듬어줬을때 귀여운 강아지 반응 ㅋㅋ</a>,\n",
       " <a aria-label=\"메추리알에 중독된 강아지 (먹방/ASMR?) 게시자: 맹수꽁이 BeastGGong 1년 전 2분 4초 조회수 215,869회\" class=\"yt-simple-endpoint style-scope ytd-grid-video-renderer\" href=\"/watch?v=KXumegBG7og\" id=\"video-title\" title=\"메추리알에 중독된 강아지 (먹방/ASMR?)\">메추리알에 중독된 강아지 (먹방/ASMR?)</a>,\n",
       " <a aria-label=\"자기가 이쁜 줄 아는 강아지 게시자: 맹수꽁이 BeastGGong 1년 전 2분 3초 조회수 31,537회\" class=\"yt-simple-endpoint style-scope ytd-grid-video-renderer\" href=\"/watch?v=gMQiUW1nSGQ\" id=\"video-title\" title=\"자기가 이쁜 줄 아는 강아지\">자기가 이쁜 줄 아는 강아지</a>,\n",
       " <a aria-label=\"강아지로봇 처음보고 잔뜩 겁먹은 강아지ㅠ 게시자: 맹수꽁이 BeastGGong 1년 전 2분 48초 조회수 33,020회\" class=\"yt-simple-endpoint style-scope ytd-grid-video-renderer\" href=\"/watch?v=jX-kpnm67MY\" id=\"video-title\" title=\"강아지로봇 처음보고 잔뜩 겁먹은 강아지ㅠ\">강아지로봇 처음보고 잔뜩 겁먹은 강아지ㅠ</a>,\n",
       " <a aria-label=\"탁구공을 입에서  안빼는 강아지ㅋㅋ 게시자: 맹수꽁이 BeastGGong 1년 전 3분 49초 조회수 23,805회\" class=\"yt-simple-endpoint style-scope ytd-grid-video-renderer\" href=\"/watch?v=eIdAeJFni8s\" id=\"video-title\" title=\"탁구공을 입에서  안빼는 강아지ㅋㅋ\">탁구공을 입에서  안빼는 강아지ㅋㅋ</a>,\n",
       " <a aria-label=\"숨바꼭질 처음해보고 신난 강아지ㅎㅎ 게시자: 맹수꽁이 BeastGGong 1년 전 3분 10초 조회수 31,145회\" class=\"yt-simple-endpoint style-scope ytd-grid-video-renderer\" href=\"/watch?v=IoH1T0t3GOo\" id=\"video-title\" title=\"숨바꼭질 처음해보고 신난 강아지ㅎㅎ\">숨바꼭질 처음해보고 신난 강아지ㅎㅎ</a>,\n",
       " <a aria-label=\"주인이 갑자기 숨었을때 놀라서 찾는 강아지 게시자: 맹수꽁이 BeastGGong 1년 전 2분 56초 조회수 83,855회\" class=\"yt-simple-endpoint style-scope ytd-grid-video-renderer\" href=\"/watch?v=8de8OnKE6po\" id=\"video-title\" title=\"주인이 갑자기 숨었을때 놀라서 찾는 강아지\">주인이 갑자기 숨었을때 놀라서 찾는 강아지</a>,\n",
       " <a aria-label=\"너무 귀여운 아기 강아지 게시자: 맹수꽁이 BeastGGong 1년 전 2분 54초 조회수 93,093회\" class=\"yt-simple-endpoint style-scope ytd-grid-video-renderer\" href=\"/watch?v=h0z6FdZFu2U\" id=\"video-title\" title=\"너무 귀여운 아기 강아지\">너무 귀여운 아기 강아지</a>,\n",
       " <a aria-label=\"가을타면서 우울해하는 강아지 게시자: 맹수꽁이 BeastGGong 1년 전 1분 59초 조회수 31,911회\" class=\"yt-simple-endpoint style-scope ytd-grid-video-renderer\" href=\"/watch?v=rUdEyq0puaI\" id=\"video-title\" title=\"가을타면서 우울해하는 강아지\">가을타면서 우울해하는 강아지</a>,\n",
       " <a aria-label=\"인형 쫓는 모습이 귀여운 강아지 게시자: 맹수꽁이 BeastGGong 1년 전 1분 40초 조회수 23,738회\" class=\"yt-simple-endpoint style-scope ytd-grid-video-renderer\" href=\"/watch?v=Cp2auHOMyEk\" id=\"video-title\" title=\"인형 쫓는 모습이 귀여운 강아지\">인형 쫓는 모습이 귀여운 강아지</a>,\n",
       " <a aria-label=\"간식 숨기길래 계속 찾았더니 멘붕 온 강아지ㅎㅎ 게시자: 맹수꽁이 BeastGGong 1년 전 2분 50초 조회수 58,284회\" class=\"yt-simple-endpoint style-scope ytd-grid-video-renderer\" href=\"/watch?v=dvRT0HPCmnk\" id=\"video-title\" title=\"간식 숨기길래 계속 찾았더니 멘붕 온 강아지ㅎㅎ\">간식 숨기길래 계속 찾았더니 멘붕 온 강아지ㅎㅎ</a>,\n",
       " <a aria-label=\"신나서 웃고다니는 강아지 게시자: 맹수꽁이 BeastGGong 1년 전 3분 46초 조회수 40,167회\" class=\"yt-simple-endpoint style-scope ytd-grid-video-renderer\" href=\"/watch?v=hFnsJmB4Y24\" id=\"video-title\" title=\"신나서 웃고다니는 강아지\">신나서 웃고다니는 강아지</a>,\n",
       " <a aria-label=\"밖에서 갑자기 아빠를 만났을때 너무 귀여운 강아지 반응 ㅎㅎ 게시자: 맹수꽁이 BeastGGong 1년 전 2분 1초 조회수 2,298,771회\" class=\"yt-simple-endpoint style-scope ytd-grid-video-renderer\" href=\"/watch?v=AKfhx2Rmh0M\" id=\"video-title\" title=\"밖에서 갑자기 아빠를 만났을때 너무 귀여운 강아지 반응 ㅎㅎ\">밖에서 갑자기 아빠를 만났을때 너무 귀여운 강아지 반응 ㅎㅎ</a>,\n",
       " <a aria-label=\"사람처럼 티비보는 강아지 게시자: 맹수꽁이 BeastGGong 1년 전 2분 11초 조회수 46,979회\" class=\"yt-simple-endpoint style-scope ytd-grid-video-renderer\" href=\"/watch?v=ItK_gsXzIbw\" id=\"video-title\" title=\"사람처럼 티비보는 강아지\">사람처럼 티비보는 강아지</a>,\n",
       " <a aria-label=\"수면수술받고 자기가 왜 아픈지 모르는 강아지 게시자: 맹수꽁이 BeastGGong 1년 전 3분 59초 조회수 465,886회\" class=\"yt-simple-endpoint style-scope ytd-grid-video-renderer\" href=\"/watch?v=_hxEJFaiuXw\" id=\"video-title\" title=\"수면수술받고 자기가 왜 아픈지 모르는 강아지\">수면수술받고 자기가 왜 아픈지 모르는 강아지</a>,\n",
       " <a aria-label=\"커튼 흔들리는게 무서워서 하소연하는 강아지 게시자: 맹수꽁이 BeastGGong 1년 전 2분 10초 조회수 245,690회\" class=\"yt-simple-endpoint style-scope ytd-grid-video-renderer\" href=\"/watch?v=WjlAMvFxvuQ\" id=\"video-title\" title=\"커튼 흔들리는게 무서워서 하소연하는 강아지\">커튼 흔들리는게 무서워서 하소연하는 강아지</a>,\n",
       " <a aria-label=\"아빠만보면 꼬리를 멈출수없는 강아지 게시자: 맹수꽁이 BeastGGong 1년 전 1분 20초 조회수 57,752회\" class=\"yt-simple-endpoint style-scope ytd-grid-video-renderer\" href=\"/watch?v=kkPFWfapk0o\" id=\"video-title\" title=\"아빠만보면 꼬리를 멈출수없는 강아지\">아빠만보면 꼬리를 멈출수없는 강아지</a>,\n",
       " <a aria-label=\"산책하면서 잘 따라오나 체크하는 귀여운 강아지 ㅋㅋ 게시자: 맹수꽁이 BeastGGong 1년 전 3분 52초 조회수 32,296회\" class=\"yt-simple-endpoint style-scope ytd-grid-video-renderer\" href=\"/watch?v=abtdaP_VyHw\" id=\"video-title\" title=\"산책하면서 잘 따라오나 체크하는 귀여운 강아지 ㅋㅋ\">산책하면서 잘 따라오나 체크하는 귀여운 강아지 ㅋㅋ</a>,\n",
       " <a aria-label=\"강아지가 싫다던 아버지.. 지금은? 게시자: 맹수꽁이 BeastGGong 1년 전 1분 42초 조회수 483,435회\" class=\"yt-simple-endpoint style-scope ytd-grid-video-renderer\" href=\"/watch?v=okexbGd_5y0\" id=\"video-title\" title=\"강아지가 싫다던 아버지.. 지금은?\">강아지가 싫다던 아버지.. 지금은?</a>,\n",
       " <a aria-label=\"강아지에게 발바닥을 보여달라고 했을때 귀여운 반응 ㅋㅋ 게시자: 맹수꽁이 BeastGGong 1년 전 1분 33초 조회수 110,137회\" class=\"yt-simple-endpoint style-scope ytd-grid-video-renderer\" href=\"/watch?v=Nb8XLSic6AI\" id=\"video-title\" title=\"강아지에게 발바닥을 보여달라고 했을때 귀여운 반응 ㅋㅋ\">강아지에게 발바닥을 보여달라고 했을때 귀여운 반응 ㅋㅋ</a>,\n",
       " <a aria-label=\"산책하다 서로 만만한 아기 강아지끼리 만났을때 ㅎㅎ 게시자: 맹수꽁이 BeastGGong 1년 전 2분 35초 조회수 13,738회\" class=\"yt-simple-endpoint style-scope ytd-grid-video-renderer\" href=\"/watch?v=ftxiajL8xqg\" id=\"video-title\" title=\"산책하다 서로 만만한 아기 강아지끼리 만났을때 ㅎㅎ\">산책하다 서로 만만한 아기 강아지끼리 만났을때 ㅎㅎ</a>,\n",
       " <a aria-label=\"처음하는 밤산책이 너무 신나는 뽀시래기 강아지 ㅋㅋ 게시자: 맹수꽁이 BeastGGong 1년 전 3분 57초 조회수 43,976회\" class=\"yt-simple-endpoint style-scope ytd-grid-video-renderer\" href=\"/watch?v=kyerlw0dV6k\" id=\"video-title\" title=\"처음하는 밤산책이 너무 신나는 뽀시래기 강아지 ㅋㅋ\">처음하는 밤산책이 너무 신나는 뽀시래기 강아지 ㅋㅋ</a>,\n",
       " <a aria-label=\"강아지 앞에서 치킨먹었을때 불쌍한 모습 게시자: 맹수꽁이 BeastGGong 1년 전 1분 40초 조회수 30,838회\" class=\"yt-simple-endpoint style-scope ytd-grid-video-renderer\" href=\"/watch?v=SlZDsjewwLo\" id=\"video-title\" title=\"강아지 앞에서 치킨먹었을때 불쌍한 모습\">강아지 앞에서 치킨먹었을때 불쌍한 모습</a>,\n",
       " <a aria-label=\"목욕하면서 폭풍칭찬 해줬을때 강아지의 귀여운 반응 ㅋㅋ 게시자: 맹수꽁이 BeastGGong 1년 전 3분 3초 조회수 55,730회\" class=\"yt-simple-endpoint style-scope ytd-grid-video-renderer\" href=\"/watch?v=gpbTMX-Oe50\" id=\"video-title\" title=\"목욕하면서 폭풍칭찬 해줬을때 강아지의 귀여운 반응 ㅋㅋ\">목욕하면서 폭풍칭찬 해줬을때 강아지의 귀여운 반응 ㅋㅋ</a>,\n",
       " <a aria-label=\"얼음을 처음 먹고 맛들린 강아지의 반응ㅋㅋ 게시자: 맹수꽁이 BeastGGong 1년 전 1분 49초 조회수 18,369회\" class=\"yt-simple-endpoint style-scope ytd-grid-video-renderer\" href=\"/watch?v=pD9TKblHIlg\" id=\"video-title\" title=\"얼음을 처음 먹고 맛들린 강아지의 반응ㅋㅋ\">얼음을 처음 먹고 맛들린 강아지의 반응ㅋㅋ</a>,\n",
       " <a aria-label=\"다른 강아지들이 안놀아줄때 불쌍한 반응ㅠㅠ 게시자: 맹수꽁이 BeastGGong 1년 전 3분 28초 조회수 22,633회\" class=\"yt-simple-endpoint style-scope ytd-grid-video-renderer\" href=\"/watch?v=TXueYc-meMI\" id=\"video-title\" title=\"다른 강아지들이 안놀아줄때 불쌍한 반응ㅠㅠ\">다른 강아지들이 안놀아줄때 불쌍한 반응ㅠㅠ</a>,\n",
       " <a aria-label=\"오줌은 하나, 강아지는 둘.. 범인은 누구? 게시자: 맹수꽁이 BeastGGong 1년 전 3분 40초 조회수 34,144회\" class=\"yt-simple-endpoint style-scope ytd-grid-video-renderer\" href=\"/watch?v=qsXoIfjm-rk\" id=\"video-title\" title=\"오줌은 하나, 강아지는 둘.. 범인은 누구?\">오줌은 하나, 강아지는 둘.. 범인은 누구?</a>,\n",
       " <a aria-label=\"집 전체에 매트 깔아줬더니 감동받은 강아지ㅠㅠ 게시자: 맹수꽁이 BeastGGong 1년 전 2분 17초 조회수 559,661회\" class=\"yt-simple-endpoint style-scope ytd-grid-video-renderer\" href=\"/watch?v=Py4jOTP2fOo\" id=\"video-title\" title=\"집 전체에 매트 깔아줬더니 감동받은 강아지ㅠㅠ\">집 전체에 매트 깔아줬더니 감동받은 강아지ㅠㅠ</a>,\n",
       " <a aria-label=\"전생에 토끼였던 강아지 ㅋㅋ 게시자: 맹수꽁이 BeastGGong 1년 전 2분 1초 조회수 40,944회\" class=\"yt-simple-endpoint style-scope ytd-grid-video-renderer\" href=\"/watch?v=om02y6tZqzQ\" id=\"video-title\" title=\"전생에 토끼였던 강아지 ㅋㅋ\">전생에 토끼였던 강아지 ㅋㅋ</a>,\n",
       " <a aria-label=\"나랑 조금만 놀자 게시자: 맹수꽁이 BeastGGong 1년 전 1분 40초 조회수 31,549회\" class=\"yt-simple-endpoint style-scope ytd-grid-video-renderer\" href=\"/watch?v=sq56GOKaYEU\" id=\"video-title\" title=\"나랑 조금만 놀자\">나랑 조금만 놀자</a>,\n",
       " <a aria-label=\"말티즈 입양 3개월간 강아지 변화ㅋㅋ 게시자: 맹수꽁이 BeastGGong 1년 전 2분 22초 조회수 39,902회\" class=\"yt-simple-endpoint style-scope ytd-grid-video-renderer\" href=\"/watch?v=Xu-LLueUNz0\" id=\"video-title\" title=\"말티즈 입양 3개월간 강아지 변화ㅋㅋ\">말티즈 입양 3개월간 강아지 변화ㅋㅋ</a>,\n",
       " <a aria-label=\"강아지 입양 첫날부터 한달간 적응기 게시자: 맹수꽁이 BeastGGong 1년 전 2분 40초 조회수 100,011회\" class=\"yt-simple-endpoint style-scope ytd-grid-video-renderer\" href=\"/watch?v=rDsn7tXO640\" id=\"video-title\" title=\"강아지 입양 첫날부터 한달간 적응기\">강아지 입양 첫날부터 한달간 적응기</a>,\n",
       " <a aria-label=\"매일 아침 애교부리는 귀여운 강아지ㅎㅎ 게시자: 맹수꽁이 BeastGGong 1년 전 1분 29초 조회수 46,722회\" class=\"yt-simple-endpoint style-scope ytd-grid-video-renderer\" href=\"/watch?v=OKL_DX6Mt00\" id=\"video-title\" title=\"매일 아침 애교부리는 귀여운 강아지ㅎㅎ\">매일 아침 애교부리는 귀여운 강아지ㅎㅎ</a>,\n",
       " <a aria-label=\"간식 주면 춤 추는 강아지ㅎㅎ 게시자: 맹수꽁이 BeastGGong 1년 전 1분 51초 조회수 50,496회\" class=\"yt-simple-endpoint style-scope ytd-grid-video-renderer\" href=\"/watch?v=aYhpTYMK50c\" id=\"video-title\" title=\"간식 주면 춤 추는 강아지ㅎㅎ\">간식 주면 춤 추는 강아지ㅎㅎ</a>,\n",
       " <a aria-label=\"강아지 첫미용하고 집에와서 귀여운 반응ㅎㅎ 게시자: 맹수꽁이 BeastGGong 1년 전 2분 4초 조회수 64,575회\" class=\"yt-simple-endpoint style-scope ytd-grid-video-renderer\" href=\"/watch?v=PgZi0sNu0DI\" id=\"video-title\" title=\"강아지 첫미용하고 집에와서 귀여운 반응ㅎㅎ\">강아지 첫미용하고 집에와서 귀여운 반응ㅎㅎ</a>,\n",
       " <a aria-label=\"5분 나갔다왔을때 강아지의 격한 반응 ㅎㅎ 게시자: 맹수꽁이 BeastGGong 1년 전 2분 24초 조회수 3,395,855회\" class=\"yt-simple-endpoint style-scope ytd-grid-video-renderer\" href=\"/watch?v=Dhl8qfM2mXs\" id=\"video-title\" title=\"5분 나갔다왔을때 강아지의 격한 반응 ㅎㅎ\">5분 나갔다왔을때 강아지의 격한 반응 ㅎㅎ</a>,\n",
       " <a aria-label=\"생각에 잠긴 귀여운 강아지 게시자: 맹수꽁이 BeastGGong 1년 전 2분 6초 조회수 28,752회\" class=\"yt-simple-endpoint style-scope ytd-grid-video-renderer\" href=\"/watch?v=rEEevtS42eI\" id=\"video-title\" title=\"생각에 잠긴 귀여운 강아지\">생각에 잠긴 귀여운 강아지</a>,\n",
       " <a aria-label=\"아기 강아지가 아빠를 깨우는 귀여운 방법 게시자: 맹수꽁이 BeastGGong 1년 전 1분 7초 조회수 231,904회\" class=\"yt-simple-endpoint style-scope ytd-grid-video-renderer\" href=\"/watch?v=PJCczAXw9Mg\" id=\"video-title\" title=\"아기 강아지가 아빠를 깨우는 귀여운 방법\">아기 강아지가 아빠를 깨우는 귀여운 방법</a>,\n",
       " <a aria-label=\"안보는 척을 하지 말던지.. 게시자: 맹수꽁이 BeastGGong 1년 전 1분 26초 조회수 42,824회\" class=\"yt-simple-endpoint style-scope ytd-grid-video-renderer\" href=\"/watch?v=He3OUY9bX-s\" id=\"video-title\" title=\"안보는 척을 하지 말던지..\">안보는 척을 하지 말던지..</a>,\n",
       " <a aria-label=\"놀다가 갑자기 잠드는 귀여운 아기 강아지 ㅎㅎ 게시자: 맹수꽁이 BeastGGong 1년 전 1분 11초 조회수 104,796회\" class=\"yt-simple-endpoint style-scope ytd-grid-video-renderer\" href=\"/watch?v=JplUZePzNw4\" id=\"video-title\" title=\"놀다가 갑자기 잠드는 귀여운 아기 강아지 ㅎㅎ\">놀다가 갑자기 잠드는 귀여운 아기 강아지 ㅎㅎ</a>,\n",
       " <a aria-label=\"강아지 입양 첫날밤 집에서 하는 귀여운 행동ㅋㅋ 게시자: 맹수꽁이 BeastGGong 1년 전 3분 6초 조회수 1,509,426회\" class=\"yt-simple-endpoint style-scope ytd-grid-video-renderer\" href=\"/watch?v=2ZG1Xy0Bj3k\" id=\"video-title\" title=\"강아지 입양 첫날밤 집에서 하는 귀여운 행동ㅋㅋ\">강아지 입양 첫날밤 집에서 하는 귀여운 행동ㅋㅋ</a>,\n",
       " <a aria-label=\"썸네일의 그 영상 게시자: 맹수꽁이 BeastGGong 1년 전 6초 조회수 82,330회\" class=\"yt-simple-endpoint style-scope ytd-grid-video-renderer\" href=\"/watch?v=urPyw_Q8HWI\" id=\"video-title\" title=\"썸네일의 그 영상\">썸네일의 그 영상</a>,\n",
       " <a aria-label=\"제일 좋아하는 인형 게시자: 맹수꽁이 BeastGGong 1년 전 46초 조회수 17,242회\" class=\"yt-simple-endpoint style-scope ytd-grid-video-renderer\" href=\"/watch?v=dqJa4YQqH18\" id=\"video-title\" title=\"제일 좋아하는 인형\">제일 좋아하는 인형</a>,\n",
       " <a aria-label=\"친동생을 처음 만난 강아지의 예상못한  반응ㅋㅋ 게시자: 맹수꽁이 BeastGGong 1년 전 3분 42초 조회수 527,785회\" class=\"yt-simple-endpoint style-scope ytd-grid-video-renderer\" href=\"/watch?v=yDPuLH1ZLBA\" id=\"video-title\" title=\"친동생을 처음 만난 강아지의 예상못한  반응ㅋㅋ\">친동생을 처음 만난 강아지의 예상못한  반응ㅋㅋ</a>,\n",
       " <a aria-label=\"아기강아지가 손 물면 너무 기분 좋아요 게시자: 맹수꽁이 BeastGGong 1년 전 41초 조회수 29,521회\" class=\"yt-simple-endpoint style-scope ytd-grid-video-renderer\" href=\"/watch?v=kV4gdSR5P94\" id=\"video-title\" title=\"아기강아지가 손 물면 너무 기분 좋아요\">아기강아지가 손 물면 너무 기분 좋아요</a>,\n",
       " <a aria-label=\"아기강아지 자는 모습 너무 귀여워요 게시자: 맹수꽁이 BeastGGong 1년 전 59초 조회수 32,323회\" class=\"yt-simple-endpoint style-scope ytd-grid-video-renderer\" href=\"/watch?v=dgir_c5eIYU\" id=\"video-title\" title=\"아기강아지 자는 모습 너무 귀여워요\">아기강아지 자는 모습 너무 귀여워요</a>,\n",
       " <a aria-label=\"악몽꾸는 강아지 게시자: 맹수꽁이 BeastGGong 1년 전 51초 조회수 24,310회\" class=\"yt-simple-endpoint style-scope ytd-grid-video-renderer\" href=\"/watch?v=6F0ulTC29RE\" id=\"video-title\" title=\"악몽꾸는 강아지\">악몽꾸는 강아지</a>,\n",
       " <a aria-label=\"간식을 뺏겼을 때 강아지의 귀여운 반응 게시자: 맹수꽁이 BeastGGong 1년 전 2분 38초 조회수 92,707회\" class=\"yt-simple-endpoint style-scope ytd-grid-video-renderer\" href=\"/watch?v=RAi7iVd6-UA\" id=\"video-title\" title=\"간식을 뺏겼을 때 강아지의 귀여운 반응\">간식을 뺏겼을 때 강아지의 귀여운 반응</a>,\n",
       " <a aria-label=\"세차하는데 무서워서 낑낑하는 강아지 게시자: 맹수꽁이 BeastGGong 1년 전 38초 조회수 44,760회\" class=\"yt-simple-endpoint style-scope ytd-grid-video-renderer\" href=\"/watch?v=Fbm5G_0B_Ng\" id=\"video-title\" title=\"세차하는데 무서워서 낑낑하는 강아지\">세차하는데 무서워서 낑낑하는 강아지</a>,\n",
       " <a aria-label=\"아기강아지를 가까이서 찍어봤어요 게시자: 맹수꽁이 BeastGGong 1년 전 1분 43초 조회수 66,583회\" class=\"yt-simple-endpoint style-scope ytd-grid-video-renderer\" href=\"/watch?v=xGaVbZIZk8w\" id=\"video-title\" title=\"아기강아지를 가까이서 찍어봤어요\">아기강아지를 가까이서 찍어봤어요</a>,\n",
       " <a aria-label=\"졸린데 놀고싶은 귀여운 강아지ㅎㅎ 게시자: 맹수꽁이 BeastGGong 1년 전 1분 37초 조회수 118,698회\" class=\"yt-simple-endpoint style-scope ytd-grid-video-renderer\" href=\"/watch?v=BSNMwOoYBro\" id=\"video-title\" title=\"졸린데 놀고싶은 귀여운 강아지ㅎㅎ\">졸린데 놀고싶은 귀여운 강아지ㅎㅎ</a>,\n",
       " <a aria-label=\"강아지 입양 첫날 집에와서 하는 귀여운 행동ㅋㅋ 게시자: 맹수꽁이 BeastGGong 1년 전 2분 44초 조회수 8,993,199회\" class=\"yt-simple-endpoint style-scope ytd-grid-video-renderer\" href=\"/watch?v=wSFqedbv4qk\" id=\"video-title\" title=\"강아지 입양 첫날 집에와서 하는 귀여운 행동ㅋㅋ\">강아지 입양 첫날 집에와서 하는 귀여운 행동ㅋㅋ</a>]"
      ]
     },
     "execution_count": 154,
     "metadata": {},
     "output_type": "execute_result"
    }
   ],
   "source": [
    "title"
   ]
  },
  {
   "cell_type": "code",
   "execution_count": 155,
   "metadata": {},
   "outputs": [
    {
     "name": "stdout",
     "output_type": "stream",
     "text": [
      "강아지 앞에서 닮은 인형을 이뻐해줬을때 반응\n",
      "죽은 척 하는 주인을 본 강아지의 귀여운 반응\n",
      "간식 앞에서 기다려 시켰을때 귀여운 강아지 반응\n",
      "말티즈가 아기를 만났을때 생기는 일\n",
      "자는 강아지한테 산책가자고 했을때 귀여운 반응\n",
      "처음 눈을 본 강아지의 귀여운 반응!\n",
      "애교쟁이 강아지를 회사에 데려가면 생기는 일\n",
      "몸만한 페트병에 간식 넣어줬을때 똑똑한 강아지 반응!\n",
      "아빠랑 영상통화하니까 난리난 강아지\n",
      "강아지 키우는 이유\n",
      "보일러로 만든 따끈한 조랭이꽁떡\n",
      "간식 한개만 더 달라고 찡찡하는 강아지\n",
      "강아지 키우면 집에서 일 못하는 이유\n",
      "의심병 걸린 강아지\n",
      "나 안졸리든므르으..\n",
      "주인 있으면 대형견한테도 쎈척하는 강아지\n",
      "외출하는 주인에게 자기도 데려가라는 강아지\n",
      "강아지에게 짐볼을 가르쳤더니.. 상태가..?\n",
      "아빠.. 나 왜이러지..?\n",
      "강아지 마사지 해줬을 때 귀여운 반응~\n",
      "간식 없으면 주인 취급 안하는 강아지\n",
      "사자탈쓰면 난폭해지는 강아지\n",
      "꽁이 안잔다\n",
      "분리수거하고 왔는데 격하게 반겨주는 강아지\n",
      "목욕.. 꼭 해야만 했냐..\n",
      "여긴 천국이야!\n",
      "아기강아지 처음 혼냈는데 너무 귀엽고 불쌍한 반응 ㅠ\n",
      "부모님이 강아지를 절대 싫어할 수 없는 이유\n",
      "심심해하는 강아지 공원데리고 갔을때 신난 반응 ㅎㅎ\n",
      "진짜 물 수 있어!\n",
      "손만 대면 발라당 뒤집는 귀여운 강아지 ㅎㅎ\n",
      "더 싫어졌어\n",
      "움직이는 생쥐로봇을 본 강아지의 귀여운 반응!\n",
      "털 속에 엄청난 미모가 숨어있던 강아지\n",
      "혼냈더니 삐져서 주인 무시하는 강아지\n",
      "강아지가 진짜 행복할때 나오는 표정\n",
      "이 강아지가 뭘 원하는건지 아시는분?\n",
      "천둥번개에 놀라서 손 잡아달라는 강아지\n",
      "조금 더 자려는데 강아지가 와서 하는말\n",
      "강아지가 집보다 좋아하는 곳\n",
      "엄마가 보고싶은 강아지의 선택\n",
      "우리집 강아지의 이상한 개인기\n",
      "세상에서 제일 예쁜 말티즈 보고갈래?\n",
      "심각하게 삐진 강아지\n",
      "이 강아지에게 간식으로 장난치지 마세요\n",
      "집에 혼자있는 강아지를 몰래봤다가 슬퍼졌어요..\n",
      "폭우 속으로 뛰어든 강아지의 최후\n",
      "강아지 번역기쓰는데 목소리 작아서 번역이 안돼요 ㅠ\n",
      "목욕시키면 화내는 강아지ㅋㅋ\n",
      "아니 왜 자는 사람 손을 몰래 핥고 그래?\n",
      "매일 아침 격하게 반겨주는 귀여운 강아지!\n",
      "산책 가고 싶은 강아지의 귀여운 행동 ㅎㅎ\n",
      "알 수 없는 강아지의 세계\n",
      "이뻐해주면 눈빛 아련해지는 강아지\n",
      "주인이 쓰러지자마자 달려간 강아지가 저지른 일\n",
      "작고 배부른 강아지를 만져줬을때 귀여운 반응 ㅎㅎ\n",
      "단 10분만 나갔다와도 불쌍해지는 강아지 ㅠ\n",
      "푹 자느라 주인 온줄도 모르는 강아지\n",
      "1살 강아지는 6개월만에 만난 사람을 기억할까?\n",
      "집안 곳곳에 숨겨둔 간식을 귀신같이 찾는 강아지\n",
      "[고화질] 처음 집이 생긴 강아지의 예상못한 반응 ㅎㅎ\n",
      "하루종일 자길래 깨웠더니 퉁퉁부은 강아지 ㅎㅎ\n",
      "산책을 싫어하는 강아지\n",
      "아기를 처음 본 강아지의 신기한 반응!\n",
      "강아지와 떠나는 여행\n",
      "간식이 너무 먹고 싶은 강아지\n",
      "물통을 도시락으로 쓰는 강아지\n",
      "만져달라고 애교부리는 강아지\n",
      "소파에서 잠들었을때 귀여운 강아지 반응 ㅎㅎ\n",
      "[고화질]태어나서 거울을 처음 본 강아지의 귀여운 반응!\n",
      "간식 숨기는 강아지 계속 따라다녔을때 귀여운 반응 ㅋㅋ\n",
      "휴지벽을 본 강아지의 예상못한 반응 (Toilet Paper Wall Challenge)\n",
      "뽀시래기 시절 썰 푸는 강아지\n",
      "강아지가 실망한 이유\n",
      "자는 강아지 깨웠을때 귀여운 반응 ㅎㅎ\n",
      "간식 줄것처럼 하고 안줬더니  삐진 강아지\n",
      "놀고싶어서 안달난 강아지\n",
      "강아지를 촬영장에 데려갔을때 생긴일\n",
      "처음보는 장난감 봤을때 강아지의 귀여운 반응 ㅎㅎ\n",
      "강아지를 회사에 데려갔을때 귀여운 반응 ㅋㅋ\n",
      "미용한 강아지를 만졌을때 귀여운 반응ㅎㅎ\n",
      "햇볕에 취한 귀여운 강아지\n",
      "눈치가 엄청 빠른 강아지\n",
      "억지로 목욕시켰더니 화난 강아지\n",
      "간식이 먹고 싶은 강아지의 귀여운 반응 ㅋㅋ\n",
      "곰돌이 모자씌웠더니 고장난 강아지\n",
      "간식 눈 앞에 두고 못먹게 했을 때 귀여운 강아지 반응 ㅎㅎ\n",
      "목걸이 해줬더니 엄청 귀여워진 강아지\n",
      "귀여운 강아지를 만진다는 것\n",
      "귀여운 표정으로 배를 긁어달라고 부탁하는 강아지\n",
      "[LIVE]꽁몽 남매 생일파티♡\n",
      "아침에 눈뜨자마자 애교부리는 귀여운 강아지\n",
      "하루만에 주인 만난 강아지의 서러운 반응 ㅠㅠ\n",
      "안놀아줬더니 삐진 강아지\n",
      "물병 속 간식을 본 강아지의 천재적인 반응\n",
      "귀엽게 미용시켰더니 화난 강아지\n",
      "병원에서 진료받다가 현타온 강아지\n",
      "얼굴 빗다가 수염뽑혀서 억울한 강아지\n",
      "평소보다 늦게왔을때 강아지의 서러운 반응 ㅠ\n",
      "잠자는 모습을 계속 쳐다봤을때 귀여운 강아지의 반응\n",
      "자고싶어서 연기하는 강아지\n",
      "집에가기 싫어서 아빠를 무는 강아지\n",
      "산책하다 엄마가 숨었는데 집에가버리는 강아지\n",
      "자는동안 가족들이 사라져서 슬퍼하는 강아지\n",
      "꼬리가 이런 강아지 진짜 처음 봐요\n",
      "애착인형을 버렸을때 강아지의 예상못한 반응 ㅋㅋ\n",
      "원하는걸 당당히 표현하는 강아지\n",
      "전등 보고 겁먹어서 소파밑에 숨는 강아지..\n",
      "보일러틀고 쓰다듬어줬을때 귀여운 강아지 반응 ㅋㅋ\n",
      "메추리알에 중독된 강아지 (먹방/ASMR?)\n",
      "자기가 이쁜 줄 아는 강아지\n",
      "강아지로봇 처음보고 잔뜩 겁먹은 강아지ㅠ\n",
      "탁구공을 입에서  안빼는 강아지ㅋㅋ\n",
      "숨바꼭질 처음해보고 신난 강아지ㅎㅎ\n",
      "주인이 갑자기 숨었을때 놀라서 찾는 강아지\n",
      "너무 귀여운 아기 강아지\n",
      "가을타면서 우울해하는 강아지\n",
      "인형 쫓는 모습이 귀여운 강아지\n",
      "간식 숨기길래 계속 찾았더니 멘붕 온 강아지ㅎㅎ\n",
      "신나서 웃고다니는 강아지\n",
      "밖에서 갑자기 아빠를 만났을때 너무 귀여운 강아지 반응 ㅎㅎ\n",
      "사람처럼 티비보는 강아지\n",
      "수면수술받고 자기가 왜 아픈지 모르는 강아지\n",
      "커튼 흔들리는게 무서워서 하소연하는 강아지\n",
      "아빠만보면 꼬리를 멈출수없는 강아지\n",
      "산책하면서 잘 따라오나 체크하는 귀여운 강아지 ㅋㅋ\n",
      "강아지가 싫다던 아버지.. 지금은?\n",
      "강아지에게 발바닥을 보여달라고 했을때 귀여운 반응 ㅋㅋ\n",
      "산책하다 서로 만만한 아기 강아지끼리 만났을때 ㅎㅎ\n",
      "처음하는 밤산책이 너무 신나는 뽀시래기 강아지 ㅋㅋ\n",
      "강아지 앞에서 치킨먹었을때 불쌍한 모습\n",
      "목욕하면서 폭풍칭찬 해줬을때 강아지의 귀여운 반응 ㅋㅋ\n",
      "얼음을 처음 먹고 맛들린 강아지의 반응ㅋㅋ\n",
      "다른 강아지들이 안놀아줄때 불쌍한 반응ㅠㅠ\n",
      "오줌은 하나, 강아지는 둘.. 범인은 누구?\n",
      "집 전체에 매트 깔아줬더니 감동받은 강아지ㅠㅠ\n",
      "전생에 토끼였던 강아지 ㅋㅋ\n",
      "나랑 조금만 놀자\n",
      "말티즈 입양 3개월간 강아지 변화ㅋㅋ\n",
      "강아지 입양 첫날부터 한달간 적응기\n",
      "매일 아침 애교부리는 귀여운 강아지ㅎㅎ\n",
      "간식 주면 춤 추는 강아지ㅎㅎ\n",
      "강아지 첫미용하고 집에와서 귀여운 반응ㅎㅎ\n",
      "5분 나갔다왔을때 강아지의 격한 반응 ㅎㅎ\n",
      "생각에 잠긴 귀여운 강아지\n",
      "아기 강아지가 아빠를 깨우는 귀여운 방법\n",
      "안보는 척을 하지 말던지..\n",
      "놀다가 갑자기 잠드는 귀여운 아기 강아지 ㅎㅎ\n",
      "강아지 입양 첫날밤 집에서 하는 귀여운 행동ㅋㅋ\n",
      "썸네일의 그 영상\n",
      "제일 좋아하는 인형\n",
      "친동생을 처음 만난 강아지의 예상못한  반응ㅋㅋ\n",
      "아기강아지가 손 물면 너무 기분 좋아요\n",
      "아기강아지 자는 모습 너무 귀여워요\n",
      "악몽꾸는 강아지\n",
      "간식을 뺏겼을 때 강아지의 귀여운 반응\n",
      "세차하는데 무서워서 낑낑하는 강아지\n",
      "아기강아지를 가까이서 찍어봤어요\n",
      "졸린데 놀고싶은 귀여운 강아지ㅎㅎ\n",
      "강아지 입양 첫날 집에와서 하는 귀여운 행동ㅋㅋ\n"
     ]
    }
   ],
   "source": [
    "for i in title:\n",
    "    print(i.text)"
   ]
  },
  {
   "cell_type": "markdown",
   "metadata": {},
   "source": [
    "### 조회수"
   ]
  },
  {
   "cell_type": "code",
   "execution_count": 156,
   "metadata": {},
   "outputs": [],
   "source": [
    "view = soup.select('span.ytd-grid-video-renderer:first-child')"
   ]
  },
  {
   "cell_type": "code",
   "execution_count": 157,
   "metadata": {},
   "outputs": [
    {
     "data": {
      "text/plain": [
       "[<span class=\"style-scope ytd-grid-video-renderer\">조회수 12만회</span>,\n",
       " <span class=\"style-scope ytd-grid-video-renderer\">조회수 11만회</span>,\n",
       " <span class=\"style-scope ytd-grid-video-renderer\">조회수 19만회</span>,\n",
       " <span class=\"style-scope ytd-grid-video-renderer\">조회수 19만회</span>,\n",
       " <span class=\"style-scope ytd-grid-video-renderer\">조회수 56만회</span>,\n",
       " <span class=\"style-scope ytd-grid-video-renderer\">조회수 16만회</span>,\n",
       " <span class=\"style-scope ytd-grid-video-renderer\">조회수 65만회</span>,\n",
       " <span class=\"style-scope ytd-grid-video-renderer\">조회수 4.9만회</span>,\n",
       " <span class=\"style-scope ytd-grid-video-renderer\">조회수 89만회</span>,\n",
       " <span class=\"style-scope ytd-grid-video-renderer\">조회수 40만회</span>,\n",
       " <span class=\"style-scope ytd-grid-video-renderer\">조회수 19만회</span>,\n",
       " <span class=\"style-scope ytd-grid-video-renderer\">조회수 7.4만회</span>,\n",
       " <span class=\"style-scope ytd-grid-video-renderer\">조회수 10만회</span>,\n",
       " <span class=\"style-scope ytd-grid-video-renderer\">조회수 13만회</span>,\n",
       " <span class=\"style-scope ytd-grid-video-renderer\">조회수 9.2만회</span>,\n",
       " <span class=\"style-scope ytd-grid-video-renderer\">조회수 13만회</span>,\n",
       " <span class=\"style-scope ytd-grid-video-renderer\">조회수 27만회</span>,\n",
       " <span class=\"style-scope ytd-grid-video-renderer\">조회수 11만회</span>,\n",
       " <span class=\"style-scope ytd-grid-video-renderer\">조회수 13만회</span>,\n",
       " <span class=\"style-scope ytd-grid-video-renderer\">조회수 12만회</span>,\n",
       " <span class=\"style-scope ytd-grid-video-renderer\">조회수 8.5만회</span>,\n",
       " <span class=\"style-scope ytd-grid-video-renderer\">조회수 7.1만회</span>,\n",
       " <span class=\"style-scope ytd-grid-video-renderer\">조회수 22만회</span>,\n",
       " <span class=\"style-scope ytd-grid-video-renderer\">조회수 14만회</span>,\n",
       " <span class=\"style-scope ytd-grid-video-renderer\">조회수 6.8만회</span>,\n",
       " <span class=\"style-scope ytd-grid-video-renderer\">조회수 9.3만회</span>,\n",
       " <span class=\"style-scope ytd-grid-video-renderer\">조회수 77만회</span>,\n",
       " <span class=\"style-scope ytd-grid-video-renderer\">조회수 54만회</span>,\n",
       " <span class=\"style-scope ytd-grid-video-renderer\">조회수 5.9만회</span>,\n",
       " <span class=\"style-scope ytd-grid-video-renderer\">조회수 19만회</span>,\n",
       " <span class=\"style-scope ytd-grid-video-renderer\">조회수 4.7만회</span>,\n",
       " <span class=\"style-scope ytd-grid-video-renderer\">조회수 3.2만회</span>,\n",
       " <span class=\"style-scope ytd-grid-video-renderer\">조회수 7.9만회</span>,\n",
       " <span class=\"style-scope ytd-grid-video-renderer\">조회수 11만회</span>,\n",
       " <span class=\"style-scope ytd-grid-video-renderer\">조회수 11만회</span>,\n",
       " <span class=\"style-scope ytd-grid-video-renderer\">조회수 6.3만회</span>,\n",
       " <span class=\"style-scope ytd-grid-video-renderer\">조회수 4.9만회</span>,\n",
       " <span class=\"style-scope ytd-grid-video-renderer\">조회수 67만회</span>,\n",
       " <span class=\"style-scope ytd-grid-video-renderer\">조회수 12만회</span>,\n",
       " <span class=\"style-scope ytd-grid-video-renderer\">조회수 12만회</span>,\n",
       " <span class=\"style-scope ytd-grid-video-renderer\">조회수 7만회</span>,\n",
       " <span class=\"style-scope ytd-grid-video-renderer\">조회수 4.8만회</span>,\n",
       " <span class=\"style-scope ytd-grid-video-renderer\">조회수 7.4만회</span>,\n",
       " <span class=\"style-scope ytd-grid-video-renderer\">조회수 7.1만회</span>,\n",
       " <span class=\"style-scope ytd-grid-video-renderer\">조회수 5.2만회</span>,\n",
       " <span class=\"style-scope ytd-grid-video-renderer\">조회수 17만회</span>,\n",
       " <span class=\"style-scope ytd-grid-video-renderer\">조회수 7.2만회</span>,\n",
       " <span class=\"style-scope ytd-grid-video-renderer\">조회수 4.1만회</span>,\n",
       " <span class=\"style-scope ytd-grid-video-renderer\">조회수 4.6만회</span>,\n",
       " <span class=\"style-scope ytd-grid-video-renderer\">조회수 4.1만회</span>,\n",
       " <span class=\"style-scope ytd-grid-video-renderer\">조회수 3.6만회</span>,\n",
       " <span class=\"style-scope ytd-grid-video-renderer\">조회수 11만회</span>,\n",
       " <span class=\"style-scope ytd-grid-video-renderer\">조회수 6.6만회</span>,\n",
       " <span class=\"style-scope ytd-grid-video-renderer\">조회수 6.2만회</span>,\n",
       " <span class=\"style-scope ytd-grid-video-renderer\">조회수 19만회</span>,\n",
       " <span class=\"style-scope ytd-grid-video-renderer\">조회수 15만회</span>,\n",
       " <span class=\"style-scope ytd-grid-video-renderer\">조회수 11만회</span>,\n",
       " <span class=\"style-scope ytd-grid-video-renderer\">조회수 112만회</span>,\n",
       " <span class=\"style-scope ytd-grid-video-renderer\">조회수 14만회</span>,\n",
       " <span class=\"style-scope ytd-grid-video-renderer\">조회수 2.8만회</span>,\n",
       " <span class=\"style-scope ytd-grid-video-renderer\">조회수 22만회</span>,\n",
       " <span class=\"style-scope ytd-grid-video-renderer\">조회수 11만회</span>,\n",
       " <span class=\"style-scope ytd-grid-video-renderer\">조회수 5.2만회</span>,\n",
       " <span class=\"style-scope ytd-grid-video-renderer\">조회수 77만회</span>,\n",
       " <span class=\"style-scope ytd-grid-video-renderer\">조회수 5.3만회</span>,\n",
       " <span class=\"style-scope ytd-grid-video-renderer\">조회수 3.4만회</span>,\n",
       " <span class=\"style-scope ytd-grid-video-renderer\">조회수 4.9만회</span>,\n",
       " <span class=\"style-scope ytd-grid-video-renderer\">조회수 6.5만회</span>,\n",
       " <span class=\"style-scope ytd-grid-video-renderer\">조회수 116만회</span>,\n",
       " <span class=\"style-scope ytd-grid-video-renderer\">조회수 5.6만회</span>,\n",
       " <span class=\"style-scope ytd-grid-video-renderer\">조회수 5.9만회</span>,\n",
       " <span class=\"style-scope ytd-grid-video-renderer\">조회수 4만회</span>,\n",
       " <span class=\"style-scope ytd-grid-video-renderer\">조회수 5.6만회</span>,\n",
       " <span class=\"style-scope ytd-grid-video-renderer\">조회수 3.4만회</span>,\n",
       " <span class=\"style-scope ytd-grid-video-renderer\">조회수 7.6만회</span>,\n",
       " <span class=\"style-scope ytd-grid-video-renderer\">조회수 4.3만회</span>,\n",
       " <span class=\"style-scope ytd-grid-video-renderer\">조회수 2.2만회</span>,\n",
       " <span class=\"style-scope ytd-grid-video-renderer\">조회수 1.8만회</span>,\n",
       " <span class=\"style-scope ytd-grid-video-renderer\">조회수 3.8만회</span>,\n",
       " <span class=\"style-scope ytd-grid-video-renderer\">조회수 18만회</span>,\n",
       " <span class=\"style-scope ytd-grid-video-renderer\">조회수 5.8만회</span>,\n",
       " <span class=\"style-scope ytd-grid-video-renderer\">조회수 3만회</span>,\n",
       " <span class=\"style-scope ytd-grid-video-renderer\">조회수 6.8만회</span>,\n",
       " <span class=\"style-scope ytd-grid-video-renderer\">조회수 14만회</span>,\n",
       " <span class=\"style-scope ytd-grid-video-renderer\">조회수 7.3만회</span>,\n",
       " <span class=\"style-scope ytd-grid-video-renderer\">조회수 4.4만회</span>,\n",
       " <span class=\"style-scope ytd-grid-video-renderer\">조회수 3.1만회</span>,\n",
       " <span class=\"style-scope ytd-grid-video-renderer\">조회수 5.3만회</span>,\n",
       " <span class=\"style-scope ytd-grid-video-renderer\">조회수 13만회</span>,\n",
       " <span class=\"style-scope ytd-grid-video-renderer\">조회수 30만회</span>,\n",
       " <span class=\"style-scope ytd-grid-video-renderer\">조회수 1.4만회</span>,\n",
       " <span class=\"style-scope ytd-grid-video-renderer\">조회수 13만회</span>,\n",
       " <span class=\"style-scope ytd-grid-video-renderer\">조회수 196만회</span>,\n",
       " <span class=\"style-scope ytd-grid-video-renderer\">조회수 7.5만회</span>,\n",
       " <span class=\"style-scope ytd-grid-video-renderer\">조회수 3만회</span>,\n",
       " <span class=\"style-scope ytd-grid-video-renderer\">조회수 11만회</span>,\n",
       " <span class=\"style-scope ytd-grid-video-renderer\">조회수 9.4만회</span>,\n",
       " <span class=\"style-scope ytd-grid-video-renderer\">조회수 3.6만회</span>,\n",
       " <span class=\"style-scope ytd-grid-video-renderer\">조회수 75만회</span>,\n",
       " <span class=\"style-scope ytd-grid-video-renderer\">조회수 3.3만회</span>,\n",
       " <span class=\"style-scope ytd-grid-video-renderer\">조회수 5.6만회</span>,\n",
       " <span class=\"style-scope ytd-grid-video-renderer\">조회수 17만회</span>,\n",
       " <span class=\"style-scope ytd-grid-video-renderer\">조회수 5.9만회</span>,\n",
       " <span class=\"style-scope ytd-grid-video-renderer\">조회수 43만회</span>,\n",
       " <span class=\"style-scope ytd-grid-video-renderer\">조회수 5.3만회</span>,\n",
       " <span class=\"style-scope ytd-grid-video-renderer\">조회수 11만회</span>,\n",
       " <span class=\"style-scope ytd-grid-video-renderer\">조회수 2.8만회</span>,\n",
       " <span class=\"style-scope ytd-grid-video-renderer\">조회수 4.7만회</span>,\n",
       " <span class=\"style-scope ytd-grid-video-renderer\">조회수 4.7만회</span>,\n",
       " <span class=\"style-scope ytd-grid-video-renderer\">조회수 21만회</span>,\n",
       " <span class=\"style-scope ytd-grid-video-renderer\">조회수 3.1만회</span>,\n",
       " <span class=\"style-scope ytd-grid-video-renderer\">조회수 3.3만회</span>,\n",
       " <span class=\"style-scope ytd-grid-video-renderer\">조회수 2.3만회</span>,\n",
       " <span class=\"style-scope ytd-grid-video-renderer\">조회수 3.1만회</span>,\n",
       " <span class=\"style-scope ytd-grid-video-renderer\">조회수 8.3만회</span>,\n",
       " <span class=\"style-scope ytd-grid-video-renderer\">조회수 9.3만회</span>,\n",
       " <span class=\"style-scope ytd-grid-video-renderer\">조회수 3.1만회</span>,\n",
       " <span class=\"style-scope ytd-grid-video-renderer\">조회수 2.3만회</span>,\n",
       " <span class=\"style-scope ytd-grid-video-renderer\">조회수 5.8만회</span>,\n",
       " <span class=\"style-scope ytd-grid-video-renderer\">조회수 4만회</span>,\n",
       " <span class=\"style-scope ytd-grid-video-renderer\">조회수 229만회</span>,\n",
       " <span class=\"style-scope ytd-grid-video-renderer\">조회수 4.6만회</span>,\n",
       " <span class=\"style-scope ytd-grid-video-renderer\">조회수 46만회</span>,\n",
       " <span class=\"style-scope ytd-grid-video-renderer\">조회수 24만회</span>,\n",
       " <span class=\"style-scope ytd-grid-video-renderer\">조회수 5.7만회</span>,\n",
       " <span class=\"style-scope ytd-grid-video-renderer\">조회수 3.2만회</span>,\n",
       " <span class=\"style-scope ytd-grid-video-renderer\">조회수 48만회</span>,\n",
       " <span class=\"style-scope ytd-grid-video-renderer\">조회수 11만회</span>,\n",
       " <span class=\"style-scope ytd-grid-video-renderer\">조회수 1.3만회</span>,\n",
       " <span class=\"style-scope ytd-grid-video-renderer\">조회수 4.3만회</span>,\n",
       " <span class=\"style-scope ytd-grid-video-renderer\">조회수 3만회</span>,\n",
       " <span class=\"style-scope ytd-grid-video-renderer\">조회수 5.5만회</span>,\n",
       " <span class=\"style-scope ytd-grid-video-renderer\">조회수 1.8만회</span>,\n",
       " <span class=\"style-scope ytd-grid-video-renderer\">조회수 2.2만회</span>,\n",
       " <span class=\"style-scope ytd-grid-video-renderer\">조회수 3.4만회</span>,\n",
       " <span class=\"style-scope ytd-grid-video-renderer\">조회수 55만회</span>,\n",
       " <span class=\"style-scope ytd-grid-video-renderer\">조회수 4만회</span>,\n",
       " <span class=\"style-scope ytd-grid-video-renderer\">조회수 3.1만회</span>,\n",
       " <span class=\"style-scope ytd-grid-video-renderer\">조회수 3.9만회</span>,\n",
       " <span class=\"style-scope ytd-grid-video-renderer\">조회수 10만회</span>,\n",
       " <span class=\"style-scope ytd-grid-video-renderer\">조회수 4.6만회</span>,\n",
       " <span class=\"style-scope ytd-grid-video-renderer\">조회수 5만회</span>,\n",
       " <span class=\"style-scope ytd-grid-video-renderer\">조회수 6.4만회</span>,\n",
       " <span class=\"style-scope ytd-grid-video-renderer\">조회수 339만회</span>,\n",
       " <span class=\"style-scope ytd-grid-video-renderer\">조회수 2.8만회</span>,\n",
       " <span class=\"style-scope ytd-grid-video-renderer\">조회수 23만회</span>,\n",
       " <span class=\"style-scope ytd-grid-video-renderer\">조회수 4.2만회</span>,\n",
       " <span class=\"style-scope ytd-grid-video-renderer\">조회수 10만회</span>,\n",
       " <span class=\"style-scope ytd-grid-video-renderer\">조회수 150만회</span>,\n",
       " <span class=\"style-scope ytd-grid-video-renderer\">조회수 8.2만회</span>,\n",
       " <span class=\"style-scope ytd-grid-video-renderer\">조회수 1.7만회</span>,\n",
       " <span class=\"style-scope ytd-grid-video-renderer\">조회수 52만회</span>,\n",
       " <span class=\"style-scope ytd-grid-video-renderer\">조회수 2.9만회</span>,\n",
       " <span class=\"style-scope ytd-grid-video-renderer\">조회수 3.2만회</span>,\n",
       " <span class=\"style-scope ytd-grid-video-renderer\">조회수 2.4만회</span>,\n",
       " <span class=\"style-scope ytd-grid-video-renderer\">조회수 9.2만회</span>,\n",
       " <span class=\"style-scope ytd-grid-video-renderer\">조회수 4.4만회</span>,\n",
       " <span class=\"style-scope ytd-grid-video-renderer\">조회수 6.6만회</span>,\n",
       " <span class=\"style-scope ytd-grid-video-renderer\">조회수 11만회</span>,\n",
       " <span class=\"style-scope ytd-grid-video-renderer\">조회수 899만회</span>]"
      ]
     },
     "execution_count": 157,
     "metadata": {},
     "output_type": "execute_result"
    }
   ],
   "source": [
    "view"
   ]
  },
  {
   "cell_type": "code",
   "execution_count": 159,
   "metadata": {},
   "outputs": [],
   "source": [
    "view_list = []\n",
    "\n",
    "for i in range(0, len(view), 2): # 짝수만 뽑으면... 조회수만.\n",
    "    view_list.append(view[i].text.strip())"
   ]
  },
  {
   "cell_type": "code",
   "execution_count": null,
   "metadata": {},
   "outputs": [],
   "source": [
    "view_list"
   ]
  },
  {
   "cell_type": "code",
   "execution_count": 160,
   "metadata": {},
   "outputs": [],
   "source": [
    "title_list = []\n",
    "view_list = []\n",
    "\n",
    "for i in range(len(title)) :\n",
    "    title_list.append(title[i].text.strip())\n",
    "    view_list.append(view[i].text.strip())\n",
    "    "
   ]
  },
  {
   "cell_type": "code",
   "execution_count": 162,
   "metadata": {},
   "outputs": [
    {
     "data": {
      "text/plain": [
       "160"
      ]
     },
     "execution_count": 162,
     "metadata": {},
     "output_type": "execute_result"
    }
   ],
   "source": [
    "len(title_list)"
   ]
  },
  {
   "cell_type": "code",
   "execution_count": 165,
   "metadata": {},
   "outputs": [
    {
     "data": {
      "text/html": [
       "<div>\n",
       "<style scoped>\n",
       "    .dataframe tbody tr th:only-of-type {\n",
       "        vertical-align: middle;\n",
       "    }\n",
       "\n",
       "    .dataframe tbody tr th {\n",
       "        vertical-align: top;\n",
       "    }\n",
       "\n",
       "    .dataframe thead th {\n",
       "        text-align: right;\n",
       "    }\n",
       "</style>\n",
       "<table border=\"1\" class=\"dataframe\">\n",
       "  <thead>\n",
       "    <tr style=\"text-align: right;\">\n",
       "      <th></th>\n",
       "      <th>제목</th>\n",
       "      <th>조회수</th>\n",
       "    </tr>\n",
       "  </thead>\n",
       "  <tbody>\n",
       "    <tr>\n",
       "      <th>0</th>\n",
       "      <td>강아지 앞에서 닮은 인형을 이뻐해줬을때 반응</td>\n",
       "      <td>조회수 12만회</td>\n",
       "    </tr>\n",
       "    <tr>\n",
       "      <th>1</th>\n",
       "      <td>죽은 척 하는 주인을 본 강아지의 귀여운 반응</td>\n",
       "      <td>조회수 11만회</td>\n",
       "    </tr>\n",
       "    <tr>\n",
       "      <th>2</th>\n",
       "      <td>간식 앞에서 기다려 시켰을때 귀여운 강아지 반응</td>\n",
       "      <td>조회수 19만회</td>\n",
       "    </tr>\n",
       "    <tr>\n",
       "      <th>3</th>\n",
       "      <td>말티즈가 아기를 만났을때 생기는 일</td>\n",
       "      <td>조회수 19만회</td>\n",
       "    </tr>\n",
       "    <tr>\n",
       "      <th>4</th>\n",
       "      <td>자는 강아지한테 산책가자고 했을때 귀여운 반응</td>\n",
       "      <td>조회수 56만회</td>\n",
       "    </tr>\n",
       "    <tr>\n",
       "      <th>...</th>\n",
       "      <td>...</td>\n",
       "      <td>...</td>\n",
       "    </tr>\n",
       "    <tr>\n",
       "      <th>155</th>\n",
       "      <td>간식을 뺏겼을 때 강아지의 귀여운 반응</td>\n",
       "      <td>조회수 9.2만회</td>\n",
       "    </tr>\n",
       "    <tr>\n",
       "      <th>156</th>\n",
       "      <td>세차하는데 무서워서 낑낑하는 강아지</td>\n",
       "      <td>조회수 4.4만회</td>\n",
       "    </tr>\n",
       "    <tr>\n",
       "      <th>157</th>\n",
       "      <td>아기강아지를 가까이서 찍어봤어요</td>\n",
       "      <td>조회수 6.6만회</td>\n",
       "    </tr>\n",
       "    <tr>\n",
       "      <th>158</th>\n",
       "      <td>졸린데 놀고싶은 귀여운 강아지ㅎㅎ</td>\n",
       "      <td>조회수 11만회</td>\n",
       "    </tr>\n",
       "    <tr>\n",
       "      <th>159</th>\n",
       "      <td>강아지 입양 첫날 집에와서 하는 귀여운 행동ㅋㅋ</td>\n",
       "      <td>조회수 899만회</td>\n",
       "    </tr>\n",
       "  </tbody>\n",
       "</table>\n",
       "<p>160 rows × 2 columns</p>\n",
       "</div>"
      ],
      "text/plain": [
       "                             제목        조회수\n",
       "0      강아지 앞에서 닮은 인형을 이뻐해줬을때 반응   조회수 12만회\n",
       "1     죽은 척 하는 주인을 본 강아지의 귀여운 반응   조회수 11만회\n",
       "2    간식 앞에서 기다려 시켰을때 귀여운 강아지 반응   조회수 19만회\n",
       "3           말티즈가 아기를 만났을때 생기는 일   조회수 19만회\n",
       "4     자는 강아지한테 산책가자고 했을때 귀여운 반응   조회수 56만회\n",
       "..                          ...        ...\n",
       "155       간식을 뺏겼을 때 강아지의 귀여운 반응  조회수 9.2만회\n",
       "156         세차하는데 무서워서 낑낑하는 강아지  조회수 4.4만회\n",
       "157           아기강아지를 가까이서 찍어봤어요  조회수 6.6만회\n",
       "158          졸린데 놀고싶은 귀여운 강아지ㅎㅎ   조회수 11만회\n",
       "159  강아지 입양 첫날 집에와서 하는 귀여운 행동ㅋㅋ  조회수 899만회\n",
       "\n",
       "[160 rows x 2 columns]"
      ]
     },
     "execution_count": 165,
     "metadata": {},
     "output_type": "execute_result"
    }
   ],
   "source": [
    "dic = {'제목' : title_list, '조회수' : view_list}\n",
    "df = pd.DataFrame(dic)\n",
    "df"
   ]
  },
  {
   "cell_type": "code",
   "execution_count": 166,
   "metadata": {},
   "outputs": [],
   "source": [
    "for i in range(len(title)):\n",
    "    view_list[i] = view_list[i].replace('조회수 ',\"\")"
   ]
  },
  {
   "cell_type": "code",
   "execution_count": 167,
   "metadata": {},
   "outputs": [
    {
     "data": {
      "text/html": [
       "<div>\n",
       "<style scoped>\n",
       "    .dataframe tbody tr th:only-of-type {\n",
       "        vertical-align: middle;\n",
       "    }\n",
       "\n",
       "    .dataframe tbody tr th {\n",
       "        vertical-align: top;\n",
       "    }\n",
       "\n",
       "    .dataframe thead th {\n",
       "        text-align: right;\n",
       "    }\n",
       "</style>\n",
       "<table border=\"1\" class=\"dataframe\">\n",
       "  <thead>\n",
       "    <tr style=\"text-align: right;\">\n",
       "      <th></th>\n",
       "      <th>제목</th>\n",
       "      <th>조회수</th>\n",
       "    </tr>\n",
       "  </thead>\n",
       "  <tbody>\n",
       "    <tr>\n",
       "      <th>0</th>\n",
       "      <td>강아지 앞에서 닮은 인형을 이뻐해줬을때 반응</td>\n",
       "      <td>12만회</td>\n",
       "    </tr>\n",
       "    <tr>\n",
       "      <th>1</th>\n",
       "      <td>죽은 척 하는 주인을 본 강아지의 귀여운 반응</td>\n",
       "      <td>11만회</td>\n",
       "    </tr>\n",
       "    <tr>\n",
       "      <th>2</th>\n",
       "      <td>간식 앞에서 기다려 시켰을때 귀여운 강아지 반응</td>\n",
       "      <td>19만회</td>\n",
       "    </tr>\n",
       "    <tr>\n",
       "      <th>3</th>\n",
       "      <td>말티즈가 아기를 만났을때 생기는 일</td>\n",
       "      <td>19만회</td>\n",
       "    </tr>\n",
       "    <tr>\n",
       "      <th>4</th>\n",
       "      <td>자는 강아지한테 산책가자고 했을때 귀여운 반응</td>\n",
       "      <td>56만회</td>\n",
       "    </tr>\n",
       "    <tr>\n",
       "      <th>...</th>\n",
       "      <td>...</td>\n",
       "      <td>...</td>\n",
       "    </tr>\n",
       "    <tr>\n",
       "      <th>155</th>\n",
       "      <td>간식을 뺏겼을 때 강아지의 귀여운 반응</td>\n",
       "      <td>9.2만회</td>\n",
       "    </tr>\n",
       "    <tr>\n",
       "      <th>156</th>\n",
       "      <td>세차하는데 무서워서 낑낑하는 강아지</td>\n",
       "      <td>4.4만회</td>\n",
       "    </tr>\n",
       "    <tr>\n",
       "      <th>157</th>\n",
       "      <td>아기강아지를 가까이서 찍어봤어요</td>\n",
       "      <td>6.6만회</td>\n",
       "    </tr>\n",
       "    <tr>\n",
       "      <th>158</th>\n",
       "      <td>졸린데 놀고싶은 귀여운 강아지ㅎㅎ</td>\n",
       "      <td>11만회</td>\n",
       "    </tr>\n",
       "    <tr>\n",
       "      <th>159</th>\n",
       "      <td>강아지 입양 첫날 집에와서 하는 귀여운 행동ㅋㅋ</td>\n",
       "      <td>899만회</td>\n",
       "    </tr>\n",
       "  </tbody>\n",
       "</table>\n",
       "<p>160 rows × 2 columns</p>\n",
       "</div>"
      ],
      "text/plain": [
       "                             제목    조회수\n",
       "0      강아지 앞에서 닮은 인형을 이뻐해줬을때 반응   12만회\n",
       "1     죽은 척 하는 주인을 본 강아지의 귀여운 반응   11만회\n",
       "2    간식 앞에서 기다려 시켰을때 귀여운 강아지 반응   19만회\n",
       "3           말티즈가 아기를 만났을때 생기는 일   19만회\n",
       "4     자는 강아지한테 산책가자고 했을때 귀여운 반응   56만회\n",
       "..                          ...    ...\n",
       "155       간식을 뺏겼을 때 강아지의 귀여운 반응  9.2만회\n",
       "156         세차하는데 무서워서 낑낑하는 강아지  4.4만회\n",
       "157           아기강아지를 가까이서 찍어봤어요  6.6만회\n",
       "158          졸린데 놀고싶은 귀여운 강아지ㅎㅎ   11만회\n",
       "159  강아지 입양 첫날 집에와서 하는 귀여운 행동ㅋㅋ  899만회\n",
       "\n",
       "[160 rows x 2 columns]"
      ]
     },
     "execution_count": 167,
     "metadata": {},
     "output_type": "execute_result"
    }
   ],
   "source": [
    "dic = {'제목' : title_list, '조회수' : view_list}\n",
    "df = pd.DataFrame(dic)\n",
    "df"
   ]
  },
  {
   "cell_type": "markdown",
   "metadata": {},
   "source": [
    "### 지역 검색 , 광주 클릭, 전체 클릭"
   ]
  },
  {
   "cell_type": "code",
   "execution_count": 178,
   "metadata": {},
   "outputs": [],
   "source": [
    "driver = wb.Chrome()\n",
    "url = 'https://www.starbucks.co.kr/store/store_map.do?disp=quick'\n",
    "driver.get(url)"
   ]
  },
  {
   "cell_type": "code",
   "execution_count": 183,
   "metadata": {},
   "outputs": [],
   "source": [
    "search1 = driver.find_element_by_class_name('loca_search')"
   ]
  },
  {
   "cell_type": "code",
   "execution_count": 184,
   "metadata": {},
   "outputs": [],
   "source": [
    "search1.click()"
   ]
  },
  {
   "cell_type": "code",
   "execution_count": 185,
   "metadata": {},
   "outputs": [],
   "source": [
    "search2 = driver.find_element_by_css_selector('ul.sido_arae_box > li + li + li')\n",
    "# 자식인 li 에 형제 "
   ]
  },
  {
   "cell_type": "code",
   "execution_count": 186,
   "metadata": {},
   "outputs": [],
   "source": [
    "# st_btn2 = driver.find_element_by_class_name('sido_arae_box > li:nth-child(3)')"
   ]
  },
  {
   "cell_type": "code",
   "execution_count": 187,
   "metadata": {},
   "outputs": [],
   "source": [
    "search2.click()"
   ]
  },
  {
   "cell_type": "markdown",
   "metadata": {},
   "source": [
    "### 전체 클릭"
   ]
  },
  {
   "cell_type": "code",
   "execution_count": 195,
   "metadata": {},
   "outputs": [],
   "source": [
    "search3 = driver.find_element_by_css_selector('ul.gugun_arae_box > li')"
   ]
  },
  {
   "cell_type": "code",
   "execution_count": 196,
   "metadata": {},
   "outputs": [],
   "source": [
    "search3.click()"
   ]
  },
  {
   "cell_type": "code",
   "execution_count": null,
   "metadata": {},
   "outputs": [],
   "source": []
  },
  {
   "cell_type": "code",
   "execution_count": null,
   "metadata": {},
   "outputs": [],
   "source": []
  },
  {
   "cell_type": "code",
   "execution_count": null,
   "metadata": {},
   "outputs": [],
   "source": []
  },
  {
   "cell_type": "code",
   "execution_count": null,
   "metadata": {},
   "outputs": [],
   "source": []
  },
  {
   "cell_type": "code",
   "execution_count": null,
   "metadata": {},
   "outputs": [],
   "source": []
  },
  {
   "cell_type": "code",
   "execution_count": null,
   "metadata": {},
   "outputs": [],
   "source": []
  },
  {
   "cell_type": "code",
   "execution_count": null,
   "metadata": {},
   "outputs": [],
   "source": []
  }
 ],
 "metadata": {
  "kernelspec": {
   "display_name": "Python 3",
   "language": "python",
   "name": "python3"
  },
  "language_info": {
   "codemirror_mode": {
    "name": "ipython",
    "version": 3
   },
   "file_extension": ".py",
   "mimetype": "text/x-python",
   "name": "python",
   "nbconvert_exporter": "python",
   "pygments_lexer": "ipython3",
   "version": "3.8.5"
  }
 },
 "nbformat": 4,
 "nbformat_minor": 4
}
