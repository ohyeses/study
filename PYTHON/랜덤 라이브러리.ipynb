{
 "cells": [
  {
   "cell_type": "code",
   "execution_count": 1,
   "metadata": {},
   "outputs": [],
   "source": [
    "import random"
   ]
  },
  {
   "cell_type": "markdown",
   "metadata": {},
   "source": [
    "# random 라이브러리"
   ]
  },
  {
   "cell_type": "code",
   "execution_count": 2,
   "metadata": {},
   "outputs": [
    {
     "data": {
      "text/plain": [
       "1"
      ]
     },
     "execution_count": 2,
     "metadata": {},
     "output_type": "execute_result"
    }
   ],
   "source": [
    "random.randint(1,10)"
   ]
  },
  {
   "cell_type": "markdown",
   "metadata": {},
   "source": [
    "# 랜덤으로 1부터 50 숫자를 뽑으면 뽑은 숫자를 맞추는 UP, DOWN 게임 예제"
   ]
  },
  {
   "cell_type": "code",
   "execution_count": 1,
   "metadata": {},
   "outputs": [
    {
     "name": "stdout",
     "output_type": "stream",
     "text": [
      "숫자를 입력하세요 >> 4\n",
      "4보다 큰 수  입니다.\n",
      "숫자를 입력하세요 >> 5\n",
      "5보다 큰 수  입니다.\n",
      "숫자를 입력하세요 >> 6\n",
      "6보다 큰 수  입니다.\n",
      "숫자를 입력하세요 >> 7\n",
      "7보다 큰 수  입니다.\n",
      "숫자를 입력하세요 >> 8\n",
      "8보다 큰 수  입니다.\n",
      "숫자를 입력하세요 >> 9\n",
      "9보다 큰 수  입니다.\n",
      "숫자를 입력하세요 >> 35\n",
      "35보다 작은 수  입니다.\n",
      "숫자를 입력하세요 >> 30\n",
      "30보다 작은 수  입니다.\n",
      "숫자를 입력하세요 >> 24\n",
      "24보다 큰 수  입니다.\n",
      "숫자를 입력하세요 >> 26\n",
      "26보다 큰 수  입니다.\n",
      "숫자를 입력하세요 >> 27\n",
      "정답을 맞추셨습니다.\n"
     ]
    }
   ],
   "source": [
    "import random\n",
    "real_num = random.randint(1,50)\n",
    "print(real_num)\n",
    "\n",
    "while True:\n",
    "    num = int(input(\"숫자를 입력하세요 >> \"))\n",
    "    \n",
    "    if (real_num > num):\n",
    "         print(\"{}보다 큰 수  입니다.\".format(num))\n",
    "        \n",
    "    elif (real_num < num):\n",
    "         print(\"{}보다 작은 수  입니다.\".format(num))\n",
    "    elif (real_num == num):\n",
    "        print(\"정답을 맞추셨습니다.\")\n",
    "        break\n",
    "\n",
    "        \n"
   ]
  },
  {
   "cell_type": "code",
   "execution_count": null,
   "metadata": {},
   "outputs": [],
   "source": []
  },
  {
   "cell_type": "code",
   "execution_count": null,
   "metadata": {},
   "outputs": [],
   "source": []
  },
  {
   "cell_type": "code",
   "execution_count": null,
   "metadata": {},
   "outputs": [],
   "source": []
  },
  {
   "cell_type": "code",
   "execution_count": null,
   "metadata": {},
   "outputs": [],
   "source": []
  },
  {
   "cell_type": "code",
   "execution_count": null,
   "metadata": {},
   "outputs": [],
   "source": []
  }
 ],
 "metadata": {
  "kernelspec": {
   "display_name": "Python 3",
   "language": "python",
   "name": "python3"
  },
  "language_info": {
   "codemirror_mode": {
    "name": "ipython",
    "version": 3
   },
   "file_extension": ".py",
   "mimetype": "text/x-python",
   "name": "python",
   "nbconvert_exporter": "python",
   "pygments_lexer": "ipython3",
   "version": "3.8.5"
  }
 },
 "nbformat": 4,
 "nbformat_minor": 4
}
