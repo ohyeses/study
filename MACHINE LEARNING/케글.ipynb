{
 "cells": [
  {
   "cell_type": "code",
   "execution_count": 1,
   "metadata": {},
   "outputs": [],
   "source": [
    "import pandas as pd\n",
    "from sklearn.model_selection import train_test_split\n",
    "from sklearn import metrics\n",
    "from sklearn.tree import DecisionTreeClassifier\n",
    "\n",
    "import numpy as np\n",
    "import seaborn as sns #\n",
    "import matplotlib.pyplot as plt"
   ]
  },
  {
   "cell_type": "code",
   "execution_count": 2,
   "metadata": {
    "scrolled": true
   },
   "outputs": [],
   "source": [
    "train = pd.read_csv('data2/train.csv', index_col = 'ID')\n",
    "test = pd.read_csv('data2/test.csv', index_col = 'ID')"
   ]
  },
  {
   "cell_type": "code",
   "execution_count": 3,
   "metadata": {},
   "outputs": [
    {
     "name": "stdout",
     "output_type": "stream",
     "text": [
      "(699, 16)\n",
      "(430, 15)\n"
     ]
    }
   ],
   "source": [
    "print(train.shape)\n",
    "print(test.shape)"
   ]
  },
  {
   "cell_type": "code",
   "execution_count": 4,
   "metadata": {
    "scrolled": true
   },
   "outputs": [
    {
     "name": "stdout",
     "output_type": "stream",
     "text": [
      "<class 'pandas.core.frame.DataFrame'>\n",
      "Int64Index: 699 entries, 1 to 699\n",
      "Data columns (total 16 columns):\n",
      " #   Column        Non-Null Count  Dtype  \n",
      "---  ------        --------------  -----  \n",
      " 0   stag          516 non-null    float64\n",
      " 1   event         699 non-null    int64  \n",
      " 2   gender        699 non-null    object \n",
      " 3   age           699 non-null    float64\n",
      " 4   industry      672 non-null    object \n",
      " 5   profession    699 non-null    object \n",
      " 6   traffic       699 non-null    object \n",
      " 7   coach         699 non-null    object \n",
      " 8   head_gender   699 non-null    object \n",
      " 9   greywage      679 non-null    object \n",
      " 10  way           678 non-null    object \n",
      " 11  extraversion  699 non-null    float64\n",
      " 12  independ      699 non-null    float64\n",
      " 13  selfcontrol   666 non-null    float64\n",
      " 14  anxiety       699 non-null    float64\n",
      " 15  novator       699 non-null    float64\n",
      "dtypes: float64(7), int64(1), object(8)\n",
      "memory usage: 92.8+ KB\n"
     ]
    }
   ],
   "source": [
    "train.info()"
   ]
  },
  {
   "cell_type": "code",
   "execution_count": 5,
   "metadata": {},
   "outputs": [
    {
     "name": "stdout",
     "output_type": "stream",
     "text": [
      "<class 'pandas.core.frame.DataFrame'>\n",
      "Int64Index: 430 entries, 700 to 1129\n",
      "Data columns (total 15 columns):\n",
      " #   Column        Non-Null Count  Dtype  \n",
      "---  ------        --------------  -----  \n",
      " 0   stag          321 non-null    float64\n",
      " 1   gender        430 non-null    object \n",
      " 2   age           430 non-null    float64\n",
      " 3   industry      430 non-null    object \n",
      " 4   profession    430 non-null    object \n",
      " 5   traffic       430 non-null    object \n",
      " 6   coach         430 non-null    object \n",
      " 7   head_gender   360 non-null    object \n",
      " 8   greywage      430 non-null    object \n",
      " 9   way           430 non-null    object \n",
      " 10  extraversion  430 non-null    float64\n",
      " 11  independ      430 non-null    float64\n",
      " 12  selfcontrol   385 non-null    float64\n",
      " 13  anxiety       430 non-null    float64\n",
      " 14  novator       430 non-null    float64\n",
      "dtypes: float64(7), object(8)\n",
      "memory usage: 53.8+ KB\n"
     ]
    }
   ],
   "source": [
    "test.info()"
   ]
  },
  {
   "cell_type": "markdown",
   "metadata": {},
   "source": [
    "- 총 데이터 수 699개 (train)\n",
    "- 결측치 채워야 하는것 (train)\n",
    "- stag : 근무기간(월) 183개\n",
    "- industry : 직원의 산업 27개\n",
    "- greywage : 임금투명성 20개\n",
    "- way : 출퇴근 방법 21개\n",
    "- selfcontrol : 자제력 33개\n",
    "\n",
    "\n",
    "--\n",
    "\n",
    "- 총 데이터 수 430개 (test)\n",
    "- 결측치 채워야 하는것 (test)\n",
    "- stag : 근무기간(월) 109개\n",
    "- head_gender : 지도자 성별 70개\n",
    "- selfcontrol : 자제력 45개"
   ]
  },
  {
   "cell_type": "code",
   "execution_count": 10,
   "metadata": {},
   "outputs": [
    {
     "data": {
      "text/html": [
       "<div>\n",
       "<style scoped>\n",
       "    .dataframe tbody tr th:only-of-type {\n",
       "        vertical-align: middle;\n",
       "    }\n",
       "\n",
       "    .dataframe tbody tr th {\n",
       "        vertical-align: top;\n",
       "    }\n",
       "\n",
       "    .dataframe thead th {\n",
       "        text-align: right;\n",
       "    }\n",
       "</style>\n",
       "<table border=\"1\" class=\"dataframe\">\n",
       "  <thead>\n",
       "    <tr style=\"text-align: right;\">\n",
       "      <th></th>\n",
       "      <th>stag</th>\n",
       "      <th>event</th>\n",
       "      <th>age</th>\n",
       "      <th>extraversion</th>\n",
       "      <th>independ</th>\n",
       "      <th>selfcontrol</th>\n",
       "      <th>anxiety</th>\n",
       "      <th>novator</th>\n",
       "    </tr>\n",
       "  </thead>\n",
       "  <tbody>\n",
       "    <tr>\n",
       "      <th>stag</th>\n",
       "      <td>1.000000</td>\n",
       "      <td>-0.070421</td>\n",
       "      <td>-0.214415</td>\n",
       "      <td>-0.078248</td>\n",
       "      <td>-0.013056</td>\n",
       "      <td>0.102294</td>\n",
       "      <td>0.042807</td>\n",
       "      <td>-0.039662</td>\n",
       "    </tr>\n",
       "    <tr>\n",
       "      <th>event</th>\n",
       "      <td>-0.070421</td>\n",
       "      <td>1.000000</td>\n",
       "      <td>0.008723</td>\n",
       "      <td>0.013961</td>\n",
       "      <td>-0.007915</td>\n",
       "      <td>-0.049588</td>\n",
       "      <td>-0.022668</td>\n",
       "      <td>0.022554</td>\n",
       "    </tr>\n",
       "    <tr>\n",
       "      <th>age</th>\n",
       "      <td>-0.214415</td>\n",
       "      <td>0.008723</td>\n",
       "      <td>1.000000</td>\n",
       "      <td>-0.169429</td>\n",
       "      <td>0.074582</td>\n",
       "      <td>0.032276</td>\n",
       "      <td>0.060051</td>\n",
       "      <td>0.020334</td>\n",
       "    </tr>\n",
       "    <tr>\n",
       "      <th>extraversion</th>\n",
       "      <td>-0.078248</td>\n",
       "      <td>0.013961</td>\n",
       "      <td>-0.169429</td>\n",
       "      <td>1.000000</td>\n",
       "      <td>-0.208904</td>\n",
       "      <td>-0.512422</td>\n",
       "      <td>-0.150632</td>\n",
       "      <td>0.287073</td>\n",
       "    </tr>\n",
       "    <tr>\n",
       "      <th>independ</th>\n",
       "      <td>-0.013056</td>\n",
       "      <td>-0.007915</td>\n",
       "      <td>0.074582</td>\n",
       "      <td>-0.208904</td>\n",
       "      <td>1.000000</td>\n",
       "      <td>-0.202594</td>\n",
       "      <td>-0.418896</td>\n",
       "      <td>0.038421</td>\n",
       "    </tr>\n",
       "    <tr>\n",
       "      <th>selfcontrol</th>\n",
       "      <td>0.102294</td>\n",
       "      <td>-0.049588</td>\n",
       "      <td>0.032276</td>\n",
       "      <td>-0.512422</td>\n",
       "      <td>-0.202594</td>\n",
       "      <td>1.000000</td>\n",
       "      <td>-0.074452</td>\n",
       "      <td>-0.573815</td>\n",
       "    </tr>\n",
       "    <tr>\n",
       "      <th>anxiety</th>\n",
       "      <td>0.042807</td>\n",
       "      <td>-0.022668</td>\n",
       "      <td>0.060051</td>\n",
       "      <td>-0.150632</td>\n",
       "      <td>-0.418896</td>\n",
       "      <td>-0.074452</td>\n",
       "      <td>1.000000</td>\n",
       "      <td>0.255866</td>\n",
       "    </tr>\n",
       "    <tr>\n",
       "      <th>novator</th>\n",
       "      <td>-0.039662</td>\n",
       "      <td>0.022554</td>\n",
       "      <td>0.020334</td>\n",
       "      <td>0.287073</td>\n",
       "      <td>0.038421</td>\n",
       "      <td>-0.573815</td>\n",
       "      <td>0.255866</td>\n",
       "      <td>1.000000</td>\n",
       "    </tr>\n",
       "  </tbody>\n",
       "</table>\n",
       "</div>"
      ],
      "text/plain": [
       "                  stag     event       age  extraversion  independ  \\\n",
       "stag          1.000000 -0.070421 -0.214415     -0.078248 -0.013056   \n",
       "event        -0.070421  1.000000  0.008723      0.013961 -0.007915   \n",
       "age          -0.214415  0.008723  1.000000     -0.169429  0.074582   \n",
       "extraversion -0.078248  0.013961 -0.169429      1.000000 -0.208904   \n",
       "independ     -0.013056 -0.007915  0.074582     -0.208904  1.000000   \n",
       "selfcontrol   0.102294 -0.049588  0.032276     -0.512422 -0.202594   \n",
       "anxiety       0.042807 -0.022668  0.060051     -0.150632 -0.418896   \n",
       "novator      -0.039662  0.022554  0.020334      0.287073  0.038421   \n",
       "\n",
       "              selfcontrol   anxiety   novator  \n",
       "stag             0.102294  0.042807 -0.039662  \n",
       "event           -0.049588 -0.022668  0.022554  \n",
       "age              0.032276  0.060051  0.020334  \n",
       "extraversion    -0.512422 -0.150632  0.287073  \n",
       "independ        -0.202594 -0.418896  0.038421  \n",
       "selfcontrol      1.000000 -0.074452 -0.573815  \n",
       "anxiety         -0.074452  1.000000  0.255866  \n",
       "novator         -0.573815  0.255866  1.000000  "
      ]
     },
     "execution_count": 10,
     "metadata": {},
     "output_type": "execute_result"
    }
   ],
   "source": [
    "train.corr()"
   ]
  },
  {
   "cell_type": "code",
   "execution_count": 7,
   "metadata": {},
   "outputs": [],
   "source": [
    "pt1 = train.pivot_table(values ='age', index = ['event', 'gender'], aggfunc='mean')"
   ]
  },
  {
   "cell_type": "code",
   "execution_count": 8,
   "metadata": {
    "scrolled": true
   },
   "outputs": [
    {
     "data": {
      "text/html": [
       "<div>\n",
       "<style scoped>\n",
       "    .dataframe tbody tr th:only-of-type {\n",
       "        vertical-align: middle;\n",
       "    }\n",
       "\n",
       "    .dataframe tbody tr th {\n",
       "        vertical-align: top;\n",
       "    }\n",
       "\n",
       "    .dataframe thead th {\n",
       "        text-align: right;\n",
       "    }\n",
       "</style>\n",
       "<table border=\"1\" class=\"dataframe\">\n",
       "  <thead>\n",
       "    <tr style=\"text-align: right;\">\n",
       "      <th></th>\n",
       "      <th></th>\n",
       "      <th>age</th>\n",
       "    </tr>\n",
       "    <tr>\n",
       "      <th>event</th>\n",
       "      <th>gender</th>\n",
       "      <th></th>\n",
       "    </tr>\n",
       "  </thead>\n",
       "  <tbody>\n",
       "    <tr>\n",
       "      <th rowspan=\"2\" valign=\"top\">0</th>\n",
       "      <th>f</th>\n",
       "      <td>30.205915</td>\n",
       "    </tr>\n",
       "    <tr>\n",
       "      <th>m</th>\n",
       "      <td>31.285714</td>\n",
       "    </tr>\n",
       "    <tr>\n",
       "      <th rowspan=\"2\" valign=\"top\">1</th>\n",
       "      <th>f</th>\n",
       "      <td>30.326863</td>\n",
       "    </tr>\n",
       "    <tr>\n",
       "      <th>m</th>\n",
       "      <td>31.144231</td>\n",
       "    </tr>\n",
       "  </tbody>\n",
       "</table>\n",
       "</div>"
      ],
      "text/plain": [
       "                    age\n",
       "event gender           \n",
       "0     f       30.205915\n",
       "      m       31.285714\n",
       "1     f       30.326863\n",
       "      m       31.144231"
      ]
     },
     "execution_count": 8,
     "metadata": {},
     "output_type": "execute_result"
    }
   ],
   "source": [
    "pt1"
   ]
  },
  {
   "cell_type": "code",
   "execution_count": 9,
   "metadata": {
    "scrolled": true
   },
   "outputs": [
    {
     "ename": "SyntaxError",
     "evalue": "invalid syntax (<ipython-input-9-bcfd42e750ae>, line 1)",
     "output_type": "error",
     "traceback": [
      "\u001b[1;36m  File \u001b[1;32m\"<ipython-input-9-bcfd42e750ae>\"\u001b[1;36m, line \u001b[1;32m1\u001b[0m\n\u001b[1;33m    df = raw.\u001b[0m\n\u001b[1;37m             ^\u001b[0m\n\u001b[1;31mSyntaxError\u001b[0m\u001b[1;31m:\u001b[0m invalid syntax\n"
     ]
    }
   ],
   "source": [
    "# df = raw."
   ]
  },
  {
   "cell_type": "code",
   "execution_count": null,
   "metadata": {},
   "outputs": [],
   "source": [
    "sns.clustermap(train.corr(),\n",
    "              annot = True, # 실제값 화면에 나타내기\n",
    "            cmap = 'RdYlBu_r',# Red, Yellow, Blue 색상으로 표시\n",
    "               vmin = -1, vmax = 1, #컬러차트 -1 ~1 범위로 표시\n",
    "              )"
   ]
  },
  {
   "cell_type": "code",
   "execution_count": null,
   "metadata": {},
   "outputs": [],
   "source": []
  },
  {
   "cell_type": "code",
   "execution_count": null,
   "metadata": {},
   "outputs": [],
   "source": []
  },
  {
   "cell_type": "code",
   "execution_count": null,
   "metadata": {},
   "outputs": [],
   "source": []
  },
  {
   "cell_type": "code",
   "execution_count": null,
   "metadata": {},
   "outputs": [],
   "source": []
  },
  {
   "cell_type": "code",
   "execution_count": null,
   "metadata": {},
   "outputs": [],
   "source": []
  }
 ],
 "metadata": {
  "kernelspec": {
   "display_name": "Python 3",
   "language": "python",
   "name": "python3"
  },
  "language_info": {
   "codemirror_mode": {
    "name": "ipython",
    "version": 3
   },
   "file_extension": ".py",
   "mimetype": "text/x-python",
   "name": "python",
   "nbconvert_exporter": "python",
   "pygments_lexer": "ipython3",
   "version": "3.8.5"
  }
 },
 "nbformat": 4,
 "nbformat_minor": 4
}
