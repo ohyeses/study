{
 "cells": [
  {
   "cell_type": "code",
   "execution_count": 1,
   "metadata": {},
   "outputs": [],
   "source": [
    "import pandas as pd\n",
    "import matplotlib.pyplot as plt  # 그래프 그리는 라이브러리\n",
    "from sklearn.model_selection import train_test_split\n",
    "from sklearn import metrics  # 평가를 위한 라이브러리\n",
    "from sklearn.tree import DecisionTreeClassifier\n",
    "\n",
    "import numpy as np\n",
    "import seaborn as sns  # 시각화 라이브러리"
   ]
  },
  {
   "cell_type": "code",
   "execution_count": 2,
   "metadata": {},
   "outputs": [],
   "source": [
    "train = pd.read_csv('data2/train.csv', index_col = 'ID')\n",
    "test = pd.read_csv('data2/test.csv', index_col = 'ID')"
   ]
  },
  {
   "cell_type": "code",
   "execution_count": 3,
   "metadata": {},
   "outputs": [
    {
     "name": "stdout",
     "output_type": "stream",
     "text": [
      "<class 'pandas.core.frame.DataFrame'>\n",
      "Int64Index: 699 entries, 1 to 699\n",
      "Data columns (total 16 columns):\n",
      " #   Column        Non-Null Count  Dtype  \n",
      "---  ------        --------------  -----  \n",
      " 0   stag          516 non-null    float64\n",
      " 1   event         699 non-null    int64  \n",
      " 2   gender        699 non-null    object \n",
      " 3   age           699 non-null    float64\n",
      " 4   industry      672 non-null    object \n",
      " 5   profession    699 non-null    object \n",
      " 6   traffic       699 non-null    object \n",
      " 7   coach         699 non-null    object \n",
      " 8   head_gender   699 non-null    object \n",
      " 9   greywage      679 non-null    object \n",
      " 10  way           678 non-null    object \n",
      " 11  extraversion  699 non-null    float64\n",
      " 12  independ      699 non-null    float64\n",
      " 13  selfcontrol   666 non-null    float64\n",
      " 14  anxiety       699 non-null    float64\n",
      " 15  novator       699 non-null    float64\n",
      "dtypes: float64(7), int64(1), object(8)\n",
      "memory usage: 92.8+ KB\n"
     ]
    }
   ],
   "source": [
    "train.info()"
   ]
  },
  {
   "cell_type": "code",
   "execution_count": 4,
   "metadata": {},
   "outputs": [
    {
     "name": "stdout",
     "output_type": "stream",
     "text": [
      "<class 'pandas.core.frame.DataFrame'>\n",
      "Int64Index: 430 entries, 700 to 1129\n",
      "Data columns (total 15 columns):\n",
      " #   Column        Non-Null Count  Dtype  \n",
      "---  ------        --------------  -----  \n",
      " 0   stag          321 non-null    float64\n",
      " 1   gender        430 non-null    object \n",
      " 2   age           430 non-null    float64\n",
      " 3   industry      430 non-null    object \n",
      " 4   profession    430 non-null    object \n",
      " 5   traffic       430 non-null    object \n",
      " 6   coach         430 non-null    object \n",
      " 7   head_gender   360 non-null    object \n",
      " 8   greywage      430 non-null    object \n",
      " 9   way           430 non-null    object \n",
      " 10  extraversion  430 non-null    float64\n",
      " 11  independ      430 non-null    float64\n",
      " 12  selfcontrol   385 non-null    float64\n",
      " 13  anxiety       430 non-null    float64\n",
      " 14  novator       430 non-null    float64\n",
      "dtypes: float64(7), object(8)\n",
      "memory usage: 53.8+ KB\n"
     ]
    }
   ],
   "source": [
    "test.info()"
   ]
  },
  {
   "cell_type": "code",
   "execution_count": 5,
   "metadata": {
    "scrolled": false
   },
   "outputs": [
    {
     "data": {
      "text/html": [
       "<div>\n",
       "<style scoped>\n",
       "    .dataframe tbody tr th:only-of-type {\n",
       "        vertical-align: middle;\n",
       "    }\n",
       "\n",
       "    .dataframe tbody tr th {\n",
       "        vertical-align: top;\n",
       "    }\n",
       "\n",
       "    .dataframe thead th {\n",
       "        text-align: right;\n",
       "    }\n",
       "</style>\n",
       "<table border=\"1\" class=\"dataframe\">\n",
       "  <thead>\n",
       "    <tr style=\"text-align: right;\">\n",
       "      <th></th>\n",
       "      <th>stag</th>\n",
       "      <th>event</th>\n",
       "      <th>age</th>\n",
       "      <th>extraversion</th>\n",
       "      <th>independ</th>\n",
       "      <th>selfcontrol</th>\n",
       "      <th>anxiety</th>\n",
       "      <th>novator</th>\n",
       "    </tr>\n",
       "  </thead>\n",
       "  <tbody>\n",
       "    <tr>\n",
       "      <th>stag</th>\n",
       "      <td>1.000000</td>\n",
       "      <td>-0.070421</td>\n",
       "      <td>-0.214415</td>\n",
       "      <td>-0.078248</td>\n",
       "      <td>-0.013056</td>\n",
       "      <td>0.102294</td>\n",
       "      <td>0.042807</td>\n",
       "      <td>-0.039662</td>\n",
       "    </tr>\n",
       "    <tr>\n",
       "      <th>event</th>\n",
       "      <td>-0.070421</td>\n",
       "      <td>1.000000</td>\n",
       "      <td>0.008723</td>\n",
       "      <td>0.013961</td>\n",
       "      <td>-0.007915</td>\n",
       "      <td>-0.049588</td>\n",
       "      <td>-0.022668</td>\n",
       "      <td>0.022554</td>\n",
       "    </tr>\n",
       "    <tr>\n",
       "      <th>age</th>\n",
       "      <td>-0.214415</td>\n",
       "      <td>0.008723</td>\n",
       "      <td>1.000000</td>\n",
       "      <td>-0.169429</td>\n",
       "      <td>0.074582</td>\n",
       "      <td>0.032276</td>\n",
       "      <td>0.060051</td>\n",
       "      <td>0.020334</td>\n",
       "    </tr>\n",
       "    <tr>\n",
       "      <th>extraversion</th>\n",
       "      <td>-0.078248</td>\n",
       "      <td>0.013961</td>\n",
       "      <td>-0.169429</td>\n",
       "      <td>1.000000</td>\n",
       "      <td>-0.208904</td>\n",
       "      <td>-0.512422</td>\n",
       "      <td>-0.150632</td>\n",
       "      <td>0.287073</td>\n",
       "    </tr>\n",
       "    <tr>\n",
       "      <th>independ</th>\n",
       "      <td>-0.013056</td>\n",
       "      <td>-0.007915</td>\n",
       "      <td>0.074582</td>\n",
       "      <td>-0.208904</td>\n",
       "      <td>1.000000</td>\n",
       "      <td>-0.202594</td>\n",
       "      <td>-0.418896</td>\n",
       "      <td>0.038421</td>\n",
       "    </tr>\n",
       "    <tr>\n",
       "      <th>selfcontrol</th>\n",
       "      <td>0.102294</td>\n",
       "      <td>-0.049588</td>\n",
       "      <td>0.032276</td>\n",
       "      <td>-0.512422</td>\n",
       "      <td>-0.202594</td>\n",
       "      <td>1.000000</td>\n",
       "      <td>-0.074452</td>\n",
       "      <td>-0.573815</td>\n",
       "    </tr>\n",
       "    <tr>\n",
       "      <th>anxiety</th>\n",
       "      <td>0.042807</td>\n",
       "      <td>-0.022668</td>\n",
       "      <td>0.060051</td>\n",
       "      <td>-0.150632</td>\n",
       "      <td>-0.418896</td>\n",
       "      <td>-0.074452</td>\n",
       "      <td>1.000000</td>\n",
       "      <td>0.255866</td>\n",
       "    </tr>\n",
       "    <tr>\n",
       "      <th>novator</th>\n",
       "      <td>-0.039662</td>\n",
       "      <td>0.022554</td>\n",
       "      <td>0.020334</td>\n",
       "      <td>0.287073</td>\n",
       "      <td>0.038421</td>\n",
       "      <td>-0.573815</td>\n",
       "      <td>0.255866</td>\n",
       "      <td>1.000000</td>\n",
       "    </tr>\n",
       "  </tbody>\n",
       "</table>\n",
       "</div>"
      ],
      "text/plain": [
       "                  stag     event       age  extraversion  independ  \\\n",
       "stag          1.000000 -0.070421 -0.214415     -0.078248 -0.013056   \n",
       "event        -0.070421  1.000000  0.008723      0.013961 -0.007915   \n",
       "age          -0.214415  0.008723  1.000000     -0.169429  0.074582   \n",
       "extraversion -0.078248  0.013961 -0.169429      1.000000 -0.208904   \n",
       "independ     -0.013056 -0.007915  0.074582     -0.208904  1.000000   \n",
       "selfcontrol   0.102294 -0.049588  0.032276     -0.512422 -0.202594   \n",
       "anxiety       0.042807 -0.022668  0.060051     -0.150632 -0.418896   \n",
       "novator      -0.039662  0.022554  0.020334      0.287073  0.038421   \n",
       "\n",
       "              selfcontrol   anxiety   novator  \n",
       "stag             0.102294  0.042807 -0.039662  \n",
       "event           -0.049588 -0.022668  0.022554  \n",
       "age              0.032276  0.060051  0.020334  \n",
       "extraversion    -0.512422 -0.150632  0.287073  \n",
       "independ        -0.202594 -0.418896  0.038421  \n",
       "selfcontrol      1.000000 -0.074452 -0.573815  \n",
       "anxiety         -0.074452  1.000000  0.255866  \n",
       "novator         -0.573815  0.255866  1.000000  "
      ]
     },
     "execution_count": 5,
     "metadata": {},
     "output_type": "execute_result"
    }
   ],
   "source": [
    "train.corr()"
   ]
  },
  {
   "cell_type": "markdown",
   "metadata": {},
   "source": [
    "- 시각화하기"
   ]
  },
  {
   "cell_type": "code",
   "execution_count": 6,
   "metadata": {
    "scrolled": true
   },
   "outputs": [
    {
     "data": {
      "text/plain": [
       "<seaborn.matrix.ClusterGrid at 0x260d7495bb0>"
      ]
     },
     "execution_count": 6,
     "metadata": {},
     "output_type": "execute_result"
    },
    {
     "data": {
      "image/png": "[encoded data removed]",
      "text/plain": [
       "<Figure size 720x720 with 4 Axes>"
      ]
     },
     "metadata": {
      "needs_background": "light"
     },
     "output_type": "display_data"
    }
   ],
   "source": [
    "sns.clustermap(train.corr(),\n",
    "              annot = True, # 실제값 화면에 나타내기\n",
    "            cmap = 'RdYlBu_r',# Red, Yellow, Blue 색상으로 표시\n",
    "               vmin = -1, vmax = 1, #컬러차트 -1 ~1 범위로 표시\n",
    "              )"
   ]
  },
  {
   "cell_type": "code",
   "execution_count": 7,
   "metadata": {},
   "outputs": [
    {
     "data": {
      "text/html": [
       "<div>\n",
       "<style scoped>\n",
       "    .dataframe tbody tr th:only-of-type {\n",
       "        vertical-align: middle;\n",
       "    }\n",
       "\n",
       "    .dataframe tbody tr th {\n",
       "        vertical-align: top;\n",
       "    }\n",
       "\n",
       "    .dataframe thead th {\n",
       "        text-align: right;\n",
       "    }\n",
       "</style>\n",
       "<table border=\"1\" class=\"dataframe\">\n",
       "  <thead>\n",
       "    <tr style=\"text-align: right;\">\n",
       "      <th></th>\n",
       "      <th>stag</th>\n",
       "      <th>age</th>\n",
       "      <th>extraversion</th>\n",
       "      <th>independ</th>\n",
       "      <th>selfcontrol</th>\n",
       "      <th>anxiety</th>\n",
       "      <th>novator</th>\n",
       "    </tr>\n",
       "  </thead>\n",
       "  <tbody>\n",
       "    <tr>\n",
       "      <th>stag</th>\n",
       "      <td>1.000000</td>\n",
       "      <td>-0.213404</td>\n",
       "      <td>-0.129267</td>\n",
       "      <td>0.065200</td>\n",
       "      <td>0.050795</td>\n",
       "      <td>-0.040311</td>\n",
       "      <td>-0.066284</td>\n",
       "    </tr>\n",
       "    <tr>\n",
       "      <th>age</th>\n",
       "      <td>-0.213404</td>\n",
       "      <td>1.000000</td>\n",
       "      <td>-0.116970</td>\n",
       "      <td>0.043920</td>\n",
       "      <td>0.013688</td>\n",
       "      <td>0.038650</td>\n",
       "      <td>0.062018</td>\n",
       "    </tr>\n",
       "    <tr>\n",
       "      <th>extraversion</th>\n",
       "      <td>-0.129267</td>\n",
       "      <td>-0.116970</td>\n",
       "      <td>1.000000</td>\n",
       "      <td>-0.191124</td>\n",
       "      <td>-0.579729</td>\n",
       "      <td>-0.107014</td>\n",
       "      <td>0.317611</td>\n",
       "    </tr>\n",
       "    <tr>\n",
       "      <th>independ</th>\n",
       "      <td>0.065200</td>\n",
       "      <td>0.043920</td>\n",
       "      <td>-0.191124</td>\n",
       "      <td>1.000000</td>\n",
       "      <td>-0.121016</td>\n",
       "      <td>-0.436577</td>\n",
       "      <td>0.002716</td>\n",
       "    </tr>\n",
       "    <tr>\n",
       "      <th>selfcontrol</th>\n",
       "      <td>0.050795</td>\n",
       "      <td>0.013688</td>\n",
       "      <td>-0.579729</td>\n",
       "      <td>-0.121016</td>\n",
       "      <td>1.000000</td>\n",
       "      <td>-0.137211</td>\n",
       "      <td>-0.526195</td>\n",
       "    </tr>\n",
       "    <tr>\n",
       "      <th>anxiety</th>\n",
       "      <td>-0.040311</td>\n",
       "      <td>0.038650</td>\n",
       "      <td>-0.107014</td>\n",
       "      <td>-0.436577</td>\n",
       "      <td>-0.137211</td>\n",
       "      <td>1.000000</td>\n",
       "      <td>0.227025</td>\n",
       "    </tr>\n",
       "    <tr>\n",
       "      <th>novator</th>\n",
       "      <td>-0.066284</td>\n",
       "      <td>0.062018</td>\n",
       "      <td>0.317611</td>\n",
       "      <td>0.002716</td>\n",
       "      <td>-0.526195</td>\n",
       "      <td>0.227025</td>\n",
       "      <td>1.000000</td>\n",
       "    </tr>\n",
       "  </tbody>\n",
       "</table>\n",
       "</div>"
      ],
      "text/plain": [
       "                  stag       age  extraversion  independ  selfcontrol  \\\n",
       "stag          1.000000 -0.213404     -0.129267  0.065200     0.050795   \n",
       "age          -0.213404  1.000000     -0.116970  0.043920     0.013688   \n",
       "extraversion -0.129267 -0.116970      1.000000 -0.191124    -0.579729   \n",
       "independ      0.065200  0.043920     -0.191124  1.000000    -0.121016   \n",
       "selfcontrol   0.050795  0.013688     -0.579729 -0.121016     1.000000   \n",
       "anxiety      -0.040311  0.038650     -0.107014 -0.436577    -0.137211   \n",
       "novator      -0.066284  0.062018      0.317611  0.002716    -0.526195   \n",
       "\n",
       "               anxiety   novator  \n",
       "stag         -0.040311 -0.066284  \n",
       "age           0.038650  0.062018  \n",
       "extraversion -0.107014  0.317611  \n",
       "independ     -0.436577  0.002716  \n",
       "selfcontrol  -0.137211 -0.526195  \n",
       "anxiety       1.000000  0.227025  \n",
       "novator       0.227025  1.000000  "
      ]
     },
     "execution_count": 7,
     "metadata": {},
     "output_type": "execute_result"
    }
   ],
   "source": [
    "test.corr()"
   ]
  },
  {
   "cell_type": "code",
   "execution_count": 8,
   "metadata": {},
   "outputs": [
    {
     "data": {
      "text/plain": [
       "<seaborn.matrix.ClusterGrid at 0x260d7f737c0>"
      ]
     },
     "execution_count": 8,
     "metadata": {},
     "output_type": "execute_result"
    },
    {
     "data": {
      "image/png": "[encoded data removed]",
      "text/plain": [
       "<Figure size 720x720 with 4 Axes>"
      ]
     },
     "metadata": {
      "needs_background": "light"
     },
     "output_type": "display_data"
    }
   ],
   "source": [
    "sns.clustermap(test.corr(),\n",
    "              annot = True, # 실제값 화면에 나타내기\n",
    "            cmap = 'RdYlBu_r',# Red, Yellow, Blue 색상으로 표시\n",
    "               vmin = -1, vmax = 1, #컬러차트 -1 ~1 범위로 표시\n",
    "              )"
   ]
  },
  {
   "cell_type": "code",
   "execution_count": null,
   "metadata": {},
   "outputs": [],
   "source": []
  },
  {
   "cell_type": "code",
   "execution_count": null,
   "metadata": {},
   "outputs": [],
   "source": []
  },
  {
   "cell_type": "code",
   "execution_count": null,
   "metadata": {},
   "outputs": [],
   "source": []
  },
  {
   "cell_type": "code",
   "execution_count": 9,
   "metadata": {
    "scrolled": true
   },
   "outputs": [
    {
     "data": {
      "text/html": [
       "<div>\n",
       "<style scoped>\n",
       "    .dataframe tbody tr th:only-of-type {\n",
       "        vertical-align: middle;\n",
       "    }\n",
       "\n",
       "    .dataframe tbody tr th {\n",
       "        vertical-align: top;\n",
       "    }\n",
       "\n",
       "    .dataframe thead th {\n",
       "        text-align: right;\n",
       "    }\n",
       "</style>\n",
       "<table border=\"1\" class=\"dataframe\">\n",
       "  <thead>\n",
       "    <tr style=\"text-align: right;\">\n",
       "      <th></th>\n",
       "      <th></th>\n",
       "      <th>stag</th>\n",
       "    </tr>\n",
       "    <tr>\n",
       "      <th>coach</th>\n",
       "      <th>gender</th>\n",
       "      <th></th>\n",
       "    </tr>\n",
       "  </thead>\n",
       "  <tbody>\n",
       "    <tr>\n",
       "      <th rowspan=\"2\" valign=\"top\">my head</th>\n",
       "      <th>f</th>\n",
       "      <td>37.592777</td>\n",
       "    </tr>\n",
       "    <tr>\n",
       "      <th>m</th>\n",
       "      <td>35.997760</td>\n",
       "    </tr>\n",
       "    <tr>\n",
       "      <th rowspan=\"2\" valign=\"top\">no</th>\n",
       "      <th>f</th>\n",
       "      <td>33.495768</td>\n",
       "    </tr>\n",
       "    <tr>\n",
       "      <th>m</th>\n",
       "      <td>46.687709</td>\n",
       "    </tr>\n",
       "    <tr>\n",
       "      <th rowspan=\"2\" valign=\"top\">yes</th>\n",
       "      <th>f</th>\n",
       "      <td>38.830323</td>\n",
       "    </tr>\n",
       "    <tr>\n",
       "      <th>m</th>\n",
       "      <td>31.132101</td>\n",
       "    </tr>\n",
       "  </tbody>\n",
       "</table>\n",
       "</div>"
      ],
      "text/plain": [
       "                     stag\n",
       "coach   gender           \n",
       "my head f       37.592777\n",
       "        m       35.997760\n",
       "no      f       33.495768\n",
       "        m       46.687709\n",
       "yes     f       38.830323\n",
       "        m       31.132101"
      ]
     },
     "execution_count": 9,
     "metadata": {},
     "output_type": "execute_result"
    }
   ],
   "source": [
    "pd.set_option('display.max_row', 500)\n",
    "pt1 = train.pivot_table(values = 'stag', index = ['coach', 'gender'], aggfunc = 'mean')\n",
    "pt1"
   ]
  },
  {
   "cell_type": "markdown",
   "metadata": {},
   "source": [
    "### 나이 결측치 채우기 (coach 와 성별 기준)"
   ]
  },
  {
   "cell_type": "code",
   "execution_count": 10,
   "metadata": {},
   "outputs": [],
   "source": [
    "def fill_stag(df):\n",
    "    # 만약 나이가 결측치라면 피봇테이블에서 값을 가져와서 채운다.\n",
    "    if np.isnan(df['stag']): # 결측치이면 true, 아니면 false\n",
    "        return pt1.loc[df['coach'],df['gender']]\n",
    "    # 만약 나이가 결측치가 아니라면 원래 나이값을 사용하자\n",
    "    else:\n",
    "        return df['stag']"
   ]
  },
  {
   "cell_type": "code",
   "execution_count": 11,
   "metadata": {},
   "outputs": [],
   "source": [
    "train['stag'] = train.apply(fill_stag, axis = 1).astype('float64')"
   ]
  },
  {
   "cell_type": "code",
   "execution_count": 12,
   "metadata": {
    "scrolled": true
   },
   "outputs": [
    {
     "name": "stdout",
     "output_type": "stream",
     "text": [
      "<class 'pandas.core.frame.DataFrame'>\n",
      "Int64Index: 699 entries, 1 to 699\n",
      "Data columns (total 16 columns):\n",
      " #   Column        Non-Null Count  Dtype  \n",
      "---  ------        --------------  -----  \n",
      " 0   stag          699 non-null    float64\n",
      " 1   event         699 non-null    int64  \n",
      " 2   gender        699 non-null    object \n",
      " 3   age           699 non-null    float64\n",
      " 4   industry      672 non-null    object \n",
      " 5   profession    699 non-null    object \n",
      " 6   traffic       699 non-null    object \n",
      " 7   coach         699 non-null    object \n",
      " 8   head_gender   699 non-null    object \n",
      " 9   greywage      679 non-null    object \n",
      " 10  way           678 non-null    object \n",
      " 11  extraversion  699 non-null    float64\n",
      " 12  independ      699 non-null    float64\n",
      " 13  selfcontrol   666 non-null    float64\n",
      " 14  anxiety       699 non-null    float64\n",
      " 15  novator       699 non-null    float64\n",
      "dtypes: float64(7), int64(1), object(8)\n",
      "memory usage: 92.8+ KB\n"
     ]
    }
   ],
   "source": [
    "train.info()"
   ]
  },
  {
   "cell_type": "code",
   "execution_count": 13,
   "metadata": {},
   "outputs": [],
   "source": [
    "test['stag'] = test.apply(fill_stag, axis = 1).astype('float64')"
   ]
  },
  {
   "cell_type": "code",
   "execution_count": 14,
   "metadata": {},
   "outputs": [
    {
     "name": "stdout",
     "output_type": "stream",
     "text": [
      "<class 'pandas.core.frame.DataFrame'>\n",
      "Int64Index: 430 entries, 700 to 1129\n",
      "Data columns (total 15 columns):\n",
      " #   Column        Non-Null Count  Dtype  \n",
      "---  ------        --------------  -----  \n",
      " 0   stag          430 non-null    float64\n",
      " 1   gender        430 non-null    object \n",
      " 2   age           430 non-null    float64\n",
      " 3   industry      430 non-null    object \n",
      " 4   profession    430 non-null    object \n",
      " 5   traffic       430 non-null    object \n",
      " 6   coach         430 non-null    object \n",
      " 7   head_gender   360 non-null    object \n",
      " 8   greywage      430 non-null    object \n",
      " 9   way           430 non-null    object \n",
      " 10  extraversion  430 non-null    float64\n",
      " 11  independ      430 non-null    float64\n",
      " 12  selfcontrol   385 non-null    float64\n",
      " 13  anxiety       430 non-null    float64\n",
      " 14  novator       430 non-null    float64\n",
      "dtypes: float64(7), object(8)\n",
      "memory usage: 53.8+ KB\n"
     ]
    }
   ],
   "source": [
    "test.info()"
   ]
  },
  {
   "cell_type": "code",
   "execution_count": 15,
   "metadata": {},
   "outputs": [
    {
     "data": {
      "text/plain": [
       "ID\n",
       "1      False\n",
       "2      False\n",
       "3      False\n",
       "4      False\n",
       "5      False\n",
       "       ...  \n",
       "695    False\n",
       "696    False\n",
       "697    False\n",
       "698    False\n",
       "699    False\n",
       "Name: age, Length: 699, dtype: bool"
      ]
     },
     "execution_count": 15,
     "metadata": {},
     "output_type": "execute_result"
    }
   ],
   "source": [
    "np.isnan(train['age'])#numpy.isnan() -> float이 NaN인지 아닌지 확인해 줍니다"
   ]
  },
  {
   "cell_type": "markdown",
   "metadata": {},
   "source": [
    "# Stag 채우기 (train, test)"
   ]
  },
  {
   "cell_type": "code",
   "execution_count": 16,
   "metadata": {},
   "outputs": [],
   "source": [
    "# pd.set_option('display.max_row', 500)\n",
    "# pt1 = train.pivot_table(values = 'stag', index = ['greywage_new', 'age'], aggfunc = 'mean')\n",
    "# pt1"
   ]
  },
  {
   "cell_type": "code",
   "execution_count": 17,
   "metadata": {},
   "outputs": [
    {
     "data": {
      "text/html": [
       "<div>\n",
       "<style scoped>\n",
       "    .dataframe tbody tr th:only-of-type {\n",
       "        vertical-align: middle;\n",
       "    }\n",
       "\n",
       "    .dataframe tbody tr th {\n",
       "        vertical-align: top;\n",
       "    }\n",
       "\n",
       "    .dataframe thead th {\n",
       "        text-align: right;\n",
       "    }\n",
       "</style>\n",
       "<table border=\"1\" class=\"dataframe\">\n",
       "  <thead>\n",
       "    <tr style=\"text-align: right;\">\n",
       "      <th></th>\n",
       "      <th></th>\n",
       "      <th>stag</th>\n",
       "    </tr>\n",
       "    <tr>\n",
       "      <th>novator</th>\n",
       "      <th>gender</th>\n",
       "      <th></th>\n",
       "    </tr>\n",
       "  </thead>\n",
       "  <tbody>\n",
       "    <tr>\n",
       "      <th rowspan=\"2\" valign=\"top\">1.0</th>\n",
       "      <th>f</th>\n",
       "      <td>41.872690</td>\n",
       "    </tr>\n",
       "    <tr>\n",
       "      <th>m</th>\n",
       "      <td>31.967146</td>\n",
       "    </tr>\n",
       "    <tr>\n",
       "      <th rowspan=\"2\" valign=\"top\">1.3</th>\n",
       "      <th>f</th>\n",
       "      <td>56.120766</td>\n",
       "    </tr>\n",
       "    <tr>\n",
       "      <th>m</th>\n",
       "      <td>44.459212</td>\n",
       "    </tr>\n",
       "    <tr>\n",
       "      <th rowspan=\"2\" valign=\"top\">2.1</th>\n",
       "      <th>f</th>\n",
       "      <td>41.726679</td>\n",
       "    </tr>\n",
       "    <tr>\n",
       "      <th>m</th>\n",
       "      <td>43.124393</td>\n",
       "    </tr>\n",
       "    <tr>\n",
       "      <th rowspan=\"2\" valign=\"top\">2.9</th>\n",
       "      <th>f</th>\n",
       "      <td>31.952501</td>\n",
       "    </tr>\n",
       "    <tr>\n",
       "      <th>m</th>\n",
       "      <td>25.706275</td>\n",
       "    </tr>\n",
       "    <tr>\n",
       "      <th rowspan=\"2\" valign=\"top\">3.7</th>\n",
       "      <th>f</th>\n",
       "      <td>37.141402</td>\n",
       "    </tr>\n",
       "    <tr>\n",
       "      <th>m</th>\n",
       "      <td>36.589109</td>\n",
       "    </tr>\n",
       "    <tr>\n",
       "      <th rowspan=\"2\" valign=\"top\">4.4</th>\n",
       "      <th>f</th>\n",
       "      <td>34.872710</td>\n",
       "    </tr>\n",
       "    <tr>\n",
       "      <th>m</th>\n",
       "      <td>37.826616</td>\n",
       "    </tr>\n",
       "    <tr>\n",
       "      <th rowspan=\"2\" valign=\"top\">5.2</th>\n",
       "      <th>f</th>\n",
       "      <td>37.308826</td>\n",
       "    </tr>\n",
       "    <tr>\n",
       "      <th>m</th>\n",
       "      <td>51.090989</td>\n",
       "    </tr>\n",
       "    <tr>\n",
       "      <th rowspan=\"2\" valign=\"top\">6.0</th>\n",
       "      <th>f</th>\n",
       "      <td>38.115868</td>\n",
       "    </tr>\n",
       "    <tr>\n",
       "      <th>m</th>\n",
       "      <td>45.310970</td>\n",
       "    </tr>\n",
       "    <tr>\n",
       "      <th rowspan=\"2\" valign=\"top\">6.7</th>\n",
       "      <th>f</th>\n",
       "      <td>36.869809</td>\n",
       "    </tr>\n",
       "    <tr>\n",
       "      <th>m</th>\n",
       "      <td>47.363610</td>\n",
       "    </tr>\n",
       "    <tr>\n",
       "      <th rowspan=\"2\" valign=\"top\">7.5</th>\n",
       "      <th>f</th>\n",
       "      <td>29.736135</td>\n",
       "    </tr>\n",
       "    <tr>\n",
       "      <th>m</th>\n",
       "      <td>48.347609</td>\n",
       "    </tr>\n",
       "    <tr>\n",
       "      <th rowspan=\"2\" valign=\"top\">8.3</th>\n",
       "      <th>f</th>\n",
       "      <td>35.618218</td>\n",
       "    </tr>\n",
       "    <tr>\n",
       "      <th>m</th>\n",
       "      <td>30.165508</td>\n",
       "    </tr>\n",
       "    <tr>\n",
       "      <th rowspan=\"2\" valign=\"top\">9.0</th>\n",
       "      <th>f</th>\n",
       "      <td>23.305104</td>\n",
       "    </tr>\n",
       "    <tr>\n",
       "      <th>m</th>\n",
       "      <td>36.106776</td>\n",
       "    </tr>\n",
       "    <tr>\n",
       "      <th rowspan=\"2\" valign=\"top\">9.8</th>\n",
       "      <th>f</th>\n",
       "      <td>50.975998</td>\n",
       "    </tr>\n",
       "    <tr>\n",
       "      <th>m</th>\n",
       "      <td>43.944044</td>\n",
       "    </tr>\n",
       "    <tr>\n",
       "      <th rowspan=\"2\" valign=\"top\">10.0</th>\n",
       "      <th>f</th>\n",
       "      <td>26.940452</td>\n",
       "    </tr>\n",
       "    <tr>\n",
       "      <th>m</th>\n",
       "      <td>46.687709</td>\n",
       "    </tr>\n",
       "  </tbody>\n",
       "</table>\n",
       "</div>"
      ],
      "text/plain": [
       "                     stag\n",
       "novator gender           \n",
       "1.0     f       41.872690\n",
       "        m       31.967146\n",
       "1.3     f       56.120766\n",
       "        m       44.459212\n",
       "2.1     f       41.726679\n",
       "        m       43.124393\n",
       "2.9     f       31.952501\n",
       "        m       25.706275\n",
       "3.7     f       37.141402\n",
       "        m       36.589109\n",
       "4.4     f       34.872710\n",
       "        m       37.826616\n",
       "5.2     f       37.308826\n",
       "        m       51.090989\n",
       "6.0     f       38.115868\n",
       "        m       45.310970\n",
       "6.7     f       36.869809\n",
       "        m       47.363610\n",
       "7.5     f       29.736135\n",
       "        m       48.347609\n",
       "8.3     f       35.618218\n",
       "        m       30.165508\n",
       "9.0     f       23.305104\n",
       "        m       36.106776\n",
       "9.8     f       50.975998\n",
       "        m       43.944044\n",
       "10.0    f       26.940452\n",
       "        m       46.687709"
      ]
     },
     "execution_count": 17,
     "metadata": {},
     "output_type": "execute_result"
    }
   ],
   "source": [
    "pd.set_option('display.max_row', 500)\n",
    "pt1 = train.pivot_table(values = 'stag', index = ['novator', 'gender'], aggfunc = 'mean')\n",
    "pt1"
   ]
  },
  {
   "cell_type": "code",
   "execution_count": 18,
   "metadata": {},
   "outputs": [],
   "source": [
    "def fill_stag(df):\n",
    "    # 만약 stag가 결측치라면 피봇테이블에서 값을 가져와서 채운다.\n",
    "    if np.isnan(df['stag']): # 결측치이면 true, 아니면 false\n",
    "        return pt1.loc[df['novator'],df['gender']]\n",
    "    # 만약 stag가 결측치가 아니라면 원래 나이값을 사용하자\n",
    "    else:\n",
    "        return df['stag']"
   ]
  },
  {
   "cell_type": "code",
   "execution_count": 19,
   "metadata": {},
   "outputs": [
    {
     "name": "stdout",
     "output_type": "stream",
     "text": [
      "<class 'pandas.core.frame.DataFrame'>\n",
      "Int64Index: 699 entries, 1 to 699\n",
      "Data columns (total 16 columns):\n",
      " #   Column        Non-Null Count  Dtype  \n",
      "---  ------        --------------  -----  \n",
      " 0   stag          699 non-null    float64\n",
      " 1   event         699 non-null    int64  \n",
      " 2   gender        699 non-null    object \n",
      " 3   age           699 non-null    float64\n",
      " 4   industry      672 non-null    object \n",
      " 5   profession    699 non-null    object \n",
      " 6   traffic       699 non-null    object \n",
      " 7   coach         699 non-null    object \n",
      " 8   head_gender   699 non-null    object \n",
      " 9   greywage      679 non-null    object \n",
      " 10  way           678 non-null    object \n",
      " 11  extraversion  699 non-null    float64\n",
      " 12  independ      699 non-null    float64\n",
      " 13  selfcontrol   666 non-null    float64\n",
      " 14  anxiety       699 non-null    float64\n",
      " 15  novator       699 non-null    float64\n",
      "dtypes: float64(7), int64(1), object(8)\n",
      "memory usage: 92.8+ KB\n"
     ]
    }
   ],
   "source": [
    "train.info()"
   ]
  },
  {
   "cell_type": "code",
   "execution_count": 20,
   "metadata": {},
   "outputs": [],
   "source": [
    "train['stag'] = train.apply(fill_stag, axis = 1).astype('float64')"
   ]
  },
  {
   "cell_type": "code",
   "execution_count": 21,
   "metadata": {},
   "outputs": [],
   "source": [
    "test['stag'] = test.apply(fill_stag, axis = 1).astype('float64')"
   ]
  },
  {
   "cell_type": "code",
   "execution_count": 22,
   "metadata": {},
   "outputs": [
    {
     "name": "stdout",
     "output_type": "stream",
     "text": [
      "<class 'pandas.core.frame.DataFrame'>\n",
      "Int64Index: 430 entries, 700 to 1129\n",
      "Data columns (total 15 columns):\n",
      " #   Column        Non-Null Count  Dtype  \n",
      "---  ------        --------------  -----  \n",
      " 0   stag          430 non-null    float64\n",
      " 1   gender        430 non-null    object \n",
      " 2   age           430 non-null    float64\n",
      " 3   industry      430 non-null    object \n",
      " 4   profession    430 non-null    object \n",
      " 5   traffic       430 non-null    object \n",
      " 6   coach         430 non-null    object \n",
      " 7   head_gender   360 non-null    object \n",
      " 8   greywage      430 non-null    object \n",
      " 9   way           430 non-null    object \n",
      " 10  extraversion  430 non-null    float64\n",
      " 11  independ      430 non-null    float64\n",
      " 12  selfcontrol   385 non-null    float64\n",
      " 13  anxiety       430 non-null    float64\n",
      " 14  novator       430 non-null    float64\n",
      "dtypes: float64(7), object(8)\n",
      "memory usage: 53.8+ KB\n"
     ]
    }
   ],
   "source": [
    "test.info()"
   ]
  },
  {
   "cell_type": "markdown",
   "metadata": {},
   "source": [
    "# industry 채우기 - train"
   ]
  },
  {
   "cell_type": "code",
   "execution_count": 23,
   "metadata": {},
   "outputs": [
    {
     "data": {
      "text/plain": [
       "Retail             171\n",
       "manufacture         80\n",
       "Banks               79\n",
       "etc                 63\n",
       "IT                  44\n",
       "Consult             44\n",
       "State               40\n",
       "Building            32\n",
       "transport           26\n",
       "Telecom             21\n",
       "PowerGeneration     19\n",
       "Pharma              16\n",
       "Agriculture         11\n",
       "Mining              10\n",
       " HoReCa              8\n",
       "RealEstate           8\n",
       "Name: industry, dtype: int64"
      ]
     },
     "execution_count": 23,
     "metadata": {},
     "output_type": "execute_result"
    }
   ],
   "source": [
    "train['industry'].value_counts()"
   ]
  },
  {
   "cell_type": "code",
   "execution_count": 24,
   "metadata": {},
   "outputs": [
    {
     "data": {
      "text/plain": [
       "Retail             110\n",
       "IT                  77\n",
       "manufacture         62\n",
       "Banks               31\n",
       "Consult             30\n",
       "etc                 27\n",
       "PowerGeneration     18\n",
       "Telecom             15\n",
       "Mining              13\n",
       "State               12\n",
       "transport           11\n",
       "Building             9\n",
       "Agriculture          4\n",
       "Pharma               4\n",
       "RealEstate           4\n",
       " HoReCa              3\n",
       "Name: industry, dtype: int64"
      ]
     },
     "execution_count": 24,
     "metadata": {},
     "output_type": "execute_result"
    }
   ],
   "source": [
    "test['industry'].value_counts()"
   ]
  },
  {
   "cell_type": "code",
   "execution_count": 25,
   "metadata": {},
   "outputs": [],
   "source": [
    "train['industry'] = train['industry'].fillna(method='pad') #train 에는 없음\n",
    "# train['industry'] = train['industry'].fillna('N')"
   ]
  },
  {
   "cell_type": "code",
   "execution_count": 26,
   "metadata": {},
   "outputs": [],
   "source": [
    "# train.drop('industry', inplace = True, axis=1) # 인더스트리 드랍함"
   ]
  },
  {
   "cell_type": "code",
   "execution_count": 27,
   "metadata": {},
   "outputs": [],
   "source": [
    "# train['industry_new']"
   ]
  },
  {
   "cell_type": "code",
   "execution_count": 28,
   "metadata": {
    "scrolled": true
   },
   "outputs": [],
   "source": [
    "# train['industry_new'].value_counts()"
   ]
  },
  {
   "cell_type": "markdown",
   "metadata": {},
   "source": [
    "# Greywage 채우기 - train (20개)"
   ]
  },
  {
   "cell_type": "code",
   "execution_count": 29,
   "metadata": {},
   "outputs": [
    {
     "data": {
      "text/plain": [
       "white    602\n",
       "grey      77\n",
       "Name: greywage, dtype: int64"
      ]
     },
     "execution_count": 29,
     "metadata": {},
     "output_type": "execute_result"
    }
   ],
   "source": [
    "train['greywage'].value_counts()"
   ]
  },
  {
   "cell_type": "code",
   "execution_count": 30,
   "metadata": {},
   "outputs": [],
   "source": [
    "train['greywage'] = train['greywage'].fillna(method='pad')"
   ]
  },
  {
   "cell_type": "code",
   "execution_count": 31,
   "metadata": {},
   "outputs": [],
   "source": [
    "# train['greywage_new'].value_counts()"
   ]
  },
  {
   "cell_type": "code",
   "execution_count": null,
   "metadata": {},
   "outputs": [],
   "source": []
  },
  {
   "cell_type": "markdown",
   "metadata": {},
   "source": [
    "# 파이차트 사용해보기"
   ]
  },
  {
   "cell_type": "code",
   "execution_count": 32,
   "metadata": {},
   "outputs": [],
   "source": [
    "def pie_chart(feature):\n",
    "    feature_ratio = train[feature].value_counts(sort=False)\n",
    "    feature_size = feature_ratio.size\n",
    "    feature_index = feature_ratio.index\n",
    "    move = train[train['event'] == 1][feature].value_counts()\n",
    "    remain = train[train['event'] == 0][feature].value_counts() \n",
    "    \n",
    "    plt.plot(aspect='auto')\n",
    "    plt.pie(feature_ratio, labels=feature_index, autopct='%1.1f%%')\n",
    "    plt.title(feature + '\\'s ratio in total')\n",
    "    plt.show()\n",
    "    \n",
    "    for i, index in enumerate(feature_index):\n",
    "        plt.subplot(1, feature_size + 1, i + 1, aspect='equal')\n",
    "        plt.pie([move[index], remain[index]], labels=['Move', 'Remain'], autopct='%1.1f%%')\n",
    "        plt.title(str(index) + '\\'s ratio')\n",
    "    \n",
    "    plt.show()"
   ]
  },
  {
   "cell_type": "code",
   "execution_count": 33,
   "metadata": {
    "scrolled": true
   },
   "outputs": [],
   "source": [
    "# pie_chart('industry_new')"
   ]
  },
  {
   "cell_type": "code",
   "execution_count": 34,
   "metadata": {},
   "outputs": [
    {
     "data": {
      "image/png": "[encoded data removed]",
      "text/plain": [
       "<Figure size 432x288 with 1 Axes>"
      ]
     },
     "metadata": {},
     "output_type": "display_data"
    },
    {
     "data": {
      "image/png": "[encoded data removed]",
      "text/plain": [
       "<Figure size 432x288 with 2 Axes>"
      ]
     },
     "metadata": {},
     "output_type": "display_data"
    }
   ],
   "source": [
    "pie_chart('greywage')"
   ]
  },
  {
   "cell_type": "markdown",
   "metadata": {},
   "source": [
    "# 시각화"
   ]
  },
  {
   "cell_type": "markdown",
   "metadata": {},
   "source": [
    "### 일한 시간(stag) & 임금투명성(greywage) 와의 관계"
   ]
  },
  {
   "cell_type": "code",
   "execution_count": 35,
   "metadata": {},
   "outputs": [],
   "source": [
    "# plt.figure(figsize  = (15,5))\n",
    "# sns.violinplot(data = train,\n",
    "#               x = 'greywage_new',\n",
    "#               y = 'stag',\n",
    "#               hue = 'event',\n",
    "#               split = True)"
   ]
  },
  {
   "cell_type": "code",
   "execution_count": 36,
   "metadata": {},
   "outputs": [],
   "source": [
    "# 0~50일 사이 이직률이 높다?"
   ]
  },
  {
   "cell_type": "code",
   "execution_count": 37,
   "metadata": {},
   "outputs": [],
   "source": [
    "# plt.figure(figsize  = (15,5))\n",
    "# sns.violinplot(data = train,\n",
    "#               x = 'greywage_new',\n",
    "#               y = 'age',\n",
    "#               hue = 'event',\n",
    "#               split = True)"
   ]
  },
  {
   "cell_type": "code",
   "execution_count": 38,
   "metadata": {},
   "outputs": [],
   "source": [
    "# 불투명일 때 나이가 30이상인 사람들은 이직률이 낮았다?"
   ]
  },
  {
   "cell_type": "code",
   "execution_count": null,
   "metadata": {},
   "outputs": [],
   "source": []
  },
  {
   "cell_type": "code",
   "execution_count": null,
   "metadata": {},
   "outputs": [],
   "source": []
  },
  {
   "cell_type": "code",
   "execution_count": null,
   "metadata": {},
   "outputs": [],
   "source": []
  },
  {
   "cell_type": "markdown",
   "metadata": {},
   "source": [
    "# way 채우기 - train(21개)"
   ]
  },
  {
   "cell_type": "markdown",
   "metadata": {},
   "source": [
    "### way와 event와의 관계"
   ]
  },
  {
   "cell_type": "code",
   "execution_count": 39,
   "metadata": {
    "scrolled": true
   },
   "outputs": [
    {
     "data": {
      "text/plain": [
       "<AxesSubplot:xlabel='way', ylabel='count'>"
      ]
     },
     "execution_count": 39,
     "metadata": {},
     "output_type": "execute_result"
    },
    {
     "data": {
      "image/png": "[encoded data removed]",
      "text/plain": [
       "<Figure size 432x288 with 1 Axes>"
      ]
     },
     "metadata": {
      "needs_background": "light"
     },
     "output_type": "display_data"
    }
   ],
   "source": [
    "sns.countplot(data = train, x = 'way', hue='event')"
   ]
  },
  {
   "cell_type": "code",
   "execution_count": 40,
   "metadata": {},
   "outputs": [],
   "source": [
    "# 버스일때 이직률이 높음?"
   ]
  },
  {
   "cell_type": "code",
   "execution_count": 41,
   "metadata": {},
   "outputs": [],
   "source": [
    "train['way'] = train['way'].fillna(method='pad')"
   ]
  },
  {
   "cell_type": "code",
   "execution_count": 42,
   "metadata": {},
   "outputs": [
    {
     "data": {
      "text/plain": [
       "bus     436\n",
       "car     189\n",
       "foot     74\n",
       "Name: way, dtype: int64"
      ]
     },
     "execution_count": 42,
     "metadata": {},
     "output_type": "execute_result"
    }
   ],
   "source": [
    "train['way'].value_counts()"
   ]
  },
  {
   "cell_type": "code",
   "execution_count": 43,
   "metadata": {},
   "outputs": [],
   "source": [
    "# train['way_new'].value_counts()"
   ]
  },
  {
   "cell_type": "markdown",
   "metadata": {},
   "source": [
    "# selfcontrol 채우기 - test(33개),train(45개)"
   ]
  },
  {
   "cell_type": "code",
   "execution_count": 44,
   "metadata": {},
   "outputs": [
    {
     "data": {
      "text/plain": [
       "5.7     103\n",
       "4.1      94\n",
       "4.9      93\n",
       "6.4      77\n",
       "7.2      76\n",
       "8.0      55\n",
       "3.3      51\n",
       "2.6      44\n",
       "8.7      28\n",
       "9.5      17\n",
       "1.8      15\n",
       "10.0      7\n",
       "1.0       6\n",
       "Name: selfcontrol, dtype: int64"
      ]
     },
     "execution_count": 44,
     "metadata": {},
     "output_type": "execute_result"
    }
   ],
   "source": [
    "train['selfcontrol'].value_counts()"
   ]
  },
  {
   "cell_type": "code",
   "execution_count": 45,
   "metadata": {},
   "outputs": [],
   "source": [
    "train['selfcontrol'] = train['selfcontrol'].fillna(method='pad')"
   ]
  },
  {
   "cell_type": "code",
   "execution_count": 46,
   "metadata": {},
   "outputs": [],
   "source": [
    "# train['selfcontrol_new'].value_counts()"
   ]
  },
  {
   "cell_type": "code",
   "execution_count": 47,
   "metadata": {},
   "outputs": [
    {
     "data": {
      "text/plain": [
       "6.4     63\n",
       "4.1     51\n",
       "7.2     45\n",
       "5.7     43\n",
       "4.9     39\n",
       "3.3     34\n",
       "8.0     28\n",
       "8.7     27\n",
       "2.6     26\n",
       "9.5     12\n",
       "1.8      9\n",
       "10.0     5\n",
       "1.0      3\n",
       "Name: selfcontrol, dtype: int64"
      ]
     },
     "execution_count": 47,
     "metadata": {},
     "output_type": "execute_result"
    }
   ],
   "source": [
    "test['selfcontrol'].value_counts()"
   ]
  },
  {
   "cell_type": "code",
   "execution_count": 48,
   "metadata": {},
   "outputs": [],
   "source": [
    "test['selfcontrol'] = test['selfcontrol'].fillna(method='pad')"
   ]
  },
  {
   "cell_type": "code",
   "execution_count": 49,
   "metadata": {},
   "outputs": [],
   "source": [
    "# test['selfcontrol_new'].value_counts()"
   ]
  },
  {
   "cell_type": "code",
   "execution_count": 50,
   "metadata": {},
   "outputs": [
    {
     "name": "stdout",
     "output_type": "stream",
     "text": [
      "<class 'pandas.core.frame.DataFrame'>\n",
      "Int64Index: 699 entries, 1 to 699\n",
      "Data columns (total 16 columns):\n",
      " #   Column        Non-Null Count  Dtype  \n",
      "---  ------        --------------  -----  \n",
      " 0   stag          699 non-null    float64\n",
      " 1   event         699 non-null    int64  \n",
      " 2   gender        699 non-null    object \n",
      " 3   age           699 non-null    float64\n",
      " 4   industry      699 non-null    object \n",
      " 5   profession    699 non-null    object \n",
      " 6   traffic       699 non-null    object \n",
      " 7   coach         699 non-null    object \n",
      " 8   head_gender   699 non-null    object \n",
      " 9   greywage      699 non-null    object \n",
      " 10  way           699 non-null    object \n",
      " 11  extraversion  699 non-null    float64\n",
      " 12  independ      699 non-null    float64\n",
      " 13  selfcontrol   699 non-null    float64\n",
      " 14  anxiety       699 non-null    float64\n",
      " 15  novator       699 non-null    float64\n",
      "dtypes: float64(7), int64(1), object(8)\n",
      "memory usage: 112.8+ KB\n"
     ]
    }
   ],
   "source": [
    "train.info()"
   ]
  },
  {
   "cell_type": "markdown",
   "metadata": {},
   "source": [
    "# head_gender 채우기 test(70개)"
   ]
  },
  {
   "cell_type": "code",
   "execution_count": 51,
   "metadata": {},
   "outputs": [
    {
     "data": {
      "text/plain": [
       "m    205\n",
       "f    155\n",
       "Name: head_gender, dtype: int64"
      ]
     },
     "execution_count": 51,
     "metadata": {},
     "output_type": "execute_result"
    }
   ],
   "source": [
    "test['head_gender'].value_counts()"
   ]
  },
  {
   "cell_type": "code",
   "execution_count": 52,
   "metadata": {},
   "outputs": [],
   "source": [
    "test['head_gender'] = test['head_gender'].fillna(method='pad')"
   ]
  },
  {
   "cell_type": "code",
   "execution_count": 53,
   "metadata": {},
   "outputs": [],
   "source": [
    "# test['head_gender_new'].value_counts()"
   ]
  },
  {
   "cell_type": "markdown",
   "metadata": {},
   "source": [
    "# 예전 데이터 지우기"
   ]
  },
  {
   "cell_type": "markdown",
   "metadata": {},
   "source": [
    "### train 에서."
   ]
  },
  {
   "cell_type": "code",
   "execution_count": 54,
   "metadata": {},
   "outputs": [
    {
     "name": "stdout",
     "output_type": "stream",
     "text": [
      "<class 'pandas.core.frame.DataFrame'>\n",
      "Int64Index: 699 entries, 1 to 699\n",
      "Data columns (total 16 columns):\n",
      " #   Column        Non-Null Count  Dtype  \n",
      "---  ------        --------------  -----  \n",
      " 0   stag          699 non-null    float64\n",
      " 1   event         699 non-null    int64  \n",
      " 2   gender        699 non-null    object \n",
      " 3   age           699 non-null    float64\n",
      " 4   industry      699 non-null    object \n",
      " 5   profession    699 non-null    object \n",
      " 6   traffic       699 non-null    object \n",
      " 7   coach         699 non-null    object \n",
      " 8   head_gender   699 non-null    object \n",
      " 9   greywage      699 non-null    object \n",
      " 10  way           699 non-null    object \n",
      " 11  extraversion  699 non-null    float64\n",
      " 12  independ      699 non-null    float64\n",
      " 13  selfcontrol   699 non-null    float64\n",
      " 14  anxiety       699 non-null    float64\n",
      " 15  novator       699 non-null    float64\n",
      "dtypes: float64(7), int64(1), object(8)\n",
      "memory usage: 112.8+ KB\n"
     ]
    }
   ],
   "source": [
    "train.info() # industry, greywage, way, selfcontrol 지우기"
   ]
  },
  {
   "cell_type": "code",
   "execution_count": 55,
   "metadata": {},
   "outputs": [],
   "source": [
    "# industry, greywage, way, selfcontrol 지우기\n",
    "# train.drop('industry', inplace = True, axis=1) # 인더스트리 드랍함.\n",
    "# train.drop('greywage', inplace =True, axis=1)\n",
    "# train.drop('way', inplace =True, axis=1)\n",
    "# train.drop('selfcontrol', inplace =True, axis=1)"
   ]
  },
  {
   "cell_type": "markdown",
   "metadata": {},
   "source": [
    "### test 에서."
   ]
  },
  {
   "cell_type": "code",
   "execution_count": 56,
   "metadata": {},
   "outputs": [
    {
     "name": "stdout",
     "output_type": "stream",
     "text": [
      "<class 'pandas.core.frame.DataFrame'>\n",
      "Int64Index: 430 entries, 700 to 1129\n",
      "Data columns (total 15 columns):\n",
      " #   Column        Non-Null Count  Dtype  \n",
      "---  ------        --------------  -----  \n",
      " 0   stag          430 non-null    float64\n",
      " 1   gender        430 non-null    object \n",
      " 2   age           430 non-null    float64\n",
      " 3   industry      430 non-null    object \n",
      " 4   profession    430 non-null    object \n",
      " 5   traffic       430 non-null    object \n",
      " 6   coach         430 non-null    object \n",
      " 7   head_gender   430 non-null    object \n",
      " 8   greywage      430 non-null    object \n",
      " 9   way           430 non-null    object \n",
      " 10  extraversion  430 non-null    float64\n",
      " 11  independ      430 non-null    float64\n",
      " 12  selfcontrol   430 non-null    float64\n",
      " 13  anxiety       430 non-null    float64\n",
      " 14  novator       430 non-null    float64\n",
      "dtypes: float64(7), object(8)\n",
      "memory usage: 53.8+ KB\n"
     ]
    }
   ],
   "source": [
    "test.info()"
   ]
  },
  {
   "cell_type": "code",
   "execution_count": 57,
   "metadata": {},
   "outputs": [],
   "source": [
    "# selfcontrol, head_gender 지우기\n",
    "# test.drop('selfcontrol', inplace = True, axis=1)\n",
    "# test.drop('head_gender', inplace = True, axis=1)"
   ]
  },
  {
   "cell_type": "code",
   "execution_count": 58,
   "metadata": {},
   "outputs": [],
   "source": [
    "y_train = train['event']\n",
    "X_train = train.drop('event', axis=1)\n",
    "X_test = test"
   ]
  },
  {
   "cell_type": "code",
   "execution_count": 59,
   "metadata": {},
   "outputs": [
    {
     "data": {
      "text/plain": [
       "(699, 15)"
      ]
     },
     "execution_count": 59,
     "metadata": {},
     "output_type": "execute_result"
    }
   ],
   "source": [
    "X_train.shape"
   ]
  },
  {
   "cell_type": "code",
   "execution_count": 60,
   "metadata": {},
   "outputs": [
    {
     "data": {
      "text/plain": [
       "(699,)"
      ]
     },
     "execution_count": 60,
     "metadata": {},
     "output_type": "execute_result"
    }
   ],
   "source": [
    "y_train.shape"
   ]
  },
  {
   "cell_type": "code",
   "execution_count": 61,
   "metadata": {},
   "outputs": [
    {
     "data": {
      "text/plain": [
       "(430, 15)"
      ]
     },
     "execution_count": 61,
     "metadata": {},
     "output_type": "execute_result"
    }
   ],
   "source": [
    "X_test.shape"
   ]
  },
  {
   "cell_type": "code",
   "execution_count": 62,
   "metadata": {},
   "outputs": [
    {
     "name": "stdout",
     "output_type": "stream",
     "text": [
      "<class 'pandas.core.frame.DataFrame'>\n",
      "Int64Index: 699 entries, 1 to 699\n",
      "Data columns (total 15 columns):\n",
      " #   Column        Non-Null Count  Dtype  \n",
      "---  ------        --------------  -----  \n",
      " 0   stag          699 non-null    float64\n",
      " 1   gender        699 non-null    object \n",
      " 2   age           699 non-null    float64\n",
      " 3   industry      699 non-null    object \n",
      " 4   profession    699 non-null    object \n",
      " 5   traffic       699 non-null    object \n",
      " 6   coach         699 non-null    object \n",
      " 7   head_gender   699 non-null    object \n",
      " 8   greywage      699 non-null    object \n",
      " 9   way           699 non-null    object \n",
      " 10  extraversion  699 non-null    float64\n",
      " 11  independ      699 non-null    float64\n",
      " 12  selfcontrol   699 non-null    float64\n",
      " 13  anxiety       699 non-null    float64\n",
      " 14  novator       699 non-null    float64\n",
      "dtypes: float64(7), object(8)\n",
      "memory usage: 107.4+ KB\n"
     ]
    }
   ],
   "source": [
    "X_train.info()"
   ]
  },
  {
   "cell_type": "code",
   "execution_count": 63,
   "metadata": {},
   "outputs": [],
   "source": [
    "cat_feature = ['gender','industry','profession','traffic','coach','head_gender','greywage','way']"
   ]
  },
  {
   "cell_type": "code",
   "execution_count": 64,
   "metadata": {},
   "outputs": [],
   "source": [
    "for i in cat_feature:\n",
    "    dummy = pd.get_dummies(train[i],prefix=i)\n",
    "    X_train = pd.concat([X_train,dummy],axis = 1)\n",
    "    X_train.drop(i,axis=1,inplace=True)"
   ]
  },
  {
   "cell_type": "code",
   "execution_count": 65,
   "metadata": {},
   "outputs": [],
   "source": [
    "for i in cat_feature:\n",
    "    dummy = pd.get_dummies(test[i], prefix = i)\n",
    "    X_test = pd.concat([X_test,dummy], axis = 1)\n",
    "    X_test.drop(i, axis = 1, inplace = True)"
   ]
  },
  {
   "cell_type": "code",
   "execution_count": 66,
   "metadata": {},
   "outputs": [
    {
     "name": "stdout",
     "output_type": "stream",
     "text": [
      "<class 'pandas.core.frame.DataFrame'>\n",
      "Int64Index: 430 entries, 700 to 1129\n",
      "Data columns (total 58 columns):\n",
      " #   Column                          Non-Null Count  Dtype  \n",
      "---  ------                          --------------  -----  \n",
      " 0   stag                            430 non-null    float64\n",
      " 1   age                             430 non-null    float64\n",
      " 2   extraversion                    430 non-null    float64\n",
      " 3   independ                        430 non-null    float64\n",
      " 4   selfcontrol                     430 non-null    float64\n",
      " 5   anxiety                         430 non-null    float64\n",
      " 6   novator                         430 non-null    float64\n",
      " 7   gender_f                        430 non-null    uint8  \n",
      " 8   gender_m                        430 non-null    uint8  \n",
      " 9   industry_ HoReCa                430 non-null    uint8  \n",
      " 10  industry_Agriculture            430 non-null    uint8  \n",
      " 11  industry_Banks                  430 non-null    uint8  \n",
      " 12  industry_Building               430 non-null    uint8  \n",
      " 13  industry_Consult                430 non-null    uint8  \n",
      " 14  industry_IT                     430 non-null    uint8  \n",
      " 15  industry_Mining                 430 non-null    uint8  \n",
      " 16  industry_Pharma                 430 non-null    uint8  \n",
      " 17  industry_PowerGeneration        430 non-null    uint8  \n",
      " 18  industry_RealEstate             430 non-null    uint8  \n",
      " 19  industry_Retail                 430 non-null    uint8  \n",
      " 20  industry_State                  430 non-null    uint8  \n",
      " 21  industry_Telecom                430 non-null    uint8  \n",
      " 22  industry_etc                    430 non-null    uint8  \n",
      " 23  industry_manufacture            430 non-null    uint8  \n",
      " 24  industry_transport              430 non-null    uint8  \n",
      " 25  profession_Accounting           430 non-null    uint8  \n",
      " 26  profession_BusinessDevelopment  430 non-null    uint8  \n",
      " 27  profession_Commercial           430 non-null    uint8  \n",
      " 28  profession_Consult              430 non-null    uint8  \n",
      " 29  profession_Engineer             430 non-null    uint8  \n",
      " 30  profession_Finan?               430 non-null    uint8  \n",
      " 31  profession_HR                   430 non-null    uint8  \n",
      " 32  profession_IT                   430 non-null    uint8  \n",
      " 33  profession_Law                  430 non-null    uint8  \n",
      " 34  profession_Marketing            430 non-null    uint8  \n",
      " 35  profession_PR                   430 non-null    uint8  \n",
      " 36  profession_Sales                430 non-null    uint8  \n",
      " 37  profession_Teaching             430 non-null    uint8  \n",
      " 38  profession_etc                  430 non-null    uint8  \n",
      " 39  profession_manage               430 non-null    uint8  \n",
      " 40  traffic_KA                      430 non-null    uint8  \n",
      " 41  traffic_advert                  430 non-null    uint8  \n",
      " 42  traffic_empjs                   430 non-null    uint8  \n",
      " 43  traffic_friends                 430 non-null    uint8  \n",
      " 44  traffic_rabrecNErab             430 non-null    uint8  \n",
      " 45  traffic_recNErab                430 non-null    uint8  \n",
      " 46  traffic_referal                 430 non-null    uint8  \n",
      " 47  traffic_youjs                   430 non-null    uint8  \n",
      " 48  coach_my head                   430 non-null    uint8  \n",
      " 49  coach_no                        430 non-null    uint8  \n",
      " 50  coach_yes                       430 non-null    uint8  \n",
      " 51  head_gender_f                   430 non-null    uint8  \n",
      " 52  head_gender_m                   430 non-null    uint8  \n",
      " 53  greywage_grey                   430 non-null    uint8  \n",
      " 54  greywage_white                  430 non-null    uint8  \n",
      " 55  way_bus                         430 non-null    uint8  \n",
      " 56  way_car                         430 non-null    uint8  \n",
      " 57  way_foot                        430 non-null    uint8  \n",
      "dtypes: float64(7), uint8(51)\n",
      "memory usage: 48.3 KB\n"
     ]
    }
   ],
   "source": [
    "X_test.info()"
   ]
  },
  {
   "cell_type": "code",
   "execution_count": 67,
   "metadata": {},
   "outputs": [
    {
     "name": "stdout",
     "output_type": "stream",
     "text": [
      "<class 'pandas.core.frame.DataFrame'>\n",
      "Int64Index: 699 entries, 1 to 699\n",
      "Data columns (total 58 columns):\n",
      " #   Column                          Non-Null Count  Dtype  \n",
      "---  ------                          --------------  -----  \n",
      " 0   stag                            699 non-null    float64\n",
      " 1   age                             699 non-null    float64\n",
      " 2   extraversion                    699 non-null    float64\n",
      " 3   independ                        699 non-null    float64\n",
      " 4   selfcontrol                     699 non-null    float64\n",
      " 5   anxiety                         699 non-null    float64\n",
      " 6   novator                         699 non-null    float64\n",
      " 7   gender_f                        699 non-null    uint8  \n",
      " 8   gender_m                        699 non-null    uint8  \n",
      " 9   industry_ HoReCa                699 non-null    uint8  \n",
      " 10  industry_Agriculture            699 non-null    uint8  \n",
      " 11  industry_Banks                  699 non-null    uint8  \n",
      " 12  industry_Building               699 non-null    uint8  \n",
      " 13  industry_Consult                699 non-null    uint8  \n",
      " 14  industry_IT                     699 non-null    uint8  \n",
      " 15  industry_Mining                 699 non-null    uint8  \n",
      " 16  industry_Pharma                 699 non-null    uint8  \n",
      " 17  industry_PowerGeneration        699 non-null    uint8  \n",
      " 18  industry_RealEstate             699 non-null    uint8  \n",
      " 19  industry_Retail                 699 non-null    uint8  \n",
      " 20  industry_State                  699 non-null    uint8  \n",
      " 21  industry_Telecom                699 non-null    uint8  \n",
      " 22  industry_etc                    699 non-null    uint8  \n",
      " 23  industry_manufacture            699 non-null    uint8  \n",
      " 24  industry_transport              699 non-null    uint8  \n",
      " 25  profession_Accounting           699 non-null    uint8  \n",
      " 26  profession_BusinessDevelopment  699 non-null    uint8  \n",
      " 27  profession_Commercial           699 non-null    uint8  \n",
      " 28  profession_Consult              699 non-null    uint8  \n",
      " 29  profession_Engineer             699 non-null    uint8  \n",
      " 30  profession_Finan?               699 non-null    uint8  \n",
      " 31  profession_HR                   699 non-null    uint8  \n",
      " 32  profession_IT                   699 non-null    uint8  \n",
      " 33  profession_Law                  699 non-null    uint8  \n",
      " 34  profession_Marketing            699 non-null    uint8  \n",
      " 35  profession_PR                   699 non-null    uint8  \n",
      " 36  profession_Sales                699 non-null    uint8  \n",
      " 37  profession_Teaching             699 non-null    uint8  \n",
      " 38  profession_etc                  699 non-null    uint8  \n",
      " 39  profession_manage               699 non-null    uint8  \n",
      " 40  traffic_KA                      699 non-null    uint8  \n",
      " 41  traffic_advert                  699 non-null    uint8  \n",
      " 42  traffic_empjs                   699 non-null    uint8  \n",
      " 43  traffic_friends                 699 non-null    uint8  \n",
      " 44  traffic_rabrecNErab             699 non-null    uint8  \n",
      " 45  traffic_recNErab                699 non-null    uint8  \n",
      " 46  traffic_referal                 699 non-null    uint8  \n",
      " 47  traffic_youjs                   699 non-null    uint8  \n",
      " 48  coach_my head                   699 non-null    uint8  \n",
      " 49  coach_no                        699 non-null    uint8  \n",
      " 50  coach_yes                       699 non-null    uint8  \n",
      " 51  head_gender_f                   699 non-null    uint8  \n",
      " 52  head_gender_m                   699 non-null    uint8  \n",
      " 53  greywage_grey                   699 non-null    uint8  \n",
      " 54  greywage_white                  699 non-null    uint8  \n",
      " 55  way_bus                         699 non-null    uint8  \n",
      " 56  way_car                         699 non-null    uint8  \n",
      " 57  way_foot                        699 non-null    uint8  \n",
      "dtypes: float64(7), uint8(51)\n",
      "memory usage: 98.5 KB\n"
     ]
    }
   ],
   "source": [
    "X_train.info()"
   ]
  },
  {
   "cell_type": "code",
   "execution_count": 69,
   "metadata": {},
   "outputs": [
    {
     "data": {
      "text/plain": [
       "set()"
      ]
     },
     "execution_count": 69,
     "metadata": {},
     "output_type": "execute_result"
    }
   ],
   "source": [
    "set(X_train.columns) -  set(X_test.columns)"
   ]
  },
  {
   "cell_type": "code",
   "execution_count": 70,
   "metadata": {},
   "outputs": [],
   "source": [
    "from sklearn.neighbors import KNeighborsClassifier\n",
    "from sklearn.model_selection import cross_val_score"
   ]
  },
  {
   "cell_type": "markdown",
   "metadata": {},
   "source": [
    "# KNN 모델"
   ]
  },
  {
   "cell_type": "code",
   "execution_count": 90,
   "metadata": {},
   "outputs": [],
   "source": [
    "knn_model = KNeighborsClassifier(n_neighbors=3)"
   ]
  },
  {
   "cell_type": "code",
   "execution_count": 91,
   "metadata": {},
   "outputs": [
    {
     "data": {
      "text/plain": [
       "array([0.50714286, 0.65714286, 0.54285714, 0.6       , 0.5971223 ])"
      ]
     },
     "execution_count": 91,
     "metadata": {},
     "output_type": "execute_result"
    }
   ],
   "source": [
    "result = cross_val_score(knn_model, X_train, y_train, cv=5)\n",
    "result"
   ]
  },
  {
   "cell_type": "markdown",
   "metadata": {},
   "source": [
    "### Scaler"
   ]
  },
  {
   "cell_type": "code",
   "execution_count": 96,
   "metadata": {},
   "outputs": [],
   "source": [
    "from sklearn.preprocessing import StandardScaler"
   ]
  },
  {
   "cell_type": "code",
   "execution_count": 97,
   "metadata": {},
   "outputs": [],
   "source": [
    "scaler = StandardScaler()"
   ]
  },
  {
   "cell_type": "code",
   "execution_count": 98,
   "metadata": {},
   "outputs": [
    {
     "data": {
      "text/plain": [
       "StandardScaler()"
      ]
     },
     "execution_count": 98,
     "metadata": {},
     "output_type": "execute_result"
    }
   ],
   "source": [
    "scaler.fit(X_train)"
   ]
  },
  {
   "cell_type": "code",
   "execution_count": 99,
   "metadata": {},
   "outputs": [
    {
     "data": {
      "text/plain": [
       "array([[-1.01230564,  0.67278718,  0.31377326, ...,  0.7766666 ,\n",
       "        -0.60875959, -0.34409301],\n",
       "       [-0.47376281,  0.37568779,  0.31377326, ...,  0.7766666 ,\n",
       "        -0.60875959, -0.34409301],\n",
       "       [-0.71138789,  0.67278718,  0.31377326, ...,  0.7766666 ,\n",
       "        -0.60875959, -0.34409301],\n",
       "       ...,\n",
       "       [ 1.12743052,  0.07858839, -2.33404378, ...,  0.7766666 ,\n",
       "        -0.60875959, -0.34409301],\n",
       "       [ 0.09809195, -1.2583589 ,  1.63768178, ...,  0.7766666 ,\n",
       "        -0.60875959, -0.34409301],\n",
       "       [ 3.63692907, -0.06996131,  1.63768178, ...,  0.7766666 ,\n",
       "        -0.60875959, -0.34409301]])"
      ]
     },
     "execution_count": 99,
     "metadata": {},
     "output_type": "execute_result"
    }
   ],
   "source": [
    "transform_X_train = scaler.transform(X_train)\n",
    "transform_X_train"
   ]
  },
  {
   "cell_type": "code",
   "execution_count": 100,
   "metadata": {},
   "outputs": [
    {
     "data": {
      "text/plain": [
       "array([[-0.73692704,  2.15828417, -1.01013526, ..., -1.28755376,\n",
       "        -0.60875959,  2.90619097],\n",
       "       [ 0.69881705,  0.37568779,  1.19637894, ..., -1.28755376,\n",
       "         1.6426846 , -0.34409301],\n",
       "       [ 0.69881705,  0.37568779, -1.01013526, ..., -1.28755376,\n",
       "         1.6426846 , -0.34409301],\n",
       "       ...,\n",
       "       [ 2.76526697,  0.52423748, -0.56883242, ...,  0.7766666 ,\n",
       "        -0.60875959, -0.34409301],\n",
       "       [ 0.42010725,  3.04958236, -1.01013526, ...,  0.7766666 ,\n",
       "        -0.60875959, -0.34409301],\n",
       "       [-0.41047015, -0.21851101,  2.07898462, ..., -1.28755376,\n",
       "         1.6426846 , -0.34409301]])"
      ]
     },
     "execution_count": 100,
     "metadata": {},
     "output_type": "execute_result"
    }
   ],
   "source": [
    "transform_X_test = scaler.transform(X_test)\n",
    "transform_X_test"
   ]
  },
  {
   "cell_type": "code",
   "execution_count": 101,
   "metadata": {},
   "outputs": [],
   "source": [
    "result = cross_val_score(tree_model, transform_X_train, y_train, cv = 5)"
   ]
  },
  {
   "cell_type": "code",
   "execution_count": 102,
   "metadata": {},
   "outputs": [
    {
     "data": {
      "text/plain": [
       "array([0.45714286, 0.72142857, 0.47857143, 0.60714286, 0.64028777])"
      ]
     },
     "execution_count": 102,
     "metadata": {},
     "output_type": "execute_result"
    }
   ],
   "source": [
    "result"
   ]
  },
  {
   "cell_type": "code",
   "execution_count": null,
   "metadata": {},
   "outputs": [],
   "source": []
  },
  {
   "cell_type": "markdown",
   "metadata": {},
   "source": [
    "# 결정트리"
   ]
  },
  {
   "cell_type": "code",
   "execution_count": 133,
   "metadata": {},
   "outputs": [],
   "source": [
    "tree_model = DecisionTreeClassifier(max_depth = 5)"
   ]
  },
  {
   "cell_type": "code",
   "execution_count": 134,
   "metadata": {},
   "outputs": [],
   "source": [
    "result = cross_val_score(tree_model, X_train, y_train, cv = 5)"
   ]
  },
  {
   "cell_type": "code",
   "execution_count": 135,
   "metadata": {},
   "outputs": [
    {
     "data": {
      "text/plain": [
       "0.5709146968139774"
      ]
     },
     "execution_count": 135,
     "metadata": {},
     "output_type": "execute_result"
    }
   ],
   "source": [
    "result.mean()"
   ]
  },
  {
   "cell_type": "code",
   "execution_count": null,
   "metadata": {},
   "outputs": [],
   "source": []
  },
  {
   "cell_type": "code",
   "execution_count": null,
   "metadata": {},
   "outputs": [],
   "source": []
  },
  {
   "cell_type": "markdown",
   "metadata": {},
   "source": [
    "# 평가"
   ]
  },
  {
   "cell_type": "code",
   "execution_count": 143,
   "metadata": {},
   "outputs": [],
   "source": [
    "result = pd.read_csv('data2/submission.csv')"
   ]
  },
  {
   "cell_type": "code",
   "execution_count": 137,
   "metadata": {},
   "outputs": [],
   "source": [
    "# result"
   ]
  },
  {
   "cell_type": "code",
   "execution_count": null,
   "metadata": {},
   "outputs": [],
   "source": []
  },
  {
   "cell_type": "code",
   "execution_count": 138,
   "metadata": {},
   "outputs": [],
   "source": [
    "tree_model.fit(X_train, y_train)\n",
    "pre = tree_model.predict(X_test)"
   ]
  },
  {
   "cell_type": "code",
   "execution_count": 139,
   "metadata": {},
   "outputs": [
    {
     "data": {
      "text/plain": [
       "array([0, 0, 0, 1, 1, 1, 1, 1, 1, 0, 1, 1, 1, 1, 1, 1, 1, 1, 1, 1, 1, 1,\n",
       "       1, 1, 1, 1, 1, 1, 1, 1, 1, 1, 1, 1, 1, 1, 1, 1, 1, 1, 1, 1, 1, 1,\n",
       "       1, 1, 1, 1, 1, 1, 1, 1, 1, 1, 1, 1, 1, 1, 1, 1, 1, 1, 1, 1, 1, 1,\n",
       "       1, 1, 1, 1, 1, 1, 1, 1, 1, 1, 1, 1, 1, 1, 1, 1, 1, 1, 1, 1, 1, 1,\n",
       "       1, 1, 1, 0, 1, 1, 0, 0, 1, 0, 1, 1, 1, 1, 1, 1, 1, 1, 1, 1, 1, 1,\n",
       "       1, 0, 0, 1, 0, 1, 1, 1, 1, 1, 0, 0, 1, 1, 1, 1, 1, 1, 1, 1, 1, 1,\n",
       "       1, 1, 1, 1, 0, 1, 1, 1, 1, 0, 1, 1, 1, 1, 1, 1, 1, 1, 0, 0, 0, 0,\n",
       "       1, 0, 1, 1, 1, 0, 1, 0, 0, 0, 1, 1, 1, 1, 1, 1, 1, 1, 1, 1, 1, 0,\n",
       "       0, 1, 1, 0, 0, 1, 1, 1, 1, 1, 1, 1, 0, 1, 1, 1, 1, 1, 0, 1, 1, 1,\n",
       "       0, 1, 1, 1, 1, 1, 1, 1, 1, 1, 1, 0, 0, 1, 0, 0, 1, 1, 1, 1, 1, 0,\n",
       "       1, 1, 1, 1, 0, 0, 1, 1, 1, 0, 0, 0, 0, 1, 1, 1, 1, 1, 1, 1, 1, 1,\n",
       "       1, 1, 0, 1, 1, 1, 1, 1, 1, 1, 1, 0, 1, 1, 1, 1, 1, 1, 1, 0, 0, 1,\n",
       "       1, 1, 1, 1, 1, 1, 1, 1, 1, 1, 0, 1, 1, 1, 1, 1, 0, 0, 1, 1, 1, 1,\n",
       "       1, 0, 1, 1, 0, 1, 1, 0, 1, 1, 1, 1, 1, 1, 1, 1, 1, 1, 1, 0, 1, 1,\n",
       "       1, 1, 1, 1, 1, 1, 0, 1, 1, 1, 1, 1, 1, 1, 1, 1, 1, 1, 1, 1, 1, 0,\n",
       "       1, 1, 1, 1, 1, 1, 1, 1, 1, 1, 1, 1, 1, 0, 1, 0, 1, 1, 0, 1, 1, 1,\n",
       "       1, 1, 1, 1, 1, 1, 1, 1, 1, 1, 1, 0, 1, 0, 1, 1, 1, 1, 1, 1, 1, 1,\n",
       "       1, 0, 1, 1, 1, 1, 1, 1, 1, 1, 1, 1, 1, 1, 1, 1, 1, 1, 1, 1, 1, 1,\n",
       "       1, 1, 1, 0, 1, 1, 1, 0, 0, 1, 1, 1, 1, 1, 0, 0, 0, 1, 1, 1, 1, 1,\n",
       "       1, 1, 1, 1, 1, 1, 1, 1, 1, 1, 1, 1], dtype=int64)"
      ]
     },
     "execution_count": 139,
     "metadata": {},
     "output_type": "execute_result"
    }
   ],
   "source": [
    "pre"
   ]
  },
  {
   "cell_type": "code",
   "execution_count": 142,
   "metadata": {},
   "outputs": [
    {
     "data": {
      "text/plain": [
       "array([0.45714286, 0.71428571, 0.45714286, 0.58571429, 0.64028777])"
      ]
     },
     "execution_count": 142,
     "metadata": {},
     "output_type": "execute_result"
    }
   ],
   "source": [
    "result"
   ]
  },
  {
   "cell_type": "code",
   "execution_count": 144,
   "metadata": {
    "scrolled": true
   },
   "outputs": [],
   "source": [
    "result['event'] = pre"
   ]
  },
  {
   "cell_type": "code",
   "execution_count": 145,
   "metadata": {},
   "outputs": [],
   "source": [
    "result.to_csv('data2/submission.csv', index=False)"
   ]
  },
  {
   "cell_type": "code",
   "execution_count": null,
   "metadata": {},
   "outputs": [],
   "source": []
  },
  {
   "cell_type": "code",
   "execution_count": null,
   "metadata": {},
   "outputs": [],
   "source": []
  },
  {
   "cell_type": "code",
   "execution_count": null,
   "metadata": {},
   "outputs": [],
   "source": []
  },
  {
   "cell_type": "code",
   "execution_count": null,
   "metadata": {},
   "outputs": [],
   "source": []
  },
  {
   "cell_type": "code",
   "execution_count": null,
   "metadata": {},
   "outputs": [],
   "source": []
  },
  {
   "cell_type": "code",
   "execution_count": null,
   "metadata": {},
   "outputs": [],
   "source": []
  },
  {
   "cell_type": "code",
   "execution_count": null,
   "metadata": {},
   "outputs": [],
   "source": []
  },
  {
   "cell_type": "code",
   "execution_count": null,
   "metadata": {},
   "outputs": [],
   "source": []
  },
  {
   "cell_type": "code",
   "execution_count": null,
   "metadata": {},
   "outputs": [],
   "source": []
  },
  {
   "cell_type": "code",
   "execution_count": null,
   "metadata": {},
   "outputs": [],
   "source": []
  },
  {
   "cell_type": "markdown",
   "metadata": {},
   "source": [
    "# novator과 이직률의 관계 그래프 (쓸모없는듯)"
   ]
  },
  {
   "cell_type": "code",
   "execution_count": 68,
   "metadata": {},
   "outputs": [
    {
     "data": {
      "text/plain": [
       "<AxesSubplot:xlabel='novator', ylabel='count'>"
      ]
     },
     "execution_count": 68,
     "metadata": {},
     "output_type": "execute_result"
    },
    {
     "data": {
      "image/png": "[encoded data removed]",
      "text/plain": [
       "<Figure size 432x288 with 1 Axes>"
      ]
     },
     "metadata": {
      "needs_background": "light"
     },
     "output_type": "display_data"
    }
   ],
   "source": [
    "sns.countplot(data=train,x='novator', hue = 'event')"
   ]
  },
  {
   "cell_type": "code",
   "execution_count": null,
   "metadata": {},
   "outputs": [],
   "source": []
  },
  {
   "cell_type": "code",
   "execution_count": null,
   "metadata": {},
   "outputs": [],
   "source": []
  },
  {
   "cell_type": "code",
   "execution_count": null,
   "metadata": {},
   "outputs": [],
   "source": []
  },
  {
   "cell_type": "code",
   "execution_count": null,
   "metadata": {},
   "outputs": [],
   "source": []
  },
  {
   "cell_type": "code",
   "execution_count": null,
   "metadata": {},
   "outputs": [],
   "source": []
  },
  {
   "cell_type": "code",
   "execution_count": null,
   "metadata": {},
   "outputs": [],
   "source": []
  },
  {
   "cell_type": "code",
   "execution_count": null,
   "metadata": {},
   "outputs": [],
   "source": []
  },
  {
   "cell_type": "code",
   "execution_count": null,
   "metadata": {},
   "outputs": [],
   "source": []
  },
  {
   "cell_type": "code",
   "execution_count": null,
   "metadata": {},
   "outputs": [],
   "source": []
  },
  {
   "cell_type": "code",
   "execution_count": null,
   "metadata": {},
   "outputs": [],
   "source": []
  }
 ],
 "metadata": {
  "kernelspec": {
   "display_name": "Python 3",
   "language": "python",
   "name": "python3"
  },
  "language_info": {
   "codemirror_mode": {
    "name": "ipython",
    "version": 3
   },
   "file_extension": ".py",
   "mimetype": "text/x-python",
   "name": "python",
   "nbconvert_exporter": "python",
   "pygments_lexer": "ipython3",
   "version": "3.8.5"
  }
 },
 "nbformat": 4,
 "nbformat_minor": 4
}
