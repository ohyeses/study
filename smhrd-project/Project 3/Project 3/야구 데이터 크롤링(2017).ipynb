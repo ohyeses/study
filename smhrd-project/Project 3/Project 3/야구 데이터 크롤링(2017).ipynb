{
 "cells": [
  {
   "cell_type": "code",
   "execution_count": 1,
   "metadata": {},
   "outputs": [
    {
     "name": "stdout",
     "output_type": "stream",
     "text": [
      "Requirement already satisfied: selenium in c:\\users\\smhrd\\anaconda\\lib\\site-packages (3.141.0)\n",
      "Requirement already satisfied: urllib3 in c:\\users\\smhrd\\anaconda\\lib\\site-packages (from selenium) (1.25.11)\n"
     ]
    },
    {
     "name": "stderr",
     "output_type": "stream",
     "text": [
      "WARNING: You are using pip version 21.0.1; however, version 21.1 is available.\n",
      "You should consider upgrading via the 'c:\\users\\smhrd\\anaconda\\python.exe -m pip install --upgrade pip' command.\n"
     ]
    }
   ],
   "source": [
    "!pip install selenium"
   ]
  },
  {
   "cell_type": "code",
   "execution_count": 2,
   "metadata": {},
   "outputs": [],
   "source": [
    "import requests as req\n",
    "from bs4 import BeautifulSoup as bs\n",
    "import pandas as pd\n",
    "import numpy as np\n",
    "pd.set_option('display.max_row', 500)\n",
    "pd.set_option('display.max_columns', 100)\n",
    "\n",
    "# webdriver = 웹을 통제하기 위한 모듈\n",
    "# Keys = 웹을 통해 값을 입력하기 위한 모듈\n",
    "\n",
    "from selenium import webdriver as wb\n",
    "from selenium.webdriver.common.keys import Keys\n",
    "import time"
   ]
  },
  {
   "cell_type": "code",
   "execution_count": 3,
   "metadata": {},
   "outputs": [],
   "source": [
    "driver = wb.Chrome()\n",
    "url = 'https://sports.news.naver.com/kbaseball/schedule/index.nhn?date=20210320&month=10&year=2017&teamCode='\n",
    "driver.get(url)"
   ]
  },
  {
   "cell_type": "code",
   "execution_count": 4,
   "metadata": {},
   "outputs": [],
   "source": [
    "# 경기취소 불러오기\n",
    "\n",
    "#calendarWrap > div:nth-child(10) > table > tbody > tr:nth-child(1) > td.add_state > span.suspended\n",
    "\n",
    "# cancel_test = driver.find_elements_by_css_selector('calendarWrap > div:nth-child(10) > table > tbody > tr:nth-child(1) > td.add_state')"
   ]
  },
  {
   "cell_type": "code",
   "execution_count": 5,
   "metadata": {},
   "outputs": [],
   "source": [
    "# cancel_test"
   ]
  },
  {
   "cell_type": "code",
   "execution_count": 6,
   "metadata": {},
   "outputs": [],
   "source": [
    "# soup = bs(driver.page_source, 'lxml')\n",
    "# time_text = soup.select('.td_hour')\n",
    "# time_text"
   ]
  },
  {
   "cell_type": "code",
   "execution_count": null,
   "metadata": {},
   "outputs": [],
   "source": []
  },
  {
   "cell_type": "code",
   "execution_count": 7,
   "metadata": {},
   "outputs": [],
   "source": [
    "team_text = [] # 팀 이름\n",
    "day_text = [] # 경기 날짜\n",
    "times_text = [] # 시간 불러오기\n",
    "H_text = [] #안타\n",
    "HR_text = [] #홈런\n",
    "S_text = [] #도루\n",
    "ST_text = [] #삼진\n",
    "DU_text = [] #병살\n",
    "ER_text = [] #실책\n",
    "\n",
    "result_text = [] # 게임의 승패"
   ]
  },
  {
   "cell_type": "code",
   "execution_count": 8,
   "metadata": {},
   "outputs": [],
   "source": [
    "#result1 = driver.find_elements_by_css_selector('#content > div.section_tab > ul > li:nth-child(1) > div > a')\n",
    "#result1[0].click()"
   ]
  },
  {
   "cell_type": "code",
   "execution_count": 9,
   "metadata": {
    "scrolled": true
   },
   "outputs": [
    {
     "ename": "IndexError",
     "evalue": "list index out of range",
     "output_type": "error",
     "traceback": [
      "\u001b[1;31m---------------------------------------------------------------------------\u001b[0m",
      "\u001b[1;31mIndexError\u001b[0m                                Traceback (most recent call last)",
      "\u001b[1;32m<ipython-input-9-3255171f1cc2>\u001b[0m in \u001b[0;36m<module>\u001b[1;34m\u001b[0m\n\u001b[0;32m      4\u001b[0m \u001b[1;33m\u001b[0m\u001b[0m\n\u001b[0;32m      5\u001b[0m     \u001b[1;31m# 경기결과 버튼 클릭\u001b[0m\u001b[1;33m\u001b[0m\u001b[1;33m\u001b[0m\u001b[1;33m\u001b[0m\u001b[0m\n\u001b[1;32m----> 6\u001b[1;33m     \u001b[0mresult\u001b[0m\u001b[1;33m[\u001b[0m\u001b[0mi\u001b[0m\u001b[1;33m]\u001b[0m\u001b[1;33m.\u001b[0m\u001b[0mclick\u001b[0m\u001b[1;33m(\u001b[0m\u001b[1;33m)\u001b[0m\u001b[1;33m\u001b[0m\u001b[1;33m\u001b[0m\u001b[0m\n\u001b[0m\u001b[0;32m      7\u001b[0m \u001b[1;33m\u001b[0m\u001b[0m\n\u001b[0;32m      8\u001b[0m     \u001b[1;31m# 최근 열린 탭으로 전환\u001b[0m\u001b[1;33m\u001b[0m\u001b[1;33m\u001b[0m\u001b[1;33m\u001b[0m\u001b[0m\n",
      "\u001b[1;31mIndexError\u001b[0m: list index out of range"
     ]
    }
   ],
   "source": [
    "for i in range(0,1000,2):\n",
    "    result = driver.find_elements_by_css_selector('.td_btn>a')\n",
    "    soup = bs(driver.page_source, 'lxml')\n",
    "    \n",
    "    # 경기결과 버튼 클릭\n",
    "    result[i].click()\n",
    "    \n",
    "    # 최근 열린 탭으로 전환\n",
    "    driver.switch_to.window(driver.window_handles[-1])\n",
    "    # 로딩 기다리기\n",
    "    time.sleep(1.5)\n",
    "    \n",
    "    soup = bs(driver.page_source, 'lxml')\n",
    "    \n",
    "    try:\n",
    "        # 홈팀 데이터 추가하기\n",
    "        day = soup.select('#_gameCenterTopDate')\n",
    "        day_text.append(day[0].text.strip())\n",
    "        team = soup.select('#box_awayBg h4')\n",
    "        team_text.append(team[0].text.strip())\n",
    "        H = soup.select('#box_awayBg > dl > dd:nth-of-type(1) > em')\n",
    "        H_text.append(H[0].text.strip())\n",
    "        HR = soup.select('#box_awayBg > dl > dd:nth-of-type(2) > em')\n",
    "        HR_text.append(HR[0].text.strip())\n",
    "        S = soup.select('#box_awayBg > dl > dd:nth-of-type(3) > em')\n",
    "        S_text.append(S[0].text.strip())\n",
    "        ST = soup.select('#box_awayBg > dl > dd:nth-of-type(4) > em')\n",
    "        ST_text.append(ST[0].text.strip())\n",
    "        DU = soup.select('#box_awayBg > dl > dd:nth-of-type(5) > em')\n",
    "        DU_text.append(DU[0].text.strip())\n",
    "        ER = soup.select('#box_awayBg > dl > dd:nth-of-type(6) > em')\n",
    "        ER_text.append(ER[0].text.strip())\n",
    "        \n",
    "        # 승패 추가하기\n",
    "        try:\n",
    "            result = soup.select('#awayVsResult > span')\n",
    "            result_text.append(result[0].text.strip())\n",
    "        except:\n",
    "            result_text.append('무')\n",
    "\n",
    "        # 어웨이팀 데이터 추가하기\n",
    "        day = soup.select('#_gameCenterTopDate')\n",
    "        day_text.append(day[0].text.strip())\n",
    "        team = soup.select('#box_homeBg h4')\n",
    "        team_text.append(team[0].text.strip())\n",
    "        H = soup.select('#box_homeBg > dl > dd:nth-of-type(1) > em')\n",
    "        H_text.append(H[0].text.strip())\n",
    "        HR = soup.select('#box_homeBg > dl > dd:nth-of-type(2) > em')\n",
    "        HR_text.append(HR[0].text.strip())\n",
    "        S = soup.select('#box_homeBg > dl > dd:nth-of-type(3) > em')\n",
    "        S_text.append(S[0].text.strip())\n",
    "        ST = soup.select('#box_homeBg > dl > dd:nth-of-type(4) > em')\n",
    "        ST_text.append(ST[0].text.strip())\n",
    "        DU = soup.select('#box_homeBg > dl > dd:nth-of-type(5) > em')\n",
    "        DU_text.append(DU[0].text.strip())\n",
    "        ER = soup.select('#box_homeBg > dl > dd:nth-of-type(6) > em')\n",
    "        ER_text.append(ER[0].text.strip())\n",
    "\n",
    "        # 승패 추가하기\n",
    "        try:\n",
    "            result = soup.select('#homeVsResult > span')\n",
    "            result_text.append(result[0].text.strip())\n",
    "        except:\n",
    "            result_text.append('무')\n",
    "        \n",
    "        #문자중계에 들어가서 경기 시작시간 가져오기 \n",
    "        result1= driver.find_elements_by_css_selector('#content > div.section_tab > ul > li:nth-of-type(1) > div > a')\n",
    "        result1[0].click()\n",
    "        \n",
    "        time.sleep(1.5)\n",
    "        soup = bs(driver.page_source, 'lxml')\n",
    "   \n",
    "        times=soup.select('#timeAndWeather > span')\n",
    "        times_text.append(times[0].text.strip())\n",
    "        times_text.append(times[0].text.strip())\n",
    "        \n",
    "        # 현재 탭 닫기\n",
    "        driver.close()\n",
    "\n",
    "        # 맨 처음 탭으로 변경(0번 탭)\n",
    "        driver.switch_to.window(driver.window_handles[0])\n",
    "\n",
    "        # 로딩 기다리기\n",
    "        time.sleep(1.5)\n",
    "        \n",
    "    except:\n",
    "        break\n",
    "    "
   ]
  },
  {
   "cell_type": "code",
   "execution_count": null,
   "metadata": {},
   "outputs": [],
   "source": [
    "#del day_text[-1]\n",
    "#day_text.append('4.29일')"
   ]
  },
  {
   "cell_type": "code",
   "execution_count": 11,
   "metadata": {},
   "outputs": [
    {
     "name": "stdout",
     "output_type": "stream",
     "text": [
      "['10.1일', '10.1일', '10.1일', '10.1일', '10.1일', '10.1일', '10.2월', '10.2월', '10.3화', '10.3화', '10.3화', '10.3화', '10.3화', '10.3화', '10.3화', '10.3화', '10.3화', '10.3화', '10.5목', '10.5목', '10.8일', '10.8일', '10.9월', '10.9월', '10.11수', '10.11수', '10.13금', '10.13금', '10.15일', '10.15일', '10.17화', '10.17화', '10.18수', '10.18수', '10.20금', '10.20금', '10.21토', '10.21토', '10.25수', '10.25수', '10.26목', '10.26목', '10.28토', '10.28토', '10.29일', '10.29일', '10.30월', '10.30월']\n",
      "['14:00', '14:00', '14:00', '14:00', '14:00', '14:00', '14:00', '14:00', '14:00', '14:00', '14:00', '14:00', '15:00', '15:00', '15:00', '15:00', '17:00', '17:00', '|', '|', '|', '|', '|', '|', '|', '|', '|', '|', '|', '|', '|', '|', '|', '|', '|', '|', '|', '|', '|', '|', '|', '|', '|', '|', '|', '|', '|', '|']\n",
      "['KIA 타이거즈', 'kt wiz', '두산 베어스', '한화 이글스', '삼성 라이온즈', 'LG 트윈스', 'KIA 타이거즈', 'kt wiz', 'KIA 타이거즈', 'kt wiz', 'SK 와이번스', '두산 베어스', 'LG 트윈스', '롯데 자이언츠', 'NC 다이노스', '한화 이글스', '키움 히어로즈', '삼성 라이온즈', 'SK 와이번스', 'NC 다이노스', 'NC 다이노스', '롯데 자이언츠', 'NC 다이노스', '롯데 자이언츠', '롯데 자이언츠', 'NC 다이노스', '롯데 자이언츠', 'NC 다이노스', 'NC 다이노스', '롯데 자이언츠', 'NC 다이노스', '두산 베어스', 'NC 다이노스', '두산 베어스', '두산 베어스', 'NC 다이노스', '두산 베어스', 'NC 다이노스', '두산 베어스', 'KIA 타이거즈', '두산 베어스', 'KIA 타이거즈', 'KIA 타이거즈', '두산 베어스', 'KIA 타이거즈', '두산 베어스', 'KIA 타이거즈', '두산 베어스']\n",
      "['6', '25', '10', '9', '10', '10', '8', '9', '13', '12', '8', '6', '6', '6', '16', '15', '15', '12', '6', '13', '10', '9', '7', '3', '12', '13', '10', '6', '15', '8', '17', '9', '11', '15', '13', '9', '17', '12', '7', '6', '4', '5', '9', '7', '9', '9', '10', '11']\n",
      "['0', '3', '2', '2', '0', '0', '2', '0', '2', '1', '0', '1', '1', '0', '1', '2', '3', '2', '2', '2', '1', '1', '0', '0', '1', '5', '4', '0', '0', '0', '1', '1', '4', '4', '2', '0', '5', '1', '2', '1', '0', '0', '1', '1', '0', '0', '1', '0']\n",
      "['0', '1', '0', '0', '0', '0', '0', '0', '2', '0', '1', '0', '0', '0', '1', '0', '0', '0', '0', '1', '4', '1', '0', '1', '0', '0', '0', '1', '0', '0', '1', '0', '0', '2', '2', '0', '2', '0', '0', '1', '0', '1', '0', '0', '1', '0', '0', '0']\n",
      "['6', '8', '6', '4', '7', '8', '8', '8', '5', '9', '8', '5', '9', '4', '8', '6', '12', '5', '3', '8', '14', '8', '5', '5', '9', '10', '3', '11', '7', '9', '14', '11', '7', '6', '9', '7', '7', '5', '7', '6', '11', '4', '3', '5', '6', '8', '7', '9']\n",
      "['2', '1', '1', '0', '1', '0', '0', '0', '0', '1', '0', '1', '0', '0', '1', '0', '1', '0', '1', '0', '1', '0', '0', '1', '0', '0', '0', '0', '1', '0', '0', '2', '1', '0', '2', '1', '0', '2', '0', '1', '0', '2', '1', '0', '1', '0', '0', '1']\n",
      "['1', '0', '0', '0', '0', '0', '4', '1', '0', '0', '0', '2', '1', '0', '1', '2', '2', '1', '0', '0', '0', '1', '1', '1', '0', '2', '0', '0', '0', '1', '0', '2', '1', '1', '0', '1', '0', '0', '1', '1', '1', '0', '0', '0', '1', '3', '1', '2']\n",
      "['패', '승', '승', '패', '승', '패', '승', '패', '승', '패', '승', '패', '패', '승', '무', '무', '패', '승', '패', '승', '승', '패', '패', '승', '패', '승', '승', '패', '승', '패', '승', '패', '패', '승', '승', '패', '승', '패', '승', '패', '패', '승', '승', '패', '승', '패', '승', '패']\n",
      "48\n",
      "48\n",
      "48\n",
      "48\n",
      "48\n",
      "48\n",
      "48\n",
      "48\n",
      "48\n",
      "48\n"
     ]
    }
   ],
   "source": [
    "print(day_text)\n",
    "print(times_text)\n",
    "print(team_text)\n",
    "print(H_text)\n",
    "print(HR_text)\n",
    "print(S_text)\n",
    "print(ST_text)\n",
    "print(DU_text)\n",
    "print(ER_text)\n",
    "print(result_text)\n",
    "print(len(day_text))\n",
    "print(len(times_text))\n",
    "print(len(team_text))\n",
    "print(len(H_text))\n",
    "print(len(HR_text))\n",
    "print(len(S_text))\n",
    "print(len(ST_text))\n",
    "print(len(DU_text))\n",
    "print(len(ER_text))\n",
    "print(len(result_text))"
   ]
  },
  {
   "cell_type": "code",
   "execution_count": 12,
   "metadata": {},
   "outputs": [],
   "source": [
    "list = np.array([day_text, times_text, team_text, H_text, HR_text, S_text,\n",
    "                       ST_text,DU_text,ER_text,result_text])\n",
    "list = list.T"
   ]
  },
  {
   "cell_type": "code",
   "execution_count": 13,
   "metadata": {},
   "outputs": [
    {
     "data": {
      "text/plain": [
       "array([['10.1일', '14:00', 'KIA 타이거즈', '6', '0', '0', '6', '2', '1', '패'],\n",
       "       ['10.1일', '14:00', 'kt wiz', '25', '3', '1', '8', '1', '0', '승'],\n",
       "       ['10.1일', '14:00', '두산 베어스', '10', '2', '0', '6', '1', '0', '승'],\n",
       "       ['10.1일', '14:00', '한화 이글스', '9', '2', '0', '4', '0', '0', '패'],\n",
       "       ['10.1일', '14:00', '삼성 라이온즈', '10', '0', '0', '7', '1', '0', '승'],\n",
       "       ['10.1일', '14:00', 'LG 트윈스', '10', '0', '0', '8', '0', '0', '패'],\n",
       "       ['10.2월', '14:00', 'KIA 타이거즈', '8', '2', '0', '8', '0', '4', '승'],\n",
       "       ['10.2월', '14:00', 'kt wiz', '9', '0', '0', '8', '0', '1', '패'],\n",
       "       ['10.3화', '14:00', 'KIA 타이거즈', '13', '2', '2', '5', '0', '0', '승'],\n",
       "       ['10.3화', '14:00', 'kt wiz', '12', '1', '0', '9', '1', '0', '패'],\n",
       "       ['10.3화', '14:00', 'SK 와이번스', '8', '0', '1', '8', '0', '0', '승'],\n",
       "       ['10.3화', '14:00', '두산 베어스', '6', '1', '0', '5', '1', '2', '패'],\n",
       "       ['10.3화', '15:00', 'LG 트윈스', '6', '1', '0', '9', '0', '1', '패'],\n",
       "       ['10.3화', '15:00', '롯데 자이언츠', '6', '0', '0', '4', '0', '0', '승'],\n",
       "       ['10.3화', '15:00', 'NC 다이노스', '16', '1', '1', '8', '1', '1', '무'],\n",
       "       ['10.3화', '15:00', '한화 이글스', '15', '2', '0', '6', '0', '2', '무'],\n",
       "       ['10.3화', '17:00', '키움 히어로즈', '15', '3', '0', '12', '1', '2', '패'],\n",
       "       ['10.3화', '17:00', '삼성 라이온즈', '12', '2', '0', '5', '0', '1', '승'],\n",
       "       ['10.5목', '|', 'SK 와이번스', '6', '2', '0', '3', '1', '0', '패'],\n",
       "       ['10.5목', '|', 'NC 다이노스', '13', '2', '1', '8', '0', '0', '승'],\n",
       "       ['10.8일', '|', 'NC 다이노스', '10', '1', '4', '14', '1', '0', '승'],\n",
       "       ['10.8일', '|', '롯데 자이언츠', '9', '1', '1', '8', '0', '1', '패'],\n",
       "       ['10.9월', '|', 'NC 다이노스', '7', '0', '0', '5', '0', '1', '패'],\n",
       "       ['10.9월', '|', '롯데 자이언츠', '3', '0', '1', '5', '1', '1', '승'],\n",
       "       ['10.11수', '|', '롯데 자이언츠', '12', '1', '0', '9', '0', '0', '패'],\n",
       "       ['10.11수', '|', 'NC 다이노스', '13', '5', '0', '10', '0', '2', '승'],\n",
       "       ['10.13금', '|', '롯데 자이언츠', '10', '4', '0', '3', '0', '0', '승'],\n",
       "       ['10.13금', '|', 'NC 다이노스', '6', '0', '1', '11', '0', '0', '패'],\n",
       "       ['10.15일', '|', 'NC 다이노스', '15', '0', '0', '7', '1', '0', '승'],\n",
       "       ['10.15일', '|', '롯데 자이언츠', '8', '0', '0', '9', '0', '1', '패'],\n",
       "       ['10.17화', '|', 'NC 다이노스', '17', '1', '1', '14', '0', '0', '승'],\n",
       "       ['10.17화', '|', '두산 베어스', '9', '1', '0', '11', '2', '2', '패'],\n",
       "       ['10.18수', '|', 'NC 다이노스', '11', '4', '0', '7', '1', '1', '패'],\n",
       "       ['10.18수', '|', '두산 베어스', '15', '4', '2', '6', '0', '1', '승'],\n",
       "       ['10.20금', '|', '두산 베어스', '13', '2', '2', '9', '2', '0', '승'],\n",
       "       ['10.20금', '|', 'NC 다이노스', '9', '0', '0', '7', '1', '1', '패'],\n",
       "       ['10.21토', '|', '두산 베어스', '17', '5', '2', '7', '0', '0', '승'],\n",
       "       ['10.21토', '|', 'NC 다이노스', '12', '1', '0', '5', '2', '0', '패'],\n",
       "       ['10.25수', '|', '두산 베어스', '7', '2', '0', '7', '0', '1', '승'],\n",
       "       ['10.25수', '|', 'KIA 타이거즈', '6', '1', '1', '6', '1', '1', '패'],\n",
       "       ['10.26목', '|', '두산 베어스', '4', '0', '0', '11', '0', '1', '패'],\n",
       "       ['10.26목', '|', 'KIA 타이거즈', '5', '0', '1', '4', '2', '0', '승'],\n",
       "       ['10.28토', '|', 'KIA 타이거즈', '9', '1', '0', '3', '1', '0', '승'],\n",
       "       ['10.28토', '|', '두산 베어스', '7', '1', '0', '5', '0', '0', '패'],\n",
       "       ['10.29일', '|', 'KIA 타이거즈', '9', '0', '1', '6', '1', '1', '승'],\n",
       "       ['10.29일', '|', '두산 베어스', '9', '0', '0', '8', '0', '3', '패'],\n",
       "       ['10.30월', '|', 'KIA 타이거즈', '10', '1', '0', '7', '0', '1', '승'],\n",
       "       ['10.30월', '|', '두산 베어스', '11', '0', '0', '9', '1', '2', '패']],\n",
       "      dtype='<U8')"
      ]
     },
     "execution_count": 13,
     "metadata": {},
     "output_type": "execute_result"
    }
   ],
   "source": [
    "list"
   ]
  },
  {
   "cell_type": "code",
   "execution_count": null,
   "metadata": {},
   "outputs": [],
   "source": [
    "df = pd.DataFrame(list, columns=['day_text', 'times_text','team_text', 'H_text', 'HR_text', 'S_text',\n",
    "                       'ST_text','DU_text','ER_text','result_text'],index= day_text )"
   ]
  },
  {
   "cell_type": "code",
   "execution_count": null,
   "metadata": {},
   "outputs": [],
   "source": [
    "df"
   ]
  },
  {
   "cell_type": "code",
   "execution_count": null,
   "metadata": {},
   "outputs": [],
   "source": [
    "df.to_csv('2017.10.csv', index = False , encoding='utf-8-sig')"
   ]
  },
  {
   "cell_type": "code",
   "execution_count": null,
   "metadata": {},
   "outputs": [],
   "source": []
  },
  {
   "cell_type": "code",
   "execution_count": null,
   "metadata": {},
   "outputs": [],
   "source": []
  }
 ],
 "metadata": {
  "kernelspec": {
   "display_name": "Python 3",
   "language": "python",
   "name": "python3"
  },
  "language_info": {
   "codemirror_mode": {
    "name": "ipython",
    "version": 3
   },
   "file_extension": ".py",
   "mimetype": "text/x-python",
   "name": "python",
   "nbconvert_exporter": "python",
   "pygments_lexer": "ipython3",
   "version": "3.8.5"
  }
 },
 "nbformat": 4,
 "nbformat_minor": 4
}
