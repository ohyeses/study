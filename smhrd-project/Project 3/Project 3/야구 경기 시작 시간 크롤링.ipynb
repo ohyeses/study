{
 "cells": [
  {
   "cell_type": "code",
   "execution_count": 1,
   "metadata": {},
   "outputs": [],
   "source": [
    "# 라이브러리 싹 임포트 시켜준다\n",
    "from bs4 import BeautifulSoup as bs\n",
    "from selenium import webdriver as wb\n",
    "import time\n",
    "from selenium.webdriver.common.keys import Keys\n",
    "import pandas as pd\n",
    "import requests as req\n",
    "import os\n",
    "from urllib.request import urlretrieve\n",
    "import numpy as np"
   ]
  },
  {
   "cell_type": "code",
   "execution_count": 2,
   "metadata": {},
   "outputs": [],
   "source": [
    "driver = wb.Chrome()\n",
    "url = 'https://sports.news.naver.com/kbaseball/schedule/index.nhn?date=20210504&month=04&year=2012&teamCode=' # url에 크롤링할 주소 입력\n",
    "driver.get(url)\n",
    "\n",
    "soup = bs(driver.page_source, 'lxml') # 뭔지 모르지만 일단 가져오기\n",
    "h = {\"User-Agent\": \"Mozilla/5.0 (Windows NT 10.0; Win64; x64) AppleWebKit/537.36 (KHTML, like Gecko) Chrome/83.0.4103.116 Safari/537.36\"}\n",
    "res = req.get(url, headers = h)\n",
    "soup = bs(res.text, 'lxml')"
   ]
  },
  {
   "cell_type": "code",
   "execution_count": 51,
   "metadata": {},
   "outputs": [
    {
     "ename": "IndexError",
     "evalue": "list index out of range",
     "output_type": "error",
     "traceback": [
      "\u001b[1;31m---------------------------------------------------------------------------\u001b[0m",
      "\u001b[1;31mIndexError\u001b[0m                                Traceback (most recent call last)",
      "\u001b[1;32m<ipython-input-51-786a5c95c4b0>\u001b[0m in \u001b[0;36m<module>\u001b[1;34m\u001b[0m\n\u001b[0;32m      8\u001b[0m \u001b[1;33m\u001b[0m\u001b[0m\n\u001b[0;32m      9\u001b[0m \u001b[1;32mfor\u001b[0m \u001b[0mi\u001b[0m \u001b[1;32min\u001b[0m \u001b[0mrange\u001b[0m\u001b[1;33m(\u001b[0m\u001b[1;36m0\u001b[0m\u001b[1;33m,\u001b[0m\u001b[1;36m100\u001b[0m\u001b[1;33m)\u001b[0m\u001b[1;33m:\u001b[0m\u001b[1;33m\u001b[0m\u001b[1;33m\u001b[0m\u001b[0m\n\u001b[1;32m---> 10\u001b[1;33m     \u001b[0mtime_list\u001b[0m\u001b[1;33m.\u001b[0m\u001b[0mappend\u001b[0m\u001b[1;33m(\u001b[0m\u001b[0mtime\u001b[0m\u001b[1;33m[\u001b[0m\u001b[0mi\u001b[0m\u001b[1;33m]\u001b[0m\u001b[1;33m.\u001b[0m\u001b[0mtext\u001b[0m\u001b[1;33m.\u001b[0m\u001b[0mstrip\u001b[0m\u001b[1;33m(\u001b[0m\u001b[1;33m)\u001b[0m\u001b[1;33m)\u001b[0m \u001b[1;31m# soup.select 한 date를 date_list에 담아준다.\u001b[0m\u001b[1;33m\u001b[0m\u001b[1;33m\u001b[0m\u001b[0m\n\u001b[0m\u001b[0;32m     11\u001b[0m     \u001b[1;32mtry\u001b[0m \u001b[1;33m:\u001b[0m\u001b[1;33m\u001b[0m\u001b[1;33m\u001b[0m\u001b[0m\n\u001b[0;32m     12\u001b[0m         \u001b[0mcancel\u001b[0m \u001b[1;33m=\u001b[0m \u001b[0msoup\u001b[0m\u001b[1;33m.\u001b[0m\u001b[0mselect\u001b[0m \u001b[1;33m(\u001b[0m\u001b[1;34m'#calendarWrap > div > table > tbody > tr > td.add_state > span.suspended'\u001b[0m\u001b[1;33m)\u001b[0m\u001b[1;33m\u001b[0m\u001b[1;33m\u001b[0m\u001b[0m\n",
      "\u001b[1;31mIndexError\u001b[0m: list index out of range"
     ]
    }
   ],
   "source": [
    "time_list = []\n",
    "cancel_list = []\n",
    "\n",
    "soup = bs(driver.page_source,'lxml')\n",
    "\n",
    "\n",
    "time = soup.select('#calendarWrap > div > table > tbody > tr:nth-of-type(1) > td:nth-of-type(2) > span')\n",
    "\n",
    "for i in range(0,100):\n",
    "    time_list.append(time[i].text.strip()) # soup.select 한 date를 date_list에 담아준다.\n",
    "    try :\n",
    "        cancel = soup.select ('#calendarWrap > div > table > tbody > tr > td.add_state > span.suspended')\n",
    "        #calendarWrap > div:nth-child(10) > table > tbody > tr:nth-child(1) > td.add_state > span.suspended\n",
    "        #calendarWrap > div:nth-child(21) > table > tbody > tr:nth-child(1) > td.add_state > span.suspended\n",
    "        #calendarWrap > div:nth-child(21) > table > tbody > tr:nth-child(2) > td.add_state > span.suspended\n",
    "        cancel_list.append(cancel[i].text.strip())\n",
    "    except:\n",
    "        cancel_list.append('무')\n",
    "        "
   ]
  },
  {
   "cell_type": "code",
   "execution_count": 53,
   "metadata": {},
   "outputs": [
    {
     "data": {
      "text/plain": [
       "['-',\n",
       " '-',\n",
       " '-',\n",
       " '-',\n",
       " '-',\n",
       " '-',\n",
       " '13:55',\n",
       " '14:00',\n",
       " '-',\n",
       " '18:30',\n",
       " '18:30',\n",
       " '18:30',\n",
       " '18:30',\n",
       " '17:00',\n",
       " '14:00',\n",
       " '-',\n",
       " '18:30',\n",
       " '18:30',\n",
       " '18:30',\n",
       " '18:30',\n",
       " '13:50',\n",
       " '14:00',\n",
       " '-',\n",
       " '18:30',\n",
       " '18:30',\n",
       " '18:30',\n",
       " '18:30',\n",
       " '17:00',\n",
       " '14:00',\n",
       " '-']"
      ]
     },
     "execution_count": 53,
     "metadata": {},
     "output_type": "execute_result"
    }
   ],
   "source": [
    "time_list"
   ]
  },
  {
   "cell_type": "code",
   "execution_count": 52,
   "metadata": {},
   "outputs": [
    {
     "data": {
      "text/plain": [
       "['경기취소',\n",
       " '경기취소',\n",
       " '경기취소',\n",
       " '경기취소',\n",
       " '경기취소',\n",
       " '경기취소',\n",
       " '경기취소',\n",
       " '경기취소',\n",
       " '경기취소',\n",
       " '경기취소',\n",
       " '경기취소',\n",
       " '경기취소',\n",
       " '경기취소',\n",
       " '무',\n",
       " '무',\n",
       " '무',\n",
       " '무',\n",
       " '무',\n",
       " '무',\n",
       " '무',\n",
       " '무',\n",
       " '무',\n",
       " '무',\n",
       " '무',\n",
       " '무',\n",
       " '무',\n",
       " '무',\n",
       " '무',\n",
       " '무',\n",
       " '무']"
      ]
     },
     "execution_count": 52,
     "metadata": {},
     "output_type": "execute_result"
    }
   ],
   "source": [
    "cancel_list"
   ]
  },
  {
   "cell_type": "code",
   "execution_count": null,
   "metadata": {},
   "outputs": [],
   "source": []
  }
 ],
 "metadata": {
  "kernelspec": {
   "display_name": "Python 3",
   "language": "python",
   "name": "python3"
  },
  "language_info": {
   "codemirror_mode": {
    "name": "ipython",
    "version": 3
   },
   "file_extension": ".py",
   "mimetype": "text/x-python",
   "name": "python",
   "nbconvert_exporter": "python",
   "pygments_lexer": "ipython3",
   "version": "3.8.5"
  }
 },
 "nbformat": 4,
 "nbformat_minor": 4
}
