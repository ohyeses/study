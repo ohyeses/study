{
 "cells": [
  {
   "cell_type": "code",
   "execution_count": 1,
   "metadata": {},
   "outputs": [
    {
     "name": "stdout",
     "output_type": "stream",
     "text": [
      "Requirement already satisfied: selenium in c:\\users\\smhrd\\anaconda\\lib\\site-packages (3.141.0)\n",
      "Requirement already satisfied: urllib3 in c:\\users\\smhrd\\anaconda\\lib\\site-packages (from selenium) (1.25.11)\n"
     ]
    },
    {
     "name": "stderr",
     "output_type": "stream",
     "text": [
      "WARNING: You are using pip version 21.0.1; however, version 21.1 is available.\n",
      "You should consider upgrading via the 'c:\\users\\smhrd\\anaconda\\python.exe -m pip install --upgrade pip' command.\n"
     ]
    }
   ],
   "source": [
    "!pip install selenium"
   ]
  },
  {
   "cell_type": "code",
   "execution_count": 2,
   "metadata": {},
   "outputs": [],
   "source": [
    "import requests as req\n",
    "from bs4 import BeautifulSoup as bs\n",
    "import pandas as pd\n",
    "import numpy as np\n",
    "pd.set_option('display.max_row', 500)\n",
    "pd.set_option('display.max_columns', 100)\n",
    "\n",
    "# webdriver = 웹을 통제하기 위한 모듈\n",
    "# Keys = 웹을 통해 값을 입력하기 위한 모듈\n",
    "\n",
    "from selenium import webdriver as wb\n",
    "from selenium.webdriver.common.keys import Keys\n",
    "import time"
   ]
  },
  {
   "cell_type": "code",
   "execution_count": 3,
   "metadata": {},
   "outputs": [],
   "source": [
    "driver = wb.Chrome()\n",
    "url = 'https://sports.news.naver.com/kbaseball/schedule/index.nhn?date=20210320&month=06&year=2012&teamCode='\n",
    "driver.get(url)"
   ]
  },
  {
   "cell_type": "code",
   "execution_count": 4,
   "metadata": {},
   "outputs": [],
   "source": [
    "# 경기취소 불러오기\n",
    "\n",
    "#calendarWrap > div:nth-child(10) > table > tbody > tr:nth-child(1) > td.add_state > span.suspended\n",
    "\n",
    "# cancel_test = driver.find_elements_by_css_selector('calendarWrap > div:nth-child(10) > table > tbody > tr:nth-child(1) > td.add_state')"
   ]
  },
  {
   "cell_type": "code",
   "execution_count": 5,
   "metadata": {},
   "outputs": [],
   "source": [
    "# cancel_test"
   ]
  },
  {
   "cell_type": "code",
   "execution_count": 6,
   "metadata": {},
   "outputs": [],
   "source": [
    "# soup = bs(driver.page_source, 'lxml')\n",
    "# time_text = soup.select('.td_hour')\n",
    "# time_text"
   ]
  },
  {
   "cell_type": "code",
   "execution_count": null,
   "metadata": {},
   "outputs": [],
   "source": []
  },
  {
   "cell_type": "code",
   "execution_count": 7,
   "metadata": {},
   "outputs": [],
   "source": [
    "team_text = [] # 팀 이름\n",
    "day_text = [] # 경기 날짜\n",
    "times_text = [] # 시간 불러오기\n",
    "H_text = [] #안타\n",
    "HR_text = [] #홈런\n",
    "S_text = [] #도루\n",
    "ST_text = [] #삼진\n",
    "DU_text = [] #병살\n",
    "ER_text = [] #실책\n",
    "\n",
    "result_text = [] # 게임의 승패"
   ]
  },
  {
   "cell_type": "code",
   "execution_count": 8,
   "metadata": {},
   "outputs": [],
   "source": [
    "#result1 = driver.find_elements_by_css_selector('#content > div.section_tab > ul > li:nth-child(1) > div > a')\n",
    "#result1[0].click()"
   ]
  },
  {
   "cell_type": "code",
   "execution_count": null,
   "metadata": {
    "scrolled": true
   },
   "outputs": [],
   "source": [
    "for i in range(0,1000,2):\n",
    "    result = driver.find_elements_by_css_selector('.td_btn>a')\n",
    "    soup = bs(driver.page_source, 'lxml')\n",
    "    \n",
    "    # 경기결과 버튼 클릭\n",
    "    result[i].click()\n",
    "    \n",
    "    # 최근 열린 탭으로 전환\n",
    "    driver.switch_to.window(driver.window_handles[-1])\n",
    "    # 로딩 기다리기\n",
    "    time.sleep(1.5)\n",
    "    \n",
    "    soup = bs(driver.page_source, 'lxml')\n",
    "    \n",
    "    try:\n",
    "        # 홈팀 데이터 추가하기\n",
    "        day = soup.select('#_gameCenterTopDate')\n",
    "        day_text.append(day[0].text.strip())\n",
    "        team = soup.select('#box_awayBg h4')\n",
    "        team_text.append(team[0].text.strip())\n",
    "        H = soup.select('#box_awayBg > dl > dd:nth-of-type(1) > em')\n",
    "        H_text.append(H[0].text.strip())\n",
    "        HR = soup.select('#box_awayBg > dl > dd:nth-of-type(2) > em')\n",
    "        HR_text.append(HR[0].text.strip())\n",
    "        S = soup.select('#box_awayBg > dl > dd:nth-of-type(3) > em')\n",
    "        S_text.append(S[0].text.strip())\n",
    "        ST = soup.select('#box_awayBg > dl > dd:nth-of-type(4) > em')\n",
    "        ST_text.append(ST[0].text.strip())\n",
    "        DU = soup.select('#box_awayBg > dl > dd:nth-of-type(5) > em')\n",
    "        DU_text.append(DU[0].text.strip())\n",
    "        ER = soup.select('#box_awayBg > dl > dd:nth-of-type(6) > em')\n",
    "        ER_text.append(ER[0].text.strip())\n",
    "        \n",
    "        # 승패 추가하기\n",
    "        try:\n",
    "            result = soup.select('#awayVsResult > span')\n",
    "            result_text.append(result[0].text.strip())\n",
    "        except:\n",
    "            result_text.append('무')\n",
    "\n",
    "        # 어웨이팀 데이터 추가하기\n",
    "        day = soup.select('#_gameCenterTopDate')\n",
    "        day_text.append(day[0].text.strip())\n",
    "        team = soup.select('#box_homeBg h4')\n",
    "        team_text.append(team[0].text.strip())\n",
    "        H = soup.select('#box_homeBg > dl > dd:nth-of-type(1) > em')\n",
    "        H_text.append(H[0].text.strip())\n",
    "        HR = soup.select('#box_homeBg > dl > dd:nth-of-type(2) > em')\n",
    "        HR_text.append(HR[0].text.strip())\n",
    "        S = soup.select('#box_homeBg > dl > dd:nth-of-type(3) > em')\n",
    "        S_text.append(S[0].text.strip())\n",
    "        ST = soup.select('#box_homeBg > dl > dd:nth-of-type(4) > em')\n",
    "        ST_text.append(ST[0].text.strip())\n",
    "        DU = soup.select('#box_homeBg > dl > dd:nth-of-type(5) > em')\n",
    "        DU_text.append(DU[0].text.strip())\n",
    "        ER = soup.select('#box_homeBg > dl > dd:nth-of-type(6) > em')\n",
    "        ER_text.append(ER[0].text.strip())\n",
    "\n",
    "        # 승패 추가하기\n",
    "        try:\n",
    "            result = soup.select('#homeVsResult > span')\n",
    "            result_text.append(result[0].text.strip())\n",
    "        except:\n",
    "            result_text.append('무')\n",
    "        \n",
    "        #문자중계에 들어가서 경기 시작시간 가져오기 \n",
    "        result1= driver.find_elements_by_css_selector('#content > div.section_tab > ul > li:nth-of-type(1) > div > a')\n",
    "        result1[0].click()\n",
    "        \n",
    "        time.sleep(1.5)\n",
    "        soup = bs(driver.page_source, 'lxml')\n",
    "   \n",
    "        times=soup.select('#timeAndWeather > span')\n",
    "        times_text.append(times[0].text.strip())\n",
    "        times_text.append(times[0].text.strip())\n",
    "        \n",
    "        # 현재 탭 닫기\n",
    "        driver.close()\n",
    "\n",
    "        # 맨 처음 탭으로 변경(0번 탭)\n",
    "        driver.switch_to.window(driver.window_handles[0])\n",
    "\n",
    "        # 로딩 기다리기\n",
    "        time.sleep(1.5)\n",
    "        \n",
    "    except:\n",
    "        break\n",
    "    "
   ]
  },
  {
   "cell_type": "code",
   "execution_count": null,
   "metadata": {},
   "outputs": [],
   "source": [
    "#del day_text[-1]\n",
    "#day_text.append('4.29일')"
   ]
  },
  {
   "cell_type": "code",
   "execution_count": null,
   "metadata": {},
   "outputs": [],
   "source": [
    "print(day_text)\n",
    "print(times_text)\n",
    "print(team_text)\n",
    "print(H_text)\n",
    "print(HR_text)\n",
    "print(S_text)\n",
    "print(ST_text)\n",
    "print(DU_text)\n",
    "print(ER_text)\n",
    "print(result_text)\n",
    "print(len(day_text))\n",
    "print(len(times_text))\n",
    "print(len(team_text))\n",
    "print(len(H_text))\n",
    "print(len(HR_text))\n",
    "print(len(S_text))\n",
    "print(len(ST_text))\n",
    "print(len(DU_text))\n",
    "print(len(ER_text))\n",
    "print(len(result_text))"
   ]
  },
  {
   "cell_type": "code",
   "execution_count": null,
   "metadata": {},
   "outputs": [],
   "source": [
    "list = np.array([day_text, times_text, team_text, H_text, HR_text, S_text,\n",
    "                       ST_text,DU_text,ER_text,result_text])\n",
    "list = list.T"
   ]
  },
  {
   "cell_type": "code",
   "execution_count": null,
   "metadata": {},
   "outputs": [],
   "source": [
    "list"
   ]
  },
  {
   "cell_type": "code",
   "execution_count": null,
   "metadata": {},
   "outputs": [],
   "source": [
    "df = pd.DataFrame(list, columns=['day_text', 'times_text','team_text', 'H_text', 'HR_text', 'S_text',\n",
    "                       'ST_text','DU_text','ER_text','result_text'],index= day_text )"
   ]
  },
  {
   "cell_type": "code",
   "execution_count": null,
   "metadata": {},
   "outputs": [],
   "source": [
    "df"
   ]
  },
  {
   "cell_type": "code",
   "execution_count": null,
   "metadata": {},
   "outputs": [],
   "source": [
    "df.to_csv('2012.6.csv', index = False , encoding='utf-8-sig')"
   ]
  },
  {
   "cell_type": "code",
   "execution_count": null,
   "metadata": {},
   "outputs": [],
   "source": []
  },
  {
   "cell_type": "code",
   "execution_count": null,
   "metadata": {},
   "outputs": [],
   "source": []
  }
 ],
 "metadata": {
  "kernelspec": {
   "display_name": "Python 3",
   "language": "python",
   "name": "python3"
  },
  "language_info": {
   "codemirror_mode": {
    "name": "ipython",
    "version": 3
   },
   "file_extension": ".py",
   "mimetype": "text/x-python",
   "name": "python",
   "nbconvert_exporter": "python",
   "pygments_lexer": "ipython3",
   "version": "3.8.5"
  }
 },
 "nbformat": 4,
 "nbformat_minor": 4
}
