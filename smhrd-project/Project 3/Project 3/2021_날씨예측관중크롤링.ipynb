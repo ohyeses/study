{
 "cells": [
  {
   "cell_type": "markdown",
   "metadata": {},
   "source": [
    "<목록>\n",
    "날짜 - date_list\n",
    "요일 - day_list\n",
    "구장 - stadium_list\n",
    "관중수 - spectators_list"
   ]
  },
  {
   "cell_type": "code",
   "execution_count": 1,
   "metadata": {},
   "outputs": [
    {
     "name": "stdout",
     "output_type": "stream",
     "text": [
      "Requirement already satisfied: selenium in c:\\users\\smhrd\\anaconda\\lib\\site-packages (3.141.0)\n",
      "Requirement already satisfied: urllib3 in c:\\users\\smhrd\\anaconda\\lib\\site-packages (from selenium) (1.25.11)\n"
     ]
    },
    {
     "name": "stderr",
     "output_type": "stream",
     "text": [
      "WARNING: You are using pip version 21.0.1; however, version 21.1 is available.\n",
      "You should consider upgrading via the 'c:\\users\\smhrd\\anaconda\\python.exe -m pip install --upgrade pip' command.\n"
     ]
    }
   ],
   "source": [
    "!pip install selenium"
   ]
  },
  {
   "cell_type": "code",
   "execution_count": 2,
   "metadata": {},
   "outputs": [],
   "source": [
    "# 라이브러리 싹 임포트 시켜준다\n",
    "from bs4 import BeautifulSoup as bs\n",
    "from selenium import webdriver as wb\n",
    "import time\n",
    "from selenium.webdriver.common.keys import Keys\n",
    "import pandas as pd\n",
    "import requests as req\n",
    "import os\n",
    "from urllib.request import urlretrieve\n",
    "import numpy as np"
   ]
  },
  {
   "cell_type": "code",
   "execution_count": 3,
   "metadata": {},
   "outputs": [],
   "source": [
    "driver = wb.Chrome()\n",
    "url = 'https://www.koreabaseball.com/History/Crowd/GraphDaily.aspx' # url에 크롤링할 주소 입력\n",
    "driver.get(url)\n",
    "\n",
    "soup = bs(driver.page_source, 'lxml') # 뭔지 모르지만 일단 가져오기\n",
    "h = {\"User-Agent\": \"Mozilla/5.0 (Windows NT 10.0; Win64; x64) AppleWebKit/537.36 (KHTML, like Gecko) Chrome/83.0.4103.116 Safari/537.36\"}\n",
    "res = req.get(url, headers = h)\n",
    "soup = bs(res.text, 'lxml')"
   ]
  },
  {
   "cell_type": "markdown",
   "metadata": {},
   "source": [
    "# 날짜, 요일, 구장, 관중수 열 가져오기"
   ]
  },
  {
   "cell_type": "markdown",
   "metadata": {},
   "source": [
    "## 2021년 데이터 선택"
   ]
  },
  {
   "cell_type": "code",
   "execution_count": 4,
   "metadata": {
    "scrolled": true
   },
   "outputs": [],
   "source": [
    "search1 = driver.find_element_by_css_selector('#cphContents_cphContents_cphContents_ddlSeason > option:nth-child(4)')\n",
    "search1.click()"
   ]
  },
  {
   "cell_type": "markdown",
   "metadata": {},
   "source": [
    "### 날짜 4~10월까지 date_list에 넣기"
   ]
  },
  {
   "cell_type": "code",
   "execution_count": 5,
   "metadata": {},
   "outputs": [],
   "source": [
    "#검색 클릭\n",
    "search_button= driver.find_element_by_css_selector('#cphContents_cphContents_cphContents_btnSearch')\n",
    "search_button.click()"
   ]
  },
  {
   "cell_type": "code",
   "execution_count": 6,
   "metadata": {},
   "outputs": [],
   "source": [
    "date_list = []\n",
    "\n",
    "time.sleep(0.5)\n",
    "\n",
    "soup = bs(driver.page_source,'lxml')\n",
    "\n",
    "date = soup.select('#cphContents_cphContents_cphContents_udpRecord > table > tbody > tr > td:nth-of-type(1)')\n",
    "\n",
    "for i in range(len(date)):\n",
    "    date_list.append(date[i].text.strip()) # soup.select 한 date를 date_list에 담아준다."
   ]
  },
  {
   "cell_type": "code",
   "execution_count": 7,
   "metadata": {},
   "outputs": [
    {
     "name": "stdout",
     "output_type": "stream",
     "text": [
      "['2021/04/03', '2021/04/04', '2021/04/04', '2021/04/04', '2021/04/04', '2021/04/04', '2021/04/06', '2021/04/06', '2021/04/06', '2021/04/06', '2021/04/06', '2021/04/07', '2021/04/07', '2021/04/07', '2021/04/07', '2021/04/07', '2021/04/08', '2021/04/08', '2021/04/08', '2021/04/08', '2021/04/08', '2021/04/09', '2021/04/09', '2021/04/09', '2021/04/09', '2021/04/09', '2021/04/10', '2021/04/10', '2021/04/10', '2021/04/10', '2021/04/10', '2021/04/11', '2021/04/11', '2021/04/11', '2021/04/11', '2021/04/11', '2021/04/13', '2021/04/13', '2021/04/13', '2021/04/13', '2021/04/13', '2021/04/14', '2021/04/14', '2021/04/14', '2021/04/14', '2021/04/14', '2021/04/15', '2021/04/15', '2021/04/15', '2021/04/15', '2021/04/15', '2021/04/16', '2021/04/16', '2021/04/16', '2021/04/16', '2021/04/16', '2021/04/17', '2021/04/17', '2021/04/17', '2021/04/17', '2021/04/17', '2021/04/18', '2021/04/18', '2021/04/18', '2021/04/18', '2021/04/18', '2021/04/20', '2021/04/20', '2021/04/20', '2021/04/20', '2021/04/20', '2021/04/21', '2021/04/21', '2021/04/21', '2021/04/21', '2021/04/21', '2021/04/22', '2021/04/22', '2021/04/22', '2021/04/22', '2021/04/22', '2021/04/23', '2021/04/23', '2021/04/23', '2021/04/23', '2021/04/23', '2021/04/24', '2021/04/24', '2021/04/24', '2021/04/24', '2021/04/24', '2021/04/25', '2021/04/25', '2021/04/25', '2021/04/25', '2021/04/25', '2021/04/27', '2021/04/27', '2021/04/27', '2021/04/27', '2021/04/27', '2021/04/28', '2021/04/28', '2021/04/28', '2021/04/28', '2021/04/28']\n"
     ]
    }
   ],
   "source": [
    "print(date_list)"
   ]
  },
  {
   "cell_type": "code",
   "execution_count": 8,
   "metadata": {},
   "outputs": [
    {
     "data": {
      "text/plain": [
       "106"
      ]
     },
     "execution_count": 8,
     "metadata": {},
     "output_type": "execute_result"
    }
   ],
   "source": [
    "len(date_list)"
   ]
  },
  {
   "cell_type": "markdown",
   "metadata": {},
   "source": [
    "## 요일"
   ]
  },
  {
   "cell_type": "code",
   "execution_count": 9,
   "metadata": {},
   "outputs": [],
   "source": [
    "day_list = []\n",
    "\n",
    "time.sleep(0.5)\n",
    "\n",
    "soup = bs(driver.page_source,'lxml')\n",
    "\n",
    "day = soup.select('#cphContents_cphContents_cphContents_udpRecord > table > tbody > tr > td:nth-of-type(2)')\n",
    "\n",
    "for i in range(len(day)):\n",
    "    day_list.append(day[i].text.strip()) # soup.select 한 date를 date_list에 담아준다."
   ]
  },
  {
   "cell_type": "code",
   "execution_count": 10,
   "metadata": {},
   "outputs": [
    {
     "name": "stdout",
     "output_type": "stream",
     "text": [
      "['토', '일', '일', '일', '일', '일', '화', '화', '화', '화', '화', '수', '수', '수', '수', '수', '목', '목', '목', '목', '목', '금', '금', '금', '금', '금', '토', '토', '토', '토', '토', '일', '일', '일', '일', '일', '화', '화', '화', '화', '화', '수', '수', '수', '수', '수', '목', '목', '목', '목', '목', '금', '금', '금', '금', '금', '토', '토', '토', '토', '토', '일', '일', '일', '일', '일', '화', '화', '화', '화', '화', '수', '수', '수', '수', '수', '목', '목', '목', '목', '목', '금', '금', '금', '금', '금', '토', '토', '토', '토', '토', '일', '일', '일', '일', '일', '화', '화', '화', '화', '화', '수', '수', '수', '수', '수']\n"
     ]
    }
   ],
   "source": [
    "print(day_list)"
   ]
  },
  {
   "cell_type": "code",
   "execution_count": 11,
   "metadata": {},
   "outputs": [
    {
     "data": {
      "text/plain": [
       "106"
      ]
     },
     "execution_count": 11,
     "metadata": {},
     "output_type": "execute_result"
    }
   ],
   "source": [
    "len(day_list)"
   ]
  },
  {
   "cell_type": "markdown",
   "metadata": {},
   "source": [
    "## 구장"
   ]
  },
  {
   "cell_type": "code",
   "execution_count": 12,
   "metadata": {},
   "outputs": [],
   "source": [
    "stadium_list = []\n",
    "\n",
    "time.sleep(0.5)\n",
    "\n",
    "soup = bs(driver.page_source,'lxml')\n",
    "\n",
    "stadium = soup.select('#cphContents_cphContents_cphContents_udpRecord > table > tbody > tr > td:nth-of-type(5)')\n",
    "\n",
    "for i in range(len(stadium)):\n",
    "    stadium_list.append(stadium[i].text.strip()) # soup.select 한 date를 date_list에 담아준다."
   ]
  },
  {
   "cell_type": "code",
   "execution_count": 13,
   "metadata": {},
   "outputs": [
    {
     "name": "stdout",
     "output_type": "stream",
     "text": [
      "['고척', '수원', '잠실', '창원', '문학', '고척', '문학', '고척', '수원', '창원', '잠실', '문학', '고척', '수원', '창원', '잠실', '문학', '고척', '수원', '창원', '잠실', '대구', '광주', '대전', '잠실', '사직', '대구', '광주', '대전', '잠실', '사직', '대구', '광주', '대전', '잠실', '사직', '대구', '잠실', '고척', '광주', '문학', '대구', '잠실', '고척', '광주', '문학', '대구', '잠실', '고척', '광주', '문학', '창원', '문학', '잠실', '사직', '수원', '창원', '문학', '잠실', '사직', '수원', '창원', '문학', '잠실', '사직', '수원', '잠실', '창원', '사직', '대구', '대전', '잠실', '창원', '사직', '대구', '대전', '잠실', '창원', '사직', '대구', '대전', '대전', '수원', '잠실', '고척', '광주', '대전', '수원', '잠실', '고척', '광주', '대전', '수원', '잠실', '고척', '광주', '광주', '문학', '잠실', '대구', '고척', '광주', '문학', '잠실', '대구', '고척']\n"
     ]
    }
   ],
   "source": [
    "print(stadium_list)"
   ]
  },
  {
   "cell_type": "code",
   "execution_count": 14,
   "metadata": {},
   "outputs": [
    {
     "data": {
      "text/plain": [
       "106"
      ]
     },
     "execution_count": 14,
     "metadata": {},
     "output_type": "execute_result"
    }
   ],
   "source": [
    "len(stadium_list)"
   ]
  },
  {
   "cell_type": "markdown",
   "metadata": {},
   "source": [
    "## 관중수"
   ]
  },
  {
   "cell_type": "code",
   "execution_count": 15,
   "metadata": {},
   "outputs": [],
   "source": [
    "spectators_list = []\n",
    "\n",
    "time.sleep(0.5)\n",
    "\n",
    "soup = bs(driver.page_source,'lxml')\n",
    "\n",
    "spectators = soup.select('#cphContents_cphContents_cphContents_udpRecord > table > tbody > tr > td:nth-of-type(6)')\n",
    "\n",
    "for i in range(len(spectators)):\n",
    "    spectators_list.append(spectators[i].text.strip()) # soup.select 한 date를 date_list에 담아준다."
   ]
  },
  {
   "cell_type": "code",
   "execution_count": 16,
   "metadata": {},
   "outputs": [
    {
     "name": "stdout",
     "output_type": "stream",
     "text": [
      "['1,665', '1,956', '2,410', '4,375', '2,300', '1,655', '2,268', '1,614', '1,956', '2,326', '2,245', '2,264', '1,628', '1,706', '2,224', '2,142', '2,278', '1,660', '1,605', '2,260', '2,273', '2,724', '3,869', '1,300', '2,414', '2,364', '3,813', '4,114', '1,300', '2,431', '2,364', '4,658', '4,264', '1,300', '2,454', '2,364', '1,363', '1,128', '1,479', '808', '1,632', '1,564', '1,038', '1,311', '884', '1,571', '1,728', '1,124', '1,354', '1,503', '1,539', '5,061', '2,300', '2,442', '1,927', '929', '3,494', '2,300', '2,472', '2,364', '1,658', '2,631', '2,300', '2,472', '2,364', '1,956', '2,453', '1,229', '1,197', '2,104', '1,003', '2,457', '1,103', '1,278', '2,823', '1,007', '2,472', '1,393', '1,686', '2,636', '1,071', '1,300', '1,544', '2,225', '1,258', '1,318', '1,300', '1,956', '2,410', '1,638', '2,808', '1,300', '1,956', '2,410', '1,640', '2,749', '898', '1,756', '2,347', '2,528', '1,166', '1,502', '1,797', '2,455', '2,130', '1,213']\n"
     ]
    }
   ],
   "source": [
    "print(spectators_list)"
   ]
  },
  {
   "cell_type": "code",
   "execution_count": 17,
   "metadata": {},
   "outputs": [
    {
     "data": {
      "text/plain": [
       "106"
      ]
     },
     "execution_count": 17,
     "metadata": {},
     "output_type": "execute_result"
    }
   ],
   "source": [
    "len(spectators_list)"
   ]
  },
  {
   "cell_type": "markdown",
   "metadata": {},
   "source": [
    "# 데이터프레임으로 만들기"
   ]
  },
  {
   "cell_type": "code",
   "execution_count": 18,
   "metadata": {},
   "outputs": [],
   "source": [
    "dic = {'날짜' : date_list, '요일' : day_list, '구장' : stadium_list, '관중수' : spectators_list}\n",
    "df = pd.DataFrame(dic)"
   ]
  },
  {
   "cell_type": "code",
   "execution_count": 19,
   "metadata": {},
   "outputs": [],
   "source": [
    "df.set_index('날짜', inplace = True) # 날짜를 인덱스로"
   ]
  },
  {
   "cell_type": "code",
   "execution_count": 20,
   "metadata": {},
   "outputs": [
    {
     "data": {
      "text/html": [
       "<div>\n",
       "<style scoped>\n",
       "    .dataframe tbody tr th:only-of-type {\n",
       "        vertical-align: middle;\n",
       "    }\n",
       "\n",
       "    .dataframe tbody tr th {\n",
       "        vertical-align: top;\n",
       "    }\n",
       "\n",
       "    .dataframe thead th {\n",
       "        text-align: right;\n",
       "    }\n",
       "</style>\n",
       "<table border=\"1\" class=\"dataframe\">\n",
       "  <thead>\n",
       "    <tr style=\"text-align: right;\">\n",
       "      <th></th>\n",
       "      <th>요일</th>\n",
       "      <th>구장</th>\n",
       "      <th>관중수</th>\n",
       "    </tr>\n",
       "    <tr>\n",
       "      <th>날짜</th>\n",
       "      <th></th>\n",
       "      <th></th>\n",
       "      <th></th>\n",
       "    </tr>\n",
       "  </thead>\n",
       "  <tbody>\n",
       "    <tr>\n",
       "      <th>2021/04/03</th>\n",
       "      <td>토</td>\n",
       "      <td>고척</td>\n",
       "      <td>1,665</td>\n",
       "    </tr>\n",
       "    <tr>\n",
       "      <th>2021/04/04</th>\n",
       "      <td>일</td>\n",
       "      <td>수원</td>\n",
       "      <td>1,956</td>\n",
       "    </tr>\n",
       "    <tr>\n",
       "      <th>2021/04/04</th>\n",
       "      <td>일</td>\n",
       "      <td>잠실</td>\n",
       "      <td>2,410</td>\n",
       "    </tr>\n",
       "    <tr>\n",
       "      <th>2021/04/04</th>\n",
       "      <td>일</td>\n",
       "      <td>창원</td>\n",
       "      <td>4,375</td>\n",
       "    </tr>\n",
       "    <tr>\n",
       "      <th>2021/04/04</th>\n",
       "      <td>일</td>\n",
       "      <td>문학</td>\n",
       "      <td>2,300</td>\n",
       "    </tr>\n",
       "    <tr>\n",
       "      <th>...</th>\n",
       "      <td>...</td>\n",
       "      <td>...</td>\n",
       "      <td>...</td>\n",
       "    </tr>\n",
       "    <tr>\n",
       "      <th>2021/04/28</th>\n",
       "      <td>수</td>\n",
       "      <td>광주</td>\n",
       "      <td>1,502</td>\n",
       "    </tr>\n",
       "    <tr>\n",
       "      <th>2021/04/28</th>\n",
       "      <td>수</td>\n",
       "      <td>문학</td>\n",
       "      <td>1,797</td>\n",
       "    </tr>\n",
       "    <tr>\n",
       "      <th>2021/04/28</th>\n",
       "      <td>수</td>\n",
       "      <td>잠실</td>\n",
       "      <td>2,455</td>\n",
       "    </tr>\n",
       "    <tr>\n",
       "      <th>2021/04/28</th>\n",
       "      <td>수</td>\n",
       "      <td>대구</td>\n",
       "      <td>2,130</td>\n",
       "    </tr>\n",
       "    <tr>\n",
       "      <th>2021/04/28</th>\n",
       "      <td>수</td>\n",
       "      <td>고척</td>\n",
       "      <td>1,213</td>\n",
       "    </tr>\n",
       "  </tbody>\n",
       "</table>\n",
       "<p>106 rows × 3 columns</p>\n",
       "</div>"
      ],
      "text/plain": [
       "           요일  구장    관중수\n",
       "날짜                      \n",
       "2021/04/03  토  고척  1,665\n",
       "2021/04/04  일  수원  1,956\n",
       "2021/04/04  일  잠실  2,410\n",
       "2021/04/04  일  창원  4,375\n",
       "2021/04/04  일  문학  2,300\n",
       "...        ..  ..    ...\n",
       "2021/04/28  수  광주  1,502\n",
       "2021/04/28  수  문학  1,797\n",
       "2021/04/28  수  잠실  2,455\n",
       "2021/04/28  수  대구  2,130\n",
       "2021/04/28  수  고척  1,213\n",
       "\n",
       "[106 rows x 3 columns]"
      ]
     },
     "execution_count": 20,
     "metadata": {},
     "output_type": "execute_result"
    }
   ],
   "source": [
    "df"
   ]
  },
  {
   "cell_type": "code",
   "execution_count": 21,
   "metadata": {},
   "outputs": [],
   "source": [
    "df.to_csv('./2021_구장_관중수.csv', encoding = 'euc-kr')"
   ]
  },
  {
   "cell_type": "code",
   "execution_count": null,
   "metadata": {},
   "outputs": [],
   "source": []
  }
 ],
 "metadata": {
  "kernelspec": {
   "display_name": "Python 3",
   "language": "python",
   "name": "python3"
  },
  "language_info": {
   "codemirror_mode": {
    "name": "ipython",
    "version": 3
   },
   "file_extension": ".py",
   "mimetype": "text/x-python",
   "name": "python",
   "nbconvert_exporter": "python",
   "pygments_lexer": "ipython3",
   "version": "3.8.5"
  }
 },
 "nbformat": 4,
 "nbformat_minor": 4
}
