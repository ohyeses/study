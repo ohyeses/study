{
 "cells": [
  {
   "cell_type": "code",
   "execution_count": 2,
   "metadata": {},
   "outputs": [],
   "source": [
    "# 라이브러리 싹 임포트 시켜준다\n",
    "from bs4 import BeautifulSoup as bs\n",
    "from selenium import webdriver as wb\n",
    "import time\n",
    "from selenium.webdriver.common.keys import Keys\n",
    "import pandas as pd\n",
    "import requests as req\n",
    "import os\n",
    "from urllib.request import urlretrieve\n",
    "import numpy as np"
   ]
  },
  {
   "cell_type": "code",
   "execution_count": 3,
   "metadata": {},
   "outputs": [],
   "source": [
    "driver = wb.Chrome()\n",
    "url = 'https://www.koreabaseball.com/Schedule/Schedule.aspx?seriesId=3,4,5,7' # url에 크롤링할 주소 입력\n",
    "driver.get(url)\n",
    "\n",
    "soup = bs(driver.page_source, 'lxml') # 뭔지 모르지만 일단 가져오기\n",
    "h = {\"User-Agent\": \"Mozilla/5.0 (Windows NT 10.0; Win64; x64) AppleWebKit/537.36 (KHTML, like Gecko) Chrome/83.0.4103.116 Safari/537.36\"}\n",
    "res = req.get(url, headers = h)\n",
    "soup = bs(res.text, 'lxml')"
   ]
  },
  {
   "cell_type": "markdown",
   "metadata": {},
   "source": [
    "### 날짜, 구장, 경기 시간 가져오기"
   ]
  },
  {
   "cell_type": "markdown",
   "metadata": {},
   "source": [
    "### 2019년 데이터 선택"
   ]
  },
  {
   "cell_type": "code",
   "execution_count": 4,
   "metadata": {},
   "outputs": [],
   "source": [
    "search1 = driver.find_element_by_css_selector('#ddlYear > option:nth-child(2)')\n",
    "search1.click()"
   ]
  },
  {
   "cell_type": "markdown",
   "metadata": {},
   "source": [
    "#### 날짜 date_list 넣기"
   ]
  },
  {
   "cell_type": "code",
   "execution_count": 7,
   "metadata": {},
   "outputs": [],
   "source": [
    "date_list = []\n",
    "\n",
    "time.sleep(0.5)\n",
    "\n",
    "soup = bs(driver.page_source,'lxml')\n",
    "\n",
    "date = soup.select('#tblSchedule > tbody > tr > td:nth-of-type(1)')\n",
    "\n",
    "for i in range(len(date)):\n",
    "    date_list.append(date[i].text.strip()) # soup.select 한 date를 date_list에 담아준다.\n"
   ]
  },
  {
   "cell_type": "code",
   "execution_count": 8,
   "metadata": {},
   "outputs": [
    {
     "name": "stdout",
     "output_type": "stream",
     "text": [
      "['10.03(목)', '10.05(토)', '10.06(일)', '10.07(월)', '10.08(화)', '10.09(수)', '10.10(목)', '10.13(일)', '10.14(월)', '10.15(화)', '10.16(수)', '10.17(목)', '10.21(월)', '10.22(화)', '10.23(수)', '10.24(목)', '10.25(금)', '10.26(토)']\n"
     ]
    }
   ],
   "source": [
    "print(date_list)"
   ]
  },
  {
   "cell_type": "markdown",
   "metadata": {},
   "source": [
    "#### 시간 time_list "
   ]
  },
  {
   "cell_type": "code",
   "execution_count": 9,
   "metadata": {},
   "outputs": [],
   "source": [
    "time_list = []\n",
    "\n",
    "time.sleep(0.5)\n",
    "\n",
    "soup = bs(driver.page_source,'lxml')\n",
    "\n",
    "time = soup.select('#tblSchedule > tbody > tr > td:nth-of-type(2)')\n",
    "\n",
    "for i in range(len(time)):\n",
    "    time_list.append(time[i].text.strip()) # soup.select 한 date를 date_list에 담아준다.\n"
   ]
  },
  {
   "cell_type": "code",
   "execution_count": 10,
   "metadata": {},
   "outputs": [
    {
     "data": {
      "text/plain": [
       "['14:00',\n",
       " '',\n",
       " '14:00',\n",
       " '18:30',\n",
       " '',\n",
       " '14:00',\n",
       " '18:30',\n",
       " '',\n",
       " '18:30',\n",
       " '18:30',\n",
       " '',\n",
       " '18:30',\n",
       " '',\n",
       " '18:30',\n",
       " '18:30',\n",
       " '',\n",
       " '18:30',\n",
       " '14:00']"
      ]
     },
     "execution_count": 10,
     "metadata": {},
     "output_type": "execute_result"
    }
   ],
   "source": [
    "time_list"
   ]
  },
  {
   "cell_type": "markdown",
   "metadata": {},
   "source": [
    "#### 경기 game"
   ]
  },
  {
   "cell_type": "code",
   "execution_count": 12,
   "metadata": {},
   "outputs": [],
   "source": [
    "game_list = []\n",
    "\n",
    "\n",
    "soup = bs(driver.page_source,'lxml')\n",
    "\n",
    "game = soup.select('#tblSchedule > tbody > tr > td:nth-of-type(3)')\n",
    "\n",
    "for i in range(len(game)):\n",
    "    game_list.append(game[i].text.strip()) # soup.select 한 date를 date_list에 담아준다.\n"
   ]
  },
  {
   "cell_type": "code",
   "execution_count": 13,
   "metadata": {},
   "outputs": [
    {
     "data": {
      "text/plain": [
       "['NC1vs3LG',\n",
       " '',\n",
       " 'LG0vs1키움',\n",
       " 'LG4vs5키움',\n",
       " '',\n",
       " '키움2vs4LG',\n",
       " '키움10vs5LG',\n",
       " '',\n",
       " '키움3vs0SK',\n",
       " '키움8vs7SK',\n",
       " '',\n",
       " 'SK1vs10키움',\n",
       " '',\n",
       " '키움6vs7두산',\n",
       " '키움5vs6두산',\n",
       " '',\n",
       " '두산5vs0키움',\n",
       " '두산11vs9키움']"
      ]
     },
     "execution_count": 13,
     "metadata": {},
     "output_type": "execute_result"
    }
   ],
   "source": [
    "game_list"
   ]
  },
  {
   "cell_type": "markdown",
   "metadata": {},
   "source": [
    "### 데이터 프레임 만들기"
   ]
  },
  {
   "cell_type": "code",
   "execution_count": 14,
   "metadata": {},
   "outputs": [
    {
     "data": {
      "text/html": [
       "<div>\n",
       "<style scoped>\n",
       "    .dataframe tbody tr th:only-of-type {\n",
       "        vertical-align: middle;\n",
       "    }\n",
       "\n",
       "    .dataframe tbody tr th {\n",
       "        vertical-align: top;\n",
       "    }\n",
       "\n",
       "    .dataframe thead th {\n",
       "        text-align: right;\n",
       "    }\n",
       "</style>\n",
       "<table border=\"1\" class=\"dataframe\">\n",
       "  <thead>\n",
       "    <tr style=\"text-align: right;\">\n",
       "      <th></th>\n",
       "      <th>시간</th>\n",
       "      <th>경기</th>\n",
       "    </tr>\n",
       "    <tr>\n",
       "      <th>날짜</th>\n",
       "      <th></th>\n",
       "      <th></th>\n",
       "    </tr>\n",
       "  </thead>\n",
       "  <tbody>\n",
       "    <tr>\n",
       "      <th>10.03(목)</th>\n",
       "      <td>14:00</td>\n",
       "      <td>NC1vs3LG</td>\n",
       "    </tr>\n",
       "    <tr>\n",
       "      <th>10.05(토)</th>\n",
       "      <td></td>\n",
       "      <td></td>\n",
       "    </tr>\n",
       "    <tr>\n",
       "      <th>10.06(일)</th>\n",
       "      <td>14:00</td>\n",
       "      <td>LG0vs1키움</td>\n",
       "    </tr>\n",
       "    <tr>\n",
       "      <th>10.07(월)</th>\n",
       "      <td>18:30</td>\n",
       "      <td>LG4vs5키움</td>\n",
       "    </tr>\n",
       "    <tr>\n",
       "      <th>10.08(화)</th>\n",
       "      <td></td>\n",
       "      <td></td>\n",
       "    </tr>\n",
       "    <tr>\n",
       "      <th>10.09(수)</th>\n",
       "      <td>14:00</td>\n",
       "      <td>키움2vs4LG</td>\n",
       "    </tr>\n",
       "    <tr>\n",
       "      <th>10.10(목)</th>\n",
       "      <td>18:30</td>\n",
       "      <td>키움10vs5LG</td>\n",
       "    </tr>\n",
       "    <tr>\n",
       "      <th>10.13(일)</th>\n",
       "      <td></td>\n",
       "      <td></td>\n",
       "    </tr>\n",
       "    <tr>\n",
       "      <th>10.14(월)</th>\n",
       "      <td>18:30</td>\n",
       "      <td>키움3vs0SK</td>\n",
       "    </tr>\n",
       "    <tr>\n",
       "      <th>10.15(화)</th>\n",
       "      <td>18:30</td>\n",
       "      <td>키움8vs7SK</td>\n",
       "    </tr>\n",
       "    <tr>\n",
       "      <th>10.16(수)</th>\n",
       "      <td></td>\n",
       "      <td></td>\n",
       "    </tr>\n",
       "    <tr>\n",
       "      <th>10.17(목)</th>\n",
       "      <td>18:30</td>\n",
       "      <td>SK1vs10키움</td>\n",
       "    </tr>\n",
       "    <tr>\n",
       "      <th>10.21(월)</th>\n",
       "      <td></td>\n",
       "      <td></td>\n",
       "    </tr>\n",
       "    <tr>\n",
       "      <th>10.22(화)</th>\n",
       "      <td>18:30</td>\n",
       "      <td>키움6vs7두산</td>\n",
       "    </tr>\n",
       "    <tr>\n",
       "      <th>10.23(수)</th>\n",
       "      <td>18:30</td>\n",
       "      <td>키움5vs6두산</td>\n",
       "    </tr>\n",
       "    <tr>\n",
       "      <th>10.24(목)</th>\n",
       "      <td></td>\n",
       "      <td></td>\n",
       "    </tr>\n",
       "    <tr>\n",
       "      <th>10.25(금)</th>\n",
       "      <td>18:30</td>\n",
       "      <td>두산5vs0키움</td>\n",
       "    </tr>\n",
       "    <tr>\n",
       "      <th>10.26(토)</th>\n",
       "      <td>14:00</td>\n",
       "      <td>두산11vs9키움</td>\n",
       "    </tr>\n",
       "  </tbody>\n",
       "</table>\n",
       "</div>"
      ],
      "text/plain": [
       "             시간         경기\n",
       "날짜                        \n",
       "10.03(목)  14:00   NC1vs3LG\n",
       "10.05(토)                  \n",
       "10.06(일)  14:00   LG0vs1키움\n",
       "10.07(월)  18:30   LG4vs5키움\n",
       "10.08(화)                  \n",
       "10.09(수)  14:00   키움2vs4LG\n",
       "10.10(목)  18:30  키움10vs5LG\n",
       "10.13(일)                  \n",
       "10.14(월)  18:30   키움3vs0SK\n",
       "10.15(화)  18:30   키움8vs7SK\n",
       "10.16(수)                  \n",
       "10.17(목)  18:30  SK1vs10키움\n",
       "10.21(월)                  \n",
       "10.22(화)  18:30   키움6vs7두산\n",
       "10.23(수)  18:30   키움5vs6두산\n",
       "10.24(목)                  \n",
       "10.25(금)  18:30   두산5vs0키움\n",
       "10.26(토)  14:00  두산11vs9키움"
      ]
     },
     "execution_count": 14,
     "metadata": {},
     "output_type": "execute_result"
    }
   ],
   "source": [
    "dic = {'날짜' : date_list, '시간' : time_list, '경기' : game_list}\n",
    "df = pd.DataFrame(dic)\n",
    "df.set_index('날짜', inplace = True)\n",
    "df"
   ]
  },
  {
   "cell_type": "code",
   "execution_count": 15,
   "metadata": {},
   "outputs": [],
   "source": [
    "df.to_csv('./2019_경기시간.csv', encoding = 'euc-kr')"
   ]
  },
  {
   "cell_type": "code",
   "execution_count": null,
   "metadata": {},
   "outputs": [],
   "source": []
  }
 ],
 "metadata": {
  "kernelspec": {
   "display_name": "Python 3",
   "language": "python",
   "name": "python3"
  },
  "language_info": {
   "codemirror_mode": {
    "name": "ipython",
    "version": 3
   },
   "file_extension": ".py",
   "mimetype": "text/x-python",
   "name": "python",
   "nbconvert_exporter": "python",
   "pygments_lexer": "ipython3",
   "version": "3.8.5"
  }
 },
 "nbformat": 4,
 "nbformat_minor": 4
}
