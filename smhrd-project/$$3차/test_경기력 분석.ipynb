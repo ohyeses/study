{
 "cells": [
  {
   "cell_type": "code",
   "execution_count": 1,
   "id": "6f9f6026",
   "metadata": {},
   "outputs": [],
   "source": [
    "import pandas as pd\n",
    "pd.set_option('display.max_row', 500)\n",
    "pd.set_option('display.max_columns', 100)\n",
    "import numpy as np\n",
    "import matplotlib.pyplot as plt  # 그래프 그리는 라이브러리\n",
    "from sklearn.model_selection import train_test_split\n",
    "from sklearn import metrics  # 평가를 위한 라이브러리\n",
    "from sklearn.neighbors import KNeighborsClassifier\n",
    "from sklearn.model_selection import cross_val_score\n",
    "from sklearn.preprocessing import StandardScaler\n",
    "from sklearn.tree import DecisionTreeClassifier\n",
    "from sklearn.svm import SVC, LinearSVR, SVR\n",
    "\n",
    "import seaborn as sns  # 시각화 라이브러리"
   ]
  },
  {
   "cell_type": "code",
   "execution_count": null,
   "id": "57491ccf",
   "metadata": {},
   "outputs": [],
   "source": []
  },
  {
   "cell_type": "code",
   "execution_count": 2,
   "id": "3bdd3d93",
   "metadata": {},
   "outputs": [],
   "source": [
    "train = pd.read_csv('data/data.csv', index_col = 'day_text')"
   ]
  },
  {
   "cell_type": "code",
   "execution_count": 3,
   "id": "5445c736",
   "metadata": {},
   "outputs": [
    {
     "name": "stdout",
     "output_type": "stream",
     "text": [
      "<class 'pandas.core.frame.DataFrame'>\n",
      "Index: 740 entries, 7.31금 to 10.31토\n",
      "Data columns (total 17 columns):\n",
      " #   Column       Non-Null Count  Dtype  \n",
      "---  ------       --------------  -----  \n",
      " 0   time_text    740 non-null    object \n",
      " 1   team_text    740 non-null    object \n",
      " 2   location     740 non-null    object \n",
      " 3   H_text       740 non-null    int64  \n",
      " 4   HR_text      740 non-null    int64  \n",
      " 5   S_text       740 non-null    int64  \n",
      " 6   ST_text      740 non-null    int64  \n",
      " 7   DU_text      740 non-null    int64  \n",
      " 8   ER_text      740 non-null    int64  \n",
      " 9   result_text  740 non-null    int64  \n",
      " 10  temp         740 non-null    float64\n",
      " 11  rain         740 non-null    float64\n",
      " 12  wind         740 non-null    float64\n",
      " 13  d_wind       740 non-null    int64  \n",
      " 14  humidity     740 non-null    int64  \n",
      " 15  atmosphere   740 non-null    float64\n",
      " 16  surface      740 non-null    float64\n",
      "dtypes: float64(5), int64(9), object(3)\n",
      "memory usage: 104.1+ KB\n"
     ]
    }
   ],
   "source": [
    "train.info()"
   ]
  },
  {
   "cell_type": "code",
   "execution_count": 4,
   "id": "ce2d7fb9",
   "metadata": {
    "scrolled": false
   },
   "outputs": [
    {
     "data": {
      "text/html": [
       "<div>\n",
       "<style scoped>\n",
       "    .dataframe tbody tr th:only-of-type {\n",
       "        vertical-align: middle;\n",
       "    }\n",
       "\n",
       "    .dataframe tbody tr th {\n",
       "        vertical-align: top;\n",
       "    }\n",
       "\n",
       "    .dataframe thead th {\n",
       "        text-align: right;\n",
       "    }\n",
       "</style>\n",
       "<table border=\"1\" class=\"dataframe\">\n",
       "  <thead>\n",
       "    <tr style=\"text-align: right;\">\n",
       "      <th></th>\n",
       "      <th>H_text</th>\n",
       "      <th>HR_text</th>\n",
       "      <th>S_text</th>\n",
       "      <th>ST_text</th>\n",
       "      <th>DU_text</th>\n",
       "      <th>ER_text</th>\n",
       "      <th>result_text</th>\n",
       "      <th>temp</th>\n",
       "      <th>rain</th>\n",
       "      <th>wind</th>\n",
       "      <th>d_wind</th>\n",
       "      <th>humidity</th>\n",
       "      <th>atmosphere</th>\n",
       "      <th>surface</th>\n",
       "    </tr>\n",
       "  </thead>\n",
       "  <tbody>\n",
       "    <tr>\n",
       "      <th>H_text</th>\n",
       "      <td>1.000000</td>\n",
       "      <td>0.391909</td>\n",
       "      <td>0.092599</td>\n",
       "      <td>-0.098078</td>\n",
       "      <td>0.086495</td>\n",
       "      <td>-0.012345</td>\n",
       "      <td>0.422553</td>\n",
       "      <td>-0.012543</td>\n",
       "      <td>-0.015214</td>\n",
       "      <td>-0.041693</td>\n",
       "      <td>0.011638</td>\n",
       "      <td>0.040668</td>\n",
       "      <td>0.017977</td>\n",
       "      <td>-0.040077</td>\n",
       "    </tr>\n",
       "    <tr>\n",
       "      <th>HR_text</th>\n",
       "      <td>0.391909</td>\n",
       "      <td>1.000000</td>\n",
       "      <td>-0.033677</td>\n",
       "      <td>-0.059332</td>\n",
       "      <td>-0.049183</td>\n",
       "      <td>-0.004062</td>\n",
       "      <td>0.269664</td>\n",
       "      <td>0.013775</td>\n",
       "      <td>-0.005094</td>\n",
       "      <td>-0.021086</td>\n",
       "      <td>0.000106</td>\n",
       "      <td>0.030995</td>\n",
       "      <td>0.006119</td>\n",
       "      <td>-0.013063</td>\n",
       "    </tr>\n",
       "    <tr>\n",
       "      <th>S_text</th>\n",
       "      <td>0.092599</td>\n",
       "      <td>-0.033677</td>\n",
       "      <td>1.000000</td>\n",
       "      <td>0.004025</td>\n",
       "      <td>-0.021023</td>\n",
       "      <td>-0.039375</td>\n",
       "      <td>0.112246</td>\n",
       "      <td>0.015431</td>\n",
       "      <td>0.010188</td>\n",
       "      <td>0.025437</td>\n",
       "      <td>0.040763</td>\n",
       "      <td>0.003682</td>\n",
       "      <td>0.027279</td>\n",
       "      <td>0.013697</td>\n",
       "    </tr>\n",
       "    <tr>\n",
       "      <th>ST_text</th>\n",
       "      <td>-0.098078</td>\n",
       "      <td>-0.059332</td>\n",
       "      <td>0.004025</td>\n",
       "      <td>1.000000</td>\n",
       "      <td>-0.226409</td>\n",
       "      <td>0.011206</td>\n",
       "      <td>-0.251901</td>\n",
       "      <td>0.068817</td>\n",
       "      <td>-0.094090</td>\n",
       "      <td>-0.025293</td>\n",
       "      <td>0.039729</td>\n",
       "      <td>0.035899</td>\n",
       "      <td>0.107218</td>\n",
       "      <td>0.058981</td>\n",
       "    </tr>\n",
       "    <tr>\n",
       "      <th>DU_text</th>\n",
       "      <td>0.086495</td>\n",
       "      <td>-0.049183</td>\n",
       "      <td>-0.021023</td>\n",
       "      <td>-0.226409</td>\n",
       "      <td>1.000000</td>\n",
       "      <td>0.026558</td>\n",
       "      <td>-0.030695</td>\n",
       "      <td>-0.007008</td>\n",
       "      <td>-0.050524</td>\n",
       "      <td>0.054661</td>\n",
       "      <td>0.009500</td>\n",
       "      <td>-0.057874</td>\n",
       "      <td>-0.017506</td>\n",
       "      <td>-0.007002</td>\n",
       "    </tr>\n",
       "    <tr>\n",
       "      <th>ER_text</th>\n",
       "      <td>-0.012345</td>\n",
       "      <td>-0.004062</td>\n",
       "      <td>-0.039375</td>\n",
       "      <td>0.011206</td>\n",
       "      <td>0.026558</td>\n",
       "      <td>1.000000</td>\n",
       "      <td>-0.152449</td>\n",
       "      <td>0.030468</td>\n",
       "      <td>0.049563</td>\n",
       "      <td>0.016587</td>\n",
       "      <td>0.008236</td>\n",
       "      <td>0.001046</td>\n",
       "      <td>-0.027363</td>\n",
       "      <td>0.031891</td>\n",
       "    </tr>\n",
       "    <tr>\n",
       "      <th>result_text</th>\n",
       "      <td>0.422553</td>\n",
       "      <td>0.269664</td>\n",
       "      <td>0.112246</td>\n",
       "      <td>-0.251901</td>\n",
       "      <td>-0.030695</td>\n",
       "      <td>-0.152449</td>\n",
       "      <td>1.000000</td>\n",
       "      <td>-0.010046</td>\n",
       "      <td>0.000882</td>\n",
       "      <td>0.004080</td>\n",
       "      <td>-0.002168</td>\n",
       "      <td>0.002019</td>\n",
       "      <td>-0.000910</td>\n",
       "      <td>-0.015586</td>\n",
       "    </tr>\n",
       "    <tr>\n",
       "      <th>temp</th>\n",
       "      <td>-0.012543</td>\n",
       "      <td>0.013775</td>\n",
       "      <td>0.015431</td>\n",
       "      <td>0.068817</td>\n",
       "      <td>-0.007008</td>\n",
       "      <td>0.030468</td>\n",
       "      <td>-0.010046</td>\n",
       "      <td>1.000000</td>\n",
       "      <td>0.059063</td>\n",
       "      <td>0.273238</td>\n",
       "      <td>0.161045</td>\n",
       "      <td>0.232028</td>\n",
       "      <td>0.227804</td>\n",
       "      <td>0.885897</td>\n",
       "    </tr>\n",
       "    <tr>\n",
       "      <th>rain</th>\n",
       "      <td>-0.015214</td>\n",
       "      <td>-0.005094</td>\n",
       "      <td>0.010188</td>\n",
       "      <td>-0.094090</td>\n",
       "      <td>-0.050524</td>\n",
       "      <td>0.049563</td>\n",
       "      <td>0.000882</td>\n",
       "      <td>0.059063</td>\n",
       "      <td>1.000000</td>\n",
       "      <td>0.021420</td>\n",
       "      <td>-0.006092</td>\n",
       "      <td>0.260888</td>\n",
       "      <td>-0.000025</td>\n",
       "      <td>0.044553</td>\n",
       "    </tr>\n",
       "    <tr>\n",
       "      <th>wind</th>\n",
       "      <td>-0.041693</td>\n",
       "      <td>-0.021086</td>\n",
       "      <td>0.025437</td>\n",
       "      <td>-0.025293</td>\n",
       "      <td>0.054661</td>\n",
       "      <td>0.016587</td>\n",
       "      <td>0.004080</td>\n",
       "      <td>0.273238</td>\n",
       "      <td>0.021420</td>\n",
       "      <td>1.000000</td>\n",
       "      <td>0.087908</td>\n",
       "      <td>-0.218150</td>\n",
       "      <td>0.111320</td>\n",
       "      <td>0.211262</td>\n",
       "    </tr>\n",
       "    <tr>\n",
       "      <th>d_wind</th>\n",
       "      <td>0.011638</td>\n",
       "      <td>0.000106</td>\n",
       "      <td>0.040763</td>\n",
       "      <td>0.039729</td>\n",
       "      <td>0.009500</td>\n",
       "      <td>0.008236</td>\n",
       "      <td>-0.002168</td>\n",
       "      <td>0.161045</td>\n",
       "      <td>-0.006092</td>\n",
       "      <td>0.087908</td>\n",
       "      <td>1.000000</td>\n",
       "      <td>-0.001830</td>\n",
       "      <td>0.120328</td>\n",
       "      <td>0.134660</td>\n",
       "    </tr>\n",
       "    <tr>\n",
       "      <th>humidity</th>\n",
       "      <td>0.040668</td>\n",
       "      <td>0.030995</td>\n",
       "      <td>0.003682</td>\n",
       "      <td>0.035899</td>\n",
       "      <td>-0.057874</td>\n",
       "      <td>0.001046</td>\n",
       "      <td>0.002019</td>\n",
       "      <td>0.232028</td>\n",
       "      <td>0.260888</td>\n",
       "      <td>-0.218150</td>\n",
       "      <td>-0.001830</td>\n",
       "      <td>1.000000</td>\n",
       "      <td>0.259777</td>\n",
       "      <td>0.104597</td>\n",
       "    </tr>\n",
       "    <tr>\n",
       "      <th>atmosphere</th>\n",
       "      <td>0.017977</td>\n",
       "      <td>0.006119</td>\n",
       "      <td>0.027279</td>\n",
       "      <td>0.107218</td>\n",
       "      <td>-0.017506</td>\n",
       "      <td>-0.027363</td>\n",
       "      <td>-0.000910</td>\n",
       "      <td>0.227804</td>\n",
       "      <td>-0.000025</td>\n",
       "      <td>0.111320</td>\n",
       "      <td>0.120328</td>\n",
       "      <td>0.259777</td>\n",
       "      <td>1.000000</td>\n",
       "      <td>0.193904</td>\n",
       "    </tr>\n",
       "    <tr>\n",
       "      <th>surface</th>\n",
       "      <td>-0.040077</td>\n",
       "      <td>-0.013063</td>\n",
       "      <td>0.013697</td>\n",
       "      <td>0.058981</td>\n",
       "      <td>-0.007002</td>\n",
       "      <td>0.031891</td>\n",
       "      <td>-0.015586</td>\n",
       "      <td>0.885897</td>\n",
       "      <td>0.044553</td>\n",
       "      <td>0.211262</td>\n",
       "      <td>0.134660</td>\n",
       "      <td>0.104597</td>\n",
       "      <td>0.193904</td>\n",
       "      <td>1.000000</td>\n",
       "    </tr>\n",
       "  </tbody>\n",
       "</table>\n",
       "</div>"
      ],
      "text/plain": [
       "               H_text   HR_text    S_text   ST_text   DU_text   ER_text  \\\n",
       "H_text       1.000000  0.391909  0.092599 -0.098078  0.086495 -0.012345   \n",
       "HR_text      0.391909  1.000000 -0.033677 -0.059332 -0.049183 -0.004062   \n",
       "S_text       0.092599 -0.033677  1.000000  0.004025 -0.021023 -0.039375   \n",
       "ST_text     -0.098078 -0.059332  0.004025  1.000000 -0.226409  0.011206   \n",
       "DU_text      0.086495 -0.049183 -0.021023 -0.226409  1.000000  0.026558   \n",
       "ER_text     -0.012345 -0.004062 -0.039375  0.011206  0.026558  1.000000   \n",
       "result_text  0.422553  0.269664  0.112246 -0.251901 -0.030695 -0.152449   \n",
       "temp        -0.012543  0.013775  0.015431  0.068817 -0.007008  0.030468   \n",
       "rain        -0.015214 -0.005094  0.010188 -0.094090 -0.050524  0.049563   \n",
       "wind        -0.041693 -0.021086  0.025437 -0.025293  0.054661  0.016587   \n",
       "d_wind       0.011638  0.000106  0.040763  0.039729  0.009500  0.008236   \n",
       "humidity     0.040668  0.030995  0.003682  0.035899 -0.057874  0.001046   \n",
       "atmosphere   0.017977  0.006119  0.027279  0.107218 -0.017506 -0.027363   \n",
       "surface     -0.040077 -0.013063  0.013697  0.058981 -0.007002  0.031891   \n",
       "\n",
       "             result_text      temp      rain      wind    d_wind  humidity  \\\n",
       "H_text          0.422553 -0.012543 -0.015214 -0.041693  0.011638  0.040668   \n",
       "HR_text         0.269664  0.013775 -0.005094 -0.021086  0.000106  0.030995   \n",
       "S_text          0.112246  0.015431  0.010188  0.025437  0.040763  0.003682   \n",
       "ST_text        -0.251901  0.068817 -0.094090 -0.025293  0.039729  0.035899   \n",
       "DU_text        -0.030695 -0.007008 -0.050524  0.054661  0.009500 -0.057874   \n",
       "ER_text        -0.152449  0.030468  0.049563  0.016587  0.008236  0.001046   \n",
       "result_text     1.000000 -0.010046  0.000882  0.004080 -0.002168  0.002019   \n",
       "temp           -0.010046  1.000000  0.059063  0.273238  0.161045  0.232028   \n",
       "rain            0.000882  0.059063  1.000000  0.021420 -0.006092  0.260888   \n",
       "wind            0.004080  0.273238  0.021420  1.000000  0.087908 -0.218150   \n",
       "d_wind         -0.002168  0.161045 -0.006092  0.087908  1.000000 -0.001830   \n",
       "humidity        0.002019  0.232028  0.260888 -0.218150 -0.001830  1.000000   \n",
       "atmosphere     -0.000910  0.227804 -0.000025  0.111320  0.120328  0.259777   \n",
       "surface        -0.015586  0.885897  0.044553  0.211262  0.134660  0.104597   \n",
       "\n",
       "             atmosphere   surface  \n",
       "H_text         0.017977 -0.040077  \n",
       "HR_text        0.006119 -0.013063  \n",
       "S_text         0.027279  0.013697  \n",
       "ST_text        0.107218  0.058981  \n",
       "DU_text       -0.017506 -0.007002  \n",
       "ER_text       -0.027363  0.031891  \n",
       "result_text   -0.000910 -0.015586  \n",
       "temp           0.227804  0.885897  \n",
       "rain          -0.000025  0.044553  \n",
       "wind           0.111320  0.211262  \n",
       "d_wind         0.120328  0.134660  \n",
       "humidity       0.259777  0.104597  \n",
       "atmosphere     1.000000  0.193904  \n",
       "surface        0.193904  1.000000  "
      ]
     },
     "execution_count": 4,
     "metadata": {},
     "output_type": "execute_result"
    }
   ],
   "source": [
    "train.corr() # 상관관계"
   ]
  },
  {
   "cell_type": "markdown",
   "id": "6065f754",
   "metadata": {},
   "source": [
    "# wind 랑 안타 관계 시각화"
   ]
  },
  {
   "cell_type": "code",
   "execution_count": 5,
   "id": "bd59213c",
   "metadata": {},
   "outputs": [],
   "source": [
    "# bins = [0,2,4,6,8]  # 구간 만들기\n",
    "# labels = ['0~2','2~4','4~6', '6~8']\n",
    "# train['wind'] = pd.cut(train['wind'], bins = bins, labels = labels)\n",
    "# test['wind'] = pd.cut(test['wind'], bins = bins, labels = labels)"
   ]
  },
  {
   "cell_type": "code",
   "execution_count": 6,
   "id": "b3f5e126",
   "metadata": {},
   "outputs": [],
   "source": [
    "# sns.countplot(data = train, x = 'wind', hue='H_text')"
   ]
  },
  {
   "cell_type": "code",
   "execution_count": 7,
   "id": "fb1324f3",
   "metadata": {},
   "outputs": [],
   "source": [
    "# sns.countplot(data = train, x = 'H_text', hue='wind')"
   ]
  },
  {
   "cell_type": "markdown",
   "id": "a1b79006",
   "metadata": {},
   "source": [
    "## 장소 원핫 인코딩"
   ]
  },
  {
   "cell_type": "code",
   "execution_count": 8,
   "id": "ff3ecc63",
   "metadata": {},
   "outputs": [],
   "source": [
    "train.drop('time_text', axis = 1 , inplace = True)"
   ]
  },
  {
   "cell_type": "code",
   "execution_count": 9,
   "id": "2bfb6649",
   "metadata": {},
   "outputs": [],
   "source": [
    "cat_feature = ['location','team_text']"
   ]
  },
  {
   "cell_type": "code",
   "execution_count": 10,
   "id": "c78ab887",
   "metadata": {},
   "outputs": [],
   "source": [
    "for i in cat_feature:\n",
    "    dummy = pd.get_dummies(train[i], prefix = i)\n",
    "    train = pd.concat([train, dummy], axis = 1)\n",
    "    train.drop(i, axis=1, inplace = True)\n",
    "    "
   ]
  },
  {
   "cell_type": "code",
   "execution_count": 11,
   "id": "6c397aa5",
   "metadata": {},
   "outputs": [
    {
     "name": "stdout",
     "output_type": "stream",
     "text": [
      "(555, 31) (185, 31) (555,) (185,)\n"
     ]
    }
   ],
   "source": [
    "y_train = train['H_text']\n",
    "X_train = train.drop('H_text', axis = 1)\n",
    "\n",
    "\n",
    "X_train, X_test, y_train, y_test = train_test_split(X_train, y_train, random_state=0)\n",
    "print(X_train.shape, X_test.shape, y_train.shape, y_test.shape)"
   ]
  },
  {
   "cell_type": "code",
   "execution_count": 12,
   "id": "ea7a2837",
   "metadata": {},
   "outputs": [
    {
     "name": "stdout",
     "output_type": "stream",
     "text": [
      "<class 'pandas.core.frame.DataFrame'>\n",
      "Index: 555 entries, 9.6일 to 10.22목\n",
      "Data columns (total 31 columns):\n",
      " #   Column              Non-Null Count  Dtype  \n",
      "---  ------              --------------  -----  \n",
      " 0   HR_text             555 non-null    int64  \n",
      " 1   S_text              555 non-null    int64  \n",
      " 2   ST_text             555 non-null    int64  \n",
      " 3   DU_text             555 non-null    int64  \n",
      " 4   ER_text             555 non-null    int64  \n",
      " 5   result_text         555 non-null    int64  \n",
      " 6   temp                555 non-null    float64\n",
      " 7   rain                555 non-null    float64\n",
      " 8   wind                555 non-null    float64\n",
      " 9   d_wind              555 non-null    int64  \n",
      " 10  humidity            555 non-null    int64  \n",
      " 11  atmosphere          555 non-null    float64\n",
      " 12  surface             555 non-null    float64\n",
      " 13  location_광주         555 non-null    uint8  \n",
      " 14  location_대구         555 non-null    uint8  \n",
      " 15  location_대전         555 non-null    uint8  \n",
      " 16  location_부산         555 non-null    uint8  \n",
      " 17  location_서울         555 non-null    uint8  \n",
      " 18  location_수원         555 non-null    uint8  \n",
      " 19  location_인천         555 non-null    uint8  \n",
      " 20  location_창원         555 non-null    uint8  \n",
      " 21  team_text_KIA 타이거즈  555 non-null    uint8  \n",
      " 22  team_text_LG 트윈스    555 non-null    uint8  \n",
      " 23  team_text_NC 다이노스   555 non-null    uint8  \n",
      " 24  team_text_SK 와이번스   555 non-null    uint8  \n",
      " 25  team_text_kt wiz    555 non-null    uint8  \n",
      " 26  team_text_두산 베어스    555 non-null    uint8  \n",
      " 27  team_text_롯데 자이언츠   555 non-null    uint8  \n",
      " 28  team_text_삼성 라이온즈   555 non-null    uint8  \n",
      " 29  team_text_키움 히어로즈   555 non-null    uint8  \n",
      " 30  team_text_한화 이글스    555 non-null    uint8  \n",
      "dtypes: float64(5), int64(8), uint8(18)\n",
      "memory usage: 70.5+ KB\n"
     ]
    }
   ],
   "source": [
    "X_train.info()"
   ]
  },
  {
   "cell_type": "code",
   "execution_count": 13,
   "id": "d7e66aca",
   "metadata": {},
   "outputs": [
    {
     "name": "stdout",
     "output_type": "stream",
     "text": [
      "<class 'pandas.core.frame.DataFrame'>\n",
      "Index: 185 entries, 8.25화 to 10.3토\n",
      "Data columns (total 31 columns):\n",
      " #   Column              Non-Null Count  Dtype  \n",
      "---  ------              --------------  -----  \n",
      " 0   HR_text             185 non-null    int64  \n",
      " 1   S_text              185 non-null    int64  \n",
      " 2   ST_text             185 non-null    int64  \n",
      " 3   DU_text             185 non-null    int64  \n",
      " 4   ER_text             185 non-null    int64  \n",
      " 5   result_text         185 non-null    int64  \n",
      " 6   temp                185 non-null    float64\n",
      " 7   rain                185 non-null    float64\n",
      " 8   wind                185 non-null    float64\n",
      " 9   d_wind              185 non-null    int64  \n",
      " 10  humidity            185 non-null    int64  \n",
      " 11  atmosphere          185 non-null    float64\n",
      " 12  surface             185 non-null    float64\n",
      " 13  location_광주         185 non-null    uint8  \n",
      " 14  location_대구         185 non-null    uint8  \n",
      " 15  location_대전         185 non-null    uint8  \n",
      " 16  location_부산         185 non-null    uint8  \n",
      " 17  location_서울         185 non-null    uint8  \n",
      " 18  location_수원         185 non-null    uint8  \n",
      " 19  location_인천         185 non-null    uint8  \n",
      " 20  location_창원         185 non-null    uint8  \n",
      " 21  team_text_KIA 타이거즈  185 non-null    uint8  \n",
      " 22  team_text_LG 트윈스    185 non-null    uint8  \n",
      " 23  team_text_NC 다이노스   185 non-null    uint8  \n",
      " 24  team_text_SK 와이번스   185 non-null    uint8  \n",
      " 25  team_text_kt wiz    185 non-null    uint8  \n",
      " 26  team_text_두산 베어스    185 non-null    uint8  \n",
      " 27  team_text_롯데 자이언츠   185 non-null    uint8  \n",
      " 28  team_text_삼성 라이온즈   185 non-null    uint8  \n",
      " 29  team_text_키움 히어로즈   185 non-null    uint8  \n",
      " 30  team_text_한화 이글스    185 non-null    uint8  \n",
      "dtypes: float64(5), int64(8), uint8(18)\n",
      "memory usage: 23.5+ KB\n"
     ]
    }
   ],
   "source": [
    "X_test.info()"
   ]
  },
  {
   "cell_type": "code",
   "execution_count": 14,
   "id": "8a76b228",
   "metadata": {},
   "outputs": [
    {
     "data": {
      "text/plain": [
       "set()"
      ]
     },
     "execution_count": 14,
     "metadata": {},
     "output_type": "execute_result"
    }
   ],
   "source": [
    "set(X_train.columns) - set(X_test.columns)"
   ]
  },
  {
   "cell_type": "markdown",
   "id": "bd389f53",
   "metadata": {},
   "source": [
    "# KNN"
   ]
  },
  {
   "cell_type": "code",
   "execution_count": 15,
   "id": "5a6a7588",
   "metadata": {},
   "outputs": [
    {
     "name": "stderr",
     "output_type": "stream",
     "text": [
      "C:\\Users\\smhrd\\anaconda3\\lib\\site-packages\\sklearn\\model_selection\\_split.py:666: UserWarning: The least populated class in y has only 1 members, which is less than n_splits=5.\n",
      "  warnings.warn((\"The least populated class in y has only %d\"\n"
     ]
    },
    {
     "data": {
      "text/plain": [
       "array([0.07207207, 0.04504505, 0.07207207, 0.09009009, 0.06306306])"
      ]
     },
     "execution_count": 15,
     "metadata": {},
     "output_type": "execute_result"
    }
   ],
   "source": [
    "knn_model = KNeighborsClassifier(n_neighbors = 3)\n",
    "result = cross_val_score(knn_model,\n",
    "                        X_train,\n",
    "                        y_train,\n",
    "                        cv = 5)\n",
    "result"
   ]
  },
  {
   "cell_type": "code",
   "execution_count": 16,
   "id": "a01b10f0",
   "metadata": {},
   "outputs": [
    {
     "data": {
      "text/plain": [
       "0.06846846846846848"
      ]
     },
     "execution_count": 16,
     "metadata": {},
     "output_type": "execute_result"
    }
   ],
   "source": [
    "result.mean()"
   ]
  },
  {
   "cell_type": "markdown",
   "id": "8b00e9c3",
   "metadata": {},
   "source": [
    "## KNN Scaler"
   ]
  },
  {
   "cell_type": "code",
   "execution_count": 17,
   "id": "78e24446",
   "metadata": {},
   "outputs": [],
   "source": [
    "scaler = StandardScaler()"
   ]
  },
  {
   "cell_type": "code",
   "execution_count": 18,
   "id": "edbb403a",
   "metadata": {},
   "outputs": [
    {
     "data": {
      "text/plain": [
       "StandardScaler()"
      ]
     },
     "execution_count": 18,
     "metadata": {},
     "output_type": "execute_result"
    }
   ],
   "source": [
    "scaler.fit(X_train)  # 평균과 표준편차로 scaling 한 값을 컴퓨터가 기억"
   ]
  },
  {
   "cell_type": "code",
   "execution_count": 19,
   "id": "c8ed7ab5",
   "metadata": {},
   "outputs": [
    {
     "data": {
      "text/plain": [
       "array([[-0.86246882, -0.69124603, -1.0432453 , ..., -0.30417049,\n",
       "        -0.35139975, -0.32830539],\n",
       "       [ 0.10454167, -0.69124603,  0.3934821 , ..., -0.30417049,\n",
       "        -0.35139975, -0.32830539],\n",
       "       [-0.86246882,  0.41434921, -1.0432453 , ..., -0.30417049,\n",
       "        -0.35139975,  3.04594448],\n",
       "       ...,\n",
       "       [ 0.10454167, -0.69124603,  0.03430025, ..., -0.30417049,\n",
       "        -0.35139975, -0.32830539],\n",
       "       [-0.86246882,  0.41434921,  0.3934821 , ..., -0.30417049,\n",
       "        -0.35139975, -0.32830539],\n",
       "       [-0.86246882,  0.41434921, -0.3248816 , ..., -0.30417049,\n",
       "        -0.35139975, -0.32830539]])"
      ]
     },
     "execution_count": 19,
     "metadata": {},
     "output_type": "execute_result"
    }
   ],
   "source": [
    "transform_X_train = scaler.transform(X_train)\n",
    "transform_X_train"
   ]
  },
  {
   "cell_type": "code",
   "execution_count": 20,
   "id": "f3a77717",
   "metadata": {},
   "outputs": [
    {
     "data": {
      "text/plain": [
       "array([[-0.86246882,  1.51994444, -0.3248816 , ..., -0.30417049,\n",
       "         2.84576188, -0.32830539],\n",
       "       [ 0.10454167,  0.41434921,  0.75266394, ..., -0.30417049,\n",
       "        -0.35139975, -0.32830539],\n",
       "       [-0.86246882, -0.69124603, -0.68406345, ..., -0.30417049,\n",
       "        -0.35139975, -0.32830539],\n",
       "       ...,\n",
       "       [-0.86246882,  0.41434921,  1.47102764, ..., -0.30417049,\n",
       "        -0.35139975, -0.32830539],\n",
       "       [ 0.10454167, -0.69124603,  0.03430025, ..., -0.30417049,\n",
       "        -0.35139975, -0.32830539],\n",
       "       [ 1.07155217, -0.69124603, -1.76160899, ..., -0.30417049,\n",
       "        -0.35139975, -0.32830539]])"
      ]
     },
     "execution_count": 20,
     "metadata": {},
     "output_type": "execute_result"
    }
   ],
   "source": [
    "transform_X_test = scaler.transform(X_test)\n",
    "transform_X_test"
   ]
  },
  {
   "cell_type": "code",
   "execution_count": 21,
   "id": "ca8dfdc3",
   "metadata": {},
   "outputs": [
    {
     "name": "stderr",
     "output_type": "stream",
     "text": [
      "C:\\Users\\smhrd\\anaconda3\\lib\\site-packages\\sklearn\\model_selection\\_split.py:666: UserWarning: The least populated class in y has only 1 members, which is less than n_splits=5.\n",
      "  warnings.warn((\"The least populated class in y has only %d\"\n"
     ]
    },
    {
     "data": {
      "text/plain": [
       "array([0.10810811, 0.11711712, 0.10810811, 0.09009009, 0.11711712])"
      ]
     },
     "execution_count": 21,
     "metadata": {},
     "output_type": "execute_result"
    }
   ],
   "source": [
    "result = cross_val_score(knn_model,\n",
    "                        transform_X_train,\n",
    "                        y_train,\n",
    "                        cv = 5)\n",
    "result"
   ]
  },
  {
   "cell_type": "code",
   "execution_count": 22,
   "id": "d4883aa5",
   "metadata": {},
   "outputs": [
    {
     "data": {
      "text/plain": [
       "0.10810810810810811"
      ]
     },
     "execution_count": 22,
     "metadata": {},
     "output_type": "execute_result"
    }
   ],
   "source": [
    "result.mean()"
   ]
  },
  {
   "cell_type": "code",
   "execution_count": 23,
   "id": "341bee40",
   "metadata": {},
   "outputs": [],
   "source": [
    "y_pred = knn_model.fit(transform_X_train, y_train).predict(transform_X_test)"
   ]
  },
  {
   "cell_type": "code",
   "execution_count": 24,
   "id": "7f19448d",
   "metadata": {},
   "outputs": [
    {
     "name": "stdout",
     "output_type": "stream",
     "text": [
      "총 승패 갯수 185 에서 틀린 예측 갯수 : 161\n"
     ]
    }
   ],
   "source": [
    "print(\"총 승패 갯수 %d 에서 틀린 예측 갯수 : %d\" % (transform_X_test.shape[0], (y_test != y_pred).sum()))"
   ]
  },
  {
   "cell_type": "code",
   "execution_count": 25,
   "id": "ef3b2609",
   "metadata": {},
   "outputs": [
    {
     "name": "stdout",
     "output_type": "stream",
     "text": [
      "예측 정확도: 0.13\n"
     ]
    }
   ],
   "source": [
    "print(\"예측 정확도: {:.2f}\".format(np.mean(y_pred == y_test)))"
   ]
  },
  {
   "cell_type": "markdown",
   "id": "a698a3d4",
   "metadata": {},
   "source": [
    "### SVM Model 회귀분석"
   ]
  },
  {
   "cell_type": "code",
   "execution_count": 26,
   "id": "52c3021e",
   "metadata": {},
   "outputs": [],
   "source": [
    "svm_model = LinearSVR(C=300)"
   ]
  },
  {
   "cell_type": "code",
   "execution_count": 27,
   "id": "edfefe28",
   "metadata": {
    "scrolled": false
   },
   "outputs": [
    {
     "name": "stderr",
     "output_type": "stream",
     "text": [
      "C:\\Users\\smhrd\\anaconda3\\lib\\site-packages\\sklearn\\svm\\_base.py:985: ConvergenceWarning: Liblinear failed to converge, increase the number of iterations.\n",
      "  warnings.warn(\"Liblinear failed to converge, increase \"\n"
     ]
    }
   ],
   "source": [
    "y_pred = svm_model.fit(X_train, y_train).predict(X_test)"
   ]
  },
  {
   "cell_type": "code",
   "execution_count": 28,
   "id": "65de1999",
   "metadata": {},
   "outputs": [
    {
     "name": "stdout",
     "output_type": "stream",
     "text": [
      "총 승패 갯수 185 에서 틀린 예측 갯수 : 185\n"
     ]
    }
   ],
   "source": [
    "print(\"총 승패 갯수 %d 에서 틀린 예측 갯수 : %d\" % (X_test.shape[0], (y_test != y_pred).sum()))"
   ]
  },
  {
   "cell_type": "code",
   "execution_count": 29,
   "id": "91a55a3e",
   "metadata": {},
   "outputs": [
    {
     "name": "stdout",
     "output_type": "stream",
     "text": [
      "예측 정확도: 0.00\n"
     ]
    }
   ],
   "source": [
    "print(\"예측 정확도: {:.2f}\".format(np.mean(y_pred == y_test)))"
   ]
  },
  {
   "cell_type": "code",
   "execution_count": 30,
   "id": "0c294305",
   "metadata": {},
   "outputs": [
    {
     "name": "stdout",
     "output_type": "stream",
     "text": [
      "스코어 :-0.01\n"
     ]
    }
   ],
   "source": [
    "print(\"스코어 :{:.2f}\".format(svm_model.score(X_test,y_test)))"
   ]
  },
  {
   "cell_type": "code",
   "execution_count": 31,
   "id": "c31a343a",
   "metadata": {},
   "outputs": [
    {
     "name": "stdout",
     "output_type": "stream",
     "text": [
      "14.507495700292855\n"
     ]
    },
    {
     "data": {
      "text/plain": [
       "3.8088706594334303"
      ]
     },
     "execution_count": 31,
     "metadata": {},
     "output_type": "execute_result"
    }
   ],
   "source": [
    "from sklearn.metrics import mean_squared_error\n",
    "y_pred = svm_model.predict(X_test)\n",
    "print(mean_squared_error(y_test,y_pred))\n",
    "np.sqrt(mean_squared_error(y_test,y_pred))"
   ]
  },
  {
   "cell_type": "code",
   "execution_count": 45,
   "id": "6ef257b3",
   "metadata": {},
   "outputs": [
    {
     "name": "stdout",
     "output_type": "stream",
     "text": [
      "테스트 세트 예측: [ 8.05250357 11.8432526   5.30607518  4.31181785  8.89557094  9.58867757\n",
      "  6.63932289 13.39384037  9.26785712  8.64742152 10.19456352  5.58550694\n",
      "  6.64407845 10.64784737  8.39462017 10.16547992  5.93098644 12.85028597\n",
      "  7.24964707  8.10520969 11.87656946  6.59447914  9.90466101 10.33775518\n",
      " 10.29737497  2.88438309 13.40641838 10.74338696 11.61906626  8.39613138\n",
      " 10.598677    7.15738922  8.44780053  7.3292367   9.97687048  5.25986279\n",
      "  8.91153239 13.71786185  5.82305015 11.8478284   9.82638447  6.2354922\n",
      " 15.89890943  7.39826767  6.56574981 11.7750027  12.27120684  7.58145231\n",
      " 10.39616164  9.83061517  6.36385323  9.27225069  6.49377513  8.80043622\n",
      "  8.48019012  7.74233037  5.17469017  6.25890615 11.53330677  9.15760281\n",
      "  9.83180345  7.55943197 11.04832215 10.35905296  9.15282418  5.88298577\n",
      "  9.45064065 10.01058863  7.17079099 13.6141551   6.74669662 10.76500684\n",
      "  8.90088389 11.87695534  6.74505077  6.90913721  4.95227915  5.07031895\n",
      "  7.26643584  7.22246253  8.21983562 10.33866477 11.74948917 11.09332246\n",
      "  8.02488147  9.21597194 13.10636967  6.06789135  6.33976309 11.44618768\n",
      " 11.97347772 10.84006934 13.63316435  5.82254682 13.44875834  7.44744472\n",
      "  8.31578466  9.64856733  5.3553      5.22565824  4.97461037  8.49006554\n",
      " 11.69538134  9.5977716   4.8122054  10.46293227  9.75933268 10.48872102\n",
      "  9.03090177  8.06019159  7.01209835  8.01666322 10.97421192  6.79668508\n",
      " 11.92303174 10.16478285  4.43272324  8.95168598  7.16741521  8.91981059\n",
      "  7.75614941 13.92548609  9.11835297 10.41062694  9.39804521 11.16200472\n",
      "  9.66857204  6.23535926  6.2093641   6.92366666 12.50051968  5.31691376\n",
      " 11.56116346  5.67209412  8.55401172 11.77196401  5.71938548 16.41013424\n",
      " 10.08452448  8.90717074  7.45610418  7.80329512 11.08855678  9.09136479\n",
      "  9.10089534 12.1977966   7.83816782 17.09033434  9.18899181  7.96738021\n",
      "  9.3129939   7.35581373  8.03546402 15.06926603  6.92884589 10.57483502\n",
      " 12.58335586 10.01681539 10.12174729  6.49963265  9.90243661  7.84206149\n",
      " 15.11958991 10.804863   10.22470747  7.96542169  4.59293615  9.09940631\n",
      "  9.93446604 12.06362396  8.47721542  6.05645425 12.0440585   8.23334235\n",
      "  8.17974592  4.74506865 16.49272495  8.339977    9.0512581  12.069089\n",
      "  9.06554051  9.39053457  9.34607804  6.72996811  9.75093054]\n"
     ]
    }
   ],
   "source": [
    "print(\"테스트 세트 예측: {}\".format(svm_model.predict(X_test)))"
   ]
  },
  {
   "cell_type": "code",
   "execution_count": 46,
   "id": "b2bef852",
   "metadata": {},
   "outputs": [
    {
     "name": "stdout",
     "output_type": "stream",
     "text": [
      "테스트 세트 정확도: -0.01\n"
     ]
    }
   ],
   "source": [
    "print(\"테스트 세트 정확도: {:.2f}\".format(svm_model.score(X_test, y_test)))"
   ]
  },
  {
   "cell_type": "markdown",
   "id": "eb8717c8",
   "metadata": {},
   "source": [
    "### Naive Bayes 분류 모델"
   ]
  },
  {
   "cell_type": "code",
   "execution_count": 32,
   "id": "3e23655d",
   "metadata": {},
   "outputs": [],
   "source": [
    "from sklearn.naive_bayes import GaussianNB"
   ]
  },
  {
   "cell_type": "code",
   "execution_count": 33,
   "id": "7237bff4",
   "metadata": {},
   "outputs": [],
   "source": [
    "nb = GaussianNB()"
   ]
  },
  {
   "cell_type": "code",
   "execution_count": 34,
   "id": "6e16033d",
   "metadata": {},
   "outputs": [],
   "source": [
    "y_pred = nb.fit(X_train, y_train).predict(X_test)"
   ]
  },
  {
   "cell_type": "code",
   "execution_count": 35,
   "id": "f215f1af",
   "metadata": {},
   "outputs": [
    {
     "name": "stdout",
     "output_type": "stream",
     "text": [
      "총 승패 갯수 185 에서 틀린 예측 갯수 : 182\n"
     ]
    }
   ],
   "source": [
    "print(\"총 승패 갯수 %d 에서 틀린 예측 갯수 : %d\" % (X_test.shape[0], (y_test != y_pred).sum()))"
   ]
  },
  {
   "cell_type": "code",
   "execution_count": 36,
   "id": "3a9ee3ba",
   "metadata": {},
   "outputs": [
    {
     "name": "stdout",
     "output_type": "stream",
     "text": [
      "예측 정확도: 0.02\n"
     ]
    }
   ],
   "source": [
    "print(\"예측 정확도: {:.2f}\".format(np.mean(y_pred == y_test)))"
   ]
  },
  {
   "cell_type": "markdown",
   "id": "b7828364",
   "metadata": {},
   "source": [
    "### Decision Tree 모델 - 랜덤 포레스트, 그래디언트 부스팅, 배깅, 엑스트라 트리, 에이다 부스트, 앙상블"
   ]
  },
  {
   "cell_type": "code",
   "execution_count": 37,
   "id": "f8ec8dfc",
   "metadata": {},
   "outputs": [],
   "source": [
    "tree_model = DecisionTreeClassifier(max_depth = 7) # depth"
   ]
  },
  {
   "cell_type": "code",
   "execution_count": 38,
   "id": "11f81c34",
   "metadata": {},
   "outputs": [
    {
     "name": "stderr",
     "output_type": "stream",
     "text": [
      "C:\\Users\\smhrd\\anaconda3\\lib\\site-packages\\sklearn\\model_selection\\_split.py:666: UserWarning: The least populated class in y has only 1 members, which is less than n_splits=10.\n",
      "  warnings.warn((\"The least populated class in y has only %d\"\n"
     ]
    },
    {
     "data": {
      "text/plain": [
       "array([0.125     , 0.17857143, 0.08928571, 0.01785714, 0.125     ,\n",
       "       0.07272727, 0.12727273, 0.10909091, 0.09090909, 0.07272727])"
      ]
     },
     "execution_count": 38,
     "metadata": {},
     "output_type": "execute_result"
    }
   ],
   "source": [
    "result = cross_val_score(tree_model,\n",
    "                        X_train,\n",
    "                        y_train,\n",
    "                        cv = 10)\n",
    "result"
   ]
  },
  {
   "cell_type": "code",
   "execution_count": 39,
   "id": "cf22e26a",
   "metadata": {},
   "outputs": [
    {
     "data": {
      "text/plain": [
       "0.10084415584415585"
      ]
     },
     "execution_count": 39,
     "metadata": {},
     "output_type": "execute_result"
    }
   ],
   "source": [
    "result.mean()"
   ]
  },
  {
   "cell_type": "code",
   "execution_count": 40,
   "id": "0bd7b213",
   "metadata": {},
   "outputs": [],
   "source": [
    "y_pred = tree_model.fit(X_train, y_train).predict(X_test)"
   ]
  },
  {
   "cell_type": "code",
   "execution_count": 41,
   "id": "4ad64a33",
   "metadata": {},
   "outputs": [
    {
     "name": "stdout",
     "output_type": "stream",
     "text": [
      "총 승패 갯수 185 에서 틀린 예측 갯수 : 163\n"
     ]
    }
   ],
   "source": [
    "print(\"총 승패 갯수 %d 에서 틀린 예측 갯수 : %d\" % (X_test.shape[0], (y_test != y_pred).sum()))"
   ]
  },
  {
   "cell_type": "code",
   "execution_count": 42,
   "id": "1a3a3564",
   "metadata": {},
   "outputs": [
    {
     "name": "stdout",
     "output_type": "stream",
     "text": [
      "예측 정확도: 0.12\n"
     ]
    }
   ],
   "source": [
    "print(\"예측 정확도: {:.2f}\".format(np.mean(y_pred == y_test)))"
   ]
  },
  {
   "cell_type": "markdown",
   "id": "424e49ad",
   "metadata": {},
   "source": [
    "#### 시각화"
   ]
  },
  {
   "cell_type": "code",
   "execution_count": 43,
   "id": "1c658b9b",
   "metadata": {
    "scrolled": true
   },
   "outputs": [],
   "source": [
    "# !pip install graphviz\n",
    "import graphviz"
   ]
  },
  {
   "cell_type": "code",
   "execution_count": 44,
   "id": "fc8d8b57",
   "metadata": {
    "scrolled": true
   },
   "outputs": [
    {
     "ename": "ValueError",
     "evalue": "Length of feature_names, 555 does not match number of features, 31",
     "output_type": "error",
     "traceback": [
      "\u001b[1;31m---------------------------------------------------------------------------\u001b[0m",
      "\u001b[1;31mValueError\u001b[0m                                Traceback (most recent call last)",
      "\u001b[1;32m<ipython-input-44-12dab1c41ce3>\u001b[0m in \u001b[0;36m<module>\u001b[1;34m\u001b[0m\n\u001b[0;32m      1\u001b[0m \u001b[1;32mfrom\u001b[0m \u001b[0msklearn\u001b[0m\u001b[1;33m.\u001b[0m\u001b[0mtree\u001b[0m \u001b[1;32mimport\u001b[0m \u001b[0mexport_graphviz\u001b[0m\u001b[1;33m\u001b[0m\u001b[1;33m\u001b[0m\u001b[0m\n\u001b[1;32m----> 2\u001b[1;33m export_graphviz(tree_model, out_file=\"tree.dot\", class_names=[\"안타\",\"안타\"],\n\u001b[0m\u001b[0;32m      3\u001b[0m                feature_names=X_train.wind, impurity=False, filled=True)\n",
      "\u001b[1;32m~\\anaconda3\\lib\\site-packages\\sklearn\\utils\\validation.py\u001b[0m in \u001b[0;36minner_f\u001b[1;34m(*args, **kwargs)\u001b[0m\n\u001b[0;32m     61\u001b[0m             \u001b[0mextra_args\u001b[0m \u001b[1;33m=\u001b[0m \u001b[0mlen\u001b[0m\u001b[1;33m(\u001b[0m\u001b[0margs\u001b[0m\u001b[1;33m)\u001b[0m \u001b[1;33m-\u001b[0m \u001b[0mlen\u001b[0m\u001b[1;33m(\u001b[0m\u001b[0mall_args\u001b[0m\u001b[1;33m)\u001b[0m\u001b[1;33m\u001b[0m\u001b[1;33m\u001b[0m\u001b[0m\n\u001b[0;32m     62\u001b[0m             \u001b[1;32mif\u001b[0m \u001b[0mextra_args\u001b[0m \u001b[1;33m<=\u001b[0m \u001b[1;36m0\u001b[0m\u001b[1;33m:\u001b[0m\u001b[1;33m\u001b[0m\u001b[1;33m\u001b[0m\u001b[0m\n\u001b[1;32m---> 63\u001b[1;33m                 \u001b[1;32mreturn\u001b[0m \u001b[0mf\u001b[0m\u001b[1;33m(\u001b[0m\u001b[1;33m*\u001b[0m\u001b[0margs\u001b[0m\u001b[1;33m,\u001b[0m \u001b[1;33m**\u001b[0m\u001b[0mkwargs\u001b[0m\u001b[1;33m)\u001b[0m\u001b[1;33m\u001b[0m\u001b[1;33m\u001b[0m\u001b[0m\n\u001b[0m\u001b[0;32m     64\u001b[0m \u001b[1;33m\u001b[0m\u001b[0m\n\u001b[0;32m     65\u001b[0m             \u001b[1;31m# extra_args > 0\u001b[0m\u001b[1;33m\u001b[0m\u001b[1;33m\u001b[0m\u001b[1;33m\u001b[0m\u001b[0m\n",
      "\u001b[1;32m~\\anaconda3\\lib\\site-packages\\sklearn\\tree\\_export.py\u001b[0m in \u001b[0;36mexport_graphviz\u001b[1;34m(decision_tree, out_file, max_depth, feature_names, class_names, label, filled, leaves_parallel, impurity, node_ids, proportion, rotate, rounded, special_characters, precision)\u001b[0m\n\u001b[0;32m    786\u001b[0m             \u001b[0mrounded\u001b[0m\u001b[1;33m=\u001b[0m\u001b[0mrounded\u001b[0m\u001b[1;33m,\u001b[0m \u001b[0mspecial_characters\u001b[0m\u001b[1;33m=\u001b[0m\u001b[0mspecial_characters\u001b[0m\u001b[1;33m,\u001b[0m\u001b[1;33m\u001b[0m\u001b[1;33m\u001b[0m\u001b[0m\n\u001b[0;32m    787\u001b[0m             precision=precision)\n\u001b[1;32m--> 788\u001b[1;33m         \u001b[0mexporter\u001b[0m\u001b[1;33m.\u001b[0m\u001b[0mexport\u001b[0m\u001b[1;33m(\u001b[0m\u001b[0mdecision_tree\u001b[0m\u001b[1;33m)\u001b[0m\u001b[1;33m\u001b[0m\u001b[1;33m\u001b[0m\u001b[0m\n\u001b[0m\u001b[0;32m    789\u001b[0m \u001b[1;33m\u001b[0m\u001b[0m\n\u001b[0;32m    790\u001b[0m         \u001b[1;32mif\u001b[0m \u001b[0mreturn_string\u001b[0m\u001b[1;33m:\u001b[0m\u001b[1;33m\u001b[0m\u001b[1;33m\u001b[0m\u001b[0m\n",
      "\u001b[1;32m~\\anaconda3\\lib\\site-packages\\sklearn\\tree\\_export.py\u001b[0m in \u001b[0;36mexport\u001b[1;34m(self, decision_tree)\u001b[0m\n\u001b[0;32m    412\u001b[0m         \u001b[1;32mif\u001b[0m \u001b[0mself\u001b[0m\u001b[1;33m.\u001b[0m\u001b[0mfeature_names\u001b[0m \u001b[1;32mis\u001b[0m \u001b[1;32mnot\u001b[0m \u001b[1;32mNone\u001b[0m\u001b[1;33m:\u001b[0m\u001b[1;33m\u001b[0m\u001b[1;33m\u001b[0m\u001b[0m\n\u001b[0;32m    413\u001b[0m             \u001b[1;32mif\u001b[0m \u001b[0mlen\u001b[0m\u001b[1;33m(\u001b[0m\u001b[0mself\u001b[0m\u001b[1;33m.\u001b[0m\u001b[0mfeature_names\u001b[0m\u001b[1;33m)\u001b[0m \u001b[1;33m!=\u001b[0m \u001b[0mdecision_tree\u001b[0m\u001b[1;33m.\u001b[0m\u001b[0mn_features_\u001b[0m\u001b[1;33m:\u001b[0m\u001b[1;33m\u001b[0m\u001b[1;33m\u001b[0m\u001b[0m\n\u001b[1;32m--> 414\u001b[1;33m                 raise ValueError(\"Length of feature_names, %d \"\n\u001b[0m\u001b[0;32m    415\u001b[0m                                  \u001b[1;34m\"does not match number of features, %d\"\u001b[0m\u001b[1;33m\u001b[0m\u001b[1;33m\u001b[0m\u001b[0m\n\u001b[0;32m    416\u001b[0m                                  % (len(self.feature_names),\n",
      "\u001b[1;31mValueError\u001b[0m: Length of feature_names, 555 does not match number of features, 31"
     ]
    }
   ],
   "source": [
    "from sklearn.tree import export_graphviz\n",
    "export_graphviz(tree_model, out_file=\"tree.dot\", class_names=[\"안타\",\"안타\"],\n",
    "               feature_names=X_train.wind, impurity=False, filled=True)"
   ]
  },
  {
   "cell_type": "code",
   "execution_count": null,
   "id": "24167d98",
   "metadata": {},
   "outputs": [],
   "source": []
  }
 ],
 "metadata": {
  "kernelspec": {
   "display_name": "Python 3",
   "language": "python",
   "name": "python3"
  },
  "language_info": {
   "codemirror_mode": {
    "name": "ipython",
    "version": 3
   },
   "file_extension": ".py",
   "mimetype": "text/x-python",
   "name": "python",
   "nbconvert_exporter": "python",
   "pygments_lexer": "ipython3",
   "version": "3.8.5"
  }
 },
 "nbformat": 4,
 "nbformat_minor": 5
}
