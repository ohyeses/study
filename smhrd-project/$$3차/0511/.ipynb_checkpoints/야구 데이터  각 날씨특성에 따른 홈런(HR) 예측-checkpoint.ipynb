{
 "cells": [
  {
   "cell_type": "code",
   "execution_count": null,
   "metadata": {},
   "outputs": [],
   "source": [
    "pwd`"
   ]
  },
  {
   "cell_type": "code",
   "execution_count": 6,
   "metadata": {},
   "outputs": [],
   "source": [
    "physical_devices = tf.config.list_physical_devices('GPU')\n",
    "tf.config.experimental.set_memory_growth(physical_devices[0], True)"
   ]
  },
  {
   "cell_type": "code",
   "execution_count": 5,
   "metadata": {},
   "outputs": [],
   "source": [
    "import tensorflow as tf\n",
    "import numpy as np\n",
    "import pandas as pd\n",
    "import matplotlib.pyplot as plt\n",
    "from sklearn.preprocessing import scale \n",
    "from sklearn import model_selection\n",
    "from sklearn.model_selection import RepeatedKFold\n",
    "from sklearn.model_selection import train_test_split\n",
    "from sklearn.decomposition import PCA\n",
    "from sklearn.linear_model import LinearRegression\n",
    "from sklearn.metrics import mean_squared_error"
   ]
  },
  {
   "cell_type": "code",
   "execution_count": null,
   "metadata": {},
   "outputs": [],
   "source": [
    "# get a data\n",
    "data_full = pd.read_csv('../data/data.csv')\n"
   ]
  },
  {
   "cell_type": "code",
   "execution_count": 4,
   "metadata": {},
   "outputs": [
    {
     "ename": "NameError",
     "evalue": "name 'tf' is not defined",
     "output_type": "error",
     "traceback": [
      "\u001b[1;31m---------------------------------------------------------------------------\u001b[0m",
      "\u001b[1;31mNameError\u001b[0m                                 Traceback (most recent call last)",
      "\u001b[1;32m<ipython-input-4-2c61179b4f9a>\u001b[0m in \u001b[0;36m<module>\u001b[1;34m\u001b[0m\n\u001b[1;32m----> 1\u001b[1;33m \u001b[0mphysical_devices\u001b[0m \u001b[1;33m=\u001b[0m \u001b[0mtf\u001b[0m\u001b[1;33m.\u001b[0m\u001b[0mconfig\u001b[0m\u001b[1;33m.\u001b[0m\u001b[0mlist_physical_devices\u001b[0m\u001b[1;33m(\u001b[0m\u001b[1;34m'GPU'\u001b[0m\u001b[1;33m)\u001b[0m\u001b[1;33m\u001b[0m\u001b[1;33m\u001b[0m\u001b[0m\n\u001b[0m\u001b[0;32m      2\u001b[0m \u001b[0mtf\u001b[0m\u001b[1;33m.\u001b[0m\u001b[0mconfig\u001b[0m\u001b[1;33m.\u001b[0m\u001b[0mexperimental\u001b[0m\u001b[1;33m.\u001b[0m\u001b[0mset_memory_growth\u001b[0m\u001b[1;33m(\u001b[0m\u001b[0mphysical_devices\u001b[0m\u001b[1;33m[\u001b[0m\u001b[1;36m0\u001b[0m\u001b[1;33m]\u001b[0m\u001b[1;33m,\u001b[0m \u001b[1;32mTrue\u001b[0m\u001b[1;33m)\u001b[0m\u001b[1;33m\u001b[0m\u001b[1;33m\u001b[0m\u001b[0m\n",
      "\u001b[1;31mNameError\u001b[0m: name 'tf' is not defined"
     ]
    }
   ],
   "source": [
    "physical_devices = tf.config.list_physical_devices('GPU')\n",
    "tf.config.experimental.set_memory_growth(physical_devices[0], True)"
   ]
  },
  {
   "cell_type": "code",
   "execution_count": null,
   "metadata": {},
   "outputs": [],
   "source": [
    "#select subset of data\n",
    "data = data_full[[\"temp\", \"HR_text\"]]\n"
   ]
  },
  {
   "cell_type": "code",
   "execution_count": null,
   "metadata": {},
   "outputs": [],
   "source": [
    "#view first seven rows of data\n",
    "data[0:2]"
   ]
  },
  {
   "cell_type": "code",
   "execution_count": null,
   "metadata": {},
   "outputs": [],
   "source": [
    "# define predictor and response viraibles \n",
    "X = data[[\"temp\"]]\n",
    "y = data[[\"HR_text\"]]\n",
    "\n"
   ]
  },
  {
   "cell_type": "code",
   "execution_count": null,
   "metadata": {},
   "outputs": [],
   "source": [
    "X.info()"
   ]
  },
  {
   "cell_type": "code",
   "execution_count": null,
   "metadata": {},
   "outputs": [],
   "source": [
    "X,y"
   ]
  },
  {
   "cell_type": "code",
   "execution_count": null,
   "metadata": {},
   "outputs": [],
   "source": [
    "np.where(np.isnan(X))"
   ]
  },
  {
   "cell_type": "code",
   "execution_count": null,
   "metadata": {},
   "outputs": [],
   "source": [
    "np.nan_to_num(X)"
   ]
  },
  {
   "cell_type": "code",
   "execution_count": null,
   "metadata": {},
   "outputs": [],
   "source": [
    "X"
   ]
  },
  {
   "cell_type": "code",
   "execution_count": null,
   "metadata": {},
   "outputs": [],
   "source": [
    "# 결측치 0으로 채우기\n",
    "X = pd.DataFrame(X).fillna(value = '0')"
   ]
  },
  {
   "cell_type": "code",
   "execution_count": null,
   "metadata": {},
   "outputs": [],
   "source": [
    "X.info()"
   ]
  },
  {
   "cell_type": "code",
   "execution_count": null,
   "metadata": {},
   "outputs": [],
   "source": [
    "#결측치 확인\n",
    "X.isnull().sum()"
   ]
  },
  {
   "cell_type": "code",
   "execution_count": null,
   "metadata": {},
   "outputs": [],
   "source": [
    "from pandas import Series, DataFrame"
   ]
  },
  {
   "cell_type": "code",
   "execution_count": null,
   "metadata": {},
   "outputs": [],
   "source": [
    "#np.where(X.values >= np.finfo(np.float64).max)"
   ]
  },
  {
   "cell_type": "code",
   "execution_count": null,
   "metadata": {},
   "outputs": [],
   "source": [
    "#scale predictor variables\n",
    "pca = PCA()\n",
    "X_reduced = pca.fit_transform(scale(X))"
   ]
  },
  {
   "cell_type": "code",
   "execution_count": null,
   "metadata": {},
   "outputs": [],
   "source": [
    "#define cross validation method\n",
    "# MSE (mean squared error) \n",
    "cv = RepeatedKFold(n_splits=10, n_repeats=3, random_state=1)\n",
    "\n",
    "regr = LinearRegression()\n",
    "mse = []"
   ]
  },
  {
   "cell_type": "code",
   "execution_count": null,
   "metadata": {},
   "outputs": [],
   "source": [
    "# Calculate MSE with only the intercept\n",
    "\n",
    "# MSE (mean squared error) \n",
    "\n",
    "score = -1*model_selection.cross_val_score(regr,\n",
    "           np.ones((len(X_reduced),1)), y, cv=cv,\n",
    "           scoring='neg_mean_squared_error').mean()    \n",
    "mse.append(score)\n",
    "\n"
   ]
  },
  {
   "cell_type": "code",
   "execution_count": null,
   "metadata": {},
   "outputs": [],
   "source": [
    "# Calculate MSE using cross-validation, adding one component at a time\n",
    "for i in np.arange(1, 6):\n",
    "    score = -1*model_selection.cross_val_score(regr,\n",
    "               X_reduced[:,:i], y, cv=cv, scoring='neg_mean_squared_error').mean()\n",
    "    mse.append(score)\n",
    "    \n"
   ]
  },
  {
   "cell_type": "code",
   "execution_count": null,
   "metadata": {},
   "outputs": [],
   "source": [
    "# Plot cross-validation results    \n",
    "plt.plot(mse)\n",
    "plt.xlabel('Number of Principal Components')\n",
    "plt.ylabel('MSE')\n",
    "plt.title('HR_text')"
   ]
  },
  {
   "cell_type": "code",
   "execution_count": null,
   "metadata": {},
   "outputs": [],
   "source": [
    "np.cumsum(np.round(pca.explained_variance_ratio_, decimals=4)*100)\n"
   ]
  },
  {
   "cell_type": "code",
   "execution_count": null,
   "metadata": {},
   "outputs": [],
   "source": []
  },
  {
   "cell_type": "code",
   "execution_count": null,
   "metadata": {},
   "outputs": [],
   "source": [
    "#Split the dataset into training (70%) and testing (30%) sets\n",
    "X_train, X_test, y_train, y_test = train_test_split(X, y,test_size=0.3, random_state=0)\n",
    "\n"
   ]
  },
  {
   "cell_type": "code",
   "execution_count": null,
   "metadata": {},
   "outputs": [],
   "source": [
    "#scale the training and testing data\n",
    "X_reduced_train = pca.transform(scale(X_train))\n",
    "X_reduced_test = pca.transform(scale(X_test))[:, :1]\n",
    "\n"
   ]
  },
  {
   "cell_type": "code",
   "execution_count": null,
   "metadata": {},
   "outputs": [],
   "source": [
    "#train PCR model on training data\n",
    "regr = LinearRegression()\n",
    "regr.fit(X_reduced_train[:, :1], y_train)\n",
    "\n"
   ]
  },
  {
   "cell_type": "code",
   "execution_count": null,
   "metadata": {},
   "outputs": [],
   "source": [
    "#calculate RMSE\n",
    "pred = regr.predict(X_reduced_test)\n",
    "np.sqrt(mean_squared_error(y_test, pred))"
   ]
  },
  {
   "cell_type": "code",
   "execution_count": null,
   "metadata": {},
   "outputs": [],
   "source": []
  },
  {
   "cell_type": "code",
   "execution_count": null,
   "metadata": {},
   "outputs": [],
   "source": []
  },
  {
   "cell_type": "code",
   "execution_count": null,
   "metadata": {},
   "outputs": [],
   "source": []
  },
  {
   "cell_type": "code",
   "execution_count": null,
   "metadata": {},
   "outputs": [],
   "source": []
  },
  {
   "cell_type": "code",
   "execution_count": null,
   "metadata": {},
   "outputs": [],
   "source": []
  },
  {
   "cell_type": "code",
   "execution_count": null,
   "metadata": {},
   "outputs": [],
   "source": [
    "%matplotlib inline\n",
    "\n",
    "import pandas as pd\n",
    "import numpy as np\n",
    "import matplotlib.pyplot as plt\n",
    "\n",
    "from sklearn.preprocessing import scale \n",
    "from sklearn import model_selection\n",
    "from sklearn.decomposition import PCA\n",
    "from sklearn.linear_model import LinearRegression\n",
    "from sklearn.cross_decomposition import PLSRegression, PLSSVD\n",
    "from sklearn.metrics import mean_squared_error\n",
    "\n",
    "\n",
    "df = pd.read_csv('/Users/daewonYoon/Desktop/Machine Learning/Project 3/data/data.csv', index_col = 'day_text')\n",
    "df.info()\n",
    "dummies = pd.get_dummies(df[['temp', 'rain', 'wind', 'd_wind', 'humidity', 'atmosphere', 'surface', 'time_text', 'team_text', 'location']])\n"
   ]
  },
  {
   "cell_type": "code",
   "execution_count": null,
   "metadata": {},
   "outputs": [],
   "source": []
  },
  {
   "cell_type": "markdown",
   "metadata": {},
   "source": [
    "# Set up for the data"
   ]
  },
  {
   "cell_type": "code",
   "execution_count": null,
   "metadata": {},
   "outputs": [],
   "source": [
    "y = df.HR_text\n",
    "\n",
    "# Drop the column with the independent variable (HR_text), and columns for which we created dummy variables\n",
    "X_ = df.drop(['HR_text','temp', 'rain', 'wind', 'd_wind', 'humidity', 'atmosphere', 'surface'], axis = 1).astype('float64')\n",
    "\n",
    "# Define the feature set X \n",
    "X = cat_feature = ['team_text','location']\n",
    "\n"
   ]
  },
  {
   "cell_type": "code",
   "execution_count": null,
   "metadata": {},
   "outputs": [],
   "source": [
    "for i in cat_feature:\n",
    "    dummy = pd.get_dummies(train[i], prefix = i)\n",
    "    train = pd.concat([train, dummy], axis = 1)\n",
    "    train.drop(i, axis=1, inplace = True)"
   ]
  },
  {
   "cell_type": "code",
   "execution_count": null,
   "metadata": {},
   "outputs": [],
   "source": [
    "cat_feature = ['team_text','location']"
   ]
  },
  {
   "cell_type": "code",
   "execution_count": null,
   "metadata": {},
   "outputs": [],
   "source": [
    "for i in cat_feature:\n",
    "    dummy = pd.get_dummies(train[i], prefix = i)\n",
    "    train = pd.concat([train, dummy], axis = 1)\n",
    "    train.drop(i, axis=1, inplace = True)"
   ]
  },
  {
   "cell_type": "code",
   "execution_count": null,
   "metadata": {},
   "outputs": [],
   "source": [
    "pca = PCA()\n",
    "X_train_reduced = pca.fit_transform(scale(X))\n"
   ]
  },
  {
   "cell_type": "code",
   "execution_count": null,
   "metadata": {},
   "outputs": [],
   "source": []
  },
  {
   "cell_type": "code",
   "execution_count": null,
   "metadata": {},
   "outputs": [],
   "source": []
  },
  {
   "cell_type": "markdown",
   "metadata": {},
   "source": [
    "### 결측치 채우기"
   ]
  },
  {
   "cell_type": "code",
   "execution_count": null,
   "metadata": {},
   "outputs": [],
   "source": [
    "#결측치 확인\n",
    "train.isnull().sum()"
   ]
  },
  {
   "cell_type": "code",
   "execution_count": null,
   "metadata": {},
   "outputs": [],
   "source": [
    "#결측치 0으로 채우기\n",
    "train['rain'] = train['rain'].fillna('0')\n",
    "train['wind'] = train['wind'].fillna('0')\n",
    "train['d_wind'] = train['d_wind'].fillna('0')\n",
    "train['surface'] = train['surface'].fillna('0')"
   ]
  },
  {
   "cell_type": "code",
   "execution_count": null,
   "metadata": {},
   "outputs": [],
   "source": [
    "train.isnull().sum()"
   ]
  },
  {
   "cell_type": "code",
   "execution_count": null,
   "metadata": {},
   "outputs": [],
   "source": [
    "train.info()"
   ]
  },
  {
   "cell_type": "code",
   "execution_count": null,
   "metadata": {},
   "outputs": [],
   "source": [
    "plt.figure(figsize=(15,15))\n",
    "sns.heatmap(data = train.corr(), annot=True, \n",
    "fmt = '.2f', linewidths=.5, cmap='Blues')"
   ]
  },
  {
   "cell_type": "code",
   "execution_count": null,
   "metadata": {},
   "outputs": [],
   "source": [
    "train['rain'] = train['rain'].astype('float64')\n",
    "train['wind'] = train['wind'].astype('float64')\n",
    "train['d_wind'] = train['d_wind'].astype('float64')\n",
    "train['atmosphere'] = train['atmosphere'].astype('float64')\n",
    "train['surface'] = train['surface'].astype('float64')"
   ]
  },
  {
   "cell_type": "markdown",
   "metadata": {},
   "source": [
    "### 원핫인코딩"
   ]
  },
  {
   "cell_type": "code",
   "execution_count": null,
   "metadata": {},
   "outputs": [],
   "source": [
    "cat_feature = ['team_text','location']"
   ]
  },
  {
   "cell_type": "code",
   "execution_count": null,
   "metadata": {},
   "outputs": [],
   "source": [
    "for i in cat_feature:\n",
    "    dummy = pd.get_dummies(train[i], prefix = i)\n",
    "    train = pd.concat([train, dummy], axis = 1)\n",
    "    train.drop(i, axis=1, inplace = True)"
   ]
  },
  {
   "cell_type": "code",
   "execution_count": null,
   "metadata": {},
   "outputs": [],
   "source": [
    "train.info()"
   ]
  },
  {
   "cell_type": "markdown",
   "metadata": {},
   "source": [
    "### 데이터 7:3으로 나누기"
   ]
  },
  {
   "cell_type": "code",
   "execution_count": null,
   "metadata": {},
   "outputs": [],
   "source": [
    "#7대 3으로 데이터 나누기\n",
    "X = train.drop('HR_text',axis = 1)\n",
    "y = train['HR_text']\n",
    "\n",
    "X_train, X_test, y_train,y_test = train_test_split(X,y,\n",
    "                                                  test_size = 0.3,\n",
    "                                                  #stratify = y,\n",
    "                                                  random_state = 3)"
   ]
  },
  {
   "cell_type": "code",
   "execution_count": null,
   "metadata": {},
   "outputs": [],
   "source": [
    "print(X_train.shape, y_train.shape,X_test.shape,y_test.shape)"
   ]
  },
  {
   "cell_type": "code",
   "execution_count": null,
   "metadata": {},
   "outputs": [],
   "source": [
    "X_train.info()"
   ]
  },
  {
   "cell_type": "code",
   "execution_count": null,
   "metadata": {},
   "outputs": [],
   "source": [
    "X_test.info()"
   ]
  },
  {
   "cell_type": "markdown",
   "metadata": {},
   "source": [
    "### Time_text Drop"
   ]
  },
  {
   "cell_type": "code",
   "execution_count": null,
   "metadata": {},
   "outputs": [],
   "source": [
    "X_train.drop('time_text', axis = 1 , inplace = True)"
   ]
  },
  {
   "cell_type": "code",
   "execution_count": null,
   "metadata": {},
   "outputs": [],
   "source": [
    "X_test.drop('time_text', axis = 1, inplace = True)"
   ]
  },
  {
   "cell_type": "code",
   "execution_count": null,
   "metadata": {},
   "outputs": [],
   "source": [
    "X_test.info()"
   ]
  },
  {
   "cell_type": "code",
   "execution_count": null,
   "metadata": {},
   "outputs": [],
   "source": [
    "X_train.info()"
   ]
  },
  {
   "cell_type": "code",
   "execution_count": null,
   "metadata": {},
   "outputs": [],
   "source": [
    "set(X_train.columns) - set(X_test.columns)"
   ]
  },
  {
   "cell_type": "markdown",
   "metadata": {},
   "source": [
    "### KNNRegressor"
   ]
  },
  {
   "cell_type": "code",
   "execution_count": null,
   "metadata": {},
   "outputs": [],
   "source": [
    "knn_model = KNeighborsRegressor(n_neighbors = 3)\n",
    "result1 = cross_val_score(knn_model,\n",
    "                        X_train,\n",
    "                        y_train,\n",
    "                        cv = 5)\n",
    "result1"
   ]
  },
  {
   "cell_type": "code",
   "execution_count": null,
   "metadata": {},
   "outputs": [],
   "source": [
    "knn_model.fit(X_train, y_train)"
   ]
  },
  {
   "cell_type": "code",
   "execution_count": null,
   "metadata": {},
   "outputs": [],
   "source": [
    "print(\"테스트 세트 예측: {}\".format(knn_model.predict(X_test)))"
   ]
  },
  {
   "cell_type": "code",
   "execution_count": null,
   "metadata": {},
   "outputs": [],
   "source": [
    "print(\"테스트 세트 정확도: {:.2f}\".format(knn_model.score(X_test, y_test)))"
   ]
  },
  {
   "cell_type": "code",
   "execution_count": null,
   "metadata": {},
   "outputs": [],
   "source": [
    "\n",
    "training_accuracy = []\n",
    "test_accuracy = []\n",
    "# 1에서 10까지 n_neighbors를 적용\n",
    "neighbors_settings = range(1, 50)\n",
    "\n",
    "for n_neighbors in neighbors_settings:\n",
    "    # 모델 생성\n",
    "    knn_model = KNeighborsRegressor(n_neighbors=n_neighbors)\n",
    "    knn_model.fit(X_train, y_train)\n",
    "    # 훈련 세트 정확도 저장\n",
    "    training_accuracy.append(knn_model.score(X_train, y_train))\n",
    "    # 일반화 정확도 저장\n",
    "    test_accuracy.append(knn_model.score(X_test, y_test))\n",
    "\n",
    "plt.plot(neighbors_settings, training_accuracy, label=\"train accuracy\")\n",
    "plt.plot(neighbors_settings, test_accuracy, label=\"test accuracy\")\n",
    "plt.ylabel(\"accuracy\")\n",
    "plt.xlabel(\"n_neighbors\")\n",
    "plt.legend()\n",
    "\n",
    "# if there would be huge gap between train and test data, then you should reset neighbors_settings = range(1, 50)"
   ]
  },
  {
   "cell_type": "code",
   "execution_count": null,
   "metadata": {},
   "outputs": [],
   "source": [
    "train.corr()"
   ]
  },
  {
   "cell_type": "markdown",
   "metadata": {},
   "source": [
    "# Decision Tree model"
   ]
  },
  {
   "cell_type": "code",
   "execution_count": null,
   "metadata": {},
   "outputs": [],
   "source": [
    "tree_model = DecisionTreeClassifier(max_depth = 3)"
   ]
  },
  {
   "cell_type": "code",
   "execution_count": null,
   "metadata": {},
   "outputs": [],
   "source": [
    "result = cross_val_score(tree_model,\n",
    "                        X_train,\n",
    "                        y_train,\n",
    "                        cv = 10)\n",
    "result"
   ]
  },
  {
   "cell_type": "code",
   "execution_count": null,
   "metadata": {},
   "outputs": [],
   "source": [
    "result.mean()"
   ]
  },
  {
   "cell_type": "code",
   "execution_count": null,
   "metadata": {},
   "outputs": [],
   "source": [
    "y_pred = tree_model.fit(X_train, y_train).predict(X_test)"
   ]
  },
  {
   "cell_type": "code",
   "execution_count": null,
   "metadata": {},
   "outputs": [],
   "source": [
    "print(\"총 HR 갯수 %d 에서 틀린 예측 갯수 : %d\" % (X_test.shape[0], (y_test != y_pred).sum()))"
   ]
  },
  {
   "cell_type": "code",
   "execution_count": null,
   "metadata": {},
   "outputs": [],
   "source": [
    "print(\"예측 정확도: {:.2f}\".format(np.mean(y_pred == y_test)))"
   ]
  },
  {
   "cell_type": "code",
   "execution_count": null,
   "metadata": {},
   "outputs": [],
   "source": [
    "tree_model.score(X_test,y_test)"
   ]
  },
  {
   "cell_type": "code",
   "execution_count": null,
   "metadata": {},
   "outputs": [],
   "source": [
    "tree_model.score(X_train,y_train)"
   ]
  },
  {
   "cell_type": "code",
   "execution_count": null,
   "metadata": {},
   "outputs": [],
   "source": []
  },
  {
   "cell_type": "markdown",
   "metadata": {},
   "source": [
    "# KNN Scaler "
   ]
  },
  {
   "cell_type": "code",
   "execution_count": null,
   "metadata": {},
   "outputs": [],
   "source": [
    "scaler = StandardScaler()"
   ]
  },
  {
   "cell_type": "code",
   "execution_count": null,
   "metadata": {},
   "outputs": [],
   "source": [
    "scaler.fit(X_train)  # 평균과 표준편차로 scaling 한 값을 컴퓨터가 기억"
   ]
  },
  {
   "cell_type": "code",
   "execution_count": null,
   "metadata": {},
   "outputs": [],
   "source": [
    "transform_X_train = scaler.transform(X_train)\n",
    "transform_X_train"
   ]
  },
  {
   "cell_type": "code",
   "execution_count": null,
   "metadata": {},
   "outputs": [],
   "source": [
    "transform_X_test = scaler.transform(X_test)\n",
    "transform_X_test"
   ]
  },
  {
   "cell_type": "code",
   "execution_count": null,
   "metadata": {},
   "outputs": [],
   "source": [
    "result = cross_val_score(knn_model,\n",
    "                        transform_X_train,\n",
    "                        y_train,\n",
    "                        cv = 10)\n",
    "result"
   ]
  },
  {
   "cell_type": "code",
   "execution_count": null,
   "metadata": {},
   "outputs": [],
   "source": [
    "result = cross_val_score(knn_model,\n",
    "                        transform_X_train,\n",
    "                        y_train,\n",
    "                        cv = 10)\n",
    "result"
   ]
  },
  {
   "cell_type": "code",
   "execution_count": null,
   "metadata": {},
   "outputs": [],
   "source": [
    "y_pred = knn_model.fit(transform_X_train, y_train).predict(transform_X_test)"
   ]
  },
  {
   "cell_type": "code",
   "execution_count": null,
   "metadata": {},
   "outputs": [],
   "source": [
    "print(\"총 HR 갯수 %d 에서 틀린 예측 갯수 : %d\" % (transform_X_test.shape[0], (y_test != y_pred).sum()))"
   ]
  },
  {
   "cell_type": "code",
   "execution_count": null,
   "metadata": {},
   "outputs": [],
   "source": [
    "print(\"예측 정확도: {:.2f}\".format(np.mean(y_pred == y_test)))"
   ]
  },
  {
   "cell_type": "markdown",
   "metadata": {},
   "source": [
    "# Naive Bayes model"
   ]
  },
  {
   "cell_type": "code",
   "execution_count": null,
   "metadata": {},
   "outputs": [],
   "source": [
    "nb = GaussianNB()"
   ]
  },
  {
   "cell_type": "code",
   "execution_count": null,
   "metadata": {},
   "outputs": [],
   "source": [
    "y_pred = nb.fit(X_train, y_train).predict(X_test)"
   ]
  },
  {
   "cell_type": "code",
   "execution_count": null,
   "metadata": {},
   "outputs": [],
   "source": [
    "print(\"총 HR 갯수 %d 에서 틀린 예측 갯수 : %d\" % (X_test.shape[0], (y_test != y_pred).sum()))"
   ]
  },
  {
   "cell_type": "code",
   "execution_count": null,
   "metadata": {},
   "outputs": [],
   "source": [
    "print(\"예측 정확도: {:.2f}\".format(np.mean(y_pred == y_test)))"
   ]
  },
  {
   "cell_type": "markdown",
   "metadata": {},
   "source": [
    "# Partial Dependence Plot (PDP)"
   ]
  },
  {
   "cell_type": "code",
   "execution_count": null,
   "metadata": {},
   "outputs": [],
   "source": [
    "pip install catboost"
   ]
  },
  {
   "cell_type": "code",
   "execution_count": null,
   "metadata": {},
   "outputs": [],
   "source": [
    "from catboost import CatBoostClassifier "
   ]
  },
  {
   "cell_type": "code",
   "execution_count": null,
   "metadata": {},
   "outputs": [],
   "source": [
    "cb = CatBoostClassifier(silent = True, random_state = 0, n_estimators = 300, max_depth = 7).fit(X_train, y_train)"
   ]
  },
  {
   "cell_type": "code",
   "execution_count": null,
   "metadata": {},
   "outputs": [],
   "source": [
    "print('train set accuracy: ', metrics.accuracy_score(y_train, cb.predict(X_train)))\n",
    "print('test set accuracy: ', metrics.accuracy_score(y_test, cb.predict(X_test)))"
   ]
  },
  {
   "cell_type": "code",
   "execution_count": null,
   "metadata": {},
   "outputs": [],
   "source": [
    "pip install PermutationImportance"
   ]
  },
  {
   "cell_type": "code",
   "execution_count": null,
   "metadata": {},
   "outputs": [],
   "source": [
    "pip install xgboost"
   ]
  },
  {
   "cell_type": "markdown",
   "metadata": {},
   "source": [
    "# XGBoost"
   ]
  },
  {
   "cell_type": "code",
   "execution_count": null,
   "metadata": {},
   "outputs": [],
   "source": [
    "import xgboost\n",
    "from xgboost import XGBClassifier\n",
    "from sklearn import metrics"
   ]
  },
  {
   "cell_type": "code",
   "execution_count": null,
   "metadata": {},
   "outputs": [],
   "source": [
    "xgb = XGBClassifier(random_state = 0, n_estimators = 300).fit(X_train, y_train)\n",
    "print('train accuracy: ', metrics.accuracy_score(y_train, xgb.predict(X_train)))\n",
    "print('test accuracy: ', metrics.accuracy_score(y_test, xgb.predict(X_test)))"
   ]
  },
  {
   "cell_type": "code",
   "execution_count": null,
   "metadata": {},
   "outputs": [],
   "source": [
    "pip install eli5"
   ]
  },
  {
   "cell_type": "code",
   "execution_count": null,
   "metadata": {},
   "outputs": [],
   "source": []
  },
  {
   "cell_type": "code",
   "execution_count": null,
   "metadata": {},
   "outputs": [],
   "source": [
    "from sklearn.inspection import permutation_importance\n"
   ]
  },
  {
   "cell_type": "markdown",
   "metadata": {},
   "source": [
    "# RandomForestClassifier "
   ]
  },
  {
   "cell_type": "code",
   "execution_count": null,
   "metadata": {},
   "outputs": [],
   "source": [
    "from sklearn.ensemble import RandomForestClassifier\n",
    "from sklearn import metrics"
   ]
  },
  {
   "cell_type": "code",
   "execution_count": null,
   "metadata": {},
   "outputs": [],
   "source": []
  },
  {
   "cell_type": "code",
   "execution_count": null,
   "metadata": {},
   "outputs": [],
   "source": [
    "rf = RandomForestClassifier(n_estimators = 300, random_state = 0).fit(X_train, y_train)\n",
    "print('train set accuracy: ', metrics.accuracy_score(y_train, rf.predict(X_train)))\n",
    "print('test set accuracy: ', metrics.accuracy_score(y_test, rf.predict(X_test)))"
   ]
  },
  {
   "cell_type": "code",
   "execution_count": null,
   "metadata": {},
   "outputs": [],
   "source": [
    "rf1 = RandomForestClassifier(n_estimators = 300, random_state = 0, max_depth = 15).fit(X_train, y_train)\n",
    "print('train set accuracy: ', metrics.accuracy_score(y_train, rf1.predict(X_train)))\n",
    "print('test set accuracy: ', metrics.accuracy_score(y_test, rf1.predict(X_test)))"
   ]
  },
  {
   "cell_type": "code",
   "execution_count": null,
   "metadata": {},
   "outputs": [],
   "source": [
    "rf2 = RandomForestClassifier(n_estimators = 300, random_state = 0, max_depth = 17).fit(X_train, y_train)\n",
    "print('train set accuracy: ', metrics.accuracy_score(y_train, rf2.predict(X_train)))\n",
    "print('test set accuracy: ', metrics.accuracy_score(y_test, rf2.predict(X_test)))"
   ]
  },
  {
   "cell_type": "code",
   "execution_count": null,
   "metadata": {},
   "outputs": [],
   "source": [
    "rf3 = RandomForestClassifier(n_estimators = 300, random_state = 0, max_depth = 6).fit(X_train, y_train)\n",
    "print('train set accuracy: ', metrics.accuracy_score(y_train, rf3.predict(X_train)))\n",
    "print('test set accuracy: ', metrics.accuracy_score(y_test, rf3.predict(X_test)))"
   ]
  },
  {
   "cell_type": "code",
   "execution_count": null,
   "metadata": {},
   "outputs": [],
   "source": [
    "import eli5"
   ]
  },
  {
   "cell_type": "code",
   "execution_count": null,
   "metadata": {},
   "outputs": [],
   "source": [
    "from eli5.sklearn import PermutationImportance\n",
    "\n",
    "perm = PermutationImportance(xgb, random_state = 1).fit(X_test, y_test)\n",
    "eli5.show_weights(perm, feature_names = X_test.columns.tolist())"
   ]
  },
  {
   "cell_type": "code",
   "execution_count": null,
   "metadata": {},
   "outputs": [],
   "source": [
    "rf.predict(X_train)"
   ]
  },
  {
   "cell_type": "code",
   "execution_count": null,
   "metadata": {},
   "outputs": [],
   "source": [
    "rf.predict(X_test)"
   ]
  },
  {
   "cell_type": "code",
   "execution_count": null,
   "metadata": {},
   "outputs": [],
   "source": [
    "rf1.predict(X_test)"
   ]
  },
  {
   "cell_type": "code",
   "execution_count": null,
   "metadata": {},
   "outputs": [],
   "source": [
    "rf1.predict(X_train)"
   ]
  },
  {
   "cell_type": "code",
   "execution_count": null,
   "metadata": {},
   "outputs": [],
   "source": [
    "rf2.predict(X_train)"
   ]
  },
  {
   "cell_type": "code",
   "execution_count": null,
   "metadata": {},
   "outputs": [],
   "source": [
    "rf2.predict(X_test)"
   ]
  },
  {
   "cell_type": "code",
   "execution_count": null,
   "metadata": {},
   "outputs": [],
   "source": [
    "rf2.predict(y_test)"
   ]
  },
  {
   "cell_type": "markdown",
   "metadata": {},
   "source": [
    "# LinearRegression (온도, 홈런)"
   ]
  },
  {
   "cell_type": "code",
   "execution_count": 17,
   "metadata": {},
   "outputs": [],
   "source": [
    "from sklearn.linear_model import LinearRegression\n",
    "import pandas as pd\n",
    "import numpy as np\n",
    "import matplotlib.pyplot as plt\n",
    "from sklearn.model_selection import train_test_split\n",
    "from sklearn.preprocessing import scale \n",
    "from sklearn.decomposition import PCA # 주성분 분석"
   ]
  },
  {
   "cell_type": "code",
   "execution_count": 2,
   "metadata": {},
   "outputs": [
    {
     "data": {
      "text/html": [
       "<div>\n",
       "<style scoped>\n",
       "    .dataframe tbody tr th:only-of-type {\n",
       "        vertical-align: middle;\n",
       "    }\n",
       "\n",
       "    .dataframe tbody tr th {\n",
       "        vertical-align: top;\n",
       "    }\n",
       "\n",
       "    .dataframe thead th {\n",
       "        text-align: right;\n",
       "    }\n",
       "</style>\n",
       "<table border=\"1\" class=\"dataframe\">\n",
       "  <thead>\n",
       "    <tr style=\"text-align: right;\">\n",
       "      <th></th>\n",
       "      <th>day_text</th>\n",
       "      <th>time_text</th>\n",
       "      <th>team_text</th>\n",
       "      <th>location</th>\n",
       "      <th>H_text</th>\n",
       "      <th>HR_text</th>\n",
       "      <th>S_text</th>\n",
       "      <th>ST_text</th>\n",
       "      <th>DU_text</th>\n",
       "      <th>ER_text</th>\n",
       "      <th>result_text</th>\n",
       "      <th>temp</th>\n",
       "      <th>rain</th>\n",
       "      <th>wind</th>\n",
       "      <th>d_wind</th>\n",
       "      <th>humidity</th>\n",
       "      <th>atmosphere</th>\n",
       "      <th>surface</th>\n",
       "    </tr>\n",
       "  </thead>\n",
       "  <tbody>\n",
       "    <tr>\n",
       "      <th>0</th>\n",
       "      <td>7.31금</td>\n",
       "      <td>19:00</td>\n",
       "      <td>KIA 타이거즈</td>\n",
       "      <td>광주</td>\n",
       "      <td>8</td>\n",
       "      <td>0</td>\n",
       "      <td>0</td>\n",
       "      <td>10</td>\n",
       "      <td>1</td>\n",
       "      <td>3</td>\n",
       "      <td>1</td>\n",
       "      <td>28.3</td>\n",
       "      <td>0.0</td>\n",
       "      <td>1.4</td>\n",
       "      <td>250</td>\n",
       "      <td>88</td>\n",
       "      <td>1005.0</td>\n",
       "      <td>28.7</td>\n",
       "    </tr>\n",
       "    <tr>\n",
       "      <th>1</th>\n",
       "      <td>7.31금</td>\n",
       "      <td>19:00</td>\n",
       "      <td>롯데 자이언츠</td>\n",
       "      <td>광주</td>\n",
       "      <td>6</td>\n",
       "      <td>0</td>\n",
       "      <td>0</td>\n",
       "      <td>5</td>\n",
       "      <td>3</td>\n",
       "      <td>1</td>\n",
       "      <td>0</td>\n",
       "      <td>28.3</td>\n",
       "      <td>0.0</td>\n",
       "      <td>1.4</td>\n",
       "      <td>250</td>\n",
       "      <td>88</td>\n",
       "      <td>1005.0</td>\n",
       "      <td>28.7</td>\n",
       "    </tr>\n",
       "    <tr>\n",
       "      <th>2</th>\n",
       "      <td>7.31금</td>\n",
       "      <td>19:00</td>\n",
       "      <td>두산 베어스</td>\n",
       "      <td>서울</td>\n",
       "      <td>14</td>\n",
       "      <td>1</td>\n",
       "      <td>2</td>\n",
       "      <td>8</td>\n",
       "      <td>1</td>\n",
       "      <td>0</td>\n",
       "      <td>0</td>\n",
       "      <td>27.4</td>\n",
       "      <td>0.0</td>\n",
       "      <td>1.8</td>\n",
       "      <td>230</td>\n",
       "      <td>82</td>\n",
       "      <td>1002.6</td>\n",
       "      <td>26.6</td>\n",
       "    </tr>\n",
       "    <tr>\n",
       "      <th>3</th>\n",
       "      <td>7.31금</td>\n",
       "      <td>19:00</td>\n",
       "      <td>NC 다이노스</td>\n",
       "      <td>서울</td>\n",
       "      <td>14</td>\n",
       "      <td>1</td>\n",
       "      <td>2</td>\n",
       "      <td>7</td>\n",
       "      <td>1</td>\n",
       "      <td>1</td>\n",
       "      <td>1</td>\n",
       "      <td>27.4</td>\n",
       "      <td>0.0</td>\n",
       "      <td>1.8</td>\n",
       "      <td>230</td>\n",
       "      <td>82</td>\n",
       "      <td>1002.6</td>\n",
       "      <td>26.6</td>\n",
       "    </tr>\n",
       "    <tr>\n",
       "      <th>4</th>\n",
       "      <td>7.31금</td>\n",
       "      <td>19:00</td>\n",
       "      <td>SK 와이번스</td>\n",
       "      <td>인천</td>\n",
       "      <td>4</td>\n",
       "      <td>1</td>\n",
       "      <td>0</td>\n",
       "      <td>5</td>\n",
       "      <td>1</td>\n",
       "      <td>0</td>\n",
       "      <td>0</td>\n",
       "      <td>25.0</td>\n",
       "      <td>0.0</td>\n",
       "      <td>2.7</td>\n",
       "      <td>250</td>\n",
       "      <td>95</td>\n",
       "      <td>1004.6</td>\n",
       "      <td>26.8</td>\n",
       "    </tr>\n",
       "  </tbody>\n",
       "</table>\n",
       "</div>"
      ],
      "text/plain": [
       "  day_text time_text team_text location  H_text  HR_text  S_text  ST_text  \\\n",
       "0    7.31금     19:00  KIA 타이거즈       광주       8        0       0       10   \n",
       "1    7.31금     19:00   롯데 자이언츠       광주       6        0       0        5   \n",
       "2    7.31금     19:00    두산 베어스       서울      14        1       2        8   \n",
       "3    7.31금     19:00   NC 다이노스       서울      14        1       2        7   \n",
       "4    7.31금     19:00   SK 와이번스       인천       4        1       0        5   \n",
       "\n",
       "   DU_text  ER_text  result_text  temp  rain  wind  d_wind  humidity  \\\n",
       "0        1        3            1  28.3   0.0   1.4     250        88   \n",
       "1        3        1            0  28.3   0.0   1.4     250        88   \n",
       "2        1        0            0  27.4   0.0   1.8     230        82   \n",
       "3        1        1            1  27.4   0.0   1.8     230        82   \n",
       "4        1        0            0  25.0   0.0   2.7     250        95   \n",
       "\n",
       "   atmosphere  surface  \n",
       "0      1005.0     28.7  \n",
       "1      1005.0     28.7  \n",
       "2      1002.6     26.6  \n",
       "3      1002.6     26.6  \n",
       "4      1004.6     26.8  "
      ]
     },
     "execution_count": 2,
     "metadata": {},
     "output_type": "execute_result"
    }
   ],
   "source": [
    "df = pd.read_csv(\"../data/data.csv\")\n",
    "df.head()"
   ]
  },
  {
   "cell_type": "code",
   "execution_count": 3,
   "metadata": {
    "scrolled": true
   },
   "outputs": [
    {
     "data": {
      "image/png": "[encoded data removed]",
      "text/plain": [
       "<Figure size 432x288 with 1 Axes>"
      ]
     },
     "metadata": {
      "needs_background": "light"
     },
     "output_type": "display_data"
    }
   ],
   "source": [
    "X = df[\"temp\"]\n",
    "y = df[\"HR_text\"]\n",
    "plt.plot(X, y, 'o')\n",
    "plt.show()"
   ]
  },
  {
   "cell_type": "code",
   "execution_count": 18,
   "metadata": {
    "scrolled": false
   },
   "outputs": [
    {
     "name": "stdout",
     "output_type": "stream",
     "text": [
      "<class 'pandas.core.frame.DataFrame'>\n",
      "RangeIndex: 740 entries, 0 to 739\n",
      "Data columns (total 1 columns):\n",
      " #   Column  Non-Null Count  Dtype  \n",
      "---  ------  --------------  -----  \n",
      " 0   temp    740 non-null    float64\n",
      "dtypes: float64(1)\n",
      "memory usage: 5.9 KB\n"
     ]
    }
   ],
   "source": [
    "np.where(np.isnan(X))\n",
    "\n",
    "np.nan_to_num(X)\n",
    "\n",
    "X\n",
    "\n",
    "# 결측치 0으로 채우기\n",
    "X = pd.DataFrame(X).fillna(value = '0')\n",
    "\n",
    "X.info()\n",
    "\n",
    "#결측치 확인\n",
    "X.isnull().sum()\n",
    "\n",
    "#scale predictor variables\n",
    "lr = PCA()\n",
    "X_reduced = lr.fit_transform(scale(X))"
   ]
  },
  {
   "cell_type": "code",
   "execution_count": 21,
   "metadata": {},
   "outputs": [],
   "source": [
    "#Split the dataset into training (70%) and testing (30%) sets\n",
    "X_train, X_test, y_train, y_test = train_test_split(X, y,test_size=0.3, random_state=0)\n",
    "\n",
    "\n",
    "#scale the training and testing data\n",
    "X_reduced_train = lr.transform(scale(X_train))\n",
    "X_reduced_test = lr.transform(scale(X_test))[:, :1]\n",
    "\n"
   ]
  },
  {
   "cell_type": "code",
   "execution_count": 35,
   "metadata": {},
   "outputs": [],
   "source": [
    "# X = X.values.reshape(-1,1) # 'numpy.ndarray' object has no attribute 'values'\n",
    "X = X_train.reshape(-1,1)"
   ]
  },
  {
   "cell_type": "code",
   "execution_count": 36,
   "metadata": {},
   "outputs": [
    {
     "data": {
      "text/plain": [
       "LinearRegression()"
      ]
     },
     "execution_count": 36,
     "metadata": {},
     "output_type": "execute_result"
    }
   ],
   "source": [
    "# 모델생성, 데이터 fit\n",
    "line_fitter = LinearRegression()\n",
    "line_fitter.fit(X_train.reshape(-1,1), y_train)"
   ]
  },
  {
   "cell_type": "code",
   "execution_count": 37,
   "metadata": {},
   "outputs": [
    {
     "data": {
      "text/plain": [
       "array([0.92039625])"
      ]
     },
     "execution_count": 37,
     "metadata": {},
     "output_type": "execute_result"
    }
   ],
   "source": [
    "# 온도가 25이었을 때 홈런 갯수\n",
    "line_fitter.predict([[25]])\n",
    "# line_fitter.predict([[5]])\n",
    "# line_fitter.predict([[0]])"
   ]
  },
  {
   "cell_type": "code",
   "execution_count": 38,
   "metadata": {},
   "outputs": [
    {
     "data": {
      "text/plain": [
       "array([0.00979459])"
      ]
     },
     "execution_count": 38,
     "metadata": {},
     "output_type": "execute_result"
    }
   ],
   "source": [
    "# 기울기\n",
    "line_fitter.coef_"
   ]
  },
  {
   "cell_type": "code",
   "execution_count": 39,
   "metadata": {},
   "outputs": [
    {
     "data": {
      "text/plain": [
       "0.6755315858188735"
      ]
     },
     "execution_count": 39,
     "metadata": {},
     "output_type": "execute_result"
    }
   ],
   "source": [
    "#절편\n",
    "line_fitter.intercept_"
   ]
  },
  {
   "cell_type": "code",
   "execution_count": 40,
   "metadata": {},
   "outputs": [
    {
     "data": {
      "image/png": "[encoded data removed]",
      "text/plain": [
       "<Figure size 432x288 with 1 Axes>"
      ]
     },
     "metadata": {
      "needs_background": "light"
     },
     "output_type": "display_data"
    }
   ],
   "source": [
    "# 이번엔 기존 X 값으로 y를 예측하게 해서 그래프를 그려보자.\n",
    "plt.plot(X_train, y_train, 'o')\n",
    "plt.plot(X_train,line_fitter.predict(X_train.reshape(-1,1)))\n",
    "plt.show()"
   ]
  },
  {
   "cell_type": "code",
   "execution_count": 41,
   "metadata": {
    "scrolled": true
   },
   "outputs": [
    {
     "name": "stdout",
     "output_type": "stream",
     "text": [
      "0.003044962497628534\n"
     ]
    }
   ],
   "source": [
    "# 모델 정확도 평가\n",
    "print(line_fitter.score(X_train, y_train))"
   ]
  },
  {
   "cell_type": "markdown",
   "metadata": {},
   "source": [
    "# 다중선형회귀 (온도, 홈런)"
   ]
  },
  {
   "cell_type": "code",
   "execution_count": null,
   "metadata": {},
   "outputs": [],
   "source": [
    "스케일 & mlr"
   ]
  },
  {
   "cell_type": "code",
   "execution_count": 66,
   "metadata": {},
   "outputs": [
    {
     "data": {
      "text/html": [
       "<div>\n",
       "<style scoped>\n",
       "    .dataframe tbody tr th:only-of-type {\n",
       "        vertical-align: middle;\n",
       "    }\n",
       "\n",
       "    .dataframe tbody tr th {\n",
       "        vertical-align: top;\n",
       "    }\n",
       "\n",
       "    .dataframe thead th {\n",
       "        text-align: right;\n",
       "    }\n",
       "</style>\n",
       "<table border=\"1\" class=\"dataframe\">\n",
       "  <thead>\n",
       "    <tr style=\"text-align: right;\">\n",
       "      <th></th>\n",
       "      <th>day_text</th>\n",
       "      <th>time_text</th>\n",
       "      <th>team_text</th>\n",
       "      <th>location</th>\n",
       "      <th>H_text</th>\n",
       "      <th>HR_text</th>\n",
       "      <th>S_text</th>\n",
       "      <th>ST_text</th>\n",
       "      <th>DU_text</th>\n",
       "      <th>ER_text</th>\n",
       "      <th>result_text</th>\n",
       "      <th>temp</th>\n",
       "      <th>rain</th>\n",
       "      <th>wind</th>\n",
       "      <th>d_wind</th>\n",
       "      <th>humidity</th>\n",
       "      <th>atmosphere</th>\n",
       "      <th>surface</th>\n",
       "    </tr>\n",
       "  </thead>\n",
       "  <tbody>\n",
       "    <tr>\n",
       "      <th>0</th>\n",
       "      <td>7.31금</td>\n",
       "      <td>19:00</td>\n",
       "      <td>KIA 타이거즈</td>\n",
       "      <td>광주</td>\n",
       "      <td>8</td>\n",
       "      <td>0</td>\n",
       "      <td>0</td>\n",
       "      <td>10</td>\n",
       "      <td>1</td>\n",
       "      <td>3</td>\n",
       "      <td>1</td>\n",
       "      <td>28.3</td>\n",
       "      <td>0.0</td>\n",
       "      <td>1.4</td>\n",
       "      <td>250</td>\n",
       "      <td>88</td>\n",
       "      <td>1005.0</td>\n",
       "      <td>28.7</td>\n",
       "    </tr>\n",
       "    <tr>\n",
       "      <th>1</th>\n",
       "      <td>7.31금</td>\n",
       "      <td>19:00</td>\n",
       "      <td>롯데 자이언츠</td>\n",
       "      <td>광주</td>\n",
       "      <td>6</td>\n",
       "      <td>0</td>\n",
       "      <td>0</td>\n",
       "      <td>5</td>\n",
       "      <td>3</td>\n",
       "      <td>1</td>\n",
       "      <td>0</td>\n",
       "      <td>28.3</td>\n",
       "      <td>0.0</td>\n",
       "      <td>1.4</td>\n",
       "      <td>250</td>\n",
       "      <td>88</td>\n",
       "      <td>1005.0</td>\n",
       "      <td>28.7</td>\n",
       "    </tr>\n",
       "    <tr>\n",
       "      <th>2</th>\n",
       "      <td>7.31금</td>\n",
       "      <td>19:00</td>\n",
       "      <td>두산 베어스</td>\n",
       "      <td>서울</td>\n",
       "      <td>14</td>\n",
       "      <td>1</td>\n",
       "      <td>2</td>\n",
       "      <td>8</td>\n",
       "      <td>1</td>\n",
       "      <td>0</td>\n",
       "      <td>0</td>\n",
       "      <td>27.4</td>\n",
       "      <td>0.0</td>\n",
       "      <td>1.8</td>\n",
       "      <td>230</td>\n",
       "      <td>82</td>\n",
       "      <td>1002.6</td>\n",
       "      <td>26.6</td>\n",
       "    </tr>\n",
       "    <tr>\n",
       "      <th>3</th>\n",
       "      <td>7.31금</td>\n",
       "      <td>19:00</td>\n",
       "      <td>NC 다이노스</td>\n",
       "      <td>서울</td>\n",
       "      <td>14</td>\n",
       "      <td>1</td>\n",
       "      <td>2</td>\n",
       "      <td>7</td>\n",
       "      <td>1</td>\n",
       "      <td>1</td>\n",
       "      <td>1</td>\n",
       "      <td>27.4</td>\n",
       "      <td>0.0</td>\n",
       "      <td>1.8</td>\n",
       "      <td>230</td>\n",
       "      <td>82</td>\n",
       "      <td>1002.6</td>\n",
       "      <td>26.6</td>\n",
       "    </tr>\n",
       "    <tr>\n",
       "      <th>4</th>\n",
       "      <td>7.31금</td>\n",
       "      <td>19:00</td>\n",
       "      <td>SK 와이번스</td>\n",
       "      <td>인천</td>\n",
       "      <td>4</td>\n",
       "      <td>1</td>\n",
       "      <td>0</td>\n",
       "      <td>5</td>\n",
       "      <td>1</td>\n",
       "      <td>0</td>\n",
       "      <td>0</td>\n",
       "      <td>25.0</td>\n",
       "      <td>0.0</td>\n",
       "      <td>2.7</td>\n",
       "      <td>250</td>\n",
       "      <td>95</td>\n",
       "      <td>1004.6</td>\n",
       "      <td>26.8</td>\n",
       "    </tr>\n",
       "  </tbody>\n",
       "</table>\n",
       "</div>"
      ],
      "text/plain": [
       "  day_text time_text team_text location  H_text  HR_text  S_text  ST_text  \\\n",
       "0    7.31금     19:00  KIA 타이거즈       광주       8        0       0       10   \n",
       "1    7.31금     19:00   롯데 자이언츠       광주       6        0       0        5   \n",
       "2    7.31금     19:00    두산 베어스       서울      14        1       2        8   \n",
       "3    7.31금     19:00   NC 다이노스       서울      14        1       2        7   \n",
       "4    7.31금     19:00   SK 와이번스       인천       4        1       0        5   \n",
       "\n",
       "   DU_text  ER_text  result_text  temp  rain  wind  d_wind  humidity  \\\n",
       "0        1        3            1  28.3   0.0   1.4     250        88   \n",
       "1        3        1            0  28.3   0.0   1.4     250        88   \n",
       "2        1        0            0  27.4   0.0   1.8     230        82   \n",
       "3        1        1            1  27.4   0.0   1.8     230        82   \n",
       "4        1        0            0  25.0   0.0   2.7     250        95   \n",
       "\n",
       "   atmosphere  surface  \n",
       "0      1005.0     28.7  \n",
       "1      1005.0     28.7  \n",
       "2      1002.6     26.6  \n",
       "3      1002.6     26.6  \n",
       "4      1004.6     26.8  "
      ]
     },
     "execution_count": 66,
     "metadata": {},
     "output_type": "execute_result"
    }
   ],
   "source": [
    "import pandas as pd\n",
    "df = pd.read_csv(\"../data/data.csv\")\n",
    "df.head()"
   ]
  },
  {
   "cell_type": "code",
   "execution_count": 50,
   "metadata": {
    "scrolled": true
   },
   "outputs": [
    {
     "data": {
      "image/png": "[encoded data removed]",
      "text/plain": [
       "<Figure size 432x288 with 1 Axes>"
      ]
     },
     "metadata": {
      "needs_background": "light"
     },
     "output_type": "display_data"
    }
   ],
   "source": [
    "X = df[\"temp\"]\n",
    "y = df[\"HR_text\"]\n",
    "\n",
    "X = X.values.reshape(-1,1)\n",
    "\n",
    "x_train, x_test, y_train, y_test = train_test_split(X, y, train_size=0.8, test_size=0.2)\n",
    "\n",
    "plt.plot(X, y, 'o')\n",
    "plt.show()"
   ]
  },
  {
   "cell_type": "code",
   "execution_count": 51,
   "metadata": {
    "scrolled": false
   },
   "outputs": [
    {
     "data": {
      "text/plain": [
       "LinearRegression()"
      ]
     },
     "execution_count": 51,
     "metadata": {},
     "output_type": "execute_result"
    }
   ],
   "source": [
    "# 모델 생성\n",
    "from sklearn.linear_model import LinearRegression\n",
    "mlr = LinearRegression()\n",
    "mlr.fit(x_train, y_train) "
   ]
  },
  {
   "cell_type": "code",
   "execution_count": 52,
   "metadata": {},
   "outputs": [],
   "source": [
    "hr_pred = [[15]]\n",
    "my_predict = mlr.predict(hr_pred)"
   ]
  },
  {
   "cell_type": "code",
   "execution_count": 53,
   "metadata": {},
   "outputs": [],
   "source": [
    "y_predict = mlr.predict(x_test)"
   ]
  },
  {
   "cell_type": "code",
   "execution_count": 54,
   "metadata": {},
   "outputs": [
    {
     "data": {
      "image/png": "[encoded data removed]",
      "text/plain": [
       "<Figure size 432x288 with 1 Axes>"
      ]
     },
     "metadata": {
      "needs_background": "light"
     },
     "output_type": "display_data"
    }
   ],
   "source": [
    "# matplotlib의 시각화\n",
    "import matplotlib.pyplot as plt\n",
    "plt.scatter(y_test, y_predict, alpha=0.4)\n",
    "plt.xlabel(\"temp\")\n",
    "plt.ylabel(\"Homerun\")\n",
    "plt.title(\"Temp by homerun\")\n",
    "plt.show()"
   ]
  },
  {
   "cell_type": "code",
   "execution_count": 55,
   "metadata": {},
   "outputs": [
    {
     "data": {
      "image/png": "[encoded data removed]",
      "text/plain": [
       "<Figure size 432x288 with 1 Axes>"
      ]
     },
     "metadata": {
      "needs_background": "light"
     },
     "output_type": "display_data"
    }
   ],
   "source": [
    "# 상관 살펴보기\n",
    "plt.scatter(df[['HR_text']], df[['temp']], alpha=0.4)\n",
    "plt.show()"
   ]
  },
  {
   "cell_type": "code",
   "execution_count": 56,
   "metadata": {},
   "outputs": [
    {
     "name": "stdout",
     "output_type": "stream",
     "text": [
      "0.0005029626911402518\n"
     ]
    }
   ],
   "source": [
    "# 모델 정확도 평가\n",
    "print(mlr.score(x_train, y_train))"
   ]
  },
  {
   "cell_type": "markdown",
   "metadata": {},
   "source": [
    "# Logistic Regression"
   ]
  },
  {
   "cell_type": "code",
   "execution_count": null,
   "metadata": {},
   "outputs": [],
   "source": [
    "from sklearn.linear_model import LogisticRegression"
   ]
  },
  {
   "cell_type": "code",
   "execution_count": null,
   "metadata": {},
   "outputs": [],
   "source": [
    "model = LogisticRegression()\n",
    "model.fit(features, labels)"
   ]
  },
  {
   "cell_type": "code",
   "execution_count": null,
   "metadata": {},
   "outputs": [],
   "source": [
    "model.predict(features)"
   ]
  },
  {
   "cell_type": "code",
   "execution_count": null,
   "metadata": {},
   "outputs": [],
   "source": [
    "model.predict_proba(features)"
   ]
  },
  {
   "cell_type": "code",
   "execution_count": null,
   "metadata": {},
   "outputs": [],
   "source": []
  },
  {
   "cell_type": "markdown",
   "metadata": {},
   "source": [
    "# 딥러닝 - 회귀모델(mse), 날씨 전체"
   ]
  },
  {
   "cell_type": "code",
   "execution_count": 16,
   "metadata": {},
   "outputs": [],
   "source": [
    "from keras.models import Sequential\n",
    "from keras.layers import Dense\n",
    "\n",
    "import numpy\n",
    "import pandas as pd\n",
    "import tensorflow as tf\n",
    "from sklearn.model_selection import train_test_split"
   ]
  },
  {
   "cell_type": "code",
   "execution_count": 17,
   "metadata": {},
   "outputs": [],
   "source": [
    "seed = 0\n",
    "numpy.random.seed(seed)\n",
    "tf.random.set_seed(3)"
   ]
  },
  {
   "cell_type": "code",
   "execution_count": 18,
   "metadata": {},
   "outputs": [],
   "source": [
    "data = pd.read_csv('../data/data.csv')"
   ]
  },
  {
   "cell_type": "code",
   "execution_count": 19,
   "metadata": {},
   "outputs": [
    {
     "data": {
      "text/plain": [
       "array([['7.31금', '19:00', 'KIA 타이거즈', ..., 88, 1005.0, 28.7],\n",
       "       ['7.31금', '19:00', '롯데 자이언츠', ..., 88, 1005.0, 28.7],\n",
       "       ['7.31금', '19:00', '두산 베어스', ..., 82, 1002.6, 26.6],\n",
       "       ...,\n",
       "       ['10.30금', '19:00', '두산 베어스', ..., 57, 994.6, 39.4],\n",
       "       ['10.31토', '17:00', 'NC 다이노스', ..., 71, 991.6, 31.3],\n",
       "       ['10.31토', '17:00', 'KIA 타이거즈', ..., 83, 991.7, 32.0]],\n",
       "      dtype=object)"
      ]
     },
     "execution_count": 19,
     "metadata": {},
     "output_type": "execute_result"
    }
   ],
   "source": [
    "dataset = data.values\n",
    "dataset"
   ]
  },
  {
   "cell_type": "code",
   "execution_count": 20,
   "metadata": {
    "scrolled": true
   },
   "outputs": [
    {
     "data": {
      "text/html": [
       "<div>\n",
       "<style scoped>\n",
       "    .dataframe tbody tr th:only-of-type {\n",
       "        vertical-align: middle;\n",
       "    }\n",
       "\n",
       "    .dataframe tbody tr th {\n",
       "        vertical-align: top;\n",
       "    }\n",
       "\n",
       "    .dataframe thead th {\n",
       "        text-align: right;\n",
       "    }\n",
       "</style>\n",
       "<table border=\"1\" class=\"dataframe\">\n",
       "  <thead>\n",
       "    <tr style=\"text-align: right;\">\n",
       "      <th></th>\n",
       "      <th>day_text</th>\n",
       "      <th>time_text</th>\n",
       "      <th>team_text</th>\n",
       "      <th>location</th>\n",
       "      <th>H_text</th>\n",
       "      <th>HR_text</th>\n",
       "      <th>S_text</th>\n",
       "      <th>ST_text</th>\n",
       "      <th>DU_text</th>\n",
       "      <th>ER_text</th>\n",
       "      <th>result_text</th>\n",
       "      <th>temp</th>\n",
       "      <th>rain</th>\n",
       "      <th>wind</th>\n",
       "      <th>d_wind</th>\n",
       "      <th>humidity</th>\n",
       "      <th>atmosphere</th>\n",
       "      <th>surface</th>\n",
       "    </tr>\n",
       "  </thead>\n",
       "  <tbody>\n",
       "    <tr>\n",
       "      <th>0</th>\n",
       "      <td>7.31금</td>\n",
       "      <td>19:00</td>\n",
       "      <td>KIA 타이거즈</td>\n",
       "      <td>광주</td>\n",
       "      <td>8</td>\n",
       "      <td>0</td>\n",
       "      <td>0</td>\n",
       "      <td>10</td>\n",
       "      <td>1</td>\n",
       "      <td>3</td>\n",
       "      <td>1</td>\n",
       "      <td>28.3</td>\n",
       "      <td>0.0</td>\n",
       "      <td>1.4</td>\n",
       "      <td>250</td>\n",
       "      <td>88</td>\n",
       "      <td>1005.0</td>\n",
       "      <td>28.7</td>\n",
       "    </tr>\n",
       "    <tr>\n",
       "      <th>1</th>\n",
       "      <td>7.31금</td>\n",
       "      <td>19:00</td>\n",
       "      <td>롯데 자이언츠</td>\n",
       "      <td>광주</td>\n",
       "      <td>6</td>\n",
       "      <td>0</td>\n",
       "      <td>0</td>\n",
       "      <td>5</td>\n",
       "      <td>3</td>\n",
       "      <td>1</td>\n",
       "      <td>0</td>\n",
       "      <td>28.3</td>\n",
       "      <td>0.0</td>\n",
       "      <td>1.4</td>\n",
       "      <td>250</td>\n",
       "      <td>88</td>\n",
       "      <td>1005.0</td>\n",
       "      <td>28.7</td>\n",
       "    </tr>\n",
       "    <tr>\n",
       "      <th>2</th>\n",
       "      <td>7.31금</td>\n",
       "      <td>19:00</td>\n",
       "      <td>두산 베어스</td>\n",
       "      <td>서울</td>\n",
       "      <td>14</td>\n",
       "      <td>1</td>\n",
       "      <td>2</td>\n",
       "      <td>8</td>\n",
       "      <td>1</td>\n",
       "      <td>0</td>\n",
       "      <td>0</td>\n",
       "      <td>27.4</td>\n",
       "      <td>0.0</td>\n",
       "      <td>1.8</td>\n",
       "      <td>230</td>\n",
       "      <td>82</td>\n",
       "      <td>1002.6</td>\n",
       "      <td>26.6</td>\n",
       "    </tr>\n",
       "    <tr>\n",
       "      <th>3</th>\n",
       "      <td>7.31금</td>\n",
       "      <td>19:00</td>\n",
       "      <td>NC 다이노스</td>\n",
       "      <td>서울</td>\n",
       "      <td>14</td>\n",
       "      <td>1</td>\n",
       "      <td>2</td>\n",
       "      <td>7</td>\n",
       "      <td>1</td>\n",
       "      <td>1</td>\n",
       "      <td>1</td>\n",
       "      <td>27.4</td>\n",
       "      <td>0.0</td>\n",
       "      <td>1.8</td>\n",
       "      <td>230</td>\n",
       "      <td>82</td>\n",
       "      <td>1002.6</td>\n",
       "      <td>26.6</td>\n",
       "    </tr>\n",
       "    <tr>\n",
       "      <th>4</th>\n",
       "      <td>7.31금</td>\n",
       "      <td>19:00</td>\n",
       "      <td>SK 와이번스</td>\n",
       "      <td>인천</td>\n",
       "      <td>4</td>\n",
       "      <td>1</td>\n",
       "      <td>0</td>\n",
       "      <td>5</td>\n",
       "      <td>1</td>\n",
       "      <td>0</td>\n",
       "      <td>0</td>\n",
       "      <td>25.0</td>\n",
       "      <td>0.0</td>\n",
       "      <td>2.7</td>\n",
       "      <td>250</td>\n",
       "      <td>95</td>\n",
       "      <td>1004.6</td>\n",
       "      <td>26.8</td>\n",
       "    </tr>\n",
       "    <tr>\n",
       "      <th>...</th>\n",
       "      <td>...</td>\n",
       "      <td>...</td>\n",
       "      <td>...</td>\n",
       "      <td>...</td>\n",
       "      <td>...</td>\n",
       "      <td>...</td>\n",
       "      <td>...</td>\n",
       "      <td>...</td>\n",
       "      <td>...</td>\n",
       "      <td>...</td>\n",
       "      <td>...</td>\n",
       "      <td>...</td>\n",
       "      <td>...</td>\n",
       "      <td>...</td>\n",
       "      <td>...</td>\n",
       "      <td>...</td>\n",
       "      <td>...</td>\n",
       "      <td>...</td>\n",
       "    </tr>\n",
       "    <tr>\n",
       "      <th>735</th>\n",
       "      <td>10.30금</td>\n",
       "      <td>19:00</td>\n",
       "      <td>삼성 라이온즈</td>\n",
       "      <td>창원</td>\n",
       "      <td>7</td>\n",
       "      <td>1</td>\n",
       "      <td>2</td>\n",
       "      <td>8</td>\n",
       "      <td>1</td>\n",
       "      <td>0</td>\n",
       "      <td>0</td>\n",
       "      <td>28.1</td>\n",
       "      <td>0.0</td>\n",
       "      <td>1.4</td>\n",
       "      <td>70</td>\n",
       "      <td>65</td>\n",
       "      <td>995.1</td>\n",
       "      <td>43.2</td>\n",
       "    </tr>\n",
       "    <tr>\n",
       "      <th>736</th>\n",
       "      <td>10.30금</td>\n",
       "      <td>19:00</td>\n",
       "      <td>키움 히어로즈</td>\n",
       "      <td>서울</td>\n",
       "      <td>2</td>\n",
       "      <td>0</td>\n",
       "      <td>0</td>\n",
       "      <td>7</td>\n",
       "      <td>0</td>\n",
       "      <td>0</td>\n",
       "      <td>0</td>\n",
       "      <td>29.4</td>\n",
       "      <td>0.0</td>\n",
       "      <td>2.6</td>\n",
       "      <td>270</td>\n",
       "      <td>60</td>\n",
       "      <td>995.0</td>\n",
       "      <td>42.0</td>\n",
       "    </tr>\n",
       "    <tr>\n",
       "      <th>737</th>\n",
       "      <td>10.30금</td>\n",
       "      <td>19:00</td>\n",
       "      <td>두산 베어스</td>\n",
       "      <td>서울</td>\n",
       "      <td>8</td>\n",
       "      <td>0</td>\n",
       "      <td>0</td>\n",
       "      <td>5</td>\n",
       "      <td>0</td>\n",
       "      <td>0</td>\n",
       "      <td>1</td>\n",
       "      <td>29.6</td>\n",
       "      <td>0.0</td>\n",
       "      <td>3.1</td>\n",
       "      <td>290</td>\n",
       "      <td>57</td>\n",
       "      <td>994.6</td>\n",
       "      <td>39.4</td>\n",
       "    </tr>\n",
       "    <tr>\n",
       "      <th>738</th>\n",
       "      <td>10.31토</td>\n",
       "      <td>17:00</td>\n",
       "      <td>NC 다이노스</td>\n",
       "      <td>창원</td>\n",
       "      <td>11</td>\n",
       "      <td>0</td>\n",
       "      <td>0</td>\n",
       "      <td>9</td>\n",
       "      <td>0</td>\n",
       "      <td>1</td>\n",
       "      <td>0</td>\n",
       "      <td>27.8</td>\n",
       "      <td>0.0</td>\n",
       "      <td>0.9</td>\n",
       "      <td>230</td>\n",
       "      <td>71</td>\n",
       "      <td>991.6</td>\n",
       "      <td>31.3</td>\n",
       "    </tr>\n",
       "    <tr>\n",
       "      <th>739</th>\n",
       "      <td>10.31토</td>\n",
       "      <td>17:00</td>\n",
       "      <td>KIA 타이거즈</td>\n",
       "      <td>창원</td>\n",
       "      <td>10</td>\n",
       "      <td>1</td>\n",
       "      <td>1</td>\n",
       "      <td>7</td>\n",
       "      <td>1</td>\n",
       "      <td>2</td>\n",
       "      <td>1</td>\n",
       "      <td>27.6</td>\n",
       "      <td>0.0</td>\n",
       "      <td>2.0</td>\n",
       "      <td>230</td>\n",
       "      <td>83</td>\n",
       "      <td>991.7</td>\n",
       "      <td>32.0</td>\n",
       "    </tr>\n",
       "  </tbody>\n",
       "</table>\n",
       "<p>740 rows × 18 columns</p>\n",
       "</div>"
      ],
      "text/plain": [
       "    day_text time_text team_text location  H_text  HR_text  S_text  ST_text  \\\n",
       "0      7.31금     19:00  KIA 타이거즈       광주       8        0       0       10   \n",
       "1      7.31금     19:00   롯데 자이언츠       광주       6        0       0        5   \n",
       "2      7.31금     19:00    두산 베어스       서울      14        1       2        8   \n",
       "3      7.31금     19:00   NC 다이노스       서울      14        1       2        7   \n",
       "4      7.31금     19:00   SK 와이번스       인천       4        1       0        5   \n",
       "..       ...       ...       ...      ...     ...      ...     ...      ...   \n",
       "735   10.30금     19:00   삼성 라이온즈       창원       7        1       2        8   \n",
       "736   10.30금     19:00   키움 히어로즈       서울       2        0       0        7   \n",
       "737   10.30금     19:00    두산 베어스       서울       8        0       0        5   \n",
       "738   10.31토     17:00   NC 다이노스       창원      11        0       0        9   \n",
       "739   10.31토     17:00  KIA 타이거즈       창원      10        1       1        7   \n",
       "\n",
       "     DU_text  ER_text  result_text  temp  rain  wind  d_wind  humidity  \\\n",
       "0          1        3            1  28.3   0.0   1.4     250        88   \n",
       "1          3        1            0  28.3   0.0   1.4     250        88   \n",
       "2          1        0            0  27.4   0.0   1.8     230        82   \n",
       "3          1        1            1  27.4   0.0   1.8     230        82   \n",
       "4          1        0            0  25.0   0.0   2.7     250        95   \n",
       "..       ...      ...          ...   ...   ...   ...     ...       ...   \n",
       "735        1        0            0  28.1   0.0   1.4      70        65   \n",
       "736        0        0            0  29.4   0.0   2.6     270        60   \n",
       "737        0        0            1  29.6   0.0   3.1     290        57   \n",
       "738        0        1            0  27.8   0.0   0.9     230        71   \n",
       "739        1        2            1  27.6   0.0   2.0     230        83   \n",
       "\n",
       "     atmosphere  surface  \n",
       "0        1005.0     28.7  \n",
       "1        1005.0     28.7  \n",
       "2        1002.6     26.6  \n",
       "3        1002.6     26.6  \n",
       "4        1004.6     26.8  \n",
       "..          ...      ...  \n",
       "735       995.1     43.2  \n",
       "736       995.0     42.0  \n",
       "737       994.6     39.4  \n",
       "738       991.6     31.3  \n",
       "739       991.7     32.0  \n",
       "\n",
       "[740 rows x 18 columns]"
      ]
     },
     "execution_count": 20,
     "metadata": {},
     "output_type": "execute_result"
    }
   ],
   "source": [
    "data"
   ]
  },
  {
   "cell_type": "code",
   "execution_count": 21,
   "metadata": {},
   "outputs": [],
   "source": [
    "data = data.drop(['day_text','time_text'], axis = 1)\n"
   ]
  },
  {
   "cell_type": "code",
   "execution_count": 22,
   "metadata": {},
   "outputs": [],
   "source": [
    "data = data.drop(['location'], axis = 1)"
   ]
  },
  {
   "cell_type": "code",
   "execution_count": 23,
   "metadata": {},
   "outputs": [
    {
     "data": {
      "text/html": [
       "<div>\n",
       "<style scoped>\n",
       "    .dataframe tbody tr th:only-of-type {\n",
       "        vertical-align: middle;\n",
       "    }\n",
       "\n",
       "    .dataframe tbody tr th {\n",
       "        vertical-align: top;\n",
       "    }\n",
       "\n",
       "    .dataframe thead th {\n",
       "        text-align: right;\n",
       "    }\n",
       "</style>\n",
       "<table border=\"1\" class=\"dataframe\">\n",
       "  <thead>\n",
       "    <tr style=\"text-align: right;\">\n",
       "      <th></th>\n",
       "      <th>team_text</th>\n",
       "      <th>H_text</th>\n",
       "      <th>HR_text</th>\n",
       "      <th>S_text</th>\n",
       "      <th>ST_text</th>\n",
       "      <th>DU_text</th>\n",
       "      <th>ER_text</th>\n",
       "      <th>result_text</th>\n",
       "      <th>temp</th>\n",
       "      <th>rain</th>\n",
       "      <th>wind</th>\n",
       "      <th>d_wind</th>\n",
       "      <th>humidity</th>\n",
       "      <th>atmosphere</th>\n",
       "      <th>surface</th>\n",
       "    </tr>\n",
       "  </thead>\n",
       "  <tbody>\n",
       "    <tr>\n",
       "      <th>0</th>\n",
       "      <td>KIA 타이거즈</td>\n",
       "      <td>8</td>\n",
       "      <td>0</td>\n",
       "      <td>0</td>\n",
       "      <td>10</td>\n",
       "      <td>1</td>\n",
       "      <td>3</td>\n",
       "      <td>1</td>\n",
       "      <td>28.3</td>\n",
       "      <td>0.0</td>\n",
       "      <td>1.4</td>\n",
       "      <td>250</td>\n",
       "      <td>88</td>\n",
       "      <td>1005.0</td>\n",
       "      <td>28.7</td>\n",
       "    </tr>\n",
       "    <tr>\n",
       "      <th>1</th>\n",
       "      <td>롯데 자이언츠</td>\n",
       "      <td>6</td>\n",
       "      <td>0</td>\n",
       "      <td>0</td>\n",
       "      <td>5</td>\n",
       "      <td>3</td>\n",
       "      <td>1</td>\n",
       "      <td>0</td>\n",
       "      <td>28.3</td>\n",
       "      <td>0.0</td>\n",
       "      <td>1.4</td>\n",
       "      <td>250</td>\n",
       "      <td>88</td>\n",
       "      <td>1005.0</td>\n",
       "      <td>28.7</td>\n",
       "    </tr>\n",
       "    <tr>\n",
       "      <th>2</th>\n",
       "      <td>두산 베어스</td>\n",
       "      <td>14</td>\n",
       "      <td>1</td>\n",
       "      <td>2</td>\n",
       "      <td>8</td>\n",
       "      <td>1</td>\n",
       "      <td>0</td>\n",
       "      <td>0</td>\n",
       "      <td>27.4</td>\n",
       "      <td>0.0</td>\n",
       "      <td>1.8</td>\n",
       "      <td>230</td>\n",
       "      <td>82</td>\n",
       "      <td>1002.6</td>\n",
       "      <td>26.6</td>\n",
       "    </tr>\n",
       "    <tr>\n",
       "      <th>3</th>\n",
       "      <td>NC 다이노스</td>\n",
       "      <td>14</td>\n",
       "      <td>1</td>\n",
       "      <td>2</td>\n",
       "      <td>7</td>\n",
       "      <td>1</td>\n",
       "      <td>1</td>\n",
       "      <td>1</td>\n",
       "      <td>27.4</td>\n",
       "      <td>0.0</td>\n",
       "      <td>1.8</td>\n",
       "      <td>230</td>\n",
       "      <td>82</td>\n",
       "      <td>1002.6</td>\n",
       "      <td>26.6</td>\n",
       "    </tr>\n",
       "    <tr>\n",
       "      <th>4</th>\n",
       "      <td>SK 와이번스</td>\n",
       "      <td>4</td>\n",
       "      <td>1</td>\n",
       "      <td>0</td>\n",
       "      <td>5</td>\n",
       "      <td>1</td>\n",
       "      <td>0</td>\n",
       "      <td>0</td>\n",
       "      <td>25.0</td>\n",
       "      <td>0.0</td>\n",
       "      <td>2.7</td>\n",
       "      <td>250</td>\n",
       "      <td>95</td>\n",
       "      <td>1004.6</td>\n",
       "      <td>26.8</td>\n",
       "    </tr>\n",
       "    <tr>\n",
       "      <th>...</th>\n",
       "      <td>...</td>\n",
       "      <td>...</td>\n",
       "      <td>...</td>\n",
       "      <td>...</td>\n",
       "      <td>...</td>\n",
       "      <td>...</td>\n",
       "      <td>...</td>\n",
       "      <td>...</td>\n",
       "      <td>...</td>\n",
       "      <td>...</td>\n",
       "      <td>...</td>\n",
       "      <td>...</td>\n",
       "      <td>...</td>\n",
       "      <td>...</td>\n",
       "      <td>...</td>\n",
       "    </tr>\n",
       "    <tr>\n",
       "      <th>735</th>\n",
       "      <td>삼성 라이온즈</td>\n",
       "      <td>7</td>\n",
       "      <td>1</td>\n",
       "      <td>2</td>\n",
       "      <td>8</td>\n",
       "      <td>1</td>\n",
       "      <td>0</td>\n",
       "      <td>0</td>\n",
       "      <td>28.1</td>\n",
       "      <td>0.0</td>\n",
       "      <td>1.4</td>\n",
       "      <td>70</td>\n",
       "      <td>65</td>\n",
       "      <td>995.1</td>\n",
       "      <td>43.2</td>\n",
       "    </tr>\n",
       "    <tr>\n",
       "      <th>736</th>\n",
       "      <td>키움 히어로즈</td>\n",
       "      <td>2</td>\n",
       "      <td>0</td>\n",
       "      <td>0</td>\n",
       "      <td>7</td>\n",
       "      <td>0</td>\n",
       "      <td>0</td>\n",
       "      <td>0</td>\n",
       "      <td>29.4</td>\n",
       "      <td>0.0</td>\n",
       "      <td>2.6</td>\n",
       "      <td>270</td>\n",
       "      <td>60</td>\n",
       "      <td>995.0</td>\n",
       "      <td>42.0</td>\n",
       "    </tr>\n",
       "    <tr>\n",
       "      <th>737</th>\n",
       "      <td>두산 베어스</td>\n",
       "      <td>8</td>\n",
       "      <td>0</td>\n",
       "      <td>0</td>\n",
       "      <td>5</td>\n",
       "      <td>0</td>\n",
       "      <td>0</td>\n",
       "      <td>1</td>\n",
       "      <td>29.6</td>\n",
       "      <td>0.0</td>\n",
       "      <td>3.1</td>\n",
       "      <td>290</td>\n",
       "      <td>57</td>\n",
       "      <td>994.6</td>\n",
       "      <td>39.4</td>\n",
       "    </tr>\n",
       "    <tr>\n",
       "      <th>738</th>\n",
       "      <td>NC 다이노스</td>\n",
       "      <td>11</td>\n",
       "      <td>0</td>\n",
       "      <td>0</td>\n",
       "      <td>9</td>\n",
       "      <td>0</td>\n",
       "      <td>1</td>\n",
       "      <td>0</td>\n",
       "      <td>27.8</td>\n",
       "      <td>0.0</td>\n",
       "      <td>0.9</td>\n",
       "      <td>230</td>\n",
       "      <td>71</td>\n",
       "      <td>991.6</td>\n",
       "      <td>31.3</td>\n",
       "    </tr>\n",
       "    <tr>\n",
       "      <th>739</th>\n",
       "      <td>KIA 타이거즈</td>\n",
       "      <td>10</td>\n",
       "      <td>1</td>\n",
       "      <td>1</td>\n",
       "      <td>7</td>\n",
       "      <td>1</td>\n",
       "      <td>2</td>\n",
       "      <td>1</td>\n",
       "      <td>27.6</td>\n",
       "      <td>0.0</td>\n",
       "      <td>2.0</td>\n",
       "      <td>230</td>\n",
       "      <td>83</td>\n",
       "      <td>991.7</td>\n",
       "      <td>32.0</td>\n",
       "    </tr>\n",
       "  </tbody>\n",
       "</table>\n",
       "<p>740 rows × 15 columns</p>\n",
       "</div>"
      ],
      "text/plain": [
       "    team_text  H_text  HR_text  S_text  ST_text  DU_text  ER_text  \\\n",
       "0    KIA 타이거즈       8        0       0       10        1        3   \n",
       "1     롯데 자이언츠       6        0       0        5        3        1   \n",
       "2      두산 베어스      14        1       2        8        1        0   \n",
       "3     NC 다이노스      14        1       2        7        1        1   \n",
       "4     SK 와이번스       4        1       0        5        1        0   \n",
       "..        ...     ...      ...     ...      ...      ...      ...   \n",
       "735   삼성 라이온즈       7        1       2        8        1        0   \n",
       "736   키움 히어로즈       2        0       0        7        0        0   \n",
       "737    두산 베어스       8        0       0        5        0        0   \n",
       "738   NC 다이노스      11        0       0        9        0        1   \n",
       "739  KIA 타이거즈      10        1       1        7        1        2   \n",
       "\n",
       "     result_text  temp  rain  wind  d_wind  humidity  atmosphere  surface  \n",
       "0              1  28.3   0.0   1.4     250        88      1005.0     28.7  \n",
       "1              0  28.3   0.0   1.4     250        88      1005.0     28.7  \n",
       "2              0  27.4   0.0   1.8     230        82      1002.6     26.6  \n",
       "3              1  27.4   0.0   1.8     230        82      1002.6     26.6  \n",
       "4              0  25.0   0.0   2.7     250        95      1004.6     26.8  \n",
       "..           ...   ...   ...   ...     ...       ...         ...      ...  \n",
       "735            0  28.1   0.0   1.4      70        65       995.1     43.2  \n",
       "736            0  29.4   0.0   2.6     270        60       995.0     42.0  \n",
       "737            1  29.6   0.0   3.1     290        57       994.6     39.4  \n",
       "738            0  27.8   0.0   0.9     230        71       991.6     31.3  \n",
       "739            1  27.6   0.0   2.0     230        83       991.7     32.0  \n",
       "\n",
       "[740 rows x 15 columns]"
      ]
     },
     "execution_count": 23,
     "metadata": {},
     "output_type": "execute_result"
    }
   ],
   "source": [
    "data"
   ]
  },
  {
   "cell_type": "code",
   "execution_count": 24,
   "metadata": {},
   "outputs": [],
   "source": [
    "cat_feature = ['team_text']"
   ]
  },
  {
   "cell_type": "code",
   "execution_count": 25,
   "metadata": {},
   "outputs": [],
   "source": [
    "for i in cat_feature:\n",
    "    dummy = pd.get_dummies(data[i], prefix = i)\n",
    "    data = pd.concat([data, dummy], axis = 1)\n",
    "    data.drop(i, axis=1, inplace = True)"
   ]
  },
  {
   "cell_type": "code",
   "execution_count": 26,
   "metadata": {},
   "outputs": [],
   "source": [
    "dataset = data.values"
   ]
  },
  {
   "cell_type": "code",
   "execution_count": 27,
   "metadata": {},
   "outputs": [
    {
     "data": {
      "text/plain": [
       "array([[ 8.,  0.,  0., ...,  0.,  0.,  0.],\n",
       "       [ 6.,  0.,  0., ...,  0.,  0.,  0.],\n",
       "       [14.,  1.,  2., ...,  0.,  0.,  0.],\n",
       "       ...,\n",
       "       [ 8.,  0.,  0., ...,  0.,  0.,  0.],\n",
       "       [11.,  0.,  0., ...,  0.,  0.,  0.],\n",
       "       [10.,  1.,  1., ...,  0.,  0.,  0.]])"
      ]
     },
     "execution_count": 27,
     "metadata": {},
     "output_type": "execute_result"
    }
   ],
   "source": [
    "dataset"
   ]
  },
  {
   "cell_type": "code",
   "execution_count": 28,
   "metadata": {},
   "outputs": [],
   "source": [
    "X = dataset[data.index != 'HR_text']\n",
    "y = dataset[:,1]\n"
   ]
  },
  {
   "cell_type": "code",
   "execution_count": 29,
   "metadata": {},
   "outputs": [],
   "source": [
    "X_train, X_test, y_train, y_test = train_test_split(X, y,\n",
    "                                                    test_size=0.3, \n",
    "                                                    random_state=seed)"
   ]
  },
  {
   "cell_type": "code",
   "execution_count": 30,
   "metadata": {},
   "outputs": [
    {
     "name": "stdout",
     "output_type": "stream",
     "text": [
      "Epoch 1/200\n",
      "518/518 [==============================] - 1s 2ms/step - loss: 4434.6748 - accuracy: 0.0116 \n",
      "Epoch 2/200\n",
      "518/518 [==============================] - 0s 162us/step - loss: 66.5208 - accuracy: 0.0560\n",
      "Epoch 3/200\n",
      "518/518 [==============================] - 0s 156us/step - loss: 15.0770 - accuracy: 0.1120\n",
      "Epoch 4/200\n",
      "518/518 [==============================] - 0s 159us/step - loss: 9.8406 - accuracy: 0.1409\n",
      "Epoch 5/200\n",
      "518/518 [==============================] - 0s 160us/step - loss: 7.1399 - accuracy: 0.1795\n",
      "Epoch 6/200\n",
      "518/518 [==============================] - 0s 156us/step - loss: 6.0878 - accuracy: 0.1776\n",
      "Epoch 7/200\n",
      "518/518 [==============================] - 0s 160us/step - loss: 5.1077 - accuracy: 0.1892\n",
      "Epoch 8/200\n",
      "518/518 [==============================] - 0s 160us/step - loss: 4.0954 - accuracy: 0.1988\n",
      "Epoch 9/200\n",
      "518/518 [==============================] - 0s 162us/step - loss: 3.5239 - accuracy: 0.2471\n",
      "Epoch 10/200\n",
      "518/518 [==============================] - 0s 166us/step - loss: 2.8631 - accuracy: 0.2529\n",
      "Epoch 11/200\n",
      "518/518 [==============================] - 0s 177us/step - loss: 2.4053 - accuracy: 0.2761\n",
      "Epoch 12/200\n",
      "518/518 [==============================] - 0s 166us/step - loss: 2.1637 - accuracy: 0.2741\n",
      "Epoch 13/200\n",
      "518/518 [==============================] - 0s 160us/step - loss: 1.6943 - accuracy: 0.3147\n",
      "Epoch 14/200\n",
      "518/518 [==============================] - 0s 158us/step - loss: 1.5862 - accuracy: 0.3301\n",
      "Epoch 15/200\n",
      "518/518 [==============================] - 0s 168us/step - loss: 1.4560 - accuracy: 0.3533\n",
      "Epoch 16/200\n",
      "518/518 [==============================] - 0s 160us/step - loss: 1.0981 - accuracy: 0.4112\n",
      "Epoch 17/200\n",
      "518/518 [==============================] - 0s 164us/step - loss: 1.0825 - accuracy: 0.4112\n",
      "Epoch 18/200\n",
      "518/518 [==============================] - 0s 164us/step - loss: 0.9928 - accuracy: 0.4208\n",
      "Epoch 19/200\n",
      "518/518 [==============================] - 0s 158us/step - loss: 0.8510 - accuracy: 0.4672\n",
      "Epoch 20/200\n",
      "518/518 [==============================] - 0s 160us/step - loss: 0.8099 - accuracy: 0.4556\n",
      "Epoch 21/200\n",
      "518/518 [==============================] - 0s 168us/step - loss: 0.7166 - accuracy: 0.4942\n",
      "Epoch 22/200\n",
      "518/518 [==============================] - 0s 158us/step - loss: 0.7248 - accuracy: 0.4942\n",
      "Epoch 23/200\n",
      "518/518 [==============================] - 0s 163us/step - loss: 0.6761 - accuracy: 0.5174\n",
      "Epoch 24/200\n",
      "518/518 [==============================] - 0s 162us/step - loss: 0.5577 - accuracy: 0.5328\n",
      "Epoch 25/200\n",
      "518/518 [==============================] - 0s 158us/step - loss: 0.5024 - accuracy: 0.5521\n",
      "Epoch 26/200\n",
      "518/518 [==============================] - 0s 160us/step - loss: 0.5162 - accuracy: 0.5232\n",
      "Epoch 27/200\n",
      "518/518 [==============================] - 0s 161us/step - loss: 0.4362 - accuracy: 0.6023\n",
      "Epoch 28/200\n",
      "518/518 [==============================] - 0s 164us/step - loss: 0.4625 - accuracy: 0.5907\n",
      "Epoch 29/200\n",
      "518/518 [==============================] - 0s 158us/step - loss: 0.3988 - accuracy: 0.6255\n",
      "Epoch 30/200\n",
      "518/518 [==============================] - 0s 156us/step - loss: 0.4225 - accuracy: 0.6178\n",
      "Epoch 31/200\n",
      "518/518 [==============================] - 0s 162us/step - loss: 0.4118 - accuracy: 0.6062\n",
      "Epoch 32/200\n",
      "518/518 [==============================] - 0s 160us/step - loss: 0.4682 - accuracy: 0.5637\n",
      "Epoch 33/200\n",
      "518/518 [==============================] - 0s 164us/step - loss: 0.3756 - accuracy: 0.6371\n",
      "Epoch 34/200\n",
      "518/518 [==============================] - 0s 164us/step - loss: 0.2876 - accuracy: 0.7104\n",
      "Epoch 35/200\n",
      "518/518 [==============================] - 0s 166us/step - loss: 0.3312 - accuracy: 0.6255\n",
      "Epoch 36/200\n",
      "518/518 [==============================] - 0s 169us/step - loss: 0.2727 - accuracy: 0.6988\n",
      "Epoch 37/200\n",
      "518/518 [==============================] - 0s 158us/step - loss: 0.2712 - accuracy: 0.6911\n",
      "Epoch 38/200\n",
      "518/518 [==============================] - 0s 153us/step - loss: 0.2551 - accuracy: 0.7066\n",
      "Epoch 39/200\n",
      "518/518 [==============================] - 0s 154us/step - loss: 0.2294 - accuracy: 0.7471\n",
      "Epoch 40/200\n",
      "518/518 [==============================] - 0s 166us/step - loss: 0.2222 - accuracy: 0.7336\n",
      "Epoch 41/200\n",
      "518/518 [==============================] - 0s 181us/step - loss: 0.2089 - accuracy: 0.7568\n",
      "Epoch 42/200\n",
      "518/518 [==============================] - 0s 171us/step - loss: 0.2339 - accuracy: 0.7432\n",
      "Epoch 43/200\n",
      "518/518 [==============================] - 0s 171us/step - loss: 0.1760 - accuracy: 0.8108\n",
      "Epoch 44/200\n",
      "518/518 [==============================] - 0s 158us/step - loss: 0.1793 - accuracy: 0.7761\n",
      "Epoch 45/200\n",
      "518/518 [==============================] - 0s 172us/step - loss: 0.1646 - accuracy: 0.8127\n",
      "Epoch 46/200\n",
      "518/518 [==============================] - 0s 157us/step - loss: 0.1680 - accuracy: 0.8185\n",
      "Epoch 47/200\n",
      "518/518 [==============================] - 0s 154us/step - loss: 0.1614 - accuracy: 0.8224\n",
      "Epoch 48/200\n",
      "518/518 [==============================] - 0s 152us/step - loss: 0.1768 - accuracy: 0.7954\n",
      "Epoch 49/200\n",
      "518/518 [==============================] - 0s 156us/step - loss: 0.1449 - accuracy: 0.8243\n",
      "Epoch 50/200\n",
      "518/518 [==============================] - 0s 158us/step - loss: 0.1577 - accuracy: 0.8147\n",
      "Epoch 51/200\n",
      "518/518 [==============================] - 0s 156us/step - loss: 0.1362 - accuracy: 0.8514\n",
      "Epoch 52/200\n",
      "518/518 [==============================] - 0s 156us/step - loss: 0.1369 - accuracy: 0.8378\n",
      "Epoch 53/200\n",
      "518/518 [==============================] - 0s 152us/step - loss: 0.1384 - accuracy: 0.8263\n",
      "Epoch 54/200\n",
      "518/518 [==============================] - 0s 154us/step - loss: 0.1184 - accuracy: 0.8610\n",
      "Epoch 55/200\n",
      "518/518 [==============================] - 0s 154us/step - loss: 0.1087 - accuracy: 0.8842\n",
      "Epoch 56/200\n",
      "518/518 [==============================] - 0s 150us/step - loss: 0.1035 - accuracy: 0.8938\n",
      "Epoch 57/200\n",
      "518/518 [==============================] - 0s 160us/step - loss: 0.1022 - accuracy: 0.8900\n",
      "Epoch 58/200\n",
      "518/518 [==============================] - 0s 162us/step - loss: 0.1042 - accuracy: 0.8822\n",
      "Epoch 59/200\n",
      "518/518 [==============================] - 0s 152us/step - loss: 0.1064 - accuracy: 0.9035\n",
      "Epoch 60/200\n",
      "518/518 [==============================] - 0s 154us/step - loss: 0.1182 - accuracy: 0.8707\n",
      "Epoch 61/200\n",
      "518/518 [==============================] - 0s 151us/step - loss: 0.1018 - accuracy: 0.9035\n",
      "Epoch 62/200\n",
      "518/518 [==============================] - 0s 156us/step - loss: 0.0888 - accuracy: 0.9228\n",
      "Epoch 63/200\n",
      "518/518 [==============================] - 0s 154us/step - loss: 0.1661 - accuracy: 0.7954\n",
      "Epoch 64/200\n",
      "518/518 [==============================] - 0s 150us/step - loss: 0.1425 - accuracy: 0.8301\n",
      "Epoch 65/200\n",
      "518/518 [==============================] - 0s 157us/step - loss: 0.1496 - accuracy: 0.8166\n",
      "Epoch 66/200\n",
      "518/518 [==============================] - 0s 154us/step - loss: 0.1026 - accuracy: 0.8958\n",
      "Epoch 67/200\n",
      "518/518 [==============================] - 0s 152us/step - loss: 0.0881 - accuracy: 0.9189\n",
      "Epoch 68/200\n",
      "518/518 [==============================] - 0s 150us/step - loss: 0.1213 - accuracy: 0.8514\n",
      "Epoch 69/200\n",
      "518/518 [==============================] - 0s 151us/step - loss: 0.0836 - accuracy: 0.9189\n",
      "Epoch 70/200\n",
      "518/518 [==============================] - 0s 154us/step - loss: 0.1196 - accuracy: 0.8591\n",
      "Epoch 71/200\n",
      "518/518 [==============================] - 0s 151us/step - loss: 0.1436 - accuracy: 0.8127\n",
      "Epoch 72/200\n",
      "518/518 [==============================] - 0s 152us/step - loss: 0.0826 - accuracy: 0.9324\n",
      "Epoch 73/200\n",
      "518/518 [==============================] - 0s 152us/step - loss: 0.0799 - accuracy: 0.9382\n",
      "Epoch 74/200\n",
      "518/518 [==============================] - 0s 166us/step - loss: 0.1013 - accuracy: 0.8938\n",
      "Epoch 75/200\n",
      "518/518 [==============================] - 0s 164us/step - loss: 0.0842 - accuracy: 0.9266\n",
      "Epoch 76/200\n",
      "518/518 [==============================] - 0s 158us/step - loss: 0.0691 - accuracy: 0.9556\n",
      "Epoch 77/200\n",
      "518/518 [==============================] - 0s 169us/step - loss: 0.0660 - accuracy: 0.9459\n",
      "Epoch 78/200\n",
      "518/518 [==============================] - 0s 159us/step - loss: 0.0713 - accuracy: 0.9459\n",
      "Epoch 79/200\n"
     ]
    },
    {
     "name": "stdout",
     "output_type": "stream",
     "text": [
      "518/518 [==============================] - 0s 156us/step - loss: 0.0631 - accuracy: 0.9595\n",
      "Epoch 80/200\n",
      "518/518 [==============================] - 0s 153us/step - loss: 0.0536 - accuracy: 0.9691\n",
      "Epoch 81/200\n",
      "518/518 [==============================] - 0s 157us/step - loss: 0.0695 - accuracy: 0.9382\n",
      "Epoch 82/200\n",
      "518/518 [==============================] - 0s 150us/step - loss: 0.0682 - accuracy: 0.9517\n",
      "Epoch 83/200\n",
      "518/518 [==============================] - 0s 153us/step - loss: 0.0523 - accuracy: 0.9749\n",
      "Epoch 84/200\n",
      "518/518 [==============================] - 0s 152us/step - loss: 0.0504 - accuracy: 0.9749\n",
      "Epoch 85/200\n",
      "518/518 [==============================] - 0s 155us/step - loss: 0.0688 - accuracy: 0.9537\n",
      "Epoch 86/200\n",
      "518/518 [==============================] - 0s 150us/step - loss: 0.0472 - accuracy: 0.9788\n",
      "Epoch 87/200\n",
      "518/518 [==============================] - 0s 148us/step - loss: 0.0838 - accuracy: 0.9073\n",
      "Epoch 88/200\n",
      "518/518 [==============================] - 0s 156us/step - loss: 0.1304 - accuracy: 0.8301\n",
      "Epoch 89/200\n",
      "518/518 [==============================] - 0s 153us/step - loss: 0.1210 - accuracy: 0.8591\n",
      "Epoch 90/200\n",
      "518/518 [==============================] - 0s 152us/step - loss: 0.0493 - accuracy: 0.9730\n",
      "Epoch 91/200\n",
      "518/518 [==============================] - 0s 154us/step - loss: 0.0659 - accuracy: 0.9653\n",
      "Epoch 92/200\n",
      "518/518 [==============================] - 0s 152us/step - loss: 0.1691 - accuracy: 0.7857\n",
      "Epoch 93/200\n",
      "518/518 [==============================] - 0s 173us/step - loss: 0.1773 - accuracy: 0.7645\n",
      "Epoch 94/200\n",
      "518/518 [==============================] - 0s 171us/step - loss: 0.1379 - accuracy: 0.8166\n",
      "Epoch 95/200\n",
      "518/518 [==============================] - 0s 175us/step - loss: 0.1004 - accuracy: 0.8707\n",
      "Epoch 96/200\n",
      "518/518 [==============================] - 0s 156us/step - loss: 0.0867 - accuracy: 0.9170\n",
      "Epoch 97/200\n",
      "518/518 [==============================] - 0s 150us/step - loss: 0.0774 - accuracy: 0.9595\n",
      "Epoch 98/200\n",
      "518/518 [==============================] - 0s 152us/step - loss: 0.0580 - accuracy: 0.9672\n",
      "Epoch 99/200\n",
      "518/518 [==============================] - 0s 154us/step - loss: 0.0974 - accuracy: 0.9112\n",
      "Epoch 100/200\n",
      "518/518 [==============================] - 0s 155us/step - loss: 0.0666 - accuracy: 0.9653\n",
      "Epoch 101/200\n",
      "518/518 [==============================] - 0s 155us/step - loss: 0.0331 - accuracy: 0.9865\n",
      "Epoch 102/200\n",
      "518/518 [==============================] - 0s 154us/step - loss: 0.0610 - accuracy: 0.9479\n",
      "Epoch 103/200\n",
      "518/518 [==============================] - 0s 153us/step - loss: 0.2852 - accuracy: 0.6718\n",
      "Epoch 104/200\n",
      "518/518 [==============================] - 0s 148us/step - loss: 0.2556 - accuracy: 0.6583\n",
      "Epoch 105/200\n",
      "518/518 [==============================] - 0s 151us/step - loss: 0.1233 - accuracy: 0.8571\n",
      "Epoch 106/200\n",
      "518/518 [==============================] - 0s 154us/step - loss: 0.3913 - accuracy: 0.5444\n",
      "Epoch 107/200\n",
      "518/518 [==============================] - 0s 157us/step - loss: 0.1510 - accuracy: 0.7992\n",
      "Epoch 108/200\n",
      "518/518 [==============================] - 0s 150us/step - loss: 0.0678 - accuracy: 0.9614\n",
      "Epoch 109/200\n",
      "518/518 [==============================] - 0s 150us/step - loss: 0.0747 - accuracy: 0.9344\n",
      "Epoch 110/200\n",
      "518/518 [==============================] - 0s 154us/step - loss: 0.0374 - accuracy: 0.9884\n",
      "Epoch 111/200\n",
      "518/518 [==============================] - 0s 150us/step - loss: 0.0773 - accuracy: 0.9459\n",
      "Epoch 112/200\n",
      "518/518 [==============================] - 0s 151us/step - loss: 0.0586 - accuracy: 0.9730\n",
      "Epoch 113/200\n",
      "518/518 [==============================] - 0s 148us/step - loss: 0.0759 - accuracy: 0.9382\n",
      "Epoch 114/200\n",
      "518/518 [==============================] - 0s 155us/step - loss: 0.1097 - accuracy: 0.8764\n",
      "Epoch 115/200\n",
      "518/518 [==============================] - 0s 154us/step - loss: 0.1291 - accuracy: 0.8263\n",
      "Epoch 116/200\n",
      "518/518 [==============================] - 0s 153us/step - loss: 0.2895 - accuracy: 0.6120\n",
      "Epoch 117/200\n",
      "518/518 [==============================] - 0s 154us/step - loss: 0.2151 - accuracy: 0.7143\n",
      "Epoch 118/200\n",
      "518/518 [==============================] - 0s 150us/step - loss: 0.1430 - accuracy: 0.8263\n",
      "Epoch 119/200\n",
      "518/518 [==============================] - 0s 153us/step - loss: 0.2104 - accuracy: 0.7413\n",
      "Epoch 120/200\n",
      "518/518 [==============================] - 0s 152us/step - loss: 0.1026 - accuracy: 0.8803\n",
      "Epoch 121/200\n",
      "518/518 [==============================] - 0s 157us/step - loss: 0.0732 - accuracy: 0.9344\n",
      "Epoch 122/200\n",
      "518/518 [==============================] - 0s 154us/step - loss: 0.2252 - accuracy: 0.7239\n",
      "Epoch 123/200\n",
      "518/518 [==============================] - 0s 154us/step - loss: 0.2959 - accuracy: 0.6448\n",
      "Epoch 124/200\n",
      "518/518 [==============================] - 0s 152us/step - loss: 0.0464 - accuracy: 0.9865\n",
      "Epoch 125/200\n",
      "518/518 [==============================] - 0s 158us/step - loss: 0.2130 - accuracy: 0.6737\n",
      "Epoch 126/200\n",
      "518/518 [==============================] - 0s 161us/step - loss: 0.3523 - accuracy: 0.5444\n",
      "Epoch 127/200\n",
      "518/518 [==============================] - 0s 156us/step - loss: 0.2276 - accuracy: 0.7355\n",
      "Epoch 128/200\n",
      "518/518 [==============================] - 0s 166us/step - loss: 0.1679 - accuracy: 0.7510\n",
      "Epoch 129/200\n",
      "518/518 [==============================] - 0s 166us/step - loss: 0.1691 - accuracy: 0.8089\n",
      "Epoch 130/200\n",
      "518/518 [==============================] - 0s 158us/step - loss: 0.2494 - accuracy: 0.6313\n",
      "Epoch 131/200\n",
      "518/518 [==============================] - 0s 157us/step - loss: 0.1630 - accuracy: 0.7625\n",
      "Epoch 132/200\n",
      "518/518 [==============================] - 0s 180us/step - loss: 0.2570 - accuracy: 0.6815\n",
      "Epoch 133/200\n",
      "518/518 [==============================] - 0s 167us/step - loss: 0.9203 - accuracy: 0.4073\n",
      "Epoch 134/200\n",
      "518/518 [==============================] - 0s 156us/step - loss: 0.1754 - accuracy: 0.7413\n",
      "Epoch 135/200\n",
      "518/518 [==============================] - 0s 177us/step - loss: 0.0532 - accuracy: 0.9788\n",
      "Epoch 136/200\n",
      "518/518 [==============================] - 0s 173us/step - loss: 0.0856 - accuracy: 0.9363\n",
      "Epoch 137/200\n",
      "518/518 [==============================] - 0s 161us/step - loss: 0.2198 - accuracy: 0.7297\n",
      "Epoch 138/200\n",
      "518/518 [==============================] - 0s 155us/step - loss: 0.1432 - accuracy: 0.7954\n",
      "Epoch 139/200\n",
      "518/518 [==============================] - 0s 158us/step - loss: 0.1760 - accuracy: 0.8031\n",
      "Epoch 140/200\n",
      "518/518 [==============================] - 0s 160us/step - loss: 0.2923 - accuracy: 0.6525\n",
      "Epoch 141/200\n",
      "518/518 [==============================] - 0s 158us/step - loss: 0.0722 - accuracy: 0.9402\n",
      "Epoch 142/200\n",
      "518/518 [==============================] - 0s 155us/step - loss: 0.2508 - accuracy: 0.6815\n",
      "Epoch 143/200\n",
      "518/518 [==============================] - 0s 178us/step - loss: 0.5559 - accuracy: 0.3977\n",
      "Epoch 144/200\n",
      "518/518 [==============================] - 0s 169us/step - loss: 0.1453 - accuracy: 0.8185\n",
      "Epoch 145/200\n",
      "518/518 [==============================] - 0s 154us/step - loss: 0.1069 - accuracy: 0.8707\n",
      "Epoch 146/200\n",
      "518/518 [==============================] - 0s 148us/step - loss: 0.1955 - accuracy: 0.7452\n",
      "Epoch 147/200\n",
      "518/518 [==============================] - 0s 153us/step - loss: 0.6617 - accuracy: 0.4247\n",
      "Epoch 148/200\n",
      "518/518 [==============================] - ETA: 0s - loss: 0.0935 - accuracy: 0.88 - 0s 163us/step - loss: 0.1423 - accuracy: 0.8205\n",
      "Epoch 149/200\n",
      "518/518 [==============================] - 0s 168us/step - loss: 0.1192 - accuracy: 0.8649\n",
      "Epoch 150/200\n",
      "518/518 [==============================] - 0s 162us/step - loss: 0.0896 - accuracy: 0.8919\n",
      "Epoch 151/200\n",
      "518/518 [==============================] - 0s 169us/step - loss: 0.4327 - accuracy: 0.4595\n",
      "Epoch 152/200\n",
      "518/518 [==============================] - 0s 166us/step - loss: 0.1598 - accuracy: 0.7761\n",
      "Epoch 153/200\n",
      "518/518 [==============================] - 0s 169us/step - loss: 0.3138 - accuracy: 0.6216\n",
      "Epoch 154/200\n",
      "518/518 [==============================] - 0s 171us/step - loss: 0.2474 - accuracy: 0.6506\n",
      "Epoch 155/200\n",
      "518/518 [==============================] - 0s 177us/step - loss: 0.1149 - accuracy: 0.8514\n",
      "Epoch 156/200\n",
      "518/518 [==============================] - 0s 177us/step - loss: 0.3473 - accuracy: 0.5792\n"
     ]
    },
    {
     "name": "stdout",
     "output_type": "stream",
     "text": [
      "Epoch 157/200\n",
      "518/518 [==============================] - 0s 150us/step - loss: 0.1664 - accuracy: 0.7780\n",
      "Epoch 158/200\n",
      "518/518 [==============================] - 0s 150us/step - loss: 0.2848 - accuracy: 0.6120\n",
      "Epoch 159/200\n",
      "518/518 [==============================] - 0s 150us/step - loss: 0.4255 - accuracy: 0.4653\n",
      "Epoch 160/200\n",
      "518/518 [==============================] - 0s 148us/step - loss: 0.7799 - accuracy: 0.5135\n",
      "Epoch 161/200\n",
      "518/518 [==============================] - 0s 152us/step - loss: 0.0471 - accuracy: 0.9691\n",
      "Epoch 162/200\n",
      "518/518 [==============================] - 0s 151us/step - loss: 0.3896 - accuracy: 0.5637\n",
      "Epoch 163/200\n",
      "518/518 [==============================] - 0s 151us/step - loss: 1.1382 - accuracy: 0.2452\n",
      "Epoch 164/200\n",
      "518/518 [==============================] - 0s 152us/step - loss: 0.2286 - accuracy: 0.6892\n",
      "Epoch 165/200\n",
      "518/518 [==============================] - 0s 156us/step - loss: 0.1050 - accuracy: 0.8591\n",
      "Epoch 166/200\n",
      "518/518 [==============================] - 0s 152us/step - loss: 0.1045 - accuracy: 0.9054\n",
      "Epoch 167/200\n",
      "518/518 [==============================] - 0s 150us/step - loss: 0.2201 - accuracy: 0.6467\n",
      "Epoch 168/200\n",
      "518/518 [==============================] - 0s 154us/step - loss: 0.3350 - accuracy: 0.6429\n",
      "Epoch 169/200\n",
      "518/518 [==============================] - 0s 152us/step - loss: 0.0689 - accuracy: 0.9633\n",
      "Epoch 170/200\n",
      "518/518 [==============================] - 0s 160us/step - loss: 0.0964 - accuracy: 0.9131\n",
      "Epoch 171/200\n",
      "518/518 [==============================] - 0s 167us/step - loss: 0.1838 - accuracy: 0.7915\n",
      "Epoch 172/200\n",
      "518/518 [==============================] - 0s 173us/step - loss: 0.3757 - accuracy: 0.6680\n",
      "Epoch 173/200\n",
      "518/518 [==============================] - 0s 183us/step - loss: 0.6261 - accuracy: 0.4402\n",
      "Epoch 174/200\n",
      "518/518 [==============================] - 0s 158us/step - loss: 0.5193 - accuracy: 0.4807\n",
      "Epoch 175/200\n",
      "518/518 [==============================] - 0s 149us/step - loss: 0.2446 - accuracy: 0.6622\n",
      "Epoch 176/200\n",
      "518/518 [==============================] - 0s 152us/step - loss: 0.0507 - accuracy: 0.9788\n",
      "Epoch 177/200\n",
      "518/518 [==============================] - 0s 155us/step - loss: 0.0788 - accuracy: 0.9537\n",
      "Epoch 178/200\n",
      "518/518 [==============================] - 0s 156us/step - loss: 0.0451 - accuracy: 0.9749\n",
      "Epoch 179/200\n",
      "518/518 [==============================] - 0s 152us/step - loss: 0.1713 - accuracy: 0.7355\n",
      "Epoch 180/200\n",
      "518/518 [==============================] - 0s 162us/step - loss: 0.1152 - accuracy: 0.8629\n",
      "Epoch 181/200\n",
      "518/518 [==============================] - 0s 155us/step - loss: 0.7681 - accuracy: 0.3842\n",
      "Epoch 182/200\n",
      "518/518 [==============================] - 0s 153us/step - loss: 0.7842 - accuracy: 0.4614\n",
      "Epoch 183/200\n",
      "518/518 [==============================] - 0s 164us/step - loss: 0.1804 - accuracy: 0.7278\n",
      "Epoch 184/200\n",
      "518/518 [==============================] - 0s 160us/step - loss: 0.0622 - accuracy: 0.9633\n",
      "Epoch 185/200\n",
      "518/518 [==============================] - 0s 152us/step - loss: 0.0607 - accuracy: 0.9614\n",
      "Epoch 186/200\n",
      "518/518 [==============================] - 0s 151us/step - loss: 0.0585 - accuracy: 0.9537\n",
      "Epoch 187/200\n",
      "518/518 [==============================] - ETA: 0s - loss: 0.1804 - accuracy: 0.72 - 0s 162us/step - loss: 0.2051 - accuracy: 0.6718\n",
      "Epoch 188/200\n",
      "518/518 [==============================] - 0s 153us/step - loss: 0.0500 - accuracy: 0.9884\n",
      "Epoch 189/200\n",
      "518/518 [==============================] - 0s 159us/step - loss: 0.0906 - accuracy: 0.8880\n",
      "Epoch 190/200\n",
      "518/518 [==============================] - 0s 157us/step - loss: 0.0688 - accuracy: 0.9402\n",
      "Epoch 191/200\n",
      "518/518 [==============================] - 0s 156us/step - loss: 0.5211 - accuracy: 0.5444\n",
      "Epoch 192/200\n",
      "518/518 [==============================] - 0s 154us/step - loss: 0.1979 - accuracy: 0.7490\n",
      "Epoch 193/200\n",
      "518/518 [==============================] - 0s 158us/step - loss: 0.2922 - accuracy: 0.6429\n",
      "Epoch 194/200\n",
      "518/518 [==============================] - 0s 152us/step - loss: 1.0234 - accuracy: 0.2568\n",
      "Epoch 195/200\n",
      "518/518 [==============================] - 0s 169us/step - loss: 0.2963 - accuracy: 0.6602\n",
      "Epoch 196/200\n",
      "518/518 [==============================] - 0s 172us/step - loss: 0.0710 - accuracy: 0.9286\n",
      "Epoch 197/200\n",
      "518/518 [==============================] - 0s 174us/step - loss: 0.0535 - accuracy: 0.9672\n",
      "Epoch 198/200\n",
      "518/518 [==============================] - 0s 164us/step - loss: 0.0521 - accuracy: 0.9556\n",
      "Epoch 199/200\n",
      "518/518 [==============================] - 0s 156us/step - loss: 0.1163 - accuracy: 0.8668\n",
      "Epoch 200/200\n",
      "518/518 [==============================] - 0s 158us/step - loss: 0.0906 - accuracy: 0.9247\n"
     ]
    },
    {
     "data": {
      "text/plain": [
       "<keras.callbacks.callbacks.History at 0x1e48d26ddd8>"
      ]
     },
     "execution_count": 30,
     "metadata": {},
     "output_type": "execute_result"
    }
   ],
   "source": [
    "model = Sequential()\n",
    "model.add(Dense(30,input_dim= 24, activation= 'relu'))\n",
    "model.add(Dense(6, activation = 'relu'))\n",
    "model.add(Dense(1))\n",
    "model.compile(loss = 'mean_squared_error',\n",
    "             optimizer = 'adam',\n",
    "             metrics=['accuracy'])\n",
    "model.fit(X_train,y_train,epochs= 200, batch_size = 10)"
   ]
  },
  {
   "cell_type": "code",
   "execution_count": 34,
   "metadata": {
    "scrolled": false
   },
   "outputs": [
    {
     "name": "stdout",
     "output_type": "stream",
     "text": [
      "real value: 0.000, ecpectated value: 0.148\n",
      "real value: 1.000, ecpectated value: 1.014\n",
      "real value: 0.000, ecpectated value: -0.021\n",
      "real value: 1.000, ecpectated value: 0.949\n",
      "real value: 0.000, ecpectated value: 0.130\n",
      "real value: 1.000, ecpectated value: 1.136\n",
      "real value: 0.000, ecpectated value: 0.077\n",
      "real value: 3.000, ecpectated value: 3.136\n",
      "real value: 3.000, ecpectated value: 3.223\n",
      "real value: 1.000, ecpectated value: 1.110\n"
     ]
    }
   ],
   "source": [
    "y_prediction = model.predict(X_test).flatten()\n",
    "for i in range (10):\n",
    "    label = y_test[i]\n",
    "    prediction = y_prediction[i]\n",
    "    print(\"real value: {:.3f}, ecpectated value: {:.3f}\".format(label, prediction))\n",
    "                "
   ]
  },
  {
   "cell_type": "code",
   "execution_count": 36,
   "metadata": {
    "scrolled": true
   },
   "outputs": [
    {
     "name": "stdout",
     "output_type": "stream",
     "text": [
      "222/222 [==============================] - 0s 90us/step\n"
     ]
    },
    {
     "data": {
      "text/plain": [
       "[0.05454668322124997, 0.9639639854431152]"
      ]
     },
     "execution_count": 36,
     "metadata": {},
     "output_type": "execute_result"
    }
   ],
   "source": [
    "model.evaluate(X_test,y_test) # loss와 accuracy"
   ]
  },
  {
   "cell_type": "code",
   "execution_count": null,
   "metadata": {},
   "outputs": [],
   "source": []
  }
 ],
 "metadata": {
  "kernelspec": {
   "display_name": "Python 3",
   "language": "python",
   "name": "python3"
  },
  "language_info": {
   "codemirror_mode": {
    "name": "ipython",
    "version": 3
   },
   "file_extension": ".py",
   "mimetype": "text/x-python",
   "name": "python",
   "nbconvert_exporter": "python",
   "pygments_lexer": "ipython3",
   "version": "3.6.13"
  }
 },
 "nbformat": 4,
 "nbformat_minor": 4
}
