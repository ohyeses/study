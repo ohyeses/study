{
 "cells": [
  {
   "cell_type": "code",
   "execution_count": 1,
   "metadata": {},
   "outputs": [],
   "source": [
    "from socket import *\n",
    "from select import select\n",
    "import sys\n",
    "from _socket import AF_INET, socket, SOCK_STREAM\n",
    "\n",
    "\n",
    "def sendmessage(msg):\n",
    "    HOST= '127.0.0.1'  # 서버 아이피\n",
    "    PORT= 8112  # 서버 포트 번호\n",
    "    BUFSIZE=1024\n",
    "    clientSocket = socket(AF_INET,SOCK_STREAM)  # 소켓 생성\n",
    "    try:\n",
    "        clientSocket.connect((HOST,PORT))  # 서버 연결\n",
    "        clientSocket.sendall(bytes(msg,'UTF-8')) \n",
    "\n",
    "      # UTF-8 인코딩으로 서버에 데이터 전송 msg : 안에 \"test 2015 8\" 문자열 저장\n",
    "        print('Send : Hello, Server!')\n",
    "        clientSocket.close()\n",
    "        print(\"종료\")\n",
    "        return true;\n",
    "    except Exception as e:\n",
    "       print(e)\n"
   ]
  },
  {
   "cell_type": "code",
   "execution_count": null,
   "metadata": {},
   "outputs": [],
   "source": []
  }
 ],
 "metadata": {
  "kernelspec": {
   "display_name": "Python 3",
   "language": "python",
   "name": "python3"
  },
  "language_info": {
   "codemirror_mode": {
    "name": "ipython",
    "version": 3
   },
   "file_extension": ".py",
   "mimetype": "text/x-python",
   "name": "python",
   "nbconvert_exporter": "python",
   "pygments_lexer": "ipython3",
   "version": "3.8.5"
  }
 },
 "nbformat": 4,
 "nbformat_minor": 4
}
