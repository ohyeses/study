{
 "cells": [
  {
   "cell_type": "code",
   "execution_count": 1,
   "metadata": {},
   "outputs": [],
   "source": [
    "import pandas as pd\n",
    "pd.set_option('display.max_row', 500)\n",
    "pd.set_option('display.max_columns', 100)\n",
    "import numpy as np\n",
    "import matplotlib.pyplot as plt  # 그래프 그리는 라이브러리\n",
    "from sklearn.model_selection import train_test_split\n",
    "from sklearn import metrics  # 평가를 위한 라이브러리\n",
    "from sklearn.neighbors import KNeighborsClassifier\n",
    "from sklearn.model_selection import cross_val_score\n",
    "from sklearn.preprocessing import StandardScaler\n",
    "from sklearn.tree import DecisionTreeClassifier\n",
    "from sklearn.svm import SVC\n",
    "\n",
    "import seaborn as sns  # 시각화 라이브러리"
   ]
  },
  {
   "cell_type": "code",
   "execution_count": 2,
   "metadata": {},
   "outputs": [],
   "source": [
    "train = pd.read_csv('data/train.csv', index_col = 'day_text')\n",
    "test = pd.read_csv('data/test.csv', index_col = 'day_text')"
   ]
  },
  {
   "cell_type": "code",
   "execution_count": 3,
   "metadata": {},
   "outputs": [
    {
     "name": "stdout",
     "output_type": "stream",
     "text": [
      "<class 'pandas.core.frame.DataFrame'>\n",
      "Index: 7000 entries, 4.7 to 7.7\n",
      "Data columns (total 12 columns):\n",
      " #   Column       Non-Null Count  Dtype  \n",
      "---  ------       --------------  -----  \n",
      " 0   team_text    7000 non-null   object \n",
      " 1   H_text       7000 non-null   int64  \n",
      " 2   HR_text      7000 non-null   int64  \n",
      " 3   S_text       7000 non-null   int64  \n",
      " 4   ST_text      7000 non-null   int64  \n",
      " 5   DU_text      7000 non-null   int64  \n",
      " 6   ER_text      7000 non-null   int64  \n",
      " 7   result_text  7000 non-null   int64  \n",
      " 8   location     7000 non-null   object \n",
      " 9   temp         7000 non-null   float64\n",
      " 10  rain         7000 non-null   float64\n",
      " 11  humidity     7000 non-null   float64\n",
      "dtypes: float64(3), int64(7), object(2)\n",
      "memory usage: 710.9+ KB\n"
     ]
    }
   ],
   "source": [
    "train.info()"
   ]
  },
  {
   "cell_type": "code",
   "execution_count": 4,
   "metadata": {},
   "outputs": [
    {
     "name": "stdout",
     "output_type": "stream",
     "text": [
      "<class 'pandas.core.frame.DataFrame'>\n",
      "Index: 3398 entries, 7.7 to 10.26토\n",
      "Data columns (total 12 columns):\n",
      " #   Column       Non-Null Count  Dtype  \n",
      "---  ------       --------------  -----  \n",
      " 0   team_text    3398 non-null   object \n",
      " 1   H_text       3398 non-null   int64  \n",
      " 2   HR_text      3398 non-null   int64  \n",
      " 3   S_text       3398 non-null   int64  \n",
      " 4   ST_text      3398 non-null   int64  \n",
      " 5   DU_text      3398 non-null   int64  \n",
      " 6   ER_text      3398 non-null   int64  \n",
      " 7   result_text  3398 non-null   int64  \n",
      " 8   location     3398 non-null   object \n",
      " 9   temp         3398 non-null   float64\n",
      " 10  rain         3398 non-null   float64\n",
      " 11  humidity     3398 non-null   int64  \n",
      "dtypes: float64(2), int64(8), object(2)\n",
      "memory usage: 345.1+ KB\n"
     ]
    }
   ],
   "source": [
    "test.info()"
   ]
  },
  {
   "cell_type": "code",
   "execution_count": 5,
   "metadata": {
    "scrolled": true
   },
   "outputs": [
    {
     "data": {
      "text/html": [
       "<div>\n",
       "<style scoped>\n",
       "    .dataframe tbody tr th:only-of-type {\n",
       "        vertical-align: middle;\n",
       "    }\n",
       "\n",
       "    .dataframe tbody tr th {\n",
       "        vertical-align: top;\n",
       "    }\n",
       "\n",
       "    .dataframe thead th {\n",
       "        text-align: right;\n",
       "    }\n",
       "</style>\n",
       "<table border=\"1\" class=\"dataframe\">\n",
       "  <thead>\n",
       "    <tr style=\"text-align: right;\">\n",
       "      <th></th>\n",
       "      <th>H_text</th>\n",
       "      <th>HR_text</th>\n",
       "      <th>S_text</th>\n",
       "      <th>ST_text</th>\n",
       "      <th>DU_text</th>\n",
       "      <th>ER_text</th>\n",
       "      <th>result_text</th>\n",
       "      <th>temp</th>\n",
       "      <th>rain</th>\n",
       "      <th>humidity</th>\n",
       "    </tr>\n",
       "  </thead>\n",
       "  <tbody>\n",
       "    <tr>\n",
       "      <th>H_text</th>\n",
       "      <td>1.000000</td>\n",
       "      <td>0.381357</td>\n",
       "      <td>0.109626</td>\n",
       "      <td>-0.107799</td>\n",
       "      <td>0.080418</td>\n",
       "      <td>-0.002447</td>\n",
       "      <td>0.411615</td>\n",
       "      <td>0.067297</td>\n",
       "      <td>0.002754</td>\n",
       "      <td>0.006877</td>\n",
       "    </tr>\n",
       "    <tr>\n",
       "      <th>HR_text</th>\n",
       "      <td>0.381357</td>\n",
       "      <td>1.000000</td>\n",
       "      <td>-0.020410</td>\n",
       "      <td>0.009257</td>\n",
       "      <td>-0.045893</td>\n",
       "      <td>-0.019503</td>\n",
       "      <td>0.267704</td>\n",
       "      <td>0.050888</td>\n",
       "      <td>-0.024830</td>\n",
       "      <td>0.052948</td>\n",
       "    </tr>\n",
       "    <tr>\n",
       "      <th>S_text</th>\n",
       "      <td>0.109626</td>\n",
       "      <td>-0.020410</td>\n",
       "      <td>1.000000</td>\n",
       "      <td>0.024302</td>\n",
       "      <td>-0.070301</td>\n",
       "      <td>-0.023027</td>\n",
       "      <td>0.168250</td>\n",
       "      <td>-0.003281</td>\n",
       "      <td>-0.000741</td>\n",
       "      <td>-0.037783</td>\n",
       "    </tr>\n",
       "    <tr>\n",
       "      <th>ST_text</th>\n",
       "      <td>-0.107799</td>\n",
       "      <td>0.009257</td>\n",
       "      <td>0.024302</td>\n",
       "      <td>1.000000</td>\n",
       "      <td>-0.174138</td>\n",
       "      <td>0.042208</td>\n",
       "      <td>-0.177470</td>\n",
       "      <td>-0.068097</td>\n",
       "      <td>0.001156</td>\n",
       "      <td>0.051873</td>\n",
       "    </tr>\n",
       "    <tr>\n",
       "      <th>DU_text</th>\n",
       "      <td>0.080418</td>\n",
       "      <td>-0.045893</td>\n",
       "      <td>-0.070301</td>\n",
       "      <td>-0.174138</td>\n",
       "      <td>1.000000</td>\n",
       "      <td>0.014275</td>\n",
       "      <td>-0.079218</td>\n",
       "      <td>-0.003311</td>\n",
       "      <td>-0.005420</td>\n",
       "      <td>0.006083</td>\n",
       "    </tr>\n",
       "    <tr>\n",
       "      <th>ER_text</th>\n",
       "      <td>-0.002447</td>\n",
       "      <td>-0.019503</td>\n",
       "      <td>-0.023027</td>\n",
       "      <td>0.042208</td>\n",
       "      <td>0.014275</td>\n",
       "      <td>1.000000</td>\n",
       "      <td>-0.172610</td>\n",
       "      <td>-0.034883</td>\n",
       "      <td>-0.012892</td>\n",
       "      <td>-0.031010</td>\n",
       "    </tr>\n",
       "    <tr>\n",
       "      <th>result_text</th>\n",
       "      <td>0.411615</td>\n",
       "      <td>0.267704</td>\n",
       "      <td>0.168250</td>\n",
       "      <td>-0.177470</td>\n",
       "      <td>-0.079218</td>\n",
       "      <td>-0.172610</td>\n",
       "      <td>1.000000</td>\n",
       "      <td>0.000000</td>\n",
       "      <td>0.000000</td>\n",
       "      <td>0.000000</td>\n",
       "    </tr>\n",
       "    <tr>\n",
       "      <th>temp</th>\n",
       "      <td>0.067297</td>\n",
       "      <td>0.050888</td>\n",
       "      <td>-0.003281</td>\n",
       "      <td>-0.068097</td>\n",
       "      <td>-0.003311</td>\n",
       "      <td>-0.034883</td>\n",
       "      <td>0.000000</td>\n",
       "      <td>1.000000</td>\n",
       "      <td>-0.006105</td>\n",
       "      <td>-0.180981</td>\n",
       "    </tr>\n",
       "    <tr>\n",
       "      <th>rain</th>\n",
       "      <td>0.002754</td>\n",
       "      <td>-0.024830</td>\n",
       "      <td>-0.000741</td>\n",
       "      <td>0.001156</td>\n",
       "      <td>-0.005420</td>\n",
       "      <td>-0.012892</td>\n",
       "      <td>0.000000</td>\n",
       "      <td>-0.006105</td>\n",
       "      <td>1.000000</td>\n",
       "      <td>0.012211</td>\n",
       "    </tr>\n",
       "    <tr>\n",
       "      <th>humidity</th>\n",
       "      <td>0.006877</td>\n",
       "      <td>0.052948</td>\n",
       "      <td>-0.037783</td>\n",
       "      <td>0.051873</td>\n",
       "      <td>0.006083</td>\n",
       "      <td>-0.031010</td>\n",
       "      <td>0.000000</td>\n",
       "      <td>-0.180981</td>\n",
       "      <td>0.012211</td>\n",
       "      <td>1.000000</td>\n",
       "    </tr>\n",
       "  </tbody>\n",
       "</table>\n",
       "</div>"
      ],
      "text/plain": [
       "               H_text   HR_text    S_text   ST_text   DU_text   ER_text  \\\n",
       "H_text       1.000000  0.381357  0.109626 -0.107799  0.080418 -0.002447   \n",
       "HR_text      0.381357  1.000000 -0.020410  0.009257 -0.045893 -0.019503   \n",
       "S_text       0.109626 -0.020410  1.000000  0.024302 -0.070301 -0.023027   \n",
       "ST_text     -0.107799  0.009257  0.024302  1.000000 -0.174138  0.042208   \n",
       "DU_text      0.080418 -0.045893 -0.070301 -0.174138  1.000000  0.014275   \n",
       "ER_text     -0.002447 -0.019503 -0.023027  0.042208  0.014275  1.000000   \n",
       "result_text  0.411615  0.267704  0.168250 -0.177470 -0.079218 -0.172610   \n",
       "temp         0.067297  0.050888 -0.003281 -0.068097 -0.003311 -0.034883   \n",
       "rain         0.002754 -0.024830 -0.000741  0.001156 -0.005420 -0.012892   \n",
       "humidity     0.006877  0.052948 -0.037783  0.051873  0.006083 -0.031010   \n",
       "\n",
       "             result_text      temp      rain  humidity  \n",
       "H_text          0.411615  0.067297  0.002754  0.006877  \n",
       "HR_text         0.267704  0.050888 -0.024830  0.052948  \n",
       "S_text          0.168250 -0.003281 -0.000741 -0.037783  \n",
       "ST_text        -0.177470 -0.068097  0.001156  0.051873  \n",
       "DU_text        -0.079218 -0.003311 -0.005420  0.006083  \n",
       "ER_text        -0.172610 -0.034883 -0.012892 -0.031010  \n",
       "result_text     1.000000  0.000000  0.000000  0.000000  \n",
       "temp            0.000000  1.000000 -0.006105 -0.180981  \n",
       "rain            0.000000 -0.006105  1.000000  0.012211  \n",
       "humidity        0.000000 -0.180981  0.012211  1.000000  "
      ]
     },
     "execution_count": 5,
     "metadata": {},
     "output_type": "execute_result"
    }
   ],
   "source": [
    "train.corr()"
   ]
  },
  {
   "cell_type": "code",
   "execution_count": 6,
   "metadata": {},
   "outputs": [
    {
     "data": {
      "image/png": "[encoded data removed]",
      "text/plain": [
       "<Figure size 864x504 with 10 Axes>"
      ]
     },
     "metadata": {},
     "output_type": "display_data"
    }
   ],
   "source": [
    "import matplotlib\n",
    "matplotlib.rc('font', family='Hancom Gothic')  \n",
    "fig = plt.figure(figsize=(12,7))\n",
    "\n",
    "i=1\n",
    "for title in train['team_text'].unique():\n",
    "    fig.add_subplot(3, 6, i)\n",
    "    plt.title('team : {}'.format(title))\n",
    "    train.result_text[train['team_text'] == title].value_counts().plot(kind='pie')\n",
    "    i += 1"
   ]
  },
  {
   "cell_type": "code",
   "execution_count": 7,
   "metadata": {},
   "outputs": [
    {
     "data": {
      "text/plain": [
       "<AxesSubplot:xlabel='ER_text', ylabel='count'>"
      ]
     },
     "execution_count": 7,
     "metadata": {},
     "output_type": "execute_result"
    },
    {
     "data": {
      "image/png": "[encoded data removed]",
      "text/plain": [
       "<Figure size 1440x720 with 1 Axes>"
      ]
     },
     "metadata": {
      "needs_background": "light"
     },
     "output_type": "display_data"
    }
   ],
   "source": [
    "fig=plt.figure(figsize=(20,10))\n",
    "sns.countplot(data = train, x = 'ER_text', hue='result_text')"
   ]
  },
  {
   "cell_type": "code",
   "execution_count": 8,
   "metadata": {},
   "outputs": [
    {
     "data": {
      "text/plain": [
       "<AxesSubplot:xlabel='ST_text', ylabel='count'>"
      ]
     },
     "execution_count": 8,
     "metadata": {},
     "output_type": "execute_result"
    },
    {
     "data": {
      "image/png": "[encoded data removed]",
      "text/plain": [
       "<Figure size 1440x720 with 1 Axes>"
      ]
     },
     "metadata": {
      "needs_background": "light"
     },
     "output_type": "display_data"
    }
   ],
   "source": [
    "fig=plt.figure(figsize=(20,10))\n",
    "sns.countplot(data = train, x = 'ST_text', hue='result_text')"
   ]
  },
  {
   "cell_type": "markdown",
   "metadata": {},
   "source": [
    "### 정규화"
   ]
  },
  {
   "cell_type": "code",
   "execution_count": 9,
   "metadata": {},
   "outputs": [],
   "source": [
    "train_test_data = [train, test]"
   ]
  },
  {
   "cell_type": "code",
   "execution_count": 10,
   "metadata": {},
   "outputs": [],
   "source": [
    "from sklearn.preprocessing import StandardScaler\n",
    "for dataset in train_test_data:\n",
    "    dataset['H_text'] = StandardScaler().fit_transform(dataset['H_text'].values.reshape(-1, 1))\n",
    "    dataset['HR_text'] = StandardScaler().fit_transform(dataset['HR_text'].values.reshape(-1, 1))\n",
    "    dataset['S_text'] = StandardScaler().fit_transform(dataset['S_text'].values.reshape(-1, 1))\n",
    "    dataset['ST_text'] = StandardScaler().fit_transform(dataset['ST_text'].values.reshape(-1, 1))\n",
    "    dataset['DU_text'] = StandardScaler().fit_transform(dataset['DU_text'].values.reshape(-1, 1))\n",
    "    dataset['ER_text'] = StandardScaler().fit_transform(dataset['ER_text'].values.reshape(-1, 1))\n",
    "    dataset['temp'] = StandardScaler().fit_transform(dataset['temp'].values.reshape(-1, 1))\n",
    "    dataset['rain'] = StandardScaler().fit_transform(dataset['rain'].values.reshape(-1, 1))\n",
    "    dataset['humidity'] = StandardScaler().fit_transform(dataset['humidity'].values.reshape(-1, 1))"
   ]
  },
  {
   "cell_type": "code",
   "execution_count": 11,
   "metadata": {},
   "outputs": [],
   "source": [
    "y_train = train['result_text']\n",
    "X_train = train.drop('result_text', axis = 1)\n",
    "y_test = test['result_text']\n",
    "X_test = test.drop('result_text', axis = 1)"
   ]
  },
  {
   "cell_type": "code",
   "execution_count": 12,
   "metadata": {},
   "outputs": [
    {
     "name": "stdout",
     "output_type": "stream",
     "text": [
      "<class 'pandas.core.frame.DataFrame'>\n",
      "Index: 7000 entries, 4.7 to 7.7\n",
      "Data columns (total 11 columns):\n",
      " #   Column     Non-Null Count  Dtype  \n",
      "---  ------     --------------  -----  \n",
      " 0   team_text  7000 non-null   object \n",
      " 1   H_text     7000 non-null   float64\n",
      " 2   HR_text    7000 non-null   float64\n",
      " 3   S_text     7000 non-null   float64\n",
      " 4   ST_text    7000 non-null   float64\n",
      " 5   DU_text    7000 non-null   float64\n",
      " 6   ER_text    7000 non-null   float64\n",
      " 7   location   7000 non-null   object \n",
      " 8   temp       7000 non-null   float64\n",
      " 9   rain       7000 non-null   float64\n",
      " 10  humidity   7000 non-null   float64\n",
      "dtypes: float64(9), object(2)\n",
      "memory usage: 816.2+ KB\n"
     ]
    }
   ],
   "source": [
    "X_train.info()"
   ]
  },
  {
   "cell_type": "code",
   "execution_count": 13,
   "metadata": {},
   "outputs": [
    {
     "data": {
      "text/plain": [
       "(7000,)"
      ]
     },
     "execution_count": 13,
     "metadata": {},
     "output_type": "execute_result"
    }
   ],
   "source": [
    "y_train.shape"
   ]
  },
  {
   "cell_type": "code",
   "execution_count": 14,
   "metadata": {},
   "outputs": [
    {
     "data": {
      "text/plain": [
       "(3398,)"
      ]
     },
     "execution_count": 14,
     "metadata": {},
     "output_type": "execute_result"
    }
   ],
   "source": [
    "y_test.shape"
   ]
  },
  {
   "cell_type": "code",
   "execution_count": 15,
   "metadata": {},
   "outputs": [],
   "source": [
    "cat_feature = [\"team_text\",\"location\"]"
   ]
  },
  {
   "cell_type": "code",
   "execution_count": 16,
   "metadata": {},
   "outputs": [],
   "source": [
    "for i in cat_feature:\n",
    "    dummy = pd.get_dummies(train[i], prefix=i)\n",
    "    X_train = pd.concat([X_train, dummy], axis=1)\n",
    "    X_train.drop(i, axis=1, inplace = True)"
   ]
  },
  {
   "cell_type": "code",
   "execution_count": 17,
   "metadata": {},
   "outputs": [],
   "source": [
    "for i in cat_feature:\n",
    "    dummy = pd.get_dummies(test[i], prefix=i)\n",
    "    X_test = pd.concat([X_test, dummy], axis=1)\n",
    "    X_test.drop(i, axis=1, inplace = True)"
   ]
  },
  {
   "cell_type": "code",
   "execution_count": 18,
   "metadata": {},
   "outputs": [
    {
     "data": {
      "text/plain": [
       "set()"
      ]
     },
     "execution_count": 18,
     "metadata": {},
     "output_type": "execute_result"
    }
   ],
   "source": [
    "set(X_train.columns) - set(X_test.columns)"
   ]
  },
  {
   "cell_type": "code",
   "execution_count": 19,
   "metadata": {},
   "outputs": [
    {
     "name": "stdout",
     "output_type": "stream",
     "text": [
      "<class 'pandas.core.frame.DataFrame'>\n",
      "Index: 7000 entries, 4.7 to 7.7\n",
      "Data columns (total 27 columns):\n",
      " #   Column              Non-Null Count  Dtype  \n",
      "---  ------              --------------  -----  \n",
      " 0   H_text              7000 non-null   float64\n",
      " 1   HR_text             7000 non-null   float64\n",
      " 2   S_text              7000 non-null   float64\n",
      " 3   ST_text             7000 non-null   float64\n",
      " 4   DU_text             7000 non-null   float64\n",
      " 5   ER_text             7000 non-null   float64\n",
      " 6   temp                7000 non-null   float64\n",
      " 7   rain                7000 non-null   float64\n",
      " 8   humidity            7000 non-null   float64\n",
      " 9   team_text_KIA 타이거즈  7000 non-null   uint8  \n",
      " 10  team_text_LG 트윈스    7000 non-null   uint8  \n",
      " 11  team_text_NC 다이노스   7000 non-null   uint8  \n",
      " 12  team_text_SK 와이번스   7000 non-null   uint8  \n",
      " 13  team_text_kt wiz    7000 non-null   uint8  \n",
      " 14  team_text_두산 베어스    7000 non-null   uint8  \n",
      " 15  team_text_롯데 자이언츠   7000 non-null   uint8  \n",
      " 16  team_text_삼성 라이온즈   7000 non-null   uint8  \n",
      " 17  team_text_키움 히어로즈   7000 non-null   uint8  \n",
      " 18  team_text_한화 이글스    7000 non-null   uint8  \n",
      " 19  location_광주         7000 non-null   uint8  \n",
      " 20  location_대구         7000 non-null   uint8  \n",
      " 21  location_대전         7000 non-null   uint8  \n",
      " 22  location_부산         7000 non-null   uint8  \n",
      " 23  location_서울         7000 non-null   uint8  \n",
      " 24  location_수원         7000 non-null   uint8  \n",
      " 25  location_인천         7000 non-null   uint8  \n",
      " 26  location_창원         7000 non-null   uint8  \n",
      "dtypes: float64(9), uint8(18)\n",
      "memory usage: 829.9+ KB\n"
     ]
    }
   ],
   "source": [
    "X_train.info()"
   ]
  },
  {
   "cell_type": "code",
   "execution_count": 20,
   "metadata": {},
   "outputs": [
    {
     "name": "stdout",
     "output_type": "stream",
     "text": [
      "<class 'pandas.core.frame.DataFrame'>\n",
      "Index: 3398 entries, 7.7 to 10.26토\n",
      "Data columns (total 27 columns):\n",
      " #   Column              Non-Null Count  Dtype  \n",
      "---  ------              --------------  -----  \n",
      " 0   H_text              3398 non-null   float64\n",
      " 1   HR_text             3398 non-null   float64\n",
      " 2   S_text              3398 non-null   float64\n",
      " 3   ST_text             3398 non-null   float64\n",
      " 4   DU_text             3398 non-null   float64\n",
      " 5   ER_text             3398 non-null   float64\n",
      " 6   temp                3398 non-null   float64\n",
      " 7   rain                3398 non-null   float64\n",
      " 8   humidity            3398 non-null   float64\n",
      " 9   team_text_KIA 타이거즈  3398 non-null   uint8  \n",
      " 10  team_text_LG 트윈스    3398 non-null   uint8  \n",
      " 11  team_text_NC 다이노스   3398 non-null   uint8  \n",
      " 12  team_text_SK 와이번스   3398 non-null   uint8  \n",
      " 13  team_text_kt wiz    3398 non-null   uint8  \n",
      " 14  team_text_두산 베어스    3398 non-null   uint8  \n",
      " 15  team_text_롯데 자이언츠   3398 non-null   uint8  \n",
      " 16  team_text_삼성 라이온즈   3398 non-null   uint8  \n",
      " 17  team_text_키움 히어로즈   3398 non-null   uint8  \n",
      " 18  team_text_한화 이글스    3398 non-null   uint8  \n",
      " 19  location_광주         3398 non-null   uint8  \n",
      " 20  location_대구         3398 non-null   uint8  \n",
      " 21  location_대전         3398 non-null   uint8  \n",
      " 22  location_부산         3398 non-null   uint8  \n",
      " 23  location_서울         3398 non-null   uint8  \n",
      " 24  location_수원         3398 non-null   uint8  \n",
      " 25  location_인천         3398 non-null   uint8  \n",
      " 26  location_창원         3398 non-null   uint8  \n",
      "dtypes: float64(9), uint8(18)\n",
      "memory usage: 325.2+ KB\n"
     ]
    }
   ],
   "source": [
    "X_test.info()"
   ]
  },
  {
   "cell_type": "markdown",
   "metadata": {},
   "source": [
    "### K Fold"
   ]
  },
  {
   "cell_type": "code",
   "execution_count": 21,
   "metadata": {},
   "outputs": [
    {
     "name": "stdout",
     "output_type": "stream",
     "text": [
      "예측 정확도: 0.72\n"
     ]
    }
   ],
   "source": [
    "# Importing Classifier Modules# Import \n",
    "from sklearn.neighbors import KNeighborsClassifier\n",
    "from sklearn.tree import DecisionTreeClassifier\n",
    "from sklearn.ensemble import RandomForestClassifier\n",
    "from sklearn.naive_bayes import GaussianNB\n",
    "from sklearn.svm import SVC\n",
    "\n",
    "import numpy as np\n",
    "from sklearn.model_selection import KFold\n",
    "from sklearn.model_selection import cross_val_score\n",
    "k_fold = KFold(n_splits=10, shuffle=True, random_state=0)\n",
    "clf = SVC()\n",
    "# clf = DecisionTreeClassifier()\n",
    "y_pred = clf.fit(X_train, y_train).predict(X_test)\n",
    "print(\"예측 정확도: {:.2f}\".format(np.mean(y_pred == y_test)))"
   ]
  },
  {
   "cell_type": "code",
   "execution_count": 22,
   "metadata": {},
   "outputs": [
    {
     "name": "stdout",
     "output_type": "stream",
     "text": [
      "총 승패 갯수 3398 에서 틀린 예측 갯수 : 940\n"
     ]
    }
   ],
   "source": [
    "print(\"총 승패 갯수 %d 에서 틀린 예측 갯수 : %d\" % (X_test.shape[0], (y_test != y_pred).sum()))"
   ]
  },
  {
   "cell_type": "markdown",
   "metadata": {},
   "source": [
    "## XGBOOST"
   ]
  },
  {
   "cell_type": "code",
   "execution_count": 23,
   "metadata": {},
   "outputs": [],
   "source": [
    "from xgboost import plot_importance\n",
    "from xgboost import XGBClassifier"
   ]
  },
  {
   "cell_type": "code",
   "execution_count": 24,
   "metadata": {},
   "outputs": [
    {
     "name": "stdout",
     "output_type": "stream",
     "text": [
      "[18:01:35] WARNING: C:/Users/Administrator/workspace/xgboost-win64_release_1.3.0/src/learner.cc:1061: Starting in XGBoost 1.3.0, the default evaluation metric used with the objective 'binary:logistic' was changed from 'error' to 'logloss'. Explicitly set eval_metric if you'd like to restore the old behavior.\n"
     ]
    },
    {
     "name": "stderr",
     "output_type": "stream",
     "text": [
      "C:\\Users\\smhrd\\Anaconda3\\lib\\site-packages\\xgboost\\sklearn.py:888: UserWarning: The use of label encoder in XGBClassifier is deprecated and will be removed in a future release. To remove this warning, do the following: 1) Pass option use_label_encoder=False when constructing XGBClassifier object; and 2) Encode your labels (y) as integers starting with 0, i.e. 0, 1, 2, ..., [num_class - 1].\n",
      "  warnings.warn(label_encoder_deprecation_msg, UserWarning)\n"
     ]
    }
   ],
   "source": [
    "xgb = XGBClassifier(n_estimators = 100, learning_rate = 0.05, max_depth = 5)\n",
    "xgb.fit(X_train, y_train)\n",
    "xgb_pred = xgb.predict(X_test)"
   ]
  },
  {
   "cell_type": "code",
   "execution_count": 25,
   "metadata": {},
   "outputs": [
    {
     "name": "stdout",
     "output_type": "stream",
     "text": [
      "총 승패 갯수 3398 에서 틀린 예측 갯수 : 967\n"
     ]
    }
   ],
   "source": [
    "print(\"총 승패 갯수 %d 에서 틀린 예측 갯수 : %d\" % (X_test.shape[0], (y_test != xgb_pred).sum()))"
   ]
  },
  {
   "cell_type": "code",
   "execution_count": 26,
   "metadata": {},
   "outputs": [
    {
     "name": "stdout",
     "output_type": "stream",
     "text": [
      "예측 정확도: 0.72\n"
     ]
    }
   ],
   "source": [
    "print(\"예측 정확도: {:.2f}\".format(np.mean(xgb_pred == y_test)))"
   ]
  },
  {
   "cell_type": "code",
   "execution_count": null,
   "metadata": {},
   "outputs": [],
   "source": []
  }
 ],
 "metadata": {
  "kernelspec": {
   "display_name": "Python 3",
   "language": "python",
   "name": "python3"
  },
  "language_info": {
   "codemirror_mode": {
    "name": "ipython",
    "version": 3
   },
   "file_extension": ".py",
   "mimetype": "text/x-python",
   "name": "python",
   "nbconvert_exporter": "python",
   "pygments_lexer": "ipython3",
   "version": "3.8.5"
  }
 },
 "nbformat": 4,
 "nbformat_minor": 4
}
