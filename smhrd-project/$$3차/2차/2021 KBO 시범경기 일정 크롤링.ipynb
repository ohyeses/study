{
 "cells": [
  {
   "cell_type": "code",
   "execution_count": 2,
   "metadata": {},
   "outputs": [],
   "source": [
    "from bs4 import BeautifulSoup\n",
    "from selenium import webdriver\n",
    "import pandas as pd"
   ]
  },
  {
   "cell_type": "code",
   "execution_count": 4,
   "metadata": {},
   "outputs": [],
   "source": [
    "driver = webdriver.Chrome('chromedriver.exe')\n",
    "url = driver.get('https://www.koreabaseball.com/Schedule/Schedule.aspx?seriesId=1')\n",
    "html = driver.page_source\n",
    "soup = BeautifulSoup(html,'html.parser')"
   ]
  },
  {
   "cell_type": "code",
   "execution_count": 11,
   "metadata": {},
   "outputs": [],
   "source": [
    "searchList = []\n",
    "tblSchedule = soup.find('table',{'class','tbl'})\n",
    "trs = tblSchedule.find_all('tr')\n",
    "for idx , tr in enumerate(trs):\n",
    "    if(idx > 0):\n",
    "        tds = tr.find_all('td')\n",
    "        temp = [tds[0].text.strip(), tds[1].text.strip(), tds[2].text.strip()]\n",
    "        searchList.append(temp)\n",
    "\n",
    "data = pd.DataFrame(searchList)\n",
    "data.columns = ['day','time','play']\n",
    "data.head()\n",
    "data.to_csv('2021_시범경기_일정.csv', encoding = 'utf-8-sig')"
   ]
  },
  {
   "cell_type": "code",
   "execution_count": null,
   "metadata": {},
   "outputs": [],
   "source": []
  }
 ],
 "metadata": {
  "kernelspec": {
   "display_name": "Python 3",
   "language": "python",
   "name": "python3"
  },
  "language_info": {
   "codemirror_mode": {
    "name": "ipython",
    "version": 3
   },
   "file_extension": ".py",
   "mimetype": "text/x-python",
   "name": "python",
   "nbconvert_exporter": "python",
   "pygments_lexer": "ipython3",
   "version": "3.8.5"
  }
 },
 "nbformat": 4,
 "nbformat_minor": 4
}
