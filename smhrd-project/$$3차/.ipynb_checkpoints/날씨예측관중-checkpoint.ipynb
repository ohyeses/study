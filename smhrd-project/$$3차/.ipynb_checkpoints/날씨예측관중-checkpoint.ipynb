{
 "cells": [
  {
   "cell_type": "code",
   "execution_count": null,
   "metadata": {},
   "outputs": [],
   "source": [
    "크롤링로릴ㅇ롤잉ㄹ"
   ]
  },
  {
   "cell_type": "code",
   "execution_count": null,
   "metadata": {},
   "outputs": [],
   "source": [
    "<목록>\n",
    "날짜 - date_list\n",
    "요일 - day_list\n",
    "구장 - stadium_list\n",
    "관중수 - spectators_list"
   ]
  },
  {
   "cell_type": "code",
   "execution_count": 2,
   "metadata": {},
   "outputs": [
    {
     "name": "stdout",
     "output_type": "stream",
     "text": [
      "Collecting selenium\n",
      "  Downloading selenium-3.141.0-py2.py3-none-any.whl (904 kB)\n",
      "Requirement already satisfied: urllib3 in c:\\programdata\\anaconda3\\lib\\site-packages (from selenium) (1.25.9)\n",
      "Installing collected packages: selenium\n",
      "Successfully installed selenium-3.141.0\n",
      "Note: you may need to restart the kernel to use updated packages.\n"
     ]
    }
   ],
   "source": [
    "pip install selenium"
   ]
  },
  {
   "cell_type": "code",
   "execution_count": 37,
   "metadata": {},
   "outputs": [],
   "source": [
    "# 라이브러리 싹 임포트 시켜준다\n",
    "from bs4 import BeautifulSoup as bs\n",
    "from selenium import webdriver as wb\n",
    "import time\n",
    "from selenium.webdriver.common.keys import Keys\n",
    "import pandas as pd\n",
    "import requests as req\n",
    "import os\n",
    "from urllib.request import urlretrieve\n",
    "import numpy as np"
   ]
  },
  {
   "cell_type": "code",
   "execution_count": 51,
   "metadata": {},
   "outputs": [],
   "source": [
    "driver = wb.Chrome()\n",
    "url = 'https://www.koreabaseball.com/History/Crowd/GraphDaily.aspx' # url에 크롤링할 주소 입력\n",
    "driver.get(url)\n",
    "\n",
    "soup = bs(driver.page_source, 'lxml') # 뭔지 모르지만 일단 가져오기"
   ]
  },
  {
   "cell_type": "code",
   "execution_count": null,
   "metadata": {},
   "outputs": [],
   "source": [
    "# driver = wb.Chrome()\n",
    "# # driver = webdriver.Chrome(executable_path=' /usr/local/bin')\n",
    "# driver.get(url)\n",
    "\n",
    "# soup = bs(driver.page_source, 'lxml')"
   ]
  },
  {
   "cell_type": "code",
   "execution_count": null,
   "metadata": {},
   "outputs": [],
   "source": []
  },
  {
   "cell_type": "code",
   "execution_count": null,
   "metadata": {},
   "outputs": [],
   "source": []
  },
  {
   "cell_type": "code",
   "execution_count": null,
   "metadata": {},
   "outputs": [],
   "source": []
  },
  {
   "cell_type": "code",
   "execution_count": null,
   "metadata": {},
   "outputs": [],
   "source": []
  },
  {
   "cell_type": "markdown",
   "metadata": {},
   "source": [
    "# 날짜 가져와볼게요"
   ]
  },
  {
   "cell_type": "code",
   "execution_count": 5,
   "metadata": {},
   "outputs": [],
   "source": [
    "date = soup.select('#cphContents_cphContents_cphContents_udpRecord > table > tbody > tr:nth-child(1) > td:nth-child(1)')"
   ]
  },
  {
   "cell_type": "code",
   "execution_count": 6,
   "metadata": {},
   "outputs": [],
   "source": [
    "# date = soup.select('#cphContents_cphContents_cphContents_udpRecord > table > tbody > tr > td:nth-child(1)')"
   ]
  },
  {
   "cell_type": "code",
   "execution_count": 7,
   "metadata": {},
   "outputs": [
    {
     "data": {
      "text/plain": [
       "[<td>2021/04/03</td>,\n",
       " <td>2021/04/04</td>,\n",
       " <td>2021/04/04</td>,\n",
       " <td>2021/04/04</td>,\n",
       " <td>2021/04/04</td>,\n",
       " <td>2021/04/04</td>,\n",
       " <td>2021/04/06</td>,\n",
       " <td>2021/04/06</td>,\n",
       " <td>2021/04/06</td>,\n",
       " <td>2021/04/06</td>,\n",
       " <td>2021/04/06</td>,\n",
       " <td>2021/04/07</td>,\n",
       " <td>2021/04/07</td>,\n",
       " <td>2021/04/07</td>,\n",
       " <td>2021/04/07</td>,\n",
       " <td>2021/04/07</td>,\n",
       " <td>2021/04/08</td>,\n",
       " <td>2021/04/08</td>,\n",
       " <td>2021/04/08</td>,\n",
       " <td>2021/04/08</td>,\n",
       " <td>2021/04/08</td>,\n",
       " <td>2021/04/09</td>,\n",
       " <td>2021/04/09</td>,\n",
       " <td>2021/04/09</td>,\n",
       " <td>2021/04/09</td>,\n",
       " <td>2021/04/09</td>,\n",
       " <td>2021/04/10</td>,\n",
       " <td>2021/04/10</td>,\n",
       " <td>2021/04/10</td>,\n",
       " <td>2021/04/10</td>,\n",
       " <td>2021/04/10</td>,\n",
       " <td>2021/04/11</td>,\n",
       " <td>2021/04/11</td>,\n",
       " <td>2021/04/11</td>,\n",
       " <td>2021/04/11</td>,\n",
       " <td>2021/04/11</td>,\n",
       " <td>2021/04/13</td>,\n",
       " <td>2021/04/13</td>,\n",
       " <td>2021/04/13</td>,\n",
       " <td>2021/04/13</td>,\n",
       " <td>2021/04/13</td>,\n",
       " <td>2021/04/14</td>,\n",
       " <td>2021/04/14</td>,\n",
       " <td>2021/04/14</td>,\n",
       " <td>2021/04/14</td>,\n",
       " <td>2021/04/14</td>,\n",
       " <td>2021/04/15</td>,\n",
       " <td>2021/04/15</td>,\n",
       " <td>2021/04/15</td>,\n",
       " <td>2021/04/15</td>,\n",
       " <td>2021/04/15</td>,\n",
       " <td>2021/04/16</td>,\n",
       " <td>2021/04/16</td>,\n",
       " <td>2021/04/16</td>,\n",
       " <td>2021/04/16</td>,\n",
       " <td>2021/04/16</td>,\n",
       " <td>2021/04/17</td>,\n",
       " <td>2021/04/17</td>,\n",
       " <td>2021/04/17</td>,\n",
       " <td>2021/04/17</td>,\n",
       " <td>2021/04/17</td>,\n",
       " <td>2021/04/18</td>,\n",
       " <td>2021/04/18</td>,\n",
       " <td>2021/04/18</td>,\n",
       " <td>2021/04/18</td>,\n",
       " <td>2021/04/18</td>,\n",
       " <td>2021/04/20</td>,\n",
       " <td>2021/04/20</td>,\n",
       " <td>2021/04/20</td>,\n",
       " <td>2021/04/20</td>,\n",
       " <td>2021/04/20</td>,\n",
       " <td>2021/04/21</td>,\n",
       " <td>2021/04/21</td>,\n",
       " <td>2021/04/21</td>,\n",
       " <td>2021/04/21</td>,\n",
       " <td>2021/04/21</td>,\n",
       " <td>2021/04/22</td>,\n",
       " <td>2021/04/22</td>,\n",
       " <td>2021/04/22</td>,\n",
       " <td>2021/04/22</td>,\n",
       " <td>2021/04/22</td>,\n",
       " <td>2021/04/23</td>,\n",
       " <td>2021/04/23</td>,\n",
       " <td>2021/04/23</td>,\n",
       " <td>2021/04/23</td>,\n",
       " <td>2021/04/23</td>,\n",
       " <td>2021/04/24</td>,\n",
       " <td>2021/04/24</td>,\n",
       " <td>2021/04/24</td>,\n",
       " <td>2021/04/24</td>,\n",
       " <td>2021/04/24</td>,\n",
       " <td>2021/04/25</td>,\n",
       " <td>2021/04/25</td>,\n",
       " <td>2021/04/25</td>,\n",
       " <td>2021/04/25</td>,\n",
       " <td style=\"border-bottom: 0px;\">2021/04/25</td>]"
      ]
     },
     "execution_count": 7,
     "metadata": {},
     "output_type": "execute_result"
    }
   ],
   "source": [
    "date"
   ]
  },
  {
   "cell_type": "markdown",
   "metadata": {},
   "source": [
    "# 2019 데이터 선택"
   ]
  },
  {
   "cell_type": "code",
   "execution_count": 56,
   "metadata": {
    "scrolled": true
   },
   "outputs": [],
   "source": [
    "search1 = driver.find_element_by_css_selector('#cphContents_cphContents_cphContents_ddlSeason > option:nth-child(2)')\n",
    "search1.click()"
   ]
  },
  {
   "cell_type": "code",
   "execution_count": null,
   "metadata": {},
   "outputs": [],
   "source": [
    "# for i in search1:\n",
    "#     print(i.text.strip()) #driver.find_elements, list 일때만 작동"
   ]
  },
  {
   "cell_type": "markdown",
   "metadata": {},
   "source": [
    "# 날짜, 요일, 구장, 관중수 열 가져오기"
   ]
  },
  {
   "cell_type": "code",
   "execution_count": null,
   "metadata": {},
   "outputs": [],
   "source": []
  },
  {
   "cell_type": "code",
   "execution_count": null,
   "metadata": {},
   "outputs": [],
   "source": []
  },
  {
   "cell_type": "code",
   "execution_count": null,
   "metadata": {},
   "outputs": [],
   "source": []
  }
 ],
 "metadata": {
  "kernelspec": {
   "display_name": "Python 3",
   "language": "python",
   "name": "python3"
  },
  "language_info": {
   "codemirror_mode": {
    "name": "ipython",
    "version": 3
   },
   "file_extension": ".py",
   "mimetype": "text/x-python",
   "name": "python",
   "nbconvert_exporter": "python",
   "pygments_lexer": "ipython3",
   "version": "3.8.5"
  }
 },
 "nbformat": 4,
 "nbformat_minor": 4
}
