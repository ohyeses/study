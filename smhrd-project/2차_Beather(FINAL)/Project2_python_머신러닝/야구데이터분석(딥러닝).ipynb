{
 "cells": [
  {
   "cell_type": "code",
   "execution_count": 1,
   "metadata": {},
   "outputs": [],
   "source": [
    "import pandas as pd\n",
    "pd.set_option('display.max_row', 500)\n",
    "pd.set_option('display.max_columns', 100)\n",
    "import numpy as np\n",
    "import matplotlib.pyplot as plt  # 그래프 그리는 라이브러리\n",
    "from sklearn.model_selection import train_test_split\n",
    "from sklearn import metrics  # 평가를 위한 라이브러리\n",
    "from sklearn.neighbors import KNeighborsClassifier\n",
    "from sklearn.model_selection import cross_val_score\n",
    "from sklearn.preprocessing import StandardScaler\n",
    "from sklearn.tree import DecisionTreeClassifier\n",
    "from sklearn.svm import SVC\n",
    "\n",
    "import seaborn as sns  # 시각화 라이브러리\n",
    "#정수 원핫인코딩\n",
    "from tensorflow.keras.preprocessing.text import Tokenizer\n",
    "from tensorflow.keras.utils import to_categorical"
   ]
  },
  {
   "cell_type": "code",
   "execution_count": 2,
   "metadata": {},
   "outputs": [],
   "source": [
    "train = pd.read_csv('data/train.csv', index_col = 'day_text')\n",
    "test = pd.read_csv('data/test.csv', index_col = 'day_text')"
   ]
  },
  {
   "cell_type": "markdown",
   "metadata": {},
   "source": [
    "###### 결측치 알아보기"
   ]
  },
  {
   "cell_type": "code",
   "execution_count": 3,
   "metadata": {},
   "outputs": [
    {
     "data": {
      "text/plain": [
       "team_text      0\n",
       "H_text         0\n",
       "HR_text        0\n",
       "S_text         0\n",
       "ST_text        0\n",
       "DU_text        0\n",
       "ER_text        0\n",
       "result_text    0\n",
       "location       0\n",
       "temp           0\n",
       "rain           0\n",
       "humidity       0\n",
       "dtype: int64"
      ]
     },
     "execution_count": 3,
     "metadata": {},
     "output_type": "execute_result"
    }
   ],
   "source": [
    "train.isnull().sum()"
   ]
  },
  {
   "cell_type": "code",
   "execution_count": 4,
   "metadata": {},
   "outputs": [
    {
     "name": "stdout",
     "output_type": "stream",
     "text": [
      "<class 'pandas.core.frame.DataFrame'>\n",
      "Index: 7000 entries, 4.7 to 7.7\n",
      "Data columns (total 12 columns):\n",
      " #   Column       Non-Null Count  Dtype  \n",
      "---  ------       --------------  -----  \n",
      " 0   team_text    7000 non-null   object \n",
      " 1   H_text       7000 non-null   int64  \n",
      " 2   HR_text      7000 non-null   int64  \n",
      " 3   S_text       7000 non-null   int64  \n",
      " 4   ST_text      7000 non-null   int64  \n",
      " 5   DU_text      7000 non-null   int64  \n",
      " 6   ER_text      7000 non-null   int64  \n",
      " 7   result_text  7000 non-null   int64  \n",
      " 8   location     7000 non-null   object \n",
      " 9   temp         7000 non-null   float64\n",
      " 10  rain         7000 non-null   float64\n",
      " 11  humidity     7000 non-null   float64\n",
      "dtypes: float64(3), int64(7), object(2)\n",
      "memory usage: 710.9+ KB\n"
     ]
    }
   ],
   "source": [
    "train.info()"
   ]
  },
  {
   "cell_type": "markdown",
   "metadata": {},
   "source": [
    "##### 데이터 특징 과 타겟 분리 (타겟 = result_text) -> keras모델이 원하는 형식"
   ]
  },
  {
   "cell_type": "markdown",
   "metadata": {},
   "source": [
    "##### team_text /location 특징을 숫자로 바꿔주기"
   ]
  },
  {
   "cell_type": "code",
   "execution_count": 5,
   "metadata": {},
   "outputs": [],
   "source": [
    "train.drop('team_text', axis = 1 , inplace = True)\n",
    "test.drop('team_text', axis = 1 , inplace = True)"
   ]
  },
  {
   "cell_type": "code",
   "execution_count": 6,
   "metadata": {},
   "outputs": [],
   "source": [
    "train.drop('location', axis = 1 , inplace = True)\n",
    "test.drop('location', axis = 1 , inplace = True)"
   ]
  },
  {
   "cell_type": "code",
   "execution_count": 7,
   "metadata": {},
   "outputs": [],
   "source": [
    "y_train = train['result_text']\n",
    "X_train = train.drop('result_text', axis = 1)\n",
    "y_test = test['result_text']\n",
    "X_test = test.drop('result_text', axis = 1)"
   ]
  },
  {
   "cell_type": "code",
   "execution_count": 11,
   "metadata": {},
   "outputs": [
    {
     "name": "stdout",
     "output_type": "stream",
     "text": [
      "<class 'pandas.core.frame.DataFrame'>\n",
      "Index: 7000 entries, 4.7 to 7.7\n",
      "Data columns (total 10 columns):\n",
      " #   Column       Non-Null Count  Dtype  \n",
      "---  ------       --------------  -----  \n",
      " 0   H_text       7000 non-null   int64  \n",
      " 1   HR_text      7000 non-null   int64  \n",
      " 2   S_text       7000 non-null   int64  \n",
      " 3   ST_text      7000 non-null   int64  \n",
      " 4   DU_text      7000 non-null   int64  \n",
      " 5   ER_text      7000 non-null   int64  \n",
      " 6   result_text  7000 non-null   int64  \n",
      " 7   temp         7000 non-null   float64\n",
      " 8   rain         7000 non-null   float64\n",
      " 9   humidity     7000 non-null   float64\n",
      "dtypes: float64(3), int64(7)\n",
      "memory usage: 601.6+ KB\n"
     ]
    }
   ],
   "source": [
    "train.info()"
   ]
  },
  {
   "cell_type": "code",
   "execution_count": 12,
   "metadata": {},
   "outputs": [
    {
     "name": "stdout",
     "output_type": "stream",
     "text": [
      "<class 'pandas.core.frame.DataFrame'>\n",
      "Index: 3398 entries, 7.7 to 10.26토\n",
      "Data columns (total 10 columns):\n",
      " #   Column       Non-Null Count  Dtype  \n",
      "---  ------       --------------  -----  \n",
      " 0   H_text       3398 non-null   int64  \n",
      " 1   HR_text      3398 non-null   int64  \n",
      " 2   S_text       3398 non-null   int64  \n",
      " 3   ST_text      3398 non-null   int64  \n",
      " 4   DU_text      3398 non-null   int64  \n",
      " 5   ER_text      3398 non-null   int64  \n",
      " 6   result_text  3398 non-null   int64  \n",
      " 7   temp         3398 non-null   float64\n",
      " 8   rain         3398 non-null   float64\n",
      " 9   humidity     3398 non-null   int64  \n",
      "dtypes: float64(2), int64(8)\n",
      "memory usage: 292.0+ KB\n"
     ]
    }
   ],
   "source": [
    "test.info()"
   ]
  },
  {
   "cell_type": "code",
   "execution_count": 13,
   "metadata": {},
   "outputs": [],
   "source": [
    "train['H_text'] = train['H_text'].astype('float')\n",
    "train['HR_text'] = train['HR_text'].astype('float')\n",
    "train['S_text'] = train['S_text'].astype('float')\n",
    "train['ST_text'] = train['ST_text'].astype('float')\n",
    "train['DU_text'] = train['DU_text'].astype('float')\n",
    "train['ER_text'] = train['ER_text'].astype('float')\n",
    "train['result_text'] = train['result_text'].astype('float')"
   ]
  },
  {
   "cell_type": "code",
   "execution_count": 14,
   "metadata": {},
   "outputs": [
    {
     "name": "stdout",
     "output_type": "stream",
     "text": [
      "<class 'pandas.core.frame.DataFrame'>\n",
      "Index: 7000 entries, 4.7 to 7.7\n",
      "Data columns (total 10 columns):\n",
      " #   Column       Non-Null Count  Dtype  \n",
      "---  ------       --------------  -----  \n",
      " 0   H_text       7000 non-null   float64\n",
      " 1   HR_text      7000 non-null   float64\n",
      " 2   S_text       7000 non-null   float64\n",
      " 3   ST_text      7000 non-null   float64\n",
      " 4   DU_text      7000 non-null   float64\n",
      " 5   ER_text      7000 non-null   float64\n",
      " 6   result_text  7000 non-null   float64\n",
      " 7   temp         7000 non-null   float64\n",
      " 8   rain         7000 non-null   float64\n",
      " 9   humidity     7000 non-null   float64\n",
      "dtypes: float64(10)\n",
      "memory usage: 601.6+ KB\n"
     ]
    }
   ],
   "source": [
    "train.info()"
   ]
  },
  {
   "cell_type": "code",
   "execution_count": 15,
   "metadata": {},
   "outputs": [],
   "source": [
    "test['H_text'] = test['H_text'].astype('float')\n",
    "test['HR_text'] = test['HR_text'].astype('float')\n",
    "test['S_text'] = test['S_text'].astype('float')\n",
    "test['ST_text'] = test['ST_text'].astype('float')\n",
    "test['DU_text'] = test['DU_text'].astype('float')\n",
    "test['ER_text'] = test['ER_text'].astype('float')\n",
    "test['result_text'] = test['result_text'].astype('float')\n",
    "test['humidity'] = test['humidity'].astype('float')"
   ]
  },
  {
   "cell_type": "code",
   "execution_count": 16,
   "metadata": {},
   "outputs": [
    {
     "name": "stdout",
     "output_type": "stream",
     "text": [
      "<class 'pandas.core.frame.DataFrame'>\n",
      "Index: 3398 entries, 7.7 to 10.26토\n",
      "Data columns (total 10 columns):\n",
      " #   Column       Non-Null Count  Dtype  \n",
      "---  ------       --------------  -----  \n",
      " 0   H_text       3398 non-null   float64\n",
      " 1   HR_text      3398 non-null   float64\n",
      " 2   S_text       3398 non-null   float64\n",
      " 3   ST_text      3398 non-null   float64\n",
      " 4   DU_text      3398 non-null   float64\n",
      " 5   ER_text      3398 non-null   float64\n",
      " 6   result_text  3398 non-null   float64\n",
      " 7   temp         3398 non-null   float64\n",
      " 8   rain         3398 non-null   float64\n",
      " 9   humidity     3398 non-null   float64\n",
      "dtypes: float64(10)\n",
      "memory usage: 292.0+ KB\n"
     ]
    }
   ],
   "source": [
    "test.info()"
   ]
  },
  {
   "cell_type": "code",
   "execution_count": null,
   "metadata": {},
   "outputs": [],
   "source": []
  },
  {
   "cell_type": "markdown",
   "metadata": {},
   "source": [
    "### Keras Model"
   ]
  },
  {
   "cell_type": "code",
   "execution_count": 29,
   "metadata": {},
   "outputs": [],
   "source": [
    "from keras.models import Sequential\n",
    "from keras.layers import Dense,Dropout\n",
    "\n",
    "model = Sequential()\n",
    "\n",
    "model.add(Dense(400,activation='relu', input_shape=(1,9)))\n",
    "\n",
    "model.add(Dense(200, activation='relu',input_shape=(1,9)))\n",
    "\n",
    "model.add(Dense(100, activation='relu',input_shape=(1,9)))\n",
    "\n",
    "model.add(Dense(20, activation='relu',input_shape=(1,9)))\n",
    "model.add(Dense(1, activation='sigmoid'))"
   ]
  },
  {
   "cell_type": "code",
   "execution_count": 30,
   "metadata": {},
   "outputs": [],
   "source": [
    "model.compile(loss='binary_crossentropy',\n",
    "              optimizer='adam',\n",
    "              metrics=['accuracy'])"
   ]
  },
  {
   "cell_type": "code",
   "execution_count": 31,
   "metadata": {},
   "outputs": [
    {
     "name": "stdout",
     "output_type": "stream",
     "text": [
      "WARNING:tensorflow:Model was constructed with shape (None, 1, 9) for input KerasTensor(type_spec=TensorSpec(shape=(None, 1, 9), dtype=tf.float32, name='dense_29_input'), name='dense_29_input', description=\"created by layer 'dense_29_input'\"), but it was called on an input with incompatible shape (None, 9).\n",
      "WARNING:tensorflow:Model was constructed with shape (None, 1, 9) for input KerasTensor(type_spec=TensorSpec(shape=(None, 1, 9), dtype=tf.float32, name='dense_29_input'), name='dense_29_input', description=\"created by layer 'dense_29_input'\"), but it was called on an input with incompatible shape (None, 9).\n",
      "219/219 [==============================] - 0s 606us/step - loss: 1.5146 - accuracy: 0.5009\n",
      "Train Accuracy: 0.5006\n",
      "107/107 [==============================] - 0s 484us/step - loss: 1.6725 - accuracy: 0.4997\n",
      "Test Accuracy: 0.4997\n"
     ]
    }
   ],
   "source": [
    "print(\"Train Accuracy: %.4f\"%(model.evaluate(X_train,y_train)[1]))\n",
    "print(\"Test Accuracy: %.4f\"%(model.evaluate(X_test,y_test)[1]))"
   ]
  },
  {
   "cell_type": "code",
   "execution_count": null,
   "metadata": {},
   "outputs": [],
   "source": [
    "model.fit(X_train, y_train, epochs=50, batch_size=1, verbose=1)"
   ]
  },
  {
   "cell_type": "code",
   "execution_count": null,
   "metadata": {},
   "outputs": [],
   "source": []
  }
 ],
 "metadata": {
  "kernelspec": {
   "display_name": "Python 3",
   "language": "python",
   "name": "python3"
  },
  "language_info": {
   "codemirror_mode": {
    "name": "ipython",
    "version": 3
   },
   "file_extension": ".py",
   "mimetype": "text/x-python",
   "name": "python",
   "nbconvert_exporter": "python",
   "pygments_lexer": "ipython3",
   "version": "3.8.5"
  }
 },
 "nbformat": 4,
 "nbformat_minor": 4
}
