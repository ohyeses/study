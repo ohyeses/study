{
 "cells": [
  {
   "cell_type": "code",
   "execution_count": 1,
   "metadata": {},
   "outputs": [],
   "source": [
    "import pandas as pd\n",
    "pd.set_option('display.max_row', 500)\n",
    "pd.set_option('display.max_columns', 100)\n",
    "import numpy as np\n",
    "import matplotlib.pyplot as plt  # 그래프 그리는 라이브러리\n",
    "from sklearn.model_selection import train_test_split\n",
    "from sklearn import metrics  # 평가를 위한 라이브러리\n",
    "from sklearn.neighbors import KNeighborsClassifier\n",
    "from sklearn.model_selection import cross_val_score\n",
    "from sklearn.preprocessing import StandardScaler\n",
    "from sklearn.tree import DecisionTreeClassifier\n",
    "from sklearn.svm import SVC\n",
    "\n",
    "import seaborn as sns  # 시각화 라이브러리"
   ]
  },
  {
   "cell_type": "code",
   "execution_count": 2,
   "metadata": {},
   "outputs": [],
   "source": [
    "train = pd.read_csv('data/train.csv', index_col = 'day_text')\n",
    "test = pd.read_csv('data/test.csv', index_col = 'day_text')"
   ]
  },
  {
   "cell_type": "code",
   "execution_count": 3,
   "metadata": {},
   "outputs": [
    {
     "name": "stdout",
     "output_type": "stream",
     "text": [
      "<class 'pandas.core.frame.DataFrame'>\n",
      "Index: 7000 entries, 4.7 to 7.7\n",
      "Data columns (total 12 columns):\n",
      " #   Column       Non-Null Count  Dtype  \n",
      "---  ------       --------------  -----  \n",
      " 0   team_text    7000 non-null   object \n",
      " 1   H_text       7000 non-null   int64  \n",
      " 2   HR_text      7000 non-null   int64  \n",
      " 3   S_text       7000 non-null   int64  \n",
      " 4   ST_text      7000 non-null   int64  \n",
      " 5   DU_text      7000 non-null   int64  \n",
      " 6   ER_text      7000 non-null   int64  \n",
      " 7   result_text  7000 non-null   int64  \n",
      " 8   location     7000 non-null   object \n",
      " 9   temp         7000 non-null   float64\n",
      " 10  rain         7000 non-null   float64\n",
      " 11  humidity     7000 non-null   float64\n",
      "dtypes: float64(3), int64(7), object(2)\n",
      "memory usage: 710.9+ KB\n"
     ]
    }
   ],
   "source": [
    "train.info()"
   ]
  },
  {
   "cell_type": "code",
   "execution_count": 4,
   "metadata": {},
   "outputs": [
    {
     "name": "stdout",
     "output_type": "stream",
     "text": [
      "<class 'pandas.core.frame.DataFrame'>\n",
      "Index: 3398 entries, 7.7 to 10.26토\n",
      "Data columns (total 12 columns):\n",
      " #   Column       Non-Null Count  Dtype  \n",
      "---  ------       --------------  -----  \n",
      " 0   team_text    3398 non-null   object \n",
      " 1   H_text       3398 non-null   int64  \n",
      " 2   HR_text      3398 non-null   int64  \n",
      " 3   S_text       3398 non-null   int64  \n",
      " 4   ST_text      3398 non-null   int64  \n",
      " 5   DU_text      3398 non-null   int64  \n",
      " 6   ER_text      3398 non-null   int64  \n",
      " 7   result_text  3398 non-null   int64  \n",
      " 8   location     3398 non-null   object \n",
      " 9   temp         3398 non-null   float64\n",
      " 10  rain         3398 non-null   float64\n",
      " 11  humidity     3398 non-null   int64  \n",
      "dtypes: float64(2), int64(8), object(2)\n",
      "memory usage: 345.1+ KB\n"
     ]
    }
   ],
   "source": [
    "test.info()"
   ]
  },
  {
   "cell_type": "code",
   "execution_count": 5,
   "metadata": {},
   "outputs": [
    {
     "data": {
      "text/html": [
       "<div>\n",
       "<style scoped>\n",
       "    .dataframe tbody tr th:only-of-type {\n",
       "        vertical-align: middle;\n",
       "    }\n",
       "\n",
       "    .dataframe tbody tr th {\n",
       "        vertical-align: top;\n",
       "    }\n",
       "\n",
       "    .dataframe thead th {\n",
       "        text-align: right;\n",
       "    }\n",
       "</style>\n",
       "<table border=\"1\" class=\"dataframe\">\n",
       "  <thead>\n",
       "    <tr style=\"text-align: right;\">\n",
       "      <th></th>\n",
       "      <th>H_text</th>\n",
       "      <th>HR_text</th>\n",
       "      <th>S_text</th>\n",
       "      <th>ST_text</th>\n",
       "      <th>DU_text</th>\n",
       "      <th>ER_text</th>\n",
       "      <th>result_text</th>\n",
       "      <th>temp</th>\n",
       "      <th>rain</th>\n",
       "      <th>humidity</th>\n",
       "    </tr>\n",
       "  </thead>\n",
       "  <tbody>\n",
       "    <tr>\n",
       "      <th>H_text</th>\n",
       "      <td>1.000000</td>\n",
       "      <td>0.381357</td>\n",
       "      <td>0.109626</td>\n",
       "      <td>-0.107799</td>\n",
       "      <td>0.080418</td>\n",
       "      <td>-0.002447</td>\n",
       "      <td>0.411615</td>\n",
       "      <td>0.067297</td>\n",
       "      <td>0.002754</td>\n",
       "      <td>0.006877</td>\n",
       "    </tr>\n",
       "    <tr>\n",
       "      <th>HR_text</th>\n",
       "      <td>0.381357</td>\n",
       "      <td>1.000000</td>\n",
       "      <td>-0.020410</td>\n",
       "      <td>0.009257</td>\n",
       "      <td>-0.045893</td>\n",
       "      <td>-0.019503</td>\n",
       "      <td>0.267704</td>\n",
       "      <td>0.050888</td>\n",
       "      <td>-0.024830</td>\n",
       "      <td>0.052948</td>\n",
       "    </tr>\n",
       "    <tr>\n",
       "      <th>S_text</th>\n",
       "      <td>0.109626</td>\n",
       "      <td>-0.020410</td>\n",
       "      <td>1.000000</td>\n",
       "      <td>0.024302</td>\n",
       "      <td>-0.070301</td>\n",
       "      <td>-0.023027</td>\n",
       "      <td>0.168250</td>\n",
       "      <td>-0.003281</td>\n",
       "      <td>-0.000741</td>\n",
       "      <td>-0.037783</td>\n",
       "    </tr>\n",
       "    <tr>\n",
       "      <th>ST_text</th>\n",
       "      <td>-0.107799</td>\n",
       "      <td>0.009257</td>\n",
       "      <td>0.024302</td>\n",
       "      <td>1.000000</td>\n",
       "      <td>-0.174138</td>\n",
       "      <td>0.042208</td>\n",
       "      <td>-0.177470</td>\n",
       "      <td>-0.068097</td>\n",
       "      <td>0.001156</td>\n",
       "      <td>0.051873</td>\n",
       "    </tr>\n",
       "    <tr>\n",
       "      <th>DU_text</th>\n",
       "      <td>0.080418</td>\n",
       "      <td>-0.045893</td>\n",
       "      <td>-0.070301</td>\n",
       "      <td>-0.174138</td>\n",
       "      <td>1.000000</td>\n",
       "      <td>0.014275</td>\n",
       "      <td>-0.079218</td>\n",
       "      <td>-0.003311</td>\n",
       "      <td>-0.005420</td>\n",
       "      <td>0.006083</td>\n",
       "    </tr>\n",
       "    <tr>\n",
       "      <th>ER_text</th>\n",
       "      <td>-0.002447</td>\n",
       "      <td>-0.019503</td>\n",
       "      <td>-0.023027</td>\n",
       "      <td>0.042208</td>\n",
       "      <td>0.014275</td>\n",
       "      <td>1.000000</td>\n",
       "      <td>-0.172610</td>\n",
       "      <td>-0.034883</td>\n",
       "      <td>-0.012892</td>\n",
       "      <td>-0.031010</td>\n",
       "    </tr>\n",
       "    <tr>\n",
       "      <th>result_text</th>\n",
       "      <td>0.411615</td>\n",
       "      <td>0.267704</td>\n",
       "      <td>0.168250</td>\n",
       "      <td>-0.177470</td>\n",
       "      <td>-0.079218</td>\n",
       "      <td>-0.172610</td>\n",
       "      <td>1.000000</td>\n",
       "      <td>0.000000</td>\n",
       "      <td>0.000000</td>\n",
       "      <td>0.000000</td>\n",
       "    </tr>\n",
       "    <tr>\n",
       "      <th>temp</th>\n",
       "      <td>0.067297</td>\n",
       "      <td>0.050888</td>\n",
       "      <td>-0.003281</td>\n",
       "      <td>-0.068097</td>\n",
       "      <td>-0.003311</td>\n",
       "      <td>-0.034883</td>\n",
       "      <td>0.000000</td>\n",
       "      <td>1.000000</td>\n",
       "      <td>-0.006105</td>\n",
       "      <td>-0.180981</td>\n",
       "    </tr>\n",
       "    <tr>\n",
       "      <th>rain</th>\n",
       "      <td>0.002754</td>\n",
       "      <td>-0.024830</td>\n",
       "      <td>-0.000741</td>\n",
       "      <td>0.001156</td>\n",
       "      <td>-0.005420</td>\n",
       "      <td>-0.012892</td>\n",
       "      <td>0.000000</td>\n",
       "      <td>-0.006105</td>\n",
       "      <td>1.000000</td>\n",
       "      <td>0.012211</td>\n",
       "    </tr>\n",
       "    <tr>\n",
       "      <th>humidity</th>\n",
       "      <td>0.006877</td>\n",
       "      <td>0.052948</td>\n",
       "      <td>-0.037783</td>\n",
       "      <td>0.051873</td>\n",
       "      <td>0.006083</td>\n",
       "      <td>-0.031010</td>\n",
       "      <td>0.000000</td>\n",
       "      <td>-0.180981</td>\n",
       "      <td>0.012211</td>\n",
       "      <td>1.000000</td>\n",
       "    </tr>\n",
       "  </tbody>\n",
       "</table>\n",
       "</div>"
      ],
      "text/plain": [
       "               H_text   HR_text    S_text   ST_text   DU_text   ER_text  \\\n",
       "H_text       1.000000  0.381357  0.109626 -0.107799  0.080418 -0.002447   \n",
       "HR_text      0.381357  1.000000 -0.020410  0.009257 -0.045893 -0.019503   \n",
       "S_text       0.109626 -0.020410  1.000000  0.024302 -0.070301 -0.023027   \n",
       "ST_text     -0.107799  0.009257  0.024302  1.000000 -0.174138  0.042208   \n",
       "DU_text      0.080418 -0.045893 -0.070301 -0.174138  1.000000  0.014275   \n",
       "ER_text     -0.002447 -0.019503 -0.023027  0.042208  0.014275  1.000000   \n",
       "result_text  0.411615  0.267704  0.168250 -0.177470 -0.079218 -0.172610   \n",
       "temp         0.067297  0.050888 -0.003281 -0.068097 -0.003311 -0.034883   \n",
       "rain         0.002754 -0.024830 -0.000741  0.001156 -0.005420 -0.012892   \n",
       "humidity     0.006877  0.052948 -0.037783  0.051873  0.006083 -0.031010   \n",
       "\n",
       "             result_text      temp      rain  humidity  \n",
       "H_text          0.411615  0.067297  0.002754  0.006877  \n",
       "HR_text         0.267704  0.050888 -0.024830  0.052948  \n",
       "S_text          0.168250 -0.003281 -0.000741 -0.037783  \n",
       "ST_text        -0.177470 -0.068097  0.001156  0.051873  \n",
       "DU_text        -0.079218 -0.003311 -0.005420  0.006083  \n",
       "ER_text        -0.172610 -0.034883 -0.012892 -0.031010  \n",
       "result_text     1.000000  0.000000  0.000000  0.000000  \n",
       "temp            0.000000  1.000000 -0.006105 -0.180981  \n",
       "rain            0.000000 -0.006105  1.000000  0.012211  \n",
       "humidity        0.000000 -0.180981  0.012211  1.000000  "
      ]
     },
     "execution_count": 5,
     "metadata": {},
     "output_type": "execute_result"
    }
   ],
   "source": [
    "train.corr()"
   ]
  },
  {
   "cell_type": "markdown",
   "metadata": {},
   "source": [
    "### 데이터 탐색(result_text 의 빈도가 높은 경우를 찾기)"
   ]
  },
  {
   "cell_type": "code",
   "execution_count": 27,
   "metadata": {},
   "outputs": [
    {
     "data": {
      "text/html": [
       "<div>\n",
       "<style scoped>\n",
       "    .dataframe tbody tr th:only-of-type {\n",
       "        vertical-align: middle;\n",
       "    }\n",
       "\n",
       "    .dataframe tbody tr th {\n",
       "        vertical-align: top;\n",
       "    }\n",
       "\n",
       "    .dataframe thead th {\n",
       "        text-align: right;\n",
       "    }\n",
       "</style>\n",
       "<table border=\"1\" class=\"dataframe\">\n",
       "  <thead>\n",
       "    <tr style=\"text-align: right;\">\n",
       "      <th></th>\n",
       "      <th></th>\n",
       "      <th>location</th>\n",
       "    </tr>\n",
       "    <tr>\n",
       "      <th>team_text</th>\n",
       "      <th>result_text</th>\n",
       "      <th></th>\n",
       "    </tr>\n",
       "  </thead>\n",
       "  <tbody>\n",
       "    <tr>\n",
       "      <th rowspan=\"2\" valign=\"top\">KIA 타이거즈</th>\n",
       "      <th>0</th>\n",
       "      <td>176</td>\n",
       "    </tr>\n",
       "    <tr>\n",
       "      <th>1</th>\n",
       "      <td>163</td>\n",
       "    </tr>\n",
       "    <tr>\n",
       "      <th rowspan=\"2\" valign=\"top\">LG 트윈스</th>\n",
       "      <th>0</th>\n",
       "      <td>168</td>\n",
       "    </tr>\n",
       "    <tr>\n",
       "      <th>1</th>\n",
       "      <td>173</td>\n",
       "    </tr>\n",
       "    <tr>\n",
       "      <th rowspan=\"2\" valign=\"top\">NC 다이노스</th>\n",
       "      <th>0</th>\n",
       "      <td>186</td>\n",
       "    </tr>\n",
       "    <tr>\n",
       "      <th>1</th>\n",
       "      <td>157</td>\n",
       "    </tr>\n",
       "    <tr>\n",
       "      <th rowspan=\"2\" valign=\"top\">SK 와이번스</th>\n",
       "      <th>0</th>\n",
       "      <td>153</td>\n",
       "    </tr>\n",
       "    <tr>\n",
       "      <th>1</th>\n",
       "      <td>186</td>\n",
       "    </tr>\n",
       "    <tr>\n",
       "      <th rowspan=\"2\" valign=\"top\">kt wiz</th>\n",
       "      <th>0</th>\n",
       "      <td>185</td>\n",
       "    </tr>\n",
       "    <tr>\n",
       "      <th>1</th>\n",
       "      <td>147</td>\n",
       "    </tr>\n",
       "    <tr>\n",
       "      <th rowspan=\"2\" valign=\"top\">두산 베어스</th>\n",
       "      <th>0</th>\n",
       "      <td>127</td>\n",
       "    </tr>\n",
       "    <tr>\n",
       "      <th>1</th>\n",
       "      <td>222</td>\n",
       "    </tr>\n",
       "    <tr>\n",
       "      <th rowspan=\"2\" valign=\"top\">롯데 자이언츠</th>\n",
       "      <th>0</th>\n",
       "      <td>177</td>\n",
       "    </tr>\n",
       "    <tr>\n",
       "      <th>1</th>\n",
       "      <td>157</td>\n",
       "    </tr>\n",
       "    <tr>\n",
       "      <th rowspan=\"2\" valign=\"top\">삼성 라이온즈</th>\n",
       "      <th>0</th>\n",
       "      <td>181</td>\n",
       "    </tr>\n",
       "    <tr>\n",
       "      <th>1</th>\n",
       "      <td>147</td>\n",
       "    </tr>\n",
       "    <tr>\n",
       "      <th rowspan=\"2\" valign=\"top\">키움 히어로즈</th>\n",
       "      <th>0</th>\n",
       "      <td>163</td>\n",
       "    </tr>\n",
       "    <tr>\n",
       "      <th>1</th>\n",
       "      <td>190</td>\n",
       "    </tr>\n",
       "    <tr>\n",
       "      <th rowspan=\"2\" valign=\"top\">한화 이글스</th>\n",
       "      <th>0</th>\n",
       "      <td>183</td>\n",
       "    </tr>\n",
       "    <tr>\n",
       "      <th>1</th>\n",
       "      <td>157</td>\n",
       "    </tr>\n",
       "  </tbody>\n",
       "</table>\n",
       "</div>"
      ],
      "text/plain": [
       "                       location\n",
       "team_text result_text          \n",
       "KIA 타이거즈  0                 176\n",
       "          1                 163\n",
       "LG 트윈스    0                 168\n",
       "          1                 173\n",
       "NC 다이노스   0                 186\n",
       "          1                 157\n",
       "SK 와이번스   0                 153\n",
       "          1                 186\n",
       "kt wiz    0                 185\n",
       "          1                 147\n",
       "두산 베어스    0                 127\n",
       "          1                 222\n",
       "롯데 자이언츠   0                 177\n",
       "          1                 157\n",
       "삼성 라이온즈   0                 181\n",
       "          1                 147\n",
       "키움 히어로즈   0                 163\n",
       "          1                 190\n",
       "한화 이글스    0                 183\n",
       "          1                 157"
      ]
     },
     "execution_count": 27,
     "metadata": {},
     "output_type": "execute_result"
    }
   ],
   "source": [
    "test_result = test[['team_text', 'result_text', 'location']].groupby(['team_text','result_text']).count()\n",
    "test_result"
   ]
  },
  {
   "cell_type": "markdown",
   "metadata": {},
   "source": [
    "### 온도 5도 기준으로 나눠서 시각화\n",
    "- 어느 온도에서 야구 경기가 많이 이루어졌는지 볼 수 있음"
   ]
  },
  {
   "cell_type": "code",
   "execution_count": 28,
   "metadata": {},
   "outputs": [],
   "source": [
    "bins = [5,11,16,21,26,31,36,41]  # 구간 만들기\n",
    "labels = ['5~10', '10~15', '15~20', '20~25', '25~30', '30~35', '35~40']\n",
    "train['temp'] = pd.cut(train['temp'], bins = bins, labels = labels)\n",
    "test['temp'] = pd.cut(test['temp'], bins = bins, labels = labels)"
   ]
  },
  {
   "cell_type": "code",
   "execution_count": 29,
   "metadata": {},
   "outputs": [
    {
     "data": {
      "text/plain": [
       "<AxesSubplot:xlabel='temp', ylabel='count'>"
      ]
     },
     "execution_count": 29,
     "metadata": {},
     "output_type": "execute_result"
    },
    {
     "data": {
      "image/png": "[encoded data removed]",
      "text/plain": [
       "<Figure size 432x288 with 1 Axes>"
      ]
     },
     "metadata": {
      "needs_background": "light"
     },
     "output_type": "display_data"
    }
   ],
   "source": [
    "sns.countplot(data = train, x = 'temp', hue='result_text')"
   ]
  },
  {
   "cell_type": "markdown",
   "metadata": {},
   "source": [
    "### 강수량 3mm 를 기준으로 나눠서 시각화"
   ]
  },
  {
   "cell_type": "code",
   "execution_count": 30,
   "metadata": {},
   "outputs": [],
   "source": [
    "bins = [0,4,7,10,13,16,19]  # 구간 만들기\n",
    "labels = ['0~3', '3~6', '6~9', '9~12', '12~15', '15~18']\n",
    "train['rain'] = pd.cut(train['rain'], bins = bins, labels = labels)\n",
    "test['rain'] = pd.cut(test['rain'], bins = bins, labels = labels)"
   ]
  },
  {
   "cell_type": "code",
   "execution_count": 37,
   "metadata": {},
   "outputs": [
    {
     "data": {
      "text/plain": [
       "<AxesSubplot:xlabel='rain', ylabel='count'>"
      ]
     },
     "execution_count": 37,
     "metadata": {},
     "output_type": "execute_result"
    },
    {
     "data": {
      "image/png": "[encoded data removed]",
      "text/plain": [
       "<Figure size 432x288 with 1 Axes>"
      ]
     },
     "metadata": {
      "needs_background": "light"
     },
     "output_type": "display_data"
    }
   ],
   "source": [
    "sns.countplot(data = train, x = 'rain', hue='result_text')"
   ]
  },
  {
   "cell_type": "markdown",
   "metadata": {},
   "source": [
    "### 습도 10% 를 기준으로 나눠서 시각화"
   ]
  },
  {
   "cell_type": "code",
   "execution_count": 34,
   "metadata": {},
   "outputs": [],
   "source": [
    "bins = [0,11,21,31,41,51,61,71,81,91,101]  # 구간 만들기\n",
    "labels = ['0~10', '10~20', '20~30', '30~40', '40~50', '50~60', '60~70', '70~80', '80~90', '90~100']\n",
    "train['humidity'] = pd.cut(train['humidity'], bins = bins, labels = labels)\n",
    "test['humidity'] = pd.cut(test['humidity'], bins = bins, labels = labels)"
   ]
  },
  {
   "cell_type": "code",
   "execution_count": 38,
   "metadata": {},
   "outputs": [
    {
     "data": {
      "text/plain": [
       "<AxesSubplot:xlabel='humidity', ylabel='count'>"
      ]
     },
     "execution_count": 38,
     "metadata": {},
     "output_type": "execute_result"
    },
    {
     "data": {
      "image/png": "[encoded data removed]",
      "text/plain": [
       "<Figure size 432x288 with 1 Axes>"
      ]
     },
     "metadata": {
      "needs_background": "light"
     },
     "output_type": "display_data"
    }
   ],
   "source": [
    "sns.countplot(data = train, x = 'humidity', hue='result_text')"
   ]
  },
  {
   "cell_type": "markdown",
   "metadata": {},
   "source": [
    "### 팀 명 원핫 인코딩"
   ]
  },
  {
   "cell_type": "code",
   "execution_count": 6,
   "metadata": {},
   "outputs": [],
   "source": [
    "train.drop('location', axis = 1 , inplace = True)\n",
    "test.drop('location', axis = 1 , inplace = True)"
   ]
  },
  {
   "cell_type": "code",
   "execution_count": 7,
   "metadata": {},
   "outputs": [],
   "source": [
    "y_train = train['result_text']\n",
    "X_train = train.drop('result_text', axis = 1)\n",
    "y_test = test['result_text']\n",
    "X_test = test.drop('result_text', axis = 1)"
   ]
  },
  {
   "cell_type": "code",
   "execution_count": 8,
   "metadata": {},
   "outputs": [],
   "source": [
    "cat_feature = ['team_text']"
   ]
  },
  {
   "cell_type": "code",
   "execution_count": 9,
   "metadata": {},
   "outputs": [],
   "source": [
    "for i in cat_feature:\n",
    "    dummy = pd.get_dummies(train[i], prefix = i)\n",
    "    X_train = pd.concat([X_train, dummy], axis = 1)\n",
    "    X_train.drop(i, axis=1, inplace = True)"
   ]
  },
  {
   "cell_type": "code",
   "execution_count": 10,
   "metadata": {},
   "outputs": [],
   "source": [
    "for i in cat_feature:\n",
    "    dummy = pd.get_dummies(test[i], prefix = i)\n",
    "    X_test = pd.concat([X_test, dummy], axis = 1)\n",
    "    X_test.drop(i, axis=1, inplace = True)"
   ]
  },
  {
   "cell_type": "code",
   "execution_count": 11,
   "metadata": {},
   "outputs": [
    {
     "name": "stdout",
     "output_type": "stream",
     "text": [
      "<class 'pandas.core.frame.DataFrame'>\n",
      "Index: 7000 entries, 4.7 to 7.7\n",
      "Data columns (total 19 columns):\n",
      " #   Column              Non-Null Count  Dtype  \n",
      "---  ------              --------------  -----  \n",
      " 0   H_text              7000 non-null   int64  \n",
      " 1   HR_text             7000 non-null   int64  \n",
      " 2   S_text              7000 non-null   int64  \n",
      " 3   ST_text             7000 non-null   int64  \n",
      " 4   DU_text             7000 non-null   int64  \n",
      " 5   ER_text             7000 non-null   int64  \n",
      " 6   temp                7000 non-null   float64\n",
      " 7   rain                7000 non-null   float64\n",
      " 8   humidity            7000 non-null   float64\n",
      " 9   team_text_KIA 타이거즈  7000 non-null   uint8  \n",
      " 10  team_text_LG 트윈스    7000 non-null   uint8  \n",
      " 11  team_text_NC 다이노스   7000 non-null   uint8  \n",
      " 12  team_text_SK 와이번스   7000 non-null   uint8  \n",
      " 13  team_text_kt wiz    7000 non-null   uint8  \n",
      " 14  team_text_두산 베어스    7000 non-null   uint8  \n",
      " 15  team_text_롯데 자이언츠   7000 non-null   uint8  \n",
      " 16  team_text_삼성 라이온즈   7000 non-null   uint8  \n",
      " 17  team_text_키움 히어로즈   7000 non-null   uint8  \n",
      " 18  team_text_한화 이글스    7000 non-null   uint8  \n",
      "dtypes: float64(3), int64(6), uint8(10)\n",
      "memory usage: 615.2+ KB\n"
     ]
    }
   ],
   "source": [
    "X_train.info()"
   ]
  },
  {
   "cell_type": "code",
   "execution_count": 12,
   "metadata": {},
   "outputs": [
    {
     "name": "stdout",
     "output_type": "stream",
     "text": [
      "<class 'pandas.core.frame.DataFrame'>\n",
      "Index: 3398 entries, 7.7 to 10.26토\n",
      "Data columns (total 19 columns):\n",
      " #   Column              Non-Null Count  Dtype  \n",
      "---  ------              --------------  -----  \n",
      " 0   H_text              3398 non-null   int64  \n",
      " 1   HR_text             3398 non-null   int64  \n",
      " 2   S_text              3398 non-null   int64  \n",
      " 3   ST_text             3398 non-null   int64  \n",
      " 4   DU_text             3398 non-null   int64  \n",
      " 5   ER_text             3398 non-null   int64  \n",
      " 6   temp                3398 non-null   float64\n",
      " 7   rain                3398 non-null   float64\n",
      " 8   humidity            3398 non-null   int64  \n",
      " 9   team_text_KIA 타이거즈  3398 non-null   uint8  \n",
      " 10  team_text_LG 트윈스    3398 non-null   uint8  \n",
      " 11  team_text_NC 다이노스   3398 non-null   uint8  \n",
      " 12  team_text_SK 와이번스   3398 non-null   uint8  \n",
      " 13  team_text_kt wiz    3398 non-null   uint8  \n",
      " 14  team_text_두산 베어스    3398 non-null   uint8  \n",
      " 15  team_text_롯데 자이언츠   3398 non-null   uint8  \n",
      " 16  team_text_삼성 라이온즈   3398 non-null   uint8  \n",
      " 17  team_text_키움 히어로즈   3398 non-null   uint8  \n",
      " 18  team_text_한화 이글스    3398 non-null   uint8  \n",
      "dtypes: float64(2), int64(7), uint8(10)\n",
      "memory usage: 298.7+ KB\n"
     ]
    }
   ],
   "source": [
    "X_test.info()"
   ]
  },
  {
   "cell_type": "code",
   "execution_count": 13,
   "metadata": {},
   "outputs": [
    {
     "data": {
      "text/plain": [
       "set()"
      ]
     },
     "execution_count": 13,
     "metadata": {},
     "output_type": "execute_result"
    }
   ],
   "source": [
    "set(X_train.columns) - set(X_test.columns)"
   ]
  },
  {
   "cell_type": "markdown",
   "metadata": {},
   "source": [
    "### KNN 모델"
   ]
  },
  {
   "cell_type": "code",
   "execution_count": 14,
   "metadata": {},
   "outputs": [
    {
     "data": {
      "text/plain": [
       "array([0.67      , 0.69571429, 0.68928571, 0.69642857, 0.68071429])"
      ]
     },
     "execution_count": 14,
     "metadata": {},
     "output_type": "execute_result"
    }
   ],
   "source": [
    "knn_model = KNeighborsClassifier(n_neighbors = 50)\n",
    "result = cross_val_score(knn_model,\n",
    "                        X_train,\n",
    "                        y_train,\n",
    "                        cv = 5)\n",
    "result"
   ]
  },
  {
   "cell_type": "code",
   "execution_count": 15,
   "metadata": {},
   "outputs": [
    {
     "data": {
      "text/plain": [
       "0.6864285714285713"
      ]
     },
     "execution_count": 15,
     "metadata": {},
     "output_type": "execute_result"
    }
   ],
   "source": [
    "result.mean()"
   ]
  },
  {
   "cell_type": "markdown",
   "metadata": {},
   "source": [
    "#### KNN Scaler 적용"
   ]
  },
  {
   "cell_type": "code",
   "execution_count": 16,
   "metadata": {},
   "outputs": [],
   "source": [
    "scaler = StandardScaler()"
   ]
  },
  {
   "cell_type": "code",
   "execution_count": 17,
   "metadata": {},
   "outputs": [
    {
     "data": {
      "text/plain": [
       "StandardScaler()"
      ]
     },
     "execution_count": 17,
     "metadata": {},
     "output_type": "execute_result"
    }
   ],
   "source": [
    "scaler.fit(X_train)  # 평균과 표준편차로 scaling 한 값을 컴퓨터가 기억"
   ]
  },
  {
   "cell_type": "code",
   "execution_count": 18,
   "metadata": {},
   "outputs": [
    {
     "data": {
      "text/plain": [
       "array([[ 0.39440379, -0.86226809,  1.10850335, ..., -0.34692725,\n",
       "        -0.34821804,  2.90851499],\n",
       "       [ 0.12547465,  0.09186985,  1.10850335, ..., -0.34692725,\n",
       "        -0.34821804, -0.34381807],\n",
       "       [-0.95024191, -0.86226809,  1.10850335, ..., -0.34692725,\n",
       "        -0.34821804, -0.34381807],\n",
       "       ...,\n",
       "       [-0.41238363, -0.86226809, -0.784987  , ..., -0.34692725,\n",
       "        -0.34821804, -0.34381807],\n",
       "       [ 0.39440379,  2.9542837 , -0.784987  , ..., -0.34692725,\n",
       "        -0.34821804, -0.34381807],\n",
       "       [-0.14345449,  0.09186985, -0.784987  , ..., -0.34692725,\n",
       "        -0.34821804, -0.34381807]])"
      ]
     },
     "execution_count": 18,
     "metadata": {},
     "output_type": "execute_result"
    }
   ],
   "source": [
    "transform_X_train = scaler.transform(X_train)\n",
    "transform_X_train"
   ]
  },
  {
   "cell_type": "code",
   "execution_count": 19,
   "metadata": {},
   "outputs": [
    {
     "data": {
      "text/plain": [
       "array([[ 1.20119121,  2.00014575, -0.784987  , ..., -0.34692725,\n",
       "         2.87176387, -0.34381807],\n",
       "       [ 0.12547465, -0.86226809, -0.784987  , ...,  2.88244872,\n",
       "        -0.34821804, -0.34381807],\n",
       "       [ 0.39440379,  0.09186985,  0.16175818, ..., -0.34692725,\n",
       "        -0.34821804,  2.90851499],\n",
       "       ...,\n",
       "       [-1.48810019, -0.86226809, -0.784987  , ..., -0.34692725,\n",
       "         2.87176387, -0.34381807],\n",
       "       [ 1.20119121, -0.86226809,  0.16175818, ..., -0.34692725,\n",
       "        -0.34821804, -0.34381807],\n",
       "       [ 0.66333293, -0.86226809, -0.784987  , ..., -0.34692725,\n",
       "         2.87176387, -0.34381807]])"
      ]
     },
     "execution_count": 19,
     "metadata": {},
     "output_type": "execute_result"
    }
   ],
   "source": [
    "transform_X_test = scaler.transform(X_test)\n",
    "transform_X_test"
   ]
  },
  {
   "cell_type": "code",
   "execution_count": 20,
   "metadata": {},
   "outputs": [
    {
     "data": {
      "text/plain": [
       "array([0.68571429, 0.70642857, 0.70714286, 0.69571429, 0.69857143])"
      ]
     },
     "execution_count": 20,
     "metadata": {},
     "output_type": "execute_result"
    }
   ],
   "source": [
    "result = cross_val_score(knn_model,\n",
    "                        transform_X_train,\n",
    "                        y_train,\n",
    "                        cv = 5)\n",
    "result"
   ]
  },
  {
   "cell_type": "code",
   "execution_count": 21,
   "metadata": {},
   "outputs": [
    {
     "data": {
      "text/plain": [
       "0.6987142857142856"
      ]
     },
     "execution_count": 21,
     "metadata": {},
     "output_type": "execute_result"
    }
   ],
   "source": [
    "result.mean()"
   ]
  },
  {
   "cell_type": "code",
   "execution_count": 22,
   "metadata": {},
   "outputs": [],
   "source": [
    "y_pred = knn_model.fit(transform_X_train, y_train).predict(transform_X_test)"
   ]
  },
  {
   "cell_type": "code",
   "execution_count": 23,
   "metadata": {},
   "outputs": [
    {
     "name": "stdout",
     "output_type": "stream",
     "text": [
      "총 승패 갯수 3398 에서 틀린 예측 갯수 : 979\n"
     ]
    }
   ],
   "source": [
    "print(\"총 승패 갯수 %d 에서 틀린 예측 갯수 : %d\" % (transform_X_test.shape[0], (y_test != y_pred).sum()))"
   ]
  },
  {
   "cell_type": "code",
   "execution_count": 24,
   "metadata": {},
   "outputs": [
    {
     "name": "stdout",
     "output_type": "stream",
     "text": [
      "예측 정확도: 0.71\n"
     ]
    }
   ],
   "source": [
    "print(\"예측 정확도: {:.2f}\".format(np.mean(y_pred == y_test)))"
   ]
  },
  {
   "cell_type": "markdown",
   "metadata": {},
   "source": [
    "### Decision Tree 모델"
   ]
  },
  {
   "cell_type": "code",
   "execution_count": 25,
   "metadata": {},
   "outputs": [],
   "source": [
    "tree_model = DecisionTreeClassifier(max_depth = 7)"
   ]
  },
  {
   "cell_type": "code",
   "execution_count": 26,
   "metadata": {},
   "outputs": [
    {
     "data": {
      "text/plain": [
       "array([0.68428571, 0.67571429, 0.67714286, 0.65      , 0.66857143,\n",
       "       0.70142857, 0.68571429, 0.67285714, 0.66857143, 0.71571429])"
      ]
     },
     "execution_count": 26,
     "metadata": {},
     "output_type": "execute_result"
    }
   ],
   "source": [
    "result = cross_val_score(tree_model,\n",
    "                        X_train,\n",
    "                        y_train,\n",
    "                        cv = 10)\n",
    "result"
   ]
  },
  {
   "cell_type": "code",
   "execution_count": 27,
   "metadata": {},
   "outputs": [
    {
     "data": {
      "text/plain": [
       "0.68"
      ]
     },
     "execution_count": 27,
     "metadata": {},
     "output_type": "execute_result"
    }
   ],
   "source": [
    "result.mean()"
   ]
  },
  {
   "cell_type": "code",
   "execution_count": 28,
   "metadata": {},
   "outputs": [],
   "source": [
    "y_pred = tree_model.fit(X_train, y_train).predict(X_test)"
   ]
  },
  {
   "cell_type": "code",
   "execution_count": 29,
   "metadata": {},
   "outputs": [
    {
     "name": "stdout",
     "output_type": "stream",
     "text": [
      "총 승패 갯수 3398 에서 틀린 예측 갯수 : 1020\n"
     ]
    }
   ],
   "source": [
    "print(\"총 승패 갯수 %d 에서 틀린 예측 갯수 : %d\" % (X_test.shape[0], (y_test != y_pred).sum()))"
   ]
  },
  {
   "cell_type": "code",
   "execution_count": 30,
   "metadata": {},
   "outputs": [
    {
     "name": "stdout",
     "output_type": "stream",
     "text": [
      "예측 정확도: 0.70\n"
     ]
    }
   ],
   "source": [
    "print(\"예측 정확도: {:.2f}\".format(np.mean(y_pred == y_test)))"
   ]
  },
  {
   "cell_type": "markdown",
   "metadata": {},
   "source": [
    "### Naive Bayes 분류 모델"
   ]
  },
  {
   "cell_type": "code",
   "execution_count": 31,
   "metadata": {},
   "outputs": [],
   "source": [
    "from sklearn.naive_bayes import GaussianNB"
   ]
  },
  {
   "cell_type": "code",
   "execution_count": 32,
   "metadata": {},
   "outputs": [],
   "source": [
    "nb = GaussianNB()"
   ]
  },
  {
   "cell_type": "code",
   "execution_count": 33,
   "metadata": {},
   "outputs": [],
   "source": [
    "y_pred = nb.fit(X_train, y_train).predict(X_test)"
   ]
  },
  {
   "cell_type": "code",
   "execution_count": 34,
   "metadata": {},
   "outputs": [
    {
     "name": "stdout",
     "output_type": "stream",
     "text": [
      "총 승패 갯수 3398 에서 틀린 예측 갯수 : 1072\n"
     ]
    }
   ],
   "source": [
    "print(\"총 승패 갯수 %d 에서 틀린 예측 갯수 : %d\" % (X_test.shape[0], (y_test != y_pred).sum()))"
   ]
  },
  {
   "cell_type": "code",
   "execution_count": 35,
   "metadata": {},
   "outputs": [
    {
     "name": "stdout",
     "output_type": "stream",
     "text": [
      "예측 정확도: 0.68\n"
     ]
    }
   ],
   "source": [
    "print(\"예측 정확도: {:.2f}\".format(np.mean(y_pred == y_test)))"
   ]
  },
  {
   "cell_type": "markdown",
   "metadata": {},
   "source": [
    "### SVM 분류 모델"
   ]
  },
  {
   "cell_type": "code",
   "execution_count": 36,
   "metadata": {},
   "outputs": [],
   "source": [
    "svm_model = SVC(kernel='rbf', C=300, gamma=0.0001)"
   ]
  },
  {
   "cell_type": "code",
   "execution_count": 37,
   "metadata": {},
   "outputs": [],
   "source": [
    "y_pred = svm_model.fit(X_train, y_train).predict(X_test)"
   ]
  },
  {
   "cell_type": "code",
   "execution_count": 38,
   "metadata": {},
   "outputs": [
    {
     "name": "stdout",
     "output_type": "stream",
     "text": [
      "총 승패 갯수 3398 에서 틀린 예측 갯수 : 958\n"
     ]
    }
   ],
   "source": [
    "print(\"총 승패 갯수 %d 에서 틀린 예측 갯수 : %d\" % (X_test.shape[0], (y_test != y_pred).sum()))"
   ]
  },
  {
   "cell_type": "code",
   "execution_count": 39,
   "metadata": {},
   "outputs": [
    {
     "name": "stdout",
     "output_type": "stream",
     "text": [
      "예측 정확도: 0.72\n"
     ]
    }
   ],
   "source": [
    "print(\"예측 정확도: {:.2f}\".format(np.mean(y_pred == y_test)))"
   ]
  },
  {
   "cell_type": "code",
   "execution_count": null,
   "metadata": {},
   "outputs": [],
   "source": []
  }
 ],
 "metadata": {
  "kernelspec": {
   "display_name": "Python 3",
   "language": "python",
   "name": "python3"
  },
  "language_info": {
   "codemirror_mode": {
    "name": "ipython",
    "version": 3
   },
   "file_extension": ".py",
   "mimetype": "text/x-python",
   "name": "python",
   "nbconvert_exporter": "python",
   "pygments_lexer": "ipython3",
   "version": "3.8.5"
  }
 },
 "nbformat": 4,
 "nbformat_minor": 4
}
