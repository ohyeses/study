{
 "cells": [
  {
   "cell_type": "code",
   "execution_count": 1,
   "metadata": {},
   "outputs": [],
   "source": [
    "import requests\n",
    "import numpy as np\n",
    "import pandas as pd\n",
    "import matplotlib.pyplot as plt"
   ]
  },
  {
   "cell_type": "code",
   "execution_count": 2,
   "metadata": {},
   "outputs": [],
   "source": [
    "from datetime import datetime, timedelta"
   ]
  },
  {
   "cell_type": "code",
   "execution_count": 3,
   "metadata": {},
   "outputs": [],
   "source": [
    "data = pd.read_csv('Data/모기3_강수량0.csv', encoding=\"euc-kr\")"
   ]
  },
  {
   "cell_type": "code",
   "execution_count": 4,
   "metadata": {},
   "outputs": [],
   "source": [
    "data_w = pd.read_csv('Data/일기상정보.csv', encoding=\"euc-kr\")"
   ]
  },
  {
   "cell_type": "code",
   "execution_count": 5,
   "metadata": {
    "scrolled": true
   },
   "outputs": [
    {
     "data": {
      "text/plain": [
       "Index(['연도', '월', '모기 활동 여부', '모기지수 발생일', '모기지수(주거지)', '분류', '최저기온(°C)',\n",
       "       '최고기온(°C)', '일강수량(mm)', '평균 풍속(m/s)', '최다풍향(16방위)', '평균 상대습도(%)', '일출',\n",
       "       '일몰', '일조량', '평균 전운량(1/10)', '0.5m 지중온도(°C)'],\n",
       "      dtype='object')"
      ]
     },
     "execution_count": 5,
     "metadata": {},
     "output_type": "execute_result"
    }
   ],
   "source": [
    "data.columns"
   ]
  },
  {
   "cell_type": "code",
   "execution_count": 6,
   "metadata": {},
   "outputs": [],
   "source": [
    "data.drop(['연도', '모기지수(주거지)'], axis= 1, inplace=True)"
   ]
  },
  {
   "cell_type": "code",
   "execution_count": 7,
   "metadata": {
    "scrolled": true
   },
   "outputs": [
    {
     "data": {
      "text/plain": [
       "0.0     491\n",
       "0.5      24\n",
       "0.1      14\n",
       "1.0      10\n",
       "0.2       9\n",
       "       ... \n",
       "7.6       1\n",
       "25.4      1\n",
       "1.1       1\n",
       "16.2      1\n",
       "34.5      1\n",
       "Name: 일강수량(mm), Length: 107, dtype: int64"
      ]
     },
     "execution_count": 7,
     "metadata": {},
     "output_type": "execute_result"
    }
   ],
   "source": [
    "data['일강수량(mm)'].value_counts()"
   ]
  },
  {
   "cell_type": "code",
   "execution_count": 8,
   "metadata": {},
   "outputs": [
    {
     "data": {
      "text/html": [
       "<div>\n",
       "<style scoped>\n",
       "    .dataframe tbody tr th:only-of-type {\n",
       "        vertical-align: middle;\n",
       "    }\n",
       "\n",
       "    .dataframe tbody tr th {\n",
       "        vertical-align: top;\n",
       "    }\n",
       "\n",
       "    .dataframe thead th {\n",
       "        text-align: right;\n",
       "    }\n",
       "</style>\n",
       "<table border=\"1\" class=\"dataframe\">\n",
       "  <thead>\n",
       "    <tr style=\"text-align: right;\">\n",
       "      <th></th>\n",
       "      <th>월</th>\n",
       "      <th>모기 활동 여부</th>\n",
       "      <th>모기지수 발생일</th>\n",
       "      <th>분류</th>\n",
       "      <th>최저기온(°C)</th>\n",
       "      <th>최고기온(°C)</th>\n",
       "      <th>일강수량(mm)</th>\n",
       "      <th>평균 풍속(m/s)</th>\n",
       "      <th>최다풍향(16방위)</th>\n",
       "      <th>평균 상대습도(%)</th>\n",
       "      <th>일출</th>\n",
       "      <th>일몰</th>\n",
       "      <th>일조량</th>\n",
       "      <th>평균 전운량(1/10)</th>\n",
       "      <th>0.5m 지중온도(°C)</th>\n",
       "    </tr>\n",
       "  </thead>\n",
       "  <tbody>\n",
       "    <tr>\n",
       "      <th>0</th>\n",
       "      <td>5</td>\n",
       "      <td>0</td>\n",
       "      <td>2016-05-01</td>\n",
       "      <td>관심</td>\n",
       "      <td>12.2</td>\n",
       "      <td>26.0</td>\n",
       "      <td>0.0</td>\n",
       "      <td>2.2</td>\n",
       "      <td>250.0</td>\n",
       "      <td>40.5</td>\n",
       "      <td>5:37</td>\n",
       "      <td>19:22</td>\n",
       "      <td>NaN</td>\n",
       "      <td>5.6</td>\n",
       "      <td>15.8</td>\n",
       "    </tr>\n",
       "    <tr>\n",
       "      <th>1</th>\n",
       "      <td>5</td>\n",
       "      <td>1</td>\n",
       "      <td>2016-05-02</td>\n",
       "      <td>관심</td>\n",
       "      <td>16.5</td>\n",
       "      <td>28.4</td>\n",
       "      <td>16.5</td>\n",
       "      <td>2.2</td>\n",
       "      <td>200.0</td>\n",
       "      <td>64.5</td>\n",
       "      <td>5:36</td>\n",
       "      <td>19:23</td>\n",
       "      <td>NaN</td>\n",
       "      <td>7.0</td>\n",
       "      <td>16.3</td>\n",
       "    </tr>\n",
       "    <tr>\n",
       "      <th>2</th>\n",
       "      <td>5</td>\n",
       "      <td>0</td>\n",
       "      <td>2016-05-03</td>\n",
       "      <td>관심</td>\n",
       "      <td>8.9</td>\n",
       "      <td>17.6</td>\n",
       "      <td>27.0</td>\n",
       "      <td>4.9</td>\n",
       "      <td>270.0</td>\n",
       "      <td>86.1</td>\n",
       "      <td>5:35</td>\n",
       "      <td>19:24</td>\n",
       "      <td>NaN</td>\n",
       "      <td>10.0</td>\n",
       "      <td>17.3</td>\n",
       "    </tr>\n",
       "    <tr>\n",
       "      <th>3</th>\n",
       "      <td>5</td>\n",
       "      <td>0</td>\n",
       "      <td>2016-05-04</td>\n",
       "      <td>관심</td>\n",
       "      <td>10.2</td>\n",
       "      <td>20.6</td>\n",
       "      <td>0.0</td>\n",
       "      <td>5.1</td>\n",
       "      <td>290.0</td>\n",
       "      <td>46.6</td>\n",
       "      <td>5:33</td>\n",
       "      <td>19:25</td>\n",
       "      <td>NaN</td>\n",
       "      <td>1.6</td>\n",
       "      <td>16.0</td>\n",
       "    </tr>\n",
       "    <tr>\n",
       "      <th>4</th>\n",
       "      <td>5</td>\n",
       "      <td>0</td>\n",
       "      <td>2016-05-05</td>\n",
       "      <td>쾌적</td>\n",
       "      <td>10.2</td>\n",
       "      <td>26.9</td>\n",
       "      <td>7.5</td>\n",
       "      <td>1.7</td>\n",
       "      <td>320.0</td>\n",
       "      <td>50.8</td>\n",
       "      <td>5:32</td>\n",
       "      <td>19:26</td>\n",
       "      <td>NaN</td>\n",
       "      <td>4.5</td>\n",
       "      <td>16.0</td>\n",
       "    </tr>\n",
       "    <tr>\n",
       "      <th>...</th>\n",
       "      <td>...</td>\n",
       "      <td>...</td>\n",
       "      <td>...</td>\n",
       "      <td>...</td>\n",
       "      <td>...</td>\n",
       "      <td>...</td>\n",
       "      <td>...</td>\n",
       "      <td>...</td>\n",
       "      <td>...</td>\n",
       "      <td>...</td>\n",
       "      <td>...</td>\n",
       "      <td>...</td>\n",
       "      <td>...</td>\n",
       "      <td>...</td>\n",
       "      <td>...</td>\n",
       "    </tr>\n",
       "    <tr>\n",
       "      <th>722</th>\n",
       "      <td>10</td>\n",
       "      <td>0</td>\n",
       "      <td>2019-10-27</td>\n",
       "      <td>쾌적</td>\n",
       "      <td>4.7</td>\n",
       "      <td>17.4</td>\n",
       "      <td>0.0</td>\n",
       "      <td>1.6</td>\n",
       "      <td>290.0</td>\n",
       "      <td>59.0</td>\n",
       "      <td>6:51</td>\n",
       "      <td>17:40</td>\n",
       "      <td>NaN</td>\n",
       "      <td>0.9</td>\n",
       "      <td>17.7</td>\n",
       "    </tr>\n",
       "    <tr>\n",
       "      <th>723</th>\n",
       "      <td>10</td>\n",
       "      <td>0</td>\n",
       "      <td>2019-10-28</td>\n",
       "      <td>쾌적</td>\n",
       "      <td>7.4</td>\n",
       "      <td>17.7</td>\n",
       "      <td>1.7</td>\n",
       "      <td>2.5</td>\n",
       "      <td>200.0</td>\n",
       "      <td>65.9</td>\n",
       "      <td>6:52</td>\n",
       "      <td>17:39</td>\n",
       "      <td>NaN</td>\n",
       "      <td>5.6</td>\n",
       "      <td>17.1</td>\n",
       "    </tr>\n",
       "    <tr>\n",
       "      <th>724</th>\n",
       "      <td>10</td>\n",
       "      <td>0</td>\n",
       "      <td>2019-10-29</td>\n",
       "      <td>쾌적</td>\n",
       "      <td>8.2</td>\n",
       "      <td>17.6</td>\n",
       "      <td>0.1</td>\n",
       "      <td>2.3</td>\n",
       "      <td>270.0</td>\n",
       "      <td>61.0</td>\n",
       "      <td>6:53</td>\n",
       "      <td>17:38</td>\n",
       "      <td>NaN</td>\n",
       "      <td>1.6</td>\n",
       "      <td>17.0</td>\n",
       "    </tr>\n",
       "    <tr>\n",
       "      <th>725</th>\n",
       "      <td>10</td>\n",
       "      <td>0</td>\n",
       "      <td>2019-10-30</td>\n",
       "      <td>쾌적</td>\n",
       "      <td>5.0</td>\n",
       "      <td>17.7</td>\n",
       "      <td>0.0</td>\n",
       "      <td>1.6</td>\n",
       "      <td>270.0</td>\n",
       "      <td>60.3</td>\n",
       "      <td>6:54</td>\n",
       "      <td>17:37</td>\n",
       "      <td>NaN</td>\n",
       "      <td>0.3</td>\n",
       "      <td>16.6</td>\n",
       "    </tr>\n",
       "    <tr>\n",
       "      <th>726</th>\n",
       "      <td>10</td>\n",
       "      <td>0</td>\n",
       "      <td>2019-10-31</td>\n",
       "      <td>쾌적</td>\n",
       "      <td>8.4</td>\n",
       "      <td>19.7</td>\n",
       "      <td>0.0</td>\n",
       "      <td>2.3</td>\n",
       "      <td>230.0</td>\n",
       "      <td>73.8</td>\n",
       "      <td>6:55</td>\n",
       "      <td>17:36</td>\n",
       "      <td>NaN</td>\n",
       "      <td>4.6</td>\n",
       "      <td>16.2</td>\n",
       "    </tr>\n",
       "  </tbody>\n",
       "</table>\n",
       "<p>727 rows × 15 columns</p>\n",
       "</div>"
      ],
      "text/plain": [
       "      월  모기 활동 여부    모기지수 발생일  분류  최저기온(°C)  최고기온(°C)  일강수량(mm)  평균 풍속(m/s)  \\\n",
       "0     5         0  2016-05-01  관심      12.2      26.0       0.0         2.2   \n",
       "1     5         1  2016-05-02  관심      16.5      28.4      16.5         2.2   \n",
       "2     5         0  2016-05-03  관심       8.9      17.6      27.0         4.9   \n",
       "3     5         0  2016-05-04  관심      10.2      20.6       0.0         5.1   \n",
       "4     5         0  2016-05-05  쾌적      10.2      26.9       7.5         1.7   \n",
       "..   ..       ...         ...  ..       ...       ...       ...         ...   \n",
       "722  10         0  2019-10-27  쾌적       4.7      17.4       0.0         1.6   \n",
       "723  10         0  2019-10-28  쾌적       7.4      17.7       1.7         2.5   \n",
       "724  10         0  2019-10-29  쾌적       8.2      17.6       0.1         2.3   \n",
       "725  10         0  2019-10-30  쾌적       5.0      17.7       0.0         1.6   \n",
       "726  10         0  2019-10-31  쾌적       8.4      19.7       0.0         2.3   \n",
       "\n",
       "     최다풍향(16방위)  평균 상대습도(%)    일출     일몰  일조량  평균 전운량(1/10)  0.5m 지중온도(°C)  \n",
       "0         250.0        40.5  5:37  19:22  NaN           5.6           15.8  \n",
       "1         200.0        64.5  5:36  19:23  NaN           7.0           16.3  \n",
       "2         270.0        86.1  5:35  19:24  NaN          10.0           17.3  \n",
       "3         290.0        46.6  5:33  19:25  NaN           1.6           16.0  \n",
       "4         320.0        50.8  5:32  19:26  NaN           4.5           16.0  \n",
       "..          ...         ...   ...    ...  ...           ...            ...  \n",
       "722       290.0        59.0  6:51  17:40  NaN           0.9           17.7  \n",
       "723       200.0        65.9  6:52  17:39  NaN           5.6           17.1  \n",
       "724       270.0        61.0  6:53  17:38  NaN           1.6           17.0  \n",
       "725       270.0        60.3  6:54  17:37  NaN           0.3           16.6  \n",
       "726       230.0        73.8  6:55  17:36  NaN           4.6           16.2  \n",
       "\n",
       "[727 rows x 15 columns]"
      ]
     },
     "execution_count": 8,
     "metadata": {},
     "output_type": "execute_result"
    }
   ],
   "source": [
    "data"
   ]
  },
  {
   "cell_type": "code",
   "execution_count": 9,
   "metadata": {},
   "outputs": [],
   "source": [
    "data['평균기온'] = (data['최저기온(°C)'] + data['최고기온(°C)']) / 2"
   ]
  },
  {
   "cell_type": "code",
   "execution_count": 10,
   "metadata": {},
   "outputs": [],
   "source": [
    "data['최저기온**2'] = data['최저기온(°C)']**2"
   ]
  },
  {
   "cell_type": "code",
   "execution_count": 11,
   "metadata": {},
   "outputs": [],
   "source": [
    "data['상대습도*강수량'] = data['평균 상대습도(%)']*data['일강수량(mm)']"
   ]
  },
  {
   "cell_type": "code",
   "execution_count": 12,
   "metadata": {},
   "outputs": [
    {
     "data": {
      "text/plain": [
       "str"
      ]
     },
     "execution_count": 12,
     "metadata": {},
     "output_type": "execute_result"
    }
   ],
   "source": [
    "type(data['일출'][0])"
   ]
  },
  {
   "cell_type": "code",
   "execution_count": 13,
   "metadata": {},
   "outputs": [
    {
     "name": "stderr",
     "output_type": "stream",
     "text": [
      "<ipython-input-13-998add542255>:13: SettingWithCopyWarning: \n",
      "A value is trying to be set on a copy of a slice from a DataFrame\n",
      "\n",
      "See the caveats in the documentation: https://pandas.pydata.org/pandas-docs/stable/user_guide/indexing.html#returning-a-view-versus-a-copy\n",
      "  data['일조량'][i] = sun_time\n"
     ]
    }
   ],
   "source": [
    "for i in range(len(data)):\n",
    "    year = int(data['모기지수 발생일'][i][:4])\n",
    "    month = int(data['모기지수 발생일'][i][5:7])\n",
    "    day = int(data['모기지수 발생일'][i][8:])\n",
    "    hour = int(data['일출'][i][:1])\n",
    "    minute = int(data['일출'][i][3:])\n",
    "    hour2 = int(data['일몰'][i][:2])\n",
    "    minute2 = int(data['일몰'][i][3:])\n",
    "    date_rise = datetime(year, month, day, hour, minute, 0)\n",
    "    date_set = datetime(year, month, day, hour2, minute2, 0)\n",
    "    sun = date_set - date_rise\n",
    "    sun_time = round((sun.seconds)/3600, 1)\n",
    "    data['일조량'][i] = sun_time"
   ]
  },
  {
   "cell_type": "code",
   "execution_count": 14,
   "metadata": {
    "scrolled": false
   },
   "outputs": [
    {
     "data": {
      "text/html": [
       "<div>\n",
       "<style scoped>\n",
       "    .dataframe tbody tr th:only-of-type {\n",
       "        vertical-align: middle;\n",
       "    }\n",
       "\n",
       "    .dataframe tbody tr th {\n",
       "        vertical-align: top;\n",
       "    }\n",
       "\n",
       "    .dataframe thead th {\n",
       "        text-align: right;\n",
       "    }\n",
       "</style>\n",
       "<table border=\"1\" class=\"dataframe\">\n",
       "  <thead>\n",
       "    <tr style=\"text-align: right;\">\n",
       "      <th></th>\n",
       "      <th>일출</th>\n",
       "      <th>일몰</th>\n",
       "      <th>일조량</th>\n",
       "    </tr>\n",
       "  </thead>\n",
       "  <tbody>\n",
       "    <tr>\n",
       "      <th>0</th>\n",
       "      <td>5:37</td>\n",
       "      <td>19:22</td>\n",
       "      <td>14.2</td>\n",
       "    </tr>\n",
       "    <tr>\n",
       "      <th>1</th>\n",
       "      <td>5:36</td>\n",
       "      <td>19:23</td>\n",
       "      <td>14.3</td>\n",
       "    </tr>\n",
       "    <tr>\n",
       "      <th>2</th>\n",
       "      <td>5:35</td>\n",
       "      <td>19:24</td>\n",
       "      <td>14.3</td>\n",
       "    </tr>\n",
       "    <tr>\n",
       "      <th>3</th>\n",
       "      <td>5:33</td>\n",
       "      <td>19:25</td>\n",
       "      <td>14.4</td>\n",
       "    </tr>\n",
       "    <tr>\n",
       "      <th>4</th>\n",
       "      <td>5:32</td>\n",
       "      <td>19:26</td>\n",
       "      <td>14.4</td>\n",
       "    </tr>\n",
       "    <tr>\n",
       "      <th>...</th>\n",
       "      <td>...</td>\n",
       "      <td>...</td>\n",
       "      <td>...</td>\n",
       "    </tr>\n",
       "    <tr>\n",
       "      <th>722</th>\n",
       "      <td>6:51</td>\n",
       "      <td>17:40</td>\n",
       "      <td>11.7</td>\n",
       "    </tr>\n",
       "    <tr>\n",
       "      <th>723</th>\n",
       "      <td>6:52</td>\n",
       "      <td>17:39</td>\n",
       "      <td>11.6</td>\n",
       "    </tr>\n",
       "    <tr>\n",
       "      <th>724</th>\n",
       "      <td>6:53</td>\n",
       "      <td>17:38</td>\n",
       "      <td>11.6</td>\n",
       "    </tr>\n",
       "    <tr>\n",
       "      <th>725</th>\n",
       "      <td>6:54</td>\n",
       "      <td>17:37</td>\n",
       "      <td>11.6</td>\n",
       "    </tr>\n",
       "    <tr>\n",
       "      <th>726</th>\n",
       "      <td>6:55</td>\n",
       "      <td>17:36</td>\n",
       "      <td>11.5</td>\n",
       "    </tr>\n",
       "  </tbody>\n",
       "</table>\n",
       "<p>727 rows × 3 columns</p>\n",
       "</div>"
      ],
      "text/plain": [
       "       일출     일몰   일조량\n",
       "0    5:37  19:22  14.2\n",
       "1    5:36  19:23  14.3\n",
       "2    5:35  19:24  14.3\n",
       "3    5:33  19:25  14.4\n",
       "4    5:32  19:26  14.4\n",
       "..    ...    ...   ...\n",
       "722  6:51  17:40  11.7\n",
       "723  6:52  17:39  11.6\n",
       "724  6:53  17:38  11.6\n",
       "725  6:54  17:37  11.6\n",
       "726  6:55  17:36  11.5\n",
       "\n",
       "[727 rows x 3 columns]"
      ]
     },
     "execution_count": 14,
     "metadata": {},
     "output_type": "execute_result"
    }
   ],
   "source": [
    "data[['일출','일몰','일조량']]"
   ]
  },
  {
   "cell_type": "code",
   "execution_count": 15,
   "metadata": {},
   "outputs": [],
   "source": [
    "data['일조량'] = data['일조량'].astype('float')"
   ]
  },
  {
   "cell_type": "code",
   "execution_count": 16,
   "metadata": {},
   "outputs": [],
   "source": [
    "data['일출'] = pd.to_numeric(data['일출'].str.replace(':',''))"
   ]
  },
  {
   "cell_type": "code",
   "execution_count": 17,
   "metadata": {},
   "outputs": [],
   "source": [
    "data['일몰'] = pd.to_numeric(data['일몰'].str.replace(':',''))"
   ]
  },
  {
   "cell_type": "code",
   "execution_count": 18,
   "metadata": {
    "scrolled": true
   },
   "outputs": [
    {
     "data": {
      "text/html": [
       "<div>\n",
       "<style scoped>\n",
       "    .dataframe tbody tr th:only-of-type {\n",
       "        vertical-align: middle;\n",
       "    }\n",
       "\n",
       "    .dataframe tbody tr th {\n",
       "        vertical-align: top;\n",
       "    }\n",
       "\n",
       "    .dataframe thead th {\n",
       "        text-align: right;\n",
       "    }\n",
       "</style>\n",
       "<table border=\"1\" class=\"dataframe\">\n",
       "  <thead>\n",
       "    <tr style=\"text-align: right;\">\n",
       "      <th></th>\n",
       "      <th>일출</th>\n",
       "      <th>일몰</th>\n",
       "    </tr>\n",
       "  </thead>\n",
       "  <tbody>\n",
       "    <tr>\n",
       "      <th>0</th>\n",
       "      <td>537</td>\n",
       "      <td>1922</td>\n",
       "    </tr>\n",
       "    <tr>\n",
       "      <th>1</th>\n",
       "      <td>536</td>\n",
       "      <td>1923</td>\n",
       "    </tr>\n",
       "    <tr>\n",
       "      <th>2</th>\n",
       "      <td>535</td>\n",
       "      <td>1924</td>\n",
       "    </tr>\n",
       "    <tr>\n",
       "      <th>3</th>\n",
       "      <td>533</td>\n",
       "      <td>1925</td>\n",
       "    </tr>\n",
       "    <tr>\n",
       "      <th>4</th>\n",
       "      <td>532</td>\n",
       "      <td>1926</td>\n",
       "    </tr>\n",
       "    <tr>\n",
       "      <th>...</th>\n",
       "      <td>...</td>\n",
       "      <td>...</td>\n",
       "    </tr>\n",
       "    <tr>\n",
       "      <th>722</th>\n",
       "      <td>651</td>\n",
       "      <td>1740</td>\n",
       "    </tr>\n",
       "    <tr>\n",
       "      <th>723</th>\n",
       "      <td>652</td>\n",
       "      <td>1739</td>\n",
       "    </tr>\n",
       "    <tr>\n",
       "      <th>724</th>\n",
       "      <td>653</td>\n",
       "      <td>1738</td>\n",
       "    </tr>\n",
       "    <tr>\n",
       "      <th>725</th>\n",
       "      <td>654</td>\n",
       "      <td>1737</td>\n",
       "    </tr>\n",
       "    <tr>\n",
       "      <th>726</th>\n",
       "      <td>655</td>\n",
       "      <td>1736</td>\n",
       "    </tr>\n",
       "  </tbody>\n",
       "</table>\n",
       "<p>727 rows × 2 columns</p>\n",
       "</div>"
      ],
      "text/plain": [
       "      일출    일몰\n",
       "0    537  1922\n",
       "1    536  1923\n",
       "2    535  1924\n",
       "3    533  1925\n",
       "4    532  1926\n",
       "..   ...   ...\n",
       "722  651  1740\n",
       "723  652  1739\n",
       "724  653  1738\n",
       "725  654  1737\n",
       "726  655  1736\n",
       "\n",
       "[727 rows x 2 columns]"
      ]
     },
     "execution_count": 18,
     "metadata": {},
     "output_type": "execute_result"
    }
   ],
   "source": [
    "data[['일출', '일몰']]"
   ]
  },
  {
   "cell_type": "code",
   "execution_count": 19,
   "metadata": {},
   "outputs": [
    {
     "name": "stdout",
     "output_type": "stream",
     "text": [
      "<class 'pandas.core.frame.DataFrame'>\n",
      "RangeIndex: 727 entries, 0 to 726\n",
      "Data columns (total 18 columns):\n",
      " #   Column         Non-Null Count  Dtype  \n",
      "---  ------         --------------  -----  \n",
      " 0   월              727 non-null    int64  \n",
      " 1   모기 활동 여부       727 non-null    int64  \n",
      " 2   모기지수 발생일       727 non-null    object \n",
      " 3   분류             727 non-null    object \n",
      " 4   최저기온(°C)       727 non-null    float64\n",
      " 5   최고기온(°C)       727 non-null    float64\n",
      " 6   일강수량(mm)       727 non-null    float64\n",
      " 7   평균 풍속(m/s)     726 non-null    float64\n",
      " 8   최다풍향(16방위)     726 non-null    float64\n",
      " 9   평균 상대습도(%)     727 non-null    float64\n",
      " 10  일출             727 non-null    int64  \n",
      " 11  일몰             727 non-null    int64  \n",
      " 12  일조량            727 non-null    float64\n",
      " 13  평균 전운량(1/10)   727 non-null    float64\n",
      " 14  0.5m 지중온도(°C)  727 non-null    float64\n",
      " 15  평균기온           727 non-null    float64\n",
      " 16  최저기온**2        727 non-null    float64\n",
      " 17  상대습도*강수량       727 non-null    float64\n",
      "dtypes: float64(12), int64(4), object(2)\n",
      "memory usage: 102.4+ KB\n"
     ]
    }
   ],
   "source": [
    "data.info()"
   ]
  },
  {
   "cell_type": "code",
   "execution_count": 20,
   "metadata": {},
   "outputs": [
    {
     "data": {
      "text/html": [
       "<div>\n",
       "<style scoped>\n",
       "    .dataframe tbody tr th:only-of-type {\n",
       "        vertical-align: middle;\n",
       "    }\n",
       "\n",
       "    .dataframe tbody tr th {\n",
       "        vertical-align: top;\n",
       "    }\n",
       "\n",
       "    .dataframe thead th {\n",
       "        text-align: right;\n",
       "    }\n",
       "</style>\n",
       "<table border=\"1\" class=\"dataframe\">\n",
       "  <thead>\n",
       "    <tr style=\"text-align: right;\">\n",
       "      <th></th>\n",
       "      <th>월</th>\n",
       "      <th>모기 활동 여부</th>\n",
       "      <th>모기지수 발생일</th>\n",
       "      <th>분류</th>\n",
       "      <th>최저기온(°C)</th>\n",
       "      <th>최고기온(°C)</th>\n",
       "      <th>일강수량(mm)</th>\n",
       "      <th>평균 풍속(m/s)</th>\n",
       "      <th>최다풍향(16방위)</th>\n",
       "      <th>평균 상대습도(%)</th>\n",
       "      <th>일출</th>\n",
       "      <th>일몰</th>\n",
       "      <th>일조량</th>\n",
       "      <th>평균 전운량(1/10)</th>\n",
       "      <th>0.5m 지중온도(°C)</th>\n",
       "      <th>평균기온</th>\n",
       "      <th>최저기온**2</th>\n",
       "      <th>상대습도*강수량</th>\n",
       "    </tr>\n",
       "  </thead>\n",
       "  <tbody>\n",
       "    <tr>\n",
       "      <th>0</th>\n",
       "      <td>5</td>\n",
       "      <td>0</td>\n",
       "      <td>2016-05-01</td>\n",
       "      <td>관심</td>\n",
       "      <td>12.2</td>\n",
       "      <td>26.0</td>\n",
       "      <td>0.0</td>\n",
       "      <td>2.2</td>\n",
       "      <td>250.0</td>\n",
       "      <td>40.5</td>\n",
       "      <td>537</td>\n",
       "      <td>1922</td>\n",
       "      <td>14.2</td>\n",
       "      <td>5.6</td>\n",
       "      <td>15.8</td>\n",
       "      <td>19.10</td>\n",
       "      <td>148.84</td>\n",
       "      <td>0.00</td>\n",
       "    </tr>\n",
       "    <tr>\n",
       "      <th>1</th>\n",
       "      <td>5</td>\n",
       "      <td>1</td>\n",
       "      <td>2016-05-02</td>\n",
       "      <td>관심</td>\n",
       "      <td>16.5</td>\n",
       "      <td>28.4</td>\n",
       "      <td>16.5</td>\n",
       "      <td>2.2</td>\n",
       "      <td>200.0</td>\n",
       "      <td>64.5</td>\n",
       "      <td>536</td>\n",
       "      <td>1923</td>\n",
       "      <td>14.3</td>\n",
       "      <td>7.0</td>\n",
       "      <td>16.3</td>\n",
       "      <td>22.45</td>\n",
       "      <td>272.25</td>\n",
       "      <td>1064.25</td>\n",
       "    </tr>\n",
       "    <tr>\n",
       "      <th>2</th>\n",
       "      <td>5</td>\n",
       "      <td>0</td>\n",
       "      <td>2016-05-03</td>\n",
       "      <td>관심</td>\n",
       "      <td>8.9</td>\n",
       "      <td>17.6</td>\n",
       "      <td>27.0</td>\n",
       "      <td>4.9</td>\n",
       "      <td>270.0</td>\n",
       "      <td>86.1</td>\n",
       "      <td>535</td>\n",
       "      <td>1924</td>\n",
       "      <td>14.3</td>\n",
       "      <td>10.0</td>\n",
       "      <td>17.3</td>\n",
       "      <td>13.25</td>\n",
       "      <td>79.21</td>\n",
       "      <td>2324.70</td>\n",
       "    </tr>\n",
       "    <tr>\n",
       "      <th>3</th>\n",
       "      <td>5</td>\n",
       "      <td>0</td>\n",
       "      <td>2016-05-04</td>\n",
       "      <td>관심</td>\n",
       "      <td>10.2</td>\n",
       "      <td>20.6</td>\n",
       "      <td>0.0</td>\n",
       "      <td>5.1</td>\n",
       "      <td>290.0</td>\n",
       "      <td>46.6</td>\n",
       "      <td>533</td>\n",
       "      <td>1925</td>\n",
       "      <td>14.4</td>\n",
       "      <td>1.6</td>\n",
       "      <td>16.0</td>\n",
       "      <td>15.40</td>\n",
       "      <td>104.04</td>\n",
       "      <td>0.00</td>\n",
       "    </tr>\n",
       "    <tr>\n",
       "      <th>4</th>\n",
       "      <td>5</td>\n",
       "      <td>0</td>\n",
       "      <td>2016-05-05</td>\n",
       "      <td>쾌적</td>\n",
       "      <td>10.2</td>\n",
       "      <td>26.9</td>\n",
       "      <td>7.5</td>\n",
       "      <td>1.7</td>\n",
       "      <td>320.0</td>\n",
       "      <td>50.8</td>\n",
       "      <td>532</td>\n",
       "      <td>1926</td>\n",
       "      <td>14.4</td>\n",
       "      <td>4.5</td>\n",
       "      <td>16.0</td>\n",
       "      <td>18.55</td>\n",
       "      <td>104.04</td>\n",
       "      <td>381.00</td>\n",
       "    </tr>\n",
       "    <tr>\n",
       "      <th>...</th>\n",
       "      <td>...</td>\n",
       "      <td>...</td>\n",
       "      <td>...</td>\n",
       "      <td>...</td>\n",
       "      <td>...</td>\n",
       "      <td>...</td>\n",
       "      <td>...</td>\n",
       "      <td>...</td>\n",
       "      <td>...</td>\n",
       "      <td>...</td>\n",
       "      <td>...</td>\n",
       "      <td>...</td>\n",
       "      <td>...</td>\n",
       "      <td>...</td>\n",
       "      <td>...</td>\n",
       "      <td>...</td>\n",
       "      <td>...</td>\n",
       "      <td>...</td>\n",
       "    </tr>\n",
       "    <tr>\n",
       "      <th>722</th>\n",
       "      <td>10</td>\n",
       "      <td>0</td>\n",
       "      <td>2019-10-27</td>\n",
       "      <td>쾌적</td>\n",
       "      <td>4.7</td>\n",
       "      <td>17.4</td>\n",
       "      <td>0.0</td>\n",
       "      <td>1.6</td>\n",
       "      <td>290.0</td>\n",
       "      <td>59.0</td>\n",
       "      <td>651</td>\n",
       "      <td>1740</td>\n",
       "      <td>11.7</td>\n",
       "      <td>0.9</td>\n",
       "      <td>17.7</td>\n",
       "      <td>11.05</td>\n",
       "      <td>22.09</td>\n",
       "      <td>0.00</td>\n",
       "    </tr>\n",
       "    <tr>\n",
       "      <th>723</th>\n",
       "      <td>10</td>\n",
       "      <td>0</td>\n",
       "      <td>2019-10-28</td>\n",
       "      <td>쾌적</td>\n",
       "      <td>7.4</td>\n",
       "      <td>17.7</td>\n",
       "      <td>1.7</td>\n",
       "      <td>2.5</td>\n",
       "      <td>200.0</td>\n",
       "      <td>65.9</td>\n",
       "      <td>652</td>\n",
       "      <td>1739</td>\n",
       "      <td>11.6</td>\n",
       "      <td>5.6</td>\n",
       "      <td>17.1</td>\n",
       "      <td>12.55</td>\n",
       "      <td>54.76</td>\n",
       "      <td>112.03</td>\n",
       "    </tr>\n",
       "    <tr>\n",
       "      <th>724</th>\n",
       "      <td>10</td>\n",
       "      <td>0</td>\n",
       "      <td>2019-10-29</td>\n",
       "      <td>쾌적</td>\n",
       "      <td>8.2</td>\n",
       "      <td>17.6</td>\n",
       "      <td>0.1</td>\n",
       "      <td>2.3</td>\n",
       "      <td>270.0</td>\n",
       "      <td>61.0</td>\n",
       "      <td>653</td>\n",
       "      <td>1738</td>\n",
       "      <td>11.6</td>\n",
       "      <td>1.6</td>\n",
       "      <td>17.0</td>\n",
       "      <td>12.90</td>\n",
       "      <td>67.24</td>\n",
       "      <td>6.10</td>\n",
       "    </tr>\n",
       "    <tr>\n",
       "      <th>725</th>\n",
       "      <td>10</td>\n",
       "      <td>0</td>\n",
       "      <td>2019-10-30</td>\n",
       "      <td>쾌적</td>\n",
       "      <td>5.0</td>\n",
       "      <td>17.7</td>\n",
       "      <td>0.0</td>\n",
       "      <td>1.6</td>\n",
       "      <td>270.0</td>\n",
       "      <td>60.3</td>\n",
       "      <td>654</td>\n",
       "      <td>1737</td>\n",
       "      <td>11.6</td>\n",
       "      <td>0.3</td>\n",
       "      <td>16.6</td>\n",
       "      <td>11.35</td>\n",
       "      <td>25.00</td>\n",
       "      <td>0.00</td>\n",
       "    </tr>\n",
       "    <tr>\n",
       "      <th>726</th>\n",
       "      <td>10</td>\n",
       "      <td>0</td>\n",
       "      <td>2019-10-31</td>\n",
       "      <td>쾌적</td>\n",
       "      <td>8.4</td>\n",
       "      <td>19.7</td>\n",
       "      <td>0.0</td>\n",
       "      <td>2.3</td>\n",
       "      <td>230.0</td>\n",
       "      <td>73.8</td>\n",
       "      <td>655</td>\n",
       "      <td>1736</td>\n",
       "      <td>11.5</td>\n",
       "      <td>4.6</td>\n",
       "      <td>16.2</td>\n",
       "      <td>14.05</td>\n",
       "      <td>70.56</td>\n",
       "      <td>0.00</td>\n",
       "    </tr>\n",
       "  </tbody>\n",
       "</table>\n",
       "<p>727 rows × 18 columns</p>\n",
       "</div>"
      ],
      "text/plain": [
       "      월  모기 활동 여부    모기지수 발생일  분류  최저기온(°C)  최고기온(°C)  일강수량(mm)  평균 풍속(m/s)  \\\n",
       "0     5         0  2016-05-01  관심      12.2      26.0       0.0         2.2   \n",
       "1     5         1  2016-05-02  관심      16.5      28.4      16.5         2.2   \n",
       "2     5         0  2016-05-03  관심       8.9      17.6      27.0         4.9   \n",
       "3     5         0  2016-05-04  관심      10.2      20.6       0.0         5.1   \n",
       "4     5         0  2016-05-05  쾌적      10.2      26.9       7.5         1.7   \n",
       "..   ..       ...         ...  ..       ...       ...       ...         ...   \n",
       "722  10         0  2019-10-27  쾌적       4.7      17.4       0.0         1.6   \n",
       "723  10         0  2019-10-28  쾌적       7.4      17.7       1.7         2.5   \n",
       "724  10         0  2019-10-29  쾌적       8.2      17.6       0.1         2.3   \n",
       "725  10         0  2019-10-30  쾌적       5.0      17.7       0.0         1.6   \n",
       "726  10         0  2019-10-31  쾌적       8.4      19.7       0.0         2.3   \n",
       "\n",
       "     최다풍향(16방위)  평균 상대습도(%)   일출    일몰   일조량  평균 전운량(1/10)  0.5m 지중온도(°C)  \\\n",
       "0         250.0        40.5  537  1922  14.2           5.6           15.8   \n",
       "1         200.0        64.5  536  1923  14.3           7.0           16.3   \n",
       "2         270.0        86.1  535  1924  14.3          10.0           17.3   \n",
       "3         290.0        46.6  533  1925  14.4           1.6           16.0   \n",
       "4         320.0        50.8  532  1926  14.4           4.5           16.0   \n",
       "..          ...         ...  ...   ...   ...           ...            ...   \n",
       "722       290.0        59.0  651  1740  11.7           0.9           17.7   \n",
       "723       200.0        65.9  652  1739  11.6           5.6           17.1   \n",
       "724       270.0        61.0  653  1738  11.6           1.6           17.0   \n",
       "725       270.0        60.3  654  1737  11.6           0.3           16.6   \n",
       "726       230.0        73.8  655  1736  11.5           4.6           16.2   \n",
       "\n",
       "      평균기온  최저기온**2  상대습도*강수량  \n",
       "0    19.10   148.84      0.00  \n",
       "1    22.45   272.25   1064.25  \n",
       "2    13.25    79.21   2324.70  \n",
       "3    15.40   104.04      0.00  \n",
       "4    18.55   104.04    381.00  \n",
       "..     ...      ...       ...  \n",
       "722  11.05    22.09      0.00  \n",
       "723  12.55    54.76    112.03  \n",
       "724  12.90    67.24      6.10  \n",
       "725  11.35    25.00      0.00  \n",
       "726  14.05    70.56      0.00  \n",
       "\n",
       "[727 rows x 18 columns]"
      ]
     },
     "execution_count": 20,
     "metadata": {},
     "output_type": "execute_result"
    }
   ],
   "source": [
    "data"
   ]
  },
  {
   "cell_type": "code",
   "execution_count": 21,
   "metadata": {},
   "outputs": [
    {
     "data": {
      "text/html": [
       "<div>\n",
       "<style scoped>\n",
       "    .dataframe tbody tr th:only-of-type {\n",
       "        vertical-align: middle;\n",
       "    }\n",
       "\n",
       "    .dataframe tbody tr th {\n",
       "        vertical-align: top;\n",
       "    }\n",
       "\n",
       "    .dataframe thead th {\n",
       "        text-align: right;\n",
       "    }\n",
       "</style>\n",
       "<table border=\"1\" class=\"dataframe\">\n",
       "  <thead>\n",
       "    <tr style=\"text-align: right;\">\n",
       "      <th></th>\n",
       "      <th>월</th>\n",
       "      <th>모기 활동 여부</th>\n",
       "      <th>최저기온(°C)</th>\n",
       "      <th>최고기온(°C)</th>\n",
       "      <th>일강수량(mm)</th>\n",
       "      <th>평균 풍속(m/s)</th>\n",
       "      <th>최다풍향(16방위)</th>\n",
       "      <th>평균 상대습도(%)</th>\n",
       "      <th>일출</th>\n",
       "      <th>일몰</th>\n",
       "      <th>일조량</th>\n",
       "      <th>평균 전운량(1/10)</th>\n",
       "      <th>0.5m 지중온도(°C)</th>\n",
       "      <th>평균기온</th>\n",
       "      <th>최저기온**2</th>\n",
       "      <th>상대습도*강수량</th>\n",
       "    </tr>\n",
       "  </thead>\n",
       "  <tbody>\n",
       "    <tr>\n",
       "      <th>월</th>\n",
       "      <td>1.000000</td>\n",
       "      <td>0.033404</td>\n",
       "      <td>0.024420</td>\n",
       "      <td>-0.073285</td>\n",
       "      <td>-0.018136</td>\n",
       "      <td>-0.096564</td>\n",
       "      <td>-0.169887</td>\n",
       "      <td>0.152534</td>\n",
       "      <td>0.854459</td>\n",
       "      <td>-0.790293</td>\n",
       "      <td>-0.813042</td>\n",
       "      <td>0.044736</td>\n",
       "      <td>0.322144</td>\n",
       "      <td>-0.021772</td>\n",
       "      <td>0.048778</td>\n",
       "      <td>-0.016338</td>\n",
       "    </tr>\n",
       "    <tr>\n",
       "      <th>모기 활동 여부</th>\n",
       "      <td>0.033404</td>\n",
       "      <td>1.000000</td>\n",
       "      <td>0.830214</td>\n",
       "      <td>0.723296</td>\n",
       "      <td>0.058675</td>\n",
       "      <td>-0.103882</td>\n",
       "      <td>-0.093491</td>\n",
       "      <td>0.244475</td>\n",
       "      <td>-0.295059</td>\n",
       "      <td>0.403935</td>\n",
       "      <td>0.352746</td>\n",
       "      <td>0.199793</td>\n",
       "      <td>0.749599</td>\n",
       "      <td>0.815739</td>\n",
       "      <td>0.809480</td>\n",
       "      <td>0.057638</td>\n",
       "    </tr>\n",
       "    <tr>\n",
       "      <th>최저기온(°C)</th>\n",
       "      <td>0.024420</td>\n",
       "      <td>0.830214</td>\n",
       "      <td>1.000000</td>\n",
       "      <td>0.830910</td>\n",
       "      <td>0.128708</td>\n",
       "      <td>-0.144889</td>\n",
       "      <td>-0.120825</td>\n",
       "      <td>0.428299</td>\n",
       "      <td>-0.387342</td>\n",
       "      <td>0.513378</td>\n",
       "      <td>0.468236</td>\n",
       "      <td>0.336455</td>\n",
       "      <td>0.885155</td>\n",
       "      <td>0.963057</td>\n",
       "      <td>0.982135</td>\n",
       "      <td>0.127251</td>\n",
       "    </tr>\n",
       "    <tr>\n",
       "      <th>최고기온(°C)</th>\n",
       "      <td>-0.073285</td>\n",
       "      <td>0.723296</td>\n",
       "      <td>0.830910</td>\n",
       "      <td>1.000000</td>\n",
       "      <td>-0.101314</td>\n",
       "      <td>-0.213407</td>\n",
       "      <td>-0.103429</td>\n",
       "      <td>0.012689</td>\n",
       "      <td>-0.417233</td>\n",
       "      <td>0.515294</td>\n",
       "      <td>0.477110</td>\n",
       "      <td>-0.079284</td>\n",
       "      <td>0.732934</td>\n",
       "      <td>0.950052</td>\n",
       "      <td>0.813112</td>\n",
       "      <td>-0.100123</td>\n",
       "    </tr>\n",
       "    <tr>\n",
       "      <th>일강수량(mm)</th>\n",
       "      <td>-0.018136</td>\n",
       "      <td>0.058675</td>\n",
       "      <td>0.128708</td>\n",
       "      <td>-0.101314</td>\n",
       "      <td>1.000000</td>\n",
       "      <td>0.056203</td>\n",
       "      <td>-0.095173</td>\n",
       "      <td>0.511960</td>\n",
       "      <td>-0.099527</td>\n",
       "      <td>0.109856</td>\n",
       "      <td>0.109631</td>\n",
       "      <td>0.375183</td>\n",
       "      <td>0.115015</td>\n",
       "      <td>0.023157</td>\n",
       "      <td>0.115828</td>\n",
       "      <td>0.997489</td>\n",
       "    </tr>\n",
       "    <tr>\n",
       "      <th>평균 풍속(m/s)</th>\n",
       "      <td>-0.096564</td>\n",
       "      <td>-0.103882</td>\n",
       "      <td>-0.144889</td>\n",
       "      <td>-0.213407</td>\n",
       "      <td>0.056203</td>\n",
       "      <td>1.000000</td>\n",
       "      <td>0.191070</td>\n",
       "      <td>-0.080643</td>\n",
       "      <td>-0.015403</td>\n",
       "      <td>0.012252</td>\n",
       "      <td>0.001583</td>\n",
       "      <td>-0.057379</td>\n",
       "      <td>-0.109013</td>\n",
       "      <td>-0.184591</td>\n",
       "      <td>-0.143950</td>\n",
       "      <td>0.052597</td>\n",
       "    </tr>\n",
       "    <tr>\n",
       "      <th>최다풍향(16방위)</th>\n",
       "      <td>-0.169887</td>\n",
       "      <td>-0.093491</td>\n",
       "      <td>-0.120825</td>\n",
       "      <td>-0.103429</td>\n",
       "      <td>-0.095173</td>\n",
       "      <td>0.191070</td>\n",
       "      <td>1.000000</td>\n",
       "      <td>-0.065663</td>\n",
       "      <td>-0.079910</td>\n",
       "      <td>0.059720</td>\n",
       "      <td>0.059798</td>\n",
       "      <td>-0.138813</td>\n",
       "      <td>-0.173789</td>\n",
       "      <td>-0.117844</td>\n",
       "      <td>-0.103549</td>\n",
       "      <td>-0.088568</td>\n",
       "    </tr>\n",
       "    <tr>\n",
       "      <th>평균 상대습도(%)</th>\n",
       "      <td>0.152534</td>\n",
       "      <td>0.244475</td>\n",
       "      <td>0.428299</td>\n",
       "      <td>0.012689</td>\n",
       "      <td>0.511960</td>\n",
       "      <td>-0.080643</td>\n",
       "      <td>-0.065663</td>\n",
       "      <td>1.000000</td>\n",
       "      <td>-0.049198</td>\n",
       "      <td>0.107868</td>\n",
       "      <td>0.092971</td>\n",
       "      <td>0.642050</td>\n",
       "      <td>0.381541</td>\n",
       "      <td>0.246376</td>\n",
       "      <td>0.410361</td>\n",
       "      <td>0.504087</td>\n",
       "    </tr>\n",
       "    <tr>\n",
       "      <th>일출</th>\n",
       "      <td>0.854459</td>\n",
       "      <td>-0.295059</td>\n",
       "      <td>-0.387342</td>\n",
       "      <td>-0.417233</td>\n",
       "      <td>-0.099527</td>\n",
       "      <td>-0.015403</td>\n",
       "      <td>-0.079910</td>\n",
       "      <td>-0.049198</td>\n",
       "      <td>1.000000</td>\n",
       "      <td>-0.965768</td>\n",
       "      <td>-0.991366</td>\n",
       "      <td>-0.080009</td>\n",
       "      <td>-0.135620</td>\n",
       "      <td>-0.419199</td>\n",
       "      <td>-0.361958</td>\n",
       "      <td>-0.096414</td>\n",
       "    </tr>\n",
       "    <tr>\n",
       "      <th>일몰</th>\n",
       "      <td>-0.790293</td>\n",
       "      <td>0.403935</td>\n",
       "      <td>0.513378</td>\n",
       "      <td>0.515294</td>\n",
       "      <td>0.109856</td>\n",
       "      <td>0.012252</td>\n",
       "      <td>0.059720</td>\n",
       "      <td>0.107868</td>\n",
       "      <td>-0.965768</td>\n",
       "      <td>1.000000</td>\n",
       "      <td>0.978395</td>\n",
       "      <td>0.121170</td>\n",
       "      <td>0.283386</td>\n",
       "      <td>0.537354</td>\n",
       "      <td>0.480899</td>\n",
       "      <td>0.106715</td>\n",
       "    </tr>\n",
       "    <tr>\n",
       "      <th>일조량</th>\n",
       "      <td>-0.813042</td>\n",
       "      <td>0.352746</td>\n",
       "      <td>0.468236</td>\n",
       "      <td>0.477110</td>\n",
       "      <td>0.109631</td>\n",
       "      <td>0.001583</td>\n",
       "      <td>0.059798</td>\n",
       "      <td>0.092971</td>\n",
       "      <td>-0.991366</td>\n",
       "      <td>0.978395</td>\n",
       "      <td>1.000000</td>\n",
       "      <td>0.107742</td>\n",
       "      <td>0.222577</td>\n",
       "      <td>0.493553</td>\n",
       "      <td>0.450342</td>\n",
       "      <td>0.106650</td>\n",
       "    </tr>\n",
       "    <tr>\n",
       "      <th>평균 전운량(1/10)</th>\n",
       "      <td>0.044736</td>\n",
       "      <td>0.199793</td>\n",
       "      <td>0.336455</td>\n",
       "      <td>-0.079284</td>\n",
       "      <td>0.375183</td>\n",
       "      <td>-0.057379</td>\n",
       "      <td>-0.138813</td>\n",
       "      <td>0.642050</td>\n",
       "      <td>-0.080009</td>\n",
       "      <td>0.121170</td>\n",
       "      <td>0.107742</td>\n",
       "      <td>1.000000</td>\n",
       "      <td>0.260257</td>\n",
       "      <td>0.150346</td>\n",
       "      <td>0.308888</td>\n",
       "      <td>0.364160</td>\n",
       "    </tr>\n",
       "    <tr>\n",
       "      <th>0.5m 지중온도(°C)</th>\n",
       "      <td>0.322144</td>\n",
       "      <td>0.749599</td>\n",
       "      <td>0.885155</td>\n",
       "      <td>0.732934</td>\n",
       "      <td>0.115015</td>\n",
       "      <td>-0.109013</td>\n",
       "      <td>-0.173789</td>\n",
       "      <td>0.381541</td>\n",
       "      <td>-0.135620</td>\n",
       "      <td>0.283386</td>\n",
       "      <td>0.222577</td>\n",
       "      <td>0.260257</td>\n",
       "      <td>1.000000</td>\n",
       "      <td>0.851221</td>\n",
       "      <td>0.875037</td>\n",
       "      <td>0.112392</td>\n",
       "    </tr>\n",
       "    <tr>\n",
       "      <th>평균기온</th>\n",
       "      <td>-0.021772</td>\n",
       "      <td>0.815739</td>\n",
       "      <td>0.963057</td>\n",
       "      <td>0.950052</td>\n",
       "      <td>0.023157</td>\n",
       "      <td>-0.184591</td>\n",
       "      <td>-0.117844</td>\n",
       "      <td>0.246376</td>\n",
       "      <td>-0.419199</td>\n",
       "      <td>0.537354</td>\n",
       "      <td>0.493553</td>\n",
       "      <td>0.150346</td>\n",
       "      <td>0.851221</td>\n",
       "      <td>1.000000</td>\n",
       "      <td>0.944423</td>\n",
       "      <td>0.022917</td>\n",
       "    </tr>\n",
       "    <tr>\n",
       "      <th>최저기온**2</th>\n",
       "      <td>0.048778</td>\n",
       "      <td>0.809480</td>\n",
       "      <td>0.982135</td>\n",
       "      <td>0.813112</td>\n",
       "      <td>0.115828</td>\n",
       "      <td>-0.143950</td>\n",
       "      <td>-0.103549</td>\n",
       "      <td>0.410361</td>\n",
       "      <td>-0.361958</td>\n",
       "      <td>0.480899</td>\n",
       "      <td>0.450342</td>\n",
       "      <td>0.308888</td>\n",
       "      <td>0.875037</td>\n",
       "      <td>0.944423</td>\n",
       "      <td>1.000000</td>\n",
       "      <td>0.114894</td>\n",
       "    </tr>\n",
       "    <tr>\n",
       "      <th>상대습도*강수량</th>\n",
       "      <td>-0.016338</td>\n",
       "      <td>0.057638</td>\n",
       "      <td>0.127251</td>\n",
       "      <td>-0.100123</td>\n",
       "      <td>0.997489</td>\n",
       "      <td>0.052597</td>\n",
       "      <td>-0.088568</td>\n",
       "      <td>0.504087</td>\n",
       "      <td>-0.096414</td>\n",
       "      <td>0.106715</td>\n",
       "      <td>0.106650</td>\n",
       "      <td>0.364160</td>\n",
       "      <td>0.112392</td>\n",
       "      <td>0.022917</td>\n",
       "      <td>0.114894</td>\n",
       "      <td>1.000000</td>\n",
       "    </tr>\n",
       "  </tbody>\n",
       "</table>\n",
       "</div>"
      ],
      "text/plain": [
       "                      월  모기 활동 여부  최저기온(°C)  최고기온(°C)  일강수량(mm)  평균 풍속(m/s)  \\\n",
       "월              1.000000  0.033404  0.024420 -0.073285 -0.018136   -0.096564   \n",
       "모기 활동 여부       0.033404  1.000000  0.830214  0.723296  0.058675   -0.103882   \n",
       "최저기온(°C)       0.024420  0.830214  1.000000  0.830910  0.128708   -0.144889   \n",
       "최고기온(°C)      -0.073285  0.723296  0.830910  1.000000 -0.101314   -0.213407   \n",
       "일강수량(mm)      -0.018136  0.058675  0.128708 -0.101314  1.000000    0.056203   \n",
       "평균 풍속(m/s)    -0.096564 -0.103882 -0.144889 -0.213407  0.056203    1.000000   \n",
       "최다풍향(16방위)    -0.169887 -0.093491 -0.120825 -0.103429 -0.095173    0.191070   \n",
       "평균 상대습도(%)     0.152534  0.244475  0.428299  0.012689  0.511960   -0.080643   \n",
       "일출             0.854459 -0.295059 -0.387342 -0.417233 -0.099527   -0.015403   \n",
       "일몰            -0.790293  0.403935  0.513378  0.515294  0.109856    0.012252   \n",
       "일조량           -0.813042  0.352746  0.468236  0.477110  0.109631    0.001583   \n",
       "평균 전운량(1/10)   0.044736  0.199793  0.336455 -0.079284  0.375183   -0.057379   \n",
       "0.5m 지중온도(°C)  0.322144  0.749599  0.885155  0.732934  0.115015   -0.109013   \n",
       "평균기온          -0.021772  0.815739  0.963057  0.950052  0.023157   -0.184591   \n",
       "최저기온**2        0.048778  0.809480  0.982135  0.813112  0.115828   -0.143950   \n",
       "상대습도*강수량      -0.016338  0.057638  0.127251 -0.100123  0.997489    0.052597   \n",
       "\n",
       "               최다풍향(16방위)  평균 상대습도(%)        일출        일몰       일조량  \\\n",
       "월               -0.169887    0.152534  0.854459 -0.790293 -0.813042   \n",
       "모기 활동 여부        -0.093491    0.244475 -0.295059  0.403935  0.352746   \n",
       "최저기온(°C)        -0.120825    0.428299 -0.387342  0.513378  0.468236   \n",
       "최고기온(°C)        -0.103429    0.012689 -0.417233  0.515294  0.477110   \n",
       "일강수량(mm)        -0.095173    0.511960 -0.099527  0.109856  0.109631   \n",
       "평균 풍속(m/s)       0.191070   -0.080643 -0.015403  0.012252  0.001583   \n",
       "최다풍향(16방위)       1.000000   -0.065663 -0.079910  0.059720  0.059798   \n",
       "평균 상대습도(%)      -0.065663    1.000000 -0.049198  0.107868  0.092971   \n",
       "일출              -0.079910   -0.049198  1.000000 -0.965768 -0.991366   \n",
       "일몰               0.059720    0.107868 -0.965768  1.000000  0.978395   \n",
       "일조량              0.059798    0.092971 -0.991366  0.978395  1.000000   \n",
       "평균 전운량(1/10)    -0.138813    0.642050 -0.080009  0.121170  0.107742   \n",
       "0.5m 지중온도(°C)   -0.173789    0.381541 -0.135620  0.283386  0.222577   \n",
       "평균기온            -0.117844    0.246376 -0.419199  0.537354  0.493553   \n",
       "최저기온**2         -0.103549    0.410361 -0.361958  0.480899  0.450342   \n",
       "상대습도*강수량        -0.088568    0.504087 -0.096414  0.106715  0.106650   \n",
       "\n",
       "               평균 전운량(1/10)  0.5m 지중온도(°C)      평균기온   최저기온**2  상대습도*강수량  \n",
       "월                  0.044736       0.322144 -0.021772  0.048778 -0.016338  \n",
       "모기 활동 여부           0.199793       0.749599  0.815739  0.809480  0.057638  \n",
       "최저기온(°C)           0.336455       0.885155  0.963057  0.982135  0.127251  \n",
       "최고기온(°C)          -0.079284       0.732934  0.950052  0.813112 -0.100123  \n",
       "일강수량(mm)           0.375183       0.115015  0.023157  0.115828  0.997489  \n",
       "평균 풍속(m/s)        -0.057379      -0.109013 -0.184591 -0.143950  0.052597  \n",
       "최다풍향(16방위)        -0.138813      -0.173789 -0.117844 -0.103549 -0.088568  \n",
       "평균 상대습도(%)         0.642050       0.381541  0.246376  0.410361  0.504087  \n",
       "일출                -0.080009      -0.135620 -0.419199 -0.361958 -0.096414  \n",
       "일몰                 0.121170       0.283386  0.537354  0.480899  0.106715  \n",
       "일조량                0.107742       0.222577  0.493553  0.450342  0.106650  \n",
       "평균 전운량(1/10)       1.000000       0.260257  0.150346  0.308888  0.364160  \n",
       "0.5m 지중온도(°C)      0.260257       1.000000  0.851221  0.875037  0.112392  \n",
       "평균기온               0.150346       0.851221  1.000000  0.944423  0.022917  \n",
       "최저기온**2            0.308888       0.875037  0.944423  1.000000  0.114894  \n",
       "상대습도*강수량           0.364160       0.112392  0.022917  0.114894  1.000000  "
      ]
     },
     "execution_count": 21,
     "metadata": {},
     "output_type": "execute_result"
    }
   ],
   "source": [
    "data.corr()"
   ]
  },
  {
   "cell_type": "markdown",
   "metadata": {},
   "source": [
    "plt.figure(figsize=(15,10))\n",
    "plt.plot(data['모기지수 발생일'].iloc[:183], data['모기지수(주거지)'].iloc[:183], label = 'train')\n",
    "plt.legend()\n",
    "plt.grid()\n",
    "plt.show"
   ]
  },
  {
   "cell_type": "code",
   "execution_count": 22,
   "metadata": {},
   "outputs": [
    {
     "data": {
      "text/plain": [
       "1.9    60\n",
       "1.7    59\n",
       "1.6    56\n",
       "1.8    51\n",
       "2.0    46\n",
       "1.5    44\n",
       "2.1    42\n",
       "1.4    37\n",
       "2.2    36\n",
       "2.3    36\n",
       "1.2    33\n",
       "1.3    31\n",
       "2.4    31\n",
       "2.5    21\n",
       "2.6    20\n",
       "2.7    17\n",
       "2.8    14\n",
       "1.1    12\n",
       "2.9    12\n",
       "3.1    10\n",
       "3.0     9\n",
       "1.0     8\n",
       "3.2     6\n",
       "3.6     5\n",
       "3.3     5\n",
       "3.5     4\n",
       "3.8     3\n",
       "0.9     3\n",
       "3.4     3\n",
       "0.8     3\n",
       "0.7     2\n",
       "4.0     2\n",
       "3.7     2\n",
       "5.1     1\n",
       "6.0     1\n",
       "4.9     1\n",
       "Name: 평균 풍속(m/s), dtype: int64"
      ]
     },
     "execution_count": 22,
     "metadata": {},
     "output_type": "execute_result"
    }
   ],
   "source": [
    "data['평균 풍속(m/s)'].value_counts()"
   ]
  },
  {
   "cell_type": "code",
   "execution_count": 23,
   "metadata": {},
   "outputs": [
    {
     "data": {
      "text/html": [
       "<div>\n",
       "<style scoped>\n",
       "    .dataframe tbody tr th:only-of-type {\n",
       "        vertical-align: middle;\n",
       "    }\n",
       "\n",
       "    .dataframe tbody tr th {\n",
       "        vertical-align: top;\n",
       "    }\n",
       "\n",
       "    .dataframe thead th {\n",
       "        text-align: right;\n",
       "    }\n",
       "</style>\n",
       "<table border=\"1\" class=\"dataframe\">\n",
       "  <thead>\n",
       "    <tr style=\"text-align: right;\">\n",
       "      <th></th>\n",
       "      <th>월</th>\n",
       "      <th>모기 활동 여부</th>\n",
       "      <th>모기지수 발생일</th>\n",
       "      <th>분류</th>\n",
       "      <th>최저기온(°C)</th>\n",
       "      <th>최고기온(°C)</th>\n",
       "      <th>일강수량(mm)</th>\n",
       "      <th>평균 풍속(m/s)</th>\n",
       "      <th>최다풍향(16방위)</th>\n",
       "      <th>평균 상대습도(%)</th>\n",
       "      <th>일출</th>\n",
       "      <th>일몰</th>\n",
       "      <th>일조량</th>\n",
       "      <th>평균 전운량(1/10)</th>\n",
       "      <th>0.5m 지중온도(°C)</th>\n",
       "      <th>평균기온</th>\n",
       "      <th>최저기온**2</th>\n",
       "      <th>상대습도*강수량</th>\n",
       "    </tr>\n",
       "  </thead>\n",
       "  <tbody>\n",
       "  </tbody>\n",
       "</table>\n",
       "</div>"
      ],
      "text/plain": [
       "Empty DataFrame\n",
       "Columns: [월, 모기 활동 여부, 모기지수 발생일, 분류, 최저기온(°C), 최고기온(°C), 일강수량(mm), 평균 풍속(m/s), 최다풍향(16방위), 평균 상대습도(%), 일출, 일몰, 일조량, 평균 전운량(1/10), 0.5m 지중온도(°C), 평균기온, 최저기온**2, 상대습도*강수량]\n",
       "Index: []"
      ]
     },
     "execution_count": 23,
     "metadata": {},
     "output_type": "execute_result"
    }
   ],
   "source": [
    "data['평균 풍속(m/s)'] = data['평균 풍속(m/s)'].fillna(1.9)\n",
    "data[data['평균 풍속(m/s)'].isnull()]"
   ]
  },
  {
   "cell_type": "code",
   "execution_count": 24,
   "metadata": {
    "scrolled": false
   },
   "outputs": [
    {
     "data": {
      "text/html": [
       "<div>\n",
       "<style scoped>\n",
       "    .dataframe tbody tr th:only-of-type {\n",
       "        vertical-align: middle;\n",
       "    }\n",
       "\n",
       "    .dataframe tbody tr th {\n",
       "        vertical-align: top;\n",
       "    }\n",
       "\n",
       "    .dataframe thead th {\n",
       "        text-align: right;\n",
       "    }\n",
       "</style>\n",
       "<table border=\"1\" class=\"dataframe\">\n",
       "  <thead>\n",
       "    <tr style=\"text-align: right;\">\n",
       "      <th></th>\n",
       "      <th>월</th>\n",
       "      <th>모기 활동 여부</th>\n",
       "      <th>모기지수 발생일</th>\n",
       "      <th>분류</th>\n",
       "      <th>최저기온(°C)</th>\n",
       "      <th>최고기온(°C)</th>\n",
       "      <th>일강수량(mm)</th>\n",
       "      <th>평균 풍속(m/s)</th>\n",
       "      <th>최다풍향(16방위)</th>\n",
       "      <th>평균 상대습도(%)</th>\n",
       "      <th>일출</th>\n",
       "      <th>일몰</th>\n",
       "      <th>일조량</th>\n",
       "      <th>평균 전운량(1/10)</th>\n",
       "      <th>0.5m 지중온도(°C)</th>\n",
       "      <th>평균기온</th>\n",
       "      <th>최저기온**2</th>\n",
       "      <th>상대습도*강수량</th>\n",
       "    </tr>\n",
       "  </thead>\n",
       "  <tbody>\n",
       "  </tbody>\n",
       "</table>\n",
       "</div>"
      ],
      "text/plain": [
       "Empty DataFrame\n",
       "Columns: [월, 모기 활동 여부, 모기지수 발생일, 분류, 최저기온(°C), 최고기온(°C), 일강수량(mm), 평균 풍속(m/s), 최다풍향(16방위), 평균 상대습도(%), 일출, 일몰, 일조량, 평균 전운량(1/10), 0.5m 지중온도(°C), 평균기온, 최저기온**2, 상대습도*강수량]\n",
       "Index: []"
      ]
     },
     "execution_count": 24,
     "metadata": {},
     "output_type": "execute_result"
    }
   ],
   "source": [
    "data['최다풍향(16방위)'] = data['최다풍향(16방위)'].fillna(290.0)\n",
    "data[data['최다풍향(16방위)'].isnull()]"
   ]
  },
  {
   "cell_type": "code",
   "execution_count": 25,
   "metadata": {},
   "outputs": [
    {
     "name": "stdout",
     "output_type": "stream",
     "text": [
      "<class 'pandas.core.frame.DataFrame'>\n",
      "RangeIndex: 727 entries, 0 to 726\n",
      "Data columns (total 18 columns):\n",
      " #   Column         Non-Null Count  Dtype  \n",
      "---  ------         --------------  -----  \n",
      " 0   월              727 non-null    int64  \n",
      " 1   모기 활동 여부       727 non-null    int64  \n",
      " 2   모기지수 발생일       727 non-null    object \n",
      " 3   분류             727 non-null    object \n",
      " 4   최저기온(°C)       727 non-null    float64\n",
      " 5   최고기온(°C)       727 non-null    float64\n",
      " 6   일강수량(mm)       727 non-null    float64\n",
      " 7   평균 풍속(m/s)     727 non-null    float64\n",
      " 8   최다풍향(16방위)     727 non-null    float64\n",
      " 9   평균 상대습도(%)     727 non-null    float64\n",
      " 10  일출             727 non-null    int64  \n",
      " 11  일몰             727 non-null    int64  \n",
      " 12  일조량            727 non-null    float64\n",
      " 13  평균 전운량(1/10)   727 non-null    float64\n",
      " 14  0.5m 지중온도(°C)  727 non-null    float64\n",
      " 15  평균기온           727 non-null    float64\n",
      " 16  최저기온**2        727 non-null    float64\n",
      " 17  상대습도*강수량       727 non-null    float64\n",
      "dtypes: float64(12), int64(4), object(2)\n",
      "memory usage: 102.4+ KB\n"
     ]
    }
   ],
   "source": [
    "data.info()"
   ]
  },
  {
   "cell_type": "code",
   "execution_count": 26,
   "metadata": {},
   "outputs": [
    {
     "data": {
      "text/html": [
       "<div>\n",
       "<style scoped>\n",
       "    .dataframe tbody tr th:only-of-type {\n",
       "        vertical-align: middle;\n",
       "    }\n",
       "\n",
       "    .dataframe tbody tr th {\n",
       "        vertical-align: top;\n",
       "    }\n",
       "\n",
       "    .dataframe thead th {\n",
       "        text-align: right;\n",
       "    }\n",
       "</style>\n",
       "<table border=\"1\" class=\"dataframe\">\n",
       "  <thead>\n",
       "    <tr style=\"text-align: right;\">\n",
       "      <th></th>\n",
       "      <th>분류</th>\n",
       "    </tr>\n",
       "  </thead>\n",
       "  <tbody>\n",
       "    <tr>\n",
       "      <th>0</th>\n",
       "      <td>관심</td>\n",
       "    </tr>\n",
       "    <tr>\n",
       "      <th>1</th>\n",
       "      <td>관심</td>\n",
       "    </tr>\n",
       "    <tr>\n",
       "      <th>2</th>\n",
       "      <td>관심</td>\n",
       "    </tr>\n",
       "    <tr>\n",
       "      <th>3</th>\n",
       "      <td>관심</td>\n",
       "    </tr>\n",
       "    <tr>\n",
       "      <th>4</th>\n",
       "      <td>쾌적</td>\n",
       "    </tr>\n",
       "    <tr>\n",
       "      <th>...</th>\n",
       "      <td>...</td>\n",
       "    </tr>\n",
       "    <tr>\n",
       "      <th>722</th>\n",
       "      <td>쾌적</td>\n",
       "    </tr>\n",
       "    <tr>\n",
       "      <th>723</th>\n",
       "      <td>쾌적</td>\n",
       "    </tr>\n",
       "    <tr>\n",
       "      <th>724</th>\n",
       "      <td>쾌적</td>\n",
       "    </tr>\n",
       "    <tr>\n",
       "      <th>725</th>\n",
       "      <td>쾌적</td>\n",
       "    </tr>\n",
       "    <tr>\n",
       "      <th>726</th>\n",
       "      <td>쾌적</td>\n",
       "    </tr>\n",
       "  </tbody>\n",
       "</table>\n",
       "<p>727 rows × 1 columns</p>\n",
       "</div>"
      ],
      "text/plain": [
       "     분류\n",
       "0    관심\n",
       "1    관심\n",
       "2    관심\n",
       "3    관심\n",
       "4    쾌적\n",
       "..   ..\n",
       "722  쾌적\n",
       "723  쾌적\n",
       "724  쾌적\n",
       "725  쾌적\n",
       "726  쾌적\n",
       "\n",
       "[727 rows x 1 columns]"
      ]
     },
     "execution_count": 26,
     "metadata": {},
     "output_type": "execute_result"
    }
   ],
   "source": [
    "label = data[['분류']]\n",
    "label"
   ]
  },
  {
   "cell_type": "code",
   "execution_count": 27,
   "metadata": {},
   "outputs": [
    {
     "data": {
      "text/html": [
       "<div>\n",
       "<style scoped>\n",
       "    .dataframe tbody tr th:only-of-type {\n",
       "        vertical-align: middle;\n",
       "    }\n",
       "\n",
       "    .dataframe tbody tr th {\n",
       "        vertical-align: top;\n",
       "    }\n",
       "\n",
       "    .dataframe thead th {\n",
       "        text-align: right;\n",
       "    }\n",
       "</style>\n",
       "<table border=\"1\" class=\"dataframe\">\n",
       "  <thead>\n",
       "    <tr style=\"text-align: right;\">\n",
       "      <th></th>\n",
       "      <th>월</th>\n",
       "      <th>모기 활동 여부</th>\n",
       "      <th>모기지수 발생일</th>\n",
       "      <th>최저기온(°C)</th>\n",
       "      <th>최고기온(°C)</th>\n",
       "      <th>일강수량(mm)</th>\n",
       "      <th>평균 풍속(m/s)</th>\n",
       "      <th>최다풍향(16방위)</th>\n",
       "      <th>평균 상대습도(%)</th>\n",
       "      <th>일출</th>\n",
       "      <th>일몰</th>\n",
       "      <th>일조량</th>\n",
       "      <th>평균 전운량(1/10)</th>\n",
       "      <th>0.5m 지중온도(°C)</th>\n",
       "      <th>평균기온</th>\n",
       "      <th>최저기온**2</th>\n",
       "      <th>상대습도*강수량</th>\n",
       "    </tr>\n",
       "  </thead>\n",
       "  <tbody>\n",
       "    <tr>\n",
       "      <th>0</th>\n",
       "      <td>5</td>\n",
       "      <td>0</td>\n",
       "      <td>2016-05-01</td>\n",
       "      <td>12.2</td>\n",
       "      <td>26.0</td>\n",
       "      <td>0.0</td>\n",
       "      <td>2.2</td>\n",
       "      <td>250.0</td>\n",
       "      <td>40.5</td>\n",
       "      <td>537</td>\n",
       "      <td>1922</td>\n",
       "      <td>14.2</td>\n",
       "      <td>5.6</td>\n",
       "      <td>15.8</td>\n",
       "      <td>19.10</td>\n",
       "      <td>148.84</td>\n",
       "      <td>0.00</td>\n",
       "    </tr>\n",
       "    <tr>\n",
       "      <th>1</th>\n",
       "      <td>5</td>\n",
       "      <td>1</td>\n",
       "      <td>2016-05-02</td>\n",
       "      <td>16.5</td>\n",
       "      <td>28.4</td>\n",
       "      <td>16.5</td>\n",
       "      <td>2.2</td>\n",
       "      <td>200.0</td>\n",
       "      <td>64.5</td>\n",
       "      <td>536</td>\n",
       "      <td>1923</td>\n",
       "      <td>14.3</td>\n",
       "      <td>7.0</td>\n",
       "      <td>16.3</td>\n",
       "      <td>22.45</td>\n",
       "      <td>272.25</td>\n",
       "      <td>1064.25</td>\n",
       "    </tr>\n",
       "    <tr>\n",
       "      <th>2</th>\n",
       "      <td>5</td>\n",
       "      <td>0</td>\n",
       "      <td>2016-05-03</td>\n",
       "      <td>8.9</td>\n",
       "      <td>17.6</td>\n",
       "      <td>27.0</td>\n",
       "      <td>4.9</td>\n",
       "      <td>270.0</td>\n",
       "      <td>86.1</td>\n",
       "      <td>535</td>\n",
       "      <td>1924</td>\n",
       "      <td>14.3</td>\n",
       "      <td>10.0</td>\n",
       "      <td>17.3</td>\n",
       "      <td>13.25</td>\n",
       "      <td>79.21</td>\n",
       "      <td>2324.70</td>\n",
       "    </tr>\n",
       "    <tr>\n",
       "      <th>3</th>\n",
       "      <td>5</td>\n",
       "      <td>0</td>\n",
       "      <td>2016-05-04</td>\n",
       "      <td>10.2</td>\n",
       "      <td>20.6</td>\n",
       "      <td>0.0</td>\n",
       "      <td>5.1</td>\n",
       "      <td>290.0</td>\n",
       "      <td>46.6</td>\n",
       "      <td>533</td>\n",
       "      <td>1925</td>\n",
       "      <td>14.4</td>\n",
       "      <td>1.6</td>\n",
       "      <td>16.0</td>\n",
       "      <td>15.40</td>\n",
       "      <td>104.04</td>\n",
       "      <td>0.00</td>\n",
       "    </tr>\n",
       "    <tr>\n",
       "      <th>4</th>\n",
       "      <td>5</td>\n",
       "      <td>0</td>\n",
       "      <td>2016-05-05</td>\n",
       "      <td>10.2</td>\n",
       "      <td>26.9</td>\n",
       "      <td>7.5</td>\n",
       "      <td>1.7</td>\n",
       "      <td>320.0</td>\n",
       "      <td>50.8</td>\n",
       "      <td>532</td>\n",
       "      <td>1926</td>\n",
       "      <td>14.4</td>\n",
       "      <td>4.5</td>\n",
       "      <td>16.0</td>\n",
       "      <td>18.55</td>\n",
       "      <td>104.04</td>\n",
       "      <td>381.00</td>\n",
       "    </tr>\n",
       "    <tr>\n",
       "      <th>...</th>\n",
       "      <td>...</td>\n",
       "      <td>...</td>\n",
       "      <td>...</td>\n",
       "      <td>...</td>\n",
       "      <td>...</td>\n",
       "      <td>...</td>\n",
       "      <td>...</td>\n",
       "      <td>...</td>\n",
       "      <td>...</td>\n",
       "      <td>...</td>\n",
       "      <td>...</td>\n",
       "      <td>...</td>\n",
       "      <td>...</td>\n",
       "      <td>...</td>\n",
       "      <td>...</td>\n",
       "      <td>...</td>\n",
       "      <td>...</td>\n",
       "    </tr>\n",
       "    <tr>\n",
       "      <th>722</th>\n",
       "      <td>10</td>\n",
       "      <td>0</td>\n",
       "      <td>2019-10-27</td>\n",
       "      <td>4.7</td>\n",
       "      <td>17.4</td>\n",
       "      <td>0.0</td>\n",
       "      <td>1.6</td>\n",
       "      <td>290.0</td>\n",
       "      <td>59.0</td>\n",
       "      <td>651</td>\n",
       "      <td>1740</td>\n",
       "      <td>11.7</td>\n",
       "      <td>0.9</td>\n",
       "      <td>17.7</td>\n",
       "      <td>11.05</td>\n",
       "      <td>22.09</td>\n",
       "      <td>0.00</td>\n",
       "    </tr>\n",
       "    <tr>\n",
       "      <th>723</th>\n",
       "      <td>10</td>\n",
       "      <td>0</td>\n",
       "      <td>2019-10-28</td>\n",
       "      <td>7.4</td>\n",
       "      <td>17.7</td>\n",
       "      <td>1.7</td>\n",
       "      <td>2.5</td>\n",
       "      <td>200.0</td>\n",
       "      <td>65.9</td>\n",
       "      <td>652</td>\n",
       "      <td>1739</td>\n",
       "      <td>11.6</td>\n",
       "      <td>5.6</td>\n",
       "      <td>17.1</td>\n",
       "      <td>12.55</td>\n",
       "      <td>54.76</td>\n",
       "      <td>112.03</td>\n",
       "    </tr>\n",
       "    <tr>\n",
       "      <th>724</th>\n",
       "      <td>10</td>\n",
       "      <td>0</td>\n",
       "      <td>2019-10-29</td>\n",
       "      <td>8.2</td>\n",
       "      <td>17.6</td>\n",
       "      <td>0.1</td>\n",
       "      <td>2.3</td>\n",
       "      <td>270.0</td>\n",
       "      <td>61.0</td>\n",
       "      <td>653</td>\n",
       "      <td>1738</td>\n",
       "      <td>11.6</td>\n",
       "      <td>1.6</td>\n",
       "      <td>17.0</td>\n",
       "      <td>12.90</td>\n",
       "      <td>67.24</td>\n",
       "      <td>6.10</td>\n",
       "    </tr>\n",
       "    <tr>\n",
       "      <th>725</th>\n",
       "      <td>10</td>\n",
       "      <td>0</td>\n",
       "      <td>2019-10-30</td>\n",
       "      <td>5.0</td>\n",
       "      <td>17.7</td>\n",
       "      <td>0.0</td>\n",
       "      <td>1.6</td>\n",
       "      <td>270.0</td>\n",
       "      <td>60.3</td>\n",
       "      <td>654</td>\n",
       "      <td>1737</td>\n",
       "      <td>11.6</td>\n",
       "      <td>0.3</td>\n",
       "      <td>16.6</td>\n",
       "      <td>11.35</td>\n",
       "      <td>25.00</td>\n",
       "      <td>0.00</td>\n",
       "    </tr>\n",
       "    <tr>\n",
       "      <th>726</th>\n",
       "      <td>10</td>\n",
       "      <td>0</td>\n",
       "      <td>2019-10-31</td>\n",
       "      <td>8.4</td>\n",
       "      <td>19.7</td>\n",
       "      <td>0.0</td>\n",
       "      <td>2.3</td>\n",
       "      <td>230.0</td>\n",
       "      <td>73.8</td>\n",
       "      <td>655</td>\n",
       "      <td>1736</td>\n",
       "      <td>11.5</td>\n",
       "      <td>4.6</td>\n",
       "      <td>16.2</td>\n",
       "      <td>14.05</td>\n",
       "      <td>70.56</td>\n",
       "      <td>0.00</td>\n",
       "    </tr>\n",
       "  </tbody>\n",
       "</table>\n",
       "<p>727 rows × 17 columns</p>\n",
       "</div>"
      ],
      "text/plain": [
       "      월  모기 활동 여부    모기지수 발생일  최저기온(°C)  최고기온(°C)  일강수량(mm)  평균 풍속(m/s)  \\\n",
       "0     5         0  2016-05-01      12.2      26.0       0.0         2.2   \n",
       "1     5         1  2016-05-02      16.5      28.4      16.5         2.2   \n",
       "2     5         0  2016-05-03       8.9      17.6      27.0         4.9   \n",
       "3     5         0  2016-05-04      10.2      20.6       0.0         5.1   \n",
       "4     5         0  2016-05-05      10.2      26.9       7.5         1.7   \n",
       "..   ..       ...         ...       ...       ...       ...         ...   \n",
       "722  10         0  2019-10-27       4.7      17.4       0.0         1.6   \n",
       "723  10         0  2019-10-28       7.4      17.7       1.7         2.5   \n",
       "724  10         0  2019-10-29       8.2      17.6       0.1         2.3   \n",
       "725  10         0  2019-10-30       5.0      17.7       0.0         1.6   \n",
       "726  10         0  2019-10-31       8.4      19.7       0.0         2.3   \n",
       "\n",
       "     최다풍향(16방위)  평균 상대습도(%)   일출    일몰   일조량  평균 전운량(1/10)  0.5m 지중온도(°C)  \\\n",
       "0         250.0        40.5  537  1922  14.2           5.6           15.8   \n",
       "1         200.0        64.5  536  1923  14.3           7.0           16.3   \n",
       "2         270.0        86.1  535  1924  14.3          10.0           17.3   \n",
       "3         290.0        46.6  533  1925  14.4           1.6           16.0   \n",
       "4         320.0        50.8  532  1926  14.4           4.5           16.0   \n",
       "..          ...         ...  ...   ...   ...           ...            ...   \n",
       "722       290.0        59.0  651  1740  11.7           0.9           17.7   \n",
       "723       200.0        65.9  652  1739  11.6           5.6           17.1   \n",
       "724       270.0        61.0  653  1738  11.6           1.6           17.0   \n",
       "725       270.0        60.3  654  1737  11.6           0.3           16.6   \n",
       "726       230.0        73.8  655  1736  11.5           4.6           16.2   \n",
       "\n",
       "      평균기온  최저기온**2  상대습도*강수량  \n",
       "0    19.10   148.84      0.00  \n",
       "1    22.45   272.25   1064.25  \n",
       "2    13.25    79.21   2324.70  \n",
       "3    15.40   104.04      0.00  \n",
       "4    18.55   104.04    381.00  \n",
       "..     ...      ...       ...  \n",
       "722  11.05    22.09      0.00  \n",
       "723  12.55    54.76    112.03  \n",
       "724  12.90    67.24      6.10  \n",
       "725  11.35    25.00      0.00  \n",
       "726  14.05    70.56      0.00  \n",
       "\n",
       "[727 rows x 17 columns]"
      ]
     },
     "execution_count": 27,
     "metadata": {},
     "output_type": "execute_result"
    }
   ],
   "source": [
    "feature = data.drop('분류', axis=1)\n",
    "feature"
   ]
  },
  {
   "cell_type": "code",
   "execution_count": 28,
   "metadata": {},
   "outputs": [
    {
     "data": {
      "text/html": [
       "<div>\n",
       "<style scoped>\n",
       "    .dataframe tbody tr th:only-of-type {\n",
       "        vertical-align: middle;\n",
       "    }\n",
       "\n",
       "    .dataframe tbody tr th {\n",
       "        vertical-align: top;\n",
       "    }\n",
       "\n",
       "    .dataframe thead th {\n",
       "        text-align: right;\n",
       "    }\n",
       "</style>\n",
       "<table border=\"1\" class=\"dataframe\">\n",
       "  <thead>\n",
       "    <tr style=\"text-align: right;\">\n",
       "      <th></th>\n",
       "      <th>월</th>\n",
       "      <th>모기 활동 여부</th>\n",
       "      <th>최저기온(°C)</th>\n",
       "      <th>최고기온(°C)</th>\n",
       "      <th>일강수량(mm)</th>\n",
       "      <th>평균 풍속(m/s)</th>\n",
       "      <th>최다풍향(16방위)</th>\n",
       "      <th>평균 상대습도(%)</th>\n",
       "      <th>일출</th>\n",
       "      <th>일몰</th>\n",
       "      <th>일조량</th>\n",
       "      <th>평균 전운량(1/10)</th>\n",
       "      <th>0.5m 지중온도(°C)</th>\n",
       "      <th>평균기온</th>\n",
       "      <th>최저기온**2</th>\n",
       "      <th>상대습도*강수량</th>\n",
       "    </tr>\n",
       "    <tr>\n",
       "      <th>모기지수 발생일</th>\n",
       "      <th></th>\n",
       "      <th></th>\n",
       "      <th></th>\n",
       "      <th></th>\n",
       "      <th></th>\n",
       "      <th></th>\n",
       "      <th></th>\n",
       "      <th></th>\n",
       "      <th></th>\n",
       "      <th></th>\n",
       "      <th></th>\n",
       "      <th></th>\n",
       "      <th></th>\n",
       "      <th></th>\n",
       "      <th></th>\n",
       "      <th></th>\n",
       "    </tr>\n",
       "  </thead>\n",
       "  <tbody>\n",
       "    <tr>\n",
       "      <th>2016-05-01</th>\n",
       "      <td>5</td>\n",
       "      <td>0</td>\n",
       "      <td>12.2</td>\n",
       "      <td>26.0</td>\n",
       "      <td>0.0</td>\n",
       "      <td>2.2</td>\n",
       "      <td>250.0</td>\n",
       "      <td>40.5</td>\n",
       "      <td>537</td>\n",
       "      <td>1922</td>\n",
       "      <td>14.2</td>\n",
       "      <td>5.6</td>\n",
       "      <td>15.8</td>\n",
       "      <td>19.10</td>\n",
       "      <td>148.84</td>\n",
       "      <td>0.00</td>\n",
       "    </tr>\n",
       "    <tr>\n",
       "      <th>2016-05-02</th>\n",
       "      <td>5</td>\n",
       "      <td>1</td>\n",
       "      <td>16.5</td>\n",
       "      <td>28.4</td>\n",
       "      <td>16.5</td>\n",
       "      <td>2.2</td>\n",
       "      <td>200.0</td>\n",
       "      <td>64.5</td>\n",
       "      <td>536</td>\n",
       "      <td>1923</td>\n",
       "      <td>14.3</td>\n",
       "      <td>7.0</td>\n",
       "      <td>16.3</td>\n",
       "      <td>22.45</td>\n",
       "      <td>272.25</td>\n",
       "      <td>1064.25</td>\n",
       "    </tr>\n",
       "    <tr>\n",
       "      <th>2016-05-03</th>\n",
       "      <td>5</td>\n",
       "      <td>0</td>\n",
       "      <td>8.9</td>\n",
       "      <td>17.6</td>\n",
       "      <td>27.0</td>\n",
       "      <td>4.9</td>\n",
       "      <td>270.0</td>\n",
       "      <td>86.1</td>\n",
       "      <td>535</td>\n",
       "      <td>1924</td>\n",
       "      <td>14.3</td>\n",
       "      <td>10.0</td>\n",
       "      <td>17.3</td>\n",
       "      <td>13.25</td>\n",
       "      <td>79.21</td>\n",
       "      <td>2324.70</td>\n",
       "    </tr>\n",
       "    <tr>\n",
       "      <th>2016-05-04</th>\n",
       "      <td>5</td>\n",
       "      <td>0</td>\n",
       "      <td>10.2</td>\n",
       "      <td>20.6</td>\n",
       "      <td>0.0</td>\n",
       "      <td>5.1</td>\n",
       "      <td>290.0</td>\n",
       "      <td>46.6</td>\n",
       "      <td>533</td>\n",
       "      <td>1925</td>\n",
       "      <td>14.4</td>\n",
       "      <td>1.6</td>\n",
       "      <td>16.0</td>\n",
       "      <td>15.40</td>\n",
       "      <td>104.04</td>\n",
       "      <td>0.00</td>\n",
       "    </tr>\n",
       "    <tr>\n",
       "      <th>2016-05-05</th>\n",
       "      <td>5</td>\n",
       "      <td>0</td>\n",
       "      <td>10.2</td>\n",
       "      <td>26.9</td>\n",
       "      <td>7.5</td>\n",
       "      <td>1.7</td>\n",
       "      <td>320.0</td>\n",
       "      <td>50.8</td>\n",
       "      <td>532</td>\n",
       "      <td>1926</td>\n",
       "      <td>14.4</td>\n",
       "      <td>4.5</td>\n",
       "      <td>16.0</td>\n",
       "      <td>18.55</td>\n",
       "      <td>104.04</td>\n",
       "      <td>381.00</td>\n",
       "    </tr>\n",
       "    <tr>\n",
       "      <th>...</th>\n",
       "      <td>...</td>\n",
       "      <td>...</td>\n",
       "      <td>...</td>\n",
       "      <td>...</td>\n",
       "      <td>...</td>\n",
       "      <td>...</td>\n",
       "      <td>...</td>\n",
       "      <td>...</td>\n",
       "      <td>...</td>\n",
       "      <td>...</td>\n",
       "      <td>...</td>\n",
       "      <td>...</td>\n",
       "      <td>...</td>\n",
       "      <td>...</td>\n",
       "      <td>...</td>\n",
       "      <td>...</td>\n",
       "    </tr>\n",
       "    <tr>\n",
       "      <th>2019-10-27</th>\n",
       "      <td>10</td>\n",
       "      <td>0</td>\n",
       "      <td>4.7</td>\n",
       "      <td>17.4</td>\n",
       "      <td>0.0</td>\n",
       "      <td>1.6</td>\n",
       "      <td>290.0</td>\n",
       "      <td>59.0</td>\n",
       "      <td>651</td>\n",
       "      <td>1740</td>\n",
       "      <td>11.7</td>\n",
       "      <td>0.9</td>\n",
       "      <td>17.7</td>\n",
       "      <td>11.05</td>\n",
       "      <td>22.09</td>\n",
       "      <td>0.00</td>\n",
       "    </tr>\n",
       "    <tr>\n",
       "      <th>2019-10-28</th>\n",
       "      <td>10</td>\n",
       "      <td>0</td>\n",
       "      <td>7.4</td>\n",
       "      <td>17.7</td>\n",
       "      <td>1.7</td>\n",
       "      <td>2.5</td>\n",
       "      <td>200.0</td>\n",
       "      <td>65.9</td>\n",
       "      <td>652</td>\n",
       "      <td>1739</td>\n",
       "      <td>11.6</td>\n",
       "      <td>5.6</td>\n",
       "      <td>17.1</td>\n",
       "      <td>12.55</td>\n",
       "      <td>54.76</td>\n",
       "      <td>112.03</td>\n",
       "    </tr>\n",
       "    <tr>\n",
       "      <th>2019-10-29</th>\n",
       "      <td>10</td>\n",
       "      <td>0</td>\n",
       "      <td>8.2</td>\n",
       "      <td>17.6</td>\n",
       "      <td>0.1</td>\n",
       "      <td>2.3</td>\n",
       "      <td>270.0</td>\n",
       "      <td>61.0</td>\n",
       "      <td>653</td>\n",
       "      <td>1738</td>\n",
       "      <td>11.6</td>\n",
       "      <td>1.6</td>\n",
       "      <td>17.0</td>\n",
       "      <td>12.90</td>\n",
       "      <td>67.24</td>\n",
       "      <td>6.10</td>\n",
       "    </tr>\n",
       "    <tr>\n",
       "      <th>2019-10-30</th>\n",
       "      <td>10</td>\n",
       "      <td>0</td>\n",
       "      <td>5.0</td>\n",
       "      <td>17.7</td>\n",
       "      <td>0.0</td>\n",
       "      <td>1.6</td>\n",
       "      <td>270.0</td>\n",
       "      <td>60.3</td>\n",
       "      <td>654</td>\n",
       "      <td>1737</td>\n",
       "      <td>11.6</td>\n",
       "      <td>0.3</td>\n",
       "      <td>16.6</td>\n",
       "      <td>11.35</td>\n",
       "      <td>25.00</td>\n",
       "      <td>0.00</td>\n",
       "    </tr>\n",
       "    <tr>\n",
       "      <th>2019-10-31</th>\n",
       "      <td>10</td>\n",
       "      <td>0</td>\n",
       "      <td>8.4</td>\n",
       "      <td>19.7</td>\n",
       "      <td>0.0</td>\n",
       "      <td>2.3</td>\n",
       "      <td>230.0</td>\n",
       "      <td>73.8</td>\n",
       "      <td>655</td>\n",
       "      <td>1736</td>\n",
       "      <td>11.5</td>\n",
       "      <td>4.6</td>\n",
       "      <td>16.2</td>\n",
       "      <td>14.05</td>\n",
       "      <td>70.56</td>\n",
       "      <td>0.00</td>\n",
       "    </tr>\n",
       "  </tbody>\n",
       "</table>\n",
       "<p>727 rows × 16 columns</p>\n",
       "</div>"
      ],
      "text/plain": [
       "             월  모기 활동 여부  최저기온(°C)  최고기온(°C)  일강수량(mm)  평균 풍속(m/s)  \\\n",
       "모기지수 발생일                                                             \n",
       "2016-05-01   5         0      12.2      26.0       0.0         2.2   \n",
       "2016-05-02   5         1      16.5      28.4      16.5         2.2   \n",
       "2016-05-03   5         0       8.9      17.6      27.0         4.9   \n",
       "2016-05-04   5         0      10.2      20.6       0.0         5.1   \n",
       "2016-05-05   5         0      10.2      26.9       7.5         1.7   \n",
       "...         ..       ...       ...       ...       ...         ...   \n",
       "2019-10-27  10         0       4.7      17.4       0.0         1.6   \n",
       "2019-10-28  10         0       7.4      17.7       1.7         2.5   \n",
       "2019-10-29  10         0       8.2      17.6       0.1         2.3   \n",
       "2019-10-30  10         0       5.0      17.7       0.0         1.6   \n",
       "2019-10-31  10         0       8.4      19.7       0.0         2.3   \n",
       "\n",
       "            최다풍향(16방위)  평균 상대습도(%)   일출    일몰   일조량  평균 전운량(1/10)  \\\n",
       "모기지수 발생일                                                            \n",
       "2016-05-01       250.0        40.5  537  1922  14.2           5.6   \n",
       "2016-05-02       200.0        64.5  536  1923  14.3           7.0   \n",
       "2016-05-03       270.0        86.1  535  1924  14.3          10.0   \n",
       "2016-05-04       290.0        46.6  533  1925  14.4           1.6   \n",
       "2016-05-05       320.0        50.8  532  1926  14.4           4.5   \n",
       "...                ...         ...  ...   ...   ...           ...   \n",
       "2019-10-27       290.0        59.0  651  1740  11.7           0.9   \n",
       "2019-10-28       200.0        65.9  652  1739  11.6           5.6   \n",
       "2019-10-29       270.0        61.0  653  1738  11.6           1.6   \n",
       "2019-10-30       270.0        60.3  654  1737  11.6           0.3   \n",
       "2019-10-31       230.0        73.8  655  1736  11.5           4.6   \n",
       "\n",
       "            0.5m 지중온도(°C)   평균기온  최저기온**2  상대습도*강수량  \n",
       "모기지수 발생일                                             \n",
       "2016-05-01           15.8  19.10   148.84      0.00  \n",
       "2016-05-02           16.3  22.45   272.25   1064.25  \n",
       "2016-05-03           17.3  13.25    79.21   2324.70  \n",
       "2016-05-04           16.0  15.40   104.04      0.00  \n",
       "2016-05-05           16.0  18.55   104.04    381.00  \n",
       "...                   ...    ...      ...       ...  \n",
       "2019-10-27           17.7  11.05    22.09      0.00  \n",
       "2019-10-28           17.1  12.55    54.76    112.03  \n",
       "2019-10-29           17.0  12.90    67.24      6.10  \n",
       "2019-10-30           16.6  11.35    25.00      0.00  \n",
       "2019-10-31           16.2  14.05    70.56      0.00  \n",
       "\n",
       "[727 rows x 16 columns]"
      ]
     },
     "execution_count": 28,
     "metadata": {},
     "output_type": "execute_result"
    }
   ],
   "source": [
    "feature.set_index('모기지수 발생일', inplace=True)\n",
    "feature"
   ]
  },
  {
   "cell_type": "code",
   "execution_count": 29,
   "metadata": {
    "scrolled": true
   },
   "outputs": [
    {
     "name": "stdout",
     "output_type": "stream",
     "text": [
      "(727, 16)\n",
      "(727, 1)\n"
     ]
    }
   ],
   "source": [
    "print(feature.shape)\n",
    "print(label.shape)"
   ]
  },
  {
   "cell_type": "code",
   "execution_count": 30,
   "metadata": {},
   "outputs": [
    {
     "data": {
      "text/plain": [
       "Index(['월', '모기 활동 여부', '최저기온(°C)', '최고기온(°C)', '일강수량(mm)', '평균 풍속(m/s)',\n",
       "       '최다풍향(16방위)', '평균 상대습도(%)', '일출', '일몰', '일조량', '평균 전운량(1/10)',\n",
       "       '0.5m 지중온도(°C)', '평균기온', '최저기온**2', '상대습도*강수량'],\n",
       "      dtype='object')"
      ]
     },
     "execution_count": 30,
     "metadata": {},
     "output_type": "execute_result"
    }
   ],
   "source": [
    "feature.columns"
   ]
  },
  {
   "cell_type": "code",
   "execution_count": 31,
   "metadata": {},
   "outputs": [
    {
     "name": "stdout",
     "output_type": "stream",
     "text": [
      "<class 'pandas.core.frame.DataFrame'>\n",
      "RangeIndex: 727 entries, 0 to 726\n",
      "Data columns (total 18 columns):\n",
      " #   Column         Non-Null Count  Dtype  \n",
      "---  ------         --------------  -----  \n",
      " 0   월              727 non-null    int64  \n",
      " 1   모기 활동 여부       727 non-null    int64  \n",
      " 2   모기지수 발생일       727 non-null    object \n",
      " 3   분류             727 non-null    object \n",
      " 4   최저기온(°C)       727 non-null    float64\n",
      " 5   최고기온(°C)       727 non-null    float64\n",
      " 6   일강수량(mm)       727 non-null    float64\n",
      " 7   평균 풍속(m/s)     727 non-null    float64\n",
      " 8   최다풍향(16방위)     727 non-null    float64\n",
      " 9   평균 상대습도(%)     727 non-null    float64\n",
      " 10  일출             727 non-null    int64  \n",
      " 11  일몰             727 non-null    int64  \n",
      " 12  일조량            727 non-null    float64\n",
      " 13  평균 전운량(1/10)   727 non-null    float64\n",
      " 14  0.5m 지중온도(°C)  727 non-null    float64\n",
      " 15  평균기온           727 non-null    float64\n",
      " 16  최저기온**2        727 non-null    float64\n",
      " 17  상대습도*강수량       727 non-null    float64\n",
      "dtypes: float64(12), int64(4), object(2)\n",
      "memory usage: 102.4+ KB\n"
     ]
    }
   ],
   "source": [
    "data.info()"
   ]
  },
  {
   "cell_type": "code",
   "execution_count": 32,
   "metadata": {},
   "outputs": [
    {
     "name": "stdout",
     "output_type": "stream",
     "text": [
      "<class 'pandas.core.frame.DataFrame'>\n",
      "RangeIndex: 725 entries, 0 to 724\n",
      "Data columns (total 12 columns):\n",
      " #   Column         Non-Null Count  Dtype  \n",
      "---  ------         --------------  -----  \n",
      " 0   지점             725 non-null    int64  \n",
      " 1   지점명            725 non-null    object \n",
      " 2   일시             725 non-null    object \n",
      " 3   평균기온(°C)       725 non-null    float64\n",
      " 4   최저기온(°C)       725 non-null    float64\n",
      " 5   최고기온(°C)       725 non-null    float64\n",
      " 6   일강수량(mm)       725 non-null    float64\n",
      " 7   평균 풍속(m/s)     725 non-null    float64\n",
      " 8   최다풍향(16방위)     725 non-null    int64  \n",
      " 9   평균 상대습도(%)     725 non-null    float64\n",
      " 10  평균 전운량(1/10)   725 non-null    float64\n",
      " 11  0.5m 지중온도(°C)  725 non-null    float64\n",
      "dtypes: float64(8), int64(2), object(2)\n",
      "memory usage: 68.1+ KB\n"
     ]
    }
   ],
   "source": [
    "data_w.info()"
   ]
  },
  {
   "cell_type": "code",
   "execution_count": 33,
   "metadata": {},
   "outputs": [
    {
     "name": "stdout",
     "output_type": "stream",
     "text": [
      "02\n",
      "<class 'int'>\n"
     ]
    }
   ],
   "source": [
    "print(data_w['일시'].iloc[0][5:7])\n",
    "print(type(int(data_w['일시'].iloc[0][5:7])))"
   ]
  },
  {
   "cell_type": "code",
   "execution_count": 34,
   "metadata": {
    "scrolled": true
   },
   "outputs": [
    {
     "name": "stderr",
     "output_type": "stream",
     "text": [
      "C:\\Users\\smhrd\\anaconda3\\lib\\site-packages\\pandas\\core\\indexing.py:670: SettingWithCopyWarning: \n",
      "A value is trying to be set on a copy of a slice from a DataFrame\n",
      "\n",
      "See the caveats in the documentation: https://pandas.pydata.org/pandas-docs/stable/user_guide/indexing.html#returning-a-view-versus-a-copy\n",
      "  iloc._setitem_with_indexer(indexer, value)\n"
     ]
    }
   ],
   "source": [
    "# data_w 월 분리\n",
    "data_w['월'] = data_w['일시']\n",
    "\n",
    "for i in range(len(data_w)) :\n",
    "    data_w['월'].iloc[i] = int(data_w['일시'].iloc[i][5:7])"
   ]
  },
  {
   "cell_type": "code",
   "execution_count": 35,
   "metadata": {},
   "outputs": [],
   "source": [
    "data_w['최저기온**2'] = data_w['최저기온(°C)']**2\n",
    "data_w['상대습도*강수량'] = data_w['평균 상대습도(%)'] * data_w['일강수량(mm)']"
   ]
  },
  {
   "cell_type": "code",
   "execution_count": 36,
   "metadata": {},
   "outputs": [
    {
     "name": "stdout",
     "output_type": "stream",
     "text": [
      "1\n",
      "2\n",
      "3\n",
      "4\n"
     ]
    }
   ],
   "source": [
    "for i in range(1,5) :\n",
    "    print(i)"
   ]
  },
  {
   "cell_type": "code",
   "execution_count": 37,
   "metadata": {},
   "outputs": [
    {
     "data": {
      "text/plain": [
       "Index(['지점', '지점명', '일시', '평균기온(°C)', '최저기온(°C)', '최고기온(°C)', '일강수량(mm)',\n",
       "       '평균 풍속(m/s)', '최다풍향(16방위)', '평균 상대습도(%)', '평균 전운량(1/10)',\n",
       "       '0.5m 지중온도(°C)', '월', '최저기온**2', '상대습도*강수량'],\n",
       "      dtype='object')"
      ]
     },
     "execution_count": 37,
     "metadata": {},
     "output_type": "execute_result"
    }
   ],
   "source": [
    "data_w.columns"
   ]
  },
  {
   "cell_type": "markdown",
   "metadata": {},
   "source": [
    "### data_w(일기상정보) 평균값 리스트 만들기"
   ]
  },
  {
   "cell_type": "code",
   "execution_count": 38,
   "metadata": {},
   "outputs": [],
   "source": [
    "Htemp = []\n",
    "Ltemp = []\n",
    "rain = []\n",
    "wind_avg = []\n",
    "wind_dir = []\n",
    "humid = []\n",
    "Ltemp2 = []\n",
    "humidXrain = []\n",
    "temp05 = []\n",
    "cloud = []\n",
    "\n",
    "for j in range(1,5) :\n",
    "    Htemp.append(round(data_w[data_w['월']==j]['최고기온(°C)'].mean(),1))\n",
    "    Ltemp.append(round(data_w[data_w['월']==j]['최저기온(°C)'].mean(),1))\n",
    "    rain.append(round(data_w[data_w['월']==j]['일강수량(mm)'].mean(),1))\n",
    "    wind_avg.append(round(data_w[data_w['월']==j]['평균 풍속(m/s)'].mean(),1))\n",
    "    wind_dir.append(round(data_w[data_w['월']==j]['최다풍향(16방위)'].mean(),1))\n",
    "    humid.append(round(data_w[data_w['월']==j]['평균 상대습도(%)'].mean(),1))\n",
    "    Ltemp2.append(round(data_w[data_w['월']==j]['최저기온**2'].mean(),1))\n",
    "    humidXrain.append(round(data_w[data_w['월']==j]['상대습도*강수량'].mean(),1))\n",
    "    temp05.append(round(data_w[data_w['월']==j]['0.5m 지중온도(°C)'].mean(),1))\n",
    "    cloud.append(round(data_w[data_w['월']==j]['평균 전운량(1/10)'].mean(),1))"
   ]
  },
  {
   "cell_type": "code",
   "execution_count": 39,
   "metadata": {},
   "outputs": [],
   "source": [
    "for j in range(5, 11) :\n",
    "    Htemp.append(round(data[data['월']==j]['최고기온(°C)'].mean(),1))\n",
    "    Ltemp.append(round(data[data['월']==j]['최저기온(°C)'].mean(),1))\n",
    "    rain.append(round(data[data['월']==j]['일강수량(mm)'].mean(),1))\n",
    "    wind_avg.append(round(data[data['월']==j]['평균 풍속(m/s)'].mean(),1))\n",
    "    wind_dir.append(round(data[data['월']==j]['최다풍향(16방위)'].mean(),1))\n",
    "    humid.append(round(data[data['월']==j]['평균 상대습도(%)'].mean(),1))\n",
    "    Ltemp2.append(round(data[data['월']==j]['최저기온**2'].mean(),1))\n",
    "    humidXrain.append(round(data[data['월']==j]['상대습도*강수량'].mean(),1))\n",
    "    temp05.append(round(data[data['월']==j]['0.5m 지중온도(°C)'].mean(),1))\n",
    "    cloud.append(round(data[data['월']==j]['평균 전운량(1/10)'].mean(),1))"
   ]
  },
  {
   "cell_type": "code",
   "execution_count": 40,
   "metadata": {},
   "outputs": [],
   "source": [
    "for j in range(11,13) :\n",
    "    Htemp.append(round(data_w[data_w['월']==j]['최고기온(°C)'].mean(),1))\n",
    "    Ltemp.append(round(data_w[data_w['월']==j]['최저기온(°C)'].mean(),1))\n",
    "    rain.append(round(data_w[data_w['월']==j]['일강수량(mm)'].mean(),1))\n",
    "    wind_avg.append(round(data_w[data_w['월']==j]['평균 풍속(m/s)'].mean(),1))\n",
    "    wind_dir.append(round(data_w[data_w['월']==j]['최다풍향(16방위)'].mean(),1))\n",
    "    humid.append(round(data_w[data_w['월']==j]['평균 상대습도(%)'].mean(),1))\n",
    "    Ltemp2.append(round(data_w[data_w['월']==j]['최저기온**2'].mean(),1))\n",
    "    humidXrain.append(round(data_w[data_w['월']==j]['상대습도*강수량'].mean(),1))\n",
    "    temp05.append(round(data_w[data_w['월']==j]['0.5m 지중온도(°C)'].mean(),1))\n",
    "    cloud.append(round(data_w[data_w['월']==j]['평균 전운량(1/10)'].mean(),1))"
   ]
  },
  {
   "cell_type": "code",
   "execution_count": 41,
   "metadata": {
    "scrolled": true
   },
   "outputs": [
    {
     "name": "stdout",
     "output_type": "stream",
     "text": [
      "Htemp 최고기온(°C) : [2.1, 4.8, 12.7, 19.1, 25.0, 28.3, 30.6, 31.7, 27.1, 21.6, 12.0, 4.3]\n",
      "Ltemp 최저기온(°C) : [-6.2, -4.5, 2.7, 8.3, 13.9, 18.7, 23.6, 24.0, 18.3, 11.5, 2.7, -3.9]\n",
      "rain 일강수량(mm) : [2.9, 3.6, 3.7, 4.9, 3.5, 3.2, 10.9, 6.4, 2.3, 2.4, 4.0, 3.2]\n",
      "wind_avg 평균 풍속(m/s) : [2.1, 2.3, 2.2, 2.2, 2.1, 2.0, 1.9, 1.9, 1.9, 2.0, 2.0, 2.0]\n",
      "wind_dir 최다풍향(16방위) : [223.1, 249.4, 235.8, 224.0, 234.0, 215.3, 189.0, 164.1, 184.4, 195.8, 187.3, 196.8]\n",
      "humid 평균 상대습도(%) : [50.3, 49.5, 52.4, 53.2, 54.6, 61.2, 71.6, 67.1, 62.8, 60.3, 55.9, 54.6]\n",
      "Ltemp2 최저기온**2 : [61.8, 35.0, 21.0, 79.7, 201.5, 354.6, 563.5, 584.7, 342.2, 149.3, 29.3, 36.0]\n",
      "humidXrain 상대습도*강수량 : [138.3, 199.3, 215.9, 297.5, 297.6, 252.7, 971.4, 553.1, 196.7, 198.3, 254.4, 186.9]\n",
      "temp05 지중0.5m 온도 : [2.5, 1.6, 6.6, 12.4, 18.2, 22.8, 25.7, 27.5, 24.0, 19.6, 12.0, 5.3]\n",
      "cloud 전운량 : [3.7, 3.8, 4.3, 4.7, 4.4, 5.3, 6.8, 5.8, 5.4, 4.6, 4.3, 4.2]\n"
     ]
    }
   ],
   "source": [
    "print('Htemp 최고기온(°C) :', Htemp)\n",
    "print('Ltemp 최저기온(°C) :', Ltemp)\n",
    "print('rain 일강수량(mm) :', rain)\n",
    "print('wind_avg 평균 풍속(m/s) :', wind_avg)\n",
    "print('wind_dir 최다풍향(16방위) :', wind_dir)\n",
    "print('humid 평균 상대습도(%) :', humid)\n",
    "print('Ltemp2 최저기온**2 :', Ltemp2)\n",
    "print('humidXrain 상대습도*강수량 :', humidXrain)\n",
    "print('temp05 지중0.5m 온도 :', temp05)\n",
    "print('cloud 전운량 :', cloud)"
   ]
  },
  {
   "cell_type": "code",
   "execution_count": 42,
   "metadata": {},
   "outputs": [
    {
     "name": "stdout",
     "output_type": "stream",
     "text": [
      "<class 'pandas.core.frame.DataFrame'>\n",
      "Index: 727 entries, 2016-05-01 to 2019-10-31\n",
      "Data columns (total 16 columns):\n",
      " #   Column         Non-Null Count  Dtype  \n",
      "---  ------         --------------  -----  \n",
      " 0   월              727 non-null    int64  \n",
      " 1   모기 활동 여부       727 non-null    int64  \n",
      " 2   최저기온(°C)       727 non-null    float64\n",
      " 3   최고기온(°C)       727 non-null    float64\n",
      " 4   일강수량(mm)       727 non-null    float64\n",
      " 5   평균 풍속(m/s)     727 non-null    float64\n",
      " 6   최다풍향(16방위)     727 non-null    float64\n",
      " 7   평균 상대습도(%)     727 non-null    float64\n",
      " 8   일출             727 non-null    int64  \n",
      " 9   일몰             727 non-null    int64  \n",
      " 10  일조량            727 non-null    float64\n",
      " 11  평균 전운량(1/10)   727 non-null    float64\n",
      " 12  0.5m 지중온도(°C)  727 non-null    float64\n",
      " 13  평균기온           727 non-null    float64\n",
      " 14  최저기온**2        727 non-null    float64\n",
      " 15  상대습도*강수량       727 non-null    float64\n",
      "dtypes: float64(12), int64(4)\n",
      "memory usage: 96.6+ KB\n"
     ]
    }
   ],
   "source": [
    "feature.info()"
   ]
  },
  {
   "cell_type": "code",
   "execution_count": 43,
   "metadata": {},
   "outputs": [
    {
     "data": {
      "text/html": [
       "<div>\n",
       "<style scoped>\n",
       "    .dataframe tbody tr th:only-of-type {\n",
       "        vertical-align: middle;\n",
       "    }\n",
       "\n",
       "    .dataframe tbody tr th {\n",
       "        vertical-align: top;\n",
       "    }\n",
       "\n",
       "    .dataframe thead th {\n",
       "        text-align: right;\n",
       "    }\n",
       "</style>\n",
       "<table border=\"1\" class=\"dataframe\">\n",
       "  <thead>\n",
       "    <tr style=\"text-align: right;\">\n",
       "      <th></th>\n",
       "      <th>분류</th>\n",
       "    </tr>\n",
       "  </thead>\n",
       "  <tbody>\n",
       "    <tr>\n",
       "      <th>0</th>\n",
       "      <td>관심</td>\n",
       "    </tr>\n",
       "    <tr>\n",
       "      <th>1</th>\n",
       "      <td>관심</td>\n",
       "    </tr>\n",
       "    <tr>\n",
       "      <th>2</th>\n",
       "      <td>관심</td>\n",
       "    </tr>\n",
       "    <tr>\n",
       "      <th>3</th>\n",
       "      <td>관심</td>\n",
       "    </tr>\n",
       "    <tr>\n",
       "      <th>4</th>\n",
       "      <td>쾌적</td>\n",
       "    </tr>\n",
       "    <tr>\n",
       "      <th>...</th>\n",
       "      <td>...</td>\n",
       "    </tr>\n",
       "    <tr>\n",
       "      <th>722</th>\n",
       "      <td>쾌적</td>\n",
       "    </tr>\n",
       "    <tr>\n",
       "      <th>723</th>\n",
       "      <td>쾌적</td>\n",
       "    </tr>\n",
       "    <tr>\n",
       "      <th>724</th>\n",
       "      <td>쾌적</td>\n",
       "    </tr>\n",
       "    <tr>\n",
       "      <th>725</th>\n",
       "      <td>쾌적</td>\n",
       "    </tr>\n",
       "    <tr>\n",
       "      <th>726</th>\n",
       "      <td>쾌적</td>\n",
       "    </tr>\n",
       "  </tbody>\n",
       "</table>\n",
       "<p>727 rows × 1 columns</p>\n",
       "</div>"
      ],
      "text/plain": [
       "     분류\n",
       "0    관심\n",
       "1    관심\n",
       "2    관심\n",
       "3    관심\n",
       "4    쾌적\n",
       "..   ..\n",
       "722  쾌적\n",
       "723  쾌적\n",
       "724  쾌적\n",
       "725  쾌적\n",
       "726  쾌적\n",
       "\n",
       "[727 rows x 1 columns]"
      ]
     },
     "execution_count": 43,
     "metadata": {},
     "output_type": "execute_result"
    }
   ],
   "source": [
    "label"
   ]
  },
  {
   "cell_type": "markdown",
   "metadata": {},
   "source": [
    "### 모델링"
   ]
  },
  {
   "cell_type": "code",
   "execution_count": 44,
   "metadata": {},
   "outputs": [],
   "source": [
    "from sklearn.ensemble import RandomForestClassifier # 각각의 tree 모델 앙상블\n",
    "from sklearn.neighbors import KNeighborsClassifier\n",
    "from sklearn.tree import DecisionTreeClassifier\n",
    "from sklearn.model_selection import train_test_split\n",
    "from sklearn.model_selection import GridSearchCV"
   ]
  },
  {
   "cell_type": "code",
   "execution_count": 45,
   "metadata": {},
   "outputs": [],
   "source": [
    "from sklearn.ensemble import GradientBoostingClassifier\n",
    "grb = GradientBoostingClassifier(random_state=0)"
   ]
  },
  {
   "cell_type": "code",
   "execution_count": 46,
   "metadata": {},
   "outputs": [],
   "source": [
    "X_train, X_test, y_train, y_test = train_test_split(feature, label, test_size=0.3, random_state=7)"
   ]
  },
  {
   "cell_type": "code",
   "execution_count": 47,
   "metadata": {},
   "outputs": [
    {
     "name": "stdout",
     "output_type": "stream",
     "text": [
      "(508, 16)\n",
      "(219, 16)\n",
      "(508, 1)\n",
      "(219, 1)\n"
     ]
    }
   ],
   "source": [
    "print(X_train.shape)\n",
    "print(X_test.shape)\n",
    "print(y_train.shape)\n",
    "print(y_test.shape)"
   ]
  },
  {
   "cell_type": "code",
   "execution_count": 48,
   "metadata": {},
   "outputs": [],
   "source": [
    "knn = KNeighborsClassifier()\n",
    "tree = DecisionTreeClassifier()\n",
    "forest_model = RandomForestClassifier()"
   ]
  },
  {
   "cell_type": "code",
   "execution_count": 49,
   "metadata": {
    "scrolled": true
   },
   "outputs": [
    {
     "name": "stderr",
     "output_type": "stream",
     "text": [
      "<ipython-input-49-80fea3a15e99>:1: DataConversionWarning: A column-vector y was passed when a 1d array was expected. Please change the shape of y to (n_samples, ), for example using ravel().\n",
      "  knn.fit(X_train, y_train)\n",
      "<ipython-input-49-80fea3a15e99>:2: DataConversionWarning: A column-vector y was passed when a 1d array was expected. Please change the shape of y to (n_samples,), for example using ravel().\n",
      "  forest_model.fit(X_train, y_train)\n",
      "C:\\Users\\smhrd\\anaconda3\\lib\\site-packages\\sklearn\\utils\\validation.py:72: DataConversionWarning: A column-vector y was passed when a 1d array was expected. Please change the shape of y to (n_samples, ), for example using ravel().\n",
      "  return f(**kwargs)\n"
     ]
    },
    {
     "data": {
      "text/plain": [
       "DecisionTreeClassifier()"
      ]
     },
     "execution_count": 49,
     "metadata": {},
     "output_type": "execute_result"
    }
   ],
   "source": [
    "knn.fit(X_train, y_train)\n",
    "forest_model.fit(X_train, y_train)\n",
    "grb.fit(X_train, y_train)\n",
    "tree.fit(X_train, y_train)"
   ]
  },
  {
   "cell_type": "code",
   "execution_count": 50,
   "metadata": {},
   "outputs": [
    {
     "name": "stdout",
     "output_type": "stream",
     "text": [
      "0.5205479452054794\n",
      "0.726027397260274\n",
      "0.7214611872146118\n",
      "0.7031963470319634\n"
     ]
    }
   ],
   "source": [
    "print(knn.score(X_test, y_test))\n",
    "print(forest_model.score(X_test, y_test))\n",
    "print(grb.score(X_test, y_test))\n",
    "print(tree.score(X_test, y_test))"
   ]
  },
  {
   "cell_type": "code",
   "execution_count": 51,
   "metadata": {},
   "outputs": [
    {
     "name": "stdout",
     "output_type": "stream",
     "text": [
      "Requirement already satisfied: xgboost in c:\\users\\smhrd\\anaconda3\\lib\\site-packages (1.3.3)\n",
      "Requirement already satisfied: numpy in c:\\users\\smhrd\\anaconda3\\lib\\site-packages (from xgboost) (1.19.2)\n",
      "Requirement already satisfied: scipy in c:\\users\\smhrd\\anaconda3\\lib\\site-packages (from xgboost) (1.5.2)\n"
     ]
    }
   ],
   "source": [
    "!pip install xgboost\n",
    "from xgboost import XGBClassifier"
   ]
  },
  {
   "cell_type": "markdown",
   "metadata": {},
   "source": [
    "xg = XGBClassifier(n_estimators=500, learning_rate=0.1, max_depth=5, min_child_weight=1,scale_pos_weight=1,subsample=0.8, colsample_bytree=0.8, gamma=0.2, reg_alpha=0.5) : 0.607"
   ]
  },
  {
   "cell_type": "markdown",
   "metadata": {},
   "source": [
    "xg = XGBClassifier(n_estimators=500, learning_rate=0.1, max_depth=5, min_child_weight=1, scale_pos_weight=1,subsample=0.8,reg_alpha=0.5) : 0.621"
   ]
  },
  {
   "cell_type": "code",
   "execution_count": 52,
   "metadata": {},
   "outputs": [
    {
     "name": "stderr",
     "output_type": "stream",
     "text": [
      "C:\\Users\\smhrd\\anaconda3\\lib\\site-packages\\xgboost\\sklearn.py:888: UserWarning: The use of label encoder in XGBClassifier is deprecated and will be removed in a future release. To remove this warning, do the following: 1) Pass option use_label_encoder=False when constructing XGBClassifier object; and 2) Encode your labels (y) as integers starting with 0, i.e. 0, 1, 2, ..., [num_class - 1].\n",
      "  warnings.warn(label_encoder_deprecation_msg, UserWarning)\n",
      "C:\\Users\\smhrd\\anaconda3\\lib\\site-packages\\sklearn\\utils\\validation.py:72: DataConversionWarning: A column-vector y was passed when a 1d array was expected. Please change the shape of y to (n_samples, ), for example using ravel().\n",
      "  return f(**kwargs)\n"
     ]
    },
    {
     "name": "stdout",
     "output_type": "stream",
     "text": [
      "[09:09:10] WARNING: C:/Users/Administrator/workspace/xgboost-win64_release_1.3.0/src/learner.cc:1061: Starting in XGBoost 1.3.0, the default evaluation metric used with the objective 'multi:softprob' was changed from 'merror' to 'mlogloss'. Explicitly set eval_metric if you'd like to restore the old behavior.\n"
     ]
    },
    {
     "data": {
      "text/plain": [
       "XGBClassifier(base_score=0.5, booster='gbtree', colsample_bylevel=1,\n",
       "              colsample_bynode=1, colsample_bytree=1, gamma=0, gpu_id=-1,\n",
       "              importance_type='gain', interaction_constraints='',\n",
       "              learning_rate=0.01, max_delta_step=0, max_depth=5,\n",
       "              min_child_weight=1, missing=nan, monotone_constraints='()',\n",
       "              n_estimators=500, n_jobs=8, num_parallel_tree=1,\n",
       "              objective='multi:softprob', random_state=0, reg_alpha=0.3,\n",
       "              reg_lambda=1, scale_pos_weight=None, subsample=1,\n",
       "              tree_method='exact', validate_parameters=1, verbosity=None)"
      ]
     },
     "execution_count": 52,
     "metadata": {},
     "output_type": "execute_result"
    }
   ],
   "source": [
    "xg = XGBClassifier(learning_rate = 0.01, max_depth = 5, n_estimators = 500, reg_alpha = 0.3)\n",
    "xg.fit(X_train, y_train)"
   ]
  },
  {
   "cell_type": "code",
   "execution_count": 53,
   "metadata": {},
   "outputs": [
    {
     "data": {
      "text/plain": [
       "0.6894977168949772"
      ]
     },
     "execution_count": 53,
     "metadata": {},
     "output_type": "execute_result"
    }
   ],
   "source": [
    "xg.score(X_test, y_test)"
   ]
  },
  {
   "cell_type": "markdown",
   "metadata": {},
   "source": [
    "GridSearch"
   ]
  },
  {
   "cell_type": "code",
   "execution_count": 54,
   "metadata": {},
   "outputs": [],
   "source": [
    "param_grid = {\n",
    "    'max_depth' : [3, 5, 7, 10],\n",
    "    'n_estimators' : [500, 1000, 2000, 2500],\n",
    "    'learning_rate' : [0.01, 0.001, 0.0001],\n",
    "    'reg_alpha' : [0.5, 0.3, 0.7]\n",
    "}"
   ]
  },
  {
   "cell_type": "code",
   "execution_count": 55,
   "metadata": {},
   "outputs": [],
   "source": [
    "gridXG = GridSearchCV(xg, param_grid, cv=5)"
   ]
  },
  {
   "cell_type": "markdown",
   "metadata": {},
   "source": [
    "0.6847214133178025\n",
    "{'learning_rate': 0.01, 'max_depth': 5, 'n_estimators': 500, 'reg_alpha': 0.3}"
   ]
  },
  {
   "cell_type": "code",
   "execution_count": 56,
   "metadata": {},
   "outputs": [],
   "source": [
    "from matplotlib import font_manager, rc\n",
    "font_name = font_manager.FontProperties(fname=\"c:/Windows/Fonts/malgun.ttf\").get_name()\n",
    "rc('font', family=font_name)"
   ]
  },
  {
   "cell_type": "code",
   "execution_count": 57,
   "metadata": {
    "scrolled": true
   },
   "outputs": [
    {
     "data": {
      "image/png": "[encoded data removed]",
      "text/plain": [
       "<Figure size 720x864 with 1 Axes>"
      ]
     },
     "metadata": {
      "needs_background": "light"
     },
     "output_type": "display_data"
    }
   ],
   "source": [
    "from xgboost import plot_importance\n",
    "import matplotlib.pyplot as plt\n",
    "flx , ax = plt.subplots(figsize=(10,12))\n",
    "plot_importance(xg,ax=ax)\n",
    "plt.show()"
   ]
  },
  {
   "cell_type": "code",
   "execution_count": 58,
   "metadata": {},
   "outputs": [],
   "source": [
    "import warnings\n",
    "warnings.filterwarnings('ignore')"
   ]
  },
  {
   "cell_type": "code",
   "execution_count": 59,
   "metadata": {},
   "outputs": [
    {
     "data": {
      "text/plain": [
       "관심    217\n",
       "쾌적    215\n",
       "주의    195\n",
       "불쾌    100\n",
       "Name: 분류, dtype: int64"
      ]
     },
     "execution_count": 59,
     "metadata": {},
     "output_type": "execute_result"
    }
   ],
   "source": [
    "data['분류'].value_counts()"
   ]
  },
  {
   "cell_type": "markdown",
   "metadata": {},
   "source": [
    "# api 적용"
   ]
  },
  {
   "cell_type": "markdown",
   "metadata": {},
   "source": [
    "### RandomForest : forest_model"
   ]
  },
  {
   "cell_type": "code",
   "execution_count": 60,
   "metadata": {},
   "outputs": [],
   "source": [
    "import requests, xmltodict, json"
   ]
  },
  {
   "cell_type": "markdown",
   "metadata": {},
   "source": [
    "    * base_date : 사용자가 조회하는 페이지의 현재 날짜 sysdate\n",
    "    * base_time : 0500 (0200, 0500, 0800, 1100, 1400, 1700, 2000, 2300 / 1일 8회)\n",
    "    * nx, ny : 사용자가 저장한 '내 장소'의 nx,ny 값 가져오기 / 로그인을 하지 않은 상태에서는 기본위치로 스마트인재개발원 위치를 가져오기\n",
    "    * longitude. latitude : 사용자가 저장한 '내 장소'의 경도, 위도 값"
   ]
  },
  {
   "cell_type": "code",
   "execution_count": 61,
   "metadata": {},
   "outputs": [
    {
     "data": {
      "text/plain": [
       "datetime.datetime(2021, 3, 6, 9, 9, 11, 665175)"
      ]
     },
     "execution_count": 61,
     "metadata": {},
     "output_type": "execute_result"
    }
   ],
   "source": [
    "datetime.today()"
   ]
  },
  {
   "cell_type": "code",
   "execution_count": 62,
   "metadata": {},
   "outputs": [
    {
     "name": "stdout",
     "output_type": "stream",
     "text": [
      "20210306\n",
      "20210307\n",
      "20210308\n"
     ]
    }
   ],
   "source": [
    "today = str(datetime.today()).replace('-', '')[:8]\n",
    "tomorrow = str((datetime.today() + timedelta(days=1))).replace('-', '')[:8]\n",
    "aftTmr = str((datetime.today() + timedelta(days=2))).replace('-', '')[:8]\n",
    "print(today)\n",
    "print(tomorrow)\n",
    "print(aftTmr)"
   ]
  },
  {
   "cell_type": "markdown",
   "metadata": {},
   "source": [
    "- 기상청 API : base_date를 오늘로 설정하면 내일, 내일 모레 결과까지 보여줌"
   ]
  },
  {
   "cell_type": "markdown",
   "metadata": {},
   "source": [
    "- 일출몰시간 API : locdate에서 설정한 날짜만의 일출몰시각 알려줌 → 내일, 내일모레 시간으로 새로 조회 필요"
   ]
  },
  {
   "cell_type": "markdown",
   "metadata": {},
   "source": [
    "    POP\t강수확률 - %\n",
    "\tPTY\t강수형태 - 코드값 : 없음(0), 비(1), 비/눈(진눈개비)(2), 눈(3), 소나기(4), 빗방울(5), 빗방울/눈날림(6), 눈날림(7)\n",
    "\tR06\t6시간 강수량 - 범주(1 mm)\n",
    "\tREH\t습도 - %\n",
    "\tS06\t6시간 신적설\t- 범주(1 cm)\n",
    "\tSKY\t하늘상태 - 코드값 : 맑음(1), 구름많음(3), 흐림(4), (구름조금(2) 삭제)\n",
    "\tT3H\t3시간 기온 - ℃\n",
    "\tTMN\t아침 최저기온 - ℃\n",
    "\tTMX\t낮 최고기온 - ℃\n",
    "\tUUU\t풍속(동서성분) - m/s\n",
    "\tVVV\t풍속(남북성분) - m/s\n",
    "\tWAV\t파고 - M\n",
    "\tVEC\t풍향 - deg\n",
    "\tWSD\t풍속 - m/s"
   ]
  },
  {
   "cell_type": "markdown",
   "metadata": {},
   "source": [
    "### json 변환\n",
    "jsonString에서는 키 값 뽑기 X  \n",
    "jsonObj로 loads 해줘야 키 값 뽑기 O"
   ]
  },
  {
   "cell_type": "markdown",
   "metadata": {},
   "source": [
    "### api 값 데이터프레임화"
   ]
  },
  {
   "cell_type": "code",
   "execution_count": 63,
   "metadata": {},
   "outputs": [
    {
     "data": {
      "text/plain": [
       "3"
      ]
     },
     "execution_count": 63,
     "metadata": {},
     "output_type": "execute_result"
    }
   ],
   "source": [
    "# 월\n",
    "# month\n",
    "month = int(today[4:6])\n",
    "month"
   ]
  },
  {
   "cell_type": "markdown",
   "metadata": {},
   "source": [
    "# 최종 예측값"
   ]
  },
  {
   "cell_type": "markdown",
   "metadata": {},
   "source": [
    "### pickle 모듈로 저장"
   ]
  },
  {
   "cell_type": "code",
   "execution_count": 64,
   "metadata": {},
   "outputs": [],
   "source": [
    "import pickle"
   ]
  },
  {
   "cell_type": "code",
   "execution_count": 65,
   "metadata": {},
   "outputs": [],
   "source": [
    "with open(\"forest_model.pkl\", 'wb') as f:\n",
    "    pickle.dump(forest_model, f)"
   ]
  },
  {
   "cell_type": "code",
   "execution_count": 66,
   "metadata": {},
   "outputs": [
    {
     "data": {
      "text/plain": [
       "Index(['월', '모기 활동 여부', '최저기온(°C)', '최고기온(°C)', '일강수량(mm)', '평균 풍속(m/s)',\n",
       "       '최다풍향(16방위)', '평균 상대습도(%)', '일출', '일몰', '일조량', '평균 전운량(1/10)',\n",
       "       '0.5m 지중온도(°C)', '평균기온', '최저기온**2', '상대습도*강수량'],\n",
       "      dtype='object')"
      ]
     },
     "execution_count": 66,
     "metadata": {},
     "output_type": "execute_result"
    }
   ],
   "source": [
    "feature.columns"
   ]
  },
  {
   "cell_type": "code",
   "execution_count": 67,
   "metadata": {},
   "outputs": [
    {
     "data": {
      "text/plain": [
       "16"
      ]
     },
     "execution_count": 67,
     "metadata": {},
     "output_type": "execute_result"
    }
   ],
   "source": [
    "len(feature.columns)"
   ]
  },
  {
   "cell_type": "markdown",
   "metadata": {},
   "source": [
    "- tomcat 서버를 통해 사용자가 입려한 값의 인코딩을 편하게 하기 위해 컬럼 이름을 pickle 모듈로 저장"
   ]
  },
  {
   "cell_type": "code",
   "execution_count": 68,
   "metadata": {},
   "outputs": [],
   "source": [
    "with open(\"forest_model_name.pkl\", 'wb') as f2:\n",
    "    pickle.dump(feature.columns, f2)"
   ]
  },
  {
   "cell_type": "markdown",
   "metadata": {},
   "source": [
    "# Oracle DB연동 & Flask 설치"
   ]
  },
  {
   "cell_type": "code",
   "execution_count": 69,
   "metadata": {},
   "outputs": [
    {
     "name": "stdout",
     "output_type": "stream",
     "text": [
      "Requirement already satisfied: cx_Oracle in c:\\users\\smhrd\\anaconda3\\lib\\site-packages (8.1.0)\n"
     ]
    }
   ],
   "source": [
    "!pip install cx_Oracle"
   ]
  },
  {
   "cell_type": "code",
   "execution_count": 70,
   "metadata": {},
   "outputs": [],
   "source": [
    "import cx_Oracle\n",
    "import os\n",
    "\n",
    "LOCATION = r\"C:\\instantclient_19_8\"\n",
    "os.environ[\"PATH\"] = LOCATION + \";\" + os.environ[\"PATH\"] #환경변수 등록"
   ]
  },
  {
   "cell_type": "code",
   "execution_count": 71,
   "metadata": {},
   "outputs": [],
   "source": [
    "#연결에 필요한 기본 정보 (유저, 비밀번호, 데이터베이스 서버 주소)\n",
    "# connection = cx_Oracle.connect(\"hr\",\"hr\",\"DESKTOP-PDKAGJU:1521/xe\")\n",
    "connection = cx_Oracle.connect(\"hr\",\"hr\",\"127.0.0.1:1521/xe\")\n",
    "# charset='utf8' 이거 추가해야할 수도 있음\n",
    "cursor_geo = connection.cursor()\n",
    "cursor_xy = connection.cursor()\n",
    "cursor_xy_weather = connection.cursor()"
   ]
  },
  {
   "cell_type": "code",
   "execution_count": 72,
   "metadata": {},
   "outputs": [
    {
     "name": "stdout",
     "output_type": "stream",
     "text": [
      "Requirement already satisfied: flask in c:\\users\\smhrd\\anaconda3\\lib\\site-packages (1.1.2)\n",
      "Requirement already satisfied: click>=5.1 in c:\\users\\smhrd\\anaconda3\\lib\\site-packages (from flask) (7.1.2)\n",
      "Requirement already satisfied: Jinja2>=2.10.1 in c:\\users\\smhrd\\anaconda3\\lib\\site-packages (from flask) (2.11.2)\n",
      "Requirement already satisfied: Werkzeug>=0.15 in c:\\users\\smhrd\\anaconda3\\lib\\site-packages (from flask) (1.0.1)\n",
      "Requirement already satisfied: itsdangerous>=0.24 in c:\\users\\smhrd\\anaconda3\\lib\\site-packages (from flask) (1.1.0)\n",
      "Requirement already satisfied: MarkupSafe>=0.23 in c:\\users\\smhrd\\anaconda3\\lib\\site-packages (from Jinja2>=2.10.1->flask) (1.1.1)\n"
     ]
    }
   ],
   "source": [
    "!pip install flask"
   ]
  },
  {
   "cell_type": "code",
   "execution_count": 73,
   "metadata": {},
   "outputs": [],
   "source": [
    "# 기상청 api : json\n",
    "key = \"HhI0V8a2pV09ssFf6Ui%2Bfn9LCPwa05YgfDHax8PHxs8T0nhmhIir%2FnuoEptT0R0xBJv%2FX5rF%2BMrOyEYzuKej6w%3D%3D\"\n",
    "base_date = today #예보날짜(현재 날짜)\n",
    "#base_time (예보시간) : '0500'고정(데이터갯수225개)\n",
    "\n",
    "# 일출몰시간 api : xml\n",
    "locdate = today #예측날짜\n",
    "key_s = \"HhI0V8a2pV09ssFf6Ui%2Bfn9LCPwa05YgfDHax8PHxs8T0nhmhIir%2FnuoEptT0R0xBJv%2FX5rF%2BMrOyEYzuKej6w%3D%3D\""
   ]
  },
  {
   "cell_type": "code",
   "execution_count": 74,
   "metadata": {},
   "outputs": [],
   "source": [
    "feature_lists = ['TMNValueList', 'TMXValueList', 'R06ValueList', 'WSDValueList', 'VECValueList', 'REHValueList']\n",
    "feature_names = ['TMN', 'TMX', 'R06', 'WSD', 'VEC', 'REH']"
   ]
  },
  {
   "cell_type": "code",
   "execution_count": 75,
   "metadata": {},
   "outputs": [],
   "source": [
    "def userinfo(user) :\n",
    "    \n",
    "    userid = user['userid']\n",
    "    userpw = user['userpw']\n",
    "\n",
    "#     userid = 'ahyeon'\n",
    "#     userpw='1'\n",
    "    \n",
    "    cursor_member = connection.cursor()\n",
    "    \n",
    "    sqlmember = \"select * from pet_member where id='{}' and pw='{}'\".format(userid, userpw)\n",
    "#     sqlmember = \"select * from pet_member\"\n",
    "    cursor_member.execute(sqlmember)\n",
    "     \n",
    "    userloc = cursor_member.fetchall()    \n",
    "#     usercity = userloc[0][7]\n",
    "#     usergoo = userloc[0][8]\n",
    "    \n",
    "#     print(userid, userpw)\n",
    "#     print(userloc)\n",
    "    \n",
    "    return userloc"
   ]
  },
  {
   "cell_type": "code",
   "execution_count": 76,
   "metadata": {},
   "outputs": [],
   "source": [
    "def userinfos() :\n",
    "    \n",
    "#     userid = user['userid']\n",
    "#     userpw = user['userpw']\n",
    "\n",
    "    testid = 'ahyeon'\n",
    "    testpw='1'\n",
    "    \n",
    "    cursor_member = connection.cursor()\n",
    "    \n",
    "    sqlmember = \"select * from pet_member where id='{}' and pw='{}'\".format(testid, testpw)\n",
    "#     sqlmember = \"select * from pet_member\"\n",
    "    cursor_member.execute(sqlmember)\n",
    "    \n",
    "    \n",
    "    userloc = cursor_member.fetchall()\n",
    "\n",
    "#     if(userloc==실패){\n",
    "        \n",
    "        \n",
    "#     }\n",
    "#     usercity = userloc[0][7]\n",
    "#     usergoo = userloc[0][8]\n",
    "    \n",
    "#     print(userid, userpw)\n",
    "#     print (userloc)\n",
    "    \n",
    "    return userloc\n",
    "\n",
    "# userloc에 값이 하나도 없으면 len(userloc) = 0"
   ]
  },
  {
   "cell_type": "code",
   "execution_count": 77,
   "metadata": {},
   "outputs": [
    {
     "name": "stdout",
     "output_type": "stream",
     "text": [
      "[(23, 'ahyeon', '1', '1', 'nana', '19961002', 'dog', '광주광역시', '광산구', None)]\n",
      "광주광역시\n",
      "<class 'str'>\n"
     ]
    }
   ],
   "source": [
    "print(userinfos())\n",
    "print(userinfos()[0][7])\n",
    "print(type(userinfos()[0][7]))"
   ]
  },
  {
   "cell_type": "code",
   "execution_count": 78,
   "metadata": {},
   "outputs": [],
   "source": [
    "def preprocessing(user):\n",
    "\n",
    "    with open('forest_model_name.pkl','rb') as f :\n",
    "        mosquito_columns = pickle.load(f)\n",
    "    \n",
    "    df = pd.DataFrame( np.zeros((1,16)) , columns=mosquito_columns)\n",
    "    \n",
    "    city = user[0][7]\n",
    "    goo = user[0][8]\n",
    "    \n",
    "#     city = '광주광역시'\n",
    "#     goo = '광산구'\n",
    "    \n",
    "    sqlgeo = \"SELECT * FROM GEOCODE WHERE CITY LIKE '{}' AND GOO LIKE '{}'\".format(city, goo)\n",
    "    sqlxy = \"SELECT * FROM XYCODE WHERE CITY LIKE '{}' AND GOO LIKE '{}'\".format(city, goo)\n",
    "\n",
    "#     sqlgeo = \"select * from GEOCODE where city like '서울특별시' and goo like '송파구'\"\n",
    "#     sqlxy = \"select * from XYCODE where city like '서울특별시' and goo like '송파구'\"\n",
    "\n",
    "    cursor_geo.execute(sqlgeo)\n",
    "    cursor_xy.execute(sqlxy)\n",
    "    \n",
    "    geos = cursor_geo.fetchall()\n",
    "    xys = cursor_xy.fetchall()\n",
    "    geo_lat = geos[0][4] # 위도(str)\n",
    "    geo_long = geos[0][5] # 경도(str)\n",
    "    xy_x = xys[0][5] # x(str)\n",
    "    xy_y = xys[0][6] # y(str)\n",
    "    month = int(today[4:6])\n",
    "    \n",
    "    # 기상청 api : json    \n",
    "    url = \"http://apis.data.go.kr/1360000/VilageFcstInfoService/getVilageFcst?serviceKey={}&pageNo=1&numOfRows=225&dataType=JSON&base_date={}&base_time=0500&nx={}&ny={}\".format(key, base_date, xy_x, xy_y)\n",
    "#     url = \"http://apis.data.go.kr/1360000/VilageFcstInfoService/getVilageFcst?serviceKey=HhI0V8a2pV09ssFf6Ui%2Bfn9LCPwa05YgfDHax8PHxs8T0nhmhIir%2FnuoEptT0R0xBJv%2FX5rF%2BMrOyEYzuKej6w%3D%3D&numOfRows=155&dataType=JSON&pageNo=1&base_date=20210228&base_time=0230&nx={}&ny={}\".format(xy_x, xy_y)\n",
    "    content = requests.get(url).content\n",
    "    jsonObj = json.loads(content)\n",
    "    item = jsonObj['response']['body']['items']['item']\n",
    "    \n",
    "    # 일출몰시간 api : xml\n",
    "    url_s = \"http://apis.data.go.kr/B090041/openapi/service/RiseSetInfoService/getLCRiseSetInfo?longitude={}&latitude={}&locdate={}&dnYn=Y&ServiceKey={}\".format(geo_long, geo_lat, locdate, key_s)\n",
    "    content_s = requests.get(url_s).content\n",
    "    dict_s = xmltodict.parse(content_s)\n",
    "    jsonString = json.dumps(dict_s, ensure_ascii = False)\n",
    "    sunObj = json.loads(jsonString)\n",
    "    sunrise_str = sunObj['response']['body']['items']['item']['sunrise']\n",
    "    sunset_str = sunObj['response']['body']['items']['item']['sunset']\n",
    "    sunrise = int(sunObj['response']['body']['items']['item']['sunrise'])\n",
    "    sunset = int(sunObj['response']['body']['items']['item']['sunset'])\n",
    "   \n",
    "    TMNValueList = [] #최저기온(°C)\n",
    "    TMXValueList = [] #최고기온(°C)\n",
    "    R06ValueList = [] #일강수량(mm)\n",
    "    WSDValueList = [] #평균 풍속(m/s)\n",
    "    VECValueList = [] #최다풍향(16방위)\n",
    "    REHValueList = [] #평균 상대습도(%)\n",
    "\n",
    "    # basetime 0230 시에는 range(155)\n",
    "    for i in range(225) :\n",
    "        if item[i]['category']=='TMN' and item[i]['fcstDate']==today :\n",
    "            TMNValueList.append(float(item[i]['fcstValue']))\n",
    "\n",
    "    for i in range(225) :\n",
    "        if item[i]['category']=='TMX' and item[i]['fcstDate']==today :\n",
    "            TMXValueList.append(float(item[i]['fcstValue']))\n",
    "            \n",
    "    for i in range(225) :\n",
    "        if item[i]['category']=='R06' and item[i]['fcstDate']==today :\n",
    "            R06ValueList.append(float(item[i]['fcstValue']))\n",
    "    \n",
    "    for i in range(225) :\n",
    "        if item[i]['category']=='WSD' and item[i]['fcstDate']==today :\n",
    "            WSDValueList.append(float(item[i]['fcstValue']))\n",
    "   \n",
    "    for i in range(225) :\n",
    "        if item[i]['category']=='VEC' and item[i]['fcstDate']==today :\n",
    "            VECValueList.append(float(item[i]['fcstValue']))\n",
    "    \n",
    "    for i in range(225) :\n",
    "        if item[i]['category']=='REH' and item[i]['fcstDate']==today :\n",
    "            REHValueList.append(float(item[i]['fcstValue']))\n",
    "    \n",
    "    if len(TMNValueList) > 0 :\n",
    "        TMNValue = min(TMNValueList)\n",
    "    else :\n",
    "        TMNValue = Ltemp[month-1]\n",
    "    if len(TMXValueList) > 0 :\n",
    "        TMXValue = max(TMXValueList)\n",
    "    else :\n",
    "        TMXValue = Htemp[month-1]\n",
    "    if len(R06ValueList) > 0 :\n",
    "        R06Value = sum(R06ValueList)/len(R06ValueList)\n",
    "    else :\n",
    "        R06Value = rain[month-1] \n",
    "    if len(WSDValueList) > 0 :\n",
    "        WSDValue = sum(WSDValueList)/len(WSDValueList)\n",
    "    else :\n",
    "        WSDValue = wind_avg[month-1]\n",
    "    if len(VECValueList) > 0 :\n",
    "        VECValue = round(sum(VECValueList)/len(VECValueList), 1)\n",
    "    else :\n",
    "        VECValue = wind_dir[month-1]\n",
    "    if len(REHValueList) > 0 :\n",
    "        REHValue = sum(REHValueList)/len(REHValueList)\n",
    "    else :\n",
    "        REHValue = humid[month-1]\n",
    "    \n",
    "    # 모기활동여부\n",
    "    # mosquito\n",
    "    if TMNValue <= 13 :\n",
    "        mosquito = 0\n",
    "    elif TMNValue > 13 :\n",
    "        mosquito = 1\n",
    "    elif TMNValue >= 26 :\n",
    "        mosquito = 2\n",
    "    \n",
    "    temp05Value = temp05[month-1]\n",
    "    cloudValue = cloud[month-1]\n",
    "    \n",
    "    # 일조량\n",
    "    year = today[:4]\n",
    "    day = today[6:]\n",
    "    hour = int(sunrise_str[:2])\n",
    "    minute = int(sunrise_str[2:])\n",
    "    hour2 = int(sunset_str[:2])\n",
    "    minute2 = int(sunset_str[2:])\n",
    "    date_rise = datetime(int(year), int(month), int(day), hour, minute, 0)\n",
    "    date_set = datetime(int(year), int(month), int(day), hour2, minute2, 0)\n",
    "    sun = date_set - date_rise\n",
    "    sun_time = round((sun.seconds)/3600, 1)\n",
    "    \n",
    "    df = df.append({'월':month,\n",
    "                    '모기 활동 여부': mosquito,\n",
    "                    '최저기온(°C)': TMNValue,\n",
    "                    '최고기온(°C)': TMXValue,\n",
    "                    '일강수량(mm)': R06Value,\n",
    "                    '평균 풍속(m/s)': WSDValue,\n",
    "                    '최다풍향(16방위)': VECValue,\n",
    "                    '평균 상대습도(%)': REHValue,\n",
    "                    '일출': sunrise,\n",
    "                    '일몰': sunset,\n",
    "                    '일조량': sunset-sunrise,\n",
    "                    '평균기온': round((TMNValue+TMXValue)/2, 1),\n",
    "                    '최저기온**2': round(TMNValue**2, 1),\n",
    "                    '상대습도*강수량': round(R06Value*REHValue, 1),\n",
    "                    '일조량' : sun_time,\n",
    "                    '0.5m 지중온도(°C)' : temp05Value,\n",
    "                    '평균 전운량(1/10)' : cloudValue},\n",
    "                   ignore_index=True)\n",
    "    \n",
    "    return df"
   ]
  },
  {
   "cell_type": "code",
   "execution_count": 79,
   "metadata": {},
   "outputs": [],
   "source": [
    "def preprocessingTm(user):\n",
    "\n",
    "    with open('forest_model_name.pkl','rb') as f :\n",
    "        mosquito_columns = pickle.load(f)\n",
    "    \n",
    "    df_tm = pd.DataFrame( np.zeros((1,16)) , columns=mosquito_columns)\n",
    "    \n",
    "    city = user[0][7]\n",
    "    goo = user[0][8]\n",
    "#     city = userinfo1\n",
    "#     goo = userinfo2\n",
    "    \n",
    "#     city = '광주광역시'\n",
    "#     goo = '광산구'\n",
    "    \n",
    "    sqlgeo = \"SELECT * FROM GEOCODE WHERE CITY LIKE '{}' AND GOO LIKE '{}'\".format(city, goo)\n",
    "    sqlxy = \"SELECT * FROM XYCODE WHERE CITY LIKE '{}' AND GOO LIKE '{}'\".format(city, goo)\n",
    "\n",
    "#     sqlgeo = \"select * from GEOCODE where city like '서울특별시' and goo like '송파구'\"\n",
    "#     sqlxy = \"select * from XYCODE where city like '서울특별시' and goo like '송파구'\"\n",
    "\n",
    "    cursor_geo.execute(sqlgeo)\n",
    "    cursor_xy.execute(sqlxy)\n",
    "    \n",
    "    geos = cursor_geo.fetchall()\n",
    "    xys = cursor_xy.fetchall()\n",
    "    geo_lat = geos[0][4] # 위도(str)\n",
    "    geo_long = geos[0][5] # 경도(str)\n",
    "    xy_x = xys[0][5] # x(str)\n",
    "    xy_y = xys[0][6] # y(str)\n",
    "    \n",
    "    # 기상청 api : json    \n",
    "    url = \"http://apis.data.go.kr/1360000/VilageFcstInfoService/getVilageFcst?serviceKey={}&pageNo=1&numOfRows=225&dataType=JSON&base_date={}&base_time=0500&nx={}&ny={}\".format(key, base_date, xy_x, xy_y)\n",
    "#     url = \"http://apis.data.go.kr/1360000/VilageFcstInfoService/getVilageFcst?serviceKey=HhI0V8a2pV09ssFf6Ui%2Bfn9LCPwa05YgfDHax8PHxs8T0nhmhIir%2FnuoEptT0R0xBJv%2FX5rF%2BMrOyEYzuKej6w%3D%3D&numOfRows=155&dataType=JSON&pageNo=1&base_date=20210228&base_time=0230&nx={}&ny={}\".format(xy_x, xy_y)\n",
    "    content = requests.get(url).content\n",
    "    jsonObj = json.loads(content)\n",
    "    item = jsonObj['response']['body']['items']['item']\n",
    "    \n",
    "    # 일출몰시간 api : xml\n",
    "    url_s = \"http://apis.data.go.kr/B090041/openapi/service/RiseSetInfoService/getLCRiseSetInfo?longitude={}&latitude={}&locdate={}&dnYn=Y&ServiceKey={}\".format(geo_long, geo_lat, tomorrow, key_s)\n",
    "    content_s = requests.get(url_s).content\n",
    "    dict_s = xmltodict.parse(content_s)\n",
    "    jsonString = json.dumps(dict_s, ensure_ascii = False)\n",
    "    sunObj = json.loads(jsonString)\n",
    "    sunrise_str = sunObj['response']['body']['items']['item']['sunrise']\n",
    "    sunset_str = sunObj['response']['body']['items']['item']['sunset']\n",
    "    sunrise = int(sunObj['response']['body']['items']['item']['sunrise'])\n",
    "    sunset = int(sunObj['response']['body']['items']['item']['sunset'])\n",
    "   \n",
    "    TMNValueList = [] #최저기온(°C)\n",
    "    TMXValueList = [] #최고기온(°C)\n",
    "    R06ValueList = [] #일강수량(mm)\n",
    "    WSDValueList = [] #평균 풍속(m/s)\n",
    "    VECValueList = [] #최다풍향(16방위)\n",
    "    REHValueList = [] #평균 상대습도(%)\n",
    "    month = int(tomorrow[4:6])\n",
    "    \n",
    "    # basetime 0230 시에는 range(155)\n",
    "    for i in range(225) :\n",
    "        if item[i]['category']=='TMN' and item[i]['fcstDate']==tomorrow :\n",
    "            TMNValueList.append(float(item[i]['fcstValue']))\n",
    "\n",
    "    for i in range(225) :\n",
    "        if item[i]['category']=='TMX' and item[i]['fcstDate']==tomorrow :\n",
    "            TMXValueList.append(float(item[i]['fcstValue']))\n",
    "            \n",
    "    for i in range(225) :\n",
    "        if item[i]['category']=='R06' and item[i]['fcstDate']==tomorrow :\n",
    "            R06ValueList.append(float(item[i]['fcstValue']))\n",
    "    \n",
    "    for i in range(225) :\n",
    "        if item[i]['category']=='WSD' and item[i]['fcstDate']==tomorrow :\n",
    "            WSDValueList.append(float(item[i]['fcstValue']))\n",
    "   \n",
    "    for i in range(225) :\n",
    "        if item[i]['category']=='VEC' and item[i]['fcstDate']==tomorrow :\n",
    "            VECValueList.append(float(item[i]['fcstValue']))\n",
    "    \n",
    "    for i in range(225) :\n",
    "        if item[i]['category']=='REH' and item[i]['fcstDate']==tomorrow :\n",
    "            REHValueList.append(float(item[i]['fcstValue']))\n",
    "    \n",
    "    if len(TMNValueList) > 0 :\n",
    "        TMNValue = min(TMNValueList)\n",
    "    else :\n",
    "        TMNValue = Ltemp[month-1]\n",
    "    if len(TMXValueList) > 0 :\n",
    "        TMXValue = max(TMXValueList)\n",
    "    else :\n",
    "        TMXValue = Htemp[month-1]\n",
    "    if len(R06ValueList) > 0 :\n",
    "        R06Value = sum(R06ValueList)/len(R06ValueList)\n",
    "    else :\n",
    "        R06Value = rain[month-1] \n",
    "    if len(WSDValueList) > 0 :\n",
    "        WSDValue = sum(WSDValueList)/len(WSDValueList)\n",
    "    else :\n",
    "        WSDValue = wind_avg[month-1]\n",
    "    if len(VECValueList) > 0 :\n",
    "        VECValue = round(sum(VECValueList)/len(VECValueList), 1)\n",
    "    else :\n",
    "        VECValue = wind_dir[month-1]\n",
    "    if len(REHValueList) > 0 :\n",
    "        REHValue = sum(REHValueList)/len(REHValueList)\n",
    "    else :\n",
    "        REHValue = humid[month-1]\n",
    "    \n",
    "    # 모기활동여부\n",
    "    # mosquito\n",
    "    if TMNValue <= 13 :\n",
    "        mosquito = 0\n",
    "    elif TMNValue > 13 :\n",
    "        mosquito = 1\n",
    "    elif TMNValue >= 26 :\n",
    "        mosquito = 2\n",
    "    \n",
    "    temp05Value = temp05[month-1]\n",
    "    cloudValue = cloud[month-1]\n",
    "    \n",
    "    # 일조량\n",
    "    year = tomorrow[:4]\n",
    "    day = tomorrow[6:]\n",
    "    hour = int(sunrise_str[:2])\n",
    "    minute = int(sunrise_str[2:])\n",
    "    hour2 = int(sunset_str[:2])\n",
    "    minute2 = int(sunset_str[2:])\n",
    "    date_rise = datetime(int(year), int(month), int(day), hour, minute, 0)\n",
    "    date_set = datetime(int(year), int(month), int(day), hour2, minute2, 0)\n",
    "    sun = date_set - date_rise\n",
    "    sun_time = round((sun.seconds)/3600, 1)\n",
    "    \n",
    "    df_tm = df_tm.append({'월':month,\n",
    "                    '모기 활동 여부': mosquito,\n",
    "                    '최저기온(°C)': TMNValue,\n",
    "                    '최고기온(°C)': TMXValue,\n",
    "                    '일강수량(mm)': R06Value,\n",
    "                    '평균 풍속(m/s)': WSDValue,\n",
    "                    '최다풍향(16방위)': VECValue,\n",
    "                    '평균 상대습도(%)': REHValue,\n",
    "                    '일출': sunrise,\n",
    "                    '일몰': sunset,\n",
    "                    '일조량': sunset-sunrise,\n",
    "                    '평균기온': round((TMNValue+TMXValue)/2, 1),\n",
    "                    '최저기온**2': round(TMNValue**2, 1),\n",
    "                    '상대습도*강수량': round(R06Value*REHValue, 1),\n",
    "                    '일조량' : sun_time,\n",
    "                    '0.5m 지중온도(°C)' : temp05Value,\n",
    "                    '평균 전운량(1/10)' : cloudValue},\n",
    "                   ignore_index=True)\n",
    "    \n",
    "    return df_tm"
   ]
  },
  {
   "cell_type": "code",
   "execution_count": 80,
   "metadata": {},
   "outputs": [],
   "source": [
    "def preprocessingAt(user):\n",
    "\n",
    "    with open('forest_model_name.pkl','rb') as f :\n",
    "        mosquito_columns = pickle.load(f)\n",
    "    \n",
    "    df_at = pd.DataFrame( np.zeros((1,16)) , columns=mosquito_columns)\n",
    "    \n",
    "    city = user[0][7]\n",
    "    goo = user[0][8]\n",
    "#     city = userinfo1\n",
    "#     goo = userinfo2\n",
    "    \n",
    "#     city = '광주광역시'\n",
    "#     goo = '광산구'\n",
    "    \n",
    "    sqlgeo = \"SELECT * FROM GEOCODE WHERE CITY LIKE '{}' AND GOO LIKE '{}'\".format(city, goo)\n",
    "    sqlxy = \"SELECT * FROM XYCODE WHERE CITY LIKE '{}' AND GOO LIKE '{}'\".format(city, goo)\n",
    "\n",
    "#     sqlgeo = \"select * from GEOCODE where city like '서울특별시' and goo like '송파구'\"\n",
    "#     sqlxy = \"select * from XYCODE where city like '서울특별시' and goo like '송파구'\"\n",
    "\n",
    "    cursor_geo.execute(sqlgeo)\n",
    "    cursor_xy.execute(sqlxy)\n",
    "    \n",
    "    geos = cursor_geo.fetchall()\n",
    "    xys = cursor_xy.fetchall()\n",
    "    geo_lat = geos[0][4] # 위도(str)\n",
    "    geo_long = geos[0][5] # 경도(str)\n",
    "    xy_x = xys[0][5] # x(str)\n",
    "    xy_y = xys[0][6] # y(str)\n",
    "    \n",
    "    # 기상청 api : json    \n",
    "    url = \"http://apis.data.go.kr/1360000/VilageFcstInfoService/getVilageFcst?serviceKey={}&pageNo=1&numOfRows=225&dataType=JSON&base_date={}&base_time=0500&nx={}&ny={}\".format(key, base_date, xy_x, xy_y)\n",
    "#     url = \"http://apis.data.go.kr/1360000/VilageFcstInfoService/getVilageFcst?serviceKey=HhI0V8a2pV09ssFf6Ui%2Bfn9LCPwa05YgfDHax8PHxs8T0nhmhIir%2FnuoEptT0R0xBJv%2FX5rF%2BMrOyEYzuKej6w%3D%3D&numOfRows=155&dataType=JSON&pageNo=1&base_date=20210228&base_time=0230&nx={}&ny={}\".format(xy_x, xy_y)\n",
    "    content = requests.get(url).content\n",
    "    jsonObj = json.loads(content)\n",
    "    item = jsonObj['response']['body']['items']['item']\n",
    "    \n",
    "    # 일출몰시간 api : xml\n",
    "    url_s = \"http://apis.data.go.kr/B090041/openapi/service/RiseSetInfoService/getLCRiseSetInfo?longitude={}&latitude={}&locdate={}&dnYn=Y&ServiceKey={}\".format(geo_long, geo_lat, aftTmr, key_s)\n",
    "    content_s = requests.get(url_s).content\n",
    "    dict_s = xmltodict.parse(content_s)\n",
    "    jsonString = json.dumps(dict_s, ensure_ascii = False)\n",
    "    sunObj = json.loads(jsonString)\n",
    "    sunrise_str = sunObj['response']['body']['items']['item']['sunrise']\n",
    "    sunset_str = sunObj['response']['body']['items']['item']['sunset']\n",
    "    sunrise = int(sunObj['response']['body']['items']['item']['sunrise'])\n",
    "    sunset = int(sunObj['response']['body']['items']['item']['sunset'])\n",
    "   \n",
    "    TMNValueList = [] #최저기온(°C)\n",
    "    TMXValueList = [] #최고기온(°C)\n",
    "    R06ValueList = [] #일강수량(mm)\n",
    "    WSDValueList = [] #평균 풍속(m/s)\n",
    "    VECValueList = [] #최다풍향(16방위)\n",
    "    REHValueList = [] #평균 상대습도(%)\n",
    "    month = int(aftTmr[4:6])\n",
    "    \n",
    "    # basetime 0230 시에는 range(155)\n",
    "    for i in range(225) :\n",
    "        if item[i]['category']=='TMN' and item[i]['fcstDate']==aftTmr :\n",
    "            TMNValueList.append(float(item[i]['fcstValue']))\n",
    "\n",
    "    for i in range(225) :\n",
    "        if item[i]['category']=='TMX' and item[i]['fcstDate']==aftTmr :\n",
    "            TMXValueList.append(float(item[i]['fcstValue']))\n",
    "            \n",
    "    for i in range(225) :\n",
    "        if item[i]['category']=='R06' and item[i]['fcstDate']==aftTmr :\n",
    "            R06ValueList.append(float(item[i]['fcstValue']))\n",
    "    \n",
    "    for i in range(225) :\n",
    "        if item[i]['category']=='WSD' and item[i]['fcstDate']==aftTmr :\n",
    "            WSDValueList.append(float(item[i]['fcstValue']))\n",
    "   \n",
    "    for i in range(225) :\n",
    "        if item[i]['category']=='VEC' and item[i]['fcstDate']==aftTmr :\n",
    "            VECValueList.append(float(item[i]['fcstValue']))\n",
    "    \n",
    "    for i in range(225) :\n",
    "        if item[i]['category']=='REH' and item[i]['fcstDate']==aftTmr :\n",
    "            REHValueList.append(float(item[i]['fcstValue']))\n",
    "    \n",
    "    if len(TMNValueList) > 0 :\n",
    "        TMNValue = min(TMNValueList)\n",
    "    else :\n",
    "        TMNValue = Ltemp[month-1]\n",
    "    if len(TMXValueList) > 0 :\n",
    "        TMXValue = max(TMXValueList)\n",
    "    else :\n",
    "        TMXValue = Htemp[month-1]\n",
    "    if len(R06ValueList) > 0 :\n",
    "        R06Value = sum(R06ValueList)/len(R06ValueList)\n",
    "    else :\n",
    "        R06Value = rain[month-1] \n",
    "    if len(WSDValueList) > 0 :\n",
    "        WSDValue = sum(WSDValueList)/len(WSDValueList)\n",
    "    else :\n",
    "        WSDValue = wind_avg[month-1]\n",
    "    if len(VECValueList) > 0 :\n",
    "        VECValue = round(sum(VECValueList)/len(VECValueList), 1)\n",
    "    else :\n",
    "        VECValue = wind_dir[month-1]\n",
    "    if len(REHValueList) > 0 :\n",
    "        REHValue = sum(REHValueList)/len(REHValueList)\n",
    "    else :\n",
    "        REHValue = humid[month-1]\n",
    "    \n",
    "    # 모기활동여부\n",
    "    # mosquito\n",
    "    if TMNValue <= 13 :\n",
    "        mosquito = 0\n",
    "    elif TMNValue > 13 :\n",
    "        mosquito = 1\n",
    "    elif TMNValue >= 26 :\n",
    "        mosquito = 2\n",
    "    \n",
    "    temp05Value = temp05[month-1]\n",
    "    cloudValue = cloud[month-1]\n",
    "    \n",
    "    # 일조량\n",
    "    year = aftTmr[:4]\n",
    "    day = aftTmr[6:]\n",
    "    hour = int(sunrise_str[:2])\n",
    "    minute = int(sunrise_str[2:])\n",
    "    hour2 = int(sunset_str[:2])\n",
    "    minute2 = int(sunset_str[2:])\n",
    "    date_rise = datetime(int(year), int(month), int(day), hour, minute, 0)\n",
    "    date_set = datetime(int(year), int(month), int(day), hour2, minute2, 0)\n",
    "    sun = date_set - date_rise\n",
    "    sun_time = round((sun.seconds)/3600, 1)\n",
    "    \n",
    "    df_at = df_at.append({'월':month,\n",
    "                    '모기 활동 여부': mosquito,\n",
    "                    '최저기온(°C)': TMNValue,\n",
    "                    '최고기온(°C)': TMXValue,\n",
    "                    '일강수량(mm)': R06Value,\n",
    "                    '평균 풍속(m/s)': WSDValue,\n",
    "                    '최다풍향(16방위)': VECValue,\n",
    "                    '평균 상대습도(%)': REHValue,\n",
    "                    '일출': sunrise,\n",
    "                    '일몰': sunset,\n",
    "                    '일조량': sunset-sunrise,\n",
    "                    '평균기온': round((TMNValue+TMXValue)/2, 1),\n",
    "                    '최저기온**2': round(TMNValue**2, 1),\n",
    "                    '상대습도*강수량': round(R06Value*REHValue, 1),\n",
    "                    '일조량' : sun_time,\n",
    "                    '0.5m 지중온도(°C)' : temp05Value,\n",
    "                    '평균 전운량(1/10)' : cloudValue},\n",
    "                   ignore_index=True)\n",
    "    \n",
    "    return df_at"
   ]
  },
  {
   "cell_type": "code",
   "execution_count": 81,
   "metadata": {},
   "outputs": [],
   "source": [
    "def weatherProcessing(user):\n",
    "   \n",
    "    city = user[0][7]\n",
    "    goo = user[0][8]\n",
    "    \n",
    "#     city = '광주광역시'\n",
    "#     goo = '광산구'\n",
    "    \n",
    "\n",
    "    sqlxy = \"SELECT * FROM XYCODE WHERE CITY LIKE '{}' AND GOO LIKE '{}'\".format(city, goo)\n",
    "\n",
    "#     sqlgeo = \"select * from GEOCODE where city like '서울특별시' and goo like '송파구'\"\n",
    "#     sqlxy = \"select * from XYCODE where city like '서울특별시' and goo like '송파구'\"\n",
    "\n",
    "    cursor_xy_weather.execute(sqlxy)\n",
    "\n",
    "    xys = cursor_xy_weather.fetchall()\n",
    "    xy_x = xys[0][5] # x(str)\n",
    "    xy_y = xys[0][6] # y(str)\n",
    "    \n",
    "    # 기상청 api : json    \n",
    "    url = \"http://apis.data.go.kr/1360000/VilageFcstInfoService/getVilageFcst?serviceKey={}&pageNo=1&numOfRows=225&dataType=JSON&base_date={}&base_time=0500&nx={}&ny={}\".format(key, base_date, xy_x, xy_y)\n",
    "#     url = \"http://apis.data.go.kr/1360000/VilageFcstInfoService/getVilageFcst?serviceKey=HhI0V8a2pV09ssFf6Ui%2Bfn9LCPwa05YgfDHax8PHxs8T0nhmhIir%2FnuoEptT0R0xBJv%2FX5rF%2BMrOyEYzuKej6w%3D%3D&numOfRows=155&dataType=JSON&pageNo=1&base_date=20210228&base_time=0230&nx={}&ny={}\".format(xy_x, xy_y)\n",
    "    content = requests.get(url).content\n",
    "    jsonObj = json.loads(content)\n",
    "    item = jsonObj['response']['body']['items']['item']\n",
    "\n",
    "    skyTTA = []\n",
    "    \n",
    "    # basetime 0230 시에는 range(155)\n",
    "    for i in range(225) :\n",
    "        if item[i]['category']=='SKY' and item[i]['fcstDate']==today and item[i]['fcstTime']=='1500':\n",
    "            skyTTA.append(item[i]['fcstValue'])\n",
    "    \n",
    "    for i in range(225) :\n",
    "        if item[i]['category']=='SKY' and item[i]['fcstDate']==tomorrow and item[i]['fcstTime']=='1500':\n",
    "            skyTTA.append(item[i]['fcstValue'])\n",
    "    \n",
    "    for i in range(225) :\n",
    "        if item[i]['category']=='SKY' and item[i]['fcstDate']==aftTmr and item[i]['fcstTime']=='1500':\n",
    "            skyTTA.append(item[i]['fcstValue'])\n",
    "    \n",
    "    return skyTTA"
   ]
  },
  {
   "cell_type": "code",
   "execution_count": 82,
   "metadata": {},
   "outputs": [],
   "source": [
    "def preprocessingP(user):\n",
    "\n",
    "    with open('forest_model_name.pkl','rb') as f :\n",
    "        mosquito_columns = pickle.load(f)\n",
    "    \n",
    "    df = pd.DataFrame( np.zeros((1,16)) , columns=mosquito_columns)\n",
    "    \n",
    "    city = user['city']\n",
    "    goo = user['goo']\n",
    "    \n",
    "#     city = '광주광역시'\n",
    "#     goo = '광산구'\n",
    "    \n",
    "    sqlgeo = \"SELECT * FROM GEOCODE WHERE CITY LIKE '{}' AND GOO LIKE '{}'\".format(city, goo)\n",
    "    sqlxy = \"SELECT * FROM XYCODE WHERE CITY LIKE '{}' AND GOO LIKE '{}'\".format(city, goo)\n",
    "\n",
    "#     sqlgeo = \"select * from GEOCODE where city like '서울특별시' and goo like '송파구'\"\n",
    "#     sqlxy = \"select * from XYCODE where city like '서울특별시' and goo like '송파구'\"\n",
    "\n",
    "    cursor_geo.execute(sqlgeo)\n",
    "    cursor_xy.execute(sqlxy)\n",
    "    \n",
    "    geos = cursor_geo.fetchall()\n",
    "    xys = cursor_xy.fetchall()\n",
    "    geo_lat = geos[0][4] # 위도(str)\n",
    "    geo_long = geos[0][5] # 경도(str)\n",
    "    xy_x = xys[0][5] # x(str)\n",
    "    xy_y = xys[0][6] # y(str)\n",
    "    month = int(today[4:6])\n",
    "    \n",
    "    # 기상청 api : json    \n",
    "    url = \"http://apis.data.go.kr/1360000/VilageFcstInfoService/getVilageFcst?serviceKey={}&pageNo=1&numOfRows=225&dataType=JSON&base_date={}&base_time=0500&nx={}&ny={}\".format(key, base_date, xy_x, xy_y)\n",
    "#     url = \"http://apis.data.go.kr/1360000/VilageFcstInfoService/getVilageFcst?serviceKey=HhI0V8a2pV09ssFf6Ui%2Bfn9LCPwa05YgfDHax8PHxs8T0nhmhIir%2FnuoEptT0R0xBJv%2FX5rF%2BMrOyEYzuKej6w%3D%3D&numOfRows=155&dataType=JSON&pageNo=1&base_date=20210228&base_time=0230&nx={}&ny={}\".format(xy_x, xy_y)\n",
    "    content = requests.get(url).content\n",
    "    jsonObj = json.loads(content)\n",
    "    item = jsonObj['response']['body']['items']['item']\n",
    "    \n",
    "    # 일출몰시간 api : xml\n",
    "    url_s = \"http://apis.data.go.kr/B090041/openapi/service/RiseSetInfoService/getLCRiseSetInfo?longitude={}&latitude={}&locdate={}&dnYn=Y&ServiceKey={}\".format(geo_long, geo_lat, locdate, key_s)\n",
    "    content_s = requests.get(url_s).content\n",
    "    dict_s = xmltodict.parse(content_s)\n",
    "    jsonString = json.dumps(dict_s, ensure_ascii = False)\n",
    "    sunObj = json.loads(jsonString)\n",
    "    sunrise_str = sunObj['response']['body']['items']['item']['sunrise']\n",
    "    sunset_str = sunObj['response']['body']['items']['item']['sunset']\n",
    "    sunrise = int(sunObj['response']['body']['items']['item']['sunrise'])\n",
    "    sunset = int(sunObj['response']['body']['items']['item']['sunset'])\n",
    "   \n",
    "    TMNValueList = [] #최저기온(°C)\n",
    "    TMXValueList = [] #최고기온(°C)\n",
    "    R06ValueList = [] #일강수량(mm)\n",
    "    WSDValueList = [] #평균 풍속(m/s)\n",
    "    VECValueList = [] #최다풍향(16방위)\n",
    "    REHValueList = [] #평균 상대습도(%)\n",
    "\n",
    "    # basetime 0230 시에는 range(155)\n",
    "    for i in range(225) :\n",
    "        if item[i]['category']=='TMN' and item[i]['fcstDate']==today :\n",
    "            TMNValueList.append(float(item[i]['fcstValue']))\n",
    "\n",
    "    for i in range(225) :\n",
    "        if item[i]['category']=='TMX' and item[i]['fcstDate']==today :\n",
    "            TMXValueList.append(float(item[i]['fcstValue']))\n",
    "            \n",
    "    for i in range(225) :\n",
    "        if item[i]['category']=='R06' and item[i]['fcstDate']==today :\n",
    "            R06ValueList.append(float(item[i]['fcstValue']))\n",
    "    \n",
    "    for i in range(225) :\n",
    "        if item[i]['category']=='WSD' and item[i]['fcstDate']==today :\n",
    "            WSDValueList.append(float(item[i]['fcstValue']))\n",
    "   \n",
    "    for i in range(225) :\n",
    "        if item[i]['category']=='VEC' and item[i]['fcstDate']==today :\n",
    "            VECValueList.append(float(item[i]['fcstValue']))\n",
    "    \n",
    "    for i in range(225) :\n",
    "        if item[i]['category']=='REH' and item[i]['fcstDate']==today :\n",
    "            REHValueList.append(float(item[i]['fcstValue']))\n",
    "    \n",
    "    if len(TMNValueList) > 0 :\n",
    "        TMNValue = min(TMNValueList)\n",
    "    else :\n",
    "        TMNValue = Ltemp[month-1]\n",
    "    if len(TMXValueList) > 0 :\n",
    "        TMXValue = max(TMXValueList)\n",
    "    else :\n",
    "        TMXValue = Htemp[month-1]\n",
    "    if len(R06ValueList) > 0 :\n",
    "        R06Value = sum(R06ValueList)/len(R06ValueList)\n",
    "    else :\n",
    "        R06Value = rain[month-1] \n",
    "    if len(WSDValueList) > 0 :\n",
    "        WSDValue = sum(WSDValueList)/len(WSDValueList)\n",
    "    else :\n",
    "        WSDValue = wind_avg[month-1]\n",
    "    if len(VECValueList) > 0 :\n",
    "        VECValue = round(sum(VECValueList)/len(VECValueList), 1)\n",
    "    else :\n",
    "        VECValue = wind_dir[month-1]\n",
    "    if len(REHValueList) > 0 :\n",
    "        REHValue = sum(REHValueList)/len(REHValueList)\n",
    "    else :\n",
    "        REHValue = humid[month-1]\n",
    "    \n",
    "    # 모기활동여부\n",
    "    # mosquito\n",
    "    if TMNValue <= 13 :\n",
    "        mosquito = 0\n",
    "    elif TMNValue > 13 :\n",
    "        mosquito = 1\n",
    "    elif TMNValue >= 26 :\n",
    "        mosquito = 2\n",
    "    \n",
    "    temp05Value = temp05[month-1]\n",
    "    cloudValue = cloud[month-1]\n",
    "    \n",
    "    # 일조량\n",
    "    year = today[:4]\n",
    "    day = today[6:]\n",
    "    hour = int(sunrise_str[:2])\n",
    "    minute = int(sunrise_str[2:])\n",
    "    hour2 = int(sunset_str[:2])\n",
    "    minute2 = int(sunset_str[2:])\n",
    "    date_rise = datetime(int(year), int(month), int(day), hour, minute, 0)\n",
    "    date_set = datetime(int(year), int(month), int(day), hour2, minute2, 0)\n",
    "    sun = date_set - date_rise\n",
    "    sun_time = round((sun.seconds)/3600, 1)\n",
    "    \n",
    "    df = df.append({'월':month,\n",
    "                    '모기 활동 여부': mosquito,\n",
    "                    '최저기온(°C)': TMNValue,\n",
    "                    '최고기온(°C)': TMXValue,\n",
    "                    '일강수량(mm)': R06Value,\n",
    "                    '평균 풍속(m/s)': WSDValue,\n",
    "                    '최다풍향(16방위)': VECValue,\n",
    "                    '평균 상대습도(%)': REHValue,\n",
    "                    '일출': sunrise,\n",
    "                    '일몰': sunset,\n",
    "                    '일조량': sunset-sunrise,\n",
    "                    '평균기온': round((TMNValue+TMXValue)/2, 1),\n",
    "                    '최저기온**2': round(TMNValue**2, 1),\n",
    "                    '상대습도*강수량': round(R06Value*REHValue, 1),\n",
    "                    '일조량' : sun_time,\n",
    "                    '0.5m 지중온도(°C)' : temp05Value,\n",
    "                    '평균 전운량(1/10)' : cloudValue},\n",
    "                   ignore_index=True)\n",
    "    \n",
    "    return df"
   ]
  },
  {
   "cell_type": "code",
   "execution_count": 83,
   "metadata": {},
   "outputs": [],
   "source": [
    "def preprocessingTmP(user):\n",
    "\n",
    "    with open('forest_model_name.pkl','rb') as f :\n",
    "        mosquito_columns = pickle.load(f)\n",
    "    \n",
    "    df_tm = pd.DataFrame( np.zeros((1,16)) , columns=mosquito_columns)\n",
    "    \n",
    "    city = user['city']\n",
    "    goo = user['goo']\n",
    "#     city = userinfo1\n",
    "#     goo = userinfo2\n",
    "    \n",
    "#     city = '광주광역시'\n",
    "#     goo = '광산구'\n",
    "    \n",
    "    sqlgeo = \"SELECT * FROM GEOCODE WHERE CITY LIKE '{}' AND GOO LIKE '{}'\".format(city, goo)\n",
    "    sqlxy = \"SELECT * FROM XYCODE WHERE CITY LIKE '{}' AND GOO LIKE '{}'\".format(city, goo)\n",
    "\n",
    "#     sqlgeo = \"select * from GEOCODE where city like '서울특별시' and goo like '송파구'\"\n",
    "#     sqlxy = \"select * from XYCODE where city like '서울특별시' and goo like '송파구'\"\n",
    "\n",
    "    cursor_geo.execute(sqlgeo)\n",
    "    cursor_xy.execute(sqlxy)\n",
    "    \n",
    "    geos = cursor_geo.fetchall()\n",
    "    xys = cursor_xy.fetchall()\n",
    "    geo_lat = geos[0][4] # 위도(str)\n",
    "    geo_long = geos[0][5] # 경도(str)\n",
    "    xy_x = xys[0][5] # x(str)\n",
    "    xy_y = xys[0][6] # y(str)\n",
    "    \n",
    "    # 기상청 api : json    \n",
    "    url = \"http://apis.data.go.kr/1360000/VilageFcstInfoService/getVilageFcst?serviceKey={}&pageNo=1&numOfRows=225&dataType=JSON&base_date={}&base_time=0500&nx={}&ny={}\".format(key, base_date, xy_x, xy_y)\n",
    "#     url = \"http://apis.data.go.kr/1360000/VilageFcstInfoService/getVilageFcst?serviceKey=HhI0V8a2pV09ssFf6Ui%2Bfn9LCPwa05YgfDHax8PHxs8T0nhmhIir%2FnuoEptT0R0xBJv%2FX5rF%2BMrOyEYzuKej6w%3D%3D&numOfRows=155&dataType=JSON&pageNo=1&base_date=20210228&base_time=0230&nx={}&ny={}\".format(xy_x, xy_y)\n",
    "    content = requests.get(url).content\n",
    "    jsonObj = json.loads(content)\n",
    "    item = jsonObj['response']['body']['items']['item']\n",
    "    \n",
    "    # 일출몰시간 api : xml\n",
    "    url_s = \"http://apis.data.go.kr/B090041/openapi/service/RiseSetInfoService/getLCRiseSetInfo?longitude={}&latitude={}&locdate={}&dnYn=Y&ServiceKey={}\".format(geo_long, geo_lat, tomorrow, key_s)\n",
    "    content_s = requests.get(url_s).content\n",
    "    dict_s = xmltodict.parse(content_s)\n",
    "    jsonString = json.dumps(dict_s, ensure_ascii = False)\n",
    "    sunObj = json.loads(jsonString)\n",
    "    sunrise_str = sunObj['response']['body']['items']['item']['sunrise']\n",
    "    sunset_str = sunObj['response']['body']['items']['item']['sunset']\n",
    "    sunrise = int(sunObj['response']['body']['items']['item']['sunrise'])\n",
    "    sunset = int(sunObj['response']['body']['items']['item']['sunset'])\n",
    "   \n",
    "    TMNValueList = [] #최저기온(°C)\n",
    "    TMXValueList = [] #최고기온(°C)\n",
    "    R06ValueList = [] #일강수량(mm)\n",
    "    WSDValueList = [] #평균 풍속(m/s)\n",
    "    VECValueList = [] #최다풍향(16방위)\n",
    "    REHValueList = [] #평균 상대습도(%)\n",
    "    month = int(tomorrow[4:6])\n",
    "    \n",
    "    # basetime 0230 시에는 range(155)\n",
    "    for i in range(225) :\n",
    "        if item[i]['category']=='TMN' and item[i]['fcstDate']==tomorrow :\n",
    "            TMNValueList.append(float(item[i]['fcstValue']))\n",
    "\n",
    "    for i in range(225) :\n",
    "        if item[i]['category']=='TMX' and item[i]['fcstDate']==tomorrow :\n",
    "            TMXValueList.append(float(item[i]['fcstValue']))\n",
    "            \n",
    "    for i in range(225) :\n",
    "        if item[i]['category']=='R06' and item[i]['fcstDate']==tomorrow :\n",
    "            R06ValueList.append(float(item[i]['fcstValue']))\n",
    "    \n",
    "    for i in range(225) :\n",
    "        if item[i]['category']=='WSD' and item[i]['fcstDate']==tomorrow :\n",
    "            WSDValueList.append(float(item[i]['fcstValue']))\n",
    "   \n",
    "    for i in range(225) :\n",
    "        if item[i]['category']=='VEC' and item[i]['fcstDate']==tomorrow :\n",
    "            VECValueList.append(float(item[i]['fcstValue']))\n",
    "    \n",
    "    for i in range(225) :\n",
    "        if item[i]['category']=='REH' and item[i]['fcstDate']==tomorrow :\n",
    "            REHValueList.append(float(item[i]['fcstValue']))\n",
    "    \n",
    "    if len(TMNValueList) > 0 :\n",
    "        TMNValue = min(TMNValueList)\n",
    "    else :\n",
    "        TMNValue = Ltemp[month-1]\n",
    "    if len(TMXValueList) > 0 :\n",
    "        TMXValue = max(TMXValueList)\n",
    "    else :\n",
    "        TMXValue = Htemp[month-1]\n",
    "    if len(R06ValueList) > 0 :\n",
    "        R06Value = sum(R06ValueList)/len(R06ValueList)\n",
    "    else :\n",
    "        R06Value = rain[month-1] \n",
    "    if len(WSDValueList) > 0 :\n",
    "        WSDValue = sum(WSDValueList)/len(WSDValueList)\n",
    "    else :\n",
    "        WSDValue = wind_avg[month-1]\n",
    "    if len(VECValueList) > 0 :\n",
    "        VECValue = round(sum(VECValueList)/len(VECValueList), 1)\n",
    "    else :\n",
    "        VECValue = wind_dir[month-1]\n",
    "    if len(REHValueList) > 0 :\n",
    "        REHValue = sum(REHValueList)/len(REHValueList)\n",
    "    else :\n",
    "        REHValue = humid[month-1]\n",
    "    \n",
    "    # 모기활동여부\n",
    "    # mosquito\n",
    "    if TMNValue <= 13 :\n",
    "        mosquito = 0\n",
    "    elif TMNValue > 13 :\n",
    "        mosquito = 1\n",
    "    elif TMNValue >= 26 :\n",
    "        mosquito = 2\n",
    "    \n",
    "    temp05Value = temp05[month-1]\n",
    "    cloudValue = cloud[month-1]\n",
    "    \n",
    "    # 일조량\n",
    "    year = tomorrow[:4]\n",
    "    day = tomorrow[6:]\n",
    "    hour = int(sunrise_str[:2])\n",
    "    minute = int(sunrise_str[2:])\n",
    "    hour2 = int(sunset_str[:2])\n",
    "    minute2 = int(sunset_str[2:])\n",
    "    date_rise = datetime(int(year), int(month), int(day), hour, minute, 0)\n",
    "    date_set = datetime(int(year), int(month), int(day), hour2, minute2, 0)\n",
    "    sun = date_set - date_rise\n",
    "    sun_time = round((sun.seconds)/3600, 1)\n",
    "    \n",
    "    df_tm = df_tm.append({'월':month,\n",
    "                    '모기 활동 여부': mosquito,\n",
    "                    '최저기온(°C)': TMNValue,\n",
    "                    '최고기온(°C)': TMXValue,\n",
    "                    '일강수량(mm)': R06Value,\n",
    "                    '평균 풍속(m/s)': WSDValue,\n",
    "                    '최다풍향(16방위)': VECValue,\n",
    "                    '평균 상대습도(%)': REHValue,\n",
    "                    '일출': sunrise,\n",
    "                    '일몰': sunset,\n",
    "                    '일조량': sunset-sunrise,\n",
    "                    '평균기온': round((TMNValue+TMXValue)/2, 1),\n",
    "                    '최저기온**2': round(TMNValue**2, 1),\n",
    "                    '상대습도*강수량': round(R06Value*REHValue, 1),\n",
    "                    '일조량' : sun_time,\n",
    "                    '0.5m 지중온도(°C)' : temp05Value,\n",
    "                    '평균 전운량(1/10)' : cloudValue},\n",
    "                   ignore_index=True)\n",
    "    \n",
    "    return df_tm"
   ]
  },
  {
   "cell_type": "code",
   "execution_count": 84,
   "metadata": {},
   "outputs": [],
   "source": [
    "def preprocessingAtP(user):\n",
    "\n",
    "    with open('forest_model_name.pkl','rb') as f :\n",
    "        mosquito_columns = pickle.load(f)\n",
    "    \n",
    "    df_at = pd.DataFrame( np.zeros((1,16)) , columns=mosquito_columns)\n",
    "    \n",
    "    city = user['city']\n",
    "    goo = user['goo']\n",
    "#     city = userinfo1\n",
    "#     goo = userinfo2\n",
    "    \n",
    "#     city = '광주광역시'\n",
    "#     goo = '광산구'\n",
    "    \n",
    "    sqlgeo = \"SELECT * FROM GEOCODE WHERE CITY LIKE '{}' AND GOO LIKE '{}'\".format(city, goo)\n",
    "    sqlxy = \"SELECT * FROM XYCODE WHERE CITY LIKE '{}' AND GOO LIKE '{}'\".format(city, goo)\n",
    "\n",
    "#     sqlgeo = \"select * from GEOCODE where city like '서울특별시' and goo like '송파구'\"\n",
    "#     sqlxy = \"select * from XYCODE where city like '서울특별시' and goo like '송파구'\"\n",
    "\n",
    "    cursor_geo.execute(sqlgeo)\n",
    "    cursor_xy.execute(sqlxy)\n",
    "    \n",
    "    geos = cursor_geo.fetchall()\n",
    "    xys = cursor_xy.fetchall()\n",
    "    geo_lat = geos[0][4] # 위도(str)\n",
    "    geo_long = geos[0][5] # 경도(str)\n",
    "    xy_x = xys[0][5] # x(str)\n",
    "    xy_y = xys[0][6] # y(str)\n",
    "    \n",
    "    # 기상청 api : json    \n",
    "    url = \"http://apis.data.go.kr/1360000/VilageFcstInfoService/getVilageFcst?serviceKey={}&pageNo=1&numOfRows=225&dataType=JSON&base_date={}&base_time=0500&nx={}&ny={}\".format(key, base_date, xy_x, xy_y)\n",
    "#     url = \"http://apis.data.go.kr/1360000/VilageFcstInfoService/getVilageFcst?serviceKey=HhI0V8a2pV09ssFf6Ui%2Bfn9LCPwa05YgfDHax8PHxs8T0nhmhIir%2FnuoEptT0R0xBJv%2FX5rF%2BMrOyEYzuKej6w%3D%3D&numOfRows=155&dataType=JSON&pageNo=1&base_date=20210228&base_time=0230&nx={}&ny={}\".format(xy_x, xy_y)\n",
    "    content = requests.get(url).content\n",
    "    jsonObj = json.loads(content)\n",
    "    item = jsonObj['response']['body']['items']['item']\n",
    "    \n",
    "    # 일출몰시간 api : xml\n",
    "    url_s = \"http://apis.data.go.kr/B090041/openapi/service/RiseSetInfoService/getLCRiseSetInfo?longitude={}&latitude={}&locdate={}&dnYn=Y&ServiceKey={}\".format(geo_long, geo_lat, aftTmr, key_s)\n",
    "    content_s = requests.get(url_s).content\n",
    "    dict_s = xmltodict.parse(content_s)\n",
    "    jsonString = json.dumps(dict_s, ensure_ascii = False)\n",
    "    sunObj = json.loads(jsonString)\n",
    "    sunrise_str = sunObj['response']['body']['items']['item']['sunrise']\n",
    "    sunset_str = sunObj['response']['body']['items']['item']['sunset']\n",
    "    sunrise = int(sunObj['response']['body']['items']['item']['sunrise'])\n",
    "    sunset = int(sunObj['response']['body']['items']['item']['sunset'])\n",
    "   \n",
    "    TMNValueList = [] #최저기온(°C)\n",
    "    TMXValueList = [] #최고기온(°C)\n",
    "    R06ValueList = [] #일강수량(mm)\n",
    "    WSDValueList = [] #평균 풍속(m/s)\n",
    "    VECValueList = [] #최다풍향(16방위)\n",
    "    REHValueList = [] #평균 상대습도(%)\n",
    "    month = int(aftTmr[4:6])\n",
    "    \n",
    "    # basetime 0230 시에는 range(155)\n",
    "    for i in range(225) :\n",
    "        if item[i]['category']=='TMN' and item[i]['fcstDate']==aftTmr :\n",
    "            TMNValueList.append(float(item[i]['fcstValue']))\n",
    "\n",
    "    for i in range(225) :\n",
    "        if item[i]['category']=='TMX' and item[i]['fcstDate']==aftTmr :\n",
    "            TMXValueList.append(float(item[i]['fcstValue']))\n",
    "            \n",
    "    for i in range(225) :\n",
    "        if item[i]['category']=='R06' and item[i]['fcstDate']==aftTmr :\n",
    "            R06ValueList.append(float(item[i]['fcstValue']))\n",
    "    \n",
    "    for i in range(225) :\n",
    "        if item[i]['category']=='WSD' and item[i]['fcstDate']==aftTmr :\n",
    "            WSDValueList.append(float(item[i]['fcstValue']))\n",
    "   \n",
    "    for i in range(225) :\n",
    "        if item[i]['category']=='VEC' and item[i]['fcstDate']==aftTmr :\n",
    "            VECValueList.append(float(item[i]['fcstValue']))\n",
    "    \n",
    "    for i in range(225) :\n",
    "        if item[i]['category']=='REH' and item[i]['fcstDate']==aftTmr :\n",
    "            REHValueList.append(float(item[i]['fcstValue']))\n",
    "    \n",
    "    if len(TMNValueList) > 0 :\n",
    "        TMNValue = min(TMNValueList)\n",
    "    else :\n",
    "        TMNValue = Ltemp[month-1]\n",
    "    if len(TMXValueList) > 0 :\n",
    "        TMXValue = max(TMXValueList)\n",
    "    else :\n",
    "        TMXValue = Htemp[month-1]\n",
    "    if len(R06ValueList) > 0 :\n",
    "        R06Value = sum(R06ValueList)/len(R06ValueList)\n",
    "    else :\n",
    "        R06Value = rain[month-1] \n",
    "    if len(WSDValueList) > 0 :\n",
    "        WSDValue = sum(WSDValueList)/len(WSDValueList)\n",
    "    else :\n",
    "        WSDValue = wind_avg[month-1]\n",
    "    if len(VECValueList) > 0 :\n",
    "        VECValue = round(sum(VECValueList)/len(VECValueList), 1)\n",
    "    else :\n",
    "        VECValue = wind_dir[month-1]\n",
    "    if len(REHValueList) > 0 :\n",
    "        REHValue = sum(REHValueList)/len(REHValueList)\n",
    "    else :\n",
    "        REHValue = humid[month-1]\n",
    "    \n",
    "    # 모기활동여부\n",
    "    # mosquito\n",
    "    if TMNValue <= 13 :\n",
    "        mosquito = 0\n",
    "    elif TMNValue > 13 :\n",
    "        mosquito = 1\n",
    "    elif TMNValue >= 26 :\n",
    "        mosquito = 2\n",
    "    \n",
    "    temp05Value = temp05[month-1]\n",
    "    cloudValue = cloud[month-1]\n",
    "    \n",
    "    # 일조량\n",
    "    year = aftTmr[:4]\n",
    "    day = aftTmr[6:]\n",
    "    hour = int(sunrise_str[:2])\n",
    "    minute = int(sunrise_str[2:])\n",
    "    hour2 = int(sunset_str[:2])\n",
    "    minute2 = int(sunset_str[2:])\n",
    "    date_rise = datetime(int(year), int(month), int(day), hour, minute, 0)\n",
    "    date_set = datetime(int(year), int(month), int(day), hour2, minute2, 0)\n",
    "    sun = date_set - date_rise\n",
    "    sun_time = round((sun.seconds)/3600, 1)\n",
    "    \n",
    "    df_at = df_at.append({'월':month,\n",
    "                    '모기 활동 여부': mosquito,\n",
    "                    '최저기온(°C)': TMNValue,\n",
    "                    '최고기온(°C)': TMXValue,\n",
    "                    '일강수량(mm)': R06Value,\n",
    "                    '평균 풍속(m/s)': WSDValue,\n",
    "                    '최다풍향(16방위)': VECValue,\n",
    "                    '평균 상대습도(%)': REHValue,\n",
    "                    '일출': sunrise,\n",
    "                    '일몰': sunset,\n",
    "                    '일조량': sunset-sunrise,\n",
    "                    '평균기온': round((TMNValue+TMXValue)/2, 1),\n",
    "                    '최저기온**2': round(TMNValue**2, 1),\n",
    "                    '상대습도*강수량': round(R06Value*REHValue, 1),\n",
    "                    '일조량' : sun_time,\n",
    "                    '0.5m 지중온도(°C)' : temp05Value,\n",
    "                    '평균 전운량(1/10)' : cloudValue},\n",
    "                   ignore_index=True)\n",
    "    \n",
    "    return df_at"
   ]
  },
  {
   "cell_type": "code",
   "execution_count": 85,
   "metadata": {},
   "outputs": [],
   "source": [
    "def weatherProcessingP(user):\n",
    "   \n",
    "    city = user['city']\n",
    "    goo = user['goo']\n",
    "    \n",
    "#     city = '광주광역시'\n",
    "#     goo = '광산구'\n",
    "    \n",
    "\n",
    "    sqlxy = \"SELECT * FROM XYCODE WHERE CITY LIKE '{}' AND GOO LIKE '{}'\".format(city, goo)\n",
    "\n",
    "#     sqlgeo = \"select * from GEOCODE where city like '서울특별시' and goo like '송파구'\"\n",
    "#     sqlxy = \"select * from XYCODE where city like '서울특별시' and goo like '송파구'\"\n",
    "\n",
    "    cursor_xy_weather.execute(sqlxy)\n",
    "\n",
    "    xys = cursor_xy_weather.fetchall()\n",
    "    xy_x = xys[0][5] # x(str)\n",
    "    xy_y = xys[0][6] # y(str)\n",
    "    \n",
    "    # 기상청 api : json    \n",
    "    url = \"http://apis.data.go.kr/1360000/VilageFcstInfoService/getVilageFcst?serviceKey={}&pageNo=1&numOfRows=225&dataType=JSON&base_date={}&base_time=0500&nx={}&ny={}\".format(key, base_date, xy_x, xy_y)\n",
    "#     url = \"http://apis.data.go.kr/1360000/VilageFcstInfoService/getVilageFcst?serviceKey=HhI0V8a2pV09ssFf6Ui%2Bfn9LCPwa05YgfDHax8PHxs8T0nhmhIir%2FnuoEptT0R0xBJv%2FX5rF%2BMrOyEYzuKej6w%3D%3D&numOfRows=155&dataType=JSON&pageNo=1&base_date=20210228&base_time=0230&nx={}&ny={}\".format(xy_x, xy_y)\n",
    "    content = requests.get(url).content\n",
    "    jsonObj = json.loads(content)\n",
    "    item = jsonObj['response']['body']['items']['item']\n",
    "\n",
    "    skyTTA = []\n",
    "    \n",
    "    # basetime 0230 시에는 range(155)\n",
    "    for i in range(225) :\n",
    "        if item[i]['category']=='SKY' and item[i]['fcstDate']==today and item[i]['fcstTime']=='1500':\n",
    "            skyTTA.append(item[i]['fcstValue'])\n",
    "    \n",
    "    for i in range(225) :\n",
    "        if item[i]['category']=='SKY' and item[i]['fcstDate']==tomorrow and item[i]['fcstTime']=='1500':\n",
    "            skyTTA.append(item[i]['fcstValue'])\n",
    "    \n",
    "    for i in range(225) :\n",
    "        if item[i]['category']=='SKY' and item[i]['fcstDate']==aftTmr and item[i]['fcstTime']=='1500':\n",
    "            skyTTA.append(item[i]['fcstValue'])\n",
    "    \n",
    "    return skyTTA"
   ]
  },
  {
   "cell_type": "code",
   "execution_count": null,
   "metadata": {
    "scrolled": true
   },
   "outputs": [
    {
     "name": "stdout",
     "output_type": "stream",
     "text": [
      " * Serving Flask app \"__main__\" (lazy loading)\n",
      " * Environment: production\n",
      "   WARNING: This is a development server. Do not use it in a production deployment.\n",
      "   Use a production WSGI server instead.\n",
      " * Debug mode: off\n"
     ]
    },
    {
     "name": "stderr",
     "output_type": "stream",
     "text": [
      " * Running on http://127.0.0.1:9002/ (Press CTRL+C to quit)\n"
     ]
    },
    {
     "data": {
      "text/plain": [
       "{'userid': 'ahyeon', 'userpw': '1'}"
      ]
     },
     "metadata": {},
     "output_type": "display_data"
    },
    {
     "data": {
      "text/plain": [
       "'연결됨'"
      ]
     },
     "metadata": {},
     "output_type": "display_data"
    },
    {
     "name": "stderr",
     "output_type": "stream",
     "text": [
      "127.0.0.1 - - [06/Mar/2021 09:51:45] \"\u001b[32mPOST /mosquito HTTP/1.1\u001b[0m\" 302 -\n"
     ]
    },
    {
     "name": "stdout",
     "output_type": "stream",
     "text": [
      "['1'] 확인해보자\n",
      "['1', '1'] 확인해보자\n",
      "['1', '1', '1'] 확인해보자\n"
     ]
    },
    {
     "data": {
      "text/plain": [
       "{'city': '부산광역시', 'goo': '남구', 'id': 'ahyeon'}"
      ]
     },
     "metadata": {},
     "output_type": "display_data"
    },
    {
     "name": "stderr",
     "output_type": "stream",
     "text": [
      "127.0.0.1 - - [06/Mar/2021 09:51:55] \"\u001b[32mPOST /mosquito_popup HTTP/1.1\u001b[0m\" 302 -\n"
     ]
    },
    {
     "name": "stdout",
     "output_type": "stream",
     "text": [
      "['1'] 확인해보자\n",
      "['1', '1'] 확인해보자\n",
      "['1', '1', '1'] 확인해보자\n"
     ]
    },
    {
     "data": {
      "text/plain": [
       "{'userid': 'ahyeon', 'userpw': '1'}"
      ]
     },
     "metadata": {},
     "output_type": "display_data"
    },
    {
     "data": {
      "text/plain": [
       "'연결됨'"
      ]
     },
     "metadata": {},
     "output_type": "display_data"
    },
    {
     "name": "stderr",
     "output_type": "stream",
     "text": [
      "127.0.0.1 - - [06/Mar/2021 09:53:39] \"\u001b[32mPOST /mosquito HTTP/1.1\u001b[0m\" 302 -\n"
     ]
    },
    {
     "name": "stdout",
     "output_type": "stream",
     "text": [
      "['1'] 확인해보자\n",
      "['1', '1'] 확인해보자\n",
      "['1', '1', '1'] 확인해보자\n"
     ]
    },
    {
     "data": {
      "text/plain": [
       "{'userid': 'ahyeon', 'userpw': '1'}"
      ]
     },
     "metadata": {},
     "output_type": "display_data"
    },
    {
     "data": {
      "text/plain": [
       "'연결됨'"
      ]
     },
     "metadata": {},
     "output_type": "display_data"
    },
    {
     "name": "stderr",
     "output_type": "stream",
     "text": [
      "127.0.0.1 - - [06/Mar/2021 09:55:26] \"\u001b[32mPOST /mosquito HTTP/1.1\u001b[0m\" 302 -\n"
     ]
    },
    {
     "name": "stdout",
     "output_type": "stream",
     "text": [
      "['1'] 확인해보자\n",
      "['1', '1'] 확인해보자\n",
      "['1', '1', '1'] 확인해보자\n"
     ]
    },
    {
     "data": {
      "text/plain": [
       "{'city': '부산광역시', 'goo': '남구', 'id': 'ahyeon'}"
      ]
     },
     "metadata": {},
     "output_type": "display_data"
    },
    {
     "name": "stderr",
     "output_type": "stream",
     "text": [
      "127.0.0.1 - - [06/Mar/2021 09:55:32] \"\u001b[32mPOST /mosquito_popup HTTP/1.1\u001b[0m\" 302 -\n"
     ]
    },
    {
     "name": "stdout",
     "output_type": "stream",
     "text": [
      "['1'] 확인해보자\n",
      "['1', '1'] 확인해보자\n",
      "['1', '1', '1'] 확인해보자\n"
     ]
    },
    {
     "data": {
      "text/plain": [
       "{'userid': 'ahyeon', 'userpw': '1'}"
      ]
     },
     "metadata": {},
     "output_type": "display_data"
    },
    {
     "data": {
      "text/plain": [
       "'연결됨'"
      ]
     },
     "metadata": {},
     "output_type": "display_data"
    },
    {
     "name": "stderr",
     "output_type": "stream",
     "text": [
      "127.0.0.1 - - [06/Mar/2021 10:01:55] \"\u001b[32mPOST /mosquito HTTP/1.1\u001b[0m\" 302 -\n"
     ]
    },
    {
     "name": "stdout",
     "output_type": "stream",
     "text": [
      "['1'] 확인해보자\n",
      "['1', '1'] 확인해보자\n",
      "['1', '1', '1'] 확인해보자\n"
     ]
    },
    {
     "data": {
      "text/plain": [
       "{'userid': 'ahyeon', 'userpw': '1'}"
      ]
     },
     "metadata": {},
     "output_type": "display_data"
    },
    {
     "data": {
      "text/plain": [
       "'연결됨'"
      ]
     },
     "metadata": {},
     "output_type": "display_data"
    },
    {
     "name": "stderr",
     "output_type": "stream",
     "text": [
      "127.0.0.1 - - [06/Mar/2021 10:04:20] \"\u001b[32mPOST /mosquito HTTP/1.1\u001b[0m\" 302 -\n"
     ]
    },
    {
     "name": "stdout",
     "output_type": "stream",
     "text": [
      "['1'] 확인해보자\n",
      "['1', '1'] 확인해보자\n",
      "['1', '1', '1'] 확인해보자\n"
     ]
    },
    {
     "data": {
      "text/plain": [
       "{'userid': 'ahyeon', 'userpw': '1'}"
      ]
     },
     "metadata": {},
     "output_type": "display_data"
    },
    {
     "data": {
      "text/plain": [
       "'연결됨'"
      ]
     },
     "metadata": {},
     "output_type": "display_data"
    },
    {
     "name": "stderr",
     "output_type": "stream",
     "text": [
      "127.0.0.1 - - [06/Mar/2021 10:11:14] \"\u001b[32mPOST /mosquito HTTP/1.1\u001b[0m\" 302 -\n"
     ]
    },
    {
     "name": "stdout",
     "output_type": "stream",
     "text": [
      "['1'] 확인해보자\n",
      "['1', '1'] 확인해보자\n",
      "['1', '1', '1'] 확인해보자\n"
     ]
    },
    {
     "data": {
      "text/plain": [
       "{'city': '부산광역시', 'goo': '남구', 'id': 'null'}"
      ]
     },
     "metadata": {},
     "output_type": "display_data"
    },
    {
     "name": "stderr",
     "output_type": "stream",
     "text": [
      "127.0.0.1 - - [06/Mar/2021 10:14:50] \"\u001b[32mPOST /mosquito_popup HTTP/1.1\u001b[0m\" 302 -\n"
     ]
    },
    {
     "name": "stdout",
     "output_type": "stream",
     "text": [
      "['1'] 확인해보자\n",
      "['1', '1'] 확인해보자\n",
      "['1', '1', '1'] 확인해보자\n"
     ]
    },
    {
     "data": {
      "text/plain": [
       "{'city': '부산광역시', 'goo': '남구', 'id': 'null'}"
      ]
     },
     "metadata": {},
     "output_type": "display_data"
    },
    {
     "name": "stderr",
     "output_type": "stream",
     "text": [
      "127.0.0.1 - - [06/Mar/2021 10:17:27] \"\u001b[32mPOST /mosquito_popup HTTP/1.1\u001b[0m\" 302 -\n"
     ]
    },
    {
     "name": "stdout",
     "output_type": "stream",
     "text": [
      "['1'] 확인해보자\n",
      "['1', '1'] 확인해보자\n",
      "['1', '1', '1'] 확인해보자\n"
     ]
    },
    {
     "data": {
      "text/plain": [
       "{'city': '부산광역시', 'goo': '남구', 'id': 'null'}"
      ]
     },
     "metadata": {},
     "output_type": "display_data"
    },
    {
     "name": "stderr",
     "output_type": "stream",
     "text": [
      "127.0.0.1 - - [06/Mar/2021 10:20:23] \"\u001b[32mPOST /mosquito_popup HTTP/1.1\u001b[0m\" 302 -\n"
     ]
    },
    {
     "name": "stdout",
     "output_type": "stream",
     "text": [
      "['1'] 확인해보자\n",
      "['1', '1'] 확인해보자\n",
      "['1', '1', '1'] 확인해보자\n"
     ]
    },
    {
     "data": {
      "text/plain": [
       "{'city': '부산광역시', 'goo': '남구', 'id': 'null'}"
      ]
     },
     "metadata": {},
     "output_type": "display_data"
    },
    {
     "name": "stderr",
     "output_type": "stream",
     "text": [
      "127.0.0.1 - - [06/Mar/2021 10:24:57] \"\u001b[32mPOST /mosquito_popup HTTP/1.1\u001b[0m\" 302 -\n"
     ]
    },
    {
     "name": "stdout",
     "output_type": "stream",
     "text": [
      "['1'] 확인해보자\n",
      "['1', '1'] 확인해보자\n",
      "['1', '1', '1'] 확인해보자\n"
     ]
    },
    {
     "data": {
      "text/plain": [
       "{'city': '부산광역시', 'goo': '남구', 'id': 'null'}"
      ]
     },
     "metadata": {},
     "output_type": "display_data"
    },
    {
     "name": "stderr",
     "output_type": "stream",
     "text": [
      "127.0.0.1 - - [06/Mar/2021 10:34:34] \"\u001b[32mPOST /mosquito_popup HTTP/1.1\u001b[0m\" 302 -\n"
     ]
    },
    {
     "name": "stdout",
     "output_type": "stream",
     "text": [
      "['1'] 확인해보자\n",
      "['1', '1'] 확인해보자\n",
      "['1', '1', '1'] 확인해보자\n"
     ]
    },
    {
     "data": {
      "text/plain": [
       "{'city': '광주광역시', 'goo': '광산구', 'id': 'null'}"
      ]
     },
     "metadata": {},
     "output_type": "display_data"
    },
    {
     "name": "stderr",
     "output_type": "stream",
     "text": [
      "127.0.0.1 - - [06/Mar/2021 10:46:55] \"\u001b[32mPOST /mosquito_popup HTTP/1.1\u001b[0m\" 302 -\n"
     ]
    },
    {
     "name": "stdout",
     "output_type": "stream",
     "text": [
      "['1'] 확인해보자\n",
      "['1', '1'] 확인해보자\n",
      "['1', '1', '1'] 확인해보자\n"
     ]
    },
    {
     "data": {
      "text/plain": [
       "{'userid': 'ahyeon', 'userpw': '1'}"
      ]
     },
     "metadata": {},
     "output_type": "display_data"
    },
    {
     "data": {
      "text/plain": [
       "'연결됨'"
      ]
     },
     "metadata": {},
     "output_type": "display_data"
    },
    {
     "name": "stderr",
     "output_type": "stream",
     "text": [
      "127.0.0.1 - - [06/Mar/2021 10:53:52] \"\u001b[32mPOST /mosquito HTTP/1.1\u001b[0m\" 302 -\n"
     ]
    },
    {
     "name": "stdout",
     "output_type": "stream",
     "text": [
      "['1'] 확인해보자\n",
      "['1', '1'] 확인해보자\n",
      "['1', '1', '1'] 확인해보자\n"
     ]
    },
    {
     "data": {
      "text/plain": [
       "{'userid': 'ahyeon', 'userpw': '1'}"
      ]
     },
     "metadata": {},
     "output_type": "display_data"
    },
    {
     "data": {
      "text/plain": [
       "'연결됨'"
      ]
     },
     "metadata": {},
     "output_type": "display_data"
    },
    {
     "name": "stderr",
     "output_type": "stream",
     "text": [
      "127.0.0.1 - - [06/Mar/2021 11:01:20] \"\u001b[32mPOST /mosquito HTTP/1.1\u001b[0m\" 302 -\n"
     ]
    },
    {
     "name": "stdout",
     "output_type": "stream",
     "text": [
      "['1'] 확인해보자\n",
      "['1', '1'] 확인해보자\n",
      "['1', '1', '1'] 확인해보자\n"
     ]
    },
    {
     "data": {
      "text/plain": [
       "{'userid': 'ahyeon', 'userpw': '1'}"
      ]
     },
     "metadata": {},
     "output_type": "display_data"
    },
    {
     "data": {
      "text/plain": [
       "'연결됨'"
      ]
     },
     "metadata": {},
     "output_type": "display_data"
    },
    {
     "name": "stderr",
     "output_type": "stream",
     "text": [
      "127.0.0.1 - - [06/Mar/2021 11:33:49] \"\u001b[32mPOST /mosquito HTTP/1.1\u001b[0m\" 302 -\n"
     ]
    },
    {
     "name": "stdout",
     "output_type": "stream",
     "text": [
      "['1'] 확인해보자\n",
      "['1', '1'] 확인해보자\n",
      "['1', '1', '1'] 확인해보자\n"
     ]
    },
    {
     "data": {
      "text/plain": [
       "{'city': '부산광역시', 'goo': '남구', 'id': 'ahyeon'}"
      ]
     },
     "metadata": {},
     "output_type": "display_data"
    },
    {
     "name": "stderr",
     "output_type": "stream",
     "text": [
      "127.0.0.1 - - [06/Mar/2021 11:33:59] \"\u001b[32mPOST /mosquito_popup HTTP/1.1\u001b[0m\" 302 -\n"
     ]
    },
    {
     "name": "stdout",
     "output_type": "stream",
     "text": [
      "['1'] 확인해보자\n",
      "['1', '1'] 확인해보자\n",
      "['1', '1', '1'] 확인해보자\n"
     ]
    },
    {
     "data": {
      "text/plain": [
       "{'city': '서울특별시', 'goo': '종로구', 'id': 'ahyeon'}"
      ]
     },
     "metadata": {},
     "output_type": "display_data"
    },
    {
     "name": "stderr",
     "output_type": "stream",
     "text": [
      "127.0.0.1 - - [06/Mar/2021 11:41:58] \"\u001b[32mPOST /mosquito_popup HTTP/1.1\u001b[0m\" 302 -\n"
     ]
    },
    {
     "name": "stdout",
     "output_type": "stream",
     "text": [
      "['1'] 확인해보자\n",
      "['1', '1'] 확인해보자\n",
      "['1', '1', '1'] 확인해보자\n"
     ]
    },
    {
     "data": {
      "text/plain": [
       "{'city': '부산광역시', 'goo': '남구', 'id': 'ahyeon'}"
      ]
     },
     "metadata": {},
     "output_type": "display_data"
    },
    {
     "name": "stderr",
     "output_type": "stream",
     "text": [
      "127.0.0.1 - - [06/Mar/2021 11:42:14] \"\u001b[32mPOST /mosquito_popup HTTP/1.1\u001b[0m\" 302 -\n"
     ]
    },
    {
     "name": "stdout",
     "output_type": "stream",
     "text": [
      "['1'] 확인해보자\n",
      "['1', '1'] 확인해보자\n",
      "['1', '1', '1'] 확인해보자\n"
     ]
    },
    {
     "data": {
      "text/plain": [
       "{'city': '광주광역시', 'goo': '광산구', 'id': 'ahyeon'}"
      ]
     },
     "metadata": {},
     "output_type": "display_data"
    },
    {
     "name": "stderr",
     "output_type": "stream",
     "text": [
      "127.0.0.1 - - [06/Mar/2021 11:42:18] \"\u001b[32mPOST /mosquito_popup HTTP/1.1\u001b[0m\" 302 -\n"
     ]
    },
    {
     "name": "stdout",
     "output_type": "stream",
     "text": [
      "['1'] 확인해보자\n",
      "['1', '1'] 확인해보자\n",
      "['1', '1', '1'] 확인해보자\n"
     ]
    },
    {
     "data": {
      "text/plain": [
       "{'userid': 'ahyeon', 'userpw': '1'}"
      ]
     },
     "metadata": {},
     "output_type": "display_data"
    },
    {
     "data": {
      "text/plain": [
       "'연결됨'"
      ]
     },
     "metadata": {},
     "output_type": "display_data"
    },
    {
     "name": "stderr",
     "output_type": "stream",
     "text": [
      "127.0.0.1 - - [06/Mar/2021 12:03:54] \"\u001b[32mPOST /mosquito HTTP/1.1\u001b[0m\" 302 -\n"
     ]
    },
    {
     "name": "stdout",
     "output_type": "stream",
     "text": [
      "['1'] 확인해보자\n",
      "['1', '1'] 확인해보자\n",
      "['1', '1', '1'] 확인해보자\n"
     ]
    },
    {
     "data": {
      "text/plain": [
       "{'userid': 'ahyeon', 'userpw': '1'}"
      ]
     },
     "metadata": {},
     "output_type": "display_data"
    },
    {
     "data": {
      "text/plain": [
       "'연결됨'"
      ]
     },
     "metadata": {},
     "output_type": "display_data"
    },
    {
     "name": "stderr",
     "output_type": "stream",
     "text": [
      "127.0.0.1 - - [06/Mar/2021 13:09:00] \"\u001b[32mPOST /mosquito HTTP/1.1\u001b[0m\" 302 -\n"
     ]
    },
    {
     "name": "stdout",
     "output_type": "stream",
     "text": [
      "['1'] 확인해보자\n",
      "['1', '1'] 확인해보자\n",
      "['1', '1', '1'] 확인해보자\n"
     ]
    },
    {
     "data": {
      "text/plain": [
       "{'city': '부산광역시', 'goo': '남구', 'id': 'ahyeon'}"
      ]
     },
     "metadata": {},
     "output_type": "display_data"
    },
    {
     "name": "stderr",
     "output_type": "stream",
     "text": [
      "127.0.0.1 - - [06/Mar/2021 13:09:11] \"\u001b[32mPOST /mosquito_popup HTTP/1.1\u001b[0m\" 302 -\n"
     ]
    },
    {
     "name": "stdout",
     "output_type": "stream",
     "text": [
      "['1'] 확인해보자\n",
      "['1', '1'] 확인해보자\n",
      "['1', '1', '1'] 확인해보자\n"
     ]
    }
   ],
   "source": [
    "from flask import Flask # 플라스크 클래스 임포트\n",
    "from flask import request, redirect\n",
    "import pickle # 데이터 저장/로딩을 위한 모듈\n",
    "import pandas as pd\n",
    "import numpy as np\n",
    "\n",
    "app = Flask(__name__) # 내장변수 name을 이용해 서버를 구동시키는 객체 생성\n",
    "\n",
    "with open('forest_model.pkl', 'rb') as f :\n",
    "    model = pickle.load(f) # pickle을 이용했기때문에 model안에는 sklearn의 결정트리 클래스가 불러와진다.\n",
    "\n",
    "@app.route(\"/mosquito\", methods=[\"GET\",\"POST\"])\n",
    "def predict_mosquito() :\n",
    "    if request.method == \"POST\" : # POST 방식일 경우\n",
    "        data = request.form.to_dict()\n",
    "        display(data)\n",
    "        display(\"연결됨\")\n",
    "        # 넘어온 값을 전처리\n",
    "        userinfos = userinfo(data)\n",
    "        \n",
    "        if len(userinfos)==0 :\n",
    "            return redirect(\"http://localhost:8081/anipat-master/test2.html\")\n",
    "        else : \n",
    "            df = preprocessing(userinfos)\n",
    "            df_tm = preprocessingTm(userinfos)\n",
    "            df_at = preprocessingAt(userinfos)\n",
    "\n",
    "            # 오늘, 내일, 모레 예측값(쾌적, 관심, 주의, 불쾌)을 담은 리스트\n",
    "            preList=[]\n",
    "            preList.append(model.predict(df)[len(df)-1])\n",
    "            preList.append(model.predict(df_tm)[len(df_tm)-1])\n",
    "            preList.append(model.predict(df_at)[len(df_tm)-1])\n",
    "\n",
    "            # 예측값 숫자로 변환\n",
    "            pre_final = []\n",
    "            for i in range(len(preList)) :\n",
    "                if preList[i] == '쾌적':\n",
    "                    pre_final.append(\"1\")\n",
    "                elif preList[i] == '관심':\n",
    "                    pre_final.append(\"2\")\n",
    "                elif preList[i] == '주의':\n",
    "                    pre_final.append(\"3\")\n",
    "                elif preList[i] == '불쾌':\n",
    "                    pre_final.append(\"4\")\n",
    "                print(pre_final,\"확인해보자\")     \n",
    "\n",
    "            skyTTA = weatherProcessing(userinfos)       \n",
    "            return redirect(\"http://127.0.0.1:8081/anipat-master/index_mosquito.jsp?\n",
    "                            predict=\"+str(pre_final[0])+\"&predict=\"+str(pre_final[1])+\"&predict=\"+str(pre_final[2])\n",
    "                            +\"&predict=\"+skyTTA[0]+\"&predict=\"+skyTTA[1]+\"&predict=\"+skyTTA[2]+\"&predict=\"+data['userid'])\n",
    "#         return redirect(\"http://127.0.0.1:8081/anipat-master/index_mosquito.jsp\")\n",
    "    else : # GET 방식일 경우\n",
    "        # 넘어온 값을 전처리\n",
    "        df = preprocessing(request.args)\n",
    "        pre = model.predict(df)\n",
    "        print(pre)\n",
    "        return \"어서오세요2.\"\n",
    "\n",
    "    \n",
    "@app.route(\"/mosquito_popup\", methods=[\"GET\",\"POST\"])\n",
    "def predict_mosquito_popup() :\n",
    "    today = str(datetime.today()).replace('-', '')[:8]\n",
    "    tomorrow = str((datetime.today() + timedelta(days=1))).replace('-', '')[:8]\n",
    "    aftTmr = str((datetime.today() + timedelta(days=2))).replace('-', '')[:8]\n",
    "    \n",
    "    if request.method == \"POST\" : # POST 방식일 경우\n",
    "        data = request.form.to_dict()\n",
    "        display(data)\n",
    "#         display(request.form)\n",
    "        # 넘어온 값을 전처리      \n",
    "        df = preprocessingP(request.form)\n",
    "        df_tm = preprocessingTmP(request.form)\n",
    "        df_at = preprocessingAtP(request.form)\n",
    "\n",
    "        # 오늘, 내일, 모레 예측값(쾌적, 관심, 주의, 불쾌)을 담은 리스트\n",
    "        preList=[]\n",
    "        preList.append(model.predict(df)[len(df)-1])\n",
    "        preList.append(model.predict(df_tm)[len(df_tm)-1])\n",
    "        preList.append(model.predict(df_at)[len(df_tm)-1])\n",
    "\n",
    "        # 예측값 숫자로 변환\n",
    "        pre_final = []\n",
    "        for i in range(len(preList)) :\n",
    "            if preList[i] == '쾌적':\n",
    "                pre_final.append(\"1\")\n",
    "            elif preList[i] == '관심':\n",
    "                pre_final.append(\"2\")\n",
    "            elif preList[i] == '주의':\n",
    "                pre_final.append(\"3\")\n",
    "            elif preList[i] == '불쾌':\n",
    "                pre_final.append(\"4\")\n",
    "            print(pre_final,\"확인해보자\")     \n",
    "\n",
    "        skyTTA = weatherProcessingP(request.form)  \n",
    "        if data['id']=='null' :\n",
    "            return redirect(\"http://127.0.0.1:8081/anipat-master/index_mosquito.jsp?predict=\"\n",
    "                            +str(pre_final[0])+\"&predict=\"+str(pre_final[1])+\"&predict=\"+str(pre_final[2])\n",
    "                            +\"&predict=\"+skyTTA[0]+\"&predict=\"+skyTTA[1]+\"&predict=\"+skyTTA[2])\n",
    "            #       return redirect(\"http://127.0.0.1:8081/anipat-master/index_mosquito.jsp\")\n",
    "        elif data['id'] != 'null' :\n",
    "            return redirect(\"http://127.0.0.1:8081/anipat-master/index_mosquito.jsp?predict=\"+str(pre_final[0])+\"&predict=\"+str(pre_final[1])+\"&predict=\"+str(pre_final[2])+\"&predict=\"+skyTTA[0]+\"&predict=\"+skyTTA[1]+\"&predict=\"+skyTTA[2]+\"&predict=\"+data['id'])\n",
    "    else : # GET 방식일 경우\n",
    "        # 넘어온 값을 전처리\n",
    "        df = preprocessing(request.args)\n",
    "        pre = model.predict(df)\n",
    "        print(pre)\n",
    "        return \"어서오세요2.\"\n",
    "    \n",
    "if __name__ == \"__main__\" : # .py 파일에서 main함수 역할\n",
    "    app.run(host=\"127.0.0.1\", port=\"9002\") # 9006번 포트로 서버 구동"
   ]
  },
  {
   "cell_type": "code",
   "execution_count": null,
   "metadata": {},
   "outputs": [],
   "source": []
  },
  {
   "cell_type": "code",
   "execution_count": null,
   "metadata": {},
   "outputs": [],
   "source": []
  },
  {
   "cell_type": "code",
   "execution_count": null,
   "metadata": {},
   "outputs": [],
   "source": []
  }
 ],
 "metadata": {
  "kernelspec": {
   "display_name": "Python 3",
   "language": "python",
   "name": "python3"
  },
  "language_info": {
   "codemirror_mode": {
    "name": "ipython",
    "version": 3
   },
   "file_extension": ".py",
   "mimetype": "text/x-python",
   "name": "python",
   "nbconvert_exporter": "python",
   "pygments_lexer": "ipython3",
   "version": "3.8.5"
  }
 },
 "nbformat": 4,
 "nbformat_minor": 4
}
