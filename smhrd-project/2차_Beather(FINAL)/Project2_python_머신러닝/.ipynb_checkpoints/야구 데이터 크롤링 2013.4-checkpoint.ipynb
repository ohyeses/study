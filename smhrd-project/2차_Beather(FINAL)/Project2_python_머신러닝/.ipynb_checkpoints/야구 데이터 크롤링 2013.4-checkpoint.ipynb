{
 "cells": [
  {
   "cell_type": "code",
   "execution_count": 3,
   "metadata": {},
   "outputs": [
    {
     "name": "stdout",
     "output_type": "stream",
     "text": [
      "Requirement already satisfied: selenium in c:\\users\\smhrd\\anaconda3\\lib\\site-packages (3.141.0)\n",
      "Requirement already satisfied: urllib3 in c:\\users\\smhrd\\anaconda3\\lib\\site-packages (from selenium) (1.25.11)\n"
     ]
    }
   ],
   "source": [
    "!pip install selenium"
   ]
  },
  {
   "cell_type": "code",
   "execution_count": 4,
   "metadata": {},
   "outputs": [],
   "source": [
    "import requests as req\n",
    "from bs4 import BeautifulSoup as bs\n",
    "import pandas as pd\n",
    "import numpy as np\n",
    "\n",
    "# webdriver = 웹을 통제하기 위한 모듈\n",
    "# Keys = 웹을 통해 값을 입력하기 위한 모듈\n",
    "\n",
    "from selenium import webdriver as wb\n",
    "from selenium.webdriver.common.keys import Keys\n",
    "import time"
   ]
  },
  {
   "cell_type": "code",
   "execution_count": 203,
   "metadata": {},
   "outputs": [],
   "source": [
    "driver = wb.Chrome()\n",
    "url = 'https://sports.news.naver.com/kbaseball/schedule/index.nhn?date=20210320&month=04&year=2013&teamCode='\n",
    "driver.get(url)"
   ]
  },
  {
   "cell_type": "code",
   "execution_count": 204,
   "metadata": {},
   "outputs": [],
   "source": [
    "result = driver.find_elements_by_css_selector('.td_btn>a')\n",
    "result[2].click()"
   ]
  },
  {
   "cell_type": "code",
   "execution_count": 205,
   "metadata": {},
   "outputs": [],
   "source": [
    "team_text = [] # 팀 이름\n",
    "day_text = [] # 경기 날짜\n",
    "\n",
    "H_text = [] #안타\n",
    "HR_text = [] #홈런\n",
    "S_text = [] #도루\n",
    "ST_text = [] #삼진\n",
    "DU_text = [] #병살\n",
    "ER_text = [] #실책\n",
    "\n",
    "result_text = [] # 게임의 승패"
   ]
  },
  {
   "cell_type": "code",
   "execution_count": 206,
   "metadata": {},
   "outputs": [],
   "source": [
    "# 최근 열린 탭으로 전환\n",
    "driver.switch_to.window(driver.window_handles[-1])\n",
    "\n",
    "# 로딩 기다리기\n",
    "time.sleep(1)"
   ]
  },
  {
   "cell_type": "code",
   "execution_count": 207,
   "metadata": {},
   "outputs": [],
   "source": [
    "soup = bs(driver.page_source, 'lxml')\n",
    "\n",
    "\n",
    "# 홈팀 데이터 추가하기\n",
    "day = soup.select('#_gameCenterTopDate')\n",
    "day_text.append(day[0].text.strip())\n",
    "team = soup.select('#box_awayBg h4')\n",
    "team_text.append(team[0].text.strip())\n",
    "#H = soup.select('#box_awayBg>dl>dd')\n",
    "H = soup.select('#box_awayBg > dl > dd:nth-of-type(1) > em')\n",
    "H_text.append(H[0].text.strip())\n",
    "HR = soup.select('#box_awayBg > dl > dd:nth-of-type(2) > em')\n",
    "HR_text.append(HR[0].text.strip())\n",
    "S = soup.select('#box_awayBg > dl > dd:nth-of-type(3) > em')\n",
    "S_text.append(S[0].text.strip())\n",
    "ST = soup.select('#box_awayBg > dl > dd:nth-of-type(4) > em')\n",
    "ST_text.append(ST[0].text.strip())\n",
    "DU = soup.select('#box_awayBg > dl > dd:nth-of-type(5) > em')\n",
    "DU_text.append(DU[0].text.strip())\n",
    "ER = soup.select('#box_awayBg > dl > dd:nth-of-type(6) > em')\n",
    "ER_text.append(ER[0].text.strip())\n",
    "\n",
    "# 승패 추가하기\n",
    "result = soup.select('#awayVsResult > span')\n",
    "result_text.append(result[0].text.strip())\n",
    "\n",
    "# 어웨이팀 데이터 추가하기\n",
    "day = soup.select('#_gameCenterTopDate')\n",
    "day_text.append(day[0].text.strip())\n",
    "team = soup.select('#box_homeBg h4')\n",
    "team_text.append(team[0].text.strip())\n",
    "#H = soup.select('#box_awayBg>dl>dd')\n",
    "H = soup.select('#box_homeBg > dl > dd:nth-of-type(1) > em')\n",
    "H_text.append(H[0].text.strip())\n",
    "HR = soup.select('#box_homeBg > dl > dd:nth-of-type(2) > em')\n",
    "HR_text.append(HR[0].text.strip())\n",
    "S = soup.select('#box_homeBg > dl > dd:nth-of-type(3) > em')\n",
    "S_text.append(S[0].text.strip())\n",
    "ST = soup.select('#box_homeBg > dl > dd:nth-of-type(4) > em')\n",
    "ST_text.append(ST[0].text.strip())\n",
    "DU = soup.select('#box_homeBg > dl > dd:nth-of-type(5) > em')\n",
    "DU_text.append(DU[0].text.strip())\n",
    "ER = soup.select('#box_homeBg > dl > dd:nth-of-type(6) > em')\n",
    "ER_text.append(ER[0].text.strip())\n",
    "\n",
    "# 승패 추가하기\n",
    "\n",
    "if (form.has_attr('#homeVsResult > span')):\n",
    "    result_text.append(result[0].text.strip())\n"
   ]
  },
  {
   "cell_type": "code",
   "execution_count": 208,
   "metadata": {},
   "outputs": [
    {
     "name": "stdout",
     "output_type": "stream",
     "text": [
      "['6', '4']\n",
      "['0', '1']\n",
      "['0', '0']\n",
      "['2', '4']\n",
      "['1', '3']\n",
      "['0', '1']\n",
      "['패', '승']\n"
     ]
    }
   ],
   "source": [
    "print(H_text)\n",
    "print(HR_text)\n",
    "print(S_text)\n",
    "print(ST_text)\n",
    "print(DU_text)\n",
    "print(ER_text)\n",
    "print(result_text)"
   ]
  },
  {
   "cell_type": "code",
   "execution_count": null,
   "metadata": {},
   "outputs": [],
   "source": []
  }
 ],
 "metadata": {
  "kernelspec": {
   "display_name": "Python 3",
   "language": "python",
   "name": "python3"
  },
  "language_info": {
   "codemirror_mode": {
    "name": "ipython",
    "version": 3
   },
   "file_extension": ".py",
   "mimetype": "text/x-python",
   "name": "python",
   "nbconvert_exporter": "python",
   "pygments_lexer": "ipython3",
   "version": "3.8.5"
  }
 },
 "nbformat": 4,
 "nbformat_minor": 4
}
