{
 "cells": [
  {
   "cell_type": "code",
   "execution_count": 1,
   "metadata": {},
   "outputs": [],
   "source": [
    "import requests, xmltodict, json\n",
    "from datetime import datetime, timedelta"
   ]
  },
  {
   "cell_type": "code",
   "execution_count": 2,
   "metadata": {},
   "outputs": [
    {
     "name": "stdout",
     "output_type": "stream",
     "text": [
      "2021-03-26 16:40:58.369528\n",
      "2021-03-26 16:40:58.369528\n"
     ]
    }
   ],
   "source": [
    "print(datetime.today())\n",
    "print(str(datetime.today()))"
   ]
  },
  {
   "cell_type": "code",
   "execution_count": 3,
   "metadata": {},
   "outputs": [
    {
     "name": "stdout",
     "output_type": "stream",
     "text": [
      "20210326\n",
      "20210327\n",
      "20210328\n"
     ]
    }
   ],
   "source": [
    "today = str(datetime.today()).replace('-', '')[:8]\n",
    "tomorrow = str((datetime.today() + timedelta(days=1))).replace('-', '')[:8]\n",
    "aftTmr = str((datetime.today() + timedelta(days=2))).replace('-', '')[:8]\n",
    "print(today)\n",
    "print(tomorrow)\n",
    "print(aftTmr)"
   ]
  },
  {
   "cell_type": "code",
   "execution_count": 4,
   "metadata": {},
   "outputs": [
    {
     "data": {
      "text/plain": [
       "3"
      ]
     },
     "execution_count": 4,
     "metadata": {},
     "output_type": "execute_result"
    }
   ],
   "source": [
    "# 월\n",
    "# month\n",
    "month = int(today[4:6])\n",
    "month"
   ]
  },
  {
   "cell_type": "markdown",
   "metadata": {},
   "source": [
    "### 동네예보 키값 및 날짜 설정"
   ]
  },
  {
   "cell_type": "markdown",
   "metadata": {},
   "source": [
    "    POP\t강수확률 - %\n",
    "\tPTY\t강수형태 - 코드값 : 없음(0), 비(1), 비/눈(진눈개비)(2), 눈(3), 소나기(4), 빗방울(5), 빗방울/눈날림(6), 눈날림(7)\n",
    "\tR06\t6시간 강수량 - 범주(1 mm)\n",
    "\tREH\t습도 - %\n",
    "\tS06\t6시간 신적설\t- 범주(1 cm)\n",
    "\tSKY\t하늘상태 - 코드값 : 맑음(1), 구름많음(3), 흐림(4), (구름조금(2) 삭제)\n",
    "\tT3H\t3시간 기온 - ℃\n",
    "\tTMN\t아침 최저기온 - ℃\n",
    "\tTMX\t낮 최고기온 - ℃\n",
    "\tUUU\t풍속(동서성분) - m/s\n",
    "\tVVV\t풍속(남북성분) - m/s\n",
    "\tWAV\t파고 - M\n",
    "\tVEC\t풍향 - deg\n",
    "\tWSD\t풍속 - m/s"
   ]
  },
  {
   "cell_type": "code",
   "execution_count": 5,
   "metadata": {},
   "outputs": [],
   "source": [
    "# 동네예보\n",
    "key = \"wbqXO%2BaP6L04913iIX%2B9w8SpepZMxZG7rhqD22QOOgobPNhFZYPz0uRM5%2FdkgD3gsxC751E%2FvU1VTeL7rJCSeQ%3D%3D\"\n",
    "base_date = today #예보날짜(현재 날짜)\n",
    "#base_time (예보시간) : '0500'고정(데이터갯수225개)"
   ]
  },
  {
   "cell_type": "markdown",
   "metadata": {},
   "source": [
    "### 서울 동네예보 (nx = 60, ny = 127)"
   ]
  },
  {
   "cell_type": "code",
   "execution_count": 6,
   "metadata": {
    "scrolled": true
   },
   "outputs": [],
   "source": [
    "url = \"http://apis.data.go.kr/1360000/VilageFcstInfoService/getVilageFcst?serviceKey={}&pageNo=1&numOfRows=225&dataType=JSON&base_date={}&base_time=0500&nx=60&ny=127\".format(key, base_date)\n",
    "content = requests.get(url).content\n",
    "jsonObj = json.loads(content)\n",
    "item = jsonObj['response']['body']['items']['item']"
   ]
  },
  {
   "cell_type": "code",
   "execution_count": null,
   "metadata": {},
   "outputs": [],
   "source": []
  },
  {
   "cell_type": "code",
   "execution_count": 7,
   "metadata": {},
   "outputs": [],
   "source": [
    "T3HValueListSL = []  # 서울 기온 리스트\n",
    "\n",
    "for i in range(225) :\n",
    "        if item[i]['category']=='T3H' and item[i]['fcstDate']==today and item[i]['fcstTime']=='1800' :\n",
    "            T3HValueListSL.append(float(item[i]['fcstValue']))\n",
    "\n",
    "for i in range(225) :\n",
    "        if item[i]['category']=='T3H' and item[i]['fcstDate']==tomorrow and item[i]['fcstTime']=='1800' :\n",
    "            T3HValueListSL.append(float(item[i]['fcstValue']))\n",
    "            \n",
    "for i in range(225) :\n",
    "        if item[i]['category']=='T3H' and item[i]['fcstDate']==aftTmr and item[i]['fcstTime']=='1800' :\n",
    "            T3HValueListSL.append(float(item[i]['fcstValue']))\n",
    "            \n",
    "REHValueListSL = []  # 서울 습도 리스트\n",
    "\n",
    "for i in range(225) :\n",
    "        if item[i]['category']=='REH' and item[i]['fcstDate']==today and item[i]['fcstTime']=='1800' :\n",
    "            REHValueListSL.append(float(item[i]['fcstValue']))\n",
    "\n",
    "for i in range(225) :\n",
    "        if item[i]['category']=='REH' and item[i]['fcstDate']==tomorrow and item[i]['fcstTime']=='1800' :\n",
    "            REHValueListSL.append(float(item[i]['fcstValue']))\n",
    "            \n",
    "for i in range(225) :\n",
    "        if item[i]['category']=='REH' and item[i]['fcstDate']==aftTmr and item[i]['fcstTime']=='1800' :\n",
    "            REHValueListSL.append(float(item[i]['fcstValue']))\n",
    "            \n",
    "POPValueListSL = [] # 서울 강수확률 리스트\n",
    "\n",
    "for i in range(225) :\n",
    "        if item[i]['category']=='POP' and item[i]['fcstDate']==today and item[i]['fcstTime']=='1800' :\n",
    "            POPValueListSL.append(float(item[i]['fcstValue']))\n",
    "\n",
    "for i in range(225) :\n",
    "        if item[i]['category']=='POP' and item[i]['fcstDate']==tomorrow and item[i]['fcstTime']=='1800' :\n",
    "            POPValueListSL.append(float(item[i]['fcstValue']))\n",
    "            \n",
    "for i in range(225) :\n",
    "        if item[i]['category']=='POP' and item[i]['fcstDate']==aftTmr and item[i]['fcstTime']=='1800' :\n",
    "            POPValueListSL.append(float(item[i]['fcstValue']))"
   ]
  },
  {
   "cell_type": "markdown",
   "metadata": {},
   "source": [
    "### 광주 동네 예보 (nx = 58 , ny = 74)"
   ]
  },
  {
   "cell_type": "code",
   "execution_count": 8,
   "metadata": {},
   "outputs": [],
   "source": [
    "url = \"http://apis.data.go.kr/1360000/VilageFcstInfoService/getVilageFcst?serviceKey={}&pageNo=1&numOfRows=225&dataType=JSON&base_date={}&base_time=0500&nx=58&ny=74\".format(key, base_date)\n",
    "content = requests.get(url).content\n",
    "jsonObj = json.loads(content)\n",
    "item = jsonObj['response']['body']['items']['item']"
   ]
  },
  {
   "cell_type": "code",
   "execution_count": 9,
   "metadata": {},
   "outputs": [],
   "source": [
    "T3HValueListGJ = []  # 광주 기온 리스트\n",
    "\n",
    "for i in range(225) :\n",
    "        if item[i]['category']=='T3H' and item[i]['fcstDate']==today and item[i]['fcstTime']=='1800' :\n",
    "            T3HValueListGJ.append(float(item[i]['fcstValue']))\n",
    "\n",
    "for i in range(225) :\n",
    "        if item[i]['category']=='T3H' and item[i]['fcstDate']==tomorrow and item[i]['fcstTime']=='1800' :\n",
    "            T3HValueListGJ.append(float(item[i]['fcstValue']))\n",
    "            \n",
    "for i in range(225) :\n",
    "        if item[i]['category']=='T3H' and item[i]['fcstDate']==aftTmr and item[i]['fcstTime']=='1800' :\n",
    "            T3HValueListGJ.append(float(item[i]['fcstValue']))         \n",
    "            \n",
    "REHValueListGJ = []  # 광주 습도 리스트\n",
    "\n",
    "for i in range(225) :\n",
    "        if item[i]['category']=='REH' and item[i]['fcstDate']==today and item[i]['fcstTime']=='1800' :\n",
    "            REHValueListGJ.append(float(item[i]['fcstValue']))\n",
    "\n",
    "for i in range(225) :\n",
    "        if item[i]['category']=='REH' and item[i]['fcstDate']==tomorrow and item[i]['fcstTime']=='1800' :\n",
    "            REHValueListGJ.append(float(item[i]['fcstValue']))\n",
    "            \n",
    "for i in range(225) :\n",
    "        if item[i]['category']=='REH' and item[i]['fcstDate']==aftTmr and item[i]['fcstTime']=='1800' :\n",
    "            REHValueListGJ.append(float(item[i]['fcstValue']))\n",
    "            \n",
    "POPValueListGJ = [] # 광주 강수확률 리스트\n",
    "\n",
    "for i in range(225) :\n",
    "        if item[i]['category']=='POP' and item[i]['fcstDate']==today and item[i]['fcstTime']=='1800' :\n",
    "            POPValueListGJ.append(float(item[i]['fcstValue']))\n",
    "\n",
    "for i in range(225) :\n",
    "        if item[i]['category']=='POP' and item[i]['fcstDate']==tomorrow and item[i]['fcstTime']=='1800' :\n",
    "            POPValueListGJ.append(float(item[i]['fcstValue']))\n",
    "            \n",
    "for i in range(225) :\n",
    "        if item[i]['category']=='POP' and item[i]['fcstDate']==aftTmr and item[i]['fcstTime']=='1800' :\n",
    "            POPValueListGJ.append(float(item[i]['fcstValue']))"
   ]
  },
  {
   "cell_type": "markdown",
   "metadata": {},
   "source": [
    "### 부산 동네 예보 (nx = 98 , ny = 76)"
   ]
  },
  {
   "cell_type": "code",
   "execution_count": 10,
   "metadata": {},
   "outputs": [],
   "source": [
    "url = \"http://apis.data.go.kr/1360000/VilageFcstInfoService/getVilageFcst?serviceKey={}&pageNo=1&numOfRows=225&dataType=JSON&base_date={}&base_time=0500&nx=98&ny=76\".format(key, base_date)\n",
    "content = requests.get(url).content\n",
    "jsonObj = json.loads(content)\n",
    "item = jsonObj['response']['body']['items']['item']"
   ]
  },
  {
   "cell_type": "code",
   "execution_count": 11,
   "metadata": {},
   "outputs": [],
   "source": [
    "T3HValueListBS = []  # 부산 기온 리스트\n",
    "\n",
    "for i in range(225) :\n",
    "        if item[i]['category']=='T3H' and item[i]['fcstDate']==today and item[i]['fcstTime']=='1800' :\n",
    "            T3HValueListBS.append(float(item[i]['fcstValue']))\n",
    "\n",
    "for i in range(225) :\n",
    "        if item[i]['category']=='T3H' and item[i]['fcstDate']==tomorrow and item[i]['fcstTime']=='1800' :\n",
    "            T3HValueListBS.append(float(item[i]['fcstValue']))\n",
    "            \n",
    "for i in range(225) :\n",
    "        if item[i]['category']=='T3H' and item[i]['fcstDate']==aftTmr and item[i]['fcstTime']=='1800' :\n",
    "            T3HValueListBS.append(float(item[i]['fcstValue']))   \n",
    "            \n",
    "REHValueListBS = []  # 부산 습도 리스트\n",
    "\n",
    "for i in range(225) :\n",
    "        if item[i]['category']=='REH' and item[i]['fcstDate']==today and item[i]['fcstTime']=='1800' :\n",
    "            REHValueListBS.append(float(item[i]['fcstValue']))\n",
    "\n",
    "for i in range(225) :\n",
    "        if item[i]['category']=='REH' and item[i]['fcstDate']==tomorrow and item[i]['fcstTime']=='1800' :\n",
    "            REHValueListBS.append(float(item[i]['fcstValue']))\n",
    "            \n",
    "for i in range(225) :\n",
    "        if item[i]['category']=='REH' and item[i]['fcstDate']==aftTmr and item[i]['fcstTime']=='1800' :\n",
    "            REHValueListBS.append(float(item[i]['fcstValue']))\n",
    "            \n",
    "POPValueListBS = [] # 부산 강수확률 리스트\n",
    "\n",
    "for i in range(225) :\n",
    "        if item[i]['category']=='POP' and item[i]['fcstDate']==today and item[i]['fcstTime']=='1800' :\n",
    "            POPValueListBS.append(float(item[i]['fcstValue']))\n",
    "\n",
    "for i in range(225) :\n",
    "        if item[i]['category']=='POP' and item[i]['fcstDate']==tomorrow and item[i]['fcstTime']=='1800' :\n",
    "            POPValueListBS.append(float(item[i]['fcstValue']))\n",
    "            \n",
    "for i in range(225) :\n",
    "        if item[i]['category']=='POP' and item[i]['fcstDate']==aftTmr and item[i]['fcstTime']=='1800' :\n",
    "            POPValueListBS.append(float(item[i]['fcstValue']))"
   ]
  },
  {
   "cell_type": "markdown",
   "metadata": {},
   "source": [
    "### 창원 기온 리스트 (nx = 90 , ny = 77)"
   ]
  },
  {
   "cell_type": "code",
   "execution_count": 12,
   "metadata": {},
   "outputs": [],
   "source": [
    "url = \"http://apis.data.go.kr/1360000/VilageFcstInfoService/getVilageFcst?serviceKey={}&pageNo=1&numOfRows=225&dataType=JSON&base_date={}&base_time=0500&nx=90&ny=77\".format(key, base_date)\n",
    "content = requests.get(url).content\n",
    "jsonObj = json.loads(content)\n",
    "item = jsonObj['response']['body']['items']['item']"
   ]
  },
  {
   "cell_type": "code",
   "execution_count": 13,
   "metadata": {},
   "outputs": [],
   "source": [
    "T3HValueListCW = []  # 창원 기온 리스트\n",
    "\n",
    "for i in range(225) :\n",
    "        if item[i]['category']=='T3H' and item[i]['fcstDate']==today and item[i]['fcstTime']=='1800' :\n",
    "            T3HValueListCW.append(float(item[i]['fcstValue']))\n",
    "\n",
    "for i in range(225) :\n",
    "        if item[i]['category']=='T3H' and item[i]['fcstDate']==tomorrow and item[i]['fcstTime']=='1800' :\n",
    "            T3HValueListCW.append(float(item[i]['fcstValue']))\n",
    "            \n",
    "for i in range(225) :\n",
    "        if item[i]['category']=='T3H' and item[i]['fcstDate']==aftTmr and item[i]['fcstTime']=='1800' :\n",
    "            T3HValueListCW.append(float(item[i]['fcstValue']))    \n",
    "            \n",
    "REHValueListCW = []  # 창원 습도 리스트\n",
    "\n",
    "for i in range(225) :\n",
    "        if item[i]['category']=='REH' and item[i]['fcstDate']==today and item[i]['fcstTime']=='1800' :\n",
    "            REHValueListCW.append(float(item[i]['fcstValue']))\n",
    "\n",
    "for i in range(225) :\n",
    "        if item[i]['category']=='REH' and item[i]['fcstDate']==tomorrow and item[i]['fcstTime']=='1800' :\n",
    "            REHValueListCW.append(float(item[i]['fcstValue']))\n",
    "            \n",
    "for i in range(225) :\n",
    "        if item[i]['category']=='REH' and item[i]['fcstDate']==aftTmr and item[i]['fcstTime']=='1800' :\n",
    "            REHValueListCW.append(float(item[i]['fcstValue']))\n",
    "            \n",
    "POPValueListCW = [] # 창원 강수확률 리스트\n",
    "\n",
    "for i in range(225) :\n",
    "        if item[i]['category']=='POP' and item[i]['fcstDate']==today and item[i]['fcstTime']=='1800' :\n",
    "            POPValueListCW.append(float(item[i]['fcstValue']))\n",
    "\n",
    "for i in range(225) :\n",
    "        if item[i]['category']=='POP' and item[i]['fcstDate']==tomorrow and item[i]['fcstTime']=='1800' :\n",
    "            POPValueListCW.append(float(item[i]['fcstValue']))\n",
    "            \n",
    "for i in range(225) :\n",
    "        if item[i]['category']=='POP' and item[i]['fcstDate']==aftTmr and item[i]['fcstTime']=='1800' :\n",
    "            POPValueListCW.append(float(item[i]['fcstValue']))"
   ]
  },
  {
   "cell_type": "markdown",
   "metadata": {},
   "source": [
    "### 인천 기온 리스트 (nx = 55 , ny = 124)"
   ]
  },
  {
   "cell_type": "code",
   "execution_count": 14,
   "metadata": {},
   "outputs": [],
   "source": [
    "url = \"http://apis.data.go.kr/1360000/VilageFcstInfoService/getVilageFcst?serviceKey={}&pageNo=1&numOfRows=225&dataType=JSON&base_date={}&base_time=0500&nx=55&ny=124\".format(key, base_date)\n",
    "content = requests.get(url).content\n",
    "jsonObj = json.loads(content)\n",
    "item = jsonObj['response']['body']['items']['item']"
   ]
  },
  {
   "cell_type": "code",
   "execution_count": 15,
   "metadata": {},
   "outputs": [],
   "source": [
    "T3HValueListIC = []  # 인천 기온 리스트\n",
    "\n",
    "for i in range(225) :\n",
    "        if item[i]['category']=='T3H' and item[i]['fcstDate']==today and item[i]['fcstTime']=='1800' :\n",
    "            T3HValueListIC.append(float(item[i]['fcstValue']))\n",
    "\n",
    "for i in range(225) :\n",
    "        if item[i]['category']=='T3H' and item[i]['fcstDate']==tomorrow and item[i]['fcstTime']=='1800' :\n",
    "            T3HValueListIC.append(float(item[i]['fcstValue']))\n",
    "            \n",
    "for i in range(225) :\n",
    "        if item[i]['category']=='T3H' and item[i]['fcstDate']==aftTmr and item[i]['fcstTime']=='1800' :\n",
    "            T3HValueListIC.append(float(item[i]['fcstValue']))            \n",
    "            \n",
    "REHValueListIC = []  # 인천 습도 리스트\n",
    "\n",
    "for i in range(225) :\n",
    "        if item[i]['category']=='REH' and item[i]['fcstDate']==today and item[i]['fcstTime']=='1800' :\n",
    "            REHValueListIC.append(float(item[i]['fcstValue']))\n",
    "\n",
    "for i in range(225) :\n",
    "        if item[i]['category']=='REH' and item[i]['fcstDate']==tomorrow and item[i]['fcstTime']=='1800' :\n",
    "            REHValueListIC.append(float(item[i]['fcstValue']))\n",
    "            \n",
    "for i in range(225) :\n",
    "        if item[i]['category']=='REH' and item[i]['fcstDate']==aftTmr and item[i]['fcstTime']=='1800' :\n",
    "            REHValueListIC.append(float(item[i]['fcstValue']))\n",
    "            \n",
    "POPValueListIC = [] # 인천 강수확률 리스트\n",
    "\n",
    "for i in range(225) :\n",
    "        if item[i]['category']=='POP' and item[i]['fcstDate']==today and item[i]['fcstTime']=='1800' :\n",
    "            POPValueListIC.append(float(item[i]['fcstValue']))\n",
    "\n",
    "for i in range(225) :\n",
    "        if item[i]['category']=='POP' and item[i]['fcstDate']==tomorrow and item[i]['fcstTime']=='1800' :\n",
    "            POPValueListIC.append(float(item[i]['fcstValue']))\n",
    "            \n",
    "for i in range(225) :\n",
    "        if item[i]['category']=='POP' and item[i]['fcstDate']==aftTmr and item[i]['fcstTime']=='1800' :\n",
    "            POPValueListIC.append(float(item[i]['fcstValue']))"
   ]
  },
  {
   "cell_type": "markdown",
   "metadata": {},
   "source": [
    "### 대전 기온 리스트 (nx = 67 , ny = 100)"
   ]
  },
  {
   "cell_type": "code",
   "execution_count": 16,
   "metadata": {},
   "outputs": [],
   "source": [
    "url = \"http://apis.data.go.kr/1360000/VilageFcstInfoService/getVilageFcst?serviceKey={}&pageNo=1&numOfRows=225&dataType=JSON&base_date={}&base_time=0500&nx=67&ny=100\".format(key, base_date)\n",
    "content = requests.get(url).content\n",
    "jsonObj = json.loads(content)\n",
    "item = jsonObj['response']['body']['items']['item']"
   ]
  },
  {
   "cell_type": "code",
   "execution_count": 17,
   "metadata": {},
   "outputs": [],
   "source": [
    "T3HValueListDJ = []  # 대전 기온 리스트\n",
    "\n",
    "for i in range(225) :\n",
    "        if item[i]['category']=='T3H' and item[i]['fcstDate']==today and item[i]['fcstTime']=='1800' :\n",
    "            T3HValueListDJ.append(float(item[i]['fcstValue']))\n",
    "\n",
    "for i in range(225) :\n",
    "        if item[i]['category']=='T3H' and item[i]['fcstDate']==tomorrow and item[i]['fcstTime']=='1800' :\n",
    "            T3HValueListDJ.append(float(item[i]['fcstValue']))\n",
    "            \n",
    "for i in range(225) :\n",
    "        if item[i]['category']=='T3H' and item[i]['fcstDate']==aftTmr and item[i]['fcstTime']=='1800' :\n",
    "            T3HValueListDJ.append(float(item[i]['fcstValue'])) \n",
    "            \n",
    "REHValueListDJ = []  # 대전 습도 리스트\n",
    "\n",
    "for i in range(225) :\n",
    "        if item[i]['category']=='REH' and item[i]['fcstDate']==today and item[i]['fcstTime']=='1800' :\n",
    "            REHValueListDJ.append(float(item[i]['fcstValue']))\n",
    "\n",
    "for i in range(225) :\n",
    "        if item[i]['category']=='REH' and item[i]['fcstDate']==tomorrow and item[i]['fcstTime']=='1800' :\n",
    "            REHValueListDJ.append(float(item[i]['fcstValue']))\n",
    "            \n",
    "for i in range(225) :\n",
    "        if item[i]['category']=='REH' and item[i]['fcstDate']==aftTmr and item[i]['fcstTime']=='1800' :\n",
    "            REHValueListDJ.append(float(item[i]['fcstValue']))\n",
    "            \n",
    "POPValueListDJ = [] # 대전 강수확률 리스트\n",
    "\n",
    "for i in range(225) :\n",
    "        if item[i]['category']=='POP' and item[i]['fcstDate']==today and item[i]['fcstTime']=='1800' :\n",
    "            POPValueListDJ.append(float(item[i]['fcstValue']))\n",
    "\n",
    "for i in range(225) :\n",
    "        if item[i]['category']=='POP' and item[i]['fcstDate']==tomorrow and item[i]['fcstTime']=='1800' :\n",
    "            POPValueListDJ.append(float(item[i]['fcstValue']))\n",
    "            \n",
    "for i in range(225) :\n",
    "        if item[i]['category']=='POP' and item[i]['fcstDate']==aftTmr and item[i]['fcstTime']=='1800' :\n",
    "            POPValueListDJ.append(float(item[i]['fcstValue']))"
   ]
  },
  {
   "cell_type": "markdown",
   "metadata": {},
   "source": [
    "### 대구 기온 리스트 (nx = 89 , ny = 90)"
   ]
  },
  {
   "cell_type": "code",
   "execution_count": 18,
   "metadata": {},
   "outputs": [],
   "source": [
    "url = \"http://apis.data.go.kr/1360000/VilageFcstInfoService/getVilageFcst?serviceKey={}&pageNo=1&numOfRows=225&dataType=JSON&base_date={}&base_time=0500&nx=89&ny=90\".format(key, base_date)\n",
    "content = requests.get(url).content\n",
    "jsonObj = json.loads(content)\n",
    "item = jsonObj['response']['body']['items']['item']"
   ]
  },
  {
   "cell_type": "code",
   "execution_count": 19,
   "metadata": {},
   "outputs": [],
   "source": [
    "T3HValueListDG = []  # 대구 기온 리스트\n",
    "\n",
    "for i in range(225) :\n",
    "        if item[i]['category']=='T3H' and item[i]['fcstDate']==today and item[i]['fcstTime']=='1800' :\n",
    "            T3HValueListDG.append(float(item[i]['fcstValue']))\n",
    "\n",
    "for i in range(225) :\n",
    "        if item[i]['category']=='T3H' and item[i]['fcstDate']==tomorrow and item[i]['fcstTime']=='1800' :\n",
    "            T3HValueListDG.append(float(item[i]['fcstValue']))\n",
    "            \n",
    "for i in range(225) :\n",
    "        if item[i]['category']=='T3H' and item[i]['fcstDate']==aftTmr and item[i]['fcstTime']=='1800' :\n",
    "            T3HValueListDG.append(float(item[i]['fcstValue']))    \n",
    "            \n",
    "REHValueListDG = []  # 대구 습도 리스트\n",
    "\n",
    "for i in range(225) :\n",
    "        if item[i]['category']=='REH' and item[i]['fcstDate']==today and item[i]['fcstTime']=='1800' :\n",
    "            REHValueListDG.append(float(item[i]['fcstValue']))\n",
    "\n",
    "for i in range(225) :\n",
    "        if item[i]['category']=='REH' and item[i]['fcstDate']==tomorrow and item[i]['fcstTime']=='1800' :\n",
    "            REHValueListDG.append(float(item[i]['fcstValue']))\n",
    "            \n",
    "for i in range(225) :\n",
    "        if item[i]['category']=='REH' and item[i]['fcstDate']==aftTmr and item[i]['fcstTime']=='1800' :\n",
    "            REHValueListDG.append(float(item[i]['fcstValue']))\n",
    "            \n",
    "POPValueListDG = [] # 대구 강수확률 리스트\n",
    "\n",
    "for i in range(225) :\n",
    "        if item[i]['category']=='POP' and item[i]['fcstDate']==today and item[i]['fcstTime']=='1800' :\n",
    "            POPValueListDG.append(float(item[i]['fcstValue']))\n",
    "\n",
    "for i in range(225) :\n",
    "        if item[i]['category']=='POP' and item[i]['fcstDate']==tomorrow and item[i]['fcstTime']=='1800' :\n",
    "            POPValueListDG.append(float(item[i]['fcstValue']))\n",
    "            \n",
    "for i in range(225) :\n",
    "        if item[i]['category']=='POP' and item[i]['fcstDate']==aftTmr and item[i]['fcstTime']=='1800' :\n",
    "            POPValueListDG.append(float(item[i]['fcstValue']))"
   ]
  },
  {
   "cell_type": "markdown",
   "metadata": {},
   "source": [
    "### 수원 기온 리스트 (nx = 60 , ny = 121)"
   ]
  },
  {
   "cell_type": "code",
   "execution_count": 20,
   "metadata": {},
   "outputs": [],
   "source": [
    "url = \"http://apis.data.go.kr/1360000/VilageFcstInfoService/getVilageFcst?serviceKey={}&pageNo=1&numOfRows=225&dataType=JSON&base_date={}&base_time=0500&nx=60&ny=121\".format(key, base_date)\n",
    "content = requests.get(url).content\n",
    "jsonObj = json.loads(content)\n",
    "item = jsonObj['response']['body']['items']['item']"
   ]
  },
  {
   "cell_type": "code",
   "execution_count": 21,
   "metadata": {},
   "outputs": [],
   "source": [
    "T3HValueListSW = []  # 수원 기온 리스트\n",
    "\n",
    "for i in range(225) :\n",
    "        if item[i]['category']=='T3H' and item[i]['fcstDate']==today and item[i]['fcstTime']=='1800' :\n",
    "            T3HValueListSW.append(float(item[i]['fcstValue']))\n",
    "\n",
    "for i in range(225) :\n",
    "        if item[i]['category']=='T3H' and item[i]['fcstDate']==tomorrow and item[i]['fcstTime']=='1800' :\n",
    "            T3HValueListSW.append(float(item[i]['fcstValue']))\n",
    "            \n",
    "for i in range(225) :\n",
    "        if item[i]['category']=='T3H' and item[i]['fcstDate']==aftTmr and item[i]['fcstTime']=='1800' :\n",
    "            T3HValueListSW.append(float(item[i]['fcstValue']))   \n",
    "            \n",
    "REHValueListSW = []  # 수원 습도 리스트\n",
    "\n",
    "for i in range(225) :\n",
    "        if item[i]['category']=='REH' and item[i]['fcstDate']==today and item[i]['fcstTime']=='1800' :\n",
    "            REHValueListSW.append(float(item[i]['fcstValue']))\n",
    "\n",
    "for i in range(225) :\n",
    "        if item[i]['category']=='REH' and item[i]['fcstDate']==tomorrow and item[i]['fcstTime']=='1800' :\n",
    "            REHValueListSW.append(float(item[i]['fcstValue']))\n",
    "            \n",
    "for i in range(225) :\n",
    "        if item[i]['category']=='REH' and item[i]['fcstDate']==aftTmr and item[i]['fcstTime']=='1800' :\n",
    "            REHValueListSW.append(float(item[i]['fcstValue']))\n",
    "            \n",
    "POPValueListSW = [] # 수원 강수확률 리스트\n",
    "\n",
    "for i in range(225) :\n",
    "        if item[i]['category']=='POP' and item[i]['fcstDate']==today and item[i]['fcstTime']=='1800' :\n",
    "            POPValueListSW.append(float(item[i]['fcstValue']))\n",
    "\n",
    "for i in range(225) :\n",
    "        if item[i]['category']=='POP' and item[i]['fcstDate']==tomorrow and item[i]['fcstTime']=='1800' :\n",
    "            POPValueListSW.append(float(item[i]['fcstValue']))\n",
    "            \n",
    "for i in range(225) :\n",
    "        if item[i]['category']=='POP' and item[i]['fcstDate']==aftTmr and item[i]['fcstTime']=='1800' :\n",
    "            POPValueListSW.append(float(item[i]['fcstValue']))"
   ]
  },
  {
   "cell_type": "markdown",
   "metadata": {},
   "source": [
    "### 중기예보"
   ]
  },
  {
   "cell_type": "markdown",
   "metadata": {},
   "source": [
    "### 서울 기온 중기예보 (11B10101)"
   ]
  },
  {
   "cell_type": "code",
   "execution_count": 22,
   "metadata": {},
   "outputs": [],
   "source": [
    "# 중기예보\n",
    "# 기온\n",
    "key = \"wbqXO%2BaP6L04913iIX%2B9w8SpepZMxZG7rhqD22QOOgobPNhFZYPz0uRM5%2FdkgD3gsxC751E%2FvU1VTeL7rJCSeQ%3D%3D\"\n",
    "urlTemp = \"http://apis.data.go.kr/1360000/MidFcstInfoService/getMidTa?serviceKey={}&dataType=JSON&numOfRows=500&pageNo=1&regId=11B10101&tmFc=\".format(key)+today+\"0600\"\n",
    "content = requests.get(urlTemp).content\n",
    "jsonObj = json.loads(content)\n",
    "item = jsonObj['response']['body']['items']['item']"
   ]
  },
  {
   "cell_type": "code",
   "execution_count": 23,
   "metadata": {},
   "outputs": [],
   "source": [
    "T3HValueListSL.append(float((item[0]['taMax3']+item[0]['taMin3'])/2))\n",
    "T3HValueListSL.append(float((item[0]['taMax4']+item[0]['taMin4'])/2))\n",
    "T3HValueListSL.append(float((item[0]['taMax5']+item[0]['taMin5'])/2))\n",
    "T3HValueListSL.append(float((item[0]['taMax6']+item[0]['taMin6'])/2))"
   ]
  },
  {
   "cell_type": "markdown",
   "metadata": {},
   "source": [
    "### 광주 기온 중기예보 (11F20501)"
   ]
  },
  {
   "cell_type": "code",
   "execution_count": 24,
   "metadata": {},
   "outputs": [],
   "source": [
    "# 중기예보\n",
    "# 기온\n",
    "key = \"wbqXO%2BaP6L04913iIX%2B9w8SpepZMxZG7rhqD22QOOgobPNhFZYPz0uRM5%2FdkgD3gsxC751E%2FvU1VTeL7rJCSeQ%3D%3D\"\n",
    "urlTemp = \"http://apis.data.go.kr/1360000/MidFcstInfoService/getMidTa?serviceKey={}&dataType=JSON&numOfRows=500&pageNo=1&regId=11F20501&tmFc=\".format(key)+today+\"0600\"\n",
    "content = requests.get(urlTemp).content\n",
    "jsonObj = json.loads(content)\n",
    "item = jsonObj['response']['body']['items']['item']"
   ]
  },
  {
   "cell_type": "code",
   "execution_count": 25,
   "metadata": {},
   "outputs": [],
   "source": [
    "T3HValueListGJ.append(float((item[0]['taMax3']+item[0]['taMin3'])/2))\n",
    "T3HValueListGJ.append(float((item[0]['taMax4']+item[0]['taMin4'])/2))\n",
    "T3HValueListGJ.append(float((item[0]['taMax5']+item[0]['taMin5'])/2))\n",
    "T3HValueListGJ.append(float((item[0]['taMax6']+item[0]['taMin6'])/2))"
   ]
  },
  {
   "cell_type": "markdown",
   "metadata": {},
   "source": [
    "### 부산 기온 중기예보 (11H20101)"
   ]
  },
  {
   "cell_type": "code",
   "execution_count": 26,
   "metadata": {},
   "outputs": [],
   "source": [
    "# 중기예보\n",
    "# 기온\n",
    "key = \"wbqXO%2BaP6L04913iIX%2B9w8SpepZMxZG7rhqD22QOOgobPNhFZYPz0uRM5%2FdkgD3gsxC751E%2FvU1VTeL7rJCSeQ%3D%3D\"\n",
    "urlTemp = \"http://apis.data.go.kr/1360000/MidFcstInfoService/getMidTa?serviceKey={}&dataType=JSON&numOfRows=500&pageNo=1&regId=11H20101&tmFc=\".format(key)+today+\"0600\"\n",
    "content = requests.get(urlTemp).content\n",
    "jsonObj = json.loads(content)\n",
    "item = jsonObj['response']['body']['items']['item']"
   ]
  },
  {
   "cell_type": "code",
   "execution_count": 27,
   "metadata": {},
   "outputs": [],
   "source": [
    "T3HValueListBS.append(float((item[0]['taMax3']+item[0]['taMin3'])/2))\n",
    "T3HValueListBS.append(float((item[0]['taMax4']+item[0]['taMin4'])/2))\n",
    "T3HValueListBS.append(float((item[0]['taMax5']+item[0]['taMin5'])/2))\n",
    "T3HValueListBS.append(float((item[0]['taMax6']+item[0]['taMin6'])/2))"
   ]
  },
  {
   "cell_type": "markdown",
   "metadata": {},
   "source": [
    "### 창원 기온 중기예보 (11H20301)"
   ]
  },
  {
   "cell_type": "code",
   "execution_count": 28,
   "metadata": {},
   "outputs": [],
   "source": [
    "# 중기예보\n",
    "# 기온\n",
    "key = \"wbqXO%2BaP6L04913iIX%2B9w8SpepZMxZG7rhqD22QOOgobPNhFZYPz0uRM5%2FdkgD3gsxC751E%2FvU1VTeL7rJCSeQ%3D%3D\"\n",
    "urlTemp = \"http://apis.data.go.kr/1360000/MidFcstInfoService/getMidTa?serviceKey={}&dataType=JSON&numOfRows=500&pageNo=1&regId=11H20301&tmFc=\".format(key)+today+\"0600\"\n",
    "content = requests.get(urlTemp).content\n",
    "jsonObj = json.loads(content)\n",
    "item = jsonObj['response']['body']['items']['item']"
   ]
  },
  {
   "cell_type": "code",
   "execution_count": 29,
   "metadata": {},
   "outputs": [],
   "source": [
    "T3HValueListCW.append(float((item[0]['taMax3']+item[0]['taMin3'])/2))\n",
    "T3HValueListCW.append(float((item[0]['taMax4']+item[0]['taMin4'])/2))\n",
    "T3HValueListCW.append(float((item[0]['taMax5']+item[0]['taMin5'])/2))\n",
    "T3HValueListCW.append(float((item[0]['taMax6']+item[0]['taMin6'])/2))"
   ]
  },
  {
   "cell_type": "markdown",
   "metadata": {},
   "source": [
    "### 인천 기온 중기예보 (11B20201)"
   ]
  },
  {
   "cell_type": "code",
   "execution_count": 30,
   "metadata": {},
   "outputs": [],
   "source": [
    "# 중기예보\n",
    "# 기온\n",
    "key = \"wbqXO%2BaP6L04913iIX%2B9w8SpepZMxZG7rhqD22QOOgobPNhFZYPz0uRM5%2FdkgD3gsxC751E%2FvU1VTeL7rJCSeQ%3D%3D\"\n",
    "urlTemp = \"http://apis.data.go.kr/1360000/MidFcstInfoService/getMidTa?serviceKey={}&dataType=JSON&numOfRows=500&pageNo=1&regId=11B20201&tmFc=\".format(key)+today+\"0600\"\n",
    "content = requests.get(urlTemp).content\n",
    "jsonObj = json.loads(content)\n",
    "item = jsonObj['response']['body']['items']['item']"
   ]
  },
  {
   "cell_type": "code",
   "execution_count": 31,
   "metadata": {},
   "outputs": [],
   "source": [
    "T3HValueListIC.append(float((item[0]['taMax3']+item[0]['taMin3'])/2))\n",
    "T3HValueListIC.append(float((item[0]['taMax4']+item[0]['taMin4'])/2))\n",
    "T3HValueListIC.append(float((item[0]['taMax5']+item[0]['taMin5'])/2))\n",
    "T3HValueListIC.append(float((item[0]['taMax6']+item[0]['taMin6'])/2))"
   ]
  },
  {
   "cell_type": "markdown",
   "metadata": {},
   "source": [
    "### 대전 기온 중기 예보 (11C20401)"
   ]
  },
  {
   "cell_type": "code",
   "execution_count": 32,
   "metadata": {},
   "outputs": [],
   "source": [
    "# 중기예보\n",
    "# 기온\n",
    "key = \"wbqXO%2BaP6L04913iIX%2B9w8SpepZMxZG7rhqD22QOOgobPNhFZYPz0uRM5%2FdkgD3gsxC751E%2FvU1VTeL7rJCSeQ%3D%3D\"\n",
    "urlTemp = \"http://apis.data.go.kr/1360000/MidFcstInfoService/getMidTa?serviceKey={}&dataType=JSON&numOfRows=500&pageNo=1&regId=11C20401&tmFc=\".format(key)+today+\"0600\"\n",
    "content = requests.get(urlTemp).content\n",
    "jsonObj = json.loads(content)\n",
    "item = jsonObj['response']['body']['items']['item']"
   ]
  },
  {
   "cell_type": "code",
   "execution_count": 33,
   "metadata": {},
   "outputs": [],
   "source": [
    "T3HValueListDJ.append(float((item[0]['taMax3']+item[0]['taMin3'])/2))\n",
    "T3HValueListDJ.append(float((item[0]['taMax4']+item[0]['taMin4'])/2))\n",
    "T3HValueListDJ.append(float((item[0]['taMax5']+item[0]['taMin5'])/2))\n",
    "T3HValueListDJ.append(float((item[0]['taMax6']+item[0]['taMin6'])/2))"
   ]
  },
  {
   "cell_type": "markdown",
   "metadata": {},
   "source": [
    "### 대구 기온 중기 예보 (11H10701)"
   ]
  },
  {
   "cell_type": "code",
   "execution_count": 34,
   "metadata": {},
   "outputs": [],
   "source": [
    "# 중기예보\n",
    "# 기온\n",
    "key = \"wbqXO%2BaP6L04913iIX%2B9w8SpepZMxZG7rhqD22QOOgobPNhFZYPz0uRM5%2FdkgD3gsxC751E%2FvU1VTeL7rJCSeQ%3D%3D\"\n",
    "urlTemp = \"http://apis.data.go.kr/1360000/MidFcstInfoService/getMidTa?serviceKey={}&dataType=JSON&numOfRows=500&pageNo=1&regId=11H10701&tmFc=\".format(key)+today+\"0600\"\n",
    "content = requests.get(urlTemp).content\n",
    "jsonObj = json.loads(content)\n",
    "item = jsonObj['response']['body']['items']['item']"
   ]
  },
  {
   "cell_type": "code",
   "execution_count": 35,
   "metadata": {},
   "outputs": [],
   "source": [
    "T3HValueListDG.append(float((item[0]['taMax3']+item[0]['taMin3'])/2))\n",
    "T3HValueListDG.append(float((item[0]['taMax4']+item[0]['taMin4'])/2))\n",
    "T3HValueListDG.append(float((item[0]['taMax5']+item[0]['taMin5'])/2))\n",
    "T3HValueListDG.append(float((item[0]['taMax6']+item[0]['taMin6'])/2))"
   ]
  },
  {
   "cell_type": "markdown",
   "metadata": {},
   "source": [
    "### 수원 기온 중기 예보 (11B20601)"
   ]
  },
  {
   "cell_type": "code",
   "execution_count": 36,
   "metadata": {},
   "outputs": [],
   "source": [
    "# 중기예보\n",
    "# 기온\n",
    "key = \"wbqXO%2BaP6L04913iIX%2B9w8SpepZMxZG7rhqD22QOOgobPNhFZYPz0uRM5%2FdkgD3gsxC751E%2FvU1VTeL7rJCSeQ%3D%3D\"\n",
    "urlTemp = \"http://apis.data.go.kr/1360000/MidFcstInfoService/getMidTa?serviceKey={}&dataType=JSON&numOfRows=500&pageNo=1&regId=11B20601&tmFc=\".format(key)+today+\"0600\"\n",
    "content = requests.get(urlTemp).content\n",
    "jsonObj = json.loads(content)\n",
    "item = jsonObj['response']['body']['items']['item']"
   ]
  },
  {
   "cell_type": "code",
   "execution_count": 37,
   "metadata": {},
   "outputs": [],
   "source": [
    "T3HValueListSW.append(float((item[0]['taMax3']+item[0]['taMin3'])/2))\n",
    "T3HValueListSW.append(float((item[0]['taMax4']+item[0]['taMin4'])/2))\n",
    "T3HValueListSW.append(float((item[0]['taMax5']+item[0]['taMin5'])/2))\n",
    "T3HValueListSW.append(float((item[0]['taMax6']+item[0]['taMin6'])/2))"
   ]
  },
  {
   "cell_type": "markdown",
   "metadata": {},
   "source": [
    "### 강수확률 중기 예보"
   ]
  },
  {
   "cell_type": "markdown",
   "metadata": {},
   "source": [
    "### 서울 강수확률 중기예보 (11B10101)"
   ]
  },
  {
   "cell_type": "code",
   "execution_count": 38,
   "metadata": {},
   "outputs": [
    {
     "data": {
      "text/plain": [
       "'http://apis.data.go.kr/1360000/MidFcstInfoService/getMidTa?serviceKey=wbqXO%2BaP6L04913iIX%2B9w8SpepZMxZG7rhqD22QOOgobPNhFZYPz0uRM5%2FdkgD3gsxC751E%2FvU1VTeL7rJCSeQ%3D%3D&dataType=JSON&numOfRows=500&pageNo=1&regId=11B20601&tmFc=202103260600'"
      ]
     },
     "execution_count": 38,
     "metadata": {},
     "output_type": "execute_result"
    }
   ],
   "source": [
    "urlTemp"
   ]
  },
  {
   "cell_type": "code",
   "execution_count": 39,
   "metadata": {},
   "outputs": [
    {
     "data": {
      "text/plain": [
       "[{'regId': '11B10101',\n",
       "  'rnSt3Am': 0,\n",
       "  'rnSt3Pm': 0,\n",
       "  'rnSt4Am': 0,\n",
       "  'rnSt4Pm': 0,\n",
       "  'rnSt5Am': 0,\n",
       "  'rnSt5Pm': 0,\n",
       "  'rnSt6Am': 0,\n",
       "  'rnSt6Pm': 0,\n",
       "  'rnSt7Am': 0,\n",
       "  'rnSt7Pm': 0,\n",
       "  'rnSt8': 0,\n",
       "  'rnSt9': 0,\n",
       "  'rnSt10': 0,\n",
       "  'wf3Am': '',\n",
       "  'wf3Pm': '',\n",
       "  'wf4Am': '',\n",
       "  'wf4Pm': '',\n",
       "  'wf5Am': '',\n",
       "  'wf5Pm': '',\n",
       "  'wf6Am': '',\n",
       "  'wf6Pm': '',\n",
       "  'wf7Am': '',\n",
       "  'wf7Pm': '',\n",
       "  'wf8': '',\n",
       "  'wf9': '',\n",
       "  'wf10': ''}]"
      ]
     },
     "execution_count": 39,
     "metadata": {},
     "output_type": "execute_result"
    }
   ],
   "source": [
    "# 중기예보\n",
    "# 강수확률\n",
    "key = \"wbqXO%2BaP6L04913iIX%2B9w8SpepZMxZG7rhqD22QOOgobPNhFZYPz0uRM5%2FdkgD3gsxC751E%2FvU1VTeL7rJCSeQ%3D%3D\"\n",
    "urlTemp = \"http://apis.data.go.kr/1360000/MidFcstInfoService/getMidLandFcst?serviceKey={}&dataType=JSON&numOfRows=500&pageNo=1&regId=11B10101&tmFc=\".format(key)+today+\"0600\"\n",
    "content = requests.get(urlTemp).content\n",
    "jsonObj = json.loads(content)\n",
    "item = jsonObj['response']['body']['items']['item']\n",
    "item"
   ]
  },
  {
   "cell_type": "code",
   "execution_count": 40,
   "metadata": {},
   "outputs": [],
   "source": [
    "POPValueListSL.append(float(item[0]['rnSt3Pm']))\n",
    "POPValueListSL.append(float(item[0]['rnSt4Pm']))\n",
    "POPValueListSL.append(float(item[0]['rnSt5Pm']))\n",
    "POPValueListSL.append(float(item[0]['rnSt6Pm']))"
   ]
  },
  {
   "cell_type": "markdown",
   "metadata": {},
   "source": [
    "### 광주 강수확률 중기예보 (11F20501)"
   ]
  },
  {
   "cell_type": "code",
   "execution_count": 41,
   "metadata": {},
   "outputs": [],
   "source": [
    "# 중기예보\n",
    "# 강수확률\n",
    "key = \"wbqXO%2BaP6L04913iIX%2B9w8SpepZMxZG7rhqD22QOOgobPNhFZYPz0uRM5%2FdkgD3gsxC751E%2FvU1VTeL7rJCSeQ%3D%3D\"\n",
    "urlTemp = \"http://apis.data.go.kr/1360000/MidFcstInfoService/getMidLandFcst?serviceKey={}&dataType=JSON&numOfRows=500&pageNo=1&regId=11F20501&tmFc=\".format(key)+today+\"0600\"\n",
    "content = requests.get(urlTemp).content\n",
    "jsonObj = json.loads(content)\n",
    "item = jsonObj['response']['body']['items']['item']"
   ]
  },
  {
   "cell_type": "code",
   "execution_count": 42,
   "metadata": {},
   "outputs": [],
   "source": [
    "POPValueListGJ.append(float(item[0]['rnSt3Pm']))\n",
    "POPValueListGJ.append(float(item[0]['rnSt4Pm']))\n",
    "POPValueListGJ.append(float(item[0]['rnSt5Pm']))\n",
    "POPValueListGJ.append(float(item[0]['rnSt6Pm']))"
   ]
  },
  {
   "cell_type": "markdown",
   "metadata": {},
   "source": [
    "### 부산 강수확률 중기예보 (11H20201)"
   ]
  },
  {
   "cell_type": "code",
   "execution_count": 43,
   "metadata": {},
   "outputs": [],
   "source": [
    "# 중기예보\n",
    "# 강수확률\n",
    "key = \"wbqXO%2BaP6L04913iIX%2B9w8SpepZMxZG7rhqD22QOOgobPNhFZYPz0uRM5%2FdkgD3gsxC751E%2FvU1VTeL7rJCSeQ%3D%3D\"\n",
    "urlTemp = \"http://apis.data.go.kr/1360000/MidFcstInfoService/getMidLandFcst?serviceKey={}&dataType=JSON&numOfRows=500&pageNo=1&regId=11H20201&tmFc=\".format(key)+today+\"0600\"\n",
    "content = requests.get(urlTemp).content\n",
    "jsonObj = json.loads(content)\n",
    "item = jsonObj['response']['body']['items']['item']"
   ]
  },
  {
   "cell_type": "code",
   "execution_count": 44,
   "metadata": {},
   "outputs": [],
   "source": [
    "POPValueListBS.append(float(item[0]['rnSt3Pm']))\n",
    "POPValueListBS.append(float(item[0]['rnSt4Pm']))\n",
    "POPValueListBS.append(float(item[0]['rnSt5Pm']))\n",
    "POPValueListBS.append(float(item[0]['rnSt6Pm']))"
   ]
  },
  {
   "cell_type": "markdown",
   "metadata": {},
   "source": [
    "### 창원 강수확률 중기예보 (11H20301)"
   ]
  },
  {
   "cell_type": "code",
   "execution_count": 45,
   "metadata": {},
   "outputs": [],
   "source": [
    "# 중기예보\n",
    "# 강수확률\n",
    "key = \"wbqXO%2BaP6L04913iIX%2B9w8SpepZMxZG7rhqD22QOOgobPNhFZYPz0uRM5%2FdkgD3gsxC751E%2FvU1VTeL7rJCSeQ%3D%3D\"\n",
    "urlTemp = \"http://apis.data.go.kr/1360000/MidFcstInfoService/getMidLandFcst?serviceKey={}&dataType=JSON&numOfRows=500&pageNo=1&regId=11H20301&tmFc=\".format(key)+today+\"0600\"\n",
    "content = requests.get(urlTemp).content\n",
    "jsonObj = json.loads(content)\n",
    "item = jsonObj['response']['body']['items']['item']"
   ]
  },
  {
   "cell_type": "code",
   "execution_count": 46,
   "metadata": {},
   "outputs": [],
   "source": [
    "POPValueListCW.append(float(item[0]['rnSt3Pm']))\n",
    "POPValueListCW.append(float(item[0]['rnSt4Pm']))\n",
    "POPValueListCW.append(float(item[0]['rnSt5Pm']))\n",
    "POPValueListCW.append(float(item[0]['rnSt6Pm']))"
   ]
  },
  {
   "cell_type": "markdown",
   "metadata": {},
   "source": [
    "### 인천 강수확률 중기예보 (11B20201)"
   ]
  },
  {
   "cell_type": "code",
   "execution_count": 47,
   "metadata": {},
   "outputs": [],
   "source": [
    "# 중기예보\n",
    "# 강수확률\n",
    "key = \"wbqXO%2BaP6L04913iIX%2B9w8SpepZMxZG7rhqD22QOOgobPNhFZYPz0uRM5%2FdkgD3gsxC751E%2FvU1VTeL7rJCSeQ%3D%3D\"\n",
    "urlTemp = \"http://apis.data.go.kr/1360000/MidFcstInfoService/getMidLandFcst?serviceKey={}&dataType=JSON&numOfRows=500&pageNo=1&regId=11B20201&tmFc=\".format(key)+today+\"0600\"\n",
    "content = requests.get(urlTemp).content\n",
    "jsonObj = json.loads(content)\n",
    "item = jsonObj['response']['body']['items']['item']"
   ]
  },
  {
   "cell_type": "code",
   "execution_count": 48,
   "metadata": {},
   "outputs": [],
   "source": [
    "POPValueListIC.append(float(item[0]['rnSt3Pm']))\n",
    "POPValueListIC.append(float(item[0]['rnSt4Pm']))\n",
    "POPValueListIC.append(float(item[0]['rnSt5Pm']))\n",
    "POPValueListIC.append(float(item[0]['rnSt6Pm']))"
   ]
  },
  {
   "cell_type": "markdown",
   "metadata": {},
   "source": [
    "### 대전 강수확률 중기예보 (11C20401)"
   ]
  },
  {
   "cell_type": "code",
   "execution_count": 49,
   "metadata": {},
   "outputs": [],
   "source": [
    "# 중기예보\n",
    "# 강수확률\n",
    "key = \"wbqXO%2BaP6L04913iIX%2B9w8SpepZMxZG7rhqD22QOOgobPNhFZYPz0uRM5%2FdkgD3gsxC751E%2FvU1VTeL7rJCSeQ%3D%3D\"\n",
    "urlTemp = \"http://apis.data.go.kr/1360000/MidFcstInfoService/getMidLandFcst?serviceKey={}&dataType=JSON&numOfRows=500&pageNo=1&regId=11C20401&tmFc=\".format(key)+today+\"0600\"\n",
    "content = requests.get(urlTemp).content\n",
    "jsonObj = json.loads(content)\n",
    "item = jsonObj['response']['body']['items']['item']"
   ]
  },
  {
   "cell_type": "code",
   "execution_count": 50,
   "metadata": {},
   "outputs": [],
   "source": [
    "POPValueListDJ.append(float(item[0]['rnSt3Pm']))\n",
    "POPValueListDJ.append(float(item[0]['rnSt4Pm']))\n",
    "POPValueListDJ.append(float(item[0]['rnSt5Pm']))\n",
    "POPValueListDJ.append(float(item[0]['rnSt6Pm']))"
   ]
  },
  {
   "cell_type": "markdown",
   "metadata": {},
   "source": [
    "### 대구 강수확률 중기예보 (11H10701)"
   ]
  },
  {
   "cell_type": "code",
   "execution_count": 51,
   "metadata": {},
   "outputs": [],
   "source": [
    "# 중기예보\n",
    "# 강수확률\n",
    "key = \"wbqXO%2BaP6L04913iIX%2B9w8SpepZMxZG7rhqD22QOOgobPNhFZYPz0uRM5%2FdkgD3gsxC751E%2FvU1VTeL7rJCSeQ%3D%3D\"\n",
    "urlTemp = \"http://apis.data.go.kr/1360000/MidFcstInfoService/getMidLandFcst?serviceKey={}&dataType=JSON&numOfRows=500&pageNo=1&regId=11H10701&tmFc=\".format(key)+today+\"0600\"\n",
    "content = requests.get(urlTemp).content\n",
    "jsonObj = json.loads(content)\n",
    "item = jsonObj['response']['body']['items']['item']"
   ]
  },
  {
   "cell_type": "code",
   "execution_count": 52,
   "metadata": {},
   "outputs": [],
   "source": [
    "POPValueListDG.append(float(item[0]['rnSt3Pm']))\n",
    "POPValueListDG.append(float(item[0]['rnSt4Pm']))\n",
    "POPValueListDG.append(float(item[0]['rnSt5Pm']))\n",
    "POPValueListDG.append(float(item[0]['rnSt6Pm']))"
   ]
  },
  {
   "cell_type": "markdown",
   "metadata": {},
   "source": [
    "### 수원 강수확률 중기예보 (11B20601)"
   ]
  },
  {
   "cell_type": "code",
   "execution_count": 53,
   "metadata": {},
   "outputs": [],
   "source": [
    "# 중기예보\n",
    "# 강수확률\n",
    "key = \"wbqXO%2BaP6L04913iIX%2B9w8SpepZMxZG7rhqD22QOOgobPNhFZYPz0uRM5%2FdkgD3gsxC751E%2FvU1VTeL7rJCSeQ%3D%3D\"\n",
    "urlTemp = \"http://apis.data.go.kr/1360000/MidFcstInfoService/getMidLandFcst?serviceKey={}&dataType=JSON&numOfRows=500&pageNo=1&regId=11B20601&tmFc=\".format(key)+today+\"0600\"\n",
    "content = requests.get(urlTemp).content\n",
    "jsonObj = json.loads(content)\n",
    "item = jsonObj['response']['body']['items']['item']"
   ]
  },
  {
   "cell_type": "code",
   "execution_count": 54,
   "metadata": {},
   "outputs": [],
   "source": [
    "POPValueListSW.append(float(item[0]['rnSt3Pm']))\n",
    "POPValueListSW.append(float(item[0]['rnSt4Pm']))\n",
    "POPValueListSW.append(float(item[0]['rnSt5Pm']))\n",
    "POPValueListSW.append(float(item[0]['rnSt6Pm']))"
   ]
  },
  {
   "cell_type": "markdown",
   "metadata": {},
   "source": [
    "### 중기예보에 습도는 없으므로 0으로 값 채우기"
   ]
  },
  {
   "cell_type": "code",
   "execution_count": 55,
   "metadata": {},
   "outputs": [],
   "source": [
    "for i in range(1,5):\n",
    "    REHValueListSL.append(0)\n",
    "\n",
    "for i in range(1,5):\n",
    "    REHValueListGJ.append(0)\n",
    "    \n",
    "for i in range(1,5):\n",
    "    REHValueListBS.append(0)\n",
    "    \n",
    "for i in range(1,5):\n",
    "    REHValueListCW.append(0)\n",
    "    \n",
    "for i in range(1,5):\n",
    "    REHValueListIC.append(0)\n",
    "    \n",
    "for i in range(1,5):\n",
    "    REHValueListDJ.append(0)\n",
    "    \n",
    "for i in range(1,5):\n",
    "    REHValueListDG.append(0)\n",
    "    \n",
    "for i in range(1,5):\n",
    "    REHValueListSW.append(0)"
   ]
  },
  {
   "cell_type": "code",
   "execution_count": 56,
   "metadata": {},
   "outputs": [
    {
     "name": "stdout",
     "output_type": "stream",
     "text": [
      "[19.0, 15.0, 13.0, 11.5, 13.0, 15.0, 16.5]\n",
      "[35.0, 75.0, 65.0, 0, 0, 0, 0]\n",
      "[20.0, 60.0, 20.0, 0.0, 0.0, 0.0, 0.0]\n",
      "[20.0, 16.0, 15.0, 15.0, 14.5, 15.5, 16.5]\n",
      "[25.0, 85.0, 65.0, 0, 0, 0, 0]\n",
      "[0.0, 60.0, 10.0, 0.0, 0.0, 0.0, 0.0]\n",
      "[16.0, 16.0, 18.0, 15.0, 13.5, 14.5, 14.0]\n",
      "[60.0, 80.0, 65.0, 0, 0, 0, 0]\n",
      "[10.0, 60.0, 10.0, 0.0, 0.0, 0.0, 0.0]\n",
      "[17.0, 16.0, 20.0, 14.5, 14.0, 14.5, 14.5]\n",
      "[45.0, 85.0, 55.0, 0, 0, 0, 0]\n",
      "[10.0, 60.0, 0.0, 0.0, 0.0, 0.0, 0.0]\n",
      "[16.0, 14.0, 10.0, 9.5, 11.0, 13.0, 14.5]\n",
      "[55.0, 85.0, 80.0, 0, 0, 0, 0]\n",
      "[20.0, 60.0, 0.0, 0.0, 0.0, 0.0, 0.0]\n",
      "[23.0, 16.0, 15.0, 14.0, 13.5, 15.0, 16.0]\n",
      "[20.0, 75.0, 60.0, 0, 0, 0, 0]\n",
      "[10.0, 60.0, 0.0, 0.0, 0.0, 0.0, 0.0]\n",
      "[19.0, 15.0, 20.0, 15.5, 14.5, 15.5, 15.0]\n",
      "[40.0, 90.0, 45.0, 0, 0, 0, 0]\n",
      "[20.0, 60.0, 0.0, 0.0, 0.0, 0.0, 0.0]\n",
      "[18.0, 15.0, 12.0, 11.0, 12.0, 14.0, 15.5]\n",
      "[55.0, 85.0, 80.0, 0, 0, 0, 0]\n",
      "[20.0, 60.0, 10.0, 0.0, 0.0, 0.0, 0.0]\n"
     ]
    }
   ],
   "source": [
    "print(T3HValueListSL)\n",
    "print(REHValueListSL)\n",
    "print(POPValueListSL)\n",
    "\n",
    "print(T3HValueListGJ)\n",
    "print(REHValueListGJ)\n",
    "print(POPValueListGJ)\n",
    "\n",
    "print(T3HValueListBS)\n",
    "print(REHValueListBS)\n",
    "print(POPValueListBS)\n",
    "\n",
    "print(T3HValueListCW)\n",
    "print(REHValueListCW)\n",
    "print(POPValueListCW)\n",
    "\n",
    "print(T3HValueListIC)\n",
    "print(REHValueListIC)\n",
    "print(POPValueListIC)\n",
    "\n",
    "print(T3HValueListDJ)\n",
    "print(REHValueListDJ)\n",
    "print(POPValueListDJ)\n",
    "\n",
    "print(T3HValueListDG)\n",
    "print(REHValueListDG)\n",
    "print(POPValueListDG)\n",
    "\n",
    "print(T3HValueListSW)\n",
    "print(REHValueListSW)\n",
    "print(POPValueListSW)"
   ]
  },
  {
   "cell_type": "code",
   "execution_count": 57,
   "metadata": {},
   "outputs": [],
   "source": [
    "# 데이터 사용 쉽게 하기 위해서 이중 배열 생성\n",
    "\n",
    "data_list = [[T3HValueListSL, REHValueListSL, POPValueListSL],\n",
    "             [T3HValueListGJ, REHValueListGJ, POPValueListGJ],\n",
    "             [T3HValueListBS, REHValueListBS, POPValueListBS],\n",
    "             [T3HValueListCW, REHValueListCW, POPValueListCW],\n",
    "             [T3HValueListIC, REHValueListIC, POPValueListIC],\n",
    "             [T3HValueListDJ, REHValueListDJ, POPValueListDJ],\n",
    "             [T3HValueListDG, REHValueListDG, POPValueListDG],\n",
    "             [T3HValueListSW, REHValueListSW, POPValueListSW]]"
   ]
  },
  {
   "cell_type": "markdown",
   "metadata": {},
   "source": [
    "### 데이터 불러와서 모델 학습하기"
   ]
  },
  {
   "cell_type": "code",
   "execution_count": 58,
   "metadata": {},
   "outputs": [],
   "source": [
    "import pandas as pd\n",
    "pd.set_option('display.max_row', 500)\n",
    "pd.set_option('display.max_columns', 100)\n",
    "import numpy as np\n",
    "import matplotlib.pyplot as plt  # 그래프 그리는 라이브러리\n",
    "from sklearn.model_selection import train_test_split\n",
    "from sklearn import metrics  # 평가를 위한 라이브러리\n",
    "from sklearn.neighbors import KNeighborsClassifier\n",
    "from sklearn.model_selection import cross_val_score\n",
    "from sklearn.preprocessing import StandardScaler\n",
    "from sklearn.tree import DecisionTreeClassifier\n",
    "from sklearn.svm import SVC\n",
    "\n",
    "import seaborn as sns  # 시각화 라이브러리"
   ]
  },
  {
   "cell_type": "code",
   "execution_count": 59,
   "metadata": {},
   "outputs": [],
   "source": [
    "# 과거데이터 불러와서 학습하기\n",
    "KIAtrain = pd.read_csv('data/KIAtrain.csv', index_col = 'day_text') # 기아\n",
    "KIAtest = pd.read_csv('data/KIAtest.csv', index_col = 'day_text')\n",
    "\n",
    "LGtrain = pd.read_csv('data/LGtrain.csv', index_col = 'day_text') # 엘지\n",
    "LGtest = pd.read_csv('data/LGtest.csv', index_col = 'day_text')\n",
    "\n",
    "SKtrain = pd.read_csv('data/SKtrain.csv', index_col = 'day_text') # SK\n",
    "SKtest = pd.read_csv('data/SKtest.csv', index_col = 'day_text')\n",
    "\n",
    "DUtrain = pd.read_csv('data/DUtrain.csv', index_col = 'day_text') # 두산\n",
    "DUtest = pd.read_csv('data/DUtest.csv', index_col = 'day_text')\n",
    "\n",
    "KTtrain = pd.read_csv('data/KTtrain.csv', index_col = 'day_text') # KT\n",
    "KTtest = pd.read_csv('data/KTtest.csv', index_col = 'day_text')\n",
    "\n",
    "NCtrain = pd.read_csv('data/NCtrain.csv', index_col = 'day_text') # NC\n",
    "NCtest = pd.read_csv('data/NCtest.csv', index_col = 'day_text')\n",
    "\n",
    "SLtrain = pd.read_csv('data/SLtrain.csv', index_col = 'day_text') # 삼성\n",
    "SLtest = pd.read_csv('data/SLtest.csv', index_col = 'day_text')\n",
    "\n",
    "HEtrain = pd.read_csv('data/HEtrain.csv', index_col = 'day_text') # 한화\n",
    "HEtest = pd.read_csv('data/HEtest.csv', index_col = 'day_text')\n",
    "\n",
    "GItrain = pd.read_csv('data/KIAtrain.csv', index_col = 'day_text') # 롯데\n",
    "GItest = pd.read_csv('data/KIAtest.csv', index_col = 'day_text')\n",
    "\n",
    "KHtrain = pd.read_csv('data/KIAtrain.csv', index_col = 'day_text') # 키움\n",
    "KHtest = pd.read_csv('data/KIAtest.csv', index_col = 'day_text')"
   ]
  },
  {
   "cell_type": "code",
   "execution_count": 60,
   "metadata": {},
   "outputs": [],
   "source": [
    "# 모델링과 상관없는 데이터 드랍\n",
    "KIAtrain.drop('team_text', axis = 1 , inplace = True)\n",
    "KIAtest.drop('team_text', axis = 1 , inplace = True)\n",
    "KIAtrain.drop('location', axis = 1 , inplace = True)\n",
    "KIAtest.drop('location', axis = 1 , inplace = True)\n",
    "\n",
    "LGtrain.drop('team_text', axis = 1 , inplace = True)\n",
    "LGtest.drop('team_text', axis = 1 , inplace = True)\n",
    "LGtrain.drop('location', axis = 1 , inplace = True)\n",
    "LGtest.drop('location', axis = 1 , inplace = True)\n",
    "\n",
    "SKtrain.drop('team_text', axis = 1 , inplace = True)\n",
    "SKtest.drop('team_text', axis = 1 , inplace = True)\n",
    "SKtrain.drop('location', axis = 1 , inplace = True)\n",
    "SKtest.drop('location', axis = 1 , inplace = True)\n",
    "\n",
    "DUtrain.drop('team_text', axis = 1 , inplace = True)\n",
    "DUtest.drop('team_text', axis = 1 , inplace = True)\n",
    "DUtrain.drop('location', axis = 1 , inplace = True)\n",
    "DUtest.drop('location', axis = 1 , inplace = True)\n",
    "\n",
    "KTtrain.drop('team_text', axis = 1 , inplace = True)\n",
    "KTtest.drop('team_text', axis = 1 , inplace = True)\n",
    "KTtrain.drop('location', axis = 1 , inplace = True)\n",
    "KTtest.drop('location', axis = 1 , inplace = True)\n",
    "\n",
    "NCtrain.drop('team_text', axis = 1 , inplace = True)\n",
    "NCtest.drop('team_text', axis = 1 , inplace = True)\n",
    "NCtrain.drop('location', axis = 1 , inplace = True)\n",
    "NCtest.drop('location', axis = 1 , inplace = True)\n",
    "\n",
    "SLtrain.drop('team_text', axis = 1 , inplace = True)\n",
    "SLtest.drop('team_text', axis = 1 , inplace = True)\n",
    "SLtrain.drop('location', axis = 1 , inplace = True)\n",
    "SLtest.drop('location', axis = 1 , inplace = True)\n",
    "\n",
    "HEtrain.drop('team_text', axis = 1 , inplace = True)\n",
    "HEtest.drop('team_text', axis = 1 , inplace = True)\n",
    "HEtrain.drop('location', axis = 1 , inplace = True)\n",
    "HEtest.drop('location', axis = 1 , inplace = True)\n",
    "\n",
    "GItrain.drop('team_text', axis = 1 , inplace = True)\n",
    "GItest.drop('team_text', axis = 1 , inplace = True)\n",
    "GItrain.drop('location', axis = 1 , inplace = True)\n",
    "GItest.drop('location', axis = 1 , inplace = True)\n",
    "\n",
    "KHtrain.drop('team_text', axis = 1 , inplace = True)\n",
    "KHtest.drop('team_text', axis = 1 , inplace = True)\n",
    "KHtrain.drop('location', axis = 1 , inplace = True)\n",
    "KHtest.drop('location', axis = 1 , inplace = True)"
   ]
  },
  {
   "cell_type": "code",
   "execution_count": 61,
   "metadata": {},
   "outputs": [],
   "source": [
    "# 각 팀별 train 과 test 데이터 설정\n",
    "KIA_y_train = KIAtrain['result_text']\n",
    "KIA_X_train = KIAtrain.drop('result_text', axis = 1)\n",
    "KIA_y_test = KIAtest['result_text']\n",
    "KIA_X_test = KIAtest.drop('result_text', axis = 1)\n",
    "\n",
    "LG_y_train = LGtrain['result_text']\n",
    "LG_X_train = LGtrain.drop('result_text', axis = 1)\n",
    "LG_y_test = LGtest['result_text']\n",
    "LG_X_test = LGtest.drop('result_text', axis = 1)\n",
    "\n",
    "SK_y_train = SKtrain['result_text']\n",
    "SK_X_train = SKtrain.drop('result_text', axis = 1)\n",
    "SK_y_test = SKtest['result_text']\n",
    "SK_X_test = SKtest.drop('result_text', axis = 1)\n",
    "\n",
    "DU_y_train = DUtrain['result_text']\n",
    "DU_X_train = DUtrain.drop('result_text', axis = 1)\n",
    "DU_y_test = DUtest['result_text']\n",
    "DU_X_test = DUtest.drop('result_text', axis = 1)\n",
    "\n",
    "KT_y_train = KTtrain['result_text']\n",
    "KT_X_train = KTtrain.drop('result_text', axis = 1)\n",
    "KT_y_test = KTtest['result_text']\n",
    "KT_X_test = KTtest.drop('result_text', axis = 1)\n",
    "\n",
    "NC_y_train = NCtrain['result_text']\n",
    "NC_X_train = NCtrain.drop('result_text', axis = 1)\n",
    "NC_y_test = NCtest['result_text']\n",
    "NC_X_test = NCtest.drop('result_text', axis = 1)\n",
    "\n",
    "SL_y_train = SLtrain['result_text']\n",
    "SL_X_train = SLtrain.drop('result_text', axis = 1)\n",
    "SL_y_test = SLtest['result_text']\n",
    "SL_X_test = SLtest.drop('result_text', axis = 1)\n",
    "\n",
    "HE_y_train = HEtrain['result_text']\n",
    "HE_X_train = HEtrain.drop('result_text', axis = 1)\n",
    "HE_y_test = HEtest['result_text']\n",
    "HE_X_test = HEtest.drop('result_text', axis = 1)\n",
    "\n",
    "GI_y_train = GItrain['result_text']\n",
    "GI_X_train = GItrain.drop('result_text', axis = 1)\n",
    "GI_y_test = GItest['result_text']\n",
    "GI_X_test = GItest.drop('result_text', axis = 1)\n",
    "\n",
    "KH_y_train = KHtrain['result_text']\n",
    "KH_X_train = KHtrain.drop('result_text', axis = 1)\n",
    "KH_y_test = KHtest['result_text']\n",
    "KH_X_test = KHtest.drop('result_text', axis = 1)"
   ]
  },
  {
   "cell_type": "markdown",
   "metadata": {},
   "source": [
    "#### SVM 모델로 학습하기 (팀별로 다른 모델 생성)"
   ]
  },
  {
   "cell_type": "code",
   "execution_count": 62,
   "metadata": {},
   "outputs": [],
   "source": [
    "KIA_svm_model = SVC(kernel='rbf', C=150, gamma=0.001)\n",
    "LG_svm_model = SVC(kernel='rbf', C=150, gamma=0.001)\n",
    "SK_svm_model = SVC(kernel='rbf', C=150, gamma=0.001)\n",
    "DU_svm_model = SVC(kernel='rbf', C=150, gamma=0.001)\n",
    "KT_svm_model = SVC(kernel='rbf', C=100, gamma=0.001)\n",
    "NC_svm_model = SVC(kernel='rbf', C=130, gamma=0.001)\n",
    "SL_svm_model = SVC(kernel='rbf', C=150, gamma=0.001)\n",
    "HE_svm_model = SVC(kernel='rbf', C=150, gamma=0.001)\n",
    "GI_svm_model = SVC(kernel='rbf', C=150, gamma=0.001)\n",
    "KH_svm_model = SVC(kernel='rbf', C=150, gamma=0.001)"
   ]
  },
  {
   "cell_type": "code",
   "execution_count": 63,
   "metadata": {},
   "outputs": [],
   "source": [
    "KIA_y_pred = KIA_svm_model.fit(KIA_X_train, KIA_y_train).predict(KIA_X_test)\n",
    "LG_y_pred = LG_svm_model.fit(LG_X_train, LG_y_train).predict(LG_X_test)\n",
    "SK_y_pred = SK_svm_model.fit(SK_X_train, SK_y_train).predict(SK_X_test)\n",
    "DU_y_pred = DU_svm_model.fit(DU_X_train, DU_y_train).predict(DU_X_test)\n",
    "KT_y_pred = KT_svm_model.fit(KT_X_train, KT_y_train).predict(KT_X_test)\n",
    "NC_y_pred = NC_svm_model.fit(NC_X_train, NC_y_train).predict(NC_X_test)\n",
    "SL_y_pred = SL_svm_model.fit(SL_X_train, SL_y_train).predict(SL_X_test)\n",
    "HE_y_pred = HE_svm_model.fit(HE_X_train, HE_y_train).predict(HE_X_test)\n",
    "GI_y_pred = GI_svm_model.fit(GI_X_train, GI_y_train).predict(GI_X_test)\n",
    "KH_y_pred = KH_svm_model.fit(KH_X_train, KH_y_train).predict(KH_X_test)"
   ]
  },
  {
   "cell_type": "code",
   "execution_count": 64,
   "metadata": {},
   "outputs": [
    {
     "name": "stdout",
     "output_type": "stream",
     "text": [
      "총 승패 갯수 382 에서 틀린 예측 갯수 : 111\n",
      "총 승패 갯수 397 에서 틀린 예측 갯수 : 116\n",
      "총 승패 갯수 391 에서 틀린 예측 갯수 : 122\n",
      "총 승패 갯수 419 에서 틀린 예측 갯수 : 119\n",
      "총 승패 갯수 243 에서 틀린 예측 갯수 : 78\n",
      "총 승패 갯수 267 에서 틀린 예측 갯수 : 87\n",
      "총 승패 갯수 380 에서 틀린 예측 갯수 : 116\n",
      "총 승패 갯수 380 에서 틀린 예측 갯수 : 115\n",
      "총 승패 갯수 382 에서 틀린 예측 갯수 : 111\n",
      "총 승패 갯수 382 에서 틀린 예측 갯수 : 111\n"
     ]
    }
   ],
   "source": [
    "print(\"총 승패 갯수 %d 에서 틀린 예측 갯수 : %d\" % (KIA_X_test.shape[0], (KIA_y_test != KIA_y_pred).sum()))\n",
    "print(\"총 승패 갯수 %d 에서 틀린 예측 갯수 : %d\" % (LG_X_test.shape[0], (LG_y_test != LG_y_pred).sum()))\n",
    "print(\"총 승패 갯수 %d 에서 틀린 예측 갯수 : %d\" % (SK_X_test.shape[0], (SK_y_test != SK_y_pred).sum()))\n",
    "print(\"총 승패 갯수 %d 에서 틀린 예측 갯수 : %d\" % (DU_X_test.shape[0], (DU_y_test != DU_y_pred).sum()))\n",
    "print(\"총 승패 갯수 %d 에서 틀린 예측 갯수 : %d\" % (KT_X_test.shape[0], (KT_y_test != KT_y_pred).sum()))\n",
    "print(\"총 승패 갯수 %d 에서 틀린 예측 갯수 : %d\" % (NC_X_test.shape[0], (NC_y_test != NC_y_pred).sum()))\n",
    "print(\"총 승패 갯수 %d 에서 틀린 예측 갯수 : %d\" % (SL_X_test.shape[0], (SL_y_test != SL_y_pred).sum()))\n",
    "print(\"총 승패 갯수 %d 에서 틀린 예측 갯수 : %d\" % (HE_X_test.shape[0], (HE_y_test != HE_y_pred).sum()))\n",
    "print(\"총 승패 갯수 %d 에서 틀린 예측 갯수 : %d\" % (GI_X_test.shape[0], (GI_y_test != GI_y_pred).sum()))\n",
    "print(\"총 승패 갯수 %d 에서 틀린 예측 갯수 : %d\" % (KH_X_test.shape[0], (KH_y_test != KH_y_pred).sum()))"
   ]
  },
  {
   "cell_type": "code",
   "execution_count": 65,
   "metadata": {},
   "outputs": [
    {
     "name": "stdout",
     "output_type": "stream",
     "text": [
      "예측 정확도: 0.71\n",
      "예측 정확도: 0.71\n",
      "예측 정확도: 0.69\n",
      "예측 정확도: 0.72\n",
      "예측 정확도: 0.68\n",
      "예측 정확도: 0.67\n",
      "예측 정확도: 0.69\n",
      "예측 정확도: 0.70\n",
      "예측 정확도: 0.71\n",
      "예측 정확도: 0.71\n"
     ]
    }
   ],
   "source": [
    "print(\"예측 정확도: {:.2f}\".format(np.mean(KIA_y_pred == KIA_y_test)))\n",
    "print(\"예측 정확도: {:.2f}\".format(np.mean(LG_y_pred == LG_y_test)))\n",
    "print(\"예측 정확도: {:.2f}\".format(np.mean(SK_y_pred == SK_y_test)))\n",
    "print(\"예측 정확도: {:.2f}\".format(np.mean(DU_y_pred == DU_y_test)))\n",
    "print(\"예측 정확도: {:.2f}\".format(np.mean(KT_y_pred == KT_y_test)))\n",
    "print(\"예측 정확도: {:.2f}\".format(np.mean(NC_y_pred == NC_y_test)))\n",
    "print(\"예측 정확도: {:.2f}\".format(np.mean(SL_y_pred == SL_y_test)))\n",
    "print(\"예측 정확도: {:.2f}\".format(np.mean(HE_y_pred == HE_y_test)))\n",
    "print(\"예측 정확도: {:.2f}\".format(np.mean(GI_y_pred == GI_y_test)))\n",
    "print(\"예측 정확도: {:.2f}\".format(np.mean(KH_y_pred == KH_y_test)))"
   ]
  },
  {
   "cell_type": "code",
   "execution_count": 66,
   "metadata": {},
   "outputs": [],
   "source": [
    "# 각 팀별 기온 구간별 성적 평균값 넣어주는 이중 배열 생성 (기온 구간 4개)\n",
    "# 팀 이름 순서 (KIA, LG, SK, DU, KT, NC, SL, HE, GI, KH)\n",
    "# 5도 ~ 15도\n",
    "temp_interval_1 = [[9.77,0.88,0.85,6.94,0.85,0.74],[9.36,0.81,0.76,6.73,0.93,0.73],[9.08,1.19,0.70,7.3,0.64,0.71],[9.65,0.67,0.96,6.80,0.85,0.72],[8.04,0.59,0.61,7.07,1.01,0.75],[8.95,0.9,0.98,0.71,7.54,0.67],[8.93,0.6,0.93,6.75,0.73,0.66],[8.25,0.67,0.55,7.5,1.04,0.89],[9.18,0.89,0.69,7.85,0.93,0.84,0.46],[9.28,0.96,0.68,7.64,0.69,0.82]]\n",
    "# 15도 ~ 25도\n",
    "temp_interval_2 = [[9.21,0.79,0.75,6.66,0.75,0.69],[9.34,0.65,0.75,6.86,0.75,0.66],[9.23,1.11,0.79,7.22,0.68,0.72],[10.05,0.97,0.73,6.17,0.85,0.63],[9.35,0.89,0.70,7.22,0.78,0.77],[9.38,0.96,0.86,0.77,7.10,0.66],[9.99,0.99,0.88,6.51,0.78,0.58],[8.98,0.75,0.61,7.41,0.79,0.73],[9.72,0.93,0.67,9.18,0.81,0.72,0.49],[9.57,1.01,0.8,72,0.73,0.71]]\n",
    "# 25도 ~ 35도\n",
    "temp_interval_3 = [[9.57,0.97,0.77,6.52,0.82,0.66],[9.75,0.74,0.78,6.51,0.76,0.70],[9.55,1.14,0.75,6.90,0.73,0.66],[10.01,0.93,0.76,5.65,0.83,0.52],[9.77,1.00,0.63,6.86,0.81,0.78],[9.84,1.05,0.84,0.84,6.76,0.68],[9.79,0.98,0.83,6.31,0.70,0.63],[9.59,0.84,0.61,0.98,0.87,0.66],[9.35,0.88,0.73,7.45,0.80,0.65,0.45],[10.03,1.11,0.89,6.97,0.64,0.80]]\n",
    "# 35도 ~ 45도\n",
    "temp_interval_4 = [[10.75,0.5,0.5,4.25,0.75,0.75],[12.3,12,0.9,6.5,1,0.7],[8.25,1.5,0.75,6.75,0,0.75],[10.75,0.75,0.37,6,0.5,0.25],[7,1.25,0.5,8.25,0.75,1.25],[13,3.33,1,1.33,7.33,0.33],[10.57,2,0.64,5.78,0.64,0.5],[10,0.8,0.4,7,0.8,0.4],[0,0,0,0,0,0],[11.6,1,0.8,5.6,0.8,0.8]]\n",
    "\n",
    "temp_total = [temp_interval_1,temp_interval_2,temp_interval_3,temp_interval_4]"
   ]
  },
  {
   "cell_type": "code",
   "execution_count": 67,
   "metadata": {},
   "outputs": [],
   "source": [
    "# # 데이터 입력 받기 (여기서는 테스트를 위해서 임의의 데이터를 사용)\n",
    "\n",
    "\n",
    "# date = str(date).replace('-', '')[:8] # 받아온 날짜 형식 고치기\n",
    "# date = int(date) # 날짜 int 형으로 형변환\n",
    "\n",
    "# # 몇일 뒤 날짜인지 구하기\n",
    "# date = date - int(today)\n",
    "\n",
    "# # 지역별로 날씨 값 정해주기\n",
    "# if location == \"서울\":\n",
    "#     temp = data_list[0][0][date]\n",
    "#     humidity = data_list[0][1][date]\n",
    "#     rainprob = data_list[0][2][date] \n",
    "# elif location == \"광주\":\n",
    "#     temp = data_list[1][0][date]\n",
    "#     humidity = data_list[1][1][date]\n",
    "#     rainprob = data_list[1][2][date] \n",
    "# elif location == \"부산\":\n",
    "#     temp = data_list[2][0][date]\n",
    "#     humidity = data_list[2][1][date]\n",
    "#     rainprob = data_list[2][2][date] \n",
    "# elif location == \"창원\":\n",
    "#     temp = data_list[3][0][date]\n",
    "#     humidity = data_list[3][1][date]\n",
    "#     rainprob = data_list[3][2][date] \n",
    "# elif location == \"인천\":\n",
    "#     temp = data_list[4][0][date]\n",
    "#     humidity = data_list[4][1][date]\n",
    "#     rainprob = data_list[4][2][date] \n",
    "# elif location == \"대전\":\n",
    "#     temp = data_list[5][0][date]\n",
    "#     humidity = data_list[5][1][date]\n",
    "#     rainprob = data_list[5][2][date] \n",
    "# elif location == \"대구\":\n",
    "#     temp = data_list[6][0][date]\n",
    "#     humidity = data_list[6][1][date]\n",
    "#     rainprob = data_list[6][2][date] \n",
    "# elif location == \"수원\":\n",
    "#     temp = data_list[7][0][date]\n",
    "#     humidity = data_list[7][1][date]\n",
    "#     rainprob = data_list[7][2][date] \n",
    "\n",
    "        \n",
    "# # 받아온 기온 보고 구간별 기온값 중에 어떤걸 쓸지 결정\n",
    "# if temp <= 15:\n",
    "#     tempint = 0\n",
    "# elif temp > 15 and temp <= 25:\n",
    "#     tempint = 1\n",
    "# elif temp > 25 and temp <= 35:\n",
    "#     tempint = 2\n",
    "# elif temp > 35:\n",
    "#     tempint = 3\n",
    "\n",
    "# # 팀별로 기온에 따른 성적 평균값 넣어주기\n",
    "# if team_text == \"KIA\":\n",
    "#     H_text = temp_total[tempint][0][0]\n",
    "#     HR_text = temp_total[tempint][0][1]\n",
    "#     S_text = temp_total[tempint][0][2]\n",
    "#     ST_text = temp_total[tempint][0][3]\n",
    "#     DU_text = temp_total[tempint][0][4]\n",
    "#     ER_text = temp_total[tempint][0][5]\n",
    "# elif team_text == \"LG\":\n",
    "#     H_text = temp_total[tempint][1][0]\n",
    "#     HR_text = temp_total[tempint][1][1]\n",
    "#     S_text = temp_total[tempint][1][2]\n",
    "#     ST_text = temp_total[tempint][1][3]\n",
    "#     DU_text = temp_total[tempint][1][4]\n",
    "#     ER_text = temp_total[tempint][1][5]\n",
    "# elif team_text == \"SK\":\n",
    "#     H_text = temp_total[tempint][2][0]\n",
    "#     HR_text = temp_total[tempint][2][1]\n",
    "#     S_text = temp_total[tempint][2][2]\n",
    "#     ST_text = temp_total[tempint][2][3]\n",
    "#     DU_text = temp_total[tempint][2][4]\n",
    "#     ER_text = temp_total[tempint][2][5]\n",
    "# elif team_text == \"DU\":\n",
    "#     H_text = temp_total[tempint][3][0]\n",
    "#     HR_text = temp_total[tempint][3][1]\n",
    "#     S_text = temp_total[tempint][3][2]\n",
    "#     ST_text = temp_total[tempint][3][3]\n",
    "#     DU_text = temp_total[tempint][3][4]\n",
    "#     ER_text = temp_total[tempint][3][5]\n",
    "# elif team_text == \"KT\":\n",
    "#     H_text = temp_total[tempint][4][0]\n",
    "#     HR_text = temp_total[tempint][4][1]\n",
    "#     S_text = temp_total[tempint][4][2]\n",
    "#     ST_text = temp_total[tempint][4][3]\n",
    "#     DU_text = temp_total[tempint][4][4]\n",
    "#     ER_text = temp_total[tempint][4][5]\n",
    "# elif team_text == \"NC\":\n",
    "#     H_text = temp_total[tempint][5][0]\n",
    "#     HR_text = temp_total[tempint][5][1]\n",
    "#     S_text = temp_total[tempint][5][2]\n",
    "#     ST_text = temp_total[tempint][5][3]\n",
    "#     DU_text = temp_total[tempint][5][4]\n",
    "#     ER_text = temp_total[tempint][5][5]\n",
    "# elif team_text == \"SL\":\n",
    "#     H_text = temp_total[tempint][6][0]\n",
    "#     HR_text = temp_total[tempint][6][1]\n",
    "#     S_text = temp_total[tempint][6][2]\n",
    "#     ST_text = temp_total[tempint][6][3]\n",
    "#     DU_text = temp_total[tempint][6][4]\n",
    "#     ER_text = temp_total[tempint][6][5]\n",
    "# elif team_text == \"HE\":\n",
    "#     H_text = temp_total[tempint][7][0]\n",
    "#     HR_text = temp_total[tempint][7][1]\n",
    "#     S_text = temp_total[tempint][7][2]\n",
    "#     ST_text = temp_total[tempint][7][3]\n",
    "#     DU_text = temp_total[tempint][7][4]\n",
    "#     ER_text = temp_total[tempint][7][5]\n",
    "# elif team_text == \"GI\":\n",
    "#     H_text = temp_total[tempint][8][0]\n",
    "#     HR_text = temp_total[tempint][8][1]\n",
    "#     S_text = temp_total[tempint][8][2]\n",
    "#     ST_text = temp_total[tempint][8][3]\n",
    "#     DU_text = temp_total[tempint][8][4]\n",
    "#     ER_text = temp_total[tempint][8][5]\n",
    "# elif team_text == \"KH\":\n",
    "#     H_text = temp_total[tempint][9][0]\n",
    "#     HR_text = temp_total[tempint][9][1]\n",
    "#     S_text = temp_total[tempint][9][2]\n",
    "#     ST_text = temp_total[tempint][9][3]\n",
    "#     DU_text = temp_total[tempint][9][4]\n",
    "#     ER_text = temp_total[tempint][9][5]\n",
    "\n",
    "# # 입력받은 데이터로 데이터 프레임 생성\n",
    "# datatest = pd.DataFrame(\n",
    "#     data = {'H_text': [H_text], 'HR_text' : [HR_text], 'S_text' : [S_text], 'ST_text' : [ST_text], 'DU_text' : [DU_text],\n",
    "#            'ER_text' : [ER_text], 'temp' : [temp], 'rain' : [rainprob], 'humidity' : [humidity]},\n",
    "#     columns = ['H_text', 'HR_text', 'S_text', 'ST_text' , 'DU_text', 'ER_text', 'temp', 'rain', 'humidity'],\n",
    "#     index = ['day_text'])"
   ]
  },
  {
   "cell_type": "code",
   "execution_count": 68,
   "metadata": {},
   "outputs": [],
   "source": [
    "# # 입력받은 team_text 에 따라 다른 모델을 사용\n",
    "# if team_text == \"KIA\":\n",
    "#     svm_model = KIA_svm_model\n",
    "#     y_pred = KIA_svm_model.fit(KIA_X_train, KIA_y_train).predict(datatest)\n",
    "# elif team_text == \"LG\":\n",
    "#     svm_model = LG_svm_model\n",
    "#     y_pred = LG_svm_model.fit(LG_X_train, LG_y_train).predict(datatest)\n",
    "# elif team_text == \"SK\":\n",
    "#     svm_model = SK_svm_model\n",
    "#     y_pred = SK_svm_model.fit(SK_X_train, SK_y_train).predict(datatest)\n",
    "# elif team_text == \"DU\":\n",
    "#     svm_model = DU_svm_model\n",
    "#     y_pred = DU_svm_model.fit(DU_X_train, DU_y_train).predict(datatest)\n",
    "# elif team_text == \"KT\":\n",
    "#     svm_model = KT_svm_model\n",
    "#     y_pred = KT_svm_model.fit(KT_X_train, KT_y_train).predict(datatest)\n",
    "# elif team_text == \"NC\":\n",
    "#     svm_model = NC_svm_model\n",
    "#     y_pred = NC_svm_model.fit(NC_X_train, NC_y_train).predict(datatest)\n",
    "# elif team_text == \"SL\":\n",
    "#     svm_model = SL_svm_model\n",
    "#     y_pred = SL_svm_model.fit(SL_X_train, SL_y_train).predict(datatest)\n",
    "# elif team_text == \"HE\":\n",
    "#     svm_model = HE_svm_model\n",
    "#     y_pred = HE_svm_model.fit(HE_X_train, HE_y_train).predict(datatest)\n",
    "# elif team_text == \"GI\":\n",
    "#     svm_model = GI_svm_model\n",
    "#     y_pred = GI_svm_model.fit(GI_X_train, GI_y_train).predict(datatest)\n",
    "# elif team_text == \"KH\":\n",
    "#     svm_model = KH_svm_model\n",
    "#     y_pred = KH_svm_model.fit(KH_X_train, KH_y_train).predict(datatest)"
   ]
  },
  {
   "cell_type": "markdown",
   "metadata": {},
   "source": [
    "### 플라스크 서버 연동하기"
   ]
  },
  {
   "cell_type": "code",
   "execution_count": 69,
   "metadata": {},
   "outputs": [
    {
     "name": "stdout",
     "output_type": "stream",
     "text": [
      "Requirement already satisfied: flask in c:\\users\\smhrd\\anaconda3\\lib\\site-packages (1.1.2)\n",
      "Requirement already satisfied: itsdangerous>=0.24 in c:\\users\\smhrd\\anaconda3\\lib\\site-packages (from flask) (1.1.0)\n",
      "Requirement already satisfied: click>=5.1 in c:\\users\\smhrd\\anaconda3\\lib\\site-packages (from flask) (7.1.2)\n",
      "Requirement already satisfied: Werkzeug>=0.15 in c:\\users\\smhrd\\anaconda3\\lib\\site-packages (from flask) (1.0.1)\n",
      "Requirement already satisfied: Jinja2>=2.10.1 in c:\\users\\smhrd\\anaconda3\\lib\\site-packages (from flask) (2.11.2)\n",
      "Requirement already satisfied: MarkupSafe>=0.23 in c:\\users\\smhrd\\anaconda3\\lib\\site-packages (from Jinja2>=2.10.1->flask) (1.1.1)\n",
      "Requirement already satisfied: flask-cors in c:\\users\\smhrd\\anaconda3\\lib\\site-packages (3.0.10)\n",
      "Requirement already satisfied: Six in c:\\users\\smhrd\\anaconda3\\lib\\site-packages (from flask-cors) (1.15.0)\n",
      "Requirement already satisfied: Flask>=0.9 in c:\\users\\smhrd\\anaconda3\\lib\\site-packages (from flask-cors) (1.1.2)\n",
      "Requirement already satisfied: click>=5.1 in c:\\users\\smhrd\\anaconda3\\lib\\site-packages (from Flask>=0.9->flask-cors) (7.1.2)\n",
      "Requirement already satisfied: itsdangerous>=0.24 in c:\\users\\smhrd\\anaconda3\\lib\\site-packages (from Flask>=0.9->flask-cors) (1.1.0)\n",
      "Requirement already satisfied: Werkzeug>=0.15 in c:\\users\\smhrd\\anaconda3\\lib\\site-packages (from Flask>=0.9->flask-cors) (1.0.1)\n",
      "Requirement already satisfied: Jinja2>=2.10.1 in c:\\users\\smhrd\\anaconda3\\lib\\site-packages (from Flask>=0.9->flask-cors) (2.11.2)\n",
      "Requirement already satisfied: MarkupSafe>=0.23 in c:\\users\\smhrd\\anaconda3\\lib\\site-packages (from Jinja2>=2.10.1->Flask>=0.9->flask-cors) (1.1.1)\n"
     ]
    }
   ],
   "source": [
    "!pip install flask\n",
    "!pip install flask-cors"
   ]
  },
  {
   "cell_type": "code",
   "execution_count": 70,
   "metadata": {},
   "outputs": [],
   "source": [
    "import pickle # 데이터 저장/로딩을 위한 모듈\n",
    "import pandas as pd\n",
    "import numpy as np"
   ]
  },
  {
   "cell_type": "code",
   "execution_count": 71,
   "metadata": {},
   "outputs": [],
   "source": [
    "from flask import Flask, redirect, request, Response \n",
    "from flask_cors import CORS\n"
   ]
  },
  {
   "cell_type": "code",
   "execution_count": null,
   "metadata": {},
   "outputs": [
    {
     "name": "stdout",
     "output_type": "stream",
     "text": [
      " * Serving Flask app \"__main__\" (lazy loading)\n",
      " * Environment: production\n",
      "   WARNING: This is a development server. Do not use it in a production deployment.\n",
      "   Use a production WSGI server instead.\n",
      " * Debug mode: off\n"
     ]
    },
    {
     "name": "stderr",
     "output_type": "stream",
     "text": [
      " * Running on http://127.0.0.1:9005/ (Press CTRL+C to quit)\n"
     ]
    }
   ],
   "source": [
    "app = Flask(__name__) # 내장변수 name을 이용해 서버를 구동시키는 객체 생성\n",
    "CORS(app)\n",
    "\n",
    "@app.route(\"/\")\n",
    "@app.route(\"/home\", methods=[\"GET\",'POST'])\n",
    "def predict_result() :    \n",
    "    \n",
    "    print(request.form['select_day'])\n",
    "    print(request.form['location'])\n",
    "    print(request.form['home_team'])\n",
    "    # 데이터 입력 받기 (여기서는 테스트를 위해서 임의의 데이터를 사용)\n",
    "    \n",
    "    team_text = request.form['home_team']  # 웹페이지에서 받아온 팀 이름 입력 받기\n",
    "    location = request.form['location']  # 웹페이지에서 받아온 지역 넣기\n",
    "    date = request.form['select_day']  # 웹페이지에서 받아온 날짜 넣기\n",
    "    date = str(date).replace('-', '')[:8] # 받아온 날짜 형식 고치기\n",
    "    date = int(date) # 날짜 int 형으로 형변환\n",
    "\n",
    "    # 몇일 뒤 날짜인지 구하기\n",
    "    date = date - int(today)\n",
    "\n",
    "    # 지역별로 날씨 값 정해주기\n",
    "    if location == \"서울\":\n",
    "        temp = data_list[0][0][date]\n",
    "        humidity = data_list[0][1][date]\n",
    "        rainprob = data_list[0][2][date] \n",
    "    elif location == \"광주\":\n",
    "        temp = data_list[1][0][date]\n",
    "        humidity = data_list[1][1][date]\n",
    "        rainprob = data_list[1][2][date] \n",
    "    elif location == \"부산\":\n",
    "        temp = data_list[2][0][date]\n",
    "        humidity = data_list[2][1][date]\n",
    "        rainprob = data_list[2][2][date] \n",
    "    elif location == \"창원\":\n",
    "        temp = data_list[3][0][date]\n",
    "        humidity = data_list[3][1][date]\n",
    "        rainprob = data_list[3][2][date] \n",
    "    elif location == \"인천\":\n",
    "        temp = data_list[4][0][date]\n",
    "        humidity = data_list[4][1][date]\n",
    "        rainprob = data_list[4][2][date] \n",
    "    elif location == \"대전\":\n",
    "        temp = data_list[5][0][date]\n",
    "        humidity = data_list[5][1][date]\n",
    "        rainprob = data_list[5][2][date] \n",
    "    elif location == \"대구\":\n",
    "        temp = data_list[6][0][date]\n",
    "        humidity = data_list[6][1][date]\n",
    "        rainprob = data_list[6][2][date] \n",
    "    elif location == \"수원\":\n",
    "        temp = data_list[7][0][date]\n",
    "        humidity = data_list[7][1][date]\n",
    "        rainprob = data_list[7][2][date] \n",
    "\n",
    "\n",
    "    # 받아온 기온 보고 구간별 기온값 중에 어떤걸 쓸지 결정\n",
    "    if temp <= 15:\n",
    "        tempint = 0\n",
    "    elif temp > 15 and temp <= 25:\n",
    "        tempint = 1\n",
    "    elif temp > 25 and temp <= 35:\n",
    "        tempint = 2\n",
    "    elif temp > 35:\n",
    "        tempint = 3\n",
    "\n",
    "    # 팀별로 기온에 따른 성적 평균값 넣어주기\n",
    "    if team_text == \"KIA\":\n",
    "        H_text = temp_total[tempint][0][0]\n",
    "        HR_text = temp_total[tempint][0][1]\n",
    "        S_text = temp_total[tempint][0][2]\n",
    "        ST_text = temp_total[tempint][0][3]\n",
    "        DU_text = temp_total[tempint][0][4]\n",
    "        ER_text = temp_total[tempint][0][5]\n",
    "    elif team_text == \"LG\":\n",
    "        H_text = temp_total[tempint][1][0]\n",
    "        HR_text = temp_total[tempint][1][1]\n",
    "        S_text = temp_total[tempint][1][2]\n",
    "        ST_text = temp_total[tempint][1][3]\n",
    "        DU_text = temp_total[tempint][1][4]\n",
    "        ER_text = temp_total[tempint][1][5]\n",
    "    elif team_text == \"SK\":\n",
    "        H_text = temp_total[tempint][2][0]\n",
    "        HR_text = temp_total[tempint][2][1]\n",
    "        S_text = temp_total[tempint][2][2]\n",
    "        ST_text = temp_total[tempint][2][3]\n",
    "        DU_text = temp_total[tempint][2][4]\n",
    "        ER_text = temp_total[tempint][2][5]\n",
    "    elif team_text == \"DU\":\n",
    "        H_text = temp_total[tempint][3][0]\n",
    "        HR_text = temp_total[tempint][3][1]\n",
    "        S_text = temp_total[tempint][3][2]\n",
    "        ST_text = temp_total[tempint][3][3]\n",
    "        DU_text = temp_total[tempint][3][4]\n",
    "        ER_text = temp_total[tempint][3][5]\n",
    "    elif team_text == \"KT\":\n",
    "        H_text = temp_total[tempint][4][0]\n",
    "        HR_text = temp_total[tempint][4][1]\n",
    "        S_text = temp_total[tempint][4][2]\n",
    "        ST_text = temp_total[tempint][4][3]\n",
    "        DU_text = temp_total[tempint][4][4]\n",
    "        ER_text = temp_total[tempint][4][5]\n",
    "    elif team_text == \"NC\":\n",
    "        H_text = temp_total[tempint][5][0]\n",
    "        HR_text = temp_total[tempint][5][1]\n",
    "        S_text = temp_total[tempint][5][2]\n",
    "        ST_text = temp_total[tempint][5][3]\n",
    "        DU_text = temp_total[tempint][5][4]\n",
    "        ER_text = temp_total[tempint][5][5]\n",
    "    elif team_text == \"SL\":\n",
    "        H_text = temp_total[tempint][6][0]\n",
    "        HR_text = temp_total[tempint][6][1]\n",
    "        S_text = temp_total[tempint][6][2]\n",
    "        ST_text = temp_total[tempint][6][3]\n",
    "        DU_text = temp_total[tempint][6][4]\n",
    "        ER_text = temp_total[tempint][6][5]\n",
    "    elif team_text == \"HE\":\n",
    "        H_text = temp_total[tempint][7][0]\n",
    "        HR_text = temp_total[tempint][7][1]\n",
    "        S_text = temp_total[tempint][7][2]\n",
    "        ST_text = temp_total[tempint][7][3]\n",
    "        DU_text = temp_total[tempint][7][4]\n",
    "        ER_text = temp_total[tempint][7][5]\n",
    "    elif team_text == \"GI\":\n",
    "        H_text = temp_total[tempint][8][0]\n",
    "        HR_text = temp_total[tempint][8][1]\n",
    "        S_text = temp_total[tempint][8][2]\n",
    "        ST_text = temp_total[tempint][8][3]\n",
    "        DU_text = temp_total[tempint][8][4]\n",
    "        ER_text = temp_total[tempint][8][5]\n",
    "    elif team_text == \"KH\":\n",
    "        H_text = temp_total[tempint][9][0]\n",
    "        HR_text = temp_total[tempint][9][1]\n",
    "        S_text = temp_total[tempint][9][2]\n",
    "        ST_text = temp_total[tempint][9][3]\n",
    "        DU_text = temp_total[tempint][9][4]\n",
    "        ER_text = temp_total[tempint][9][5]\n",
    "\n",
    "    # 입력받은 데이터로 데이터 프레임 생성\n",
    "    datatest = pd.DataFrame(\n",
    "        data = {'H_text': [H_text], 'HR_text' : [HR_text], 'S_text' : [S_text], 'ST_text' : [ST_text], 'DU_text' : [DU_text],\n",
    "               'ER_text' : [ER_text], 'temp' : [temp], 'rainprob' : [rainprob], 'humidity' : [humidity]},\n",
    "        columns = ['H_text', 'HR_text', 'S_text', 'ST_text' , 'DU_text', 'ER_text', 'temp', 'rainprob', 'humidity'],\n",
    "        index = ['day_text'])\n",
    "    \n",
    "    # 입력받은 team_text 에 따라 다른 모델을 사용\n",
    "    if team_text == \"KIA\":\n",
    "        svm_model = KIA_svm_model\n",
    "        y_pred = KIA_svm_model.fit(KIA_X_train, KIA_y_train).predict(datatest)\n",
    "    elif team_text == \"LG\":\n",
    "        svm_model = LG_svm_model\n",
    "        y_pred = LG_svm_model.fit(LG_X_train, LG_y_train).predict(datatest)\n",
    "    elif team_text == \"SK\":\n",
    "        svm_model = SK_svm_model\n",
    "        y_pred = SK_svm_model.fit(SK_X_train, SK_y_train).predict(datatest)\n",
    "    elif team_text == \"DU\":\n",
    "        svm_model = DU_svm_model\n",
    "        y_pred = DU_svm_model.fit(DU_X_train, DU_y_train).predict(datatest)\n",
    "    elif team_text == \"KT\":\n",
    "        svm_model = KT_svm_model\n",
    "        y_pred = KT_svm_model.fit(KT_X_train, KT_y_train).predict(datatest)\n",
    "    elif team_text == \"NC\":\n",
    "        svm_model = NC_svm_model\n",
    "        y_pred = NC_svm_model.fit(NC_X_train, NC_y_train).predict(datatest)\n",
    "    elif team_text == \"SL\":\n",
    "        svm_model = SL_svm_model\n",
    "        y_pred = SL_svm_model.fit(SL_X_train, SL_y_train).predict(datatest)\n",
    "    elif team_text == \"HE\":\n",
    "        svm_model = HE_svm_model\n",
    "        y_pred = HE_svm_model.fit(HE_X_train, HE_y_train).predict(datatest)\n",
    "    elif team_text == \"GI\":\n",
    "        svm_model = GI_svm_model\n",
    "        y_pred = GI_svm_model.fit(GI_X_train, GI_y_train).predict(datatest)\n",
    "    elif team_text == \"KH\":\n",
    "        svm_model = KH_svm_model\n",
    "        y_pred = KH_svm_model.fit(KH_X_train, KH_y_train).predict(datatest)\n",
    "\n",
    "    return'{ \"key1\" : '+ str(y_pred[0]) + '}' \n",
    "\n",
    "if __name__ == \"__main__\" : # .py 파일에서 main함수 역할\n",
    "    app.run(host=\"127.0.0.1\", port=\"9005\")"
   ]
  },
  {
   "cell_type": "code",
   "execution_count": null,
   "metadata": {},
   "outputs": [],
   "source": [
    "team_text"
   ]
  },
  {
   "cell_type": "code",
   "execution_count": null,
   "metadata": {},
   "outputs": [],
   "source": [
    "location"
   ]
  },
  {
   "cell_type": "code",
   "execution_count": null,
   "metadata": {},
   "outputs": [],
   "source": [
    "date"
   ]
  },
  {
   "cell_type": "code",
   "execution_count": null,
   "metadata": {},
   "outputs": [],
   "source": [
    "datatest"
   ]
  },
  {
   "cell_type": "code",
   "execution_count": null,
   "metadata": {},
   "outputs": [],
   "source": []
  }
 ],
 "metadata": {
  "kernelspec": {
   "display_name": "Python 3",
   "language": "python",
   "name": "python3"
  },
  "language_info": {
   "codemirror_mode": {
    "name": "ipython",
    "version": 3
   },
   "file_extension": ".py",
   "mimetype": "text/x-python",
   "name": "python",
   "nbconvert_exporter": "python",
   "pygments_lexer": "ipython3",
   "version": "3.8.5"
  }
 },
 "nbformat": 4,
 "nbformat_minor": 4
}
