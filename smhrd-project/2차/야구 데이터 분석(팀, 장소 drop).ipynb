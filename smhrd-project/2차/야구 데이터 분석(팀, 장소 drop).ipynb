{
 "cells": [
  {
   "cell_type": "code",
   "execution_count": 57,
   "metadata": {},
   "outputs": [],
   "source": [
    "import pandas as pd\n",
    "pd.set_option('display.max_row', 500)\n",
    "pd.set_option('display.max_columns', 100)\n",
    "import numpy as np\n",
    "import matplotlib.pyplot as plt  # 그래프 그리는 라이브러리\n",
    "from sklearn.model_selection import train_test_split\n",
    "from sklearn import metrics  # 평가를 위한 라이브러리\n",
    "from sklearn.neighbors import KNeighborsClassifier\n",
    "from sklearn.model_selection import cross_val_score\n",
    "from sklearn.preprocessing import StandardScaler\n",
    "from sklearn.tree import DecisionTreeClassifier\n",
    "from sklearn.svm import SVC\n",
    "\n",
    "import seaborn as sns  # 시각화 라이브러리"
   ]
  },
  {
   "cell_type": "code",
   "execution_count": 93,
   "metadata": {},
   "outputs": [],
   "source": [
    "train = pd.read_csv('data/KTtrain.csv', index_col = 'day_text')\n",
    "test = pd.read_csv('data/KTtest.csv', index_col = 'day_text')"
   ]
  },
  {
   "cell_type": "code",
   "execution_count": 94,
   "metadata": {},
   "outputs": [
    {
     "name": "stdout",
     "output_type": "stream",
     "text": [
      "<class 'pandas.core.frame.DataFrame'>\n",
      "Index: 450 entries, 4.1수 to 5.1화\n",
      "Data columns (total 12 columns):\n",
      " #   Column       Non-Null Count  Dtype  \n",
      "---  ------       --------------  -----  \n",
      " 0   team_text    450 non-null    object \n",
      " 1   H_text       450 non-null    int64  \n",
      " 2   HR_text      450 non-null    int64  \n",
      " 3   S_text       450 non-null    int64  \n",
      " 4   ST_text      450 non-null    int64  \n",
      " 5   DU_text      450 non-null    int64  \n",
      " 6   ER_text      450 non-null    int64  \n",
      " 7   result_text  450 non-null    int64  \n",
      " 8   location     450 non-null    object \n",
      " 9   temp         450 non-null    float64\n",
      " 10  rain         450 non-null    float64\n",
      " 11  humidity     450 non-null    int64  \n",
      "dtypes: float64(2), int64(8), object(2)\n",
      "memory usage: 45.7+ KB\n"
     ]
    }
   ],
   "source": [
    "train.info()"
   ]
  },
  {
   "cell_type": "code",
   "execution_count": 95,
   "metadata": {},
   "outputs": [
    {
     "name": "stdout",
     "output_type": "stream",
     "text": [
      "<class 'pandas.core.frame.DataFrame'>\n",
      "Index: 243 entries, 5.3목 to 9.29일\n",
      "Data columns (total 12 columns):\n",
      " #   Column       Non-Null Count  Dtype  \n",
      "---  ------       --------------  -----  \n",
      " 0   team_text    243 non-null    object \n",
      " 1   H_text       243 non-null    int64  \n",
      " 2   HR_text      243 non-null    int64  \n",
      " 3   S_text       243 non-null    int64  \n",
      " 4   ST_text      243 non-null    int64  \n",
      " 5   DU_text      243 non-null    int64  \n",
      " 6   ER_text      243 non-null    int64  \n",
      " 7   result_text  243 non-null    int64  \n",
      " 8   location     243 non-null    object \n",
      " 9   temp         243 non-null    float64\n",
      " 10  rain         243 non-null    float64\n",
      " 11  humidity     243 non-null    int64  \n",
      "dtypes: float64(2), int64(8), object(2)\n",
      "memory usage: 24.7+ KB\n"
     ]
    }
   ],
   "source": [
    "test.info()"
   ]
  },
  {
   "cell_type": "code",
   "execution_count": 96,
   "metadata": {},
   "outputs": [
    {
     "data": {
      "text/html": [
       "<div>\n",
       "<style scoped>\n",
       "    .dataframe tbody tr th:only-of-type {\n",
       "        vertical-align: middle;\n",
       "    }\n",
       "\n",
       "    .dataframe tbody tr th {\n",
       "        vertical-align: top;\n",
       "    }\n",
       "\n",
       "    .dataframe thead th {\n",
       "        text-align: right;\n",
       "    }\n",
       "</style>\n",
       "<table border=\"1\" class=\"dataframe\">\n",
       "  <thead>\n",
       "    <tr style=\"text-align: right;\">\n",
       "      <th></th>\n",
       "      <th>H_text</th>\n",
       "      <th>HR_text</th>\n",
       "      <th>S_text</th>\n",
       "      <th>ST_text</th>\n",
       "      <th>DU_text</th>\n",
       "      <th>ER_text</th>\n",
       "      <th>result_text</th>\n",
       "      <th>temp</th>\n",
       "      <th>rain</th>\n",
       "      <th>humidity</th>\n",
       "    </tr>\n",
       "  </thead>\n",
       "  <tbody>\n",
       "    <tr>\n",
       "      <th>H_text</th>\n",
       "      <td>1.000000</td>\n",
       "      <td>0.413537</td>\n",
       "      <td>0.205983</td>\n",
       "      <td>-0.058204</td>\n",
       "      <td>0.077458</td>\n",
       "      <td>0.016948</td>\n",
       "      <td>0.441667</td>\n",
       "      <td>0.098507</td>\n",
       "      <td>0.012369</td>\n",
       "      <td>0.040848</td>\n",
       "    </tr>\n",
       "    <tr>\n",
       "      <th>HR_text</th>\n",
       "      <td>0.413537</td>\n",
       "      <td>1.000000</td>\n",
       "      <td>0.004144</td>\n",
       "      <td>0.014554</td>\n",
       "      <td>-0.089664</td>\n",
       "      <td>-0.029668</td>\n",
       "      <td>0.323892</td>\n",
       "      <td>0.045048</td>\n",
       "      <td>0.044061</td>\n",
       "      <td>0.105578</td>\n",
       "    </tr>\n",
       "    <tr>\n",
       "      <th>S_text</th>\n",
       "      <td>0.205983</td>\n",
       "      <td>0.004144</td>\n",
       "      <td>1.000000</td>\n",
       "      <td>0.108077</td>\n",
       "      <td>-0.105318</td>\n",
       "      <td>0.015976</td>\n",
       "      <td>0.157284</td>\n",
       "      <td>-0.053813</td>\n",
       "      <td>-0.038473</td>\n",
       "      <td>-0.011773</td>\n",
       "    </tr>\n",
       "    <tr>\n",
       "      <th>ST_text</th>\n",
       "      <td>-0.058204</td>\n",
       "      <td>0.014554</td>\n",
       "      <td>0.108077</td>\n",
       "      <td>1.000000</td>\n",
       "      <td>-0.232241</td>\n",
       "      <td>-0.033553</td>\n",
       "      <td>-0.108047</td>\n",
       "      <td>-0.106493</td>\n",
       "      <td>-0.096977</td>\n",
       "      <td>-0.036809</td>\n",
       "    </tr>\n",
       "    <tr>\n",
       "      <th>DU_text</th>\n",
       "      <td>0.077458</td>\n",
       "      <td>-0.089664</td>\n",
       "      <td>-0.105318</td>\n",
       "      <td>-0.232241</td>\n",
       "      <td>1.000000</td>\n",
       "      <td>0.073109</td>\n",
       "      <td>-0.032726</td>\n",
       "      <td>0.061716</td>\n",
       "      <td>0.006549</td>\n",
       "      <td>0.043887</td>\n",
       "    </tr>\n",
       "    <tr>\n",
       "      <th>ER_text</th>\n",
       "      <td>0.016948</td>\n",
       "      <td>-0.029668</td>\n",
       "      <td>0.015976</td>\n",
       "      <td>-0.033553</td>\n",
       "      <td>0.073109</td>\n",
       "      <td>1.000000</td>\n",
       "      <td>-0.153878</td>\n",
       "      <td>0.041266</td>\n",
       "      <td>-0.069616</td>\n",
       "      <td>-0.026483</td>\n",
       "    </tr>\n",
       "    <tr>\n",
       "      <th>result_text</th>\n",
       "      <td>0.441667</td>\n",
       "      <td>0.323892</td>\n",
       "      <td>0.157284</td>\n",
       "      <td>-0.108047</td>\n",
       "      <td>-0.032726</td>\n",
       "      <td>-0.153878</td>\n",
       "      <td>1.000000</td>\n",
       "      <td>-0.058038</td>\n",
       "      <td>0.006374</td>\n",
       "      <td>0.054498</td>\n",
       "    </tr>\n",
       "    <tr>\n",
       "      <th>temp</th>\n",
       "      <td>0.098507</td>\n",
       "      <td>0.045048</td>\n",
       "      <td>-0.053813</td>\n",
       "      <td>-0.106493</td>\n",
       "      <td>0.061716</td>\n",
       "      <td>0.041266</td>\n",
       "      <td>-0.058038</td>\n",
       "      <td>1.000000</td>\n",
       "      <td>-0.038184</td>\n",
       "      <td>-0.087789</td>\n",
       "    </tr>\n",
       "    <tr>\n",
       "      <th>rain</th>\n",
       "      <td>0.012369</td>\n",
       "      <td>0.044061</td>\n",
       "      <td>-0.038473</td>\n",
       "      <td>-0.096977</td>\n",
       "      <td>0.006549</td>\n",
       "      <td>-0.069616</td>\n",
       "      <td>0.006374</td>\n",
       "      <td>-0.038184</td>\n",
       "      <td>1.000000</td>\n",
       "      <td>0.148884</td>\n",
       "    </tr>\n",
       "    <tr>\n",
       "      <th>humidity</th>\n",
       "      <td>0.040848</td>\n",
       "      <td>0.105578</td>\n",
       "      <td>-0.011773</td>\n",
       "      <td>-0.036809</td>\n",
       "      <td>0.043887</td>\n",
       "      <td>-0.026483</td>\n",
       "      <td>0.054498</td>\n",
       "      <td>-0.087789</td>\n",
       "      <td>0.148884</td>\n",
       "      <td>1.000000</td>\n",
       "    </tr>\n",
       "  </tbody>\n",
       "</table>\n",
       "</div>"
      ],
      "text/plain": [
       "               H_text   HR_text    S_text   ST_text   DU_text   ER_text  \\\n",
       "H_text       1.000000  0.413537  0.205983 -0.058204  0.077458  0.016948   \n",
       "HR_text      0.413537  1.000000  0.004144  0.014554 -0.089664 -0.029668   \n",
       "S_text       0.205983  0.004144  1.000000  0.108077 -0.105318  0.015976   \n",
       "ST_text     -0.058204  0.014554  0.108077  1.000000 -0.232241 -0.033553   \n",
       "DU_text      0.077458 -0.089664 -0.105318 -0.232241  1.000000  0.073109   \n",
       "ER_text      0.016948 -0.029668  0.015976 -0.033553  0.073109  1.000000   \n",
       "result_text  0.441667  0.323892  0.157284 -0.108047 -0.032726 -0.153878   \n",
       "temp         0.098507  0.045048 -0.053813 -0.106493  0.061716  0.041266   \n",
       "rain         0.012369  0.044061 -0.038473 -0.096977  0.006549 -0.069616   \n",
       "humidity     0.040848  0.105578 -0.011773 -0.036809  0.043887 -0.026483   \n",
       "\n",
       "             result_text      temp      rain  humidity  \n",
       "H_text          0.441667  0.098507  0.012369  0.040848  \n",
       "HR_text         0.323892  0.045048  0.044061  0.105578  \n",
       "S_text          0.157284 -0.053813 -0.038473 -0.011773  \n",
       "ST_text        -0.108047 -0.106493 -0.096977 -0.036809  \n",
       "DU_text        -0.032726  0.061716  0.006549  0.043887  \n",
       "ER_text        -0.153878  0.041266 -0.069616 -0.026483  \n",
       "result_text     1.000000 -0.058038  0.006374  0.054498  \n",
       "temp           -0.058038  1.000000 -0.038184 -0.087789  \n",
       "rain            0.006374 -0.038184  1.000000  0.148884  \n",
       "humidity        0.054498 -0.087789  0.148884  1.000000  "
      ]
     },
     "execution_count": 96,
     "metadata": {},
     "output_type": "execute_result"
    }
   ],
   "source": [
    "train.corr()"
   ]
  },
  {
   "cell_type": "markdown",
   "metadata": {},
   "source": [
    "### 데이터 탐색(result_text 의 빈도가 높은 경우를 찾기)"
   ]
  },
  {
   "cell_type": "code",
   "execution_count": 97,
   "metadata": {},
   "outputs": [
    {
     "data": {
      "text/html": [
       "<div>\n",
       "<style scoped>\n",
       "    .dataframe tbody tr th:only-of-type {\n",
       "        vertical-align: middle;\n",
       "    }\n",
       "\n",
       "    .dataframe tbody tr th {\n",
       "        vertical-align: top;\n",
       "    }\n",
       "\n",
       "    .dataframe thead th {\n",
       "        text-align: right;\n",
       "    }\n",
       "</style>\n",
       "<table border=\"1\" class=\"dataframe\">\n",
       "  <thead>\n",
       "    <tr style=\"text-align: right;\">\n",
       "      <th></th>\n",
       "      <th></th>\n",
       "      <th>location</th>\n",
       "    </tr>\n",
       "    <tr>\n",
       "      <th>team_text</th>\n",
       "      <th>result_text</th>\n",
       "      <th></th>\n",
       "    </tr>\n",
       "  </thead>\n",
       "  <tbody>\n",
       "    <tr>\n",
       "      <th rowspan=\"2\" valign=\"top\">kt wiz</th>\n",
       "      <th>0</th>\n",
       "      <td>130</td>\n",
       "    </tr>\n",
       "    <tr>\n",
       "      <th>1</th>\n",
       "      <td>113</td>\n",
       "    </tr>\n",
       "  </tbody>\n",
       "</table>\n",
       "</div>"
      ],
      "text/plain": [
       "                       location\n",
       "team_text result_text          \n",
       "kt wiz    0                 130\n",
       "          1                 113"
      ]
     },
     "execution_count": 97,
     "metadata": {},
     "output_type": "execute_result"
    }
   ],
   "source": [
    "test_result = test[['team_text', 'result_text', 'location']].groupby(['team_text','result_text']).count()\n",
    "test_result"
   ]
  },
  {
   "cell_type": "markdown",
   "metadata": {},
   "source": [
    "### 온도 5도 기준으로 나눠서 시각화\n",
    "- 어느 온도에서 야구 경기가 많이 이루어졌는지 볼 수 있음"
   ]
  },
  {
   "cell_type": "code",
   "execution_count": 98,
   "metadata": {},
   "outputs": [],
   "source": [
    "bins = [1,3,9,12,15,18,21,24]  # 구간 만들기\n",
    "labels = ['5~10', '10~15', '15~20', '20~25', '25~30', '30~35', '35~40']\n",
    "train['temp'] = pd.cut(train['temp'], bins = bins, labels = labels)\n",
    "test['temp'] = pd.cut(test['temp'], bins = bins, labels = labels)\n",
    "\n",
    "#1bins = [1,3,5,9,12,15,18,21,24]  # 구간 만들기 # 1,3,5,9,12,15,18,21,24  # 5,11,16,21,26,31,36,41\n",
    "#1labels = ['5~10', '10~15', '15~20', '20~25', '25~30', '30~35', '35~40'] # 5 로 나눈것.\n",
    "\n",
    "\n",
    "# 1labels = ['5~10', '10~15', '15~20', '20~25', '25~30', '30~35', '35~40']\n",
    "\n",
    "\n",
    "\n",
    "#1train['temp'] = pd.cut(train['temp'], bins = bins, labels = labels)\n",
    "#1test['temp'] = pd.cut(test['temp'], bins = bins, labels = labels)"
   ]
  },
  {
   "cell_type": "code",
   "execution_count": 99,
   "metadata": {},
   "outputs": [
    {
     "data": {
      "text/plain": [
       "<AxesSubplot:xlabel='temp', ylabel='count'>"
      ]
     },
     "execution_count": 99,
     "metadata": {},
     "output_type": "execute_result"
    },
    {
     "data": {
      "image/png": "[encoded data removed]",
      "text/plain": [
       "<Figure size 432x288 with 1 Axes>"
      ]
     },
     "metadata": {
      "needs_background": "light"
     },
     "output_type": "display_data"
    }
   ],
   "source": [
    "sns.countplot(data = train, x = 'temp', hue='result_text')"
   ]
  },
  {
   "cell_type": "markdown",
   "metadata": {},
   "source": [
    "### 강수량 3mm 를 기준으로 나눠서 시각화"
   ]
  },
  {
   "cell_type": "code",
   "execution_count": 30,
   "metadata": {},
   "outputs": [],
   "source": [
    "bins = [0,4,7,10,13,16,19]  # 구간 만들기\n",
    "labels = ['0~3', '3~6', '6~9', '9~12', '12~15', '15~18']\n",
    "train['rain'] = pd.cut(train['rain'], bins = bins, labels = labels)\n",
    "test['rain'] = pd.cut(test['rain'], bins = bins, labels = labels)"
   ]
  },
  {
   "cell_type": "code",
   "execution_count": 37,
   "metadata": {},
   "outputs": [
    {
     "data": {
      "text/plain": [
       "<AxesSubplot:xlabel='rain', ylabel='count'>"
      ]
     },
     "execution_count": 37,
     "metadata": {},
     "output_type": "execute_result"
    },
    {
     "data": {
      "image/png": "[encoded data removed]",
      "text/plain": [
       "<Figure size 432x288 with 1 Axes>"
      ]
     },
     "metadata": {
      "needs_background": "light"
     },
     "output_type": "display_data"
    }
   ],
   "source": [
    "sns.countplot(data = train, x = 'rain', hue='result_text')"
   ]
  },
  {
   "cell_type": "markdown",
   "metadata": {},
   "source": [
    "### 습도 10% 를 기준으로 나눠서 시각화"
   ]
  },
  {
   "cell_type": "code",
   "execution_count": 61,
   "metadata": {},
   "outputs": [],
   "source": [
    "bins = [0,11,21,31,41,51,61,71,81,91,101]  # 구간 만들기\n",
    "labels = ['0~10', '10~20', '20~30', '30~40', '40~50', '50~60', '60~70', '70~80', '80~90', '90~100']\n",
    "train['humidity'] = pd.cut(train['humidity'], bins = bins, labels = labels)\n",
    "test['humidity'] = pd.cut(test['humidity'], bins = bins, labels = labels)"
   ]
  },
  {
   "cell_type": "code",
   "execution_count": 62,
   "metadata": {},
   "outputs": [
    {
     "data": {
      "text/plain": [
       "<AxesSubplot:xlabel='humidity', ylabel='count'>"
      ]
     },
     "execution_count": 62,
     "metadata": {},
     "output_type": "execute_result"
    },
    {
     "data": {
      "image/png": "[encoded data removed]",
      "text/plain": [
       "<Figure size 432x288 with 1 Axes>"
      ]
     },
     "metadata": {
      "needs_background": "light"
     },
     "output_type": "display_data"
    }
   ],
   "source": [
    "sns.countplot(data = train, x = 'humidity', hue='result_text')"
   ]
  },
  {
   "cell_type": "code",
   "execution_count": 63,
   "metadata": {},
   "outputs": [
    {
     "data": {
      "text/html": [
       "<div>\n",
       "<style scoped>\n",
       "    .dataframe tbody tr th:only-of-type {\n",
       "        vertical-align: middle;\n",
       "    }\n",
       "\n",
       "    .dataframe tbody tr th {\n",
       "        vertical-align: top;\n",
       "    }\n",
       "\n",
       "    .dataframe thead th {\n",
       "        text-align: right;\n",
       "    }\n",
       "</style>\n",
       "<table border=\"1\" class=\"dataframe\">\n",
       "  <thead>\n",
       "    <tr style=\"text-align: right;\">\n",
       "      <th></th>\n",
       "      <th></th>\n",
       "      <th></th>\n",
       "      <th>location</th>\n",
       "    </tr>\n",
       "    <tr>\n",
       "      <th>humidity</th>\n",
       "      <th>team_text</th>\n",
       "      <th>HR_text</th>\n",
       "      <th></th>\n",
       "    </tr>\n",
       "  </thead>\n",
       "  <tbody>\n",
       "    <tr>\n",
       "      <th rowspan=\"8\" valign=\"top\">0~10</th>\n",
       "      <th rowspan=\"8\" valign=\"top\">KIA 타이거즈</th>\n",
       "      <th>0</th>\n",
       "      <td>NaN</td>\n",
       "    </tr>\n",
       "    <tr>\n",
       "      <th>1</th>\n",
       "      <td>NaN</td>\n",
       "    </tr>\n",
       "    <tr>\n",
       "      <th>2</th>\n",
       "      <td>NaN</td>\n",
       "    </tr>\n",
       "    <tr>\n",
       "      <th>3</th>\n",
       "      <td>NaN</td>\n",
       "    </tr>\n",
       "    <tr>\n",
       "      <th>4</th>\n",
       "      <td>NaN</td>\n",
       "    </tr>\n",
       "    <tr>\n",
       "      <th>5</th>\n",
       "      <td>NaN</td>\n",
       "    </tr>\n",
       "    <tr>\n",
       "      <th>6</th>\n",
       "      <td>NaN</td>\n",
       "    </tr>\n",
       "    <tr>\n",
       "      <th>8</th>\n",
       "      <td>NaN</td>\n",
       "    </tr>\n",
       "    <tr>\n",
       "      <th rowspan=\"8\" valign=\"top\">10~20</th>\n",
       "      <th rowspan=\"8\" valign=\"top\">KIA 타이거즈</th>\n",
       "      <th>0</th>\n",
       "      <td>3.0</td>\n",
       "    </tr>\n",
       "    <tr>\n",
       "      <th>1</th>\n",
       "      <td>2.0</td>\n",
       "    </tr>\n",
       "    <tr>\n",
       "      <th>2</th>\n",
       "      <td>NaN</td>\n",
       "    </tr>\n",
       "    <tr>\n",
       "      <th>3</th>\n",
       "      <td>NaN</td>\n",
       "    </tr>\n",
       "    <tr>\n",
       "      <th>4</th>\n",
       "      <td>NaN</td>\n",
       "    </tr>\n",
       "    <tr>\n",
       "      <th>5</th>\n",
       "      <td>NaN</td>\n",
       "    </tr>\n",
       "    <tr>\n",
       "      <th>6</th>\n",
       "      <td>NaN</td>\n",
       "    </tr>\n",
       "    <tr>\n",
       "      <th>8</th>\n",
       "      <td>NaN</td>\n",
       "    </tr>\n",
       "    <tr>\n",
       "      <th rowspan=\"8\" valign=\"top\">20~30</th>\n",
       "      <th rowspan=\"8\" valign=\"top\">KIA 타이거즈</th>\n",
       "      <th>0</th>\n",
       "      <td>11.0</td>\n",
       "    </tr>\n",
       "    <tr>\n",
       "      <th>1</th>\n",
       "      <td>12.0</td>\n",
       "    </tr>\n",
       "    <tr>\n",
       "      <th>2</th>\n",
       "      <td>4.0</td>\n",
       "    </tr>\n",
       "    <tr>\n",
       "      <th>3</th>\n",
       "      <td>NaN</td>\n",
       "    </tr>\n",
       "    <tr>\n",
       "      <th>4</th>\n",
       "      <td>NaN</td>\n",
       "    </tr>\n",
       "    <tr>\n",
       "      <th>5</th>\n",
       "      <td>NaN</td>\n",
       "    </tr>\n",
       "    <tr>\n",
       "      <th>6</th>\n",
       "      <td>NaN</td>\n",
       "    </tr>\n",
       "    <tr>\n",
       "      <th>8</th>\n",
       "      <td>NaN</td>\n",
       "    </tr>\n",
       "    <tr>\n",
       "      <th rowspan=\"8\" valign=\"top\">30~40</th>\n",
       "      <th rowspan=\"8\" valign=\"top\">KIA 타이거즈</th>\n",
       "      <th>0</th>\n",
       "      <td>16.0</td>\n",
       "    </tr>\n",
       "    <tr>\n",
       "      <th>1</th>\n",
       "      <td>17.0</td>\n",
       "    </tr>\n",
       "    <tr>\n",
       "      <th>2</th>\n",
       "      <td>11.0</td>\n",
       "    </tr>\n",
       "    <tr>\n",
       "      <th>3</th>\n",
       "      <td>2.0</td>\n",
       "    </tr>\n",
       "    <tr>\n",
       "      <th>4</th>\n",
       "      <td>NaN</td>\n",
       "    </tr>\n",
       "    <tr>\n",
       "      <th>5</th>\n",
       "      <td>1.0</td>\n",
       "    </tr>\n",
       "    <tr>\n",
       "      <th>6</th>\n",
       "      <td>NaN</td>\n",
       "    </tr>\n",
       "    <tr>\n",
       "      <th>8</th>\n",
       "      <td>NaN</td>\n",
       "    </tr>\n",
       "    <tr>\n",
       "      <th rowspan=\"8\" valign=\"top\">40~50</th>\n",
       "      <th rowspan=\"8\" valign=\"top\">KIA 타이거즈</th>\n",
       "      <th>0</th>\n",
       "      <td>22.0</td>\n",
       "    </tr>\n",
       "    <tr>\n",
       "      <th>1</th>\n",
       "      <td>14.0</td>\n",
       "    </tr>\n",
       "    <tr>\n",
       "      <th>2</th>\n",
       "      <td>6.0</td>\n",
       "    </tr>\n",
       "    <tr>\n",
       "      <th>3</th>\n",
       "      <td>7.0</td>\n",
       "    </tr>\n",
       "    <tr>\n",
       "      <th>4</th>\n",
       "      <td>1.0</td>\n",
       "    </tr>\n",
       "    <tr>\n",
       "      <th>5</th>\n",
       "      <td>NaN</td>\n",
       "    </tr>\n",
       "    <tr>\n",
       "      <th>6</th>\n",
       "      <td>NaN</td>\n",
       "    </tr>\n",
       "    <tr>\n",
       "      <th>8</th>\n",
       "      <td>NaN</td>\n",
       "    </tr>\n",
       "    <tr>\n",
       "      <th rowspan=\"8\" valign=\"top\">50~60</th>\n",
       "      <th rowspan=\"8\" valign=\"top\">KIA 타이거즈</th>\n",
       "      <th>0</th>\n",
       "      <td>25.0</td>\n",
       "    </tr>\n",
       "    <tr>\n",
       "      <th>1</th>\n",
       "      <td>29.0</td>\n",
       "    </tr>\n",
       "    <tr>\n",
       "      <th>2</th>\n",
       "      <td>19.0</td>\n",
       "    </tr>\n",
       "    <tr>\n",
       "      <th>3</th>\n",
       "      <td>4.0</td>\n",
       "    </tr>\n",
       "    <tr>\n",
       "      <th>4</th>\n",
       "      <td>NaN</td>\n",
       "    </tr>\n",
       "    <tr>\n",
       "      <th>5</th>\n",
       "      <td>NaN</td>\n",
       "    </tr>\n",
       "    <tr>\n",
       "      <th>6</th>\n",
       "      <td>NaN</td>\n",
       "    </tr>\n",
       "    <tr>\n",
       "      <th>8</th>\n",
       "      <td>NaN</td>\n",
       "    </tr>\n",
       "    <tr>\n",
       "      <th rowspan=\"8\" valign=\"top\">60~70</th>\n",
       "      <th rowspan=\"8\" valign=\"top\">KIA 타이거즈</th>\n",
       "      <th>0</th>\n",
       "      <td>30.0</td>\n",
       "    </tr>\n",
       "    <tr>\n",
       "      <th>1</th>\n",
       "      <td>26.0</td>\n",
       "    </tr>\n",
       "    <tr>\n",
       "      <th>2</th>\n",
       "      <td>7.0</td>\n",
       "    </tr>\n",
       "    <tr>\n",
       "      <th>3</th>\n",
       "      <td>6.0</td>\n",
       "    </tr>\n",
       "    <tr>\n",
       "      <th>4</th>\n",
       "      <td>1.0</td>\n",
       "    </tr>\n",
       "    <tr>\n",
       "      <th>5</th>\n",
       "      <td>1.0</td>\n",
       "    </tr>\n",
       "    <tr>\n",
       "      <th>6</th>\n",
       "      <td>1.0</td>\n",
       "    </tr>\n",
       "    <tr>\n",
       "      <th>8</th>\n",
       "      <td>1.0</td>\n",
       "    </tr>\n",
       "    <tr>\n",
       "      <th rowspan=\"8\" valign=\"top\">70~80</th>\n",
       "      <th rowspan=\"8\" valign=\"top\">KIA 타이거즈</th>\n",
       "      <th>0</th>\n",
       "      <td>18.0</td>\n",
       "    </tr>\n",
       "    <tr>\n",
       "      <th>1</th>\n",
       "      <td>18.0</td>\n",
       "    </tr>\n",
       "    <tr>\n",
       "      <th>2</th>\n",
       "      <td>7.0</td>\n",
       "    </tr>\n",
       "    <tr>\n",
       "      <th>3</th>\n",
       "      <td>5.0</td>\n",
       "    </tr>\n",
       "    <tr>\n",
       "      <th>4</th>\n",
       "      <td>NaN</td>\n",
       "    </tr>\n",
       "    <tr>\n",
       "      <th>5</th>\n",
       "      <td>NaN</td>\n",
       "    </tr>\n",
       "    <tr>\n",
       "      <th>6</th>\n",
       "      <td>NaN</td>\n",
       "    </tr>\n",
       "    <tr>\n",
       "      <th>8</th>\n",
       "      <td>NaN</td>\n",
       "    </tr>\n",
       "    <tr>\n",
       "      <th rowspan=\"8\" valign=\"top\">80~90</th>\n",
       "      <th rowspan=\"8\" valign=\"top\">KIA 타이거즈</th>\n",
       "      <th>0</th>\n",
       "      <td>12.0</td>\n",
       "    </tr>\n",
       "    <tr>\n",
       "      <th>1</th>\n",
       "      <td>12.0</td>\n",
       "    </tr>\n",
       "    <tr>\n",
       "      <th>2</th>\n",
       "      <td>6.0</td>\n",
       "    </tr>\n",
       "    <tr>\n",
       "      <th>3</th>\n",
       "      <td>NaN</td>\n",
       "    </tr>\n",
       "    <tr>\n",
       "      <th>4</th>\n",
       "      <td>1.0</td>\n",
       "    </tr>\n",
       "    <tr>\n",
       "      <th>5</th>\n",
       "      <td>NaN</td>\n",
       "    </tr>\n",
       "    <tr>\n",
       "      <th>6</th>\n",
       "      <td>NaN</td>\n",
       "    </tr>\n",
       "    <tr>\n",
       "      <th>8</th>\n",
       "      <td>NaN</td>\n",
       "    </tr>\n",
       "    <tr>\n",
       "      <th rowspan=\"8\" valign=\"top\">90~100</th>\n",
       "      <th rowspan=\"8\" valign=\"top\">KIA 타이거즈</th>\n",
       "      <th>0</th>\n",
       "      <td>9.0</td>\n",
       "    </tr>\n",
       "    <tr>\n",
       "      <th>1</th>\n",
       "      <td>11.0</td>\n",
       "    </tr>\n",
       "    <tr>\n",
       "      <th>2</th>\n",
       "      <td>3.0</td>\n",
       "    </tr>\n",
       "    <tr>\n",
       "      <th>3</th>\n",
       "      <td>1.0</td>\n",
       "    </tr>\n",
       "    <tr>\n",
       "      <th>4</th>\n",
       "      <td>NaN</td>\n",
       "    </tr>\n",
       "    <tr>\n",
       "      <th>5</th>\n",
       "      <td>NaN</td>\n",
       "    </tr>\n",
       "    <tr>\n",
       "      <th>6</th>\n",
       "      <td>NaN</td>\n",
       "    </tr>\n",
       "    <tr>\n",
       "      <th>8</th>\n",
       "      <td>NaN</td>\n",
       "    </tr>\n",
       "  </tbody>\n",
       "</table>\n",
       "</div>"
      ],
      "text/plain": [
       "                            location\n",
       "humidity team_text HR_text          \n",
       "0~10     KIA 타이거즈  0             NaN\n",
       "                   1             NaN\n",
       "                   2             NaN\n",
       "                   3             NaN\n",
       "                   4             NaN\n",
       "                   5             NaN\n",
       "                   6             NaN\n",
       "                   8             NaN\n",
       "10~20    KIA 타이거즈  0             3.0\n",
       "                   1             2.0\n",
       "                   2             NaN\n",
       "                   3             NaN\n",
       "                   4             NaN\n",
       "                   5             NaN\n",
       "                   6             NaN\n",
       "                   8             NaN\n",
       "20~30    KIA 타이거즈  0            11.0\n",
       "                   1            12.0\n",
       "                   2             4.0\n",
       "                   3             NaN\n",
       "                   4             NaN\n",
       "                   5             NaN\n",
       "                   6             NaN\n",
       "                   8             NaN\n",
       "30~40    KIA 타이거즈  0            16.0\n",
       "                   1            17.0\n",
       "                   2            11.0\n",
       "                   3             2.0\n",
       "                   4             NaN\n",
       "                   5             1.0\n",
       "                   6             NaN\n",
       "                   8             NaN\n",
       "40~50    KIA 타이거즈  0            22.0\n",
       "                   1            14.0\n",
       "                   2             6.0\n",
       "                   3             7.0\n",
       "                   4             1.0\n",
       "                   5             NaN\n",
       "                   6             NaN\n",
       "                   8             NaN\n",
       "50~60    KIA 타이거즈  0            25.0\n",
       "                   1            29.0\n",
       "                   2            19.0\n",
       "                   3             4.0\n",
       "                   4             NaN\n",
       "                   5             NaN\n",
       "                   6             NaN\n",
       "                   8             NaN\n",
       "60~70    KIA 타이거즈  0            30.0\n",
       "                   1            26.0\n",
       "                   2             7.0\n",
       "                   3             6.0\n",
       "                   4             1.0\n",
       "                   5             1.0\n",
       "                   6             1.0\n",
       "                   8             1.0\n",
       "70~80    KIA 타이거즈  0            18.0\n",
       "                   1            18.0\n",
       "                   2             7.0\n",
       "                   3             5.0\n",
       "                   4             NaN\n",
       "                   5             NaN\n",
       "                   6             NaN\n",
       "                   8             NaN\n",
       "80~90    KIA 타이거즈  0            12.0\n",
       "                   1            12.0\n",
       "                   2             6.0\n",
       "                   3             NaN\n",
       "                   4             1.0\n",
       "                   5             NaN\n",
       "                   6             NaN\n",
       "                   8             NaN\n",
       "90~100   KIA 타이거즈  0             9.0\n",
       "                   1            11.0\n",
       "                   2             3.0\n",
       "                   3             1.0\n",
       "                   4             NaN\n",
       "                   5             NaN\n",
       "                   6             NaN\n",
       "                   8             NaN"
      ]
     },
     "execution_count": 63,
     "metadata": {},
     "output_type": "execute_result"
    }
   ],
   "source": [
    "test_result = test[['humidity', 'team_text', 'HR_text', 'location']].groupby(['humidity', 'team_text','HR_text']).count()\n",
    "test_result"
   ]
  },
  {
   "cell_type": "markdown",
   "metadata": {},
   "source": [
    "### 일단 팀 구별 없이 데이터 넣고 모델 돌려보기\n",
    "- 팀 이름 데이터와 location 데이터 drop\n",
    "\n",
    "* 위에서 부터 실행 시킬때 카테고리화 되기 때문에 데이터 다시 불러와야함"
   ]
  },
  {
   "cell_type": "code",
   "execution_count": 18,
   "metadata": {},
   "outputs": [],
   "source": [
    "train.drop('team_text', axis = 1 , inplace = True)\n",
    "test.drop('team_text', axis = 1 , inplace = True)"
   ]
  },
  {
   "cell_type": "code",
   "execution_count": 19,
   "metadata": {},
   "outputs": [],
   "source": [
    "train.drop('location', axis = 1 , inplace = True)\n",
    "test.drop('location', axis = 1 , inplace = True)"
   ]
  },
  {
   "cell_type": "code",
   "execution_count": 20,
   "metadata": {},
   "outputs": [
    {
     "name": "stdout",
     "output_type": "stream",
     "text": [
      "<class 'pandas.core.frame.DataFrame'>\n",
      "Index: 7000 entries, 4.7 to 7.7\n",
      "Data columns (total 10 columns):\n",
      " #   Column       Non-Null Count  Dtype  \n",
      "---  ------       --------------  -----  \n",
      " 0   H_text       7000 non-null   int64  \n",
      " 1   HR_text      7000 non-null   int64  \n",
      " 2   S_text       7000 non-null   int64  \n",
      " 3   ST_text      7000 non-null   int64  \n",
      " 4   DU_text      7000 non-null   int64  \n",
      " 5   ER_text      7000 non-null   int64  \n",
      " 6   result_text  7000 non-null   int64  \n",
      " 7   temp         7000 non-null   float64\n",
      " 8   rain         7000 non-null   float64\n",
      " 9   humidity     7000 non-null   float64\n",
      "dtypes: float64(3), int64(7)\n",
      "memory usage: 601.6+ KB\n"
     ]
    }
   ],
   "source": [
    "train.info()"
   ]
  },
  {
   "cell_type": "code",
   "execution_count": 21,
   "metadata": {},
   "outputs": [
    {
     "name": "stdout",
     "output_type": "stream",
     "text": [
      "<class 'pandas.core.frame.DataFrame'>\n",
      "Index: 3398 entries, 7.7 to 10.26토\n",
      "Data columns (total 10 columns):\n",
      " #   Column       Non-Null Count  Dtype  \n",
      "---  ------       --------------  -----  \n",
      " 0   H_text       3398 non-null   int64  \n",
      " 1   HR_text      3398 non-null   int64  \n",
      " 2   S_text       3398 non-null   int64  \n",
      " 3   ST_text      3398 non-null   int64  \n",
      " 4   DU_text      3398 non-null   int64  \n",
      " 5   ER_text      3398 non-null   int64  \n",
      " 6   result_text  3398 non-null   int64  \n",
      " 7   temp         3398 non-null   float64\n",
      " 8   rain         3398 non-null   float64\n",
      " 9   humidity     3398 non-null   int64  \n",
      "dtypes: float64(2), int64(8)\n",
      "memory usage: 292.0+ KB\n"
     ]
    }
   ],
   "source": [
    "test.info()"
   ]
  },
  {
   "cell_type": "markdown",
   "metadata": {},
   "source": [
    "#### train 과 test 데이터 설정"
   ]
  },
  {
   "cell_type": "code",
   "execution_count": 22,
   "metadata": {},
   "outputs": [],
   "source": [
    "y_train = train['result_text']\n",
    "X_train = train.drop('result_text', axis = 1)\n",
    "y_test = test['result_text']\n",
    "X_test = test.drop('result_text', axis = 1)"
   ]
  },
  {
   "cell_type": "markdown",
   "metadata": {},
   "source": [
    "### KNN 모델"
   ]
  },
  {
   "cell_type": "code",
   "execution_count": 23,
   "metadata": {},
   "outputs": [
    {
     "data": {
      "text/plain": [
       "array([0.67214286, 0.69785714, 0.68928571, 0.69928571, 0.67785714])"
      ]
     },
     "execution_count": 23,
     "metadata": {},
     "output_type": "execute_result"
    }
   ],
   "source": [
    "knn_model = KNeighborsClassifier(n_neighbors = 50)\n",
    "result = cross_val_score(knn_model,\n",
    "                        X_train,\n",
    "                        y_train,\n",
    "                        cv = 5)\n",
    "result"
   ]
  },
  {
   "cell_type": "code",
   "execution_count": 24,
   "metadata": {},
   "outputs": [
    {
     "data": {
      "text/plain": [
       "0.6872857142857143"
      ]
     },
     "execution_count": 24,
     "metadata": {},
     "output_type": "execute_result"
    }
   ],
   "source": [
    "result.mean()"
   ]
  },
  {
   "cell_type": "markdown",
   "metadata": {},
   "source": [
    "#### KNN Scaler 적용"
   ]
  },
  {
   "cell_type": "code",
   "execution_count": 29,
   "metadata": {},
   "outputs": [],
   "source": [
    "scaler = StandardScaler()"
   ]
  },
  {
   "cell_type": "code",
   "execution_count": 30,
   "metadata": {},
   "outputs": [
    {
     "data": {
      "text/plain": [
       "StandardScaler()"
      ]
     },
     "execution_count": 30,
     "metadata": {},
     "output_type": "execute_result"
    }
   ],
   "source": [
    "scaler.fit(X_train)  # 평균과 표준편차로 scaling 한 값을 컴퓨터가 기억"
   ]
  },
  {
   "cell_type": "code",
   "execution_count": 31,
   "metadata": {},
   "outputs": [
    {
     "data": {
      "text/plain": [
       "array([[ 0.39440379, -0.86226809,  1.10850335, ..., -2.42099129,\n",
       "        -0.06986745, -0.53554598],\n",
       "       [ 0.12547465,  0.09186985,  1.10850335, ..., -2.42099129,\n",
       "        -0.06986745, -0.53554598],\n",
       "       [-0.95024191, -0.86226809,  1.10850335, ..., -2.86576949,\n",
       "        -0.06986745, -0.88029456],\n",
       "       ...,\n",
       "       [-0.41238363, -0.86226809, -0.784987  , ...,  0.63685884,\n",
       "        -0.06986745,  1.74841335],\n",
       "       [ 0.39440379,  2.9542837 , -0.784987  , ...,  0.32180762,\n",
       "        -0.06986745,  1.70531977],\n",
       "       [-0.14345449,  0.09186985, -0.784987  , ...,  0.32180762,\n",
       "        -0.06986745,  1.70531977]])"
      ]
     },
     "execution_count": 31,
     "metadata": {},
     "output_type": "execute_result"
    }
   ],
   "source": [
    "transform_X_train = scaler.transform(X_train)\n",
    "transform_X_train"
   ]
  },
  {
   "cell_type": "code",
   "execution_count": 32,
   "metadata": {},
   "outputs": [
    {
     "data": {
      "text/plain": [
       "array([[ 1.20119121,  2.00014575, -0.784987  , ...,  0.91484522,\n",
       "        -0.06986745,  0.97272904],\n",
       "       [ 0.12547465, -0.86226809, -0.784987  , ...,  0.91484522,\n",
       "        -0.06986745,  0.97272904],\n",
       "       [ 0.39440379,  0.09186985,  0.16175818, ...,  0.50713187,\n",
       "        -0.06986745,  1.18819691],\n",
       "       ...,\n",
       "       [-1.48810019, -0.86226809, -0.784987  , ..., -1.12372154,\n",
       "        -0.06986745,  0.54179332],\n",
       "       [ 1.20119121, -0.86226809,  0.16175818, ..., -2.36539401,\n",
       "        -0.06986745,  0.1108576 ],\n",
       "       [ 0.66333293, -0.86226809, -0.784987  , ..., -2.36539401,\n",
       "        -0.06986745,  0.1108576 ]])"
      ]
     },
     "execution_count": 32,
     "metadata": {},
     "output_type": "execute_result"
    }
   ],
   "source": [
    "transform_X_test = scaler.transform(X_test)\n",
    "transform_X_test"
   ]
  },
  {
   "cell_type": "code",
   "execution_count": 33,
   "metadata": {},
   "outputs": [
    {
     "data": {
      "text/plain": [
       "array([0.72571429, 0.70857143, 0.72357143, 0.72142857, 0.71142857])"
      ]
     },
     "execution_count": 33,
     "metadata": {},
     "output_type": "execute_result"
    }
   ],
   "source": [
    "result = cross_val_score(knn_model,\n",
    "                        transform_X_train,\n",
    "                        y_train,\n",
    "                        cv = 5)\n",
    "result"
   ]
  },
  {
   "cell_type": "code",
   "execution_count": 34,
   "metadata": {},
   "outputs": [
    {
     "data": {
      "text/plain": [
       "0.7181428571428572"
      ]
     },
     "execution_count": 34,
     "metadata": {},
     "output_type": "execute_result"
    }
   ],
   "source": [
    "result.mean()"
   ]
  },
  {
   "cell_type": "markdown",
   "metadata": {},
   "source": [
    "#### KNN Scaler 적용"
   ]
  },
  {
   "cell_type": "code",
   "execution_count": 35,
   "metadata": {},
   "outputs": [],
   "source": [
    "y_pred = knn_model.fit(transform_X_train, y_train).predict(transform_X_test)"
   ]
  },
  {
   "cell_type": "code",
   "execution_count": 36,
   "metadata": {},
   "outputs": [
    {
     "name": "stdout",
     "output_type": "stream",
     "text": [
      "총 승패 갯수 3398 에서 틀린 예측 갯수 : 969\n"
     ]
    }
   ],
   "source": [
    "print(\"총 승패 갯수 %d 에서 틀린 예측 갯수 : %d\" % (transform_X_test.shape[0], (y_test != y_pred).sum()))"
   ]
  },
  {
   "cell_type": "code",
   "execution_count": 37,
   "metadata": {},
   "outputs": [
    {
     "name": "stdout",
     "output_type": "stream",
     "text": [
      "예측 정확도: 0.71\n"
     ]
    }
   ],
   "source": [
    "print(\"예측 정확도: {:.2f}\".format(np.mean(y_pred == y_test)))"
   ]
  },
  {
   "cell_type": "markdown",
   "metadata": {},
   "source": [
    "### Decision Tree 모델"
   ]
  },
  {
   "cell_type": "code",
   "execution_count": 38,
   "metadata": {},
   "outputs": [],
   "source": [
    "tree_model = DecisionTreeClassifier(max_depth = 7)"
   ]
  },
  {
   "cell_type": "code",
   "execution_count": 39,
   "metadata": {},
   "outputs": [
    {
     "data": {
      "text/plain": [
       "array([0.67857143, 0.67714286, 0.68428571, 0.66142857, 0.67571429,\n",
       "       0.70428571, 0.68428571, 0.68285714, 0.66714286, 0.71285714])"
      ]
     },
     "execution_count": 39,
     "metadata": {},
     "output_type": "execute_result"
    }
   ],
   "source": [
    "result = cross_val_score(tree_model,\n",
    "                        X_train,\n",
    "                        y_train,\n",
    "                        cv = 10)\n",
    "result"
   ]
  },
  {
   "cell_type": "code",
   "execution_count": 40,
   "metadata": {},
   "outputs": [
    {
     "data": {
      "text/plain": [
       "0.6828571428571428"
      ]
     },
     "execution_count": 40,
     "metadata": {},
     "output_type": "execute_result"
    }
   ],
   "source": [
    "result.mean()"
   ]
  },
  {
   "cell_type": "code",
   "execution_count": 41,
   "metadata": {},
   "outputs": [],
   "source": [
    "y_pred = tree_model.fit(X_train, y_train).predict(X_test)"
   ]
  },
  {
   "cell_type": "code",
   "execution_count": 42,
   "metadata": {},
   "outputs": [
    {
     "name": "stdout",
     "output_type": "stream",
     "text": [
      "총 승패 갯수 3398 에서 틀린 예측 갯수 : 1019\n"
     ]
    }
   ],
   "source": [
    "print(\"총 승패 갯수 %d 에서 틀린 예측 갯수 : %d\" % (X_test.shape[0], (y_test != y_pred).sum()))"
   ]
  },
  {
   "cell_type": "code",
   "execution_count": 43,
   "metadata": {},
   "outputs": [
    {
     "name": "stdout",
     "output_type": "stream",
     "text": [
      "예측 정확도: 0.70\n"
     ]
    }
   ],
   "source": [
    "print(\"예측 정확도: {:.2f}\".format(np.mean(y_pred == y_test)))"
   ]
  },
  {
   "cell_type": "markdown",
   "metadata": {},
   "source": [
    "### Naive Bayes 분류 모델"
   ]
  },
  {
   "cell_type": "code",
   "execution_count": 44,
   "metadata": {},
   "outputs": [],
   "source": [
    "from sklearn.naive_bayes import GaussianNB"
   ]
  },
  {
   "cell_type": "code",
   "execution_count": 45,
   "metadata": {},
   "outputs": [],
   "source": [
    "nb = GaussianNB()"
   ]
  },
  {
   "cell_type": "code",
   "execution_count": 46,
   "metadata": {},
   "outputs": [],
   "source": [
    "y_pred = nb.fit(X_train, y_train).predict(X_test)"
   ]
  },
  {
   "cell_type": "code",
   "execution_count": 47,
   "metadata": {},
   "outputs": [
    {
     "name": "stdout",
     "output_type": "stream",
     "text": [
      "총 승패 갯수 3398 에서 틀린 예측 갯수 : 1010\n"
     ]
    }
   ],
   "source": [
    "print(\"총 승패 갯수 %d 에서 틀린 예측 갯수 : %d\" % (X_test.shape[0], (y_test != y_pred).sum()))"
   ]
  },
  {
   "cell_type": "code",
   "execution_count": 48,
   "metadata": {},
   "outputs": [
    {
     "name": "stdout",
     "output_type": "stream",
     "text": [
      "예측 정확도: 0.70\n"
     ]
    }
   ],
   "source": [
    "print(\"예측 정확도: {:.2f}\".format(np.mean(y_pred == y_test)))"
   ]
  },
  {
   "cell_type": "markdown",
   "metadata": {},
   "source": [
    "### SVM 분류 모델"
   ]
  },
  {
   "cell_type": "code",
   "execution_count": 49,
   "metadata": {},
   "outputs": [],
   "source": [
    "svm_model = SVC(kernel='rbf', C=300, gamma=0.0001)"
   ]
  },
  {
   "cell_type": "code",
   "execution_count": 50,
   "metadata": {},
   "outputs": [],
   "source": [
    "y_pred = svm_model.fit(X_train, y_train).predict(X_test)"
   ]
  },
  {
   "cell_type": "code",
   "execution_count": 51,
   "metadata": {},
   "outputs": [
    {
     "name": "stdout",
     "output_type": "stream",
     "text": [
      "총 승패 갯수 3398 에서 틀린 예측 갯수 : 955\n"
     ]
    }
   ],
   "source": [
    "print(\"총 승패 갯수 %d 에서 틀린 예측 갯수 : %d\" % (X_test.shape[0], (y_test != y_pred).sum()))"
   ]
  },
  {
   "cell_type": "code",
   "execution_count": 52,
   "metadata": {},
   "outputs": [
    {
     "name": "stdout",
     "output_type": "stream",
     "text": [
      "예측 정확도: 0.72\n"
     ]
    }
   ],
   "source": [
    "print(\"예측 정확도: {:.2f}\".format(np.mean(y_pred == y_test)))"
   ]
  },
  {
   "cell_type": "markdown",
   "metadata": {},
   "source": [
    "### XGBOOST 모델"
   ]
  },
  {
   "cell_type": "code",
   "execution_count": 53,
   "metadata": {},
   "outputs": [],
   "source": [
    "from xgboost import plot_importance\n",
    "from xgboost import XGBClassifier"
   ]
  },
  {
   "cell_type": "code",
   "execution_count": 54,
   "metadata": {
    "collapsed": true
   },
   "outputs": [
    {
     "name": "stderr",
     "output_type": "stream",
     "text": [
      "C:\\Users\\smhrd\\Anaconda3\\lib\\site-packages\\xgboost\\sklearn.py:888: UserWarning: The use of label encoder in XGBClassifier is deprecated and will be removed in a future release. To remove this warning, do the following: 1) Pass option use_label_encoder=False when constructing XGBClassifier object; and 2) Encode your labels (y) as integers starting with 0, i.e. 0, 1, 2, ..., [num_class - 1].\n",
      "  warnings.warn(label_encoder_deprecation_msg, UserWarning)\n"
     ]
    },
    {
     "name": "stdout",
     "output_type": "stream",
     "text": [
      "[00:28:56] WARNING: C:/Users/Administrator/workspace/xgboost-win64_release_1.3.0/src/learner.cc:1061: Starting in XGBoost 1.3.0, the default evaluation metric used with the objective 'binary:logistic' was changed from 'error' to 'logloss'. Explicitly set eval_metric if you'd like to restore the old behavior.\n"
     ]
    }
   ],
   "source": [
    "xgb = XGBClassifier(n_estimators = 5000, learning_rate = 0.001, max_depth = 5)\n",
    "xgb.fit(X_train, y_train)\n",
    "xgb_pred = xgb.predict(X_test)"
   ]
  },
  {
   "cell_type": "code",
   "execution_count": 55,
   "metadata": {},
   "outputs": [
    {
     "name": "stdout",
     "output_type": "stream",
     "text": [
      "총 승패 갯수 3398 에서 틀린 예측 갯수 : 958\n"
     ]
    }
   ],
   "source": [
    "print(\"총 승패 갯수 %d 에서 틀린 예측 갯수 : %d\" % (X_test.shape[0], (y_test != xgb_pred).sum()))"
   ]
  },
  {
   "cell_type": "code",
   "execution_count": 56,
   "metadata": {},
   "outputs": [
    {
     "name": "stdout",
     "output_type": "stream",
     "text": [
      "예측 정확도: 0.72\n"
     ]
    }
   ],
   "source": [
    "print(\"예측 정확도: {:.2f}\".format(np.mean(xgb_pred == y_test)))"
   ]
  },
  {
   "cell_type": "code",
   "execution_count": null,
   "metadata": {},
   "outputs": [],
   "source": []
  }
 ],
 "metadata": {
  "kernelspec": {
   "display_name": "Python 3",
   "language": "python",
   "name": "python3"
  },
  "language_info": {
   "codemirror_mode": {
    "name": "ipython",
    "version": 3
   },
   "file_extension": ".py",
   "mimetype": "text/x-python",
   "name": "python",
   "nbconvert_exporter": "python",
   "pygments_lexer": "ipython3",
   "version": "3.8.5"
  }
 },
 "nbformat": 4,
 "nbformat_minor": 4
}
